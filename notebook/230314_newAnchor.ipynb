{
 "cells": [
  {
   "cell_type": "markdown",
   "id": "3f50452b-76a8-42f7-a303-6b903b3b62f4",
   "metadata": {
    "tags": []
   },
   "source": [
    "# init"
   ]
  },
  {
   "cell_type": "code",
   "execution_count": 1,
   "id": "9d057df6-e033-4b19-b3b7-6c47e0f6cce7",
   "metadata": {},
   "outputs": [
    {
     "data": {
      "image/png": "[encoded data removed]",
      "text/plain": [
       "<Figure size 1x1 with 1 Axes>"
      ]
     },
     "metadata": {},
     "output_type": "display_data"
    }
   ],
   "source": [
    "%load_ext autoreload\n",
    "%autoreload 2\n",
    "\n",
    "import pandas as pd\n",
    "import dataframe_image as dfi\n",
    "import numpy as np\n",
    "import sklearn\n",
    "import matplotlib.pyplot as plt\n",
    "import matplotlib as mpl\n",
    "import seaborn as sns\n",
    "f,a = plt.subplots(1,1,figsize=(1e-2, 1e-2))\n",
    "mpl.rcParams['figure.dpi'] = 180\n",
    "sns.set_style('darkgrid')\n",
    "import os,sys\n",
    "module_path = os.path.abspath(os.path.join('..'))\n",
    "if module_path not in sys.path:\n",
    "    sys.path.append(module_path)\n",
    "import warnings\n",
    "warnings.filterwarnings(\"ignore\")\n",
    "\n",
    "from tqdm.auto import tqdm\n",
    "from datetime import datetime as dt\n",
    "from src.utils import mkdirs, convert_path, pkl_dump, pkl_load, display_side, add_median_labels\n",
    "from src.data_processing import get_dataset, BL62_VALUES, BL62FREQ_VALUES, HLAS, AA_KEYS, get_aa_properties\n",
    "from src.metrics import get_predictions, get_roc, get_metrics, plot_roc_auc_fold, get_mean_roc_curve\n",
    "from src.metrics import get_nested_feature_importance, plot_feature_importance\n",
    "from src.partition_tools import pipeline_stratified_kfold\n",
    "from src.utils import pkl_load, pkl_dump, get_palette\n",
    "from src.bootstrap import bootstrap_eval, get_pval, plot_pval\n",
    "from src.baselines import plot_baseline_roc, plot_related_baseline_roc\n",
    "from src.models import FFNetPipeline\n",
    "\n",
    "PAL = sns.color_palette('hsv', n_colors=13)\n",
    "HSV = [PAL[-4], PAL[-1], PAL[0], PAL [4]]\n",
    "tmppal = sns.color_palette('hsv', n_colors=15)\n",
    "NEWPAL = HSV + [tmppal[-3], tmppal[7]]\n",
    "mpl.rcParams['figure.dpi'] = 180"
   ]
  },
  {
   "cell_type": "markdown",
   "id": "240fc125-5f16-40f3-9f08-55423b958661",
   "metadata": {
    "tags": []
   },
   "source": [
    "## reloading datasets"
   ]
  },
  {
   "cell_type": "code",
   "execution_count": 32,
   "id": "2f517039-b45d-43fa-8811-774e68ea1c29",
   "metadata": {
    "tags": []
   },
   "outputs": [
    {
     "data": {
      "text/html": [
       "<div>\n",
       "<style scoped>\n",
       "    .dataframe tbody tr th:only-of-type {\n",
       "        vertical-align: middle;\n",
       "    }\n",
       "\n",
       "    .dataframe tbody tr th {\n",
       "        vertical-align: top;\n",
       "    }\n",
       "\n",
       "    .dataframe thead th {\n",
       "        text-align: right;\n",
       "    }\n",
       "</style>\n",
       "<table border=\"1\" class=\"dataframe\">\n",
       "  <thead>\n",
       "    <tr style=\"text-align: right;\">\n",
       "      <th></th>\n",
       "      <th>Peptide</th>\n",
       "      <th>wild_type</th>\n",
       "      <th>HLA</th>\n",
       "      <th>agg_label</th>\n",
       "      <th>mut_len</th>\n",
       "      <th>wt_len</th>\n",
       "      <th>seq_id</th>\n",
       "      <th>Pos_mut</th>\n",
       "      <th>Peptide_mut</th>\n",
       "      <th>core_mut</th>\n",
       "      <th>...</th>\n",
       "      <th>core_blsm_mut_score</th>\n",
       "      <th>aliphatic_index</th>\n",
       "      <th>boman</th>\n",
       "      <th>hydrophobicity</th>\n",
       "      <th>isoelectric_point</th>\n",
       "      <th>VHSE1</th>\n",
       "      <th>VHSE3</th>\n",
       "      <th>VHSE7</th>\n",
       "      <th>VHSE8</th>\n",
       "      <th>trueHLA_EL_rank</th>\n",
       "    </tr>\n",
       "  </thead>\n",
       "  <tbody>\n",
       "    <tr>\n",
       "      <th>0</th>\n",
       "      <td>AFGSAHLFR</td>\n",
       "      <td>AFGSAHLYR</td>\n",
       "      <td>HLA-A3101</td>\n",
       "      <td>1</td>\n",
       "      <td>9</td>\n",
       "      <td>9</td>\n",
       "      <td>seq_1</td>\n",
       "      <td>0</td>\n",
       "      <td>AFGSAHLFR</td>\n",
       "      <td>AFGSAHLFR</td>\n",
       "      <td>...</td>\n",
       "      <td>3</td>\n",
       "      <td>65.555556</td>\n",
       "      <td>0.837778</td>\n",
       "      <td>0.455556</td>\n",
       "      <td>10.551759</td>\n",
       "      <td>0.214444</td>\n",
       "      <td>-0.278889</td>\n",
       "      <td>0.193333</td>\n",
       "      <td>-0.192222</td>\n",
       "      <td>0.2470</td>\n",
       "    </tr>\n",
       "    <tr>\n",
       "      <th>1</th>\n",
       "      <td>AIANRIKFK</td>\n",
       "      <td>AIANRIKSK</td>\n",
       "      <td>HLA-A1101</td>\n",
       "      <td>0</td>\n",
       "      <td>9</td>\n",
       "      <td>9</td>\n",
       "      <td>seq_4</td>\n",
       "      <td>0</td>\n",
       "      <td>AIANRIKFK</td>\n",
       "      <td>AIANRIKFK</td>\n",
       "      <td>...</td>\n",
       "      <td>-2</td>\n",
       "      <td>108.888889</td>\n",
       "      <td>1.802222</td>\n",
       "      <td>-0.044444</td>\n",
       "      <td>11.823055</td>\n",
       "      <td>-0.048889</td>\n",
       "      <td>0.125556</td>\n",
       "      <td>0.484444</td>\n",
       "      <td>-0.125556</td>\n",
       "      <td>0.1380</td>\n",
       "    </tr>\n",
       "    <tr>\n",
       "      <th>2</th>\n",
       "      <td>AICKPLHYV</td>\n",
       "      <td>AICKPLHYM</td>\n",
       "      <td>HLA-A0201</td>\n",
       "      <td>0</td>\n",
       "      <td>9</td>\n",
       "      <td>9</td>\n",
       "      <td>seq_5</td>\n",
       "      <td>0</td>\n",
       "      <td>AICKPLHYV</td>\n",
       "      <td>AICKPLHYV</td>\n",
       "      <td>...</td>\n",
       "      <td>1</td>\n",
       "      <td>130.000000</td>\n",
       "      <td>-0.735556</td>\n",
       "      <td>0.755556</td>\n",
       "      <td>8.530526</td>\n",
       "      <td>0.327778</td>\n",
       "      <td>0.046667</td>\n",
       "      <td>-0.017778</td>\n",
       "      <td>0.263333</td>\n",
       "      <td>0.3610</td>\n",
       "    </tr>\n",
       "    <tr>\n",
       "      <th>3</th>\n",
       "      <td>AIPAMVVPNV</td>\n",
       "      <td>AIPAMVVPNA</td>\n",
       "      <td>HLA-A0201</td>\n",
       "      <td>0</td>\n",
       "      <td>10</td>\n",
       "      <td>10</td>\n",
       "      <td>seq_6</td>\n",
       "      <td>0</td>\n",
       "      <td>AIPAMVVPNV</td>\n",
       "      <td>AIPAVVPNV</td>\n",
       "      <td>...</td>\n",
       "      <td>0</td>\n",
       "      <td>146.000000</td>\n",
       "      <td>-1.637000</td>\n",
       "      <td>1.590000</td>\n",
       "      <td>6.100000</td>\n",
       "      <td>0.431000</td>\n",
       "      <td>-0.385000</td>\n",
       "      <td>-0.067000</td>\n",
       "      <td>0.446000</td>\n",
       "      <td>2.2606</td>\n",
       "    </tr>\n",
       "    <tr>\n",
       "      <th>4</th>\n",
       "      <td>ALEVLQSIPY</td>\n",
       "      <td>APEVLQSIPY</td>\n",
       "      <td>HLA-A0101</td>\n",
       "      <td>0</td>\n",
       "      <td>10</td>\n",
       "      <td>10</td>\n",
       "      <td>seq_7</td>\n",
       "      <td>0</td>\n",
       "      <td>ALEVLQSIPY</td>\n",
       "      <td>ALEVLQSIY</td>\n",
       "      <td>...</td>\n",
       "      <td>-3</td>\n",
       "      <td>156.000000</td>\n",
       "      <td>-0.472000</td>\n",
       "      <td>0.740000</td>\n",
       "      <td>3.849983</td>\n",
       "      <td>0.292000</td>\n",
       "      <td>-0.062000</td>\n",
       "      <td>-0.096000</td>\n",
       "      <td>0.088000</td>\n",
       "      <td>0.6230</td>\n",
       "    </tr>\n",
       "  </tbody>\n",
       "</table>\n",
       "<p>5 rows × 39 columns</p>\n",
       "</div>"
      ],
      "text/plain": [
       "      Peptide   wild_type        HLA  agg_label  mut_len  wt_len seq_id  \\\n",
       "0   AFGSAHLFR   AFGSAHLYR  HLA-A3101          1        9       9  seq_1   \n",
       "1   AIANRIKFK   AIANRIKSK  HLA-A1101          0        9       9  seq_4   \n",
       "2   AICKPLHYV   AICKPLHYM  HLA-A0201          0        9       9  seq_5   \n",
       "3  AIPAMVVPNV  AIPAMVVPNA  HLA-A0201          0       10      10  seq_6   \n",
       "4  ALEVLQSIPY  APEVLQSIPY  HLA-A0101          0       10      10  seq_7   \n",
       "\n",
       "   Pos_mut Peptide_mut   core_mut  ... core_blsm_mut_score  aliphatic_index  \\\n",
       "0        0   AFGSAHLFR  AFGSAHLFR  ...                   3        65.555556   \n",
       "1        0   AIANRIKFK  AIANRIKFK  ...                  -2       108.888889   \n",
       "2        0   AICKPLHYV  AICKPLHYV  ...                   1       130.000000   \n",
       "3        0  AIPAMVVPNV  AIPAVVPNV  ...                   0       146.000000   \n",
       "4        0  ALEVLQSIPY  ALEVLQSIY  ...                  -3       156.000000   \n",
       "\n",
       "      boman hydrophobicity isoelectric_point     VHSE1     VHSE3     VHSE7  \\\n",
       "0  0.837778       0.455556         10.551759  0.214444 -0.278889  0.193333   \n",
       "1  1.802222      -0.044444         11.823055 -0.048889  0.125556  0.484444   \n",
       "2 -0.735556       0.755556          8.530526  0.327778  0.046667 -0.017778   \n",
       "3 -1.637000       1.590000          6.100000  0.431000 -0.385000 -0.067000   \n",
       "4 -0.472000       0.740000          3.849983  0.292000 -0.062000 -0.096000   \n",
       "\n",
       "      VHSE8  trueHLA_EL_rank  \n",
       "0 -0.192222           0.2470  \n",
       "1 -0.125556           0.1380  \n",
       "2  0.263333           0.3610  \n",
       "3  0.446000           2.2606  \n",
       "4  0.088000           0.6230  \n",
       "\n",
       "[5 rows x 39 columns]"
      ]
     },
     "execution_count": 32,
     "metadata": {},
     "output_type": "execute_result"
    }
   ],
   "source": [
    "cedar_related = pd.read_csv('../data/mutant/221028_cedar_related_newcore_fold.csv')\n",
    "prime_related = pd.read_csv('../data/mutant/221119_prime_related_10fold.csv')\n",
    "ibel = pd.read_csv('../data/mutant/221117_ibel_merged_fold.csv')\n",
    "# merged = pd.read_csv('../data/mutant/221112_cedar_prime_merged_fold.csv')\n",
    "nepdb = pd.read_csv('../data/mutant/230124_nepdb_filtered_scored.csv')\n",
    "nepdb.head()"
   ]
  },
  {
   "cell_type": "code",
   "execution_count": 33,
   "id": "180cb84e-941d-4228-82e5-d56c7b136eed",
   "metadata": {},
   "outputs": [],
   "source": [
    "cedar_aligned = pd.read_csv('../data/aligned_icore/230125_cedar_aligned_icore.csv')\n",
    "prime_aligned = pd.read_csv('../data/aligned_icore/230125_prime_aligned_icore.csv')\n",
    "ibel_aligned = pd.read_csv('../data/aligned_icore/230125_ibel_aligned_icore.csv')\n",
    "nepdb_aligned = pd.read_csv('../data/aligned_icore/230125_nepdb_aligned_icore.csv')"
   ]
  },
  {
   "cell_type": "code",
   "execution_count": 4,
   "id": "d8596a14-643b-42d2-8564-f3896566f5d0",
   "metadata": {},
   "outputs": [],
   "source": [
    "cedar_expr = pd.read_csv('../data/pepx/230125_cedar_related_pepx_fold.csv')\n",
    "prime_expr = pd.read_csv('../data/pepx/230125_prime_related_pepx.csv')\n",
    "ibel_expr = pd.read_csv('../data/pepx/230125_ibel_normal_pepx.csv')\n",
    "nepdb_expr = pd.read_csv('../data/pepx/230125_nepdb_normal_pepx.csv')"
   ]
  },
  {
   "cell_type": "code",
   "execution_count": 5,
   "id": "1dc90d5d-7381-4a3a-b554-312a897803ea",
   "metadata": {},
   "outputs": [],
   "source": [
    "cedar_aligned_expr = pd.read_csv('../data/pepx/230125_cedar_aligned_pepx_fold.csv')\n",
    "prime_aligned_expr = pd.read_csv('../data/pepx/230125_prime_aligned_pepx.csv')\n",
    "ibel_aligned_expr = pd.read_csv('../data/pepx/230125_ibel_aligned_pepx.csv')\n",
    "nepdb_aligned_expr = pd.read_csv('../data/pepx/230125_nepdb_aligned_pepx.csv')"
   ]
  },
  {
   "cell_type": "code",
   "execution_count": 6,
   "id": "91c1f444-2424-459d-be28-e09c89589b7e",
   "metadata": {},
   "outputs": [],
   "source": [
    "# ICS DICT\n",
    "ics_kl = pkl_load('../data/ic_dicts/ics_kl.pkl')\n",
    "ics_shannon = pkl_load('../data/ic_dicts/ics_shannon.pkl')\n",
    "\n",
    "MAPPING= {'RandomForestClassifier': 'RF',\n",
    "          'LogisticRegression': 'LogReg',\n",
    "          'XGBClassifier': 'XGB',\n",
    "          'FFN': 'FFN'}"
   ]
  },
  {
   "cell_type": "markdown",
   "id": "6318b64f-3eb2-4350-91ee-be196e8c4798",
   "metadata": {
    "jp-MarkdownHeadingCollapsed": true,
    "tags": []
   },
   "source": [
    "# Redef data processing fct"
   ]
  },
  {
   "cell_type": "code",
   "execution_count": 34,
   "id": "9e39472a-d127-422c-97e1-fc5652cd5f5a",
   "metadata": {},
   "outputs": [
    {
     "data": {
      "text/plain": [
       "array([9])"
      ]
     },
     "execution_count": 34,
     "metadata": {},
     "output_type": "execute_result"
    }
   ],
   "source": [
    "cedar_aligned['len_core_mut'] = cedar_aligned['core_mut'].apply(len)\n",
    "cedar_aligned.len_core_mut.unique()"
   ]
  },
  {
   "cell_type": "code",
   "execution_count": 35,
   "id": "81c258f7-9fa9-48dd-9c2a-010a5cb9e705",
   "metadata": {},
   "outputs": [],
   "source": [
    "cedar_aligned['CoreNotAA'] = cedar_aligned['core_mut'].apply(lambda x: any([z not in AA_KEYS for z in x]))\n",
    "cedar_aligned['n-'] = cedar_aligned['core_mut'].apply(lambda x: x.count('-'))\n",
    "cedar_aligned['core_eq'] = cedar_aligned['core_wt_aligned']==cedar_aligned['core_mut']\n",
    "cedar_aligned['icore_eq'] = cedar_aligned['icore_wt_aligned']==cedar_aligned['icore_mut']"
   ]
  },
  {
   "cell_type": "code",
   "execution_count": 49,
   "id": "4d009a80-51bc-4bc7-b95d-6f6ad0fb0a66",
   "metadata": {},
   "outputs": [
    {
     "data": {
      "text/html": [
       "<div>\n",
       "<style scoped>\n",
       "    .dataframe tbody tr th:only-of-type {\n",
       "        vertical-align: middle;\n",
       "    }\n",
       "\n",
       "    .dataframe tbody tr th {\n",
       "        vertical-align: top;\n",
       "    }\n",
       "\n",
       "    .dataframe thead th {\n",
       "        text-align: right;\n",
       "    }\n",
       "</style>\n",
       "<table border=\"1\" class=\"dataframe\">\n",
       "  <thead>\n",
       "    <tr style=\"text-align: right;\">\n",
       "      <th></th>\n",
       "      <th></th>\n",
       "      <th></th>\n",
       "      <th></th>\n",
       "      <th>HLA</th>\n",
       "      <th>agg_label</th>\n",
       "      <th>fold</th>\n",
       "      <th>Peptide</th>\n",
       "      <th>wild_type</th>\n",
       "      <th>icore_mut</th>\n",
       "      <th>core_mut</th>\n",
       "      <th>len</th>\n",
       "      <th>EL_rank_mut</th>\n",
       "      <th>EL_rank_wt</th>\n",
       "      <th>...</th>\n",
       "      <th>isoelectric_point</th>\n",
       "      <th>VHSE1</th>\n",
       "      <th>VHSE3</th>\n",
       "      <th>VHSE7</th>\n",
       "      <th>VHSE8</th>\n",
       "      <th>seq_id</th>\n",
       "      <th>core_wt_aligned</th>\n",
       "      <th>EL_rank_wt_aligned</th>\n",
       "      <th>len_core_mut</th>\n",
       "      <th>n-</th>\n",
       "    </tr>\n",
       "    <tr>\n",
       "      <th>icore_eq</th>\n",
       "      <th>core_eq</th>\n",
       "      <th>CoreNotAA</th>\n",
       "      <th>len_icore_mut</th>\n",
       "      <th></th>\n",
       "      <th></th>\n",
       "      <th></th>\n",
       "      <th></th>\n",
       "      <th></th>\n",
       "      <th></th>\n",
       "      <th></th>\n",
       "      <th></th>\n",
       "      <th></th>\n",
       "      <th></th>\n",
       "      <th></th>\n",
       "      <th></th>\n",
       "      <th></th>\n",
       "      <th></th>\n",
       "      <th></th>\n",
       "      <th></th>\n",
       "      <th></th>\n",
       "      <th></th>\n",
       "      <th></th>\n",
       "      <th></th>\n",
       "      <th></th>\n",
       "    </tr>\n",
       "  </thead>\n",
       "  <tbody>\n",
       "    <tr>\n",
       "      <th rowspan=\"7\" valign=\"top\">False</th>\n",
       "      <th rowspan=\"5\" valign=\"top\">False</th>\n",
       "      <th rowspan=\"4\" valign=\"top\">False</th>\n",
       "      <th>9</th>\n",
       "      <td>2067</td>\n",
       "      <td>2067</td>\n",
       "      <td>2067</td>\n",
       "      <td>2067</td>\n",
       "      <td>2067</td>\n",
       "      <td>2067</td>\n",
       "      <td>2067</td>\n",
       "      <td>2067</td>\n",
       "      <td>2067</td>\n",
       "      <td>2067</td>\n",
       "      <td>...</td>\n",
       "      <td>2067</td>\n",
       "      <td>2067</td>\n",
       "      <td>2067</td>\n",
       "      <td>2067</td>\n",
       "      <td>2067</td>\n",
       "      <td>2067</td>\n",
       "      <td>2067</td>\n",
       "      <td>2067</td>\n",
       "      <td>2067</td>\n",
       "      <td>2067</td>\n",
       "    </tr>\n",
       "    <tr>\n",
       "      <th>10</th>\n",
       "      <td>485</td>\n",
       "      <td>485</td>\n",
       "      <td>485</td>\n",
       "      <td>485</td>\n",
       "      <td>485</td>\n",
       "      <td>485</td>\n",
       "      <td>485</td>\n",
       "      <td>485</td>\n",
       "      <td>485</td>\n",
       "      <td>485</td>\n",
       "      <td>...</td>\n",
       "      <td>485</td>\n",
       "      <td>485</td>\n",
       "      <td>485</td>\n",
       "      <td>485</td>\n",
       "      <td>485</td>\n",
       "      <td>485</td>\n",
       "      <td>485</td>\n",
       "      <td>485</td>\n",
       "      <td>485</td>\n",
       "      <td>485</td>\n",
       "    </tr>\n",
       "    <tr>\n",
       "      <th>11</th>\n",
       "      <td>207</td>\n",
       "      <td>207</td>\n",
       "      <td>207</td>\n",
       "      <td>207</td>\n",
       "      <td>207</td>\n",
       "      <td>207</td>\n",
       "      <td>207</td>\n",
       "      <td>207</td>\n",
       "      <td>207</td>\n",
       "      <td>207</td>\n",
       "      <td>...</td>\n",
       "      <td>207</td>\n",
       "      <td>207</td>\n",
       "      <td>207</td>\n",
       "      <td>207</td>\n",
       "      <td>207</td>\n",
       "      <td>207</td>\n",
       "      <td>207</td>\n",
       "      <td>207</td>\n",
       "      <td>207</td>\n",
       "      <td>207</td>\n",
       "    </tr>\n",
       "    <tr>\n",
       "      <th>12</th>\n",
       "      <td>1</td>\n",
       "      <td>1</td>\n",
       "      <td>1</td>\n",
       "      <td>1</td>\n",
       "      <td>1</td>\n",
       "      <td>1</td>\n",
       "      <td>1</td>\n",
       "      <td>1</td>\n",
       "      <td>1</td>\n",
       "      <td>1</td>\n",
       "      <td>...</td>\n",
       "      <td>1</td>\n",
       "      <td>1</td>\n",
       "      <td>1</td>\n",
       "      <td>1</td>\n",
       "      <td>1</td>\n",
       "      <td>1</td>\n",
       "      <td>1</td>\n",
       "      <td>1</td>\n",
       "      <td>1</td>\n",
       "      <td>1</td>\n",
       "    </tr>\n",
       "    <tr>\n",
       "      <th>True</th>\n",
       "      <th>8</th>\n",
       "      <td>99</td>\n",
       "      <td>99</td>\n",
       "      <td>99</td>\n",
       "      <td>99</td>\n",
       "      <td>99</td>\n",
       "      <td>99</td>\n",
       "      <td>99</td>\n",
       "      <td>99</td>\n",
       "      <td>99</td>\n",
       "      <td>99</td>\n",
       "      <td>...</td>\n",
       "      <td>99</td>\n",
       "      <td>99</td>\n",
       "      <td>99</td>\n",
       "      <td>99</td>\n",
       "      <td>99</td>\n",
       "      <td>99</td>\n",
       "      <td>99</td>\n",
       "      <td>99</td>\n",
       "      <td>99</td>\n",
       "      <td>99</td>\n",
       "    </tr>\n",
       "    <tr>\n",
       "      <th rowspan=\"2\" valign=\"top\">True</th>\n",
       "      <th rowspan=\"2\" valign=\"top\">False</th>\n",
       "      <th>10</th>\n",
       "      <td>29</td>\n",
       "      <td>29</td>\n",
       "      <td>29</td>\n",
       "      <td>29</td>\n",
       "      <td>29</td>\n",
       "      <td>29</td>\n",
       "      <td>29</td>\n",
       "      <td>29</td>\n",
       "      <td>29</td>\n",
       "      <td>29</td>\n",
       "      <td>...</td>\n",
       "      <td>29</td>\n",
       "      <td>29</td>\n",
       "      <td>29</td>\n",
       "      <td>29</td>\n",
       "      <td>29</td>\n",
       "      <td>29</td>\n",
       "      <td>29</td>\n",
       "      <td>29</td>\n",
       "      <td>29</td>\n",
       "      <td>29</td>\n",
       "    </tr>\n",
       "    <tr>\n",
       "      <th>11</th>\n",
       "      <td>29</td>\n",
       "      <td>29</td>\n",
       "      <td>29</td>\n",
       "      <td>29</td>\n",
       "      <td>29</td>\n",
       "      <td>29</td>\n",
       "      <td>29</td>\n",
       "      <td>29</td>\n",
       "      <td>29</td>\n",
       "      <td>29</td>\n",
       "      <td>...</td>\n",
       "      <td>29</td>\n",
       "      <td>29</td>\n",
       "      <td>29</td>\n",
       "      <td>29</td>\n",
       "      <td>29</td>\n",
       "      <td>29</td>\n",
       "      <td>29</td>\n",
       "      <td>29</td>\n",
       "      <td>29</td>\n",
       "      <td>29</td>\n",
       "    </tr>\n",
       "    <tr>\n",
       "      <th rowspan=\"3\" valign=\"top\">True</th>\n",
       "      <th rowspan=\"3\" valign=\"top\">True</th>\n",
       "      <th rowspan=\"2\" valign=\"top\">False</th>\n",
       "      <th>9</th>\n",
       "      <td>79</td>\n",
       "      <td>79</td>\n",
       "      <td>79</td>\n",
       "      <td>79</td>\n",
       "      <td>79</td>\n",
       "      <td>79</td>\n",
       "      <td>79</td>\n",
       "      <td>79</td>\n",
       "      <td>79</td>\n",
       "      <td>79</td>\n",
       "      <td>...</td>\n",
       "      <td>79</td>\n",
       "      <td>79</td>\n",
       "      <td>79</td>\n",
       "      <td>79</td>\n",
       "      <td>79</td>\n",
       "      <td>79</td>\n",
       "      <td>79</td>\n",
       "      <td>79</td>\n",
       "      <td>79</td>\n",
       "      <td>79</td>\n",
       "    </tr>\n",
       "    <tr>\n",
       "      <th>10</th>\n",
       "      <td>11</td>\n",
       "      <td>11</td>\n",
       "      <td>11</td>\n",
       "      <td>11</td>\n",
       "      <td>11</td>\n",
       "      <td>11</td>\n",
       "      <td>11</td>\n",
       "      <td>11</td>\n",
       "      <td>11</td>\n",
       "      <td>11</td>\n",
       "      <td>...</td>\n",
       "      <td>11</td>\n",
       "      <td>11</td>\n",
       "      <td>11</td>\n",
       "      <td>11</td>\n",
       "      <td>11</td>\n",
       "      <td>11</td>\n",
       "      <td>11</td>\n",
       "      <td>11</td>\n",
       "      <td>11</td>\n",
       "      <td>11</td>\n",
       "    </tr>\n",
       "    <tr>\n",
       "      <th>True</th>\n",
       "      <th>8</th>\n",
       "      <td>26</td>\n",
       "      <td>26</td>\n",
       "      <td>26</td>\n",
       "      <td>26</td>\n",
       "      <td>26</td>\n",
       "      <td>26</td>\n",
       "      <td>26</td>\n",
       "      <td>26</td>\n",
       "      <td>26</td>\n",
       "      <td>26</td>\n",
       "      <td>...</td>\n",
       "      <td>26</td>\n",
       "      <td>26</td>\n",
       "      <td>26</td>\n",
       "      <td>26</td>\n",
       "      <td>26</td>\n",
       "      <td>26</td>\n",
       "      <td>26</td>\n",
       "      <td>26</td>\n",
       "      <td>26</td>\n",
       "      <td>26</td>\n",
       "    </tr>\n",
       "  </tbody>\n",
       "</table>\n",
       "<p>10 rows × 34 columns</p>\n",
       "</div>"
      ],
      "text/plain": [
       "                                           HLA  agg_label  fold  Peptide  \\\n",
       "icore_eq core_eq CoreNotAA len_icore_mut                                   \n",
       "False    False   False     9              2067       2067  2067     2067   \n",
       "                           10              485        485   485      485   \n",
       "                           11              207        207   207      207   \n",
       "                           12                1          1     1        1   \n",
       "                 True      8                99         99    99       99   \n",
       "         True    False     10               29         29    29       29   \n",
       "                           11               29         29    29       29   \n",
       "True     True    False     9                79         79    79       79   \n",
       "                           10               11         11    11       11   \n",
       "                 True      8                26         26    26       26   \n",
       "\n",
       "                                          wild_type  icore_mut  core_mut  \\\n",
       "icore_eq core_eq CoreNotAA len_icore_mut                                   \n",
       "False    False   False     9                   2067       2067      2067   \n",
       "                           10                   485        485       485   \n",
       "                           11                   207        207       207   \n",
       "                           12                     1          1         1   \n",
       "                 True      8                     99         99        99   \n",
       "         True    False     10                    29         29        29   \n",
       "                           11                    29         29        29   \n",
       "True     True    False     9                     79         79        79   \n",
       "                           10                    11         11        11   \n",
       "                 True      8                     26         26        26   \n",
       "\n",
       "                                           len  EL_rank_mut  EL_rank_wt  ...  \\\n",
       "icore_eq core_eq CoreNotAA len_icore_mut                                 ...   \n",
       "False    False   False     9              2067         2067        2067  ...   \n",
       "                           10              485          485         485  ...   \n",
       "                           11              207          207         207  ...   \n",
       "                           12                1            1           1  ...   \n",
       "                 True      8                99           99          99  ...   \n",
       "         True    False     10               29           29          29  ...   \n",
       "                           11               29           29          29  ...   \n",
       "True     True    False     9                79           79          79  ...   \n",
       "                           10               11           11          11  ...   \n",
       "                 True      8                26           26          26  ...   \n",
       "\n",
       "                                          isoelectric_point  VHSE1  VHSE3  \\\n",
       "icore_eq core_eq CoreNotAA len_icore_mut                                    \n",
       "False    False   False     9                           2067   2067   2067   \n",
       "                           10                           485    485    485   \n",
       "                           11                           207    207    207   \n",
       "                           12                             1      1      1   \n",
       "                 True      8                             99     99     99   \n",
       "         True    False     10                            29     29     29   \n",
       "                           11                            29     29     29   \n",
       "True     True    False     9                             79     79     79   \n",
       "                           10                            11     11     11   \n",
       "                 True      8                             26     26     26   \n",
       "\n",
       "                                          VHSE7  VHSE8  seq_id  \\\n",
       "icore_eq core_eq CoreNotAA len_icore_mut                         \n",
       "False    False   False     9               2067   2067    2067   \n",
       "                           10               485    485     485   \n",
       "                           11               207    207     207   \n",
       "                           12                 1      1       1   \n",
       "                 True      8                 99     99      99   \n",
       "         True    False     10                29     29      29   \n",
       "                           11                29     29      29   \n",
       "True     True    False     9                 79     79      79   \n",
       "                           10                11     11      11   \n",
       "                 True      8                 26     26      26   \n",
       "\n",
       "                                          core_wt_aligned  EL_rank_wt_aligned  \\\n",
       "icore_eq core_eq CoreNotAA len_icore_mut                                        \n",
       "False    False   False     9                         2067                2067   \n",
       "                           10                         485                 485   \n",
       "                           11                         207                 207   \n",
       "                           12                           1                   1   \n",
       "                 True      8                           99                  99   \n",
       "         True    False     10                          29                  29   \n",
       "                           11                          29                  29   \n",
       "True     True    False     9                           79                  79   \n",
       "                           10                          11                  11   \n",
       "                 True      8                           26                  26   \n",
       "\n",
       "                                          len_core_mut    n-  \n",
       "icore_eq core_eq CoreNotAA len_icore_mut                      \n",
       "False    False   False     9                      2067  2067  \n",
       "                           10                      485   485  \n",
       "                           11                      207   207  \n",
       "                           12                        1     1  \n",
       "                 True      8                        99    99  \n",
       "         True    False     10                       29    29  \n",
       "                           11                       29    29  \n",
       "True     True    False     9                        79    79  \n",
       "                           10                       11    11  \n",
       "                 True      8                        26    26  \n",
       "\n",
       "[10 rows x 34 columns]"
      ]
     },
     "execution_count": 49,
     "metadata": {},
     "output_type": "execute_result"
    }
   ],
   "source": [
    "cedar_aligned.groupby(['icore_eq', 'core_eq','CoreNotAA', 'len_icore_mut']).count()"
   ]
  },
  {
   "cell_type": "code",
   "execution_count": 52,
   "id": "32a2a806-8e51-4ba0-b27e-9dadad264f54",
   "metadata": {},
   "outputs": [
    {
     "data": {
      "text/html": [
       "<div>\n",
       "<style scoped>\n",
       "    .dataframe tbody tr th:only-of-type {\n",
       "        vertical-align: middle;\n",
       "    }\n",
       "\n",
       "    .dataframe tbody tr th {\n",
       "        vertical-align: top;\n",
       "    }\n",
       "\n",
       "    .dataframe thead th {\n",
       "        text-align: right;\n",
       "    }\n",
       "</style>\n",
       "<table border=\"1\" class=\"dataframe\">\n",
       "  <thead>\n",
       "    <tr style=\"text-align: right;\">\n",
       "      <th></th>\n",
       "      <th>HLA</th>\n",
       "      <th>agg_label</th>\n",
       "      <th>Peptide</th>\n",
       "      <th>icore_mut</th>\n",
       "      <th>core_mut</th>\n",
       "      <th>wild_type</th>\n",
       "      <th>icore_wt_aligned</th>\n",
       "      <th>core_wt_aligned</th>\n",
       "      <th>icore_eq</th>\n",
       "      <th>core_eq</th>\n",
       "    </tr>\n",
       "  </thead>\n",
       "  <tbody>\n",
       "    <tr>\n",
       "      <th>5</th>\n",
       "      <td>HLA-B0702</td>\n",
       "      <td>0</td>\n",
       "      <td>AALHTPRPGPL</td>\n",
       "      <td>ALHTPRPGPL</td>\n",
       "      <td>ALHTPRPPL</td>\n",
       "      <td>AALHNPRPGPL</td>\n",
       "      <td>ALHNPRPGPL</td>\n",
       "      <td>ALHNPRPPL</td>\n",
       "      <td>False</td>\n",
       "      <td>False</td>\n",
       "    </tr>\n",
       "    <tr>\n",
       "      <th>13</th>\n",
       "      <td>HLA-A1101</td>\n",
       "      <td>0</td>\n",
       "      <td>AAYQRLTSEK</td>\n",
       "      <td>AAYQRLTSEK</td>\n",
       "      <td>AAYQLTSEK</td>\n",
       "      <td>AAYQQLTSEK</td>\n",
       "      <td>AAYQQLTSEK</td>\n",
       "      <td>AAYQQLTSK</td>\n",
       "      <td>False</td>\n",
       "      <td>False</td>\n",
       "    </tr>\n",
       "    <tr>\n",
       "      <th>20</th>\n",
       "      <td>HLA-B4403</td>\n",
       "      <td>0</td>\n",
       "      <td>AEVDQDGVVM</td>\n",
       "      <td>AEVDQDGVVM</td>\n",
       "      <td>AEVDQGVVM</td>\n",
       "      <td>AEVDEDGVVM</td>\n",
       "      <td>AEVDEDGVVM</td>\n",
       "      <td>AEVDEGVVM</td>\n",
       "      <td>False</td>\n",
       "      <td>False</td>\n",
       "    </tr>\n",
       "    <tr>\n",
       "      <th>22</th>\n",
       "      <td>HLA-A6801</td>\n",
       "      <td>0</td>\n",
       "      <td>AEWRNGSTSSL</td>\n",
       "      <td>EWRNGSTSSL</td>\n",
       "      <td>EWNGSTSSL</td>\n",
       "      <td>PEWRNGSTSSL</td>\n",
       "      <td>EWRNGSTSSL</td>\n",
       "      <td>EWNGSTSSL</td>\n",
       "      <td>True</td>\n",
       "      <td>True</td>\n",
       "    </tr>\n",
       "    <tr>\n",
       "      <th>23</th>\n",
       "      <td>HLA-A2402</td>\n",
       "      <td>0</td>\n",
       "      <td>AFLSTHLKLFL</td>\n",
       "      <td>AFLSTHLKLF</td>\n",
       "      <td>AFLSTHLLF</td>\n",
       "      <td>AFLSTHLKLFP</td>\n",
       "      <td>AFLSTHLKLF</td>\n",
       "      <td>AFLSTHLLF</td>\n",
       "      <td>True</td>\n",
       "      <td>True</td>\n",
       "    </tr>\n",
       "    <tr>\n",
       "      <th>...</th>\n",
       "      <td>...</td>\n",
       "      <td>...</td>\n",
       "      <td>...</td>\n",
       "      <td>...</td>\n",
       "      <td>...</td>\n",
       "      <td>...</td>\n",
       "      <td>...</td>\n",
       "      <td>...</td>\n",
       "      <td>...</td>\n",
       "      <td>...</td>\n",
       "    </tr>\n",
       "    <tr>\n",
       "      <th>3009</th>\n",
       "      <td>HLA-A0201</td>\n",
       "      <td>0</td>\n",
       "      <td>YVARGGSMGV</td>\n",
       "      <td>YVARGGSMGV</td>\n",
       "      <td>YVAGGSMGV</td>\n",
       "      <td>YVARGGPMGV</td>\n",
       "      <td>YVARGGPMGV</td>\n",
       "      <td>YVAGGPMGV</td>\n",
       "      <td>False</td>\n",
       "      <td>False</td>\n",
       "    </tr>\n",
       "    <tr>\n",
       "      <th>3010</th>\n",
       "      <td>HLA-A0201</td>\n",
       "      <td>0</td>\n",
       "      <td>YVEYYSWLSYL</td>\n",
       "      <td>YVEYYSWLSYL</td>\n",
       "      <td>YVYSWLSYL</td>\n",
       "      <td>YVEYYRWLSYL</td>\n",
       "      <td>YVEYYRWLSYL</td>\n",
       "      <td>YVYRWLSYL</td>\n",
       "      <td>False</td>\n",
       "      <td>False</td>\n",
       "    </tr>\n",
       "    <tr>\n",
       "      <th>3016</th>\n",
       "      <td>HLA-B0702</td>\n",
       "      <td>0</td>\n",
       "      <td>YVRRVFITDDL</td>\n",
       "      <td>YVRRVFITDDL</td>\n",
       "      <td>YVRRVFITL</td>\n",
       "      <td>YVRRVFITDDF</td>\n",
       "      <td>YVRRVFITDDF</td>\n",
       "      <td>YVRRVFITF</td>\n",
       "      <td>False</td>\n",
       "      <td>False</td>\n",
       "    </tr>\n",
       "    <tr>\n",
       "      <th>3018</th>\n",
       "      <td>HLA-A6801</td>\n",
       "      <td>0</td>\n",
       "      <td>YVSEKDVISAK</td>\n",
       "      <td>YVSEKDVISAK</td>\n",
       "      <td>YVSDVISAK</td>\n",
       "      <td>YVSEKDVTSAK</td>\n",
       "      <td>YVSEKDVTSAK</td>\n",
       "      <td>YVSDVTSAK</td>\n",
       "      <td>False</td>\n",
       "      <td>False</td>\n",
       "    </tr>\n",
       "    <tr>\n",
       "      <th>3028</th>\n",
       "      <td>HLA-A2402</td>\n",
       "      <td>0</td>\n",
       "      <td>YYNFEGDIALL</td>\n",
       "      <td>YYNFEGDIALL</td>\n",
       "      <td>YYNGDIALL</td>\n",
       "      <td>SYNFEGDIALL</td>\n",
       "      <td>SYNFEGDIALL</td>\n",
       "      <td>SYNGDIALL</td>\n",
       "      <td>False</td>\n",
       "      <td>False</td>\n",
       "    </tr>\n",
       "  </tbody>\n",
       "</table>\n",
       "<p>762 rows × 10 columns</p>\n",
       "</div>"
      ],
      "text/plain": [
       "            HLA  agg_label      Peptide    icore_mut   core_mut    wild_type  \\\n",
       "5     HLA-B0702          0  AALHTPRPGPL   ALHTPRPGPL  ALHTPRPPL  AALHNPRPGPL   \n",
       "13    HLA-A1101          0   AAYQRLTSEK   AAYQRLTSEK  AAYQLTSEK   AAYQQLTSEK   \n",
       "20    HLA-B4403          0   AEVDQDGVVM   AEVDQDGVVM  AEVDQGVVM   AEVDEDGVVM   \n",
       "22    HLA-A6801          0  AEWRNGSTSSL   EWRNGSTSSL  EWNGSTSSL  PEWRNGSTSSL   \n",
       "23    HLA-A2402          0  AFLSTHLKLFL   AFLSTHLKLF  AFLSTHLLF  AFLSTHLKLFP   \n",
       "...         ...        ...          ...          ...        ...          ...   \n",
       "3009  HLA-A0201          0   YVARGGSMGV   YVARGGSMGV  YVAGGSMGV   YVARGGPMGV   \n",
       "3010  HLA-A0201          0  YVEYYSWLSYL  YVEYYSWLSYL  YVYSWLSYL  YVEYYRWLSYL   \n",
       "3016  HLA-B0702          0  YVRRVFITDDL  YVRRVFITDDL  YVRRVFITL  YVRRVFITDDF   \n",
       "3018  HLA-A6801          0  YVSEKDVISAK  YVSEKDVISAK  YVSDVISAK  YVSEKDVTSAK   \n",
       "3028  HLA-A2402          0  YYNFEGDIALL  YYNFEGDIALL  YYNGDIALL  SYNFEGDIALL   \n",
       "\n",
       "     icore_wt_aligned core_wt_aligned  icore_eq  core_eq  \n",
       "5          ALHNPRPGPL       ALHNPRPPL     False    False  \n",
       "13         AAYQQLTSEK       AAYQQLTSK     False    False  \n",
       "20         AEVDEDGVVM       AEVDEGVVM     False    False  \n",
       "22         EWRNGSTSSL       EWNGSTSSL      True     True  \n",
       "23         AFLSTHLKLF       AFLSTHLLF      True     True  \n",
       "...               ...             ...       ...      ...  \n",
       "3009       YVARGGPMGV       YVAGGPMGV     False    False  \n",
       "3010      YVEYYRWLSYL       YVYRWLSYL     False    False  \n",
       "3016      YVRRVFITDDF       YVRRVFITF     False    False  \n",
       "3018      YVSEKDVTSAK       YVSDVTSAK     False    False  \n",
       "3028      SYNFEGDIALL       SYNGDIALL     False    False  \n",
       "\n",
       "[762 rows x 10 columns]"
      ]
     },
     "execution_count": 52,
     "metadata": {},
     "output_type": "execute_result"
    }
   ],
   "source": [
    "cedar_aligned.query('len_icore_mut>len_core_mut')[['HLA','agg_label','Peptide','icore_mut', 'core_mut', \n",
    "                                                   'wild_type','icore_wt_aligned','core_wt_aligned','icore_eq','core_eq']]"
   ]
  },
  {
   "cell_type": "code",
   "execution_count": 47,
   "id": "931066a0-e212-43e0-9ab2-aeae3509dac4",
   "metadata": {},
   "outputs": [
    {
     "data": {
      "text/html": [
       "<div>\n",
       "<style scoped>\n",
       "    .dataframe tbody tr th:only-of-type {\n",
       "        vertical-align: middle;\n",
       "    }\n",
       "\n",
       "    .dataframe tbody tr th {\n",
       "        vertical-align: top;\n",
       "    }\n",
       "\n",
       "    .dataframe thead th {\n",
       "        text-align: right;\n",
       "    }\n",
       "</style>\n",
       "<table border=\"1\" class=\"dataframe\">\n",
       "  <thead>\n",
       "    <tr style=\"text-align: right;\">\n",
       "      <th></th>\n",
       "      <th>HLA</th>\n",
       "      <th>agg_label</th>\n",
       "      <th>Peptide</th>\n",
       "      <th>wild_type</th>\n",
       "      <th>icore_mut</th>\n",
       "      <th>icore_wt_aligned</th>\n",
       "      <th>icore_eq</th>\n",
       "      <th>core_mut</th>\n",
       "      <th>core_wt_aligned</th>\n",
       "      <th>core_eq</th>\n",
       "    </tr>\n",
       "  </thead>\n",
       "  <tbody>\n",
       "    <tr>\n",
       "      <th>39</th>\n",
       "      <td>HLA-A0201</td>\n",
       "      <td>0</td>\n",
       "      <td>AIYHTLNLFNI</td>\n",
       "      <td>AIYHTLNLCNI</td>\n",
       "      <td>AIYHTLNL</td>\n",
       "      <td>AIYHTLNL</td>\n",
       "      <td>True</td>\n",
       "      <td>AIY-HTLNL</td>\n",
       "      <td>AIY-HTLNL</td>\n",
       "      <td>True</td>\n",
       "    </tr>\n",
       "    <tr>\n",
       "      <th>40</th>\n",
       "      <td>HLA-B0702</td>\n",
       "      <td>0</td>\n",
       "      <td>AKNCGIAIPV</td>\n",
       "      <td>AKNRGIAIPV</td>\n",
       "      <td>AKNCGIAI</td>\n",
       "      <td>AKNRGIAI</td>\n",
       "      <td>False</td>\n",
       "      <td>-AKNCGIAI</td>\n",
       "      <td>-AKNRGIAI</td>\n",
       "      <td>False</td>\n",
       "    </tr>\n",
       "    <tr>\n",
       "      <th>105</th>\n",
       "      <td>HLA-B1501</td>\n",
       "      <td>0</td>\n",
       "      <td>ALSIGTSYRY</td>\n",
       "      <td>ALSIGTPYRY</td>\n",
       "      <td>ALSIGTSY</td>\n",
       "      <td>ALSIGTPY</td>\n",
       "      <td>False</td>\n",
       "      <td>ALS-IGTSY</td>\n",
       "      <td>ALS-IGTPY</td>\n",
       "      <td>False</td>\n",
       "    </tr>\n",
       "    <tr>\n",
       "      <th>133</th>\n",
       "      <td>HLA-A0201</td>\n",
       "      <td>0</td>\n",
       "      <td>AMYLNYFRGL</td>\n",
       "      <td>AMYLNYCRGL</td>\n",
       "      <td>YLNYFRGL</td>\n",
       "      <td>YLNYCRGL</td>\n",
       "      <td>False</td>\n",
       "      <td>YLN-YFRGL</td>\n",
       "      <td>YL-NYCRGL</td>\n",
       "      <td>False</td>\n",
       "    </tr>\n",
       "    <tr>\n",
       "      <th>158</th>\n",
       "      <td>HLA-B0702</td>\n",
       "      <td>0</td>\n",
       "      <td>APTWRALAR</td>\n",
       "      <td>APTWRALAG</td>\n",
       "      <td>APTWRALA</td>\n",
       "      <td>APTWRALA</td>\n",
       "      <td>True</td>\n",
       "      <td>APT-WRALA</td>\n",
       "      <td>APT-WRALA</td>\n",
       "      <td>True</td>\n",
       "    </tr>\n",
       "    <tr>\n",
       "      <th>...</th>\n",
       "      <td>...</td>\n",
       "      <td>...</td>\n",
       "      <td>...</td>\n",
       "      <td>...</td>\n",
       "      <td>...</td>\n",
       "      <td>...</td>\n",
       "      <td>...</td>\n",
       "      <td>...</td>\n",
       "      <td>...</td>\n",
       "      <td>...</td>\n",
       "    </tr>\n",
       "    <tr>\n",
       "      <th>2838</th>\n",
       "      <td>HLA-C1403</td>\n",
       "      <td>0</td>\n",
       "      <td>WYTHNLIFVF</td>\n",
       "      <td>WYTHNLFFVF</td>\n",
       "      <td>WYTHNLIF</td>\n",
       "      <td>WYTHNLFF</td>\n",
       "      <td>False</td>\n",
       "      <td>WYT-HNLIF</td>\n",
       "      <td>WYT-HNLFF</td>\n",
       "      <td>False</td>\n",
       "    </tr>\n",
       "    <tr>\n",
       "      <th>2869</th>\n",
       "      <td>HLA-A0201</td>\n",
       "      <td>1</td>\n",
       "      <td>YKLVVVGAV</td>\n",
       "      <td>YKLVVVGAG</td>\n",
       "      <td>KLVVVGAV</td>\n",
       "      <td>KLVVVGAG</td>\n",
       "      <td>False</td>\n",
       "      <td>KLV-VVGAV</td>\n",
       "      <td>KLVVVGAG-</td>\n",
       "      <td>False</td>\n",
       "    </tr>\n",
       "    <tr>\n",
       "      <th>2933</th>\n",
       "      <td>HLA-A1101</td>\n",
       "      <td>1</td>\n",
       "      <td>YMKSLEFENK</td>\n",
       "      <td>YMKSSEFENK</td>\n",
       "      <td>KSLEFENK</td>\n",
       "      <td>KSSEFENK</td>\n",
       "      <td>False</td>\n",
       "      <td>KSLE-FENK</td>\n",
       "      <td>KSSE-FENK</td>\n",
       "      <td>False</td>\n",
       "    </tr>\n",
       "    <tr>\n",
       "      <th>3013</th>\n",
       "      <td>HLA-A0201</td>\n",
       "      <td>0</td>\n",
       "      <td>YVMASVFVCPL</td>\n",
       "      <td>YVMASVFVCLL</td>\n",
       "      <td>YVMASVFV</td>\n",
       "      <td>YVMASVFV</td>\n",
       "      <td>True</td>\n",
       "      <td>YVMASVF-V</td>\n",
       "      <td>YVMASVF-V</td>\n",
       "      <td>True</td>\n",
       "    </tr>\n",
       "    <tr>\n",
       "      <th>3027</th>\n",
       "      <td>HLA-A0201</td>\n",
       "      <td>0</td>\n",
       "      <td>YYLEGWRFL</td>\n",
       "      <td>YYLEGWRLL</td>\n",
       "      <td>YLEGWRFL</td>\n",
       "      <td>YLEGWRLL</td>\n",
       "      <td>False</td>\n",
       "      <td>YL-EGWRFL</td>\n",
       "      <td>YL-EGWRLL</td>\n",
       "      <td>False</td>\n",
       "    </tr>\n",
       "  </tbody>\n",
       "</table>\n",
       "<p>125 rows × 10 columns</p>\n",
       "</div>"
      ],
      "text/plain": [
       "            HLA  agg_label      Peptide    wild_type icore_mut  \\\n",
       "39    HLA-A0201          0  AIYHTLNLFNI  AIYHTLNLCNI  AIYHTLNL   \n",
       "40    HLA-B0702          0   AKNCGIAIPV   AKNRGIAIPV  AKNCGIAI   \n",
       "105   HLA-B1501          0   ALSIGTSYRY   ALSIGTPYRY  ALSIGTSY   \n",
       "133   HLA-A0201          0   AMYLNYFRGL   AMYLNYCRGL  YLNYFRGL   \n",
       "158   HLA-B0702          0    APTWRALAR    APTWRALAG  APTWRALA   \n",
       "...         ...        ...          ...          ...       ...   \n",
       "2838  HLA-C1403          0   WYTHNLIFVF   WYTHNLFFVF  WYTHNLIF   \n",
       "2869  HLA-A0201          1    YKLVVVGAV    YKLVVVGAG  KLVVVGAV   \n",
       "2933  HLA-A1101          1   YMKSLEFENK   YMKSSEFENK  KSLEFENK   \n",
       "3013  HLA-A0201          0  YVMASVFVCPL  YVMASVFVCLL  YVMASVFV   \n",
       "3027  HLA-A0201          0    YYLEGWRFL    YYLEGWRLL  YLEGWRFL   \n",
       "\n",
       "     icore_wt_aligned  icore_eq   core_mut core_wt_aligned  core_eq  \n",
       "39           AIYHTLNL      True  AIY-HTLNL       AIY-HTLNL     True  \n",
       "40           AKNRGIAI     False  -AKNCGIAI       -AKNRGIAI    False  \n",
       "105          ALSIGTPY     False  ALS-IGTSY       ALS-IGTPY    False  \n",
       "133          YLNYCRGL     False  YLN-YFRGL       YL-NYCRGL    False  \n",
       "158          APTWRALA      True  APT-WRALA       APT-WRALA     True  \n",
       "...               ...       ...        ...             ...      ...  \n",
       "2838         WYTHNLFF     False  WYT-HNLIF       WYT-HNLFF    False  \n",
       "2869         KLVVVGAG     False  KLV-VVGAV       KLVVVGAG-    False  \n",
       "2933         KSSEFENK     False  KSLE-FENK       KSSE-FENK    False  \n",
       "3013         YVMASVFV      True  YVMASVF-V       YVMASVF-V     True  \n",
       "3027         YLEGWRLL     False  YL-EGWRFL       YL-EGWRLL    False  \n",
       "\n",
       "[125 rows x 10 columns]"
      ]
     },
     "execution_count": 47,
     "metadata": {},
     "output_type": "execute_result"
    }
   ],
   "source": [
    "cedar_aligned.query('CoreNotAA')[['HLA','agg_label','Peptide','wild_type','icore_mut','icore_wt_aligned','icore_eq','core_mut','core_wt_aligned','core_eq']]"
   ]
  },
  {
   "cell_type": "code",
   "execution_count": null,
   "id": "9464fe57-574f-4da5-a47a-1994f5db5478",
   "metadata": {},
   "outputs": [],
   "source": [
    "def get_core_dataset(df, ics_dict, max_len=9, encoding='onehot', blosum_matrix=BL62_VALUES,\n",
    "                     seq_col='core_mut', hla_col='HLA', target_col='agg_label', rank_col='EL_rank_mut',\n",
    "                     mut_col=None, mask=False, invert=False, add_rank=False, mask_aa=None):\n",
    "    \"\"\"\n",
    "    \"\"\"\n",
    "    x, y = get_array_dataset(df, ics_dict, max_len, encoding, blosum_matrix, seq_col, hla_col, target_col, rank_col,\n",
    "                             mask, invert, add_rank=add_rank, add_aaprop=add_aaprop, remove_pep=remove_pep)\n",
    "    \n",
    "    \n",
    "    if mut_col is not None and type(mut_col) == list:\n",
    "        if len(mut_col) > 0:\n",
    "            mut_scores = df[mut_col].values\n",
    "            x = np.concatenate([x, mut_scores], axis=1)\n",
    "    if mask_aa:\n",
    "        if mask_aa.lower() == 'false':\n",
    "            return x, y\n",
    "        assert mask_aa.upper() in AA_KEYS, f'Amino acid to mask is not in the AA alphabet!' \\\n",
    "                                           '\\nYou provided {mask_aa}, and the alphabet is {AA_KEYS}'\n",
    "        x[:, AA_KEYS.index(mask_aa.upper())] = 0\n",
    "    return x, y"
   ]
  },
  {
   "cell_type": "code",
   "execution_count": 84,
   "id": "d105f702-5a81-465a-8f25-94281e44e16a",
   "metadata": {},
   "outputs": [
    {
     "data": {
      "text/plain": [
       "(array([ True,  True,  True,  True,  True,  True,  True,  True,  True,\n",
       "         True,  True,  True,  True,  True,  True,  True,  True,  True,\n",
       "         True,  True]),\n",
       " True)"
      ]
     },
     "execution_count": 84,
     "metadata": {},
     "output_type": "execute_result"
    }
   ],
   "source": [
    "# Replacing the '-' with zeros so that we ignore that position but keep the ordering (needed for the IC weights to be on the right pos)\n",
    "CHAR_TO_INT['-']=-1\n",
    "INT_TO_CHAR[-1]='-'\n",
    "seq='AIY-HTLNL'\n",
    "int_encoded = [CHAR_TO_INT[x] for x in seq]\n",
    "onehot_encoded = list()\n",
    "for value in int_encoded:\n",
    "    letter = [0 for _ in range(len(AA_KEYS))]\n",
    "    letter[value] = 1 if value != -1 else 0\n",
    "    onehot_encoded.append(letter)\n",
    "tmp = np.array(onehot_encoded)\n",
    "tmp[3,:]==0, tmp.shape == (9,20) # check that the position 3 is all 0 and array has the right shape"
   ]
  },
  {
   "cell_type": "code",
   "execution_count": 314,
   "id": "b3ad6b0b-ce78-4d23-9d5c-91120b7c9651",
   "metadata": {},
   "outputs": [],
   "source": [
    "import torch\n",
    "def find_extra_aa(core, icore):\n",
    "    assert len(core)==9, f'Core is not of length 9 somehow: {core}'\n",
    "    if len(icore)==len(core) or len(icore)==8:\n",
    "        return np.zeros((20))\n",
    "    \n",
    "    elif len(icore)>len(core):\n",
    "        results = []\n",
    "        j = 0\n",
    "        for i, char in enumerate(icore):\n",
    "            if char!=core[j]:\n",
    "                results.append(char)\n",
    "            else:\n",
    "                j+=1\n",
    "        return (encode(''.join(results)).sum(axis=0).numpy() / len(icore)).astype(np.float32)\n",
    "    \n",
    "def batch_find_extra_aa(core_seqs, icore_seqs):\n",
    "    return np.stack(map(find_aa, core_seqs,icore_seqs)).astype(np.float32)"
   ]
  },
  {
   "cell_type": "code",
   "execution_count": 302,
   "id": "9284da5e-48b9-42c0-b657-1eab7e7e1bb8",
   "metadata": {},
   "outputs": [
    {
     "data": {
      "text/plain": [
       "(array(['SVS-FGTVY', 'SYWNR-LQF', 'FLQEVNVGV', 'KMFKTTPPV', 'QLDIIPASV',\n",
       "        'ITDAHELGV'], dtype=object),\n",
       " array(['SVSFGTVY', 'SYWNRLQF', 'FLQEVNVCGV', 'KMTNFKTTPPV', 'QLDIIPASV',\n",
       "        'ITDAHELGV'], dtype=object),\n",
       " 6)"
      ]
     },
     "execution_count": 302,
     "metadata": {},
     "output_type": "execute_result"
    }
   ],
   "source": [
    "from src.data_processing import batch_compute_frequency, encode_batch_weighted, encode_batch, get_ic_weights, CHAR_TO_INT, INT_TO_CHAR, encode, get_ic_weights\n",
    "# All 3 cases, where core with a '-', Icore > core, Icore==core\n",
    "sample = pd.concat([cedar_aligned.query('CoreNotAA').sample(2, random_state=13), \n",
    "                    cedar_aligned.query('len_icore_mut>len_core_mut').sample(2, random_state=13),\n",
    "                    cedar_aligned.query('len_icore_mut==len_core_mut').sample(2, random_state=13)])\n",
    "core_seqs = sample['core_mut'].values\n",
    "icore_seqs = sample['icore_mut'].values\n",
    "core_seqs, icore_seqs, len(sample)"
   ]
  },
  {
   "cell_type": "code",
   "execution_count": 306,
   "id": "38c35d65-4687-40fa-8d26-2018156712cd",
   "metadata": {
    "collapsed": true,
    "jupyter": {
     "outputs_hidden": true
    },
    "tags": []
   },
   "outputs": [
    {
     "name": "stdout",
     "output_type": "stream",
     "text": [
      "before 6 Int64Index([785, 1276, 527, 1216, 1852, 1044], dtype='int64')\n",
      "after drop 6 Int64Index([785, 1276, 527, 1216, 1852, 1044], dtype='int64')\n"
     ]
    },
    {
     "data": {
      "text/plain": [
       "tensor([[[0.0000, 0.0000, 0.0000, 0.0000, 0.0000, 0.0000, 0.0000, 0.0000,\n",
       "          0.0000, 0.0000, 0.0000, 0.0000, 0.0000, 0.0000, 0.0000, 0.9169,\n",
       "          0.0000, 0.0000, 0.0000, 0.0000],\n",
       "         [0.0000, 0.0000, 0.0000, 0.0000, 0.0000, 0.0000, 0.0000, 0.0000,\n",
       "          0.0000, 0.0000, 0.0000, 0.0000, 0.0000, 0.0000, 0.0000, 0.0000,\n",
       "          0.0000, 0.0000, 0.0000, 0.3213],\n",
       "         [0.0000, 0.0000, 0.0000, 0.0000, 0.0000, 0.0000, 0.0000, 0.0000,\n",
       "          0.0000, 0.0000, 0.0000, 0.0000, 0.0000, 0.0000, 0.0000, 0.9634,\n",
       "          0.0000, 0.0000, 0.0000, 0.0000],\n",
       "         [0.0000, 0.0000, 0.0000, 0.0000, 0.0000, 0.0000, 0.0000, 0.0000,\n",
       "          0.0000, 0.0000, 0.0000, 0.0000, 0.0000, 0.0000, 0.0000, 0.0000,\n",
       "          0.0000, 0.0000, 0.0000, 0.0000],\n",
       "         [0.0000, 0.0000, 0.0000, 0.0000, 0.0000, 0.0000, 0.0000, 0.0000,\n",
       "          0.0000, 0.0000, 0.0000, 0.0000, 0.0000, 0.9604, 0.0000, 0.0000,\n",
       "          0.0000, 0.0000, 0.0000, 0.0000],\n",
       "         [0.0000, 0.0000, 0.0000, 0.0000, 0.0000, 0.0000, 0.0000, 0.9563,\n",
       "          0.0000, 0.0000, 0.0000, 0.0000, 0.0000, 0.0000, 0.0000, 0.0000,\n",
       "          0.0000, 0.0000, 0.0000, 0.0000],\n",
       "         [0.0000, 0.0000, 0.0000, 0.0000, 0.0000, 0.0000, 0.0000, 0.0000,\n",
       "          0.0000, 0.0000, 0.0000, 0.0000, 0.0000, 0.0000, 0.0000, 0.0000,\n",
       "          0.9475, 0.0000, 0.0000, 0.0000],\n",
       "         [0.0000, 0.0000, 0.0000, 0.0000, 0.0000, 0.0000, 0.0000, 0.0000,\n",
       "          0.0000, 0.0000, 0.0000, 0.0000, 0.0000, 0.0000, 0.0000, 0.0000,\n",
       "          0.0000, 0.0000, 0.0000, 0.9374],\n",
       "         [0.0000, 0.0000, 0.0000, 0.0000, 0.0000, 0.0000, 0.0000, 0.0000,\n",
       "          0.0000, 0.0000, 0.0000, 0.0000, 0.0000, 0.0000, 0.0000, 0.0000,\n",
       "          0.0000, 0.0000, 0.4945, 0.0000]],\n",
       "\n",
       "        [[0.0000, 0.0000, 0.0000, 0.0000, 0.0000, 0.0000, 0.0000, 0.0000,\n",
       "          0.0000, 0.0000, 0.0000, 0.0000, 0.0000, 0.0000, 0.0000, 0.9403,\n",
       "          0.0000, 0.0000, 0.0000, 0.0000],\n",
       "         [0.0000, 0.0000, 0.0000, 0.0000, 0.0000, 0.0000, 0.0000, 0.0000,\n",
       "          0.0000, 0.0000, 0.0000, 0.0000, 0.0000, 0.0000, 0.0000, 0.0000,\n",
       "          0.0000, 0.0000, 0.3512, 0.0000],\n",
       "         [0.0000, 0.0000, 0.0000, 0.0000, 0.0000, 0.0000, 0.0000, 0.0000,\n",
       "          0.0000, 0.0000, 0.0000, 0.0000, 0.0000, 0.0000, 0.0000, 0.0000,\n",
       "          0.0000, 0.9483, 0.0000, 0.0000],\n",
       "         [0.0000, 0.0000, 0.9423, 0.0000, 0.0000, 0.0000, 0.0000, 0.0000,\n",
       "          0.0000, 0.0000, 0.0000, 0.0000, 0.0000, 0.0000, 0.0000, 0.0000,\n",
       "          0.0000, 0.0000, 0.0000, 0.0000],\n",
       "         [0.0000, 0.9615, 0.0000, 0.0000, 0.0000, 0.0000, 0.0000, 0.0000,\n",
       "          0.0000, 0.0000, 0.0000, 0.0000, 0.0000, 0.0000, 0.0000, 0.0000,\n",
       "          0.0000, 0.0000, 0.0000, 0.0000],\n",
       "         [0.0000, 0.0000, 0.0000, 0.0000, 0.0000, 0.0000, 0.0000, 0.0000,\n",
       "          0.0000, 0.0000, 0.0000, 0.0000, 0.0000, 0.0000, 0.0000, 0.0000,\n",
       "          0.0000, 0.0000, 0.0000, 0.0000],\n",
       "         [0.0000, 0.0000, 0.0000, 0.0000, 0.0000, 0.0000, 0.0000, 0.0000,\n",
       "          0.0000, 0.0000, 0.9621, 0.0000, 0.0000, 0.0000, 0.0000, 0.0000,\n",
       "          0.0000, 0.0000, 0.0000, 0.0000],\n",
       "         [0.0000, 0.0000, 0.0000, 0.0000, 0.0000, 0.9364, 0.0000, 0.0000,\n",
       "          0.0000, 0.0000, 0.0000, 0.0000, 0.0000, 0.0000, 0.0000, 0.0000,\n",
       "          0.0000, 0.0000, 0.0000, 0.0000],\n",
       "         [0.0000, 0.0000, 0.0000, 0.0000, 0.0000, 0.0000, 0.0000, 0.0000,\n",
       "          0.0000, 0.0000, 0.0000, 0.0000, 0.0000, 0.4905, 0.0000, 0.0000,\n",
       "          0.0000, 0.0000, 0.0000, 0.0000]],\n",
       "\n",
       "        [[0.0000, 0.0000, 0.0000, 0.0000, 0.0000, 0.8823, 0.0000, 0.0000,\n",
       "          0.0000, 0.0000, 0.0000, 0.0000, 0.0000, 0.0000, 0.0000, 0.0000,\n",
       "          0.0000, 0.0000, 0.0000, 0.0000],\n",
       "         [0.0000, 0.0000, 0.0000, 0.0000, 0.0000, 0.0000, 0.0000, 0.0000,\n",
       "          0.0000, 0.0000, 0.3334, 0.0000, 0.0000, 0.0000, 0.0000, 0.0000,\n",
       "          0.0000, 0.0000, 0.0000, 0.0000],\n",
       "         [0.0000, 0.0000, 0.0000, 0.9213, 0.0000, 0.0000, 0.0000, 0.0000,\n",
       "          0.0000, 0.0000, 0.0000, 0.0000, 0.0000, 0.0000, 0.0000, 0.0000,\n",
       "          0.0000, 0.0000, 0.0000, 0.0000],\n",
       "         [0.0000, 0.0000, 0.0000, 0.0000, 0.0000, 0.0000, 0.0000, 0.0000,\n",
       "          0.0000, 0.8381, 0.0000, 0.0000, 0.0000, 0.0000, 0.0000, 0.0000,\n",
       "          0.0000, 0.0000, 0.0000, 0.0000],\n",
       "         [0.0000, 0.0000, 0.0000, 0.0000, 0.0000, 0.0000, 0.0000, 0.0000,\n",
       "          0.0000, 0.9580, 0.0000, 0.0000, 0.0000, 0.0000, 0.0000, 0.0000,\n",
       "          0.0000, 0.0000, 0.0000, 0.0000],\n",
       "         [0.0000, 0.0000, 0.0000, 0.0000, 0.0000, 0.0000, 0.0000, 0.0000,\n",
       "          0.0000, 0.0000, 0.0000, 0.0000, 0.0000, 0.0000, 0.8778, 0.0000,\n",
       "          0.0000, 0.0000, 0.0000, 0.0000],\n",
       "         [0.9333, 0.0000, 0.0000, 0.0000, 0.0000, 0.0000, 0.0000, 0.0000,\n",
       "          0.0000, 0.0000, 0.0000, 0.0000, 0.0000, 0.0000, 0.0000, 0.0000,\n",
       "          0.0000, 0.0000, 0.0000, 0.0000],\n",
       "         [0.0000, 0.0000, 0.0000, 0.0000, 0.0000, 0.0000, 0.0000, 0.0000,\n",
       "          0.0000, 0.0000, 0.0000, 0.0000, 0.0000, 0.0000, 0.0000, 0.9242,\n",
       "          0.0000, 0.0000, 0.0000, 0.0000],\n",
       "         [0.0000, 0.0000, 0.0000, 0.0000, 0.0000, 0.0000, 0.0000, 0.0000,\n",
       "          0.0000, 0.0000, 0.0000, 0.0000, 0.0000, 0.0000, 0.0000, 0.0000,\n",
       "          0.0000, 0.0000, 0.0000, 0.4333]]])"
      ]
     },
     "execution_count": 306,
     "metadata": {},
     "output_type": "execute_result"
    }
   ],
   "source": [
    "encode_batch_weighted(sample, ics_shannon, None, 9, 'onehot', None, 'core_mut')"
   ]
  },
  {
   "cell_type": "code",
   "execution_count": 315,
   "id": "486bce4e-22d1-4f80-ad00-aa6846824360",
   "metadata": {
    "collapsed": true,
    "jupyter": {
     "outputs_hidden": true
    },
    "tags": []
   },
   "outputs": [
    {
     "name": "stdout",
     "output_type": "stream",
     "text": [
      "before 6 Int64Index([785, 1276, 527, 1216, 1852, 1044], dtype='int64')\n",
      "after drop 6 Int64Index([785, 1276, 527, 1216, 1852, 1044], dtype='int64')\n",
      "xd!! 6\n"
     ]
    },
    {
     "data": {
      "text/plain": [
       "array([[0.10369743, 0.        , 0.        , 0.10237203, 0.        ,\n",
       "        0.09803756, 0.        , 0.        , 0.        , 0.19956324,\n",
       "        0.0370485 , 0.        , 0.        , 0.        , 0.09752864,\n",
       "        0.10269237, 0.        , 0.        , 0.        , 0.04814585],\n",
       "       [0.10457226, 0.        , 0.        , 0.08788767, 0.        ,\n",
       "        0.        , 0.10608057, 0.10462533, 0.10660405, 0.10613236,\n",
       "        0.10538305, 0.        , 0.        , 0.        , 0.        ,\n",
       "        0.        , 0.07088175, 0.        , 0.        , 0.01572936]],\n",
       "      dtype=float32)"
      ]
     },
     "execution_count": 315,
     "metadata": {},
     "output_type": "execute_result"
    }
   ],
   "source": [
    "weighted_sequences = encode_batch_weighted(sample, ics_dict=ics_shannon, max_len=9, encoding='onehot', blosum_matrix=None, seq_col='core_mut')\n",
    "# Here added a special argument \"true_lens\" where we provide the true lengths\n",
    "freqs = batch_compute_frequency(weighted_sequences.numpy(), true_lens=9)\n",
    "extra_freqs = batch_find_extra_aa(core_seqs, icore_seqs)\n",
    "summed = np.add(freqs,extra_freqs)\n",
    "summed[4:]"
   ]
  },
  {
   "cell_type": "code",
   "execution_count": 325,
   "id": "fb865b66-e1e5-4565-8a94-d9efb74b18bd",
   "metadata": {},
   "outputs": [
    {
     "name": "stdout",
     "output_type": "stream",
     "text": [
      "True\n",
      "here\n",
      "before 6 Int64Index([785, 1276, 527, 1216, 1852, 1044], dtype='int64')\n",
      "after drop 6 Int64Index([785, 1276, 527, 1216, 1852, 1044], dtype='int64')\n",
      "xd!! 6\n"
     ]
    }
   ],
   "source": [
    "x,y = get_dataset(sample, ics_shannon, max_len=9, encoding='onehot', blosum_matrix=None, seq_col='core_mut', hla_col='HLA', target_col='agg_label',\n",
    "                  rank_col='EL_rank_mut', mask=False, invert=False, add_rank=True, add_aaprop=False, remove_pep=False, icore_bulge=True,\n",
    "                  core_col='core_mut', icore_col='icore_mut')"
   ]
  },
  {
   "cell_type": "markdown",
   "id": "8b195abe-cc8f-4041-8494-607657d6d5b5",
   "metadata": {},
   "source": [
    "# Training a model with only rank and all weightings"
   ]
  },
  {
   "cell_type": "code",
   "execution_count": 341,
   "id": "019c395b-22d6-4ad7-92f4-91c7d1a50d24",
   "metadata": {},
   "outputs": [
    {
     "data": {
      "text/plain": [
       "True"
      ]
     },
     "execution_count": 341,
     "metadata": {},
     "output_type": "execute_result"
    }
   ],
   "source": [
    "\n",
    "encoding_kwargs = dict(max_len=9, encoding='onehot', blosum_matrix=None, mask=False, add_rank=True,\n",
    "                       add_aaprop=False, remove_pep=False, standardize=True, seq_col='core_mut',\n",
    "                       icore_bulge=True, core_col='core_mut', icore_col='icore_mut')\n",
    "encoding_kwargs.pop('standardize')\n",
    "x,y=get_dataset(sample, ics_shannon, **encoding_kwargs)\n",
    "(x[:,:20]==summed).all()"
   ]
  },
  {
   "cell_type": "code",
   "execution_count": 419,
   "id": "e672d04f-f0e4-4ba9-9c8d-3af889b622e4",
   "metadata": {},
   "outputs": [
    {
     "data": {
      "text/html": [
       "<div>\n",
       "<style scoped>\n",
       "    .dataframe tbody tr th:only-of-type {\n",
       "        vertical-align: middle;\n",
       "    }\n",
       "\n",
       "    .dataframe tbody tr th {\n",
       "        vertical-align: top;\n",
       "    }\n",
       "\n",
       "    .dataframe thead th {\n",
       "        text-align: right;\n",
       "    }\n",
       "</style>\n",
       "<table border=\"1\" class=\"dataframe\">\n",
       "  <thead>\n",
       "    <tr style=\"text-align: right;\">\n",
       "      <th></th>\n",
       "      <th>HLA</th>\n",
       "      <th>agg_label</th>\n",
       "      <th>fold</th>\n",
       "      <th>Peptide</th>\n",
       "      <th>wild_type</th>\n",
       "      <th>icore_mut</th>\n",
       "      <th>core_mut</th>\n",
       "      <th>len</th>\n",
       "      <th>EL_rank_mut</th>\n",
       "      <th>EL_rank_wt</th>\n",
       "      <th>...</th>\n",
       "      <th>VHSE8</th>\n",
       "      <th>seq_id</th>\n",
       "      <th>core_wt_aligned</th>\n",
       "      <th>EL_rank_wt_aligned</th>\n",
       "      <th>len_core_mut</th>\n",
       "      <th>CoreNotAA</th>\n",
       "      <th>n-</th>\n",
       "      <th>core_eq</th>\n",
       "      <th>icore_eq</th>\n",
       "      <th>icore_eq_core</th>\n",
       "    </tr>\n",
       "  </thead>\n",
       "  <tbody>\n",
       "    <tr>\n",
       "      <th>785</th>\n",
       "      <td>HLA-C1403</td>\n",
       "      <td>0</td>\n",
       "      <td>7</td>\n",
       "      <td>GSVSFGTVY</td>\n",
       "      <td>GSGSFGTVY</td>\n",
       "      <td>SVSFGTVY</td>\n",
       "      <td>SVS-FGTVY</td>\n",
       "      <td>9</td>\n",
       "      <td>2.4606</td>\n",
       "      <td>3.7812</td>\n",
       "      <td>...</td>\n",
       "      <td>-0.188750</td>\n",
       "      <td>&gt;seq_786</td>\n",
       "      <td>SGS-FGTVY</td>\n",
       "      <td>3.7812</td>\n",
       "      <td>9</td>\n",
       "      <td>True</td>\n",
       "      <td>1</td>\n",
       "      <td>False</td>\n",
       "      <td>False</td>\n",
       "      <td>False</td>\n",
       "    </tr>\n",
       "    <tr>\n",
       "      <th>1276</th>\n",
       "      <td>HLA-A2402</td>\n",
       "      <td>0</td>\n",
       "      <td>5</td>\n",
       "      <td>KSYWNRLQF</td>\n",
       "      <td>KSYWNRLRF</td>\n",
       "      <td>SYWNRLQF</td>\n",
       "      <td>SYWNR-LQF</td>\n",
       "      <td>9</td>\n",
       "      <td>0.2599</td>\n",
       "      <td>0.3379</td>\n",
       "      <td>...</td>\n",
       "      <td>-0.307500</td>\n",
       "      <td>&gt;seq_1277</td>\n",
       "      <td>SYW-NRLRF</td>\n",
       "      <td>0.3379</td>\n",
       "      <td>9</td>\n",
       "      <td>True</td>\n",
       "      <td>1</td>\n",
       "      <td>False</td>\n",
       "      <td>False</td>\n",
       "      <td>False</td>\n",
       "    </tr>\n",
       "    <tr>\n",
       "      <th>527</th>\n",
       "      <td>HLA-A0203</td>\n",
       "      <td>1</td>\n",
       "      <td>8</td>\n",
       "      <td>FLQEVNVCGV</td>\n",
       "      <td>FLQEVNVYGV</td>\n",
       "      <td>FLQEVNVCGV</td>\n",
       "      <td>FLQEVNVGV</td>\n",
       "      <td>10</td>\n",
       "      <td>0.3130</td>\n",
       "      <td>0.2390</td>\n",
       "      <td>...</td>\n",
       "      <td>-0.363000</td>\n",
       "      <td>&gt;seq_528</td>\n",
       "      <td>FLQEVNVYV</td>\n",
       "      <td>0.2390</td>\n",
       "      <td>9</td>\n",
       "      <td>False</td>\n",
       "      <td>0</td>\n",
       "      <td>False</td>\n",
       "      <td>False</td>\n",
       "      <td>False</td>\n",
       "    </tr>\n",
       "    <tr>\n",
       "      <th>1216</th>\n",
       "      <td>HLA-A0201</td>\n",
       "      <td>0</td>\n",
       "      <td>3</td>\n",
       "      <td>KMTNFKTTPPV</td>\n",
       "      <td>KMTDFKTTPPV</td>\n",
       "      <td>KMTNFKTTPPV</td>\n",
       "      <td>KMFKTTPPV</td>\n",
       "      <td>11</td>\n",
       "      <td>1.9568</td>\n",
       "      <td>0.9945</td>\n",
       "      <td>...</td>\n",
       "      <td>0.621818</td>\n",
       "      <td>&gt;seq_1217</td>\n",
       "      <td>KMTDFTPPV</td>\n",
       "      <td>0.9945</td>\n",
       "      <td>9</td>\n",
       "      <td>False</td>\n",
       "      <td>0</td>\n",
       "      <td>False</td>\n",
       "      <td>False</td>\n",
       "      <td>False</td>\n",
       "    </tr>\n",
       "    <tr>\n",
       "      <th>1852</th>\n",
       "      <td>HLA-A0201</td>\n",
       "      <td>1</td>\n",
       "      <td>9</td>\n",
       "      <td>QLDIIPASV</td>\n",
       "      <td>QLDIIPASI</td>\n",
       "      <td>QLDIIPASV</td>\n",
       "      <td>QLDIIPASV</td>\n",
       "      <td>9</td>\n",
       "      <td>0.1110</td>\n",
       "      <td>0.4652</td>\n",
       "      <td>...</td>\n",
       "      <td>0.270000</td>\n",
       "      <td>&gt;seq_1853</td>\n",
       "      <td>QLDIIPASI</td>\n",
       "      <td>0.4652</td>\n",
       "      <td>9</td>\n",
       "      <td>False</td>\n",
       "      <td>0</td>\n",
       "      <td>False</td>\n",
       "      <td>False</td>\n",
       "      <td>True</td>\n",
       "    </tr>\n",
       "    <tr>\n",
       "      <th>1044</th>\n",
       "      <td>HLA-A0101</td>\n",
       "      <td>0</td>\n",
       "      <td>8</td>\n",
       "      <td>ITDAHELGVA</td>\n",
       "      <td>ITAAHELGVA</td>\n",
       "      <td>ITDAHELGV</td>\n",
       "      <td>ITDAHELGV</td>\n",
       "      <td>10</td>\n",
       "      <td>0.3941</td>\n",
       "      <td>5.1050</td>\n",
       "      <td>...</td>\n",
       "      <td>-0.108889</td>\n",
       "      <td>&gt;seq_1045</td>\n",
       "      <td>ITAAHELGV</td>\n",
       "      <td>5.1050</td>\n",
       "      <td>9</td>\n",
       "      <td>False</td>\n",
       "      <td>0</td>\n",
       "      <td>False</td>\n",
       "      <td>False</td>\n",
       "      <td>True</td>\n",
       "    </tr>\n",
       "  </tbody>\n",
       "</table>\n",
       "<p>6 rows × 39 columns</p>\n",
       "</div>"
      ],
      "text/plain": [
       "            HLA  agg_label  fold      Peptide    wild_type    icore_mut  \\\n",
       "785   HLA-C1403          0     7    GSVSFGTVY    GSGSFGTVY     SVSFGTVY   \n",
       "1276  HLA-A2402          0     5    KSYWNRLQF    KSYWNRLRF     SYWNRLQF   \n",
       "527   HLA-A0203          1     8   FLQEVNVCGV   FLQEVNVYGV   FLQEVNVCGV   \n",
       "1216  HLA-A0201          0     3  KMTNFKTTPPV  KMTDFKTTPPV  KMTNFKTTPPV   \n",
       "1852  HLA-A0201          1     9    QLDIIPASV    QLDIIPASI    QLDIIPASV   \n",
       "1044  HLA-A0101          0     8   ITDAHELGVA   ITAAHELGVA    ITDAHELGV   \n",
       "\n",
       "       core_mut  len  EL_rank_mut  EL_rank_wt  ...     VHSE8     seq_id  \\\n",
       "785   SVS-FGTVY    9       2.4606      3.7812  ... -0.188750   >seq_786   \n",
       "1276  SYWNR-LQF    9       0.2599      0.3379  ... -0.307500  >seq_1277   \n",
       "527   FLQEVNVGV   10       0.3130      0.2390  ... -0.363000   >seq_528   \n",
       "1216  KMFKTTPPV   11       1.9568      0.9945  ...  0.621818  >seq_1217   \n",
       "1852  QLDIIPASV    9       0.1110      0.4652  ...  0.270000  >seq_1853   \n",
       "1044  ITDAHELGV   10       0.3941      5.1050  ... -0.108889  >seq_1045   \n",
       "\n",
       "      core_wt_aligned EL_rank_wt_aligned  len_core_mut  CoreNotAA  n- core_eq  \\\n",
       "785         SGS-FGTVY             3.7812             9       True   1   False   \n",
       "1276        SYW-NRLRF             0.3379             9       True   1   False   \n",
       "527         FLQEVNVYV             0.2390             9      False   0   False   \n",
       "1216        KMTDFTPPV             0.9945             9      False   0   False   \n",
       "1852        QLDIIPASI             0.4652             9      False   0   False   \n",
       "1044        ITAAHELGV             5.1050             9      False   0   False   \n",
       "\n",
       "     icore_eq  icore_eq_core  \n",
       "785     False          False  \n",
       "1276    False          False  \n",
       "527     False          False  \n",
       "1216    False          False  \n",
       "1852    False           True  \n",
       "1044    False           True  \n",
       "\n",
       "[6 rows x 39 columns]"
      ]
     },
     "execution_count": 419,
     "metadata": {},
     "output_type": "execute_result"
    }
   ],
   "source": [
    "sample"
   ]
  },
  {
   "cell_type": "code",
   "execution_count": 423,
   "id": "428faef8-1c0e-4413-bf72-4ec1201995a4",
   "metadata": {},
   "outputs": [
    {
     "data": {
      "text/plain": [
       "(torch.Size([6, 9, 20]), (6, 9))"
      ]
     },
     "execution_count": 423,
     "metadata": {},
     "output_type": "execute_result"
    }
   ],
   "source": [
    "a,b = encode_batch_weighted(sample, ics_dict=ics_shannon, max_len=9, seq_col='core_mut')\n",
    "a.shape, b.shape"
   ]
  },
  {
   "cell_type": "code",
   "execution_count": 427,
   "id": "67888619-1a9f-4eef-90cc-2b96779fdec4",
   "metadata": {},
   "outputs": [
    {
     "data": {
      "text/plain": [
       "6"
      ]
     },
     "execution_count": 427,
     "metadata": {},
     "output_type": "execute_result"
    }
   ],
   "source": [
    "def x(a,b):\n",
    "    return a+b\n",
    "def f(a):\n",
    "    return a, 2*a\n",
    "\n",
    "x(*f(2))"
   ]
  },
  {
   "cell_type": "code",
   "execution_count": 389,
   "id": "550aec14-a0a4-415f-8a80-1b87969cd1d6",
   "metadata": {
    "collapsed": true,
    "jupyter": {
     "outputs_hidden": true
    },
    "tags": []
   },
   "outputs": [
    {
     "name": "stdout",
     "output_type": "stream",
     "text": [
      "True\n"
     ]
    },
    {
     "data": {
      "application/vnd.jupyter.widget-view+json": {
       "model_id": "",
       "version_major": 2,
       "version_minor": 0
      },
      "text/plain": [
       "Weighting: 0it [00:00, ?it/s]"
      ]
     },
     "metadata": {},
     "output_type": "display_data"
    },
    {
     "name": "stdout",
     "output_type": "stream",
     "text": [
      "Training {'max_len': 9, 'encoding': 'onehot', 'blosum_matrix': None, 'mask': True, 'add_rank': True, 'add_aaprop': False, 'remove_pep': False, 'standardize': True, 'seq_col': 'core_mut', 'rank_col': 'EL_rank_mut', 'icore_bulge': True, 'core_col': 'core_mut', 'icore_col': 'icore_mut', 'invert': True}\n"
     ]
    },
    {
     "data": {
      "application/vnd.jupyter.widget-view+json": {
       "model_id": "",
       "version_major": 2,
       "version_minor": 0
      },
      "text/plain": [
       "Outer fold:   0%|          | 0/10 [00:00<?, ?it/s]"
      ]
     },
     "metadata": {},
     "output_type": "display_data"
    },
    {
     "data": {
      "application/vnd.jupyter.widget-view+json": {
       "model_id": "",
       "version_major": 2,
       "version_minor": 0
      },
      "text/plain": [
       "Inner Folds:   0%|          | 0/9 [00:00<?, ?it/s]"
      ]
     },
     "metadata": {},
     "output_type": "display_data"
    },
    {
     "data": {
      "application/vnd.jupyter.widget-view+json": {
       "model_id": "",
       "version_major": 2,
       "version_minor": 0
      },
      "text/plain": [
       "Inner Folds:   0%|          | 0/9 [00:00<?, ?it/s]"
      ]
     },
     "metadata": {},
     "output_type": "display_data"
    },
    {
     "data": {
      "application/vnd.jupyter.widget-view+json": {
       "model_id": "",
       "version_major": 2,
       "version_minor": 0
      },
      "text/plain": [
       "Inner Folds:   0%|          | 0/9 [00:00<?, ?it/s]"
      ]
     },
     "metadata": {},
     "output_type": "display_data"
    },
    {
     "data": {
      "application/vnd.jupyter.widget-view+json": {
       "model_id": "",
       "version_major": 2,
       "version_minor": 0
      },
      "text/plain": [
       "Inner Folds:   0%|          | 0/9 [00:00<?, ?it/s]"
      ]
     },
     "metadata": {},
     "output_type": "display_data"
    },
    {
     "data": {
      "application/vnd.jupyter.widget-view+json": {
       "model_id": "",
       "version_major": 2,
       "version_minor": 0
      },
      "text/plain": [
       "Inner Folds:   0%|          | 0/9 [00:00<?, ?it/s]"
      ]
     },
     "metadata": {},
     "output_type": "display_data"
    },
    {
     "data": {
      "application/vnd.jupyter.widget-view+json": {
       "model_id": "",
       "version_major": 2,
       "version_minor": 0
      },
      "text/plain": [
       "Inner Folds:   0%|          | 0/9 [00:00<?, ?it/s]"
      ]
     },
     "metadata": {},
     "output_type": "display_data"
    },
    {
     "data": {
      "application/vnd.jupyter.widget-view+json": {
       "model_id": "",
       "version_major": 2,
       "version_minor": 0
      },
      "text/plain": [
       "Inner Folds:   0%|          | 0/9 [00:00<?, ?it/s]"
      ]
     },
     "metadata": {},
     "output_type": "display_data"
    },
    {
     "data": {
      "application/vnd.jupyter.widget-view+json": {
       "model_id": "",
       "version_major": 2,
       "version_minor": 0
      },
      "text/plain": [
       "Inner Folds:   0%|          | 0/9 [00:00<?, ?it/s]"
      ]
     },
     "metadata": {},
     "output_type": "display_data"
    },
    {
     "data": {
      "application/vnd.jupyter.widget-view+json": {
       "model_id": "",
       "version_major": 2,
       "version_minor": 0
      },
      "text/plain": [
       "Inner Folds:   0%|          | 0/9 [00:00<?, ?it/s]"
      ]
     },
     "metadata": {},
     "output_type": "display_data"
    },
    {
     "data": {
      "application/vnd.jupyter.widget-view+json": {
       "model_id": "",
       "version_major": 2,
       "version_minor": 0
      },
      "text/plain": [
       "Inner Folds:   0%|          | 0/9 [00:00<?, ?it/s]"
      ]
     },
     "metadata": {},
     "output_type": "display_data"
    },
    {
     "data": {
      "application/vnd.jupyter.widget-view+json": {
       "model_id": "",
       "version_major": 2,
       "version_minor": 0
      },
      "text/plain": [
       "Eval Folds:   0%|          | 0/10 [00:00<?, ?it/s]"
      ]
     },
     "metadata": {},
     "output_type": "display_data"
    },
    {
     "name": "stdout",
     "output_type": "stream",
     "text": [
      "Sampling\n"
     ]
    },
    {
     "data": {
      "application/vnd.jupyter.widget-view+json": {
       "model_id": "",
       "version_major": 2,
       "version_minor": 0
      },
      "text/plain": [
       "Bootstrapping rounds:   0%|          | 0/10000 [00:00<?, ?it/s]"
      ]
     },
     "metadata": {},
     "output_type": "display_data"
    },
    {
     "name": "stdout",
     "output_type": "stream",
     "text": [
      "Making results DF and curves\n",
      "../output/230314_bulgeOut_aligned/bootstrapping/CEDAR_mean_rocs_onehot_Inverted-Mask_bulgeOutTrue_rank_only.pkl saved.\n"
     ]
    },
    {
     "data": {
      "application/vnd.jupyter.widget-view+json": {
       "model_id": "",
       "version_major": 2,
       "version_minor": 0
      },
      "text/plain": [
       "Eval Folds:   0%|          | 0/10 [00:00<?, ?it/s]"
      ]
     },
     "metadata": {},
     "output_type": "display_data"
    },
    {
     "name": "stdout",
     "output_type": "stream",
     "text": [
      "Sampling\n"
     ]
    },
    {
     "data": {
      "application/vnd.jupyter.widget-view+json": {
       "model_id": "",
       "version_major": 2,
       "version_minor": 0
      },
      "text/plain": [
       "Bootstrapping rounds:   0%|          | 0/10000 [00:00<?, ?it/s]"
      ]
     },
     "metadata": {},
     "output_type": "display_data"
    },
    {
     "name": "stdout",
     "output_type": "stream",
     "text": [
      "Making results DF and curves\n",
      "../output/230314_bulgeOut_aligned/bootstrapping/PRIME_mean_rocs_onehot_Inverted-Mask_bulgeOutTrue_rank_only.pkl saved.\n"
     ]
    },
    {
     "data": {
      "application/vnd.jupyter.widget-view+json": {
       "model_id": "",
       "version_major": 2,
       "version_minor": 0
      },
      "text/plain": [
       "Eval Folds:   0%|          | 0/10 [00:00<?, ?it/s]"
      ]
     },
     "metadata": {},
     "output_type": "display_data"
    },
    {
     "name": "stdout",
     "output_type": "stream",
     "text": [
      "Sampling\n"
     ]
    },
    {
     "data": {
      "application/vnd.jupyter.widget-view+json": {
       "model_id": "",
       "version_major": 2,
       "version_minor": 0
      },
      "text/plain": [
       "Bootstrapping rounds:   0%|          | 0/10000 [00:00<?, ?it/s]"
      ]
     },
     "metadata": {},
     "output_type": "display_data"
    },
    {
     "name": "stdout",
     "output_type": "stream",
     "text": [
      "Making results DF and curves\n",
      "../output/230314_bulgeOut_aligned/bootstrapping/NEPDB_mean_rocs_onehot_Inverted-Mask_bulgeOutTrue_rank_only.pkl saved.\n",
      "Training {'max_len': 9, 'encoding': 'onehot', 'blosum_matrix': None, 'mask': False, 'add_rank': True, 'add_aaprop': False, 'remove_pep': False, 'standardize': True, 'seq_col': 'core_mut', 'rank_col': 'EL_rank_mut', 'icore_bulge': True, 'core_col': 'core_mut', 'icore_col': 'icore_mut', 'invert': True}\n"
     ]
    },
    {
     "data": {
      "application/vnd.jupyter.widget-view+json": {
       "model_id": "",
       "version_major": 2,
       "version_minor": 0
      },
      "text/plain": [
       "Outer fold:   0%|          | 0/10 [00:00<?, ?it/s]"
      ]
     },
     "metadata": {},
     "output_type": "display_data"
    },
    {
     "data": {
      "application/vnd.jupyter.widget-view+json": {
       "model_id": "",
       "version_major": 2,
       "version_minor": 0
      },
      "text/plain": [
       "Inner Folds:   0%|          | 0/9 [00:00<?, ?it/s]"
      ]
     },
     "metadata": {},
     "output_type": "display_data"
    },
    {
     "data": {
      "application/vnd.jupyter.widget-view+json": {
       "model_id": "",
       "version_major": 2,
       "version_minor": 0
      },
      "text/plain": [
       "Inner Folds:   0%|          | 0/9 [00:00<?, ?it/s]"
      ]
     },
     "metadata": {},
     "output_type": "display_data"
    },
    {
     "data": {
      "application/vnd.jupyter.widget-view+json": {
       "model_id": "",
       "version_major": 2,
       "version_minor": 0
      },
      "text/plain": [
       "Inner Folds:   0%|          | 0/9 [00:00<?, ?it/s]"
      ]
     },
     "metadata": {},
     "output_type": "display_data"
    },
    {
     "data": {
      "application/vnd.jupyter.widget-view+json": {
       "model_id": "",
       "version_major": 2,
       "version_minor": 0
      },
      "text/plain": [
       "Inner Folds:   0%|          | 0/9 [00:00<?, ?it/s]"
      ]
     },
     "metadata": {},
     "output_type": "display_data"
    },
    {
     "data": {
      "application/vnd.jupyter.widget-view+json": {
       "model_id": "",
       "version_major": 2,
       "version_minor": 0
      },
      "text/plain": [
       "Inner Folds:   0%|          | 0/9 [00:00<?, ?it/s]"
      ]
     },
     "metadata": {},
     "output_type": "display_data"
    },
    {
     "data": {
      "application/vnd.jupyter.widget-view+json": {
       "model_id": "",
       "version_major": 2,
       "version_minor": 0
      },
      "text/plain": [
       "Inner Folds:   0%|          | 0/9 [00:00<?, ?it/s]"
      ]
     },
     "metadata": {},
     "output_type": "display_data"
    },
    {
     "data": {
      "application/vnd.jupyter.widget-view+json": {
       "model_id": "",
       "version_major": 2,
       "version_minor": 0
      },
      "text/plain": [
       "Inner Folds:   0%|          | 0/9 [00:00<?, ?it/s]"
      ]
     },
     "metadata": {},
     "output_type": "display_data"
    },
    {
     "data": {
      "application/vnd.jupyter.widget-view+json": {
       "model_id": "",
       "version_major": 2,
       "version_minor": 0
      },
      "text/plain": [
       "Inner Folds:   0%|          | 0/9 [00:00<?, ?it/s]"
      ]
     },
     "metadata": {},
     "output_type": "display_data"
    },
    {
     "data": {
      "application/vnd.jupyter.widget-view+json": {
       "model_id": "",
       "version_major": 2,
       "version_minor": 0
      },
      "text/plain": [
       "Inner Folds:   0%|          | 0/9 [00:00<?, ?it/s]"
      ]
     },
     "metadata": {},
     "output_type": "display_data"
    },
    {
     "data": {
      "application/vnd.jupyter.widget-view+json": {
       "model_id": "",
       "version_major": 2,
       "version_minor": 0
      },
      "text/plain": [
       "Inner Folds:   0%|          | 0/9 [00:00<?, ?it/s]"
      ]
     },
     "metadata": {},
     "output_type": "display_data"
    },
    {
     "data": {
      "application/vnd.jupyter.widget-view+json": {
       "model_id": "",
       "version_major": 2,
       "version_minor": 0
      },
      "text/plain": [
       "Eval Folds:   0%|          | 0/10 [00:00<?, ?it/s]"
      ]
     },
     "metadata": {},
     "output_type": "display_data"
    },
    {
     "name": "stdout",
     "output_type": "stream",
     "text": [
      "Sampling\n"
     ]
    },
    {
     "data": {
      "application/vnd.jupyter.widget-view+json": {
       "model_id": "",
       "version_major": 2,
       "version_minor": 0
      },
      "text/plain": [
       "Bootstrapping rounds:   0%|          | 0/10000 [00:00<?, ?it/s]"
      ]
     },
     "metadata": {},
     "output_type": "display_data"
    },
    {
     "name": "stdout",
     "output_type": "stream",
     "text": [
      "Making results DF and curves\n",
      "../output/230314_bulgeOut_aligned/bootstrapping/CEDAR_mean_rocs_onehot_Inverted-KL_bulgeOutTrue_rank_only.pkl saved.\n"
     ]
    },
    {
     "data": {
      "application/vnd.jupyter.widget-view+json": {
       "model_id": "",
       "version_major": 2,
       "version_minor": 0
      },
      "text/plain": [
       "Eval Folds:   0%|          | 0/10 [00:00<?, ?it/s]"
      ]
     },
     "metadata": {},
     "output_type": "display_data"
    },
    {
     "name": "stdout",
     "output_type": "stream",
     "text": [
      "Sampling\n"
     ]
    },
    {
     "data": {
      "application/vnd.jupyter.widget-view+json": {
       "model_id": "",
       "version_major": 2,
       "version_minor": 0
      },
      "text/plain": [
       "Bootstrapping rounds:   0%|          | 0/10000 [00:00<?, ?it/s]"
      ]
     },
     "metadata": {},
     "output_type": "display_data"
    },
    {
     "name": "stdout",
     "output_type": "stream",
     "text": [
      "Making results DF and curves\n",
      "../output/230314_bulgeOut_aligned/bootstrapping/PRIME_mean_rocs_onehot_Inverted-KL_bulgeOutTrue_rank_only.pkl saved.\n"
     ]
    },
    {
     "data": {
      "application/vnd.jupyter.widget-view+json": {
       "model_id": "",
       "version_major": 2,
       "version_minor": 0
      },
      "text/plain": [
       "Eval Folds:   0%|          | 0/10 [00:00<?, ?it/s]"
      ]
     },
     "metadata": {},
     "output_type": "display_data"
    },
    {
     "name": "stdout",
     "output_type": "stream",
     "text": [
      "Sampling\n"
     ]
    },
    {
     "data": {
      "application/vnd.jupyter.widget-view+json": {
       "model_id": "",
       "version_major": 2,
       "version_minor": 0
      },
      "text/plain": [
       "Bootstrapping rounds:   0%|          | 0/10000 [00:00<?, ?it/s]"
      ]
     },
     "metadata": {},
     "output_type": "display_data"
    },
    {
     "name": "stdout",
     "output_type": "stream",
     "text": [
      "Making results DF and curves\n",
      "../output/230314_bulgeOut_aligned/bootstrapping/NEPDB_mean_rocs_onehot_Inverted-KL_bulgeOutTrue_rank_only.pkl saved.\n",
      "Training {'max_len': 9, 'encoding': 'onehot', 'blosum_matrix': None, 'mask': False, 'add_rank': True, 'add_aaprop': False, 'remove_pep': False, 'standardize': True, 'seq_col': 'core_mut', 'rank_col': 'EL_rank_mut', 'icore_bulge': True, 'core_col': 'core_mut', 'icore_col': 'icore_mut', 'invert': True}\n"
     ]
    },
    {
     "data": {
      "application/vnd.jupyter.widget-view+json": {
       "model_id": "",
       "version_major": 2,
       "version_minor": 0
      },
      "text/plain": [
       "Outer fold:   0%|          | 0/10 [00:00<?, ?it/s]"
      ]
     },
     "metadata": {},
     "output_type": "display_data"
    },
    {
     "data": {
      "application/vnd.jupyter.widget-view+json": {
       "model_id": "",
       "version_major": 2,
       "version_minor": 0
      },
      "text/plain": [
       "Inner Folds:   0%|          | 0/9 [00:00<?, ?it/s]"
      ]
     },
     "metadata": {},
     "output_type": "display_data"
    },
    {
     "data": {
      "application/vnd.jupyter.widget-view+json": {
       "model_id": "",
       "version_major": 2,
       "version_minor": 0
      },
      "text/plain": [
       "Inner Folds:   0%|          | 0/9 [00:00<?, ?it/s]"
      ]
     },
     "metadata": {},
     "output_type": "display_data"
    },
    {
     "data": {
      "application/vnd.jupyter.widget-view+json": {
       "model_id": "",
       "version_major": 2,
       "version_minor": 0
      },
      "text/plain": [
       "Inner Folds:   0%|          | 0/9 [00:00<?, ?it/s]"
      ]
     },
     "metadata": {},
     "output_type": "display_data"
    },
    {
     "data": {
      "application/vnd.jupyter.widget-view+json": {
       "model_id": "",
       "version_major": 2,
       "version_minor": 0
      },
      "text/plain": [
       "Inner Folds:   0%|          | 0/9 [00:00<?, ?it/s]"
      ]
     },
     "metadata": {},
     "output_type": "display_data"
    },
    {
     "data": {
      "application/vnd.jupyter.widget-view+json": {
       "model_id": "",
       "version_major": 2,
       "version_minor": 0
      },
      "text/plain": [
       "Inner Folds:   0%|          | 0/9 [00:00<?, ?it/s]"
      ]
     },
     "metadata": {},
     "output_type": "display_data"
    },
    {
     "data": {
      "application/vnd.jupyter.widget-view+json": {
       "model_id": "",
       "version_major": 2,
       "version_minor": 0
      },
      "text/plain": [
       "Inner Folds:   0%|          | 0/9 [00:00<?, ?it/s]"
      ]
     },
     "metadata": {},
     "output_type": "display_data"
    },
    {
     "data": {
      "application/vnd.jupyter.widget-view+json": {
       "model_id": "",
       "version_major": 2,
       "version_minor": 0
      },
      "text/plain": [
       "Inner Folds:   0%|          | 0/9 [00:00<?, ?it/s]"
      ]
     },
     "metadata": {},
     "output_type": "display_data"
    },
    {
     "data": {
      "application/vnd.jupyter.widget-view+json": {
       "model_id": "",
       "version_major": 2,
       "version_minor": 0
      },
      "text/plain": [
       "Inner Folds:   0%|          | 0/9 [00:00<?, ?it/s]"
      ]
     },
     "metadata": {},
     "output_type": "display_data"
    },
    {
     "data": {
      "application/vnd.jupyter.widget-view+json": {
       "model_id": "",
       "version_major": 2,
       "version_minor": 0
      },
      "text/plain": [
       "Inner Folds:   0%|          | 0/9 [00:00<?, ?it/s]"
      ]
     },
     "metadata": {},
     "output_type": "display_data"
    },
    {
     "data": {
      "application/vnd.jupyter.widget-view+json": {
       "model_id": "",
       "version_major": 2,
       "version_minor": 0
      },
      "text/plain": [
       "Inner Folds:   0%|          | 0/9 [00:00<?, ?it/s]"
      ]
     },
     "metadata": {},
     "output_type": "display_data"
    },
    {
     "data": {
      "application/vnd.jupyter.widget-view+json": {
       "model_id": "",
       "version_major": 2,
       "version_minor": 0
      },
      "text/plain": [
       "Eval Folds:   0%|          | 0/10 [00:00<?, ?it/s]"
      ]
     },
     "metadata": {},
     "output_type": "display_data"
    },
    {
     "name": "stdout",
     "output_type": "stream",
     "text": [
      "Sampling\n"
     ]
    },
    {
     "data": {
      "application/vnd.jupyter.widget-view+json": {
       "model_id": "",
       "version_major": 2,
       "version_minor": 0
      },
      "text/plain": [
       "Bootstrapping rounds:   0%|          | 0/10000 [00:00<?, ?it/s]"
      ]
     },
     "metadata": {},
     "output_type": "display_data"
    },
    {
     "name": "stdout",
     "output_type": "stream",
     "text": [
      "Making results DF and curves\n",
      "../output/230314_bulgeOut_aligned/bootstrapping/CEDAR_mean_rocs_onehot_Inverted-Shannon_bulgeOutTrue_rank_only.pkl saved.\n"
     ]
    },
    {
     "data": {
      "application/vnd.jupyter.widget-view+json": {
       "model_id": "",
       "version_major": 2,
       "version_minor": 0
      },
      "text/plain": [
       "Eval Folds:   0%|          | 0/10 [00:00<?, ?it/s]"
      ]
     },
     "metadata": {},
     "output_type": "display_data"
    },
    {
     "name": "stdout",
     "output_type": "stream",
     "text": [
      "Sampling\n"
     ]
    },
    {
     "data": {
      "application/vnd.jupyter.widget-view+json": {
       "model_id": "",
       "version_major": 2,
       "version_minor": 0
      },
      "text/plain": [
       "Bootstrapping rounds:   0%|          | 0/10000 [00:00<?, ?it/s]"
      ]
     },
     "metadata": {},
     "output_type": "display_data"
    },
    {
     "name": "stdout",
     "output_type": "stream",
     "text": [
      "Making results DF and curves\n",
      "../output/230314_bulgeOut_aligned/bootstrapping/PRIME_mean_rocs_onehot_Inverted-Shannon_bulgeOutTrue_rank_only.pkl saved.\n"
     ]
    },
    {
     "data": {
      "application/vnd.jupyter.widget-view+json": {
       "model_id": "",
       "version_major": 2,
       "version_minor": 0
      },
      "text/plain": [
       "Eval Folds:   0%|          | 0/10 [00:00<?, ?it/s]"
      ]
     },
     "metadata": {},
     "output_type": "display_data"
    },
    {
     "name": "stdout",
     "output_type": "stream",
     "text": [
      "Sampling\n"
     ]
    },
    {
     "data": {
      "application/vnd.jupyter.widget-view+json": {
       "model_id": "",
       "version_major": 2,
       "version_minor": 0
      },
      "text/plain": [
       "Bootstrapping rounds:   0%|          | 0/10000 [00:00<?, ?it/s]"
      ]
     },
     "metadata": {},
     "output_type": "display_data"
    },
    {
     "name": "stdout",
     "output_type": "stream",
     "text": [
      "Making results DF and curves\n",
      "../output/230314_bulgeOut_aligned/bootstrapping/NEPDB_mean_rocs_onehot_Inverted-Shannon_bulgeOutTrue_rank_only.pkl saved.\n"
     ]
    },
    {
     "data": {
      "application/vnd.jupyter.widget-view+json": {
       "model_id": "",
       "version_major": 2,
       "version_minor": 0
      },
      "text/plain": [
       "Weighting: 0it [00:00, ?it/s]"
      ]
     },
     "metadata": {},
     "output_type": "display_data"
    },
    {
     "name": "stdout",
     "output_type": "stream",
     "text": [
      "Training {'max_len': 9, 'encoding': 'onehot', 'blosum_matrix': None, 'mask': True, 'add_rank': True, 'add_aaprop': False, 'remove_pep': False, 'standardize': True, 'seq_col': 'core_mut', 'rank_col': 'EL_rank_mut', 'icore_bulge': True, 'core_col': 'core_mut', 'icore_col': 'icore_mut', 'invert': False}\n"
     ]
    },
    {
     "data": {
      "application/vnd.jupyter.widget-view+json": {
       "model_id": "",
       "version_major": 2,
       "version_minor": 0
      },
      "text/plain": [
       "Outer fold:   0%|          | 0/10 [00:00<?, ?it/s]"
      ]
     },
     "metadata": {},
     "output_type": "display_data"
    },
    {
     "data": {
      "application/vnd.jupyter.widget-view+json": {
       "model_id": "",
       "version_major": 2,
       "version_minor": 0
      },
      "text/plain": [
       "Inner Folds:   0%|          | 0/9 [00:00<?, ?it/s]"
      ]
     },
     "metadata": {},
     "output_type": "display_data"
    },
    {
     "data": {
      "application/vnd.jupyter.widget-view+json": {
       "model_id": "",
       "version_major": 2,
       "version_minor": 0
      },
      "text/plain": [
       "Inner Folds:   0%|          | 0/9 [00:00<?, ?it/s]"
      ]
     },
     "metadata": {},
     "output_type": "display_data"
    },
    {
     "data": {
      "application/vnd.jupyter.widget-view+json": {
       "model_id": "",
       "version_major": 2,
       "version_minor": 0
      },
      "text/plain": [
       "Inner Folds:   0%|          | 0/9 [00:00<?, ?it/s]"
      ]
     },
     "metadata": {},
     "output_type": "display_data"
    },
    {
     "data": {
      "application/vnd.jupyter.widget-view+json": {
       "model_id": "",
       "version_major": 2,
       "version_minor": 0
      },
      "text/plain": [
       "Inner Folds:   0%|          | 0/9 [00:00<?, ?it/s]"
      ]
     },
     "metadata": {},
     "output_type": "display_data"
    },
    {
     "data": {
      "application/vnd.jupyter.widget-view+json": {
       "model_id": "",
       "version_major": 2,
       "version_minor": 0
      },
      "text/plain": [
       "Inner Folds:   0%|          | 0/9 [00:00<?, ?it/s]"
      ]
     },
     "metadata": {},
     "output_type": "display_data"
    },
    {
     "data": {
      "application/vnd.jupyter.widget-view+json": {
       "model_id": "",
       "version_major": 2,
       "version_minor": 0
      },
      "text/plain": [
       "Inner Folds:   0%|          | 0/9 [00:00<?, ?it/s]"
      ]
     },
     "metadata": {},
     "output_type": "display_data"
    },
    {
     "data": {
      "application/vnd.jupyter.widget-view+json": {
       "model_id": "",
       "version_major": 2,
       "version_minor": 0
      },
      "text/plain": [
       "Inner Folds:   0%|          | 0/9 [00:00<?, ?it/s]"
      ]
     },
     "metadata": {},
     "output_type": "display_data"
    },
    {
     "data": {
      "application/vnd.jupyter.widget-view+json": {
       "model_id": "",
       "version_major": 2,
       "version_minor": 0
      },
      "text/plain": [
       "Inner Folds:   0%|          | 0/9 [00:00<?, ?it/s]"
      ]
     },
     "metadata": {},
     "output_type": "display_data"
    },
    {
     "data": {
      "application/vnd.jupyter.widget-view+json": {
       "model_id": "",
       "version_major": 2,
       "version_minor": 0
      },
      "text/plain": [
       "Inner Folds:   0%|          | 0/9 [00:00<?, ?it/s]"
      ]
     },
     "metadata": {},
     "output_type": "display_data"
    },
    {
     "data": {
      "application/vnd.jupyter.widget-view+json": {
       "model_id": "",
       "version_major": 2,
       "version_minor": 0
      },
      "text/plain": [
       "Inner Folds:   0%|          | 0/9 [00:00<?, ?it/s]"
      ]
     },
     "metadata": {},
     "output_type": "display_data"
    },
    {
     "data": {
      "application/vnd.jupyter.widget-view+json": {
       "model_id": "",
       "version_major": 2,
       "version_minor": 0
      },
      "text/plain": [
       "Eval Folds:   0%|          | 0/10 [00:00<?, ?it/s]"
      ]
     },
     "metadata": {},
     "output_type": "display_data"
    },
    {
     "name": "stdout",
     "output_type": "stream",
     "text": [
      "Sampling\n"
     ]
    },
    {
     "data": {
      "application/vnd.jupyter.widget-view+json": {
       "model_id": "",
       "version_major": 2,
       "version_minor": 0
      },
      "text/plain": [
       "Bootstrapping rounds:   0%|          | 0/10000 [00:00<?, ?it/s]"
      ]
     },
     "metadata": {},
     "output_type": "display_data"
    },
    {
     "name": "stdout",
     "output_type": "stream",
     "text": [
      "Making results DF and curves\n",
      "../output/230314_bulgeOut_aligned/bootstrapping/CEDAR_mean_rocs_onehot_Mask_bulgeOutTrue_rank_only.pkl saved.\n"
     ]
    },
    {
     "data": {
      "application/vnd.jupyter.widget-view+json": {
       "model_id": "",
       "version_major": 2,
       "version_minor": 0
      },
      "text/plain": [
       "Eval Folds:   0%|          | 0/10 [00:00<?, ?it/s]"
      ]
     },
     "metadata": {},
     "output_type": "display_data"
    },
    {
     "name": "stdout",
     "output_type": "stream",
     "text": [
      "Sampling\n"
     ]
    },
    {
     "data": {
      "application/vnd.jupyter.widget-view+json": {
       "model_id": "",
       "version_major": 2,
       "version_minor": 0
      },
      "text/plain": [
       "Bootstrapping rounds:   0%|          | 0/10000 [00:00<?, ?it/s]"
      ]
     },
     "metadata": {},
     "output_type": "display_data"
    },
    {
     "name": "stdout",
     "output_type": "stream",
     "text": [
      "Making results DF and curves\n",
      "../output/230314_bulgeOut_aligned/bootstrapping/PRIME_mean_rocs_onehot_Mask_bulgeOutTrue_rank_only.pkl saved.\n"
     ]
    },
    {
     "data": {
      "application/vnd.jupyter.widget-view+json": {
       "model_id": "",
       "version_major": 2,
       "version_minor": 0
      },
      "text/plain": [
       "Eval Folds:   0%|          | 0/10 [00:00<?, ?it/s]"
      ]
     },
     "metadata": {},
     "output_type": "display_data"
    },
    {
     "name": "stdout",
     "output_type": "stream",
     "text": [
      "Sampling\n"
     ]
    },
    {
     "data": {
      "application/vnd.jupyter.widget-view+json": {
       "model_id": "",
       "version_major": 2,
       "version_minor": 0
      },
      "text/plain": [
       "Bootstrapping rounds:   0%|          | 0/10000 [00:00<?, ?it/s]"
      ]
     },
     "metadata": {},
     "output_type": "display_data"
    },
    {
     "name": "stdout",
     "output_type": "stream",
     "text": [
      "Making results DF and curves\n",
      "../output/230314_bulgeOut_aligned/bootstrapping/NEPDB_mean_rocs_onehot_Mask_bulgeOutTrue_rank_only.pkl saved.\n",
      "Training {'max_len': 9, 'encoding': 'onehot', 'blosum_matrix': None, 'mask': False, 'add_rank': True, 'add_aaprop': False, 'remove_pep': False, 'standardize': True, 'seq_col': 'core_mut', 'rank_col': 'EL_rank_mut', 'icore_bulge': True, 'core_col': 'core_mut', 'icore_col': 'icore_mut', 'invert': False}\n"
     ]
    },
    {
     "data": {
      "application/vnd.jupyter.widget-view+json": {
       "model_id": "",
       "version_major": 2,
       "version_minor": 0
      },
      "text/plain": [
       "Outer fold:   0%|          | 0/10 [00:00<?, ?it/s]"
      ]
     },
     "metadata": {},
     "output_type": "display_data"
    },
    {
     "data": {
      "application/vnd.jupyter.widget-view+json": {
       "model_id": "",
       "version_major": 2,
       "version_minor": 0
      },
      "text/plain": [
       "Inner Folds:   0%|          | 0/9 [00:00<?, ?it/s]"
      ]
     },
     "metadata": {},
     "output_type": "display_data"
    },
    {
     "data": {
      "application/vnd.jupyter.widget-view+json": {
       "model_id": "",
       "version_major": 2,
       "version_minor": 0
      },
      "text/plain": [
       "Inner Folds:   0%|          | 0/9 [00:00<?, ?it/s]"
      ]
     },
     "metadata": {},
     "output_type": "display_data"
    },
    {
     "data": {
      "application/vnd.jupyter.widget-view+json": {
       "model_id": "",
       "version_major": 2,
       "version_minor": 0
      },
      "text/plain": [
       "Inner Folds:   0%|          | 0/9 [00:00<?, ?it/s]"
      ]
     },
     "metadata": {},
     "output_type": "display_data"
    },
    {
     "data": {
      "application/vnd.jupyter.widget-view+json": {
       "model_id": "",
       "version_major": 2,
       "version_minor": 0
      },
      "text/plain": [
       "Inner Folds:   0%|          | 0/9 [00:00<?, ?it/s]"
      ]
     },
     "metadata": {},
     "output_type": "display_data"
    },
    {
     "data": {
      "application/vnd.jupyter.widget-view+json": {
       "model_id": "",
       "version_major": 2,
       "version_minor": 0
      },
      "text/plain": [
       "Inner Folds:   0%|          | 0/9 [00:00<?, ?it/s]"
      ]
     },
     "metadata": {},
     "output_type": "display_data"
    },
    {
     "data": {
      "application/vnd.jupyter.widget-view+json": {
       "model_id": "",
       "version_major": 2,
       "version_minor": 0
      },
      "text/plain": [
       "Inner Folds:   0%|          | 0/9 [00:00<?, ?it/s]"
      ]
     },
     "metadata": {},
     "output_type": "display_data"
    },
    {
     "data": {
      "application/vnd.jupyter.widget-view+json": {
       "model_id": "",
       "version_major": 2,
       "version_minor": 0
      },
      "text/plain": [
       "Inner Folds:   0%|          | 0/9 [00:00<?, ?it/s]"
      ]
     },
     "metadata": {},
     "output_type": "display_data"
    },
    {
     "data": {
      "application/vnd.jupyter.widget-view+json": {
       "model_id": "",
       "version_major": 2,
       "version_minor": 0
      },
      "text/plain": [
       "Inner Folds:   0%|          | 0/9 [00:00<?, ?it/s]"
      ]
     },
     "metadata": {},
     "output_type": "display_data"
    },
    {
     "data": {
      "application/vnd.jupyter.widget-view+json": {
       "model_id": "",
       "version_major": 2,
       "version_minor": 0
      },
      "text/plain": [
       "Inner Folds:   0%|          | 0/9 [00:00<?, ?it/s]"
      ]
     },
     "metadata": {},
     "output_type": "display_data"
    },
    {
     "data": {
      "application/vnd.jupyter.widget-view+json": {
       "model_id": "",
       "version_major": 2,
       "version_minor": 0
      },
      "text/plain": [
       "Inner Folds:   0%|          | 0/9 [00:00<?, ?it/s]"
      ]
     },
     "metadata": {},
     "output_type": "display_data"
    },
    {
     "data": {
      "application/vnd.jupyter.widget-view+json": {
       "model_id": "",
       "version_major": 2,
       "version_minor": 0
      },
      "text/plain": [
       "Eval Folds:   0%|          | 0/10 [00:00<?, ?it/s]"
      ]
     },
     "metadata": {},
     "output_type": "display_data"
    },
    {
     "name": "stdout",
     "output_type": "stream",
     "text": [
      "Sampling\n"
     ]
    },
    {
     "data": {
      "application/vnd.jupyter.widget-view+json": {
       "model_id": "",
       "version_major": 2,
       "version_minor": 0
      },
      "text/plain": [
       "Bootstrapping rounds:   0%|          | 0/10000 [00:00<?, ?it/s]"
      ]
     },
     "metadata": {},
     "output_type": "display_data"
    },
    {
     "name": "stdout",
     "output_type": "stream",
     "text": [
      "Making results DF and curves\n",
      "../output/230314_bulgeOut_aligned/bootstrapping/CEDAR_mean_rocs_onehot_KL_bulgeOutTrue_rank_only.pkl saved.\n"
     ]
    },
    {
     "data": {
      "application/vnd.jupyter.widget-view+json": {
       "model_id": "",
       "version_major": 2,
       "version_minor": 0
      },
      "text/plain": [
       "Eval Folds:   0%|          | 0/10 [00:00<?, ?it/s]"
      ]
     },
     "metadata": {},
     "output_type": "display_data"
    },
    {
     "name": "stdout",
     "output_type": "stream",
     "text": [
      "Sampling\n"
     ]
    },
    {
     "data": {
      "application/vnd.jupyter.widget-view+json": {
       "model_id": "",
       "version_major": 2,
       "version_minor": 0
      },
      "text/plain": [
       "Bootstrapping rounds:   0%|          | 0/10000 [00:00<?, ?it/s]"
      ]
     },
     "metadata": {},
     "output_type": "display_data"
    },
    {
     "name": "stdout",
     "output_type": "stream",
     "text": [
      "Making results DF and curves\n",
      "../output/230314_bulgeOut_aligned/bootstrapping/PRIME_mean_rocs_onehot_KL_bulgeOutTrue_rank_only.pkl saved.\n"
     ]
    },
    {
     "data": {
      "application/vnd.jupyter.widget-view+json": {
       "model_id": "",
       "version_major": 2,
       "version_minor": 0
      },
      "text/plain": [
       "Eval Folds:   0%|          | 0/10 [00:00<?, ?it/s]"
      ]
     },
     "metadata": {},
     "output_type": "display_data"
    },
    {
     "name": "stdout",
     "output_type": "stream",
     "text": [
      "Sampling\n"
     ]
    },
    {
     "data": {
      "application/vnd.jupyter.widget-view+json": {
       "model_id": "",
       "version_major": 2,
       "version_minor": 0
      },
      "text/plain": [
       "Bootstrapping rounds:   0%|          | 0/10000 [00:00<?, ?it/s]"
      ]
     },
     "metadata": {},
     "output_type": "display_data"
    },
    {
     "name": "stdout",
     "output_type": "stream",
     "text": [
      "Making results DF and curves\n",
      "../output/230314_bulgeOut_aligned/bootstrapping/NEPDB_mean_rocs_onehot_KL_bulgeOutTrue_rank_only.pkl saved.\n",
      "Training {'max_len': 9, 'encoding': 'onehot', 'blosum_matrix': None, 'mask': False, 'add_rank': True, 'add_aaprop': False, 'remove_pep': False, 'standardize': True, 'seq_col': 'core_mut', 'rank_col': 'EL_rank_mut', 'icore_bulge': True, 'core_col': 'core_mut', 'icore_col': 'icore_mut', 'invert': False}\n"
     ]
    },
    {
     "data": {
      "application/vnd.jupyter.widget-view+json": {
       "model_id": "",
       "version_major": 2,
       "version_minor": 0
      },
      "text/plain": [
       "Outer fold:   0%|          | 0/10 [00:00<?, ?it/s]"
      ]
     },
     "metadata": {},
     "output_type": "display_data"
    },
    {
     "data": {
      "application/vnd.jupyter.widget-view+json": {
       "model_id": "",
       "version_major": 2,
       "version_minor": 0
      },
      "text/plain": [
       "Inner Folds:   0%|          | 0/9 [00:00<?, ?it/s]"
      ]
     },
     "metadata": {},
     "output_type": "display_data"
    },
    {
     "data": {
      "application/vnd.jupyter.widget-view+json": {
       "model_id": "",
       "version_major": 2,
       "version_minor": 0
      },
      "text/plain": [
       "Inner Folds:   0%|          | 0/9 [00:00<?, ?it/s]"
      ]
     },
     "metadata": {},
     "output_type": "display_data"
    },
    {
     "data": {
      "application/vnd.jupyter.widget-view+json": {
       "model_id": "",
       "version_major": 2,
       "version_minor": 0
      },
      "text/plain": [
       "Inner Folds:   0%|          | 0/9 [00:00<?, ?it/s]"
      ]
     },
     "metadata": {},
     "output_type": "display_data"
    },
    {
     "data": {
      "application/vnd.jupyter.widget-view+json": {
       "model_id": "",
       "version_major": 2,
       "version_minor": 0
      },
      "text/plain": [
       "Inner Folds:   0%|          | 0/9 [00:00<?, ?it/s]"
      ]
     },
     "metadata": {},
     "output_type": "display_data"
    },
    {
     "data": {
      "application/vnd.jupyter.widget-view+json": {
       "model_id": "",
       "version_major": 2,
       "version_minor": 0
      },
      "text/plain": [
       "Inner Folds:   0%|          | 0/9 [00:00<?, ?it/s]"
      ]
     },
     "metadata": {},
     "output_type": "display_data"
    },
    {
     "data": {
      "application/vnd.jupyter.widget-view+json": {
       "model_id": "",
       "version_major": 2,
       "version_minor": 0
      },
      "text/plain": [
       "Inner Folds:   0%|          | 0/9 [00:00<?, ?it/s]"
      ]
     },
     "metadata": {},
     "output_type": "display_data"
    },
    {
     "data": {
      "application/vnd.jupyter.widget-view+json": {
       "model_id": "",
       "version_major": 2,
       "version_minor": 0
      },
      "text/plain": [
       "Inner Folds:   0%|          | 0/9 [00:00<?, ?it/s]"
      ]
     },
     "metadata": {},
     "output_type": "display_data"
    },
    {
     "data": {
      "application/vnd.jupyter.widget-view+json": {
       "model_id": "",
       "version_major": 2,
       "version_minor": 0
      },
      "text/plain": [
       "Inner Folds:   0%|          | 0/9 [00:00<?, ?it/s]"
      ]
     },
     "metadata": {},
     "output_type": "display_data"
    },
    {
     "data": {
      "application/vnd.jupyter.widget-view+json": {
       "model_id": "",
       "version_major": 2,
       "version_minor": 0
      },
      "text/plain": [
       "Inner Folds:   0%|          | 0/9 [00:00<?, ?it/s]"
      ]
     },
     "metadata": {},
     "output_type": "display_data"
    },
    {
     "data": {
      "application/vnd.jupyter.widget-view+json": {
       "model_id": "",
       "version_major": 2,
       "version_minor": 0
      },
      "text/plain": [
       "Inner Folds:   0%|          | 0/9 [00:00<?, ?it/s]"
      ]
     },
     "metadata": {},
     "output_type": "display_data"
    },
    {
     "data": {
      "application/vnd.jupyter.widget-view+json": {
       "model_id": "",
       "version_major": 2,
       "version_minor": 0
      },
      "text/plain": [
       "Eval Folds:   0%|          | 0/10 [00:00<?, ?it/s]"
      ]
     },
     "metadata": {},
     "output_type": "display_data"
    },
    {
     "name": "stdout",
     "output_type": "stream",
     "text": [
      "Sampling\n"
     ]
    },
    {
     "data": {
      "application/vnd.jupyter.widget-view+json": {
       "model_id": "",
       "version_major": 2,
       "version_minor": 0
      },
      "text/plain": [
       "Bootstrapping rounds:   0%|          | 0/10000 [00:00<?, ?it/s]"
      ]
     },
     "metadata": {},
     "output_type": "display_data"
    },
    {
     "name": "stdout",
     "output_type": "stream",
     "text": [
      "Making results DF and curves\n",
      "../output/230314_bulgeOut_aligned/bootstrapping/CEDAR_mean_rocs_onehot_None_bulgeOutTrue_rank_only.pkl saved.\n"
     ]
    },
    {
     "data": {
      "application/vnd.jupyter.widget-view+json": {
       "model_id": "",
       "version_major": 2,
       "version_minor": 0
      },
      "text/plain": [
       "Eval Folds:   0%|          | 0/10 [00:00<?, ?it/s]"
      ]
     },
     "metadata": {},
     "output_type": "display_data"
    },
    {
     "name": "stdout",
     "output_type": "stream",
     "text": [
      "Sampling\n"
     ]
    },
    {
     "data": {
      "application/vnd.jupyter.widget-view+json": {
       "model_id": "",
       "version_major": 2,
       "version_minor": 0
      },
      "text/plain": [
       "Bootstrapping rounds:   0%|          | 0/10000 [00:00<?, ?it/s]"
      ]
     },
     "metadata": {},
     "output_type": "display_data"
    },
    {
     "name": "stdout",
     "output_type": "stream",
     "text": [
      "Making results DF and curves\n",
      "../output/230314_bulgeOut_aligned/bootstrapping/PRIME_mean_rocs_onehot_None_bulgeOutTrue_rank_only.pkl saved.\n"
     ]
    },
    {
     "data": {
      "application/vnd.jupyter.widget-view+json": {
       "model_id": "",
       "version_major": 2,
       "version_minor": 0
      },
      "text/plain": [
       "Eval Folds:   0%|          | 0/10 [00:00<?, ?it/s]"
      ]
     },
     "metadata": {},
     "output_type": "display_data"
    },
    {
     "name": "stdout",
     "output_type": "stream",
     "text": [
      "Sampling\n"
     ]
    },
    {
     "data": {
      "application/vnd.jupyter.widget-view+json": {
       "model_id": "",
       "version_major": 2,
       "version_minor": 0
      },
      "text/plain": [
       "Bootstrapping rounds:   0%|          | 0/10000 [00:00<?, ?it/s]"
      ]
     },
     "metadata": {},
     "output_type": "display_data"
    },
    {
     "name": "stdout",
     "output_type": "stream",
     "text": [
      "Making results DF and curves\n",
      "../output/230314_bulgeOut_aligned/bootstrapping/NEPDB_mean_rocs_onehot_None_bulgeOutTrue_rank_only.pkl saved.\n",
      "Training {'max_len': 9, 'encoding': 'onehot', 'blosum_matrix': None, 'mask': False, 'add_rank': True, 'add_aaprop': False, 'remove_pep': False, 'standardize': True, 'seq_col': 'core_mut', 'rank_col': 'EL_rank_mut', 'icore_bulge': True, 'core_col': 'core_mut', 'icore_col': 'icore_mut', 'invert': False}\n"
     ]
    },
    {
     "data": {
      "application/vnd.jupyter.widget-view+json": {
       "model_id": "",
       "version_major": 2,
       "version_minor": 0
      },
      "text/plain": [
       "Outer fold:   0%|          | 0/10 [00:00<?, ?it/s]"
      ]
     },
     "metadata": {},
     "output_type": "display_data"
    },
    {
     "data": {
      "application/vnd.jupyter.widget-view+json": {
       "model_id": "",
       "version_major": 2,
       "version_minor": 0
      },
      "text/plain": [
       "Inner Folds:   0%|          | 0/9 [00:00<?, ?it/s]"
      ]
     },
     "metadata": {},
     "output_type": "display_data"
    },
    {
     "data": {
      "application/vnd.jupyter.widget-view+json": {
       "model_id": "",
       "version_major": 2,
       "version_minor": 0
      },
      "text/plain": [
       "Inner Folds:   0%|          | 0/9 [00:00<?, ?it/s]"
      ]
     },
     "metadata": {},
     "output_type": "display_data"
    },
    {
     "data": {
      "application/vnd.jupyter.widget-view+json": {
       "model_id": "",
       "version_major": 2,
       "version_minor": 0
      },
      "text/plain": [
       "Inner Folds:   0%|          | 0/9 [00:00<?, ?it/s]"
      ]
     },
     "metadata": {},
     "output_type": "display_data"
    },
    {
     "data": {
      "application/vnd.jupyter.widget-view+json": {
       "model_id": "",
       "version_major": 2,
       "version_minor": 0
      },
      "text/plain": [
       "Inner Folds:   0%|          | 0/9 [00:00<?, ?it/s]"
      ]
     },
     "metadata": {},
     "output_type": "display_data"
    },
    {
     "data": {
      "application/vnd.jupyter.widget-view+json": {
       "model_id": "",
       "version_major": 2,
       "version_minor": 0
      },
      "text/plain": [
       "Inner Folds:   0%|          | 0/9 [00:00<?, ?it/s]"
      ]
     },
     "metadata": {},
     "output_type": "display_data"
    },
    {
     "data": {
      "application/vnd.jupyter.widget-view+json": {
       "model_id": "",
       "version_major": 2,
       "version_minor": 0
      },
      "text/plain": [
       "Inner Folds:   0%|          | 0/9 [00:00<?, ?it/s]"
      ]
     },
     "metadata": {},
     "output_type": "display_data"
    },
    {
     "data": {
      "application/vnd.jupyter.widget-view+json": {
       "model_id": "",
       "version_major": 2,
       "version_minor": 0
      },
      "text/plain": [
       "Inner Folds:   0%|          | 0/9 [00:00<?, ?it/s]"
      ]
     },
     "metadata": {},
     "output_type": "display_data"
    },
    {
     "data": {
      "application/vnd.jupyter.widget-view+json": {
       "model_id": "",
       "version_major": 2,
       "version_minor": 0
      },
      "text/plain": [
       "Inner Folds:   0%|          | 0/9 [00:00<?, ?it/s]"
      ]
     },
     "metadata": {},
     "output_type": "display_data"
    },
    {
     "data": {
      "application/vnd.jupyter.widget-view+json": {
       "model_id": "",
       "version_major": 2,
       "version_minor": 0
      },
      "text/plain": [
       "Inner Folds:   0%|          | 0/9 [00:00<?, ?it/s]"
      ]
     },
     "metadata": {},
     "output_type": "display_data"
    },
    {
     "data": {
      "application/vnd.jupyter.widget-view+json": {
       "model_id": "",
       "version_major": 2,
       "version_minor": 0
      },
      "text/plain": [
       "Inner Folds:   0%|          | 0/9 [00:00<?, ?it/s]"
      ]
     },
     "metadata": {},
     "output_type": "display_data"
    },
    {
     "data": {
      "application/vnd.jupyter.widget-view+json": {
       "model_id": "",
       "version_major": 2,
       "version_minor": 0
      },
      "text/plain": [
       "Eval Folds:   0%|          | 0/10 [00:00<?, ?it/s]"
      ]
     },
     "metadata": {},
     "output_type": "display_data"
    },
    {
     "name": "stdout",
     "output_type": "stream",
     "text": [
      "Sampling\n"
     ]
    },
    {
     "data": {
      "application/vnd.jupyter.widget-view+json": {
       "model_id": "",
       "version_major": 2,
       "version_minor": 0
      },
      "text/plain": [
       "Bootstrapping rounds:   0%|          | 0/10000 [00:00<?, ?it/s]"
      ]
     },
     "metadata": {},
     "output_type": "display_data"
    },
    {
     "name": "stdout",
     "output_type": "stream",
     "text": [
      "Making results DF and curves\n",
      "../output/230314_bulgeOut_aligned/bootstrapping/CEDAR_mean_rocs_onehot_Shannon_bulgeOutTrue_rank_only.pkl saved.\n"
     ]
    },
    {
     "data": {
      "application/vnd.jupyter.widget-view+json": {
       "model_id": "",
       "version_major": 2,
       "version_minor": 0
      },
      "text/plain": [
       "Eval Folds:   0%|          | 0/10 [00:00<?, ?it/s]"
      ]
     },
     "metadata": {},
     "output_type": "display_data"
    },
    {
     "name": "stdout",
     "output_type": "stream",
     "text": [
      "Sampling\n"
     ]
    },
    {
     "data": {
      "application/vnd.jupyter.widget-view+json": {
       "model_id": "",
       "version_major": 2,
       "version_minor": 0
      },
      "text/plain": [
       "Bootstrapping rounds:   0%|          | 0/10000 [00:00<?, ?it/s]"
      ]
     },
     "metadata": {},
     "output_type": "display_data"
    },
    {
     "name": "stdout",
     "output_type": "stream",
     "text": [
      "Making results DF and curves\n",
      "../output/230314_bulgeOut_aligned/bootstrapping/PRIME_mean_rocs_onehot_Shannon_bulgeOutTrue_rank_only.pkl saved.\n"
     ]
    },
    {
     "data": {
      "application/vnd.jupyter.widget-view+json": {
       "model_id": "",
       "version_major": 2,
       "version_minor": 0
      },
      "text/plain": [
       "Eval Folds:   0%|          | 0/10 [00:00<?, ?it/s]"
      ]
     },
     "metadata": {},
     "output_type": "display_data"
    },
    {
     "name": "stdout",
     "output_type": "stream",
     "text": [
      "Sampling\n"
     ]
    },
    {
     "data": {
      "application/vnd.jupyter.widget-view+json": {
       "model_id": "",
       "version_major": 2,
       "version_minor": 0
      },
      "text/plain": [
       "Bootstrapping rounds:   0%|          | 0/10000 [00:00<?, ?it/s]"
      ]
     },
     "metadata": {},
     "output_type": "display_data"
    },
    {
     "name": "stdout",
     "output_type": "stream",
     "text": [
      "Making results DF and curves\n",
      "../output/230314_bulgeOut_aligned/bootstrapping/NEPDB_mean_rocs_onehot_Shannon_bulgeOutTrue_rank_only.pkl saved.\n"
     ]
    }
   ],
   "source": [
    "from src.utils import mkdirs\n",
    "from sklearn.ensemble import RandomForestClassifier\n",
    "from src.sklearn_train_eval import nested_kcv_train_sklearn, evaluate_trained_models_sklearn\n",
    "outdir = '../output/230314_bulgeOut_aligned/'\n",
    "mkdirs(outdir)\n",
    "mkdirs(f'{outdir}raw/')\n",
    "mkdirs(f'{outdir}bootstrapping/')\n",
    "\n",
    "train_dataset = cedar_aligned\n",
    "cedar_dataset = cedar_aligned\n",
    "prime_dataset = prime_aligned\n",
    "nepdb_dataset = nepdb_aligned\n",
    "\n",
    "\n",
    "def final_bootstrap_wrapper(preds_df, filename, ic_name, icore_bulge, key, evalset,\n",
    "                            n_rounds=10000, n_jobs=36):\n",
    "    scores = preds_df.pred.values if 'pred' in preds_df.columns else preds_df['mean_pred'].values\n",
    "    targets = preds_df.agg_label.values if 'agg_label' in preds_df.columns else preds_df['Immunogenicity'].values\n",
    "\n",
    "    bootstrapped_df, mean_rocs = bootstrap_eval(y_score=scores,\n",
    "                                                y_true=targets,\n",
    "                                                n_rounds=n_rounds, n_jobs=n_jobs)\n",
    "    bootstrapped_df['encoding'] = 'onehot'\n",
    "    bootstrapped_df['bulgeOut'] = icore_bulge\n",
    "    bootstrapped_df['weight'] = ic_name\n",
    "    bootstrapped_df['pep_col'] = 'core_mut'\n",
    "    bootstrapped_df['rank_col'] = 'EL_rank_mut'\n",
    "    bootstrapped_df['key'] = key\n",
    "    bootstrapped_df['evalset'] = evalset.upper()\n",
    "\n",
    "    bootstrapped_df.to_csv(\n",
    "        f'{outdir}bootstrapping/{evalset}_bootstrapped_df_{filename}.csv',\n",
    "        index=False)\n",
    "    pkl_dump(mean_rocs,\n",
    "             f'{outdir}bootstrapping/{evalset}_mean_rocs_{filename}.pkl')\n",
    "\n",
    "    return bootstrapped_df\n",
    "\n",
    "encoding_kwargs = dict(max_len=9, encoding='onehot', blosum_matrix=None, mask=False, add_rank=True,\n",
    "                       add_aaprop=False, remove_pep=False, standardize=True, seq_col='core_mut', rank_col='EL_rank_mut',\n",
    "                       icore_bulge=True, core_col='core_mut', icore_col='icore_mut')\n",
    "\n",
    "mega_df = pd.DataFrame()\n",
    "\n",
    "print(encoding_kwargs['icore_bulge'])\n",
    "for invert in [True, False]:\n",
    "    for ic_name, ics_dict in tqdm(\n",
    "            zip(['Mask', 'KL', 'None', 'Shannon'], [ics_shannon, ics_kl, None, ics_shannon]),\n",
    "            desc='Weighting', leave=False, position=2):\n",
    "        # Set args\n",
    "        encoding_kwargs['invert'] = invert\n",
    "        encoding_kwargs['mask'] = True if 'Mask' in ic_name else False\n",
    "        # Load params\n",
    "        if invert:\n",
    "            if ic_name == 'None':\n",
    "                continue\n",
    "            else:\n",
    "                ic_name = 'Inverted ' + ic_name\n",
    "\n",
    "        filename = f'onehot_{\"-\".join(ic_name.split(\" \"))}_bulgeOut{encoding_kwargs[\"icore_bulge\"]}_rank_only'\n",
    "        # Using the same model and hyperparameters\n",
    "        model = RandomForestClassifier(n_jobs=1, min_samples_leaf=7, n_estimators=300,\n",
    "                                       max_depth=8, ccp_alpha=9.945e-6)\n",
    "        # Training model and getting feature importances\n",
    "        print('Training', encoding_kwargs)\n",
    "        trained_models, train_metrics, _ = nested_kcv_train_sklearn(train_dataset, model,\n",
    "                                                                    ics_dict=ics_dict,\n",
    "                                                                    encoding_kwargs=encoding_kwargs,\n",
    "                                                                    n_jobs=8)\n",
    "        fi = get_nested_feature_importance(trained_models)\n",
    "        fn = AA_KEYS + ['rank']\n",
    "        df_fi = pd.DataFrame(fi, index=fn).T\n",
    "        df_fi.to_csv(f'{outdir}raw/featimps_{filename}.csv', index=False)\n",
    "\n",
    "        for evalset, evalname in zip([cedar_dataset, prime_dataset, nepdb_dataset],\n",
    "                                                     ['CEDAR', 'PRIME', 'NEPDB']):\n",
    "            # FULLY FILTERED + Mean_pred\n",
    "            if not evalset.equals(train_dataset):\n",
    "                evalset = evalset.query('Peptide not in @train_dataset.Peptide.values')\n",
    "            _, preds = evaluate_trained_models_sklearn(evalset.drop_duplicates(subset=['Peptide','HLA','agg_label']),\n",
    "                                                       trained_models, ics_dict,\n",
    "                                                       train_dataset,\n",
    "                                                       encoding_kwargs, concatenated=False,\n",
    "                                                       only_concat=False)\n",
    "            # p_col = 'pred' if 'pred' in preds.columns else 'mean_pred'\n",
    "            preds.to_csv(\n",
    "                f'{outdir}raw/{evalname}_preds_{filename}.csv', index=False)\n",
    "\n",
    "            bootstrapped_df = final_bootstrap_wrapper(preds, filename, ic_name, encoding_kwargs['icore_bulge'],\n",
    "                                                      'only_rank', evalname, n_rounds=10000,\n",
    "                                                      n_jobs=8)\n",
    "            mega_df = mega_df.append(bootstrapped_df)\n",
    "mega_df.to_csv(f'{outdir}/total_df.csv', index=False)\n"
   ]
  },
  {
   "cell_type": "code",
   "execution_count": 477,
   "id": "5d4b46a0-a7b6-4be4-8a33-f36d232677ec",
   "metadata": {
    "tags": []
   },
   "outputs": [],
   "source": [
    "def find_extra_aa(core, icore):\n",
    "    \"\"\"\n",
    "    Finds the bulging out AA between an icore and its corresponding core, returning the extra AA as \"frequencies\"\n",
    "    Args:\n",
    "        core:\n",
    "        icore:\n",
    "\n",
    "    Returns:\n",
    "\n",
    "    \"\"\"\n",
    "    assert len(core) == 9, f'Core is not of length 9 somehow: {core}'\n",
    "    if len(icore) == len(core) or len(icore) == 8:\n",
    "        return np.zeros((20))\n",
    "\n",
    "    elif len(icore) > len(core):\n",
    "        results = []\n",
    "        j = 0\n",
    "        for i, char in enumerate(icore):\n",
    "            if char != core[j]:\n",
    "                results.append(char)\n",
    "            else:\n",
    "                j += 1\n",
    "        # Here changed to len icore - len core to get len of bulge\n",
    "        # return (encode(''.join(results)).sum(axis=0).numpy() / (len(icore)-len(core))).astype(np.float32)\n",
    "\n",
    "        # Here, changed to return the extra + the length so that we can do the weighted division\n",
    "        return encode(''.join(results)).sum(axis=0).numpy(), np.array(len(icore)-len(core))\n",
    "\n",
    "def batch_find_extra_aa(core_seqs, icore_seqs):\n",
    "    \"\"\"\n",
    "    Same as above but by batch\n",
    "    Args:\n",
    "        core_seqs:\n",
    "        icore_seqs:\n",
    "\n",
    "    Returns:\n",
    "\n",
    "    \"\"\"\n",
    "    mapped = list(map(find_extra_aa, core_seqs, icore_seqs))\n",
    "    encoded, lens = np.array([x[0] for x in mapped]), np.array([x[1] for x in mapped])\n",
    "    return encoded, lens\n",
    "x,w = encode_batch_weighted(sample, ics_shannon, 'cpu', 9, seq_col='core_mut', return_weights=True)\n",
    "extra_freqs, extra_lens = batch_find_extra_aa(sample['core_mut'].values, sample['icore_mut'].values)"
   ]
  },
  {
   "cell_type": "code",
   "execution_count": null,
   "id": "0502ea28-8fc5-4a35-babe-f89bbdd59b21",
   "metadata": {
    "jupyter": {
     "source_hidden": true
    },
    "tags": []
   },
   "outputs": [
    {
     "data": {
      "text/plain": [
       "array([0., 0., 1., 2., 0., 0.])"
      ]
     },
     "execution_count": 483,
     "metadata": {},
     "output_type": "execute_result"
    }
   ],
   "source": [
    "extra_lens"
   ]
  },
  {
   "cell_type": "code",
   "execution_count": null,
   "id": "b4903186-de81-4fe5-9dae-91760626a915",
   "metadata": {},
   "outputs": [
    {
     "data": {
      "text/plain": [
       "tensor([[0.0000, 0.0000, 0.0000, 0.0000, 0.0000, 0.0000, 0.0000, 0.9563, 0.0000,\n",
       "         0.0000, 0.0000, 0.0000, 0.0000, 0.9604, 0.0000, 1.8803, 0.9475, 0.0000,\n",
       "         0.4945, 1.2588],\n",
       "        [0.0000, 0.9615, 0.9423, 0.0000, 0.0000, 0.9364, 0.0000, 0.0000, 0.0000,\n",
       "         0.0000, 0.9621, 0.0000, 0.0000, 0.4905, 0.0000, 0.9403, 0.0000, 0.9483,\n",
       "         0.3512, 0.0000],\n",
       "        [0.0000, 0.0000, 0.8612, 0.0000, 0.0000, 0.9371, 0.8460, 0.9149, 0.0000,\n",
       "         0.0000, 0.3467, 0.0000, 0.0000, 0.8795, 0.0000, 0.0000, 0.0000, 0.0000,\n",
       "         0.0000, 2.3462],\n",
       "        [0.0000, 0.0000, 0.0000, 0.0000, 0.0000, 0.0000, 0.0000, 0.0000, 0.0000,\n",
       "         0.0000, 0.0000, 1.7204, 0.3334, 0.9213, 1.8575, 0.0000, 1.8357, 0.0000,\n",
       "         0.0000, 0.4333],\n",
       "        [0.9333, 0.0000, 0.0000, 0.9213, 0.0000, 0.8823, 0.0000, 0.0000, 0.0000,\n",
       "         1.7961, 0.3334, 0.0000, 0.0000, 0.0000, 0.8778, 0.9242, 0.0000, 0.0000,\n",
       "         0.0000, 0.4333],\n",
       "        [0.9412, 0.0000, 0.0000, 0.7910, 0.0000, 0.0000, 0.9547, 0.9416, 0.9594,\n",
       "         0.9552, 0.9484, 0.0000, 0.0000, 0.0000, 0.0000, 0.0000, 0.6379, 0.0000,\n",
       "         0.0000, 0.1416]])"
      ]
     },
     "execution_count": 493,
     "metadata": {},
     "output_type": "execute_result"
    }
   ],
   "source": [
    "x.sum(axis=1)"
   ]
  },
  {
   "cell_type": "code",
   "execution_count": 519,
   "id": "b6320f35-2a6f-4056-a092-b3fbada5d683",
   "metadata": {
    "tags": []
   },
   "outputs": [],
   "source": [
    "weights = w.mean(axis=2).sum(axis=1) + extra_lens"
   ]
  },
  {
   "cell_type": "code",
   "execution_count": null,
   "id": "da1543f2-8dda-41c8-9da8-377a35dab880",
   "metadata": {},
   "outputs": [
    {
     "ename": "RuntimeError",
     "evalue": "The size of tensor a (6) must match the size of tensor b (2) at non-singleton dimension 0",
     "output_type": "error",
     "traceback": [
      "\u001b[0;31m---------------------------------------------------------------------------\u001b[0m",
      "\u001b[0;31mRuntimeError\u001b[0m                              Traceback (most recent call last)",
      "Input \u001b[0;32mIn [516]\u001b[0m, in \u001b[0;36m<cell line: 1>\u001b[0;34m()\u001b[0m\n\u001b[0;32m----> 1\u001b[0m \u001b[43mbatch_compute_frequency\u001b[49m\u001b[43m(\u001b[49m\u001b[43mx\u001b[49m\u001b[43m)\u001b[49m\n",
      "File \u001b[0;32m~/Documents/code/cedar/src/data_processing.py:630\u001b[0m, in \u001b[0;36mbatch_compute_frequency\u001b[0;34m(encoded_sequences, true_lens)\u001b[0m\n\u001b[1;32m    627\u001b[0m     mask \u001b[38;5;241m=\u001b[39m (encoded_sequences \u001b[38;5;241m==\u001b[39m \u001b[38;5;241m0\u001b[39m)\u001b[38;5;241m.\u001b[39mall(\u001b[38;5;241m2\u001b[39m)  \u001b[38;5;66;03m# checking on second dim\u001b[39;00m\n\u001b[1;32m    628\u001b[0m     true_lens \u001b[38;5;241m=\u001b[39m (mask\u001b[38;5;241m.\u001b[39mshape[\u001b[38;5;241m1\u001b[39m] \u001b[38;5;241m-\u001b[39m torch\u001b[38;5;241m.\u001b[39mbincount(torch\u001b[38;5;241m.\u001b[39mwhere(mask)[\u001b[38;5;241m0\u001b[39m]))\u001b[38;5;241m.\u001b[39munsqueeze(\u001b[38;5;241m1\u001b[39m) \u001b[38;5;28;01mif\u001b[39;00m \u001b[38;5;28mtype\u001b[39m(mask) \u001b[38;5;241m==\u001b[39m torch\u001b[38;5;241m.\u001b[39mTensor \u001b[38;5;28;01melse\u001b[39;00m \\\n\u001b[1;32m    629\u001b[0m         np\u001b[38;5;241m.\u001b[39mexpand_dims(mask\u001b[38;5;241m.\u001b[39mshape[\u001b[38;5;241m1\u001b[39m] \u001b[38;5;241m-\u001b[39m np\u001b[38;5;241m.\u001b[39mbincount(np\u001b[38;5;241m.\u001b[39mwhere(mask)[\u001b[38;5;241m0\u001b[39m]), \u001b[38;5;241m1\u001b[39m)\n\u001b[0;32m--> 630\u001b[0m     frequencies \u001b[38;5;241m=\u001b[39m \u001b[43mencoded_sequences\u001b[49m\u001b[38;5;241;43m.\u001b[39;49m\u001b[43msum\u001b[49m\u001b[43m(\u001b[49m\u001b[43maxis\u001b[49m\u001b[38;5;241;43m=\u001b[39;49m\u001b[38;5;241;43m1\u001b[39;49m\u001b[43m)\u001b[49m\u001b[43m \u001b[49m\u001b[38;5;241;43m/\u001b[39;49m\u001b[43m \u001b[49m\u001b[43mtrue_lens\u001b[49m\n\u001b[1;32m    631\u001b[0m \u001b[38;5;28;01melse\u001b[39;00m:\n\u001b[1;32m    632\u001b[0m     frequencies \u001b[38;5;241m=\u001b[39m encoded_sequences\u001b[38;5;241m.\u001b[39msum(axis\u001b[38;5;241m=\u001b[39m\u001b[38;5;241m1\u001b[39m) \u001b[38;5;241m/\u001b[39m np\u001b[38;5;241m.\u001b[39mrepeat(true_lens,axis\u001b[38;5;241m=\u001b[39m\u001b[38;5;241m0\u001b[39m, repeats\u001b[38;5;241m=\u001b[39m\u001b[38;5;241m20\u001b[39m)\u001b[38;5;241m.\u001b[39mreshape(\u001b[38;5;28mlen\u001b[39m(true_lens),\u001b[38;5;241m20\u001b[39m)\n",
      "\u001b[0;31mRuntimeError\u001b[0m: The size of tensor a (6) must match the size of tensor b (2) at non-singleton dimension 0"
     ]
    }
   ],
   "source": [
    "batch_compute_frequency(x, np.repeat(weights0))"
   ]
  },
  {
   "cell_type": "code",
   "execution_count": 553,
   "id": "f70b7026-6814-4d49-97d6-51cd4f959c6c",
   "metadata": {
    "tags": []
   },
   "outputs": [
    {
     "name": "stdout",
     "output_type": "stream",
     "text": [
      "True\n"
     ]
    },
    {
     "data": {
      "application/vnd.jupyter.widget-view+json": {
       "model_id": "",
       "version_major": 2,
       "version_minor": 0
      },
      "text/plain": [
       "Weighting: 0it [00:00, ?it/s]"
      ]
     },
     "metadata": {},
     "output_type": "display_data"
    },
    {
     "name": "stdout",
     "output_type": "stream",
     "text": [
      "Training {'max_len': 9, 'encoding': 'onehot', 'blosum_matrix': None, 'mask': True, 'add_rank': True, 'add_aaprop': False, 'remove_pep': False, 'standardize': True, 'seq_col': 'core_mut', 'rank_col': 'EL_rank_mut', 'icore_bulge': True, 'core_col': 'core_mut', 'icore_col': 'icore_mut', 'invert': True}\n"
     ]
    },
    {
     "data": {
      "application/vnd.jupyter.widget-view+json": {
       "model_id": "",
       "version_major": 2,
       "version_minor": 0
      },
      "text/plain": [
       "Outer fold:   0%|          | 0/10 [00:00<?, ?it/s]"
      ]
     },
     "metadata": {},
     "output_type": "display_data"
    },
    {
     "data": {
      "application/vnd.jupyter.widget-view+json": {
       "model_id": "",
       "version_major": 2,
       "version_minor": 0
      },
      "text/plain": [
       "Inner Folds:   0%|          | 0/9 [00:00<?, ?it/s]"
      ]
     },
     "metadata": {},
     "output_type": "display_data"
    },
    {
     "data": {
      "application/vnd.jupyter.widget-view+json": {
       "model_id": "",
       "version_major": 2,
       "version_minor": 0
      },
      "text/plain": [
       "Inner Folds:   0%|          | 0/9 [00:00<?, ?it/s]"
      ]
     },
     "metadata": {},
     "output_type": "display_data"
    },
    {
     "data": {
      "application/vnd.jupyter.widget-view+json": {
       "model_id": "",
       "version_major": 2,
       "version_minor": 0
      },
      "text/plain": [
       "Inner Folds:   0%|          | 0/9 [00:00<?, ?it/s]"
      ]
     },
     "metadata": {},
     "output_type": "display_data"
    },
    {
     "data": {
      "application/vnd.jupyter.widget-view+json": {
       "model_id": "",
       "version_major": 2,
       "version_minor": 0
      },
      "text/plain": [
       "Inner Folds:   0%|          | 0/9 [00:00<?, ?it/s]"
      ]
     },
     "metadata": {},
     "output_type": "display_data"
    },
    {
     "data": {
      "application/vnd.jupyter.widget-view+json": {
       "model_id": "",
       "version_major": 2,
       "version_minor": 0
      },
      "text/plain": [
       "Inner Folds:   0%|          | 0/9 [00:00<?, ?it/s]"
      ]
     },
     "metadata": {},
     "output_type": "display_data"
    },
    {
     "data": {
      "application/vnd.jupyter.widget-view+json": {
       "model_id": "",
       "version_major": 2,
       "version_minor": 0
      },
      "text/plain": [
       "Inner Folds:   0%|          | 0/9 [00:00<?, ?it/s]"
      ]
     },
     "metadata": {},
     "output_type": "display_data"
    },
    {
     "data": {
      "application/vnd.jupyter.widget-view+json": {
       "model_id": "",
       "version_major": 2,
       "version_minor": 0
      },
      "text/plain": [
       "Inner Folds:   0%|          | 0/9 [00:00<?, ?it/s]"
      ]
     },
     "metadata": {},
     "output_type": "display_data"
    },
    {
     "data": {
      "application/vnd.jupyter.widget-view+json": {
       "model_id": "",
       "version_major": 2,
       "version_minor": 0
      },
      "text/plain": [
       "Inner Folds:   0%|          | 0/9 [00:00<?, ?it/s]"
      ]
     },
     "metadata": {},
     "output_type": "display_data"
    },
    {
     "data": {
      "application/vnd.jupyter.widget-view+json": {
       "model_id": "",
       "version_major": 2,
       "version_minor": 0
      },
      "text/plain": [
       "Inner Folds:   0%|          | 0/9 [00:00<?, ?it/s]"
      ]
     },
     "metadata": {},
     "output_type": "display_data"
    },
    {
     "data": {
      "application/vnd.jupyter.widget-view+json": {
       "model_id": "",
       "version_major": 2,
       "version_minor": 0
      },
      "text/plain": [
       "Inner Folds:   0%|          | 0/9 [00:00<?, ?it/s]"
      ]
     },
     "metadata": {},
     "output_type": "display_data"
    },
    {
     "data": {
      "application/vnd.jupyter.widget-view+json": {
       "model_id": "",
       "version_major": 2,
       "version_minor": 0
      },
      "text/plain": [
       "Eval Folds:   0%|          | 0/10 [00:00<?, ?it/s]"
      ]
     },
     "metadata": {},
     "output_type": "display_data"
    },
    {
     "name": "stdout",
     "output_type": "stream",
     "text": [
      "Sampling\n"
     ]
    },
    {
     "data": {
      "application/vnd.jupyter.widget-view+json": {
       "model_id": "",
       "version_major": 2,
       "version_minor": 0
      },
      "text/plain": [
       "Bootstrapping rounds:   0%|          | 0/10000 [00:00<?, ?it/s]"
      ]
     },
     "metadata": {},
     "output_type": "display_data"
    },
    {
     "name": "stdout",
     "output_type": "stream",
     "text": [
      "Making results DF and curves\n",
      "../output/230320_bulgeOut_aligned_divideByWeights/bootstrapping/CEDAR_mean_rocs_onehot_Inverted-Mask_bulgeOutTrue_rank_only.pkl saved.\n"
     ]
    },
    {
     "data": {
      "application/vnd.jupyter.widget-view+json": {
       "model_id": "",
       "version_major": 2,
       "version_minor": 0
      },
      "text/plain": [
       "Eval Folds:   0%|          | 0/10 [00:00<?, ?it/s]"
      ]
     },
     "metadata": {},
     "output_type": "display_data"
    },
    {
     "name": "stdout",
     "output_type": "stream",
     "text": [
      "Sampling\n"
     ]
    },
    {
     "data": {
      "application/vnd.jupyter.widget-view+json": {
       "model_id": "",
       "version_major": 2,
       "version_minor": 0
      },
      "text/plain": [
       "Bootstrapping rounds:   0%|          | 0/10000 [00:00<?, ?it/s]"
      ]
     },
     "metadata": {},
     "output_type": "display_data"
    },
    {
     "name": "stdout",
     "output_type": "stream",
     "text": [
      "Making results DF and curves\n",
      "../output/230320_bulgeOut_aligned_divideByWeights/bootstrapping/PRIME_mean_rocs_onehot_Inverted-Mask_bulgeOutTrue_rank_only.pkl saved.\n"
     ]
    },
    {
     "data": {
      "application/vnd.jupyter.widget-view+json": {
       "model_id": "",
       "version_major": 2,
       "version_minor": 0
      },
      "text/plain": [
       "Eval Folds:   0%|          | 0/10 [00:00<?, ?it/s]"
      ]
     },
     "metadata": {},
     "output_type": "display_data"
    },
    {
     "name": "stdout",
     "output_type": "stream",
     "text": [
      "Sampling\n"
     ]
    },
    {
     "data": {
      "application/vnd.jupyter.widget-view+json": {
       "model_id": "",
       "version_major": 2,
       "version_minor": 0
      },
      "text/plain": [
       "Bootstrapping rounds:   0%|          | 0/10000 [00:00<?, ?it/s]"
      ]
     },
     "metadata": {},
     "output_type": "display_data"
    },
    {
     "name": "stdout",
     "output_type": "stream",
     "text": [
      "Making results DF and curves\n",
      "../output/230320_bulgeOut_aligned_divideByWeights/bootstrapping/NEPDB_mean_rocs_onehot_Inverted-Mask_bulgeOutTrue_rank_only.pkl saved.\n",
      "Training {'max_len': 9, 'encoding': 'onehot', 'blosum_matrix': None, 'mask': False, 'add_rank': True, 'add_aaprop': False, 'remove_pep': False, 'standardize': True, 'seq_col': 'core_mut', 'rank_col': 'EL_rank_mut', 'icore_bulge': True, 'core_col': 'core_mut', 'icore_col': 'icore_mut', 'invert': True}\n"
     ]
    },
    {
     "data": {
      "application/vnd.jupyter.widget-view+json": {
       "model_id": "",
       "version_major": 2,
       "version_minor": 0
      },
      "text/plain": [
       "Outer fold:   0%|          | 0/10 [00:00<?, ?it/s]"
      ]
     },
     "metadata": {},
     "output_type": "display_data"
    },
    {
     "data": {
      "application/vnd.jupyter.widget-view+json": {
       "model_id": "",
       "version_major": 2,
       "version_minor": 0
      },
      "text/plain": [
       "Inner Folds:   0%|          | 0/9 [00:00<?, ?it/s]"
      ]
     },
     "metadata": {},
     "output_type": "display_data"
    },
    {
     "data": {
      "application/vnd.jupyter.widget-view+json": {
       "model_id": "",
       "version_major": 2,
       "version_minor": 0
      },
      "text/plain": [
       "Inner Folds:   0%|          | 0/9 [00:00<?, ?it/s]"
      ]
     },
     "metadata": {},
     "output_type": "display_data"
    },
    {
     "data": {
      "application/vnd.jupyter.widget-view+json": {
       "model_id": "",
       "version_major": 2,
       "version_minor": 0
      },
      "text/plain": [
       "Inner Folds:   0%|          | 0/9 [00:00<?, ?it/s]"
      ]
     },
     "metadata": {},
     "output_type": "display_data"
    },
    {
     "data": {
      "application/vnd.jupyter.widget-view+json": {
       "model_id": "",
       "version_major": 2,
       "version_minor": 0
      },
      "text/plain": [
       "Inner Folds:   0%|          | 0/9 [00:00<?, ?it/s]"
      ]
     },
     "metadata": {},
     "output_type": "display_data"
    },
    {
     "data": {
      "application/vnd.jupyter.widget-view+json": {
       "model_id": "",
       "version_major": 2,
       "version_minor": 0
      },
      "text/plain": [
       "Inner Folds:   0%|          | 0/9 [00:00<?, ?it/s]"
      ]
     },
     "metadata": {},
     "output_type": "display_data"
    },
    {
     "data": {
      "application/vnd.jupyter.widget-view+json": {
       "model_id": "",
       "version_major": 2,
       "version_minor": 0
      },
      "text/plain": [
       "Inner Folds:   0%|          | 0/9 [00:00<?, ?it/s]"
      ]
     },
     "metadata": {},
     "output_type": "display_data"
    },
    {
     "data": {
      "application/vnd.jupyter.widget-view+json": {
       "model_id": "",
       "version_major": 2,
       "version_minor": 0
      },
      "text/plain": [
       "Inner Folds:   0%|          | 0/9 [00:00<?, ?it/s]"
      ]
     },
     "metadata": {},
     "output_type": "display_data"
    },
    {
     "data": {
      "application/vnd.jupyter.widget-view+json": {
       "model_id": "",
       "version_major": 2,
       "version_minor": 0
      },
      "text/plain": [
       "Inner Folds:   0%|          | 0/9 [00:00<?, ?it/s]"
      ]
     },
     "metadata": {},
     "output_type": "display_data"
    },
    {
     "data": {
      "application/vnd.jupyter.widget-view+json": {
       "model_id": "",
       "version_major": 2,
       "version_minor": 0
      },
      "text/plain": [
       "Inner Folds:   0%|          | 0/9 [00:00<?, ?it/s]"
      ]
     },
     "metadata": {},
     "output_type": "display_data"
    },
    {
     "data": {
      "application/vnd.jupyter.widget-view+json": {
       "model_id": "",
       "version_major": 2,
       "version_minor": 0
      },
      "text/plain": [
       "Inner Folds:   0%|          | 0/9 [00:00<?, ?it/s]"
      ]
     },
     "metadata": {},
     "output_type": "display_data"
    },
    {
     "data": {
      "application/vnd.jupyter.widget-view+json": {
       "model_id": "",
       "version_major": 2,
       "version_minor": 0
      },
      "text/plain": [
       "Eval Folds:   0%|          | 0/10 [00:00<?, ?it/s]"
      ]
     },
     "metadata": {},
     "output_type": "display_data"
    },
    {
     "name": "stdout",
     "output_type": "stream",
     "text": [
      "Sampling\n"
     ]
    },
    {
     "data": {
      "application/vnd.jupyter.widget-view+json": {
       "model_id": "",
       "version_major": 2,
       "version_minor": 0
      },
      "text/plain": [
       "Bootstrapping rounds:   0%|          | 0/10000 [00:00<?, ?it/s]"
      ]
     },
     "metadata": {},
     "output_type": "display_data"
    },
    {
     "name": "stdout",
     "output_type": "stream",
     "text": [
      "Making results DF and curves\n",
      "../output/230320_bulgeOut_aligned_divideByWeights/bootstrapping/CEDAR_mean_rocs_onehot_Inverted-KL_bulgeOutTrue_rank_only.pkl saved.\n"
     ]
    },
    {
     "data": {
      "application/vnd.jupyter.widget-view+json": {
       "model_id": "",
       "version_major": 2,
       "version_minor": 0
      },
      "text/plain": [
       "Eval Folds:   0%|          | 0/10 [00:00<?, ?it/s]"
      ]
     },
     "metadata": {},
     "output_type": "display_data"
    },
    {
     "name": "stdout",
     "output_type": "stream",
     "text": [
      "Sampling\n"
     ]
    },
    {
     "data": {
      "application/vnd.jupyter.widget-view+json": {
       "model_id": "",
       "version_major": 2,
       "version_minor": 0
      },
      "text/plain": [
       "Bootstrapping rounds:   0%|          | 0/10000 [00:00<?, ?it/s]"
      ]
     },
     "metadata": {},
     "output_type": "display_data"
    },
    {
     "name": "stdout",
     "output_type": "stream",
     "text": [
      "Making results DF and curves\n",
      "../output/230320_bulgeOut_aligned_divideByWeights/bootstrapping/PRIME_mean_rocs_onehot_Inverted-KL_bulgeOutTrue_rank_only.pkl saved.\n"
     ]
    },
    {
     "data": {
      "application/vnd.jupyter.widget-view+json": {
       "model_id": "",
       "version_major": 2,
       "version_minor": 0
      },
      "text/plain": [
       "Eval Folds:   0%|          | 0/10 [00:00<?, ?it/s]"
      ]
     },
     "metadata": {},
     "output_type": "display_data"
    },
    {
     "name": "stdout",
     "output_type": "stream",
     "text": [
      "Sampling\n"
     ]
    },
    {
     "data": {
      "application/vnd.jupyter.widget-view+json": {
       "model_id": "",
       "version_major": 2,
       "version_minor": 0
      },
      "text/plain": [
       "Bootstrapping rounds:   0%|          | 0/10000 [00:00<?, ?it/s]"
      ]
     },
     "metadata": {},
     "output_type": "display_data"
    },
    {
     "name": "stdout",
     "output_type": "stream",
     "text": [
      "Making results DF and curves\n",
      "../output/230320_bulgeOut_aligned_divideByWeights/bootstrapping/NEPDB_mean_rocs_onehot_Inverted-KL_bulgeOutTrue_rank_only.pkl saved.\n",
      "Training {'max_len': 9, 'encoding': 'onehot', 'blosum_matrix': None, 'mask': False, 'add_rank': True, 'add_aaprop': False, 'remove_pep': False, 'standardize': True, 'seq_col': 'core_mut', 'rank_col': 'EL_rank_mut', 'icore_bulge': True, 'core_col': 'core_mut', 'icore_col': 'icore_mut', 'invert': True}\n"
     ]
    },
    {
     "data": {
      "application/vnd.jupyter.widget-view+json": {
       "model_id": "",
       "version_major": 2,
       "version_minor": 0
      },
      "text/plain": [
       "Outer fold:   0%|          | 0/10 [00:00<?, ?it/s]"
      ]
     },
     "metadata": {},
     "output_type": "display_data"
    },
    {
     "data": {
      "application/vnd.jupyter.widget-view+json": {
       "model_id": "9445ea65f2d241c1bc81c2189b18687a",
       "version_major": 2,
       "version_minor": 0
      },
      "text/plain": [
       "Inner Folds:   0%|          | 0/9 [00:00<?, ?it/s]"
      ]
     },
     "metadata": {},
     "output_type": "display_data"
    },
    {
     "data": {
      "application/vnd.jupyter.widget-view+json": {
       "model_id": "fb71ea928b8648f3888c8f7d4c65d980",
       "version_major": 2,
       "version_minor": 0
      },
      "text/plain": [
       "Inner Folds:   0%|          | 0/9 [00:00<?, ?it/s]"
      ]
     },
     "metadata": {},
     "output_type": "display_data"
    },
    {
     "data": {
      "application/vnd.jupyter.widget-view+json": {
       "model_id": "912455b857604f8ea6044bf11445bf90",
       "version_major": 2,
       "version_minor": 0
      },
      "text/plain": [
       "Inner Folds:   0%|          | 0/9 [00:00<?, ?it/s]"
      ]
     },
     "metadata": {},
     "output_type": "display_data"
    },
    {
     "data": {
      "application/vnd.jupyter.widget-view+json": {
       "model_id": "ed9034a977394811926b92f0b56bea0e",
       "version_major": 2,
       "version_minor": 0
      },
      "text/plain": [
       "Inner Folds:   0%|          | 0/9 [00:00<?, ?it/s]"
      ]
     },
     "metadata": {},
     "output_type": "display_data"
    },
    {
     "data": {
      "application/vnd.jupyter.widget-view+json": {
       "model_id": "ccad5087d150477fa232f9456f74dcf1",
       "version_major": 2,
       "version_minor": 0
      },
      "text/plain": [
       "Inner Folds:   0%|          | 0/9 [00:00<?, ?it/s]"
      ]
     },
     "metadata": {},
     "output_type": "display_data"
    },
    {
     "data": {
      "application/vnd.jupyter.widget-view+json": {
       "model_id": "ff51452f10ac4bce930602a0a7206621",
       "version_major": 2,
       "version_minor": 0
      },
      "text/plain": [
       "Inner Folds:   0%|          | 0/9 [00:00<?, ?it/s]"
      ]
     },
     "metadata": {},
     "output_type": "display_data"
    },
    {
     "data": {
      "application/vnd.jupyter.widget-view+json": {
       "model_id": "1827578a672a42f1944fed6212a16756",
       "version_major": 2,
       "version_minor": 0
      },
      "text/plain": [
       "Inner Folds:   0%|          | 0/9 [00:00<?, ?it/s]"
      ]
     },
     "metadata": {},
     "output_type": "display_data"
    },
    {
     "data": {
      "application/vnd.jupyter.widget-view+json": {
       "model_id": "1f3e6f04449d48bb9325761d67eb3a96",
       "version_major": 2,
       "version_minor": 0
      },
      "text/plain": [
       "Inner Folds:   0%|          | 0/9 [00:00<?, ?it/s]"
      ]
     },
     "metadata": {},
     "output_type": "display_data"
    },
    {
     "data": {
      "application/vnd.jupyter.widget-view+json": {
       "model_id": "5171dba789cf46be8b60906a77d20e13",
       "version_major": 2,
       "version_minor": 0
      },
      "text/plain": [
       "Inner Folds:   0%|          | 0/9 [00:00<?, ?it/s]"
      ]
     },
     "metadata": {},
     "output_type": "display_data"
    },
    {
     "data": {
      "application/vnd.jupyter.widget-view+json": {
       "model_id": "67ed8bfae083489fbe94046d076f8b22",
       "version_major": 2,
       "version_minor": 0
      },
      "text/plain": [
       "Inner Folds:   0%|          | 0/9 [00:00<?, ?it/s]"
      ]
     },
     "metadata": {},
     "output_type": "display_data"
    },
    {
     "data": {
      "application/vnd.jupyter.widget-view+json": {
       "model_id": "1ea15efa686c47a3acd2d380525598d2",
       "version_major": 2,
       "version_minor": 0
      },
      "text/plain": [
       "Eval Folds:   0%|          | 0/10 [00:00<?, ?it/s]"
      ]
     },
     "metadata": {},
     "output_type": "display_data"
    },
    {
     "name": "stdout",
     "output_type": "stream",
     "text": [
      "Sampling\n"
     ]
    },
    {
     "data": {
      "application/vnd.jupyter.widget-view+json": {
       "model_id": "b151eb8bcac548d5bc130ac5a6eaf8b5",
       "version_major": 2,
       "version_minor": 0
      },
      "text/plain": [
       "Bootstrapping rounds:   0%|          | 0/10000 [00:00<?, ?it/s]"
      ]
     },
     "metadata": {},
     "output_type": "display_data"
    },
    {
     "name": "stdout",
     "output_type": "stream",
     "text": [
      "Making results DF and curves\n",
      "../output/230320_bulgeOut_aligned_divideByWeights/bootstrapping/CEDAR_mean_rocs_onehot_Inverted-Shannon_bulgeOutTrue_rank_only.pkl saved.\n"
     ]
    },
    {
     "data": {
      "application/vnd.jupyter.widget-view+json": {
       "model_id": "943c3fca13954684b85aeb1796bc1fcf",
       "version_major": 2,
       "version_minor": 0
      },
      "text/plain": [
       "Eval Folds:   0%|          | 0/10 [00:00<?, ?it/s]"
      ]
     },
     "metadata": {},
     "output_type": "display_data"
    },
    {
     "name": "stdout",
     "output_type": "stream",
     "text": [
      "Sampling\n"
     ]
    },
    {
     "data": {
      "application/vnd.jupyter.widget-view+json": {
       "model_id": "b7bca40738154976ab2ffb6a92251ea8",
       "version_major": 2,
       "version_minor": 0
      },
      "text/plain": [
       "Bootstrapping rounds:   0%|          | 0/10000 [00:00<?, ?it/s]"
      ]
     },
     "metadata": {},
     "output_type": "display_data"
    },
    {
     "name": "stdout",
     "output_type": "stream",
     "text": [
      "Making results DF and curves\n",
      "../output/230320_bulgeOut_aligned_divideByWeights/bootstrapping/PRIME_mean_rocs_onehot_Inverted-Shannon_bulgeOutTrue_rank_only.pkl saved.\n"
     ]
    },
    {
     "data": {
      "application/vnd.jupyter.widget-view+json": {
       "model_id": "bb8272ed98f148f18d2ca6ba41dac668",
       "version_major": 2,
       "version_minor": 0
      },
      "text/plain": [
       "Eval Folds:   0%|          | 0/10 [00:00<?, ?it/s]"
      ]
     },
     "metadata": {},
     "output_type": "display_data"
    },
    {
     "name": "stdout",
     "output_type": "stream",
     "text": [
      "Sampling\n"
     ]
    },
    {
     "data": {
      "application/vnd.jupyter.widget-view+json": {
       "model_id": "2019b570ba1e4d26ae0d675c3e2d2306",
       "version_major": 2,
       "version_minor": 0
      },
      "text/plain": [
       "Bootstrapping rounds:   0%|          | 0/10000 [00:00<?, ?it/s]"
      ]
     },
     "metadata": {},
     "output_type": "display_data"
    },
    {
     "name": "stdout",
     "output_type": "stream",
     "text": [
      "Making results DF and curves\n",
      "../output/230320_bulgeOut_aligned_divideByWeights/bootstrapping/NEPDB_mean_rocs_onehot_Inverted-Shannon_bulgeOutTrue_rank_only.pkl saved.\n"
     ]
    },
    {
     "data": {
      "application/vnd.jupyter.widget-view+json": {
       "model_id": "77c602de86cf452fb54a169842c62acc",
       "version_major": 2,
       "version_minor": 0
      },
      "text/plain": [
       "Weighting: 0it [00:00, ?it/s]"
      ]
     },
     "metadata": {},
     "output_type": "display_data"
    },
    {
     "name": "stdout",
     "output_type": "stream",
     "text": [
      "Training {'max_len': 9, 'encoding': 'onehot', 'blosum_matrix': None, 'mask': True, 'add_rank': True, 'add_aaprop': False, 'remove_pep': False, 'standardize': True, 'seq_col': 'core_mut', 'rank_col': 'EL_rank_mut', 'icore_bulge': True, 'core_col': 'core_mut', 'icore_col': 'icore_mut', 'invert': False}\n"
     ]
    },
    {
     "data": {
      "application/vnd.jupyter.widget-view+json": {
       "model_id": "bcfc53c735c94ae4913a2c880ee33ff1",
       "version_major": 2,
       "version_minor": 0
      },
      "text/plain": [
       "Outer fold:   0%|          | 0/10 [00:00<?, ?it/s]"
      ]
     },
     "metadata": {},
     "output_type": "display_data"
    },
    {
     "data": {
      "application/vnd.jupyter.widget-view+json": {
       "model_id": "c0125c8fa9db4c2fa9e8625da265dec6",
       "version_major": 2,
       "version_minor": 0
      },
      "text/plain": [
       "Inner Folds:   0%|          | 0/9 [00:00<?, ?it/s]"
      ]
     },
     "metadata": {},
     "output_type": "display_data"
    },
    {
     "data": {
      "application/vnd.jupyter.widget-view+json": {
       "model_id": "d38c6c3007fb451bbcbf43acb21f37bb",
       "version_major": 2,
       "version_minor": 0
      },
      "text/plain": [
       "Inner Folds:   0%|          | 0/9 [00:00<?, ?it/s]"
      ]
     },
     "metadata": {},
     "output_type": "display_data"
    },
    {
     "data": {
      "application/vnd.jupyter.widget-view+json": {
       "model_id": "24c4674415d044038ea1b761f8caf826",
       "version_major": 2,
       "version_minor": 0
      },
      "text/plain": [
       "Inner Folds:   0%|          | 0/9 [00:00<?, ?it/s]"
      ]
     },
     "metadata": {},
     "output_type": "display_data"
    },
    {
     "data": {
      "application/vnd.jupyter.widget-view+json": {
       "model_id": "3424a71770af48c59f18641a6598e3da",
       "version_major": 2,
       "version_minor": 0
      },
      "text/plain": [
       "Inner Folds:   0%|          | 0/9 [00:00<?, ?it/s]"
      ]
     },
     "metadata": {},
     "output_type": "display_data"
    },
    {
     "data": {
      "application/vnd.jupyter.widget-view+json": {
       "model_id": "e2ce24ff0b4748409c4af232cf27a7a2",
       "version_major": 2,
       "version_minor": 0
      },
      "text/plain": [
       "Inner Folds:   0%|          | 0/9 [00:00<?, ?it/s]"
      ]
     },
     "metadata": {},
     "output_type": "display_data"
    },
    {
     "data": {
      "application/vnd.jupyter.widget-view+json": {
       "model_id": "a6cfe032ffd64a2fac52050fb0691155",
       "version_major": 2,
       "version_minor": 0
      },
      "text/plain": [
       "Inner Folds:   0%|          | 0/9 [00:00<?, ?it/s]"
      ]
     },
     "metadata": {},
     "output_type": "display_data"
    },
    {
     "data": {
      "application/vnd.jupyter.widget-view+json": {
       "model_id": "daab70cfa81349339598e4265e440e3e",
       "version_major": 2,
       "version_minor": 0
      },
      "text/plain": [
       "Inner Folds:   0%|          | 0/9 [00:00<?, ?it/s]"
      ]
     },
     "metadata": {},
     "output_type": "display_data"
    },
    {
     "data": {
      "application/vnd.jupyter.widget-view+json": {
       "model_id": "860a6bf90b774bf1996cbc317accaa47",
       "version_major": 2,
       "version_minor": 0
      },
      "text/plain": [
       "Inner Folds:   0%|          | 0/9 [00:00<?, ?it/s]"
      ]
     },
     "metadata": {},
     "output_type": "display_data"
    },
    {
     "data": {
      "application/vnd.jupyter.widget-view+json": {
       "model_id": "2a8b2b3eeb154889a86675258406156a",
       "version_major": 2,
       "version_minor": 0
      },
      "text/plain": [
       "Inner Folds:   0%|          | 0/9 [00:00<?, ?it/s]"
      ]
     },
     "metadata": {},
     "output_type": "display_data"
    },
    {
     "data": {
      "application/vnd.jupyter.widget-view+json": {
       "model_id": "7acb13bca3534560bf4af997b54d168e",
       "version_major": 2,
       "version_minor": 0
      },
      "text/plain": [
       "Inner Folds:   0%|          | 0/9 [00:00<?, ?it/s]"
      ]
     },
     "metadata": {},
     "output_type": "display_data"
    },
    {
     "data": {
      "application/vnd.jupyter.widget-view+json": {
       "model_id": "26171fc9751a46f7ad632422cbfbb0dd",
       "version_major": 2,
       "version_minor": 0
      },
      "text/plain": [
       "Eval Folds:   0%|          | 0/10 [00:00<?, ?it/s]"
      ]
     },
     "metadata": {},
     "output_type": "display_data"
    },
    {
     "name": "stdout",
     "output_type": "stream",
     "text": [
      "Sampling\n"
     ]
    },
    {
     "data": {
      "application/vnd.jupyter.widget-view+json": {
       "model_id": "9ce9eade941b428db470ecac838819d0",
       "version_major": 2,
       "version_minor": 0
      },
      "text/plain": [
       "Bootstrapping rounds:   0%|          | 0/10000 [00:00<?, ?it/s]"
      ]
     },
     "metadata": {},
     "output_type": "display_data"
    },
    {
     "name": "stdout",
     "output_type": "stream",
     "text": [
      "Making results DF and curves\n",
      "../output/230320_bulgeOut_aligned_divideByWeights/bootstrapping/CEDAR_mean_rocs_onehot_Mask_bulgeOutTrue_rank_only.pkl saved.\n"
     ]
    },
    {
     "data": {
      "application/vnd.jupyter.widget-view+json": {
       "model_id": "78c2499388cc4c2aa37fa872bd6e296f",
       "version_major": 2,
       "version_minor": 0
      },
      "text/plain": [
       "Eval Folds:   0%|          | 0/10 [00:00<?, ?it/s]"
      ]
     },
     "metadata": {},
     "output_type": "display_data"
    },
    {
     "name": "stdout",
     "output_type": "stream",
     "text": [
      "Sampling\n"
     ]
    },
    {
     "data": {
      "application/vnd.jupyter.widget-view+json": {
       "model_id": "e90ac0946b694083b748b63268bd0ef5",
       "version_major": 2,
       "version_minor": 0
      },
      "text/plain": [
       "Bootstrapping rounds:   0%|          | 0/10000 [00:00<?, ?it/s]"
      ]
     },
     "metadata": {},
     "output_type": "display_data"
    },
    {
     "name": "stdout",
     "output_type": "stream",
     "text": [
      "Making results DF and curves\n",
      "../output/230320_bulgeOut_aligned_divideByWeights/bootstrapping/PRIME_mean_rocs_onehot_Mask_bulgeOutTrue_rank_only.pkl saved.\n"
     ]
    },
    {
     "data": {
      "application/vnd.jupyter.widget-view+json": {
       "model_id": "6bdc42ef5e8b4b87a67b86a3a828f350",
       "version_major": 2,
       "version_minor": 0
      },
      "text/plain": [
       "Eval Folds:   0%|          | 0/10 [00:00<?, ?it/s]"
      ]
     },
     "metadata": {},
     "output_type": "display_data"
    },
    {
     "name": "stdout",
     "output_type": "stream",
     "text": [
      "Sampling\n"
     ]
    },
    {
     "data": {
      "application/vnd.jupyter.widget-view+json": {
       "model_id": "28ded1415a1d45de81488e55b4b4a48b",
       "version_major": 2,
       "version_minor": 0
      },
      "text/plain": [
       "Bootstrapping rounds:   0%|          | 0/10000 [00:00<?, ?it/s]"
      ]
     },
     "metadata": {},
     "output_type": "display_data"
    },
    {
     "name": "stdout",
     "output_type": "stream",
     "text": [
      "Making results DF and curves\n",
      "../output/230320_bulgeOut_aligned_divideByWeights/bootstrapping/NEPDB_mean_rocs_onehot_Mask_bulgeOutTrue_rank_only.pkl saved.\n",
      "Training {'max_len': 9, 'encoding': 'onehot', 'blosum_matrix': None, 'mask': False, 'add_rank': True, 'add_aaprop': False, 'remove_pep': False, 'standardize': True, 'seq_col': 'core_mut', 'rank_col': 'EL_rank_mut', 'icore_bulge': True, 'core_col': 'core_mut', 'icore_col': 'icore_mut', 'invert': False}\n"
     ]
    },
    {
     "data": {
      "application/vnd.jupyter.widget-view+json": {
       "model_id": "e9b0871657c44b96bd5606ebbbbc7b03",
       "version_major": 2,
       "version_minor": 0
      },
      "text/plain": [
       "Outer fold:   0%|          | 0/10 [00:00<?, ?it/s]"
      ]
     },
     "metadata": {},
     "output_type": "display_data"
    },
    {
     "data": {
      "application/vnd.jupyter.widget-view+json": {
       "model_id": "3b83ad8f961c410fa37aebd3bb2ab168",
       "version_major": 2,
       "version_minor": 0
      },
      "text/plain": [
       "Inner Folds:   0%|          | 0/9 [00:00<?, ?it/s]"
      ]
     },
     "metadata": {},
     "output_type": "display_data"
    },
    {
     "data": {
      "application/vnd.jupyter.widget-view+json": {
       "model_id": "ebe34327f4f6493581c6887a0e651a44",
       "version_major": 2,
       "version_minor": 0
      },
      "text/plain": [
       "Inner Folds:   0%|          | 0/9 [00:00<?, ?it/s]"
      ]
     },
     "metadata": {},
     "output_type": "display_data"
    },
    {
     "data": {
      "application/vnd.jupyter.widget-view+json": {
       "model_id": "dc168d7512a248f7920dbd4058f73d05",
       "version_major": 2,
       "version_minor": 0
      },
      "text/plain": [
       "Inner Folds:   0%|          | 0/9 [00:00<?, ?it/s]"
      ]
     },
     "metadata": {},
     "output_type": "display_data"
    },
    {
     "data": {
      "application/vnd.jupyter.widget-view+json": {
       "model_id": "4b44d3c1b8c844d9908f90cb630b7102",
       "version_major": 2,
       "version_minor": 0
      },
      "text/plain": [
       "Inner Folds:   0%|          | 0/9 [00:00<?, ?it/s]"
      ]
     },
     "metadata": {},
     "output_type": "display_data"
    },
    {
     "data": {
      "application/vnd.jupyter.widget-view+json": {
       "model_id": "dec70a20c0d2474c8b445c6048dd782c",
       "version_major": 2,
       "version_minor": 0
      },
      "text/plain": [
       "Inner Folds:   0%|          | 0/9 [00:00<?, ?it/s]"
      ]
     },
     "metadata": {},
     "output_type": "display_data"
    },
    {
     "data": {
      "application/vnd.jupyter.widget-view+json": {
       "model_id": "9dffaac7f6d740a69311a9e72380cdfc",
       "version_major": 2,
       "version_minor": 0
      },
      "text/plain": [
       "Inner Folds:   0%|          | 0/9 [00:00<?, ?it/s]"
      ]
     },
     "metadata": {},
     "output_type": "display_data"
    },
    {
     "data": {
      "application/vnd.jupyter.widget-view+json": {
       "model_id": "4c7d14c042bb43208f8617c9ced0aafc",
       "version_major": 2,
       "version_minor": 0
      },
      "text/plain": [
       "Inner Folds:   0%|          | 0/9 [00:00<?, ?it/s]"
      ]
     },
     "metadata": {},
     "output_type": "display_data"
    },
    {
     "data": {
      "application/vnd.jupyter.widget-view+json": {
       "model_id": "a03e0ca5421a472888bdb6ff6e05754a",
       "version_major": 2,
       "version_minor": 0
      },
      "text/plain": [
       "Inner Folds:   0%|          | 0/9 [00:00<?, ?it/s]"
      ]
     },
     "metadata": {},
     "output_type": "display_data"
    },
    {
     "data": {
      "application/vnd.jupyter.widget-view+json": {
       "model_id": "6e6e01b479164a3da88899a86ccaf3ef",
       "version_major": 2,
       "version_minor": 0
      },
      "text/plain": [
       "Inner Folds:   0%|          | 0/9 [00:00<?, ?it/s]"
      ]
     },
     "metadata": {},
     "output_type": "display_data"
    },
    {
     "data": {
      "application/vnd.jupyter.widget-view+json": {
       "model_id": "181c525bc73143e79d84271397351358",
       "version_major": 2,
       "version_minor": 0
      },
      "text/plain": [
       "Inner Folds:   0%|          | 0/9 [00:00<?, ?it/s]"
      ]
     },
     "metadata": {},
     "output_type": "display_data"
    },
    {
     "data": {
      "application/vnd.jupyter.widget-view+json": {
       "model_id": "6fd544fdb12047a190419322344d93f4",
       "version_major": 2,
       "version_minor": 0
      },
      "text/plain": [
       "Eval Folds:   0%|          | 0/10 [00:00<?, ?it/s]"
      ]
     },
     "metadata": {},
     "output_type": "display_data"
    },
    {
     "name": "stdout",
     "output_type": "stream",
     "text": [
      "Sampling\n"
     ]
    },
    {
     "data": {
      "application/vnd.jupyter.widget-view+json": {
       "model_id": "946d3faf851a47dc9e1bfc13f43b2285",
       "version_major": 2,
       "version_minor": 0
      },
      "text/plain": [
       "Bootstrapping rounds:   0%|          | 0/10000 [00:00<?, ?it/s]"
      ]
     },
     "metadata": {},
     "output_type": "display_data"
    },
    {
     "name": "stdout",
     "output_type": "stream",
     "text": [
      "Making results DF and curves\n",
      "../output/230320_bulgeOut_aligned_divideByWeights/bootstrapping/CEDAR_mean_rocs_onehot_KL_bulgeOutTrue_rank_only.pkl saved.\n"
     ]
    },
    {
     "data": {
      "application/vnd.jupyter.widget-view+json": {
       "model_id": "b553116150ba4b91b8889d2a6b4b1ca3",
       "version_major": 2,
       "version_minor": 0
      },
      "text/plain": [
       "Eval Folds:   0%|          | 0/10 [00:00<?, ?it/s]"
      ]
     },
     "metadata": {},
     "output_type": "display_data"
    },
    {
     "name": "stdout",
     "output_type": "stream",
     "text": [
      "Sampling\n"
     ]
    },
    {
     "data": {
      "application/vnd.jupyter.widget-view+json": {
       "model_id": "55e4ba7382f2484f9948cb383fbae52a",
       "version_major": 2,
       "version_minor": 0
      },
      "text/plain": [
       "Bootstrapping rounds:   0%|          | 0/10000 [00:00<?, ?it/s]"
      ]
     },
     "metadata": {},
     "output_type": "display_data"
    },
    {
     "name": "stdout",
     "output_type": "stream",
     "text": [
      "Making results DF and curves\n",
      "../output/230320_bulgeOut_aligned_divideByWeights/bootstrapping/PRIME_mean_rocs_onehot_KL_bulgeOutTrue_rank_only.pkl saved.\n"
     ]
    },
    {
     "data": {
      "application/vnd.jupyter.widget-view+json": {
       "model_id": "3cbda509fe0d4232ba59809c81dfcd58",
       "version_major": 2,
       "version_minor": 0
      },
      "text/plain": [
       "Eval Folds:   0%|          | 0/10 [00:00<?, ?it/s]"
      ]
     },
     "metadata": {},
     "output_type": "display_data"
    },
    {
     "name": "stdout",
     "output_type": "stream",
     "text": [
      "Sampling\n"
     ]
    },
    {
     "data": {
      "application/vnd.jupyter.widget-view+json": {
       "model_id": "e174d362f5784340a4270eb3b31f3741",
       "version_major": 2,
       "version_minor": 0
      },
      "text/plain": [
       "Bootstrapping rounds:   0%|          | 0/10000 [00:00<?, ?it/s]"
      ]
     },
     "metadata": {},
     "output_type": "display_data"
    },
    {
     "name": "stdout",
     "output_type": "stream",
     "text": [
      "Making results DF and curves\n",
      "../output/230320_bulgeOut_aligned_divideByWeights/bootstrapping/NEPDB_mean_rocs_onehot_KL_bulgeOutTrue_rank_only.pkl saved.\n",
      "Training {'max_len': 9, 'encoding': 'onehot', 'blosum_matrix': None, 'mask': False, 'add_rank': True, 'add_aaprop': False, 'remove_pep': False, 'standardize': True, 'seq_col': 'core_mut', 'rank_col': 'EL_rank_mut', 'icore_bulge': True, 'core_col': 'core_mut', 'icore_col': 'icore_mut', 'invert': False}\n"
     ]
    },
    {
     "data": {
      "application/vnd.jupyter.widget-view+json": {
       "model_id": "d2eb181e9baf42c79ec9cfa4529a0e28",
       "version_major": 2,
       "version_minor": 0
      },
      "text/plain": [
       "Outer fold:   0%|          | 0/10 [00:00<?, ?it/s]"
      ]
     },
     "metadata": {},
     "output_type": "display_data"
    },
    {
     "data": {
      "application/vnd.jupyter.widget-view+json": {
       "model_id": "d0b0ebb8bab44bafbbdd047d1391af46",
       "version_major": 2,
       "version_minor": 0
      },
      "text/plain": [
       "Inner Folds:   0%|          | 0/9 [00:00<?, ?it/s]"
      ]
     },
     "metadata": {},
     "output_type": "display_data"
    },
    {
     "data": {
      "application/vnd.jupyter.widget-view+json": {
       "model_id": "2226fbb782ab4b25b21585fb9f53d1ad",
       "version_major": 2,
       "version_minor": 0
      },
      "text/plain": [
       "Inner Folds:   0%|          | 0/9 [00:00<?, ?it/s]"
      ]
     },
     "metadata": {},
     "output_type": "display_data"
    },
    {
     "data": {
      "application/vnd.jupyter.widget-view+json": {
       "model_id": "6e55173b9f77421cbe812cab87dd1645",
       "version_major": 2,
       "version_minor": 0
      },
      "text/plain": [
       "Inner Folds:   0%|          | 0/9 [00:00<?, ?it/s]"
      ]
     },
     "metadata": {},
     "output_type": "display_data"
    },
    {
     "data": {
      "application/vnd.jupyter.widget-view+json": {
       "model_id": "32d102fff21a495b9e6164ac79a52c0b",
       "version_major": 2,
       "version_minor": 0
      },
      "text/plain": [
       "Inner Folds:   0%|          | 0/9 [00:00<?, ?it/s]"
      ]
     },
     "metadata": {},
     "output_type": "display_data"
    },
    {
     "data": {
      "application/vnd.jupyter.widget-view+json": {
       "model_id": "ab308ca683b54086a5c5ea944e2c1eac",
       "version_major": 2,
       "version_minor": 0
      },
      "text/plain": [
       "Inner Folds:   0%|          | 0/9 [00:00<?, ?it/s]"
      ]
     },
     "metadata": {},
     "output_type": "display_data"
    },
    {
     "data": {
      "application/vnd.jupyter.widget-view+json": {
       "model_id": "916ca989136748268fd2caed4ee0f72f",
       "version_major": 2,
       "version_minor": 0
      },
      "text/plain": [
       "Inner Folds:   0%|          | 0/9 [00:00<?, ?it/s]"
      ]
     },
     "metadata": {},
     "output_type": "display_data"
    },
    {
     "data": {
      "application/vnd.jupyter.widget-view+json": {
       "model_id": "db08ddb5437d475684f8f4ce16d881f2",
       "version_major": 2,
       "version_minor": 0
      },
      "text/plain": [
       "Inner Folds:   0%|          | 0/9 [00:00<?, ?it/s]"
      ]
     },
     "metadata": {},
     "output_type": "display_data"
    },
    {
     "data": {
      "application/vnd.jupyter.widget-view+json": {
       "model_id": "96e7c336b9ea443f89784a917496c16a",
       "version_major": 2,
       "version_minor": 0
      },
      "text/plain": [
       "Inner Folds:   0%|          | 0/9 [00:00<?, ?it/s]"
      ]
     },
     "metadata": {},
     "output_type": "display_data"
    },
    {
     "data": {
      "application/vnd.jupyter.widget-view+json": {
       "model_id": "c55340a1ca38477eac38d60f42be7226",
       "version_major": 2,
       "version_minor": 0
      },
      "text/plain": [
       "Inner Folds:   0%|          | 0/9 [00:00<?, ?it/s]"
      ]
     },
     "metadata": {},
     "output_type": "display_data"
    },
    {
     "data": {
      "application/vnd.jupyter.widget-view+json": {
       "model_id": "e8c2c009e3f34b3bb59f4ef16b31b59f",
       "version_major": 2,
       "version_minor": 0
      },
      "text/plain": [
       "Inner Folds:   0%|          | 0/9 [00:00<?, ?it/s]"
      ]
     },
     "metadata": {},
     "output_type": "display_data"
    },
    {
     "data": {
      "application/vnd.jupyter.widget-view+json": {
       "model_id": "86ae189b335541ae8e33bfe2af93e676",
       "version_major": 2,
       "version_minor": 0
      },
      "text/plain": [
       "Eval Folds:   0%|          | 0/10 [00:00<?, ?it/s]"
      ]
     },
     "metadata": {},
     "output_type": "display_data"
    },
    {
     "name": "stdout",
     "output_type": "stream",
     "text": [
      "Sampling\n"
     ]
    },
    {
     "data": {
      "application/vnd.jupyter.widget-view+json": {
       "model_id": "367bd51aae02438abf398da8f37b8229",
       "version_major": 2,
       "version_minor": 0
      },
      "text/plain": [
       "Bootstrapping rounds:   0%|          | 0/10000 [00:00<?, ?it/s]"
      ]
     },
     "metadata": {},
     "output_type": "display_data"
    },
    {
     "name": "stdout",
     "output_type": "stream",
     "text": [
      "Making results DF and curves\n",
      "../output/230320_bulgeOut_aligned_divideByWeights/bootstrapping/CEDAR_mean_rocs_onehot_None_bulgeOutTrue_rank_only.pkl saved.\n"
     ]
    },
    {
     "data": {
      "application/vnd.jupyter.widget-view+json": {
       "model_id": "92d1e7d6e5c64eb58d6260b669ee8374",
       "version_major": 2,
       "version_minor": 0
      },
      "text/plain": [
       "Eval Folds:   0%|          | 0/10 [00:00<?, ?it/s]"
      ]
     },
     "metadata": {},
     "output_type": "display_data"
    },
    {
     "name": "stdout",
     "output_type": "stream",
     "text": [
      "Sampling\n"
     ]
    },
    {
     "data": {
      "application/vnd.jupyter.widget-view+json": {
       "model_id": "9f67fdf1e0a24a75897e99808119cc30",
       "version_major": 2,
       "version_minor": 0
      },
      "text/plain": [
       "Bootstrapping rounds:   0%|          | 0/10000 [00:00<?, ?it/s]"
      ]
     },
     "metadata": {},
     "output_type": "display_data"
    },
    {
     "name": "stdout",
     "output_type": "stream",
     "text": [
      "Making results DF and curves\n",
      "../output/230320_bulgeOut_aligned_divideByWeights/bootstrapping/PRIME_mean_rocs_onehot_None_bulgeOutTrue_rank_only.pkl saved.\n"
     ]
    },
    {
     "data": {
      "application/vnd.jupyter.widget-view+json": {
       "model_id": "c16bdc2a6f8b41c2bb1dea85423f41f7",
       "version_major": 2,
       "version_minor": 0
      },
      "text/plain": [
       "Eval Folds:   0%|          | 0/10 [00:00<?, ?it/s]"
      ]
     },
     "metadata": {},
     "output_type": "display_data"
    },
    {
     "name": "stdout",
     "output_type": "stream",
     "text": [
      "Sampling\n"
     ]
    },
    {
     "data": {
      "application/vnd.jupyter.widget-view+json": {
       "model_id": "b1625bdb24934689a8d637ddc2c51b68",
       "version_major": 2,
       "version_minor": 0
      },
      "text/plain": [
       "Bootstrapping rounds:   0%|          | 0/10000 [00:00<?, ?it/s]"
      ]
     },
     "metadata": {},
     "output_type": "display_data"
    },
    {
     "name": "stdout",
     "output_type": "stream",
     "text": [
      "Making results DF and curves\n",
      "../output/230320_bulgeOut_aligned_divideByWeights/bootstrapping/NEPDB_mean_rocs_onehot_None_bulgeOutTrue_rank_only.pkl saved.\n",
      "Training {'max_len': 9, 'encoding': 'onehot', 'blosum_matrix': None, 'mask': False, 'add_rank': True, 'add_aaprop': False, 'remove_pep': False, 'standardize': True, 'seq_col': 'core_mut', 'rank_col': 'EL_rank_mut', 'icore_bulge': True, 'core_col': 'core_mut', 'icore_col': 'icore_mut', 'invert': False}\n"
     ]
    },
    {
     "data": {
      "application/vnd.jupyter.widget-view+json": {
       "model_id": "28b6547fa05e4f3a8fe1c313c11a0591",
       "version_major": 2,
       "version_minor": 0
      },
      "text/plain": [
       "Outer fold:   0%|          | 0/10 [00:00<?, ?it/s]"
      ]
     },
     "metadata": {},
     "output_type": "display_data"
    },
    {
     "data": {
      "application/vnd.jupyter.widget-view+json": {
       "model_id": "66d83a394d1647cc9547e6ff2151c999",
       "version_major": 2,
       "version_minor": 0
      },
      "text/plain": [
       "Inner Folds:   0%|          | 0/9 [00:00<?, ?it/s]"
      ]
     },
     "metadata": {},
     "output_type": "display_data"
    },
    {
     "data": {
      "application/vnd.jupyter.widget-view+json": {
       "model_id": "26e6790fa2e642098355e782fd530947",
       "version_major": 2,
       "version_minor": 0
      },
      "text/plain": [
       "Inner Folds:   0%|          | 0/9 [00:00<?, ?it/s]"
      ]
     },
     "metadata": {},
     "output_type": "display_data"
    },
    {
     "data": {
      "application/vnd.jupyter.widget-view+json": {
       "model_id": "8716e88568484fb680ccdb7cbfe53e1b",
       "version_major": 2,
       "version_minor": 0
      },
      "text/plain": [
       "Inner Folds:   0%|          | 0/9 [00:00<?, ?it/s]"
      ]
     },
     "metadata": {},
     "output_type": "display_data"
    },
    {
     "data": {
      "application/vnd.jupyter.widget-view+json": {
       "model_id": "fe6029d71feb46ccb00f91cc3db8b64c",
       "version_major": 2,
       "version_minor": 0
      },
      "text/plain": [
       "Inner Folds:   0%|          | 0/9 [00:00<?, ?it/s]"
      ]
     },
     "metadata": {},
     "output_type": "display_data"
    },
    {
     "data": {
      "application/vnd.jupyter.widget-view+json": {
       "model_id": "7a234df4b5a8434e8e9a3b2a2b6aa3a2",
       "version_major": 2,
       "version_minor": 0
      },
      "text/plain": [
       "Inner Folds:   0%|          | 0/9 [00:00<?, ?it/s]"
      ]
     },
     "metadata": {},
     "output_type": "display_data"
    },
    {
     "data": {
      "application/vnd.jupyter.widget-view+json": {
       "model_id": "0e024d0b81fe4ae79011a955d328bed4",
       "version_major": 2,
       "version_minor": 0
      },
      "text/plain": [
       "Inner Folds:   0%|          | 0/9 [00:00<?, ?it/s]"
      ]
     },
     "metadata": {},
     "output_type": "display_data"
    },
    {
     "data": {
      "application/vnd.jupyter.widget-view+json": {
       "model_id": "b1d2b956f78c41b2a40e90787958c3fd",
       "version_major": 2,
       "version_minor": 0
      },
      "text/plain": [
       "Inner Folds:   0%|          | 0/9 [00:00<?, ?it/s]"
      ]
     },
     "metadata": {},
     "output_type": "display_data"
    },
    {
     "data": {
      "application/vnd.jupyter.widget-view+json": {
       "model_id": "317cd887c5244fc8ad2cb9cd6fc069d2",
       "version_major": 2,
       "version_minor": 0
      },
      "text/plain": [
       "Inner Folds:   0%|          | 0/9 [00:00<?, ?it/s]"
      ]
     },
     "metadata": {},
     "output_type": "display_data"
    },
    {
     "data": {
      "application/vnd.jupyter.widget-view+json": {
       "model_id": "954bd9611adc4be881390f775159b336",
       "version_major": 2,
       "version_minor": 0
      },
      "text/plain": [
       "Inner Folds:   0%|          | 0/9 [00:00<?, ?it/s]"
      ]
     },
     "metadata": {},
     "output_type": "display_data"
    },
    {
     "data": {
      "application/vnd.jupyter.widget-view+json": {
       "model_id": "214e7eb72988434c8c00ab8119e545c8",
       "version_major": 2,
       "version_minor": 0
      },
      "text/plain": [
       "Inner Folds:   0%|          | 0/9 [00:00<?, ?it/s]"
      ]
     },
     "metadata": {},
     "output_type": "display_data"
    },
    {
     "data": {
      "application/vnd.jupyter.widget-view+json": {
       "model_id": "5f7fb0071e0b438488a52eeea196a697",
       "version_major": 2,
       "version_minor": 0
      },
      "text/plain": [
       "Eval Folds:   0%|          | 0/10 [00:00<?, ?it/s]"
      ]
     },
     "metadata": {},
     "output_type": "display_data"
    },
    {
     "name": "stdout",
     "output_type": "stream",
     "text": [
      "Sampling\n"
     ]
    },
    {
     "data": {
      "application/vnd.jupyter.widget-view+json": {
       "model_id": "29a0f48c1466436cb562a8cfb2f76862",
       "version_major": 2,
       "version_minor": 0
      },
      "text/plain": [
       "Bootstrapping rounds:   0%|          | 0/10000 [00:00<?, ?it/s]"
      ]
     },
     "metadata": {},
     "output_type": "display_data"
    },
    {
     "name": "stdout",
     "output_type": "stream",
     "text": [
      "Making results DF and curves\n",
      "../output/230320_bulgeOut_aligned_divideByWeights/bootstrapping/CEDAR_mean_rocs_onehot_Shannon_bulgeOutTrue_rank_only.pkl saved.\n"
     ]
    },
    {
     "data": {
      "application/vnd.jupyter.widget-view+json": {
       "model_id": "d32f384c2af94a8cb7c8a7a7963b4cb0",
       "version_major": 2,
       "version_minor": 0
      },
      "text/plain": [
       "Eval Folds:   0%|          | 0/10 [00:00<?, ?it/s]"
      ]
     },
     "metadata": {},
     "output_type": "display_data"
    },
    {
     "name": "stdout",
     "output_type": "stream",
     "text": [
      "Sampling\n"
     ]
    },
    {
     "data": {
      "application/vnd.jupyter.widget-view+json": {
       "model_id": "0c7722e5ba7d4b299f27b935ebf8c87e",
       "version_major": 2,
       "version_minor": 0
      },
      "text/plain": [
       "Bootstrapping rounds:   0%|          | 0/10000 [00:00<?, ?it/s]"
      ]
     },
     "metadata": {},
     "output_type": "display_data"
    },
    {
     "name": "stdout",
     "output_type": "stream",
     "text": [
      "Making results DF and curves\n",
      "../output/230320_bulgeOut_aligned_divideByWeights/bootstrapping/PRIME_mean_rocs_onehot_Shannon_bulgeOutTrue_rank_only.pkl saved.\n"
     ]
    },
    {
     "data": {
      "application/vnd.jupyter.widget-view+json": {
       "model_id": "19b4b47333a74cd696106ee7434ca5de",
       "version_major": 2,
       "version_minor": 0
      },
      "text/plain": [
       "Eval Folds:   0%|          | 0/10 [00:00<?, ?it/s]"
      ]
     },
     "metadata": {},
     "output_type": "display_data"
    },
    {
     "name": "stdout",
     "output_type": "stream",
     "text": [
      "Sampling\n"
     ]
    },
    {
     "data": {
      "application/vnd.jupyter.widget-view+json": {
       "model_id": "8dc2253a540840be863bd00478549fd1",
       "version_major": 2,
       "version_minor": 0
      },
      "text/plain": [
       "Bootstrapping rounds:   0%|          | 0/10000 [00:00<?, ?it/s]"
      ]
     },
     "metadata": {},
     "output_type": "display_data"
    },
    {
     "name": "stdout",
     "output_type": "stream",
     "text": [
      "Making results DF and curves\n",
      "../output/230320_bulgeOut_aligned_divideByWeights/bootstrapping/NEPDB_mean_rocs_onehot_Shannon_bulgeOutTrue_rank_only.pkl saved.\n"
     ]
    }
   ],
   "source": [
    "from src.utils import mkdirs\n",
    "from sklearn.ensemble import RandomForestClassifier\n",
    "from src.sklearn_train_eval import nested_kcv_train_sklearn, evaluate_trained_models_sklearn\n",
    "\n",
    "# Rerun but here in the code I changed the find_extra_aa to divide by the length of the \n",
    "# bulge rather than by the length of the entire icore\n",
    "outdir = '../output/230320_bulgeOut_aligned_divideByWeights/'\n",
    "mkdirs(outdir)\n",
    "mkdirs(f'{outdir}raw/')\n",
    "mkdirs(f'{outdir}bootstrapping/')\n",
    "\n",
    "train_dataset = cedar_aligned\n",
    "cedar_dataset = cedar_aligned\n",
    "prime_dataset = prime_aligned\n",
    "nepdb_dataset = nepdb_aligned\n",
    "\n",
    "\n",
    "def final_bootstrap_wrapper(preds_df, filename, ic_name, icore_bulge, key, evalset,\n",
    "                            n_rounds=10000, n_jobs=36):\n",
    "    scores = preds_df.pred.values if 'pred' in preds_df.columns else preds_df['mean_pred'].values\n",
    "    targets = preds_df.agg_label.values if 'agg_label' in preds_df.columns else preds_df['Immunogenicity'].values\n",
    "\n",
    "    bootstrapped_df, mean_rocs = bootstrap_eval(y_score=scores,\n",
    "                                                y_true=targets,\n",
    "                                                n_rounds=n_rounds, n_jobs=n_jobs)\n",
    "    bootstrapped_df['encoding'] = 'onehot'\n",
    "    bootstrapped_df['bulgeOut'] = icore_bulge\n",
    "    bootstrapped_df['weight'] = ic_name\n",
    "    bootstrapped_df['pep_col'] = 'core_mut'\n",
    "    bootstrapped_df['rank_col'] = 'EL_rank_mut'\n",
    "    bootstrapped_df['key'] = key\n",
    "    bootstrapped_df['evalset'] = evalset.upper()\n",
    "\n",
    "    bootstrapped_df.to_csv(\n",
    "        f'{outdir}bootstrapping/{evalset}_bootstrapped_df_{filename}.csv',\n",
    "        index=False)\n",
    "    pkl_dump(mean_rocs,\n",
    "             f'{outdir}bootstrapping/{evalset}_mean_rocs_{filename}.pkl')\n",
    "\n",
    "    return bootstrapped_df\n",
    "\n",
    "encoding_kwargs = dict(max_len=9, encoding='onehot', blosum_matrix=None, mask=False, add_rank=True,\n",
    "                       add_aaprop=False, remove_pep=False, standardize=True, seq_col='core_mut', rank_col='EL_rank_mut',\n",
    "                       icore_bulge=True, core_col='core_mut', icore_col='icore_mut')\n",
    "\n",
    "mega_df = pd.DataFrame()\n",
    "\n",
    "print(encoding_kwargs['icore_bulge'])\n",
    "for invert in [True, False]:\n",
    "    for ic_name, ics_dict in tqdm(\n",
    "            zip(['Mask', 'KL', 'None', 'Shannon'], [ics_shannon, ics_kl, None, ics_shannon]),\n",
    "            desc='Weighting', leave=False, position=2):\n",
    "        # Set args\n",
    "        encoding_kwargs['invert'] = invert\n",
    "        encoding_kwargs['mask'] = True if 'Mask' in ic_name else False\n",
    "        # Load params\n",
    "        if invert:\n",
    "            if ic_name == 'None':\n",
    "                continue\n",
    "            else:\n",
    "                ic_name = 'Inverted ' + ic_name\n",
    "\n",
    "        filename = f'onehot_{\"-\".join(ic_name.split(\" \"))}_bulgeOut{encoding_kwargs[\"icore_bulge\"]}_rank_only'\n",
    "        # Using the same model and hyperparameters\n",
    "        model = RandomForestClassifier(n_jobs=1, min_samples_leaf=7, n_estimators=300,\n",
    "                                       max_depth=8, ccp_alpha=9.945e-6)\n",
    "        # Training model and getting feature importances\n",
    "        print('Training', encoding_kwargs)\n",
    "        trained_models, train_metrics, _ = nested_kcv_train_sklearn(train_dataset, model,\n",
    "                                                                    ics_dict=ics_dict,\n",
    "                                                                    encoding_kwargs=encoding_kwargs,\n",
    "                                                                    n_jobs=8)\n",
    "        fi = get_nested_feature_importance(trained_models)\n",
    "        fn = AA_KEYS + ['rank']\n",
    "        df_fi = pd.DataFrame(fi, index=fn).T\n",
    "        df_fi.to_csv(f'{outdir}raw/featimps_{filename}.csv', index=False)\n",
    "\n",
    "        for evalset, evalname in zip([cedar_dataset, prime_dataset, nepdb_dataset],\n",
    "                                                     ['CEDAR', 'PRIME', 'NEPDB']):\n",
    "            # FULLY FILTERED + Mean_pred\n",
    "            if not evalset.equals(train_dataset):\n",
    "                evalset = evalset.query('Peptide not in @train_dataset.Peptide.values')\n",
    "            _, preds = evaluate_trained_models_sklearn(evalset.drop_duplicates(subset=['Peptide','HLA','agg_label']),\n",
    "                                                       trained_models, ics_dict,\n",
    "                                                       train_dataset,\n",
    "                                                       encoding_kwargs, concatenated=False,\n",
    "                                                       only_concat=False)\n",
    "            # p_col = 'pred' if 'pred' in preds.columns else 'mean_pred'\n",
    "            preds.to_csv(\n",
    "                f'{outdir}raw/{evalname}_preds_{filename}.csv', index=False)\n",
    "\n",
    "            bootstrapped_df = final_bootstrap_wrapper(preds, filename, ic_name, encoding_kwargs['icore_bulge'],\n",
    "                                                      'only_rank', evalname, n_rounds=10000,\n",
    "                                                      n_jobs=8)\n",
    "            mega_df = mega_df.append(bootstrapped_df)\n",
    "mega_df.to_csv(f'{outdir}/total_df.csv', index=False)\n"
   ]
  },
  {
   "cell_type": "markdown",
   "id": "62576a11-d9d6-4d4e-ba06-fa07479c11d0",
   "metadata": {},
   "source": [
    "# Results\n",
    "\n",
    "Should compare the results between core+bulge out, vs ICORE (like normal aligned from before using only rank)\n",
    "\n",
    "see 230125_aligned_icore_mutscore + query for \"only rank\""
   ]
  },
  {
   "cell_type": "code",
   "execution_count": 392,
   "id": "2b36292a-4eba-41cd-aac6-3b2dcf46657e",
   "metadata": {},
   "outputs": [],
   "source": [
    "mega_icore_df = pd.read_csv('../output/230125_aligned_icore_mutscore/total_df.csv').query('key==\"only_rank\" and encoding==\"onehot\"')"
   ]
  },
  {
   "cell_type": "code",
   "execution_count": 554,
   "id": "e8dc09c8-0b66-4fe8-a69e-6e63617da337",
   "metadata": {
    "tags": []
   },
   "outputs": [],
   "source": [
    "total_df_old_div = pd.read_csv('../output/230314_bulgeOut_aligned/total_df.csv').rename(columns={'bulgeOut':'AA_bulge'})\n",
    "total_df_old_div['AA_bulge'] = 'old_div'\n",
    "\n",
    "total_df_new_div = pd.read_csv('../output/230314_bulgeOut_aligned_diffDivision/total_df.csv').rename(columns={'bulgeOut':'AA_bulge'})\n",
    "total_df_new_div['AA_bulge'] = 'new_div'\n",
    "\n",
    "total_df_divweight = pd.read_csv('../output/230320_bulgeOut_aligned_dividebyweights/total_df.csv').rename(columns={'bulgeOut':'AA_bulge'})\n",
    "total_df_divweight['AA_bulge'] = 'div_by_summedWeight'"
   ]
  },
  {
   "cell_type": "code",
   "execution_count": 555,
   "id": "ac93c455-f378-4603-8a78-dd89dafd56e1",
   "metadata": {},
   "outputs": [],
   "source": [
    "mega_icore_df = mega_icore_df.query('evalset!=\"IBEL\"')\n",
    "mega_icore_df['AA_bulge']= 'None'"
   ]
  },
  {
   "cell_type": "code",
   "execution_count": 556,
   "id": "1662bb90-c0ff-4bf5-9ec0-4e90ac3a054f",
   "metadata": {},
   "outputs": [],
   "source": [
    "concat=pd.concat([mega_icore_df, total_df_old_div, total_df_new_div, total_df_divweight])\n",
    "gb_list = []\n",
    "for evalset in concat.evalset.unique():\n",
    "    tmp = concat.query('evalset==@evalset')\n",
    "    tmp = tmp.groupby(['weight', 'pep_col', 'AA_bulge']).agg(mean_auc=('auc','mean'), mean_auc01=('auc_01', 'mean'), mean_AP=('AP', 'mean'))\n",
    "    tmp.columns = [f'{x}_{evalset}' for x in tmp.columns]\n",
    "    gb_list.append(tmp)\n",
    "gb_merged = pd.concat(gb_list, axis=1)"
   ]
  },
  {
   "cell_type": "code",
   "execution_count": 564,
   "id": "cf824b90-dd80-4af2-b2f1-1971658226a2",
   "metadata": {},
   "outputs": [
    {
     "data": {
      "image/png": "[encoded data removed]",
      "text/plain": [
       "<Figure size 1800x2700 with 3 Axes>"
      ]
     },
     "metadata": {},
     "output_type": "display_data"
    }
   ],
   "source": [
    "f,a = plt.subplots(3,1,figsize=(10,15))\n",
    "for i, evalset in enumerate(concat.evalset.unique()):\n",
    "    sns.barplot(data=concat.query('evalset==@evalset'), x='weight', y='auc', hue='AA_bulge', ax=a[i], errorbar='sd')\n",
    "    a[i].set_title(evalset)"
   ]
  },
  {
   "cell_type": "code",
   "execution_count": 403,
   "id": "a1b8d787-6073-4d6c-8178-e7d4ce53bef4",
   "metadata": {},
   "outputs": [
    {
     "data": {
      "text/html": [
       "<div>\n",
       "<style scoped>\n",
       "    .dataframe tbody tr th:only-of-type {\n",
       "        vertical-align: middle;\n",
       "    }\n",
       "\n",
       "    .dataframe tbody tr th {\n",
       "        vertical-align: top;\n",
       "    }\n",
       "\n",
       "    .dataframe thead th {\n",
       "        text-align: right;\n",
       "    }\n",
       "</style>\n",
       "<table border=\"1\" class=\"dataframe\">\n",
       "  <thead>\n",
       "    <tr style=\"text-align: right;\">\n",
       "      <th></th>\n",
       "      <th>HLA</th>\n",
       "      <th>agg_label</th>\n",
       "      <th>fold</th>\n",
       "      <th>Peptide</th>\n",
       "      <th>wild_type</th>\n",
       "      <th>icore_mut</th>\n",
       "      <th>core_mut</th>\n",
       "      <th>len</th>\n",
       "      <th>EL_rank_mut</th>\n",
       "      <th>EL_rank_wt</th>\n",
       "      <th>...</th>\n",
       "      <th>VHSE8</th>\n",
       "      <th>seq_id</th>\n",
       "      <th>core_wt_aligned</th>\n",
       "      <th>EL_rank_wt_aligned</th>\n",
       "      <th>len_core_mut</th>\n",
       "      <th>CoreNotAA</th>\n",
       "      <th>n-</th>\n",
       "      <th>core_eq</th>\n",
       "      <th>icore_eq</th>\n",
       "      <th>icore_eq_core</th>\n",
       "    </tr>\n",
       "  </thead>\n",
       "  <tbody>\n",
       "    <tr>\n",
       "      <th>785</th>\n",
       "      <td>HLA-C1403</td>\n",
       "      <td>0</td>\n",
       "      <td>7</td>\n",
       "      <td>GSVSFGTVY</td>\n",
       "      <td>GSGSFGTVY</td>\n",
       "      <td>SVSFGTVY</td>\n",
       "      <td>SVS-FGTVY</td>\n",
       "      <td>9</td>\n",
       "      <td>2.4606</td>\n",
       "      <td>3.7812</td>\n",
       "      <td>...</td>\n",
       "      <td>-0.188750</td>\n",
       "      <td>&gt;seq_786</td>\n",
       "      <td>SGS-FGTVY</td>\n",
       "      <td>3.7812</td>\n",
       "      <td>9</td>\n",
       "      <td>True</td>\n",
       "      <td>1</td>\n",
       "      <td>False</td>\n",
       "      <td>False</td>\n",
       "      <td>False</td>\n",
       "    </tr>\n",
       "    <tr>\n",
       "      <th>1276</th>\n",
       "      <td>HLA-A2402</td>\n",
       "      <td>0</td>\n",
       "      <td>5</td>\n",
       "      <td>KSYWNRLQF</td>\n",
       "      <td>KSYWNRLRF</td>\n",
       "      <td>SYWNRLQF</td>\n",
       "      <td>SYWNR-LQF</td>\n",
       "      <td>9</td>\n",
       "      <td>0.2599</td>\n",
       "      <td>0.3379</td>\n",
       "      <td>...</td>\n",
       "      <td>-0.307500</td>\n",
       "      <td>&gt;seq_1277</td>\n",
       "      <td>SYW-NRLRF</td>\n",
       "      <td>0.3379</td>\n",
       "      <td>9</td>\n",
       "      <td>True</td>\n",
       "      <td>1</td>\n",
       "      <td>False</td>\n",
       "      <td>False</td>\n",
       "      <td>False</td>\n",
       "    </tr>\n",
       "    <tr>\n",
       "      <th>527</th>\n",
       "      <td>HLA-A0203</td>\n",
       "      <td>1</td>\n",
       "      <td>8</td>\n",
       "      <td>FLQEVNVCGV</td>\n",
       "      <td>FLQEVNVYGV</td>\n",
       "      <td>FLQEVNVCGV</td>\n",
       "      <td>FLQEVNVGV</td>\n",
       "      <td>10</td>\n",
       "      <td>0.3130</td>\n",
       "      <td>0.2390</td>\n",
       "      <td>...</td>\n",
       "      <td>-0.363000</td>\n",
       "      <td>&gt;seq_528</td>\n",
       "      <td>FLQEVNVYV</td>\n",
       "      <td>0.2390</td>\n",
       "      <td>9</td>\n",
       "      <td>False</td>\n",
       "      <td>0</td>\n",
       "      <td>False</td>\n",
       "      <td>False</td>\n",
       "      <td>False</td>\n",
       "    </tr>\n",
       "    <tr>\n",
       "      <th>1216</th>\n",
       "      <td>HLA-A0201</td>\n",
       "      <td>0</td>\n",
       "      <td>3</td>\n",
       "      <td>KMTNFKTTPPV</td>\n",
       "      <td>KMTDFKTTPPV</td>\n",
       "      <td>KMTNFKTTPPV</td>\n",
       "      <td>KMFKTTPPV</td>\n",
       "      <td>11</td>\n",
       "      <td>1.9568</td>\n",
       "      <td>0.9945</td>\n",
       "      <td>...</td>\n",
       "      <td>0.621818</td>\n",
       "      <td>&gt;seq_1217</td>\n",
       "      <td>KMTDFTPPV</td>\n",
       "      <td>0.9945</td>\n",
       "      <td>9</td>\n",
       "      <td>False</td>\n",
       "      <td>0</td>\n",
       "      <td>False</td>\n",
       "      <td>False</td>\n",
       "      <td>False</td>\n",
       "    </tr>\n",
       "    <tr>\n",
       "      <th>1852</th>\n",
       "      <td>HLA-A0201</td>\n",
       "      <td>1</td>\n",
       "      <td>9</td>\n",
       "      <td>QLDIIPASV</td>\n",
       "      <td>QLDIIPASI</td>\n",
       "      <td>QLDIIPASV</td>\n",
       "      <td>QLDIIPASV</td>\n",
       "      <td>9</td>\n",
       "      <td>0.1110</td>\n",
       "      <td>0.4652</td>\n",
       "      <td>...</td>\n",
       "      <td>0.270000</td>\n",
       "      <td>&gt;seq_1853</td>\n",
       "      <td>QLDIIPASI</td>\n",
       "      <td>0.4652</td>\n",
       "      <td>9</td>\n",
       "      <td>False</td>\n",
       "      <td>0</td>\n",
       "      <td>False</td>\n",
       "      <td>False</td>\n",
       "      <td>True</td>\n",
       "    </tr>\n",
       "    <tr>\n",
       "      <th>1044</th>\n",
       "      <td>HLA-A0101</td>\n",
       "      <td>0</td>\n",
       "      <td>8</td>\n",
       "      <td>ITDAHELGVA</td>\n",
       "      <td>ITAAHELGVA</td>\n",
       "      <td>ITDAHELGV</td>\n",
       "      <td>ITDAHELGV</td>\n",
       "      <td>10</td>\n",
       "      <td>0.3941</td>\n",
       "      <td>5.1050</td>\n",
       "      <td>...</td>\n",
       "      <td>-0.108889</td>\n",
       "      <td>&gt;seq_1045</td>\n",
       "      <td>ITAAHELGV</td>\n",
       "      <td>5.1050</td>\n",
       "      <td>9</td>\n",
       "      <td>False</td>\n",
       "      <td>0</td>\n",
       "      <td>False</td>\n",
       "      <td>False</td>\n",
       "      <td>True</td>\n",
       "    </tr>\n",
       "  </tbody>\n",
       "</table>\n",
       "<p>6 rows × 39 columns</p>\n",
       "</div>"
      ],
      "text/plain": [
       "            HLA  agg_label  fold      Peptide    wild_type    icore_mut  \\\n",
       "785   HLA-C1403          0     7    GSVSFGTVY    GSGSFGTVY     SVSFGTVY   \n",
       "1276  HLA-A2402          0     5    KSYWNRLQF    KSYWNRLRF     SYWNRLQF   \n",
       "527   HLA-A0203          1     8   FLQEVNVCGV   FLQEVNVYGV   FLQEVNVCGV   \n",
       "1216  HLA-A0201          0     3  KMTNFKTTPPV  KMTDFKTTPPV  KMTNFKTTPPV   \n",
       "1852  HLA-A0201          1     9    QLDIIPASV    QLDIIPASI    QLDIIPASV   \n",
       "1044  HLA-A0101          0     8   ITDAHELGVA   ITAAHELGVA    ITDAHELGV   \n",
       "\n",
       "       core_mut  len  EL_rank_mut  EL_rank_wt  ...     VHSE8     seq_id  \\\n",
       "785   SVS-FGTVY    9       2.4606      3.7812  ... -0.188750   >seq_786   \n",
       "1276  SYWNR-LQF    9       0.2599      0.3379  ... -0.307500  >seq_1277   \n",
       "527   FLQEVNVGV   10       0.3130      0.2390  ... -0.363000   >seq_528   \n",
       "1216  KMFKTTPPV   11       1.9568      0.9945  ...  0.621818  >seq_1217   \n",
       "1852  QLDIIPASV    9       0.1110      0.4652  ...  0.270000  >seq_1853   \n",
       "1044  ITDAHELGV   10       0.3941      5.1050  ... -0.108889  >seq_1045   \n",
       "\n",
       "      core_wt_aligned EL_rank_wt_aligned  len_core_mut  CoreNotAA  n- core_eq  \\\n",
       "785         SGS-FGTVY             3.7812             9       True   1   False   \n",
       "1276        SYW-NRLRF             0.3379             9       True   1   False   \n",
       "527         FLQEVNVYV             0.2390             9      False   0   False   \n",
       "1216        KMTDFTPPV             0.9945             9      False   0   False   \n",
       "1852        QLDIIPASI             0.4652             9      False   0   False   \n",
       "1044        ITAAHELGV             5.1050             9      False   0   False   \n",
       "\n",
       "     icore_eq  icore_eq_core  \n",
       "785     False          False  \n",
       "1276    False          False  \n",
       "527     False          False  \n",
       "1216    False          False  \n",
       "1852    False           True  \n",
       "1044    False           True  \n",
       "\n",
       "[6 rows x 39 columns]"
      ]
     },
     "execution_count": 403,
     "metadata": {},
     "output_type": "execute_result"
    }
   ],
   "source": [
    "sample"
   ]
  },
  {
   "cell_type": "code",
   "execution_count": null,
   "id": "dd0722ec-6204-4c52-8f1f-667be73819ba",
   "metadata": {},
   "outputs": [],
   "source": []
  }
 ],
 "metadata": {
  "kernelspec": {
   "display_name": "Python [conda env:phd] *",
   "language": "python",
   "name": "conda-env-phd-py"
  },
  "language_info": {
   "codemirror_mode": {
    "name": "ipython",
    "version": 3
   },
   "file_extension": ".py",
   "mimetype": "text/x-python",
   "name": "python",
   "nbconvert_exporter": "python",
   "pygments_lexer": "ipython3",
   "version": "3.10.8"
  }
 },
 "nbformat": 4,
 "nbformat_minor": 5
}

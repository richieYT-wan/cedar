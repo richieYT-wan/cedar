{
 "cells": [
  {
   "cell_type": "markdown",
   "id": "6ed5650f-c8b1-4d44-ad3f-fb9a0a966001",
   "metadata": {},
   "source": [
    "# init"
   ]
  },
  {
   "cell_type": "code",
   "execution_count": 1,
   "id": "3d39f33a-791d-41f4-8eec-a06ac3f17f0e",
   "metadata": {},
   "outputs": [
    {
     "data": {
      "image/png": "[encoded data removed]",
      "text/plain": [
       "<Figure size 1x1 with 1 Axes>"
      ]
     },
     "metadata": {},
     "output_type": "display_data"
    }
   ],
   "source": [
    "%load_ext autoreload\n",
    "%autoreload 2\n",
    "\n",
    "import pandas as pd\n",
    "import dataframe_image as dfi\n",
    "import numpy as np\n",
    "import sklearn\n",
    "import matplotlib.pyplot as plt\n",
    "import matplotlib as mpl\n",
    "import seaborn as sns\n",
    "f,a = plt.subplots(1,1,figsize=(1e-2, 1e-2))\n",
    "mpl.rcParams['figure.dpi'] = 180\n",
    "sns.set_style('darkgrid')\n",
    "import os,sys\n",
    "module_path = os.path.abspath(os.path.join('..'))\n",
    "if module_path not in sys.path:\n",
    "    sys.path.append(module_path)\n",
    "import warnings\n",
    "warnings.filterwarnings(\"ignore\")\n",
    "\n",
    "from tqdm.auto import tqdm\n",
    "from datetime import datetime as dt\n",
    "from src.utils import mkdirs, convert_path, pkl_dump, pkl_load, display_side, add_median_labels\n",
    "from src.data_processing import get_dataset, BL62_VALUES, BL62FREQ_VALUES, HLAS, AA_KEYS, get_aa_properties\n",
    "from src.metrics import get_predictions, get_roc, get_metrics, plot_roc_auc_fold, get_mean_roc_curve\n",
    "from src.metrics import get_nested_feature_importance, plot_feature_importance\n",
    "from src.partition_tools import pipeline_stratified_kfold\n",
    "from src.utils import pkl_load, pkl_dump, get_palette\n",
    "from src.bootstrap import bootstrap_eval, get_pval, plot_pval\n",
    "from src.baselines import plot_baseline_roc, plot_related_baseline_roc\n",
    "from src.models import FFNetPipeline\n",
    "\n",
    "PAL = sns.color_palette('hsv', n_colors=13)\n",
    "HSV = [PAL[-4], PAL[-1], PAL[0], PAL [4]]\n",
    "tmppal = sns.color_palette('hsv', n_colors=15)\n",
    "NEWPAL = HSV + [tmppal[-3], tmppal[7]]\n",
    "mpl.rcParams['figure.dpi'] = 180"
   ]
  },
  {
   "cell_type": "markdown",
   "id": "4d454f35-ac17-42d7-a080-73cea7b17182",
   "metadata": {
    "tags": []
   },
   "source": [
    "## reloading datasets"
   ]
  },
  {
   "cell_type": "code",
   "execution_count": 2,
   "id": "b9a1cef9-8590-4a78-b19c-e7fc351d2762",
   "metadata": {
    "tags": []
   },
   "outputs": [
    {
     "data": {
      "text/html": [
       "<div>\n",
       "<style scoped>\n",
       "    .dataframe tbody tr th:only-of-type {\n",
       "        vertical-align: middle;\n",
       "    }\n",
       "\n",
       "    .dataframe tbody tr th {\n",
       "        vertical-align: top;\n",
       "    }\n",
       "\n",
       "    .dataframe thead th {\n",
       "        text-align: right;\n",
       "    }\n",
       "</style>\n",
       "<table border=\"1\" class=\"dataframe\">\n",
       "  <thead>\n",
       "    <tr style=\"text-align: right;\">\n",
       "      <th></th>\n",
       "      <th>Peptide</th>\n",
       "      <th>wild_type</th>\n",
       "      <th>HLA</th>\n",
       "      <th>agg_label</th>\n",
       "      <th>mut_len</th>\n",
       "      <th>wt_len</th>\n",
       "      <th>seq_id</th>\n",
       "      <th>Pos_mut</th>\n",
       "      <th>Peptide_mut</th>\n",
       "      <th>core_mut</th>\n",
       "      <th>...</th>\n",
       "      <th>core_blsm_mut_score</th>\n",
       "      <th>aliphatic_index</th>\n",
       "      <th>boman</th>\n",
       "      <th>hydrophobicity</th>\n",
       "      <th>isoelectric_point</th>\n",
       "      <th>VHSE1</th>\n",
       "      <th>VHSE3</th>\n",
       "      <th>VHSE7</th>\n",
       "      <th>VHSE8</th>\n",
       "      <th>trueHLA_EL_rank</th>\n",
       "    </tr>\n",
       "  </thead>\n",
       "  <tbody>\n",
       "    <tr>\n",
       "      <th>0</th>\n",
       "      <td>AFGSAHLFR</td>\n",
       "      <td>AFGSAHLYR</td>\n",
       "      <td>HLA-A3101</td>\n",
       "      <td>1</td>\n",
       "      <td>9</td>\n",
       "      <td>9</td>\n",
       "      <td>seq_1</td>\n",
       "      <td>0</td>\n",
       "      <td>AFGSAHLFR</td>\n",
       "      <td>AFGSAHLFR</td>\n",
       "      <td>...</td>\n",
       "      <td>3</td>\n",
       "      <td>65.555556</td>\n",
       "      <td>0.837778</td>\n",
       "      <td>0.455556</td>\n",
       "      <td>10.551759</td>\n",
       "      <td>0.214444</td>\n",
       "      <td>-0.278889</td>\n",
       "      <td>0.193333</td>\n",
       "      <td>-0.192222</td>\n",
       "      <td>0.2470</td>\n",
       "    </tr>\n",
       "    <tr>\n",
       "      <th>1</th>\n",
       "      <td>AIANRIKFK</td>\n",
       "      <td>AIANRIKSK</td>\n",
       "      <td>HLA-A1101</td>\n",
       "      <td>0</td>\n",
       "      <td>9</td>\n",
       "      <td>9</td>\n",
       "      <td>seq_4</td>\n",
       "      <td>0</td>\n",
       "      <td>AIANRIKFK</td>\n",
       "      <td>AIANRIKFK</td>\n",
       "      <td>...</td>\n",
       "      <td>-2</td>\n",
       "      <td>108.888889</td>\n",
       "      <td>1.802222</td>\n",
       "      <td>-0.044444</td>\n",
       "      <td>11.823055</td>\n",
       "      <td>-0.048889</td>\n",
       "      <td>0.125556</td>\n",
       "      <td>0.484444</td>\n",
       "      <td>-0.125556</td>\n",
       "      <td>0.1380</td>\n",
       "    </tr>\n",
       "    <tr>\n",
       "      <th>2</th>\n",
       "      <td>AICKPLHYV</td>\n",
       "      <td>AICKPLHYM</td>\n",
       "      <td>HLA-A0201</td>\n",
       "      <td>0</td>\n",
       "      <td>9</td>\n",
       "      <td>9</td>\n",
       "      <td>seq_5</td>\n",
       "      <td>0</td>\n",
       "      <td>AICKPLHYV</td>\n",
       "      <td>AICKPLHYV</td>\n",
       "      <td>...</td>\n",
       "      <td>1</td>\n",
       "      <td>130.000000</td>\n",
       "      <td>-0.735556</td>\n",
       "      <td>0.755556</td>\n",
       "      <td>8.530526</td>\n",
       "      <td>0.327778</td>\n",
       "      <td>0.046667</td>\n",
       "      <td>-0.017778</td>\n",
       "      <td>0.263333</td>\n",
       "      <td>0.3610</td>\n",
       "    </tr>\n",
       "    <tr>\n",
       "      <th>3</th>\n",
       "      <td>AIPAMVVPNV</td>\n",
       "      <td>AIPAMVVPNA</td>\n",
       "      <td>HLA-A0201</td>\n",
       "      <td>0</td>\n",
       "      <td>10</td>\n",
       "      <td>10</td>\n",
       "      <td>seq_6</td>\n",
       "      <td>0</td>\n",
       "      <td>AIPAMVVPNV</td>\n",
       "      <td>AIPAVVPNV</td>\n",
       "      <td>...</td>\n",
       "      <td>0</td>\n",
       "      <td>146.000000</td>\n",
       "      <td>-1.637000</td>\n",
       "      <td>1.590000</td>\n",
       "      <td>6.100000</td>\n",
       "      <td>0.431000</td>\n",
       "      <td>-0.385000</td>\n",
       "      <td>-0.067000</td>\n",
       "      <td>0.446000</td>\n",
       "      <td>2.2606</td>\n",
       "    </tr>\n",
       "    <tr>\n",
       "      <th>4</th>\n",
       "      <td>ALEVLQSIPY</td>\n",
       "      <td>APEVLQSIPY</td>\n",
       "      <td>HLA-A0101</td>\n",
       "      <td>0</td>\n",
       "      <td>10</td>\n",
       "      <td>10</td>\n",
       "      <td>seq_7</td>\n",
       "      <td>0</td>\n",
       "      <td>ALEVLQSIPY</td>\n",
       "      <td>ALEVLQSIY</td>\n",
       "      <td>...</td>\n",
       "      <td>-3</td>\n",
       "      <td>156.000000</td>\n",
       "      <td>-0.472000</td>\n",
       "      <td>0.740000</td>\n",
       "      <td>3.849983</td>\n",
       "      <td>0.292000</td>\n",
       "      <td>-0.062000</td>\n",
       "      <td>-0.096000</td>\n",
       "      <td>0.088000</td>\n",
       "      <td>0.6230</td>\n",
       "    </tr>\n",
       "  </tbody>\n",
       "</table>\n",
       "<p>5 rows × 39 columns</p>\n",
       "</div>"
      ],
      "text/plain": [
       "      Peptide   wild_type        HLA  agg_label  mut_len  wt_len seq_id  \\\n",
       "0   AFGSAHLFR   AFGSAHLYR  HLA-A3101          1        9       9  seq_1   \n",
       "1   AIANRIKFK   AIANRIKSK  HLA-A1101          0        9       9  seq_4   \n",
       "2   AICKPLHYV   AICKPLHYM  HLA-A0201          0        9       9  seq_5   \n",
       "3  AIPAMVVPNV  AIPAMVVPNA  HLA-A0201          0       10      10  seq_6   \n",
       "4  ALEVLQSIPY  APEVLQSIPY  HLA-A0101          0       10      10  seq_7   \n",
       "\n",
       "   Pos_mut Peptide_mut   core_mut  ... core_blsm_mut_score  aliphatic_index  \\\n",
       "0        0   AFGSAHLFR  AFGSAHLFR  ...                   3        65.555556   \n",
       "1        0   AIANRIKFK  AIANRIKFK  ...                  -2       108.888889   \n",
       "2        0   AICKPLHYV  AICKPLHYV  ...                   1       130.000000   \n",
       "3        0  AIPAMVVPNV  AIPAVVPNV  ...                   0       146.000000   \n",
       "4        0  ALEVLQSIPY  ALEVLQSIY  ...                  -3       156.000000   \n",
       "\n",
       "      boman hydrophobicity isoelectric_point     VHSE1     VHSE3     VHSE7  \\\n",
       "0  0.837778       0.455556         10.551759  0.214444 -0.278889  0.193333   \n",
       "1  1.802222      -0.044444         11.823055 -0.048889  0.125556  0.484444   \n",
       "2 -0.735556       0.755556          8.530526  0.327778  0.046667 -0.017778   \n",
       "3 -1.637000       1.590000          6.100000  0.431000 -0.385000 -0.067000   \n",
       "4 -0.472000       0.740000          3.849983  0.292000 -0.062000 -0.096000   \n",
       "\n",
       "      VHSE8  trueHLA_EL_rank  \n",
       "0 -0.192222           0.2470  \n",
       "1 -0.125556           0.1380  \n",
       "2  0.263333           0.3610  \n",
       "3  0.446000           2.2606  \n",
       "4  0.088000           0.6230  \n",
       "\n",
       "[5 rows x 39 columns]"
      ]
     },
     "execution_count": 2,
     "metadata": {},
     "output_type": "execute_result"
    }
   ],
   "source": [
    "cedar_related = pd.read_csv('../data/mutant/221028_cedar_related_newcore_fold.csv')\n",
    "prime_related = pd.read_csv('../data/mutant/221119_prime_related_10fold.csv')\n",
    "ibel = pd.read_csv('../data/mutant/221117_ibel_merged_fold.csv')\n",
    "# merged = pd.read_csv('../data/mutant/221112_cedar_prime_merged_fold.csv')\n",
    "nepdb = pd.read_csv('../data/mutant/230124_nepdb_filtered_scored.csv')\n",
    "nepdb.head()"
   ]
  },
  {
   "cell_type": "code",
   "execution_count": 3,
   "id": "1d4283c6-e23d-4cfa-8935-399960f1e5a8",
   "metadata": {},
   "outputs": [],
   "source": [
    "cedar_aligned = pd.read_csv('../data/aligned_icore/230125_cedar_aligned_icore.csv')\n",
    "prime_aligned = pd.read_csv('../data/aligned_icore/230125_prime_aligned_icore.csv')\n",
    "ibel_aligned = pd.read_csv('../data/aligned_icore/230125_ibel_aligned_icore.csv')\n",
    "nepdb_aligned = pd.read_csv('../data/aligned_icore/230125_nepdb_aligned_icore.csv')"
   ]
  },
  {
   "cell_type": "code",
   "execution_count": 4,
   "id": "d2ef3a17-1949-4720-92bb-7ed7f5b6b3b1",
   "metadata": {},
   "outputs": [],
   "source": [
    "cedar_expr = pd.read_csv('../data/pepx/230125_cedar_related_pepx_fold.csv')\n",
    "prime_expr = pd.read_csv('../data/pepx/230125_prime_related_pepx.csv')\n",
    "ibel_expr = pd.read_csv('../data/pepx/230125_ibel_normal_pepx.csv')\n",
    "nepdb_expr = pd.read_csv('../data/pepx/230125_nepdb_normal_pepx.csv')"
   ]
  },
  {
   "cell_type": "code",
   "execution_count": 5,
   "id": "bd83351a-b431-4f98-9df4-d48f614200a4",
   "metadata": {},
   "outputs": [],
   "source": [
    "cedar_aligned_expr = pd.read_csv('../data/pepx/230125_cedar_aligned_pepx_fold.csv')\n",
    "prime_aligned_expr = pd.read_csv('../data/pepx/230125_prime_aligned_pepx.csv')\n",
    "ibel_aligned_expr = pd.read_csv('../data/pepx/230125_ibel_aligned_pepx.csv')\n",
    "nepdb_aligned_expr = pd.read_csv('../data/pepx/230125_nepdb_aligned_pepx.csv')"
   ]
  },
  {
   "cell_type": "code",
   "execution_count": 6,
   "id": "c1170436-6b0f-4a78-adf7-99b02f42ef69",
   "metadata": {},
   "outputs": [],
   "source": [
    "# ICS DICT\n",
    "ics_kl = pkl_load('../data/ic_dicts/ics_kl.pkl')\n",
    "ics_shannon = pkl_load('../data/ic_dicts/ics_shannon.pkl')\n",
    "\n",
    "MAPPING= {'RandomForestClassifier': 'RF',\n",
    "          'LogisticRegression': 'LogReg',\n",
    "          'XGBClassifier': 'XGB',\n",
    "          'FFN': 'FFN'}"
   ]
  },
  {
   "cell_type": "code",
   "execution_count": 34,
   "id": "545878ac-d2e7-4986-a3ca-211a127c7eed",
   "metadata": {},
   "outputs": [
    {
     "data": {
      "text/plain": [
       "array([9])"
      ]
     },
     "execution_count": 34,
     "metadata": {},
     "output_type": "execute_result"
    }
   ],
   "source": [
    "cedar_aligned['len_core_mut'] = cedar_aligned['core_mut'].apply(len)\n",
    "cedar_aligned.len_core_mut.unique()"
   ]
  },
  {
   "cell_type": "code",
   "execution_count": 306,
   "id": "9b1c7d77-6324-4129-9f5e-d8657be57806",
   "metadata": {
    "collapsed": true,
    "jupyter": {
     "outputs_hidden": true
    },
    "tags": []
   },
   "outputs": [
    {
     "name": "stdout",
     "output_type": "stream",
     "text": [
      "before 6 Int64Index([785, 1276, 527, 1216, 1852, 1044], dtype='int64')\n",
      "after drop 6 Int64Index([785, 1276, 527, 1216, 1852, 1044], dtype='int64')\n"
     ]
    },
    {
     "data": {
      "text/plain": [
       "tensor([[[0.0000, 0.0000, 0.0000, 0.0000, 0.0000, 0.0000, 0.0000, 0.0000,\n",
       "          0.0000, 0.0000, 0.0000, 0.0000, 0.0000, 0.0000, 0.0000, 0.9169,\n",
       "          0.0000, 0.0000, 0.0000, 0.0000],\n",
       "         [0.0000, 0.0000, 0.0000, 0.0000, 0.0000, 0.0000, 0.0000, 0.0000,\n",
       "          0.0000, 0.0000, 0.0000, 0.0000, 0.0000, 0.0000, 0.0000, 0.0000,\n",
       "          0.0000, 0.0000, 0.0000, 0.3213],\n",
       "         [0.0000, 0.0000, 0.0000, 0.0000, 0.0000, 0.0000, 0.0000, 0.0000,\n",
       "          0.0000, 0.0000, 0.0000, 0.0000, 0.0000, 0.0000, 0.0000, 0.9634,\n",
       "          0.0000, 0.0000, 0.0000, 0.0000],\n",
       "         [0.0000, 0.0000, 0.0000, 0.0000, 0.0000, 0.0000, 0.0000, 0.0000,\n",
       "          0.0000, 0.0000, 0.0000, 0.0000, 0.0000, 0.0000, 0.0000, 0.0000,\n",
       "          0.0000, 0.0000, 0.0000, 0.0000],\n",
       "         [0.0000, 0.0000, 0.0000, 0.0000, 0.0000, 0.0000, 0.0000, 0.0000,\n",
       "          0.0000, 0.0000, 0.0000, 0.0000, 0.0000, 0.9604, 0.0000, 0.0000,\n",
       "          0.0000, 0.0000, 0.0000, 0.0000],\n",
       "         [0.0000, 0.0000, 0.0000, 0.0000, 0.0000, 0.0000, 0.0000, 0.9563,\n",
       "          0.0000, 0.0000, 0.0000, 0.0000, 0.0000, 0.0000, 0.0000, 0.0000,\n",
       "          0.0000, 0.0000, 0.0000, 0.0000],\n",
       "         [0.0000, 0.0000, 0.0000, 0.0000, 0.0000, 0.0000, 0.0000, 0.0000,\n",
       "          0.0000, 0.0000, 0.0000, 0.0000, 0.0000, 0.0000, 0.0000, 0.0000,\n",
       "          0.9475, 0.0000, 0.0000, 0.0000],\n",
       "         [0.0000, 0.0000, 0.0000, 0.0000, 0.0000, 0.0000, 0.0000, 0.0000,\n",
       "          0.0000, 0.0000, 0.0000, 0.0000, 0.0000, 0.0000, 0.0000, 0.0000,\n",
       "          0.0000, 0.0000, 0.0000, 0.9374],\n",
       "         [0.0000, 0.0000, 0.0000, 0.0000, 0.0000, 0.0000, 0.0000, 0.0000,\n",
       "          0.0000, 0.0000, 0.0000, 0.0000, 0.0000, 0.0000, 0.0000, 0.0000,\n",
       "          0.0000, 0.0000, 0.4945, 0.0000]],\n",
       "\n",
       "        [[0.0000, 0.0000, 0.0000, 0.0000, 0.0000, 0.0000, 0.0000, 0.0000,\n",
       "          0.0000, 0.0000, 0.0000, 0.0000, 0.0000, 0.0000, 0.0000, 0.9403,\n",
       "          0.0000, 0.0000, 0.0000, 0.0000],\n",
       "         [0.0000, 0.0000, 0.0000, 0.0000, 0.0000, 0.0000, 0.0000, 0.0000,\n",
       "          0.0000, 0.0000, 0.0000, 0.0000, 0.0000, 0.0000, 0.0000, 0.0000,\n",
       "          0.0000, 0.0000, 0.3512, 0.0000],\n",
       "         [0.0000, 0.0000, 0.0000, 0.0000, 0.0000, 0.0000, 0.0000, 0.0000,\n",
       "          0.0000, 0.0000, 0.0000, 0.0000, 0.0000, 0.0000, 0.0000, 0.0000,\n",
       "          0.0000, 0.9483, 0.0000, 0.0000],\n",
       "         [0.0000, 0.0000, 0.9423, 0.0000, 0.0000, 0.0000, 0.0000, 0.0000,\n",
       "          0.0000, 0.0000, 0.0000, 0.0000, 0.0000, 0.0000, 0.0000, 0.0000,\n",
       "          0.0000, 0.0000, 0.0000, 0.0000],\n",
       "         [0.0000, 0.9615, 0.0000, 0.0000, 0.0000, 0.0000, 0.0000, 0.0000,\n",
       "          0.0000, 0.0000, 0.0000, 0.0000, 0.0000, 0.0000, 0.0000, 0.0000,\n",
       "          0.0000, 0.0000, 0.0000, 0.0000],\n",
       "         [0.0000, 0.0000, 0.0000, 0.0000, 0.0000, 0.0000, 0.0000, 0.0000,\n",
       "          0.0000, 0.0000, 0.0000, 0.0000, 0.0000, 0.0000, 0.0000, 0.0000,\n",
       "          0.0000, 0.0000, 0.0000, 0.0000],\n",
       "         [0.0000, 0.0000, 0.0000, 0.0000, 0.0000, 0.0000, 0.0000, 0.0000,\n",
       "          0.0000, 0.0000, 0.9621, 0.0000, 0.0000, 0.0000, 0.0000, 0.0000,\n",
       "          0.0000, 0.0000, 0.0000, 0.0000],\n",
       "         [0.0000, 0.0000, 0.0000, 0.0000, 0.0000, 0.9364, 0.0000, 0.0000,\n",
       "          0.0000, 0.0000, 0.0000, 0.0000, 0.0000, 0.0000, 0.0000, 0.0000,\n",
       "          0.0000, 0.0000, 0.0000, 0.0000],\n",
       "         [0.0000, 0.0000, 0.0000, 0.0000, 0.0000, 0.0000, 0.0000, 0.0000,\n",
       "          0.0000, 0.0000, 0.0000, 0.0000, 0.0000, 0.4905, 0.0000, 0.0000,\n",
       "          0.0000, 0.0000, 0.0000, 0.0000]],\n",
       "\n",
       "        [[0.0000, 0.0000, 0.0000, 0.0000, 0.0000, 0.8823, 0.0000, 0.0000,\n",
       "          0.0000, 0.0000, 0.0000, 0.0000, 0.0000, 0.0000, 0.0000, 0.0000,\n",
       "          0.0000, 0.0000, 0.0000, 0.0000],\n",
       "         [0.0000, 0.0000, 0.0000, 0.0000, 0.0000, 0.0000, 0.0000, 0.0000,\n",
       "          0.0000, 0.0000, 0.3334, 0.0000, 0.0000, 0.0000, 0.0000, 0.0000,\n",
       "          0.0000, 0.0000, 0.0000, 0.0000],\n",
       "         [0.0000, 0.0000, 0.0000, 0.9213, 0.0000, 0.0000, 0.0000, 0.0000,\n",
       "          0.0000, 0.0000, 0.0000, 0.0000, 0.0000, 0.0000, 0.0000, 0.0000,\n",
       "          0.0000, 0.0000, 0.0000, 0.0000],\n",
       "         [0.0000, 0.0000, 0.0000, 0.0000, 0.0000, 0.0000, 0.0000, 0.0000,\n",
       "          0.0000, 0.8381, 0.0000, 0.0000, 0.0000, 0.0000, 0.0000, 0.0000,\n",
       "          0.0000, 0.0000, 0.0000, 0.0000],\n",
       "         [0.0000, 0.0000, 0.0000, 0.0000, 0.0000, 0.0000, 0.0000, 0.0000,\n",
       "          0.0000, 0.9580, 0.0000, 0.0000, 0.0000, 0.0000, 0.0000, 0.0000,\n",
       "          0.0000, 0.0000, 0.0000, 0.0000],\n",
       "         [0.0000, 0.0000, 0.0000, 0.0000, 0.0000, 0.0000, 0.0000, 0.0000,\n",
       "          0.0000, 0.0000, 0.0000, 0.0000, 0.0000, 0.0000, 0.8778, 0.0000,\n",
       "          0.0000, 0.0000, 0.0000, 0.0000],\n",
       "         [0.9333, 0.0000, 0.0000, 0.0000, 0.0000, 0.0000, 0.0000, 0.0000,\n",
       "          0.0000, 0.0000, 0.0000, 0.0000, 0.0000, 0.0000, 0.0000, 0.0000,\n",
       "          0.0000, 0.0000, 0.0000, 0.0000],\n",
       "         [0.0000, 0.0000, 0.0000, 0.0000, 0.0000, 0.0000, 0.0000, 0.0000,\n",
       "          0.0000, 0.0000, 0.0000, 0.0000, 0.0000, 0.0000, 0.0000, 0.9242,\n",
       "          0.0000, 0.0000, 0.0000, 0.0000],\n",
       "         [0.0000, 0.0000, 0.0000, 0.0000, 0.0000, 0.0000, 0.0000, 0.0000,\n",
       "          0.0000, 0.0000, 0.0000, 0.0000, 0.0000, 0.0000, 0.0000, 0.0000,\n",
       "          0.0000, 0.0000, 0.0000, 0.4333]]])"
      ]
     },
     "execution_count": 306,
     "metadata": {},
     "output_type": "execute_result"
    }
   ],
   "source": [
    "encode_batch_weighted(sample, ics_shannon, None, 9, 'onehot', None, 'core_mut')"
   ]
  },
  {
   "cell_type": "code",
   "execution_count": 315,
   "id": "4b258c9a-8896-4dea-aff9-658d0fbb9423",
   "metadata": {
    "collapsed": true,
    "jupyter": {
     "outputs_hidden": true
    },
    "tags": []
   },
   "outputs": [
    {
     "name": "stdout",
     "output_type": "stream",
     "text": [
      "before 6 Int64Index([785, 1276, 527, 1216, 1852, 1044], dtype='int64')\n",
      "after drop 6 Int64Index([785, 1276, 527, 1216, 1852, 1044], dtype='int64')\n",
      "xd!! 6\n"
     ]
    },
    {
     "data": {
      "text/plain": [
       "array([[0.10369743, 0.        , 0.        , 0.10237203, 0.        ,\n",
       "        0.09803756, 0.        , 0.        , 0.        , 0.19956324,\n",
       "        0.0370485 , 0.        , 0.        , 0.        , 0.09752864,\n",
       "        0.10269237, 0.        , 0.        , 0.        , 0.04814585],\n",
       "       [0.10457226, 0.        , 0.        , 0.08788767, 0.        ,\n",
       "        0.        , 0.10608057, 0.10462533, 0.10660405, 0.10613236,\n",
       "        0.10538305, 0.        , 0.        , 0.        , 0.        ,\n",
       "        0.        , 0.07088175, 0.        , 0.        , 0.01572936]],\n",
       "      dtype=float32)"
      ]
     },
     "execution_count": 315,
     "metadata": {},
     "output_type": "execute_result"
    }
   ],
   "source": [
    "weighted_sequences = encode_batch_weighted(sample, ics_dict=ics_shannon, max_len=9, encoding='onehot', blosum_matrix=None, seq_col='core_mut')\n",
    "# Here added a special argument \"true_lens\" where we provide the true lengths\n",
    "freqs = batch_compute_frequency(weighted_sequences.numpy(), true_lens=9)\n",
    "extra_freqs = batch_find_extra_aa(core_seqs, icore_seqs)\n",
    "summed = np.add(freqs,extra_freqs)\n",
    "summed[4:]"
   ]
  },
  {
   "cell_type": "code",
   "execution_count": 325,
   "id": "eaa001fa-8336-46bf-873b-7bfa4be141d1",
   "metadata": {},
   "outputs": [
    {
     "name": "stdout",
     "output_type": "stream",
     "text": [
      "True\n",
      "here\n",
      "before 6 Int64Index([785, 1276, 527, 1216, 1852, 1044], dtype='int64')\n",
      "after drop 6 Int64Index([785, 1276, 527, 1216, 1852, 1044], dtype='int64')\n",
      "xd!! 6\n"
     ]
    }
   ],
   "source": [
    "x,y = get_dataset(sample, ics_shannon, max_len=9, encoding='onehot', blosum_matrix=None, seq_col='core_mut', hla_col='HLA', target_col='agg_label',\n",
    "                  rank_col='EL_rank_mut', mask=False, invert=False, add_rank=True, add_aaprop=False, remove_pep=False, icore_bulge=True,\n",
    "                  core_col='core_mut', icore_col='icore_mut')"
   ]
  },
  {
   "cell_type": "markdown",
   "id": "ba4da841-2f6c-4170-8a26-2f8efab44c93",
   "metadata": {},
   "source": [
    "# Training a model with only rank and all weightings"
   ]
  },
  {
   "cell_type": "code",
   "execution_count": 341,
   "id": "be1a6d98-5759-4ec3-9635-04b275be99fe",
   "metadata": {},
   "outputs": [
    {
     "data": {
      "text/plain": [
       "True"
      ]
     },
     "execution_count": 341,
     "metadata": {},
     "output_type": "execute_result"
    }
   ],
   "source": [
    "\n",
    "encoding_kwargs = dict(max_len=12, encoding='onehot', blosum_matrix=None, mask=False, add_rank=True,\n",
    "                       add_aaprop=False, remove_pep=False, standardize=True, seq_col='icore_mut',\n",
    "                       mut_col = ['\n",
    "                       icore_bulge=False)\n",
    "x,y=get_dataset(sample, ics_shannon, **encoding_kwargs)\n",
    "(x[:,:20]==summed).all()"
   ]
  }
 ],
 "metadata": {
  "kernelspec": {
   "display_name": "Python [conda env:phd] *",
   "language": "python",
   "name": "conda-env-phd-py"
  },
  "language_info": {
   "codemirror_mode": {
    "name": "ipython",
    "version": 3
   },
   "file_extension": ".py",
   "mimetype": "text/x-python",
   "name": "python",
   "nbconvert_exporter": "python",
   "pygments_lexer": "ipython3",
   "version": "3.10.8"
  }
 },
 "nbformat": 4,
 "nbformat_minor": 5
}

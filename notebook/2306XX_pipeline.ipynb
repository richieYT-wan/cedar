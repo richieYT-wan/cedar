{
 "cells": [
  {
   "cell_type": "code",
   "execution_count": 16,
   "id": "33d93dec-1606-43dc-aeea-7204a7d0da08",
   "metadata": {},
   "outputs": [
    {
     "name": "stdout",
     "output_type": "stream",
     "text": [
      "The autoreload extension is already loaded. To reload it, use:\n",
      "  %reload_ext autoreload\n"
     ]
    },
    {
     "data": {
      "image/png": "[encoded data removed]",
      "text/plain": [
       "<Figure size 1.8x1.8 with 1 Axes>"
      ]
     },
     "metadata": {},
     "output_type": "display_data"
    }
   ],
   "source": [
    "%load_ext autoreload\n",
    "%autoreload 2\n",
    "\n",
    "import pandas as pd\n",
    "import dataframe_image as dfi\n",
    "import numpy as np\n",
    "import sklearn\n",
    "import matplotlib.pyplot as plt\n",
    "import matplotlib as mpl\n",
    "import seaborn as sns\n",
    "f,a = plt.subplots(1,1,figsize=(1e-2, 1e-2))\n",
    "mpl.rcParams['figure.dpi'] = 180\n",
    "sns.set_style('darkgrid')\n",
    "import os,sys\n",
    "module_path = os.path.abspath(os.path.join('..'))\n",
    "if module_path not in sys.path:\n",
    "    sys.path.append(module_path)\n",
    "import warnings\n",
    "warnings.filterwarnings(\"ignore\")\n",
    "\n",
    "from tqdm.auto import tqdm\n",
    "from datetime import datetime as dt\n",
    "from src.utils import mkdirs, convert_path, pkl_dump, pkl_load, display_side, add_median_labels\n",
    "from src.data_processing import get_dataset, BL62_VALUES, BL62FREQ_VALUES, HLAS, AA_KEYS, get_aa_properties\n",
    "from src.metrics import get_predictions, get_roc, get_metrics, plot_roc_auc_fold, get_mean_roc_curve\n",
    "from src.metrics import get_nested_feature_importance, plot_feature_importance\n",
    "from src.partition_tools import pipeline_stratified_kfold\n",
    "from src.utils import pkl_load, pkl_dump, get_palette\n",
    "from src.bootstrap import bootstrap_eval, get_pval, plot_pval\n",
    "from src.baselines import plot_baseline_roc, plot_related_baseline_roc\n",
    "from src.models import FFNetPipeline\n",
    "\n",
    "PAL = sns.color_palette('hsv', n_colors=13)\n",
    "HSV = [PAL[-4], PAL[-1], PAL[0], PAL [4]]\n",
    "tmppal = sns.color_palette('hsv', n_colors=15)\n",
    "NEWPAL = HSV + [tmppal[-3], tmppal[7]]\n",
    "mpl.rcParams['figure.dpi'] = 180"
   ]
  },
  {
   "cell_type": "code",
   "execution_count": 27,
   "id": "1bb49e30-58ec-4f69-9a15-35919610c0f9",
   "metadata": {},
   "outputs": [
    {
     "data": {
      "text/html": [
       "<div>\n",
       "<style scoped>\n",
       "    .dataframe tbody tr th:only-of-type {\n",
       "        vertical-align: middle;\n",
       "    }\n",
       "\n",
       "    .dataframe tbody tr th {\n",
       "        vertical-align: top;\n",
       "    }\n",
       "\n",
       "    .dataframe thead th {\n",
       "        text-align: right;\n",
       "    }\n",
       "</style>\n",
       "<table border=\"1\" class=\"dataframe\">\n",
       "  <thead>\n",
       "    <tr style=\"text-align: right;\">\n",
       "      <th></th>\n",
       "      <th>icore_start_pos</th>\n",
       "      <th>HLA</th>\n",
       "      <th>Peptide</th>\n",
       "      <th>Core</th>\n",
       "      <th>Of</th>\n",
       "      <th>Gp</th>\n",
       "      <th>Gl</th>\n",
       "      <th>Ip</th>\n",
       "      <th>Il</th>\n",
       "      <th>icore_mut</th>\n",
       "      <th>...</th>\n",
       "      <th>gene_num_proteins</th>\n",
       "      <th>gene_num_matching_proteins</th>\n",
       "      <th>gene_frac_matching_proteins</th>\n",
       "      <th>icore_len_mut</th>\n",
       "      <th>icore_len_wt</th>\n",
       "      <th>icore_anchor</th>\n",
       "      <th>icore_mutation_position</th>\n",
       "      <th>icore_anchor_mutation</th>\n",
       "      <th>icore_mut_score</th>\n",
       "      <th>icore_blsm_mut_score</th>\n",
       "    </tr>\n",
       "  </thead>\n",
       "  <tbody>\n",
       "    <tr>\n",
       "      <th>0</th>\n",
       "      <td>1</td>\n",
       "      <td>HLA-A*0201</td>\n",
       "      <td>AVFYTILTPV</td>\n",
       "      <td>AVFYTILTV</td>\n",
       "      <td>0</td>\n",
       "      <td>8</td>\n",
       "      <td>1</td>\n",
       "      <td>0</td>\n",
       "      <td>0</td>\n",
       "      <td>AVFYTILTPV</td>\n",
       "      <td>...</td>\n",
       "      <td>NaN</td>\n",
       "      <td>NaN</td>\n",
       "      <td>NaN</td>\n",
       "      <td>10</td>\n",
       "      <td>10</td>\n",
       "      <td>1,9</td>\n",
       "      <td>9</td>\n",
       "      <td>True</td>\n",
       "      <td>1</td>\n",
       "      <td>1</td>\n",
       "    </tr>\n",
       "    <tr>\n",
       "      <th>1</th>\n",
       "      <td>2</td>\n",
       "      <td>HLA-A*1101</td>\n",
       "      <td>YWFVNFETK</td>\n",
       "      <td>YWFVNFETK</td>\n",
       "      <td>0</td>\n",
       "      <td>0</td>\n",
       "      <td>0</td>\n",
       "      <td>0</td>\n",
       "      <td>0</td>\n",
       "      <td>YWFVNFETK</td>\n",
       "      <td>...</td>\n",
       "      <td>1</td>\n",
       "      <td>1</td>\n",
       "      <td>1.0</td>\n",
       "      <td>9</td>\n",
       "      <td>9</td>\n",
       "      <td>1,8</td>\n",
       "      <td>1</td>\n",
       "      <td>True</td>\n",
       "      <td>2</td>\n",
       "      <td>-2</td>\n",
       "    </tr>\n",
       "    <tr>\n",
       "      <th>2</th>\n",
       "      <td>1</td>\n",
       "      <td>HLA-A*2402</td>\n",
       "      <td>IFFLGLILF</td>\n",
       "      <td>IFFLGLILF</td>\n",
       "      <td>0</td>\n",
       "      <td>0</td>\n",
       "      <td>0</td>\n",
       "      <td>0</td>\n",
       "      <td>0</td>\n",
       "      <td>IFFLGLILF</td>\n",
       "      <td>...</td>\n",
       "      <td>9</td>\n",
       "      <td>4</td>\n",
       "      <td>0.0</td>\n",
       "      <td>9</td>\n",
       "      <td>9</td>\n",
       "      <td>1,8</td>\n",
       "      <td>2</td>\n",
       "      <td>False</td>\n",
       "      <td>2</td>\n",
       "      <td>-2</td>\n",
       "    </tr>\n",
       "    <tr>\n",
       "      <th>3</th>\n",
       "      <td>1</td>\n",
       "      <td>HLA-A*0301</td>\n",
       "      <td>ATPKYSNSLK</td>\n",
       "      <td>ATKYSNSLK</td>\n",
       "      <td>0</td>\n",
       "      <td>2</td>\n",
       "      <td>1</td>\n",
       "      <td>0</td>\n",
       "      <td>0</td>\n",
       "      <td>ATPKYSNSLK</td>\n",
       "      <td>...</td>\n",
       "      <td>2</td>\n",
       "      <td>2</td>\n",
       "      <td>1.0</td>\n",
       "      <td>10</td>\n",
       "      <td>10</td>\n",
       "      <td>0,9</td>\n",
       "      <td>4</td>\n",
       "      <td>False</td>\n",
       "      <td>2</td>\n",
       "      <td>-3</td>\n",
       "    </tr>\n",
       "    <tr>\n",
       "      <th>4</th>\n",
       "      <td>1</td>\n",
       "      <td>HLA-B*1501</td>\n",
       "      <td>ASMTGIVY</td>\n",
       "      <td>ASM-TGIVY</td>\n",
       "      <td>0</td>\n",
       "      <td>0</td>\n",
       "      <td>0</td>\n",
       "      <td>3</td>\n",
       "      <td>1</td>\n",
       "      <td>ASMTGIVY</td>\n",
       "      <td>...</td>\n",
       "      <td>4;6</td>\n",
       "      <td>4;5</td>\n",
       "      <td>1.0;0.0</td>\n",
       "      <td>8</td>\n",
       "      <td>8</td>\n",
       "      <td>1,7</td>\n",
       "      <td>6</td>\n",
       "      <td>False</td>\n",
       "      <td>4</td>\n",
       "      <td>0</td>\n",
       "    </tr>\n",
       "  </tbody>\n",
       "</table>\n",
       "<p>5 rows × 30 columns</p>\n",
       "</div>"
      ],
      "text/plain": [
       "   icore_start_pos         HLA     Peptide       Core  Of  Gp  Gl  Ip  Il  \\\n",
       "0                1  HLA-A*0201  AVFYTILTPV  AVFYTILTV   0   8   1   0   0   \n",
       "1                2  HLA-A*1101   YWFVNFETK  YWFVNFETK   0   0   0   0   0   \n",
       "2                1  HLA-A*2402   IFFLGLILF  IFFLGLILF   0   0   0   0   0   \n",
       "3                1  HLA-A*0301  ATPKYSNSLK  ATKYSNSLK   0   2   1   0   0   \n",
       "4                1  HLA-B*1501    ASMTGIVY  ASM-TGIVY   0   0   0   3   1   \n",
       "\n",
       "    icore_mut  ...  gene_num_proteins gene_num_matching_proteins  \\\n",
       "0  AVFYTILTPV  ...                NaN                        NaN   \n",
       "1   YWFVNFETK  ...                  1                          1   \n",
       "2   IFFLGLILF  ...                  9                          4   \n",
       "3  ATPKYSNSLK  ...                  2                          2   \n",
       "4    ASMTGIVY  ...                4;6                        4;5   \n",
       "\n",
       "   gene_frac_matching_proteins  icore_len_mut  icore_len_wt  icore_anchor  \\\n",
       "0                          NaN             10            10           1,9   \n",
       "1                          1.0              9             9           1,8   \n",
       "2                          0.0              9             9           1,8   \n",
       "3                          1.0             10            10           0,9   \n",
       "4                      1.0;0.0              8             8           1,7   \n",
       "\n",
       "   icore_mutation_position  icore_anchor_mutation icore_mut_score  \\\n",
       "0                        9                   True               1   \n",
       "1                        1                   True               2   \n",
       "2                        2                  False               2   \n",
       "3                        4                  False               2   \n",
       "4                        6                  False               4   \n",
       "\n",
       "  icore_blsm_mut_score  \n",
       "0                    1  \n",
       "1                   -2  \n",
       "2                   -2  \n",
       "3                   -3  \n",
       "4                    0  \n",
       "\n",
       "[5 rows x 30 columns]"
      ]
     },
     "execution_count": 27,
     "metadata": {},
     "output_type": "execute_result"
    }
   ],
   "source": [
    "from src.mutation_tools import pipeline_mutation_scores\n",
    "from sklearn.ensemble import RandomForestClassifier\n",
    "from src.sklearn_train_eval import nested_kcv_train_sklearn, evaluate_trained_models_sklearn\n",
    "\n",
    "ics_kl = pkl_load('../data/ic_dicts/ics_kl_new.pkl')\n",
    "df = pd.read_csv('../../pipeline/data/cedar_sample_200_scored_output.txt', sep =' ')\n",
    "pepx = pd.read_csv('../../pipeline//data/cedar_sample_200_scored_output_wt_icore_pepx_output.csv')\n",
    "merged=pd.merge(df, pepx.rename(columns={'peptide':'icore_wt_aligned'}), how='left', left_on='icore_wt_aligned', right_on='icore_wt_aligned')\n",
    "merged.fillna(merged.median(skipna=True, numeric_only=True), inplace=True)\n",
    "merged = pipeline_mutation_scores(merged, 'icore_mut','icore_wt_aligned', ics_kl, threshold=0.201, prefix='icore_')\n",
    "merged.head()"
   ]
  },
  {
   "cell_type": "code",
   "execution_count": 36,
   "id": "78c652ed-f89a-4ab7-9e55-740e5840e8d0",
   "metadata": {},
   "outputs": [
    {
     "name": "stdout",
     "output_type": "stream",
     "text": [
      "Training\n"
     ]
    },
    {
     "data": {
      "application/vnd.jupyter.widget-view+json": {
       "model_id": "",
       "version_major": 2,
       "version_minor": 0
      },
      "text/plain": [
       "Train:Outer fold:   0%|          | 0/10 [00:00<?, ?it/s]"
      ]
     },
     "metadata": {},
     "output_type": "display_data"
    },
    {
     "data": {
      "application/vnd.jupyter.widget-view+json": {
       "model_id": "",
       "version_major": 2,
       "version_minor": 0
      },
      "text/plain": [
       "Inner Folds:   0%|          | 0/9 [00:00<?, ?it/s]"
      ]
     },
     "metadata": {},
     "output_type": "display_data"
    },
    {
     "data": {
      "application/vnd.jupyter.widget-view+json": {
       "model_id": "",
       "version_major": 2,
       "version_minor": 0
      },
      "text/plain": [
       "Inner Folds:   0%|          | 0/9 [00:00<?, ?it/s]"
      ]
     },
     "metadata": {},
     "output_type": "display_data"
    },
    {
     "data": {
      "application/vnd.jupyter.widget-view+json": {
       "model_id": "",
       "version_major": 2,
       "version_minor": 0
      },
      "text/plain": [
       "Inner Folds:   0%|          | 0/9 [00:00<?, ?it/s]"
      ]
     },
     "metadata": {},
     "output_type": "display_data"
    },
    {
     "data": {
      "application/vnd.jupyter.widget-view+json": {
       "model_id": "",
       "version_major": 2,
       "version_minor": 0
      },
      "text/plain": [
       "Inner Folds:   0%|          | 0/9 [00:00<?, ?it/s]"
      ]
     },
     "metadata": {},
     "output_type": "display_data"
    },
    {
     "data": {
      "application/vnd.jupyter.widget-view+json": {
       "model_id": "",
       "version_major": 2,
       "version_minor": 0
      },
      "text/plain": [
       "Inner Folds:   0%|          | 0/9 [00:00<?, ?it/s]"
      ]
     },
     "metadata": {},
     "output_type": "display_data"
    },
    {
     "data": {
      "application/vnd.jupyter.widget-view+json": {
       "model_id": "",
       "version_major": 2,
       "version_minor": 0
      },
      "text/plain": [
       "Inner Folds:   0%|          | 0/9 [00:00<?, ?it/s]"
      ]
     },
     "metadata": {},
     "output_type": "display_data"
    },
    {
     "data": {
      "application/vnd.jupyter.widget-view+json": {
       "model_id": "",
       "version_major": 2,
       "version_minor": 0
      },
      "text/plain": [
       "Inner Folds:   0%|          | 0/9 [00:00<?, ?it/s]"
      ]
     },
     "metadata": {},
     "output_type": "display_data"
    },
    {
     "data": {
      "application/vnd.jupyter.widget-view+json": {
       "model_id": "",
       "version_major": 2,
       "version_minor": 0
      },
      "text/plain": [
       "Inner Folds:   0%|          | 0/9 [00:00<?, ?it/s]"
      ]
     },
     "metadata": {},
     "output_type": "display_data"
    },
    {
     "data": {
      "application/vnd.jupyter.widget-view+json": {
       "model_id": "",
       "version_major": 2,
       "version_minor": 0
      },
      "text/plain": [
       "Inner Folds:   0%|          | 0/9 [00:00<?, ?it/s]"
      ]
     },
     "metadata": {},
     "output_type": "display_data"
    },
    {
     "data": {
      "application/vnd.jupyter.widget-view+json": {
       "model_id": "",
       "version_major": 2,
       "version_minor": 0
      },
      "text/plain": [
       "Inner Folds:   0%|          | 0/9 [00:00<?, ?it/s]"
      ]
     },
     "metadata": {},
     "output_type": "display_data"
    }
   ],
   "source": [
    "cedar_aligned = pd.read_csv('../data/pepx/230418_cedar_aligned_pepx.csv').rename(columns={'icore_dissimilarity_score':'icore_similarity_score', 'Total_Gene_TPM':'total_gene_tpm'})\n",
    "model = RandomForestClassifier(n_jobs=1, min_samples_leaf=7, n_estimators=300,\n",
    "                                   max_depth=8, ccp_alpha=9.945e-6)\n",
    "\n",
    "encoding_kwargs = dict(encoding='onehot', max_len=12, blosum_matrix=None, mask=True, invert=False, add_rank=True, seq_col='icore_mut', rank_col='EL_rank_mut', threshold=0.201,\n",
    "                       hla_col='HLA',add_aaprop=False,remove_pep=False, standardize=True, mut_col=['icore_similarity_score', 'icore_blsm_mut_score', 'total_gene_tpm'])\n",
    "    # Training model and getting feature importances\n",
    "print('Training')\n",
    "trained_models, _, _ = nested_kcv_train_sklearn(cedar_aligned, model,\n",
    "                                                            ics_dict=ics_kl,\n",
    "                                                            encoding_kwargs=encoding_kwargs,\n",
    "                                                            n_jobs=8)"
   ]
  },
  {
   "cell_type": "code",
   "execution_count": 37,
   "id": "20821ce0-062c-45cc-a2d9-5e2dad4a15eb",
   "metadata": {},
   "outputs": [],
   "source": [
    "# Saving trained models and the kwargs etc\n",
    "import pickle\n",
    "with open('../output/harmonic_model.pkl', 'wb') as f:\n",
    "    data = {'model':trained_models,\n",
    "            'kwargs':encoding_kwargs,\n",
    "            'ics':ics_kl}\n",
    "    pickle.dump(data, f)"
   ]
  }
 ],
 "metadata": {
  "kernelspec": {
   "display_name": "Python [conda env:phd] *",
   "language": "python",
   "name": "conda-env-phd-py"
  },
  "language_info": {
   "codemirror_mode": {
    "name": "ipython",
    "version": 3
   },
   "file_extension": ".py",
   "mimetype": "text/x-python",
   "name": "python",
   "nbconvert_exporter": "python",
   "pygments_lexer": "ipython3",
   "version": "3.10.11"
  }
 },
 "nbformat": 4,
 "nbformat_minor": 5
}

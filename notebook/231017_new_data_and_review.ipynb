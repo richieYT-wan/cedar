{
 "cells": [
  {
   "cell_type": "code",
   "execution_count": 2,
   "id": "f92e5d33-c67a-4fca-a68c-6b449cf22552",
   "metadata": {},
   "outputs": [
    {
     "data": {
      "image/png": "[encoded data removed]",
      "text/plain": [
       "<Figure size 1x1 with 1 Axes>"
      ]
     },
     "metadata": {},
     "output_type": "display_data"
    }
   ],
   "source": [
    "%load_ext autoreload\n",
    "%autoreload 2\n",
    "\n",
    "import pandas as pd\n",
    "import numpy as np\n",
    "import sklearn\n",
    "import matplotlib.pyplot as plt\n",
    "import matplotlib as mpl\n",
    "import seaborn as sns\n",
    "f,a = plt.subplots(1,1,figsize=(1e-2, 1e-2))\n",
    "mpl.rcParams['figure.dpi'] = 180\n",
    "sns.set_style('darkgrid')\n",
    "import os,sys\n",
    "module_path = os.path.abspath(os.path.join('..'))\n",
    "if module_path not in sys.path:\n",
    "    sys.path.append(module_path)\n",
    "import warnings\n",
    "warnings.filterwarnings(\"ignore\")\n",
    "import itertools\n",
    "from tqdm.auto import tqdm\n",
    "from datetime import datetime as dt\n",
    "from src.utils import mkdirs, convert_path, pkl_dump, pkl_load, display_side, add_median_labels, get_palette\n",
    "\n",
    "PAL = sns.color_palette('hsv', n_colors=13)\n",
    "HSV = [PAL[-4], PAL[-1], PAL[0], PAL [4]]\n",
    "tmppal = sns.color_palette('hsv', n_colors=15)\n",
    "NEWPAL = HSV + [tmppal[-3], tmppal[7]]\n",
    "mpl.rcParams['figure.dpi'] = 180"
   ]
  },
  {
   "cell_type": "code",
   "execution_count": 3,
   "id": "14548d1f-8580-4175-b509-eb8e6a1112c4",
   "metadata": {},
   "outputs": [
    {
     "data": {
      "text/html": [
       "<div>\n",
       "<style scoped>\n",
       "    .dataframe tbody tr th:only-of-type {\n",
       "        vertical-align: middle;\n",
       "    }\n",
       "\n",
       "    .dataframe tbody tr th {\n",
       "        vertical-align: top;\n",
       "    }\n",
       "\n",
       "    .dataframe thead th {\n",
       "        text-align: right;\n",
       "    }\n",
       "</style>\n",
       "<table border=\"1\" class=\"dataframe\">\n",
       "  <thead>\n",
       "    <tr style=\"text-align: right;\">\n",
       "      <th></th>\n",
       "      <th>pat</th>\n",
       "      <th>gene_name</th>\n",
       "      <th>hgvs_dna</th>\n",
       "      <th>hgvs_protein</th>\n",
       "      <th>variant_id</th>\n",
       "      <th>Peptide</th>\n",
       "      <th>wild_type</th>\n",
       "      <th>nrm_alt_freq</th>\n",
       "      <th>tum_alt_freq</th>\n",
       "      <th>rna_alt_freq</th>\n",
       "      <th>Total_Gene_TPM</th>\n",
       "      <th>IFNg</th>\n",
       "      <th>IL5</th>\n",
       "      <th>any</th>\n",
       "      <th>both</th>\n",
       "    </tr>\n",
       "  </thead>\n",
       "  <tbody>\n",
       "    <tr>\n",
       "      <th>0</th>\n",
       "      <td>Hu_048</td>\n",
       "      <td>'ATRX</td>\n",
       "      <td>c.5390T&gt;C</td>\n",
       "      <td>p.Val1797Ala</td>\n",
       "      <td>1328383</td>\n",
       "      <td>STMVDARVMKKRAHILYEML</td>\n",
       "      <td>STMVDVRVMKKRAHILYEML</td>\n",
       "      <td>0.0</td>\n",
       "      <td>0.6797</td>\n",
       "      <td>0.8957</td>\n",
       "      <td>144.452</td>\n",
       "      <td>True</td>\n",
       "      <td>True</td>\n",
       "      <td>True</td>\n",
       "      <td>True</td>\n",
       "    </tr>\n",
       "    <tr>\n",
       "      <th>1</th>\n",
       "      <td>Hu_048</td>\n",
       "      <td>'ATRX</td>\n",
       "      <td>c.5390T&gt;C</td>\n",
       "      <td>p.Val1797Ala</td>\n",
       "      <td>1328383</td>\n",
       "      <td>PIQNGQCADSTMVDARVMKK</td>\n",
       "      <td>PIQNGQCADSTMVDVRVMKK</td>\n",
       "      <td>0.0</td>\n",
       "      <td>0.6797</td>\n",
       "      <td>0.8957</td>\n",
       "      <td>144.452</td>\n",
       "      <td>False</td>\n",
       "      <td>False</td>\n",
       "      <td>False</td>\n",
       "      <td>False</td>\n",
       "    </tr>\n",
       "  </tbody>\n",
       "</table>\n",
       "</div>"
      ],
      "text/plain": [
       "      pat gene_name   hgvs_dna  hgvs_protein  variant_id  \\\n",
       "0  Hu_048     'ATRX  c.5390T>C  p.Val1797Ala     1328383   \n",
       "1  Hu_048     'ATRX  c.5390T>C  p.Val1797Ala     1328383   \n",
       "\n",
       "                Peptide             wild_type  nrm_alt_freq  tum_alt_freq  \\\n",
       "0  STMVDARVMKKRAHILYEML  STMVDVRVMKKRAHILYEML           0.0        0.6797   \n",
       "1  PIQNGQCADSTMVDARVMKK  PIQNGQCADSTMVDVRVMKK           0.0        0.6797   \n",
       "\n",
       "   rna_alt_freq  Total_Gene_TPM   IFNg    IL5    any   both  \n",
       "0        0.8957         144.452   True   True   True   True  \n",
       "1        0.8957         144.452  False  False  False  False  "
      ]
     },
     "execution_count": 3,
     "metadata": {},
     "output_type": "execute_result"
    }
   ],
   "source": [
    "df = pd.read_excel('../data/aligned_icore/231017_zeynep_extra_data_neoepitopes.xlsx')\n",
    "df.rename(columns={'Sequence':'Peptide', 'Ref.Sequence':'wild_type', 'gene_TPM':'Total_Gene_TPM'}, inplace=True)\n",
    "df.head(2)"
   ]
  },
  {
   "cell_type": "code",
   "execution_count": 498,
   "id": "63c776f8-ca52-4b30-8855-e4b656d0804f",
   "metadata": {},
   "outputs": [],
   "source": [
    "def get_in_ref(peptide, hla, ref):\n",
    "    return len(ref.query('Peptide==@peptide and HLA == @hla'))==1"
   ]
  },
  {
   "cell_type": "code",
   "execution_count": 502,
   "id": "008a6a9e-c009-4dfc-b49e-7068a97994ac",
   "metadata": {},
   "outputs": [],
   "source": [
    "cedar['in_prime'] = cedar.apply(lambda x: get_in_ref(x['Peptide'], x['HLA'], prime), axis=1)"
   ]
  },
  {
   "cell_type": "code",
   "execution_count": 504,
   "id": "5faac13a-d841-4979-bf86-b14f7bdb1f4d",
   "metadata": {},
   "outputs": [],
   "source": [
    "cedar = pd.read_csv('../data/pepx/230308_cedar_aligned_pepx_fold.csv').assign(in_cedar = True, db = 'cedar')\n",
    "prime = pd.read_csv('../data/pepx/230308_prime_aligned_pepx.csv').assign(in_prime = True, db = 'prime')\n",
    "nepdb = pd.read_csv('../data/pepx/230308_nepdb_aligned_pepx.csv').assign(in_nepdb = True, db = 'nepdb')\n",
    "prime_filt = prime.query('Peptide not in @cedar.Peptide.unique()')\n",
    "\n",
    "cedar['in_prime'] = cedar.apply(lambda x: get_in_ref(x['Peptide'], x['HLA'], prime), axis=1)\n",
    "cedar['in_nepdb'] = cedar.apply(lambda x: get_in_ref(x['Peptide'], x['HLA'], nepdb), axis=1)\n",
    "\n",
    "prime['in_cedar'] = prime.apply(lambda x: get_in_ref(x['Peptide'], x['HLA'], cedar), axis=1)\n",
    "prime['in_nepdb'] = prime.apply(lambda x: get_in_ref(x['Peptide'], x['HLA'], nepdb), axis=1)\n",
    "\n",
    "nepdb['in_prime'] = nepdb.apply(lambda x: get_in_ref(x['Peptide'], x['HLA'], prime), axis=1)\n",
    "nepdb['in_cedar'] = nepdb.apply(lambda x: get_in_ref(x['Peptide'], x['HLA'], cedar), axis=1)\n",
    "\n",
    "# cedar['cedar_id'] = [f'cedar_{i:04}' for i in range(len(cedar))]\n",
    "# cedar['nepdb_id'] = 'flagged'\n",
    "# cedar['prime_id'] = 'flagged'\n",
    "\n",
    "# prime['cedar_id'] = 'flagged'\n",
    "# prime['prime_id'] = [f'prime_{i:04}' for i in range(len(prime))]\n",
    "# prime['nepdb_id'] = 'flagged'\n",
    "\n",
    "# nepdb['cedar_id'] = 'flagged'\n",
    "# nepdb['prime_id'] = 'flagged'\n",
    "# nepdb['nepdb_id'] = [f'nepdb_{i:04}' for i in range(len(nepdb))]\n"
   ]
  },
  {
   "cell_type": "markdown",
   "id": "ad6ba279-cca6-4891-9876-540f5ac7be32",
   "metadata": {},
   "source": [
    "# Remake merged dataset"
   ]
  },
  {
   "cell_type": "code",
   "execution_count": 500,
   "id": "9cda7cb5-864c-4725-9cd3-0dd5307fe3e1",
   "metadata": {
    "collapsed": true,
    "jupyter": {
     "outputs_hidden": true,
     "source_hidden": true
    }
   },
   "outputs": [
    {
     "data": {
      "text/plain": [
       "False"
      ]
     },
     "execution_count": 500,
     "metadata": {},
     "output_type": "execute_result"
    }
   ],
   "source": [
    "len(prime.query('Peptide==\"FICAIIVVV\" and HLA==\"HLA-B2705\"'))==1"
   ]
  },
  {
   "cell_type": "code",
   "execution_count": 496,
   "id": "c909b8fe-7c4b-4bc7-bbb2-e80699bcc0e7",
   "metadata": {
    "collapsed": true,
    "jupyter": {
     "outputs_hidden": true,
     "source_hidden": true
    }
   },
   "outputs": [
    {
     "data": {
      "text/html": [
       "<div>\n",
       "<style scoped>\n",
       "    .dataframe tbody tr th:only-of-type {\n",
       "        vertical-align: middle;\n",
       "    }\n",
       "\n",
       "    .dataframe tbody tr th {\n",
       "        vertical-align: top;\n",
       "    }\n",
       "\n",
       "    .dataframe thead th {\n",
       "        text-align: right;\n",
       "    }\n",
       "</style>\n",
       "<table border=\"1\" class=\"dataframe\">\n",
       "  <thead>\n",
       "    <tr style=\"text-align: right;\">\n",
       "      <th></th>\n",
       "      <th>Peptide</th>\n",
       "      <th>HLA</th>\n",
       "      <th>agg_label</th>\n",
       "      <th>in_prime</th>\n",
       "      <th>in_cedar</th>\n",
       "    </tr>\n",
       "  </thead>\n",
       "  <tbody>\n",
       "    <tr>\n",
       "      <th>458</th>\n",
       "      <td>FICAIIVVV</td>\n",
       "      <td>HLA-A0201</td>\n",
       "      <td>1</td>\n",
       "      <td>True</td>\n",
       "      <td>True</td>\n",
       "    </tr>\n",
       "    <tr>\n",
       "      <th>508</th>\n",
       "      <td>FLGAGLFLYF</td>\n",
       "      <td>HLA-A0201</td>\n",
       "      <td>1</td>\n",
       "      <td>True</td>\n",
       "      <td>True</td>\n",
       "    </tr>\n",
       "  </tbody>\n",
       "</table>\n",
       "</div>"
      ],
      "text/plain": [
       "        Peptide        HLA  agg_label  in_prime  in_cedar\n",
       "458   FICAIIVVV  HLA-A0201          1      True      True\n",
       "508  FLGAGLFLYF  HLA-A0201          1      True      True"
      ]
     },
     "execution_count": 496,
     "metadata": {},
     "output_type": "execute_result"
    }
   ],
   "source": [
    "prime.query('Peptide==\"FICAIIVVV\" or Peptide==\"FLGAGLFLYF\"')[['Peptide','HLA', 'agg_label', 'in_prime', 'in_cedar']]"
   ]
  },
  {
   "cell_type": "code",
   "execution_count": 497,
   "id": "5b0fa3cb-fdd6-4822-9a59-b6f8d2d76262",
   "metadata": {
    "collapsed": true,
    "jupyter": {
     "outputs_hidden": true,
     "source_hidden": true
    }
   },
   "outputs": [
    {
     "data": {
      "text/html": [
       "<div>\n",
       "<style scoped>\n",
       "    .dataframe tbody tr th:only-of-type {\n",
       "        vertical-align: middle;\n",
       "    }\n",
       "\n",
       "    .dataframe tbody tr th {\n",
       "        vertical-align: top;\n",
       "    }\n",
       "\n",
       "    .dataframe thead th {\n",
       "        text-align: right;\n",
       "    }\n",
       "</style>\n",
       "<table border=\"1\" class=\"dataframe\">\n",
       "  <thead>\n",
       "    <tr style=\"text-align: right;\">\n",
       "      <th></th>\n",
       "      <th>Peptide</th>\n",
       "      <th>HLA</th>\n",
       "      <th>agg_label</th>\n",
       "      <th>in_prime</th>\n",
       "      <th>in_cedar</th>\n",
       "    </tr>\n",
       "  </thead>\n",
       "  <tbody>\n",
       "    <tr>\n",
       "      <th>435</th>\n",
       "      <td>FICAIIVVV</td>\n",
       "      <td>HLA-B2705</td>\n",
       "      <td>1</td>\n",
       "      <td>True</td>\n",
       "      <td>True</td>\n",
       "    </tr>\n",
       "    <tr>\n",
       "      <th>482</th>\n",
       "      <td>FLGAGLFLYF</td>\n",
       "      <td>HLA-B2705</td>\n",
       "      <td>1</td>\n",
       "      <td>True</td>\n",
       "      <td>True</td>\n",
       "    </tr>\n",
       "  </tbody>\n",
       "</table>\n",
       "</div>"
      ],
      "text/plain": [
       "        Peptide        HLA  agg_label  in_prime  in_cedar\n",
       "435   FICAIIVVV  HLA-B2705          1      True      True\n",
       "482  FLGAGLFLYF  HLA-B2705          1      True      True"
      ]
     },
     "execution_count": 497,
     "metadata": {},
     "output_type": "execute_result"
    }
   ],
   "source": [
    "cedar.query('Peptide==\"FICAIIVVV\" or Peptide==\"FLGAGLFLYF\"')[['Peptide','HLA', 'agg_label', 'in_prime', 'in_cedar']]"
   ]
  },
  {
   "cell_type": "code",
   "execution_count": 492,
   "id": "7f94c3b2-5384-4546-a494-f677fa47a891",
   "metadata": {
    "collapsed": true,
    "jupyter": {
     "outputs_hidden": true,
     "source_hidden": true
    }
   },
   "outputs": [
    {
     "data": {
      "text/html": [
       "<div>\n",
       "<style scoped>\n",
       "    .dataframe tbody tr th:only-of-type {\n",
       "        vertical-align: middle;\n",
       "    }\n",
       "\n",
       "    .dataframe tbody tr th {\n",
       "        vertical-align: top;\n",
       "    }\n",
       "\n",
       "    .dataframe thead th {\n",
       "        text-align: right;\n",
       "    }\n",
       "</style>\n",
       "<table border=\"1\" class=\"dataframe\">\n",
       "  <thead>\n",
       "    <tr style=\"text-align: right;\">\n",
       "      <th></th>\n",
       "      <th>Peptide</th>\n",
       "      <th>HLA</th>\n",
       "      <th>EL_rank_mut</th>\n",
       "      <th>agg_label</th>\n",
       "      <th>EL_rank_wt</th>\n",
       "      <th>EL_rank_wt_aligned</th>\n",
       "      <th>Total_Gene_TPM</th>\n",
       "      <th>Total_Peptide_TPM</th>\n",
       "      <th>Total_Scaled_Peptide_TPM</th>\n",
       "      <th>VHSE1</th>\n",
       "      <th>...</th>\n",
       "      <th>len_icore_mut</th>\n",
       "      <th>seq_id</th>\n",
       "      <th>trueHLA_EL_rank</th>\n",
       "      <th>wild_type</th>\n",
       "      <th>foreignness_score</th>\n",
       "      <th>ratio_rank</th>\n",
       "      <th>in_cedar</th>\n",
       "      <th>db</th>\n",
       "      <th>in_prime</th>\n",
       "      <th>in_nepdb</th>\n",
       "    </tr>\n",
       "  </thead>\n",
       "  <tbody>\n",
       "    <tr>\n",
       "      <th>818</th>\n",
       "      <td>FICAIIVVV</td>\n",
       "      <td>HLA-A0201</td>\n",
       "      <td>1.2167</td>\n",
       "      <td>1</td>\n",
       "      <td>0.4979</td>\n",
       "      <td>0.4979</td>\n",
       "      <td>7.70076</td>\n",
       "      <td>7.701</td>\n",
       "      <td>6.299</td>\n",
       "      <td>0.882222</td>\n",
       "      <td>...</td>\n",
       "      <td>9</td>\n",
       "      <td>seq_0818</td>\n",
       "      <td>1.2167</td>\n",
       "      <td>FIGAIIVVV</td>\n",
       "      <td>0.000000e+00</td>\n",
       "      <td>1.756505</td>\n",
       "      <td>True</td>\n",
       "      <td>prime</td>\n",
       "      <td>True</td>\n",
       "      <td>False</td>\n",
       "    </tr>\n",
       "    <tr>\n",
       "      <th>819</th>\n",
       "      <td>FICAIIVVV</td>\n",
       "      <td>HLA-B2705</td>\n",
       "      <td>31.8000</td>\n",
       "      <td>1</td>\n",
       "      <td>39.2000</td>\n",
       "      <td>39.2000</td>\n",
       "      <td>7.70076</td>\n",
       "      <td>7.701</td>\n",
       "      <td>6.299</td>\n",
       "      <td>0.882222</td>\n",
       "      <td>...</td>\n",
       "      <td>9</td>\n",
       "      <td>seq_0819</td>\n",
       "      <td>31.8000</td>\n",
       "      <td>FIGAIIVVV</td>\n",
       "      <td>0.000000e+00</td>\n",
       "      <td>6.003061</td>\n",
       "      <td>True</td>\n",
       "      <td>cedar</td>\n",
       "      <td>True</td>\n",
       "      <td>False</td>\n",
       "    </tr>\n",
       "    <tr>\n",
       "      <th>910</th>\n",
       "      <td>FLGAGLFLYF</td>\n",
       "      <td>HLA-B2705</td>\n",
       "      <td>14.9934</td>\n",
       "      <td>1</td>\n",
       "      <td>16.7423</td>\n",
       "      <td>21.9474</td>\n",
       "      <td>211.50600</td>\n",
       "      <td>211.506</td>\n",
       "      <td>123.178</td>\n",
       "      <td>0.831111</td>\n",
       "      <td>...</td>\n",
       "      <td>9</td>\n",
       "      <td>seq_0910</td>\n",
       "      <td>26.1579</td>\n",
       "      <td>FLGAGLFIYF</td>\n",
       "      <td>3.475804e-09</td>\n",
       "      <td>4.750636</td>\n",
       "      <td>True</td>\n",
       "      <td>cedar</td>\n",
       "      <td>True</td>\n",
       "      <td>False</td>\n",
       "    </tr>\n",
       "    <tr>\n",
       "      <th>911</th>\n",
       "      <td>FLGAGLFLYF</td>\n",
       "      <td>HLA-A0201</td>\n",
       "      <td>1.7144</td>\n",
       "      <td>1</td>\n",
       "      <td>3.2829</td>\n",
       "      <td>3.2829</td>\n",
       "      <td>211.50600</td>\n",
       "      <td>211.506</td>\n",
       "      <td>123.178</td>\n",
       "      <td>0.858750</td>\n",
       "      <td>...</td>\n",
       "      <td>8</td>\n",
       "      <td>seq_0911</td>\n",
       "      <td>5.9479</td>\n",
       "      <td>FLGAGLFIYF</td>\n",
       "      <td>3.475804e-09</td>\n",
       "      <td>0.819104</td>\n",
       "      <td>True</td>\n",
       "      <td>prime</td>\n",
       "      <td>True</td>\n",
       "      <td>False</td>\n",
       "    </tr>\n",
       "  </tbody>\n",
       "</table>\n",
       "<p>4 rows × 41 columns</p>\n",
       "</div>"
      ],
      "text/plain": [
       "        Peptide        HLA  EL_rank_mut  agg_label  EL_rank_wt  \\\n",
       "818   FICAIIVVV  HLA-A0201       1.2167          1      0.4979   \n",
       "819   FICAIIVVV  HLA-B2705      31.8000          1     39.2000   \n",
       "910  FLGAGLFLYF  HLA-B2705      14.9934          1     16.7423   \n",
       "911  FLGAGLFLYF  HLA-A0201       1.7144          1      3.2829   \n",
       "\n",
       "     EL_rank_wt_aligned  Total_Gene_TPM  Total_Peptide_TPM  \\\n",
       "818              0.4979         7.70076              7.701   \n",
       "819             39.2000         7.70076              7.701   \n",
       "910             21.9474       211.50600            211.506   \n",
       "911              3.2829       211.50600            211.506   \n",
       "\n",
       "     Total_Scaled_Peptide_TPM     VHSE1  ...  len_icore_mut    seq_id  \\\n",
       "818                     6.299  0.882222  ...              9  seq_0818   \n",
       "819                     6.299  0.882222  ...              9  seq_0819   \n",
       "910                   123.178  0.831111  ...              9  seq_0910   \n",
       "911                   123.178  0.858750  ...              8  seq_0911   \n",
       "\n",
       "     trueHLA_EL_rank   wild_type  foreignness_score ratio_rank in_cedar  \\\n",
       "818           1.2167   FIGAIIVVV       0.000000e+00   1.756505     True   \n",
       "819          31.8000   FIGAIIVVV       0.000000e+00   6.003061     True   \n",
       "910          26.1579  FLGAGLFIYF       3.475804e-09   4.750636     True   \n",
       "911           5.9479  FLGAGLFIYF       3.475804e-09   0.819104     True   \n",
       "\n",
       "        db in_prime  in_nepdb  \n",
       "818  prime     True     False  \n",
       "819  cedar     True     False  \n",
       "910  cedar     True     False  \n",
       "911  prime     True     False  \n",
       "\n",
       "[4 rows x 41 columns]"
      ]
     },
     "execution_count": 492,
     "metadata": {},
     "output_type": "execute_result"
    }
   ],
   "source": [
    "cp_merged.query('Peptide==\"FICAIIVVV\" or Peptide==\"FLGAGLFLYF\"')"
   ]
  },
  {
   "cell_type": "code",
   "execution_count": 490,
   "id": "8eba7838-768a-4ca7-848e-9530fb464303",
   "metadata": {
    "collapsed": true,
    "jupyter": {
     "outputs_hidden": true,
     "source_hidden": true
    },
    "scrolled": true
   },
   "outputs": [
    {
     "name": "stdout",
     "output_type": "stream",
     "text": [
      "818 Peptide      FICAIIVVV\n",
      "HLA          HLA-A0201\n",
      "agg_label            1\n",
      "in_prime          True\n",
      "in_cedar          True\n",
      "Name: 818, dtype: object \n",
      "\n",
      "911 Peptide      FLGAGLFLYF\n",
      "HLA           HLA-A0201\n",
      "agg_label             1\n",
      "in_prime           True\n",
      "in_cedar           True\n",
      "Name: 911, dtype: object \n",
      "\n"
     ]
    }
   ],
   "source": [
    "for i, row in cp_merged.query('in_cedar').iterrows():\n",
    "    pep=row['Peptide']\n",
    "    hla=row['HLA']\n",
    "    if len(cedar.query(\"Peptide==@pep and HLA==@hla\")) != 1 :\n",
    "        print(i, row[['Peptide', 'HLA', 'agg_label', 'in_prime', 'in_cedar']], '\\n')"
   ]
  },
  {
   "cell_type": "code",
   "execution_count": 487,
   "id": "2e7fc26e-35b2-41d8-b10f-f1df5433777e",
   "metadata": {
    "collapsed": true,
    "jupyter": {
     "outputs_hidden": true,
     "source_hidden": true
    },
    "scrolled": true
   },
   "outputs": [
    {
     "name": "stdout",
     "output_type": "stream",
     "text": [
      "93 Peptide      ALAQKGVQL\n",
      "HLA          HLA-B0702\n",
      "agg_label            0\n",
      "in_prime          True\n",
      "in_cedar          True\n",
      "Name: 93, dtype: object \n",
      "\n",
      "819 Peptide      FICAIIVVV\n",
      "HLA          HLA-B2705\n",
      "agg_label            1\n",
      "in_prime          True\n",
      "in_cedar          True\n",
      "Name: 819, dtype: object \n",
      "\n",
      "910 Peptide      FLGAGLFLYF\n",
      "HLA           HLA-B2705\n",
      "agg_label             1\n",
      "in_prime           True\n",
      "in_cedar           True\n",
      "Name: 910, dtype: object \n",
      "\n",
      "963 Peptide      FLMASISSF\n",
      "HLA          HLA-B3501\n",
      "agg_label            0\n",
      "in_prime          True\n",
      "in_cedar          True\n",
      "Name: 963, dtype: object \n",
      "\n",
      "964 Peptide      FLMASISSF\n",
      "HLA          HLA-B0702\n",
      "agg_label            0\n",
      "in_prime          True\n",
      "in_cedar          True\n",
      "Name: 964, dtype: object \n",
      "\n",
      "1020 Peptide      FLVYGVRPGM\n",
      "HLA           HLA-B1501\n",
      "agg_label             0\n",
      "in_prime           True\n",
      "in_cedar           True\n",
      "Name: 1020, dtype: object \n",
      "\n",
      "2238 Peptide      KQWLVWLFL\n",
      "HLA          HLA-A0201\n",
      "agg_label            1\n",
      "in_prime          True\n",
      "in_cedar          True\n",
      "Name: 2238, dtype: object \n",
      "\n",
      "4061 Peptide      SLDLTTSPV\n",
      "HLA          HLA-B0702\n",
      "agg_label            0\n",
      "in_prime          True\n",
      "in_cedar          True\n",
      "Name: 4061, dtype: object \n",
      "\n",
      "4185 Peptide      SLSSSGAPSL\n",
      "HLA           HLA-B0702\n",
      "agg_label             0\n",
      "in_prime           True\n",
      "in_cedar           True\n",
      "Name: 4185, dtype: object \n",
      "\n",
      "4589 Peptide      TLAYSFQSL\n",
      "HLA          HLA-A2402\n",
      "agg_label            0\n",
      "in_prime          True\n",
      "in_cedar          True\n",
      "Name: 4589, dtype: object \n",
      "\n",
      "4590 Peptide      TLAYSFQSL\n",
      "HLA          HLA-B0702\n",
      "agg_label            0\n",
      "in_prime          True\n",
      "in_cedar          True\n",
      "Name: 4590, dtype: object \n",
      "\n",
      "5091 Peptide      VTYSGKFLI\n",
      "HLA          HLA-A2402\n",
      "agg_label            0\n",
      "in_prime          True\n",
      "in_cedar          True\n",
      "Name: 5091, dtype: object \n",
      "\n",
      "5374 Peptide      YLVDSVAKM\n",
      "HLA          HLA-B1501\n",
      "agg_label            0\n",
      "in_prime          True\n",
      "in_cedar          True\n",
      "Name: 5374, dtype: object \n",
      "\n"
     ]
    }
   ],
   "source": [
    "for i, row in cp_merged.query('in_prime').iterrows():\n",
    "    pep=row['Peptide']\n",
    "    hla=row['HLA']\n",
    "    if len(prime.query(\"Peptide==@pep and HLA==@hla\")) != 1 :\n",
    "        print(i, row[['Peptide', 'HLA', 'agg_label', 'in_prime', 'in_cedar']], '\\n')"
   ]
  },
  {
   "cell_type": "code",
   "execution_count": 505,
   "id": "6d460df9-3ebf-4e6f-83c2-e76dd8a1462f",
   "metadata": {},
   "outputs": [],
   "source": [
    "cp_merged = pd.concat([cedar, prime]).drop(columns=['Unnamed: 0.1' ,'Unnamed: 0','fold']).sort_values('Peptide').reset_index(drop=True)\n",
    "cpn_merged = pd.concat([cedar, prime, nepdb]).drop(columns=['Unnamed: 0.1' ,'Unnamed: 0', 'fold', 'EL_rank_exp']).sort_values('Peptide').reset_index(drop=True)"
   ]
  },
  {
   "cell_type": "code",
   "execution_count": 440,
   "id": "29fd2e53-9c5f-4c88-8f10-167c5c106595",
   "metadata": {},
   "outputs": [],
   "source": [
    "cp_merged['newdb'] = cp_merged.apply(lambda x: get_db(x['in_cedar'], x['in_prime'],  x['in_nepdb']), axis=1)"
   ]
  },
  {
   "cell_type": "code",
   "execution_count": 506,
   "id": "194c9d8f-0133-48e2-bdd1-2cc368fd4514",
   "metadata": {},
   "outputs": [
    {
     "name": "stdout",
     "output_type": "stream",
     "text": [
      "5581 5651\n"
     ]
    }
   ],
   "source": [
    "cp_merged = cp_merged.drop_duplicates(subset=['Peptide','HLA','agg_label'])\n",
    "cpn_merged = cpn_merged.drop_duplicates(subset=['Peptide','HLA','agg_label'])\n",
    "\n",
    "cp_merged.loc[cp_merged.duplicated(subset=['Peptide','HLA'], keep=False), ['agg_label']]=1\n",
    "cpn_merged.loc[cpn_merged.duplicated(subset=['Peptide','HLA'], keep=False), ['agg_label']]=1\n",
    "cp_merged = cp_merged.drop_duplicates(subset=['Peptide','HLA', 'agg_label']).sort_values('Peptide').reset_index(drop=True)\n",
    "cpn_merged = cpn_merged.drop_duplicates(subset=['Peptide','HLA', 'agg_label']).sort_values('Peptide').reset_index(drop=True)\n",
    "print(len(cp_merged), len(cpn_merged))\n",
    "cp_merged['seq_id']= [f'seq_{i:04}' for i in range(len(cp_merged))]\n",
    "cpn_merged['seq_id']= [f'seq_{i:04}' for i in range(len(cpn_merged))]\n",
    "cp_merged['Peptide'].to_csv('../../kern_dist/data/231018_cp_merged.pep', index=False, header=False)\n",
    "cpn_merged['Peptide'].to_csv('../../kern_dist/data/231018_cpn_merged.pep', index=False, header=False)"
   ]
  },
  {
   "cell_type": "code",
   "execution_count": 509,
   "id": "8d2ff4ff-26c8-441e-b2e2-7287517b4d8b",
   "metadata": {},
   "outputs": [
    {
     "name": "stdout",
     "output_type": "stream",
     "text": [
      "start 5581\n",
      "read hobohm 4134 1529\n",
      "strat kfold unique 4134 1529\n",
      "manually reassign identical 4134 1529\n",
      "manually reassign related 4134 1529\n",
      "concat 5663\n",
      "merge 5663\n",
      "drop duplicated 5581\n",
      "start 5651\n",
      "read hobohm 4175 1563\n",
      "strat kfold unique 4175 1563\n",
      "manually reassign identical 4175 1563\n",
      "manually reassign related 4175 1563\n",
      "concat 5738\n",
      "merge 5738\n",
      "drop duplicated 5651\n"
     ]
    }
   ],
   "source": [
    "from src.partition_tools import pipeline_stratified_kfold\n",
    "cp_merged_fold = pipeline_stratified_kfold('../../kern_dist/out/231018_cp_merged.pep_0.9.out', cp_merged, k=10, elrank_col='EL_rank_mut').drop_duplicates(subset=['seq_id'])\n",
    "cpn_merged_fold = pipeline_stratified_kfold('../../kern_dist/out/231018_cpn_merged.pep_0.9.out', cpn_merged, k=10, elrank_col='EL_rank_mut').drop_duplicates(subset=['seq_id'])"
   ]
  },
  {
   "cell_type": "code",
   "execution_count": 510,
   "id": "626d4c34-9292-4316-af2a-14e0115ec249",
   "metadata": {},
   "outputs": [
    {
     "name": "stdout",
     "output_type": "stream",
     "text": [
      "5581 5651\n"
     ]
    }
   ],
   "source": [
    "print(len(cp_merged_fold), len(cpn_merged_fold))"
   ]
  },
  {
   "cell_type": "code",
   "execution_count": 511,
   "id": "89192635-22bb-49f6-90e8-bac44b9bcd1b",
   "metadata": {
    "scrolled": true
   },
   "outputs": [],
   "source": [
    "from src.mutation_tools import pipeline_mutation_scores\n",
    "from src.data_processing import get_aa_properties\n",
    "cp_merged_fold = pipeline_mutation_scores(cp_merged_fold, 'icore_mut', 'icore_wt_aligned', ics_kl, 0.2, prefix='icore_')\n",
    "cp_merged_fold, _ = get_aa_properties(cp_merged_fold, seq_col = 'icore_mut', do_vhse=False, prefix='icore_')\n",
    "cpn_merged_fold = pipeline_mutation_scores(cpn_merged_fold, 'icore_mut', 'icore_wt_aligned', ics_kl, 0.2, prefix='icore_')\n",
    "cpn_merged_fold, _ = get_aa_properties(cpn_merged_fold, seq_col  = 'icore_mut', do_vhse=False, prefix='icore_')\n",
    "cp_merged_fold['ratio_rank'] = cp_merged_fold.apply(lambda x: abs(x['EL_rank_mut']-x['EL_rank_wt_aligned']) * x['EL_rank_mut'] / x['EL_rank_wt_aligned'], axis=1)\n",
    "cpn_merged_fold['ratio_rank'] = cpn_merged_fold.apply(lambda x: abs(x['EL_rank_mut']-x['EL_rank_wt_aligned']) * x['EL_rank_mut'] / x['EL_rank_wt_aligned'], axis=1)"
   ]
  },
  {
   "cell_type": "code",
   "execution_count": 515,
   "id": "7f065c34-46bc-44a2-b341-5e1851a0dd09",
   "metadata": {},
   "outputs": [],
   "source": [
    "cp_merged_fold['flag']=True\n",
    "cpn_merged_fold['flag']=True"
   ]
  },
  {
   "cell_type": "code",
   "execution_count": 521,
   "id": "b59b8760-7837-49db-8333-9dc3c10b37fc",
   "metadata": {},
   "outputs": [],
   "source": [
    "cp_merged_fold.query('not in_nepdb').drop(columns=['in_nepdb']).to_csv('../data/pepx/231018_cedar_prime_merged_fold.csv', index=False)\n",
    "cpn_merged_fold.to_csv('../data/pepx/231018_cedar_prime_nepdb_merged_fold.csv', index=False)"
   ]
  },
  {
   "cell_type": "code",
   "execution_count": 523,
   "id": "d7d05b25-1486-4ffc-b86e-b61945455b68",
   "metadata": {},
   "outputs": [
    {
     "data": {
      "text/plain": [
       "['in_cedar', 'in_prime']"
      ]
     },
     "execution_count": 523,
     "metadata": {},
     "output_type": "execute_result"
    }
   ],
   "source": [
    "list(filter(lambda x: 'in_' in x, pd.read_csv('../data/pepx/231018_cedar_prime_merged_fold.csv').columns))"
   ]
  },
  {
   "cell_type": "code",
   "execution_count": 96,
   "id": "0e7d67e4-eb2a-4c3f-b94d-9bdcf512b6db",
   "metadata": {},
   "outputs": [
    {
     "data": {
      "text/plain": [
       "1024"
      ]
     },
     "execution_count": 96,
     "metadata": {},
     "output_type": "execute_result"
    }
   ],
   "source": [
    "# Defining mut cols \n",
    "mcs = []\n",
    "prefix='icore_'\n",
    "cols_ = [f'{prefix}aliphatic_index', f'{prefix}boman', f'{prefix}hydrophobicity',\n",
    "         f'{prefix}isoelectric_point','icore_dissimilarity_score', 'icore_blsm_mut_score', 'ratio_rank',\n",
    "         'EL_rank_wt_aligned', 'foreignness_score', 'Total_Gene_TPM']\n",
    "\n",
    "for L in range(0, len(cols_) + 1):\n",
    "    for mc in itertools.combinations(cols_, L):\n",
    "        mcs.append(list(mc))\n",
    "\n",
    "len(mcs)"
   ]
  },
  {
   "cell_type": "code",
   "execution_count": 103,
   "id": "3aceba86-ac66-4851-a080-37f458ef7838",
   "metadata": {},
   "outputs": [
    {
     "data": {
      "text/plain": [
       "(dict_keys(['Peptide', 'ICORE']),\n",
       " dict_keys(['CEDAR', 'PRIME', 'NEPDB']),\n",
       " 10000)"
      ]
     },
     "execution_count": 103,
     "metadata": {},
     "output_type": "execute_result"
    }
   ],
   "source": [
    "# Checking the baseline\n",
    "baseline = pkl_load('../output/baseline_bootstrapped.pkl')\n",
    "baseline.keys(), baseline['Peptide'].keys(), len(baseline['Peptide']['PRIME'])\n",
    "\n",
    "# --> These seem to be bootstrapped DFs (n=10k) for each of the evaluation sets, surely trained using each input and their rank and nothing else"
   ]
  },
  {
   "cell_type": "code",
   "execution_count": 532,
   "id": "19bcb152-8e0e-41c1-98a4-76ff2c7ca081",
   "metadata": {},
   "outputs": [
    {
     "data": {
      "text/html": [
       "<div>\n",
       "<style scoped>\n",
       "    .dataframe tbody tr th:only-of-type {\n",
       "        vertical-align: middle;\n",
       "    }\n",
       "\n",
       "    .dataframe tbody tr th {\n",
       "        vertical-align: top;\n",
       "    }\n",
       "\n",
       "    .dataframe thead th {\n",
       "        text-align: right;\n",
       "    }\n",
       "</style>\n",
       "<table border=\"1\" class=\"dataframe\">\n",
       "  <thead>\n",
       "    <tr style=\"text-align: right;\">\n",
       "      <th></th>\n",
       "      <th>Peptide</th>\n",
       "      <th>HLA</th>\n",
       "      <th>EL_rank_mut</th>\n",
       "      <th>EL_rank_wt</th>\n",
       "      <th>EL_rank_wt_aligned</th>\n",
       "      <th>Total_Gene_TPM</th>\n",
       "      <th>Total_Peptide_TPM</th>\n",
       "      <th>Total_Scaled_Peptide_TPM</th>\n",
       "      <th>VHSE1</th>\n",
       "      <th>VHSE3</th>\n",
       "      <th>...</th>\n",
       "      <th>len_icore_mut</th>\n",
       "      <th>seq_id</th>\n",
       "      <th>trueHLA_EL_rank</th>\n",
       "      <th>wild_type</th>\n",
       "      <th>foreignness_score</th>\n",
       "      <th>ratio_rank</th>\n",
       "      <th>in_cedar</th>\n",
       "      <th>db</th>\n",
       "      <th>in_prime</th>\n",
       "      <th>in_nepdb</th>\n",
       "    </tr>\n",
       "    <tr>\n",
       "      <th>agg_label</th>\n",
       "      <th></th>\n",
       "      <th></th>\n",
       "      <th></th>\n",
       "      <th></th>\n",
       "      <th></th>\n",
       "      <th></th>\n",
       "      <th></th>\n",
       "      <th></th>\n",
       "      <th></th>\n",
       "      <th></th>\n",
       "      <th></th>\n",
       "      <th></th>\n",
       "      <th></th>\n",
       "      <th></th>\n",
       "      <th></th>\n",
       "      <th></th>\n",
       "      <th></th>\n",
       "      <th></th>\n",
       "      <th></th>\n",
       "      <th></th>\n",
       "      <th></th>\n",
       "    </tr>\n",
       "  </thead>\n",
       "  <tbody>\n",
       "    <tr>\n",
       "      <th>0</th>\n",
       "      <td>59</td>\n",
       "      <td>59</td>\n",
       "      <td>59</td>\n",
       "      <td>59</td>\n",
       "      <td>59</td>\n",
       "      <td>59</td>\n",
       "      <td>59</td>\n",
       "      <td>59</td>\n",
       "      <td>59</td>\n",
       "      <td>59</td>\n",
       "      <td>...</td>\n",
       "      <td>59</td>\n",
       "      <td>59</td>\n",
       "      <td>59</td>\n",
       "      <td>59</td>\n",
       "      <td>59</td>\n",
       "      <td>59</td>\n",
       "      <td>59</td>\n",
       "      <td>59</td>\n",
       "      <td>59</td>\n",
       "      <td>59</td>\n",
       "    </tr>\n",
       "    <tr>\n",
       "      <th>1</th>\n",
       "      <td>11</td>\n",
       "      <td>11</td>\n",
       "      <td>11</td>\n",
       "      <td>11</td>\n",
       "      <td>11</td>\n",
       "      <td>11</td>\n",
       "      <td>11</td>\n",
       "      <td>11</td>\n",
       "      <td>11</td>\n",
       "      <td>11</td>\n",
       "      <td>...</td>\n",
       "      <td>11</td>\n",
       "      <td>11</td>\n",
       "      <td>11</td>\n",
       "      <td>11</td>\n",
       "      <td>11</td>\n",
       "      <td>11</td>\n",
       "      <td>11</td>\n",
       "      <td>11</td>\n",
       "      <td>11</td>\n",
       "      <td>11</td>\n",
       "    </tr>\n",
       "  </tbody>\n",
       "</table>\n",
       "<p>2 rows × 40 columns</p>\n",
       "</div>"
      ],
      "text/plain": [
       "           Peptide  HLA  EL_rank_mut  EL_rank_wt  EL_rank_wt_aligned  \\\n",
       "agg_label                                                              \n",
       "0               59   59           59          59                  59   \n",
       "1               11   11           11          11                  11   \n",
       "\n",
       "           Total_Gene_TPM  Total_Peptide_TPM  Total_Scaled_Peptide_TPM  VHSE1  \\\n",
       "agg_label                                                                       \n",
       "0                      59                 59                        59     59   \n",
       "1                      11                 11                        11     11   \n",
       "\n",
       "           VHSE3  ...  len_icore_mut  seq_id  trueHLA_EL_rank  wild_type  \\\n",
       "agg_label         ...                                                      \n",
       "0             59  ...             59      59               59         59   \n",
       "1             11  ...             11      11               11         11   \n",
       "\n",
       "           foreignness_score  ratio_rank  in_cedar  db  in_prime  in_nepdb  \n",
       "agg_label                                                                   \n",
       "0                         59          59        59  59        59        59  \n",
       "1                         11          11        11  11        11        11  \n",
       "\n",
       "[2 rows x 40 columns]"
      ]
     },
     "execution_count": 532,
     "metadata": {},
     "output_type": "execute_result"
    }
   ],
   "source": [
    "cpn_merged.query('in_nepdb and not in_prime').groupby(['agg_label']).count()"
   ]
  },
  {
   "cell_type": "markdown",
   "id": "8e3466bc-e5aa-4968-8439-b4c6006d2f43",
   "metadata": {},
   "source": [
    "# Checks with viral "
   ]
  },
  {
   "cell_type": "code",
   "execution_count": 9,
   "id": "3a8ef205-94a4-4984-9822-688d3d8f038f",
   "metadata": {},
   "outputs": [
    {
     "data": {
      "text/html": [
       "<div>\n",
       "<style scoped>\n",
       "    .dataframe tbody tr th:only-of-type {\n",
       "        vertical-align: middle;\n",
       "    }\n",
       "\n",
       "    .dataframe tbody tr th {\n",
       "        vertical-align: top;\n",
       "    }\n",
       "\n",
       "    .dataframe thead th {\n",
       "        text-align: right;\n",
       "    }\n",
       "</style>\n",
       "<table border=\"1\" class=\"dataframe\">\n",
       "  <thead>\n",
       "    <tr style=\"text-align: right;\">\n",
       "      <th></th>\n",
       "      <th>sequence</th>\n",
       "      <th>HLA</th>\n",
       "      <th>EL_rank_mut</th>\n",
       "      <th>agg_label</th>\n",
       "      <th>agg_label.1</th>\n",
       "    </tr>\n",
       "  </thead>\n",
       "  <tbody>\n",
       "    <tr>\n",
       "      <th>0</th>\n",
       "      <td>TVTSTPVQGR</td>\n",
       "      <td>HLA-A6801</td>\n",
       "      <td>0.039</td>\n",
       "      <td>1</td>\n",
       "      <td>1</td>\n",
       "    </tr>\n",
       "    <tr>\n",
       "      <th>1</th>\n",
       "      <td>TVYPPSSTAK</td>\n",
       "      <td>HLA-A0301</td>\n",
       "      <td>0.006</td>\n",
       "      <td>1</td>\n",
       "      <td>1</td>\n",
       "    </tr>\n",
       "    <tr>\n",
       "      <th>2</th>\n",
       "      <td>AEWPTFNVGW</td>\n",
       "      <td>HLA-B4403</td>\n",
       "      <td>0.015</td>\n",
       "      <td>1</td>\n",
       "      <td>1</td>\n",
       "    </tr>\n",
       "  </tbody>\n",
       "</table>\n",
       "</div>"
      ],
      "text/plain": [
       "     sequence        HLA  EL_rank_mut  agg_label  agg_label.1\n",
       "0  TVTSTPVQGR  HLA-A6801        0.039          1            1\n",
       "1  TVYPPSSTAK  HLA-A0301        0.006          1            1\n",
       "2  AEWPTFNVGW  HLA-B4403        0.015          1            1"
      ]
     },
     "metadata": {},
     "output_type": "display_data"
    },
    {
     "data": {
      "text/html": [
       "<div>\n",
       "<style scoped>\n",
       "    .dataframe tbody tr th:only-of-type {\n",
       "        vertical-align: middle;\n",
       "    }\n",
       "\n",
       "    .dataframe tbody tr th {\n",
       "        vertical-align: top;\n",
       "    }\n",
       "\n",
       "    .dataframe thead th {\n",
       "        text-align: right;\n",
       "    }\n",
       "</style>\n",
       "<table border=\"1\" class=\"dataframe\">\n",
       "  <thead>\n",
       "    <tr style=\"text-align: right;\">\n",
       "      <th></th>\n",
       "      <th>sequence</th>\n",
       "      <th>HLA</th>\n",
       "      <th>EL_rank_mut</th>\n",
       "      <th>trueHLA_EL_rank</th>\n",
       "      <th>agg_label</th>\n",
       "    </tr>\n",
       "  </thead>\n",
       "  <tbody>\n",
       "    <tr>\n",
       "      <th>0</th>\n",
       "      <td>AAAAAAQQI</td>\n",
       "      <td>HLA-B0702</td>\n",
       "      <td>3.9712</td>\n",
       "      <td>26.7692</td>\n",
       "      <td>0</td>\n",
       "    </tr>\n",
       "    <tr>\n",
       "      <th>1</th>\n",
       "      <td>AAAAQQIQV</td>\n",
       "      <td>HLA-B0702</td>\n",
       "      <td>4.9092</td>\n",
       "      <td>4.9092</td>\n",
       "      <td>0</td>\n",
       "    </tr>\n",
       "    <tr>\n",
       "      <th>2</th>\n",
       "      <td>AAAAQQIQV</td>\n",
       "      <td>HLA-A0201</td>\n",
       "      <td>1.9555</td>\n",
       "      <td>1.9555</td>\n",
       "      <td>0</td>\n",
       "    </tr>\n",
       "  </tbody>\n",
       "</table>\n",
       "</div>"
      ],
      "text/plain": [
       "    sequence        HLA  EL_rank_mut  trueHLA_EL_rank  agg_label\n",
       "0  AAAAAAQQI  HLA-B0702       3.9712          26.7692          0\n",
       "1  AAAAQQIQV  HLA-B0702       4.9092           4.9092          0\n",
       "2  AAAAQQIQV  HLA-A0201       1.9555           1.9555          0"
      ]
     },
     "metadata": {},
     "output_type": "display_data"
    },
    {
     "data": {
      "text/plain": [
       "(None, None)"
      ]
     },
     "execution_count": 9,
     "metadata": {},
     "output_type": "execute_result"
    }
   ],
   "source": [
    "neoepi = pd.read_csv('../data/neoepi_viral/cedar.csv')\n",
    "viral = pd.read_csv('../data/neoepi_viral/viral.csv')\n",
    "display(viral.head(3)), display(neoepi.head(3))"
   ]
  },
  {
   "cell_type": "code",
   "execution_count": 30,
   "id": "f415883a-dc53-411c-876c-aa56a995971b",
   "metadata": {},
   "outputs": [],
   "source": [
    "from src.data_processing import get_array_dataset, encode_batch, encode_batch_weighted, batch_compute_frequency, AA_KEYS\n",
    "w = AA_KEYS.index('W')\n",
    "ics_kl = pkl_load('../data/ic_dicts/ics_kl_new.pkl')\n",
    "viral['W_count'] = viral.sequence.apply(lambda x: x.count('W'))\n",
    "neoepi['W_count'] = neoepi.sequence.apply(lambda x: x.count('W'))"
   ]
  },
  {
   "cell_type": "code",
   "execution_count": 36,
   "id": "dc596911-2484-4154-ade2-00d0af4fc64c",
   "metadata": {},
   "outputs": [
    {
     "name": "stdout",
     "output_type": "stream",
     "text": [
      "0.006958562513318169\n",
      "0.013640526597994496\n"
     ]
    }
   ],
   "source": [
    "print(get_array_dataset(viral, ics_kl, seq_col='sequence', mask=True, add_rank=False, threshold=0.2)[0].mean(axis=0)[w])\n",
    "print(get_array_dataset(neoepi, ics_kl, seq_col='sequence', mask=True, add_rank=False, threshold=0.2)[0].mean(axis=0)[w])"
   ]
  },
  {
   "cell_type": "code",
   "execution_count": 525,
   "id": "6ab0e91c-841d-41ae-863a-213ade1c1f8b",
   "metadata": {},
   "outputs": [
    {
     "name": "stdout",
     "output_type": "stream",
     "text": [
      "Viral % of W, label = negative 0.0069\n",
      "Viral % of W, label = positive 0.0187\n",
      "Neoepi % of W, label = negative 0.0161\n",
      "Neoepi % of W, label = positive 0.0176\n"
     ]
    }
   ],
   "source": [
    "print('Viral % of W, label = negative', f\"{get_array_dataset(viral.query('agg_label==0'), None, seq_col='sequence', mask=False, add_rank=False, threshold=0.2)[0].mean(axis=0)[w]:.4f}\")\n",
    "print('Viral % of W, label = positive', f\"{get_array_dataset(viral.query('agg_label==1'), None, seq_col='sequence', mask=False, add_rank=False, threshold=0.2)[0].mean(axis=0)[w]:.4f}\")\n",
    "\n",
    "print('Neoepi % of W, label = negative', f\"{get_array_dataset(neoepi.query('agg_label==0'), None, seq_col='sequence', mask=False, add_rank=False, threshold=0.2)[0].mean(axis=0)[w]:.4f}\")\n",
    "print('Neoepi % of W, label = positive', f\"{get_array_dataset(neoepi.query('agg_label==1'), None, seq_col='sequence', mask=False, add_rank=False, threshold=0.2)[0].mean(axis=0)[w]:.4f}\")"
   ]
  },
  {
   "cell_type": "code",
   "execution_count": 527,
   "id": "57c63372-3fa9-4002-a47e-9e6571daab5b",
   "metadata": {},
   "outputs": [
    {
     "name": "stdout",
     "output_type": "stream",
     "text": [
      "Viral % of W, label = negative 0.0054\n",
      "Viral % of W, label = positive 0.0136\n",
      "Neoepi % of W, label = negative 0.0133\n",
      "Neoepi % of W, label = positive 0.0149\n"
     ]
    }
   ],
   "source": [
    "print('Viral % of W, label = negative', f\"{get_array_dataset(viral.query('agg_label==0'), ics_kl, seq_col='sequence', mask=True, add_rank=False, threshold=0.2)[0].mean(axis=0)[w]:.4f}\")\n",
    "print('Viral % of W, label = positive', f\"{get_array_dataset(viral.query('agg_label==1'), ics_kl, seq_col='sequence', mask=True, add_rank=False, threshold=0.2)[0].mean(axis=0)[w]:.4f}\")\n",
    "\n",
    "print('Neoepi % of W, label = negative', f\"{get_array_dataset(neoepi.query('agg_label==0'), ics_kl, seq_col='sequence', mask=True, add_rank=False, threshold=0.2)[0].mean(axis=0)[w]:.4f}\")\n",
    "print('Neoepi % of W, label = positive', f\"{get_array_dataset(neoepi.query('agg_label==1'), ics_kl, seq_col='sequence', mask=True, add_rank=False, threshold=0.2)[0].mean(axis=0)[w]:.4f}\")"
   ]
  },
  {
   "cell_type": "code",
   "execution_count": 52,
   "id": "f83e0f1c-8bf9-41d6-9f4c-027dbb86eeaf",
   "metadata": {
    "collapsed": true,
    "jupyter": {
     "outputs_hidden": true
    }
   },
   "outputs": [
    {
     "data": {
      "text/html": [
       "<div>\n",
       "<style scoped>\n",
       "    .dataframe tbody tr th:only-of-type {\n",
       "        vertical-align: middle;\n",
       "    }\n",
       "\n",
       "    .dataframe tbody tr th {\n",
       "        vertical-align: top;\n",
       "    }\n",
       "\n",
       "    .dataframe thead th {\n",
       "        text-align: right;\n",
       "    }\n",
       "</style>\n",
       "<table border=\"1\" class=\"dataframe\">\n",
       "  <thead>\n",
       "    <tr style=\"text-align: right;\">\n",
       "      <th></th>\n",
       "      <th>Unnamed: 0.1</th>\n",
       "      <th>Unnamed: 0</th>\n",
       "      <th>Peptide</th>\n",
       "      <th>HLA</th>\n",
       "      <th>EL_rank_mut</th>\n",
       "      <th>agg_label</th>\n",
       "      <th>fold</th>\n",
       "      <th>EL_rank_wt</th>\n",
       "      <th>EL_rank_wt_aligned</th>\n",
       "      <th>Total_Gene_TPM</th>\n",
       "      <th>...</th>\n",
       "      <th>icore_mut_start</th>\n",
       "      <th>icore_mutation_position</th>\n",
       "      <th>icore_wt_aligned</th>\n",
       "      <th>isoelectric_point</th>\n",
       "      <th>len_icore_mut</th>\n",
       "      <th>seq_id</th>\n",
       "      <th>trueHLA_EL_rank</th>\n",
       "      <th>wild_type</th>\n",
       "      <th>foreignness_score</th>\n",
       "      <th>ratio_rank</th>\n",
       "    </tr>\n",
       "    <tr>\n",
       "      <th>len</th>\n",
       "      <th></th>\n",
       "      <th></th>\n",
       "      <th></th>\n",
       "      <th></th>\n",
       "      <th></th>\n",
       "      <th></th>\n",
       "      <th></th>\n",
       "      <th></th>\n",
       "      <th></th>\n",
       "      <th></th>\n",
       "      <th></th>\n",
       "      <th></th>\n",
       "      <th></th>\n",
       "      <th></th>\n",
       "      <th></th>\n",
       "      <th></th>\n",
       "      <th></th>\n",
       "      <th></th>\n",
       "      <th></th>\n",
       "      <th></th>\n",
       "      <th></th>\n",
       "    </tr>\n",
       "  </thead>\n",
       "  <tbody>\n",
       "    <tr>\n",
       "      <th>9</th>\n",
       "      <td>1510</td>\n",
       "      <td>1510</td>\n",
       "      <td>1510</td>\n",
       "      <td>1510</td>\n",
       "      <td>1510</td>\n",
       "      <td>1510</td>\n",
       "      <td>1510</td>\n",
       "      <td>1510</td>\n",
       "      <td>1510</td>\n",
       "      <td>1510</td>\n",
       "      <td>...</td>\n",
       "      <td>1510</td>\n",
       "      <td>1510</td>\n",
       "      <td>1510</td>\n",
       "      <td>1510</td>\n",
       "      <td>1510</td>\n",
       "      <td>1510</td>\n",
       "      <td>1510</td>\n",
       "      <td>1510</td>\n",
       "      <td>1510</td>\n",
       "      <td>1510</td>\n",
       "    </tr>\n",
       "    <tr>\n",
       "      <th>10</th>\n",
       "      <td>861</td>\n",
       "      <td>861</td>\n",
       "      <td>861</td>\n",
       "      <td>861</td>\n",
       "      <td>861</td>\n",
       "      <td>861</td>\n",
       "      <td>861</td>\n",
       "      <td>861</td>\n",
       "      <td>861</td>\n",
       "      <td>861</td>\n",
       "      <td>...</td>\n",
       "      <td>861</td>\n",
       "      <td>861</td>\n",
       "      <td>861</td>\n",
       "      <td>861</td>\n",
       "      <td>861</td>\n",
       "      <td>861</td>\n",
       "      <td>861</td>\n",
       "      <td>861</td>\n",
       "      <td>861</td>\n",
       "      <td>861</td>\n",
       "    </tr>\n",
       "    <tr>\n",
       "      <th>11</th>\n",
       "      <td>615</td>\n",
       "      <td>615</td>\n",
       "      <td>615</td>\n",
       "      <td>615</td>\n",
       "      <td>615</td>\n",
       "      <td>615</td>\n",
       "      <td>615</td>\n",
       "      <td>615</td>\n",
       "      <td>615</td>\n",
       "      <td>615</td>\n",
       "      <td>...</td>\n",
       "      <td>615</td>\n",
       "      <td>615</td>\n",
       "      <td>615</td>\n",
       "      <td>615</td>\n",
       "      <td>615</td>\n",
       "      <td>615</td>\n",
       "      <td>615</td>\n",
       "      <td>615</td>\n",
       "      <td>615</td>\n",
       "      <td>615</td>\n",
       "    </tr>\n",
       "    <tr>\n",
       "      <th>12</th>\n",
       "      <td>2</td>\n",
       "      <td>2</td>\n",
       "      <td>2</td>\n",
       "      <td>2</td>\n",
       "      <td>2</td>\n",
       "      <td>2</td>\n",
       "      <td>2</td>\n",
       "      <td>2</td>\n",
       "      <td>2</td>\n",
       "      <td>2</td>\n",
       "      <td>...</td>\n",
       "      <td>2</td>\n",
       "      <td>2</td>\n",
       "      <td>2</td>\n",
       "      <td>2</td>\n",
       "      <td>2</td>\n",
       "      <td>2</td>\n",
       "      <td>2</td>\n",
       "      <td>2</td>\n",
       "      <td>2</td>\n",
       "      <td>2</td>\n",
       "    </tr>\n",
       "  </tbody>\n",
       "</table>\n",
       "<p>4 rows × 39 columns</p>\n",
       "</div>"
      ],
      "text/plain": [
       "     Unnamed: 0.1  Unnamed: 0  Peptide   HLA  EL_rank_mut  agg_label  fold  \\\n",
       "len                                                                          \n",
       "9            1510        1510     1510  1510         1510       1510  1510   \n",
       "10            861         861      861   861          861        861   861   \n",
       "11            615         615      615   615          615        615   615   \n",
       "12              2           2        2     2            2          2     2   \n",
       "\n",
       "     EL_rank_wt  EL_rank_wt_aligned  Total_Gene_TPM  ...  icore_mut_start  \\\n",
       "len                                                  ...                    \n",
       "9          1510                1510            1510  ...             1510   \n",
       "10          861                 861             861  ...              861   \n",
       "11          615                 615             615  ...              615   \n",
       "12            2                   2               2  ...                2   \n",
       "\n",
       "     icore_mutation_position  icore_wt_aligned  isoelectric_point  \\\n",
       "len                                                                 \n",
       "9                       1510              1510               1510   \n",
       "10                       861               861                861   \n",
       "11                       615               615                615   \n",
       "12                         2                 2                  2   \n",
       "\n",
       "     len_icore_mut  seq_id  trueHLA_EL_rank  wild_type  foreignness_score  \\\n",
       "len                                                                         \n",
       "9             1510    1510             1510       1510               1510   \n",
       "10             861     861              861        861                861   \n",
       "11             615     615              615        615                615   \n",
       "12               2       2                2          2                  2   \n",
       "\n",
       "     ratio_rank  \n",
       "len              \n",
       "9          1510  \n",
       "10          861  \n",
       "11          615  \n",
       "12            2  \n",
       "\n",
       "[4 rows x 39 columns]"
      ]
     },
     "execution_count": 52,
     "metadata": {},
     "output_type": "execute_result"
    }
   ],
   "source": [
    "cedar.groupby('len').count()"
   ]
  },
  {
   "cell_type": "code",
   "execution_count": 53,
   "id": "3f4cf853-a94a-47e5-b7fb-7b0b57bac700",
   "metadata": {
    "collapsed": true,
    "jupyter": {
     "outputs_hidden": true
    }
   },
   "outputs": [
    {
     "data": {
      "text/html": [
       "<div>\n",
       "<style scoped>\n",
       "    .dataframe tbody tr th:only-of-type {\n",
       "        vertical-align: middle;\n",
       "    }\n",
       "\n",
       "    .dataframe tbody tr th {\n",
       "        vertical-align: top;\n",
       "    }\n",
       "\n",
       "    .dataframe thead th {\n",
       "        text-align: right;\n",
       "    }\n",
       "</style>\n",
       "<table border=\"1\" class=\"dataframe\">\n",
       "  <thead>\n",
       "    <tr style=\"text-align: right;\">\n",
       "      <th></th>\n",
       "      <th>Unnamed: 0.1</th>\n",
       "      <th>Unnamed: 0</th>\n",
       "      <th>HLA</th>\n",
       "      <th>agg_label</th>\n",
       "      <th>fold</th>\n",
       "      <th>Peptide</th>\n",
       "      <th>wild_type</th>\n",
       "      <th>icore_mut</th>\n",
       "      <th>core_mut</th>\n",
       "      <th>EL_rank_mut</th>\n",
       "      <th>...</th>\n",
       "      <th>VHSE7</th>\n",
       "      <th>VHSE8</th>\n",
       "      <th>seq_id</th>\n",
       "      <th>core_wt_aligned</th>\n",
       "      <th>EL_rank_wt_aligned</th>\n",
       "      <th>Total_Peptide_TPM</th>\n",
       "      <th>Total_Scaled_Peptide_TPM</th>\n",
       "      <th>Total_Gene_TPM</th>\n",
       "      <th>foreignness_score</th>\n",
       "      <th>ratio_rank</th>\n",
       "    </tr>\n",
       "    <tr>\n",
       "      <th>len</th>\n",
       "      <th></th>\n",
       "      <th></th>\n",
       "      <th></th>\n",
       "      <th></th>\n",
       "      <th></th>\n",
       "      <th></th>\n",
       "      <th></th>\n",
       "      <th></th>\n",
       "      <th></th>\n",
       "      <th></th>\n",
       "      <th></th>\n",
       "      <th></th>\n",
       "      <th></th>\n",
       "      <th></th>\n",
       "      <th></th>\n",
       "      <th></th>\n",
       "      <th></th>\n",
       "      <th></th>\n",
       "      <th></th>\n",
       "      <th></th>\n",
       "      <th></th>\n",
       "    </tr>\n",
       "  </thead>\n",
       "  <tbody>\n",
       "    <tr>\n",
       "      <th>8</th>\n",
       "      <td>37</td>\n",
       "      <td>37</td>\n",
       "      <td>37</td>\n",
       "      <td>37</td>\n",
       "      <td>37</td>\n",
       "      <td>37</td>\n",
       "      <td>37</td>\n",
       "      <td>37</td>\n",
       "      <td>37</td>\n",
       "      <td>37</td>\n",
       "      <td>...</td>\n",
       "      <td>37</td>\n",
       "      <td>37</td>\n",
       "      <td>37</td>\n",
       "      <td>37</td>\n",
       "      <td>37</td>\n",
       "      <td>37</td>\n",
       "      <td>37</td>\n",
       "      <td>37</td>\n",
       "      <td>37</td>\n",
       "      <td>37</td>\n",
       "    </tr>\n",
       "    <tr>\n",
       "      <th>9</th>\n",
       "      <td>1322</td>\n",
       "      <td>1322</td>\n",
       "      <td>1322</td>\n",
       "      <td>1322</td>\n",
       "      <td>1322</td>\n",
       "      <td>1322</td>\n",
       "      <td>1322</td>\n",
       "      <td>1322</td>\n",
       "      <td>1322</td>\n",
       "      <td>1322</td>\n",
       "      <td>...</td>\n",
       "      <td>1322</td>\n",
       "      <td>1322</td>\n",
       "      <td>1322</td>\n",
       "      <td>1322</td>\n",
       "      <td>1322</td>\n",
       "      <td>1322</td>\n",
       "      <td>1322</td>\n",
       "      <td>1322</td>\n",
       "      <td>1322</td>\n",
       "      <td>1322</td>\n",
       "    </tr>\n",
       "    <tr>\n",
       "      <th>10</th>\n",
       "      <td>1242</td>\n",
       "      <td>1242</td>\n",
       "      <td>1242</td>\n",
       "      <td>1242</td>\n",
       "      <td>1242</td>\n",
       "      <td>1242</td>\n",
       "      <td>1242</td>\n",
       "      <td>1242</td>\n",
       "      <td>1242</td>\n",
       "      <td>1242</td>\n",
       "      <td>...</td>\n",
       "      <td>1242</td>\n",
       "      <td>1242</td>\n",
       "      <td>1242</td>\n",
       "      <td>1242</td>\n",
       "      <td>1242</td>\n",
       "      <td>1242</td>\n",
       "      <td>1242</td>\n",
       "      <td>1242</td>\n",
       "      <td>1242</td>\n",
       "      <td>1242</td>\n",
       "    </tr>\n",
       "    <tr>\n",
       "      <th>11</th>\n",
       "      <td>390</td>\n",
       "      <td>390</td>\n",
       "      <td>390</td>\n",
       "      <td>390</td>\n",
       "      <td>390</td>\n",
       "      <td>390</td>\n",
       "      <td>390</td>\n",
       "      <td>390</td>\n",
       "      <td>390</td>\n",
       "      <td>390</td>\n",
       "      <td>...</td>\n",
       "      <td>390</td>\n",
       "      <td>390</td>\n",
       "      <td>390</td>\n",
       "      <td>390</td>\n",
       "      <td>390</td>\n",
       "      <td>390</td>\n",
       "      <td>390</td>\n",
       "      <td>390</td>\n",
       "      <td>390</td>\n",
       "      <td>390</td>\n",
       "    </tr>\n",
       "    <tr>\n",
       "      <th>12</th>\n",
       "      <td>1</td>\n",
       "      <td>1</td>\n",
       "      <td>1</td>\n",
       "      <td>1</td>\n",
       "      <td>1</td>\n",
       "      <td>1</td>\n",
       "      <td>1</td>\n",
       "      <td>1</td>\n",
       "      <td>1</td>\n",
       "      <td>1</td>\n",
       "      <td>...</td>\n",
       "      <td>1</td>\n",
       "      <td>1</td>\n",
       "      <td>1</td>\n",
       "      <td>1</td>\n",
       "      <td>1</td>\n",
       "      <td>1</td>\n",
       "      <td>1</td>\n",
       "      <td>1</td>\n",
       "      <td>1</td>\n",
       "      <td>1</td>\n",
       "    </tr>\n",
       "  </tbody>\n",
       "</table>\n",
       "<p>5 rows × 39 columns</p>\n",
       "</div>"
      ],
      "text/plain": [
       "     Unnamed: 0.1  Unnamed: 0   HLA  agg_label  fold  Peptide  wild_type  \\\n",
       "len                                                                        \n",
       "8              37          37    37         37    37       37         37   \n",
       "9            1322        1322  1322       1322  1322     1322       1322   \n",
       "10           1242        1242  1242       1242  1242     1242       1242   \n",
       "11            390         390   390        390   390      390        390   \n",
       "12              1           1     1          1     1        1          1   \n",
       "\n",
       "     icore_mut  core_mut  EL_rank_mut  ...  VHSE7  VHSE8  seq_id  \\\n",
       "len                                    ...                         \n",
       "8           37        37           37  ...     37     37      37   \n",
       "9         1322      1322         1322  ...   1322   1322    1322   \n",
       "10        1242      1242         1242  ...   1242   1242    1242   \n",
       "11         390       390          390  ...    390    390     390   \n",
       "12           1         1            1  ...      1      1       1   \n",
       "\n",
       "     core_wt_aligned  EL_rank_wt_aligned  Total_Peptide_TPM  \\\n",
       "len                                                           \n",
       "8                 37                  37                 37   \n",
       "9               1322                1322               1322   \n",
       "10              1242                1242               1242   \n",
       "11               390                 390                390   \n",
       "12                 1                   1                  1   \n",
       "\n",
       "     Total_Scaled_Peptide_TPM  Total_Gene_TPM  foreignness_score  ratio_rank  \n",
       "len                                                                           \n",
       "8                          37              37                 37          37  \n",
       "9                        1322            1322               1322        1322  \n",
       "10                       1242            1242               1242        1242  \n",
       "11                        390             390                390         390  \n",
       "12                          1               1                  1           1  \n",
       "\n",
       "[5 rows x 39 columns]"
      ]
     },
     "execution_count": 53,
     "metadata": {},
     "output_type": "execute_result"
    }
   ],
   "source": [
    "prime.groupby('len').count()"
   ]
  },
  {
   "cell_type": "code",
   "execution_count": 51,
   "id": "795b4e27-8f1d-4e6e-b465-733720847a56",
   "metadata": {
    "scrolled": true
   },
   "outputs": [
    {
     "data": {
      "text/plain": [
       "[<matplotlib.axis.XTick at 0x161a2ab60>,\n",
       " <matplotlib.axis.XTick at 0x161a2ab30>,\n",
       " <matplotlib.axis.XTick at 0x161c1a230>,\n",
       " <matplotlib.axis.XTick at 0x161c89870>,\n",
       " <matplotlib.axis.XTick at 0x161c8a320>]"
      ]
     },
     "execution_count": 51,
     "metadata": {},
     "output_type": "execute_result"
    },
    {
     "data": {
      "image/png": "[encoded data removed]",
      "text/plain": [
       "<Figure size 2160x1260 with 2 Axes>"
      ]
     },
     "metadata": {},
     "output_type": "display_data"
    }
   ],
   "source": [
    "from src.utils import \n",
    "f,a = plt.subplots(2, 1, figsize=(12,7), sharex=True)\n",
    "a = a.ravel()\n",
    "sns.histplot(cedar, x='len', ax=a[0])\n",
    "sns.histplot(prime, x='len', ax=a[1])\n",
    "a[1].set_xticks([8, 9, 10, 11, 12])"
   ]
  },
  {
   "cell_type": "code",
   "execution_count": 44,
   "id": "5207ba98-15d8-47c1-a38b-0a28420261a1",
   "metadata": {},
   "outputs": [
    {
     "data": {
      "text/plain": [
       "count    2988.000000\n",
       "mean        9.701807\n",
       "std         0.790662\n",
       "min         9.000000\n",
       "10%         9.000000\n",
       "25%         9.000000\n",
       "50%         9.000000\n",
       "75%        10.000000\n",
       "80%        11.000000\n",
       "90%        11.000000\n",
       "95%        11.000000\n",
       "99%        11.000000\n",
       "max        12.000000\n",
       "Name: Peptide, dtype: float64"
      ]
     },
     "execution_count": 44,
     "metadata": {},
     "output_type": "execute_result"
    }
   ],
   "source": [
    "cedar['Peptide'].apply(len).describe(percentiles=[0.1, 0.25, 0.5, 0.75, 0.8, 0.9, 0.95, 0.99])"
   ]
  },
  {
   "cell_type": "code",
   "execution_count": 43,
   "id": "8132ce39-a07e-4963-9337-cad06c81f9f4",
   "metadata": {},
   "outputs": [
    {
     "data": {
      "text/plain": [
       "count    2992.000000\n",
       "mean        9.664439\n",
       "std         0.714537\n",
       "min         8.000000\n",
       "25%         9.000000\n",
       "50%        10.000000\n",
       "75%        10.000000\n",
       "max        12.000000\n",
       "Name: Peptide, dtype: float64"
      ]
     },
     "execution_count": 43,
     "metadata": {},
     "output_type": "execute_result"
    }
   ],
   "source": [
    "prime['Peptide'].apply(len).describe()"
   ]
  },
  {
   "cell_type": "code",
   "execution_count": 40,
   "id": "0c5dc08d-bf0d-414b-b223-9685d6d4b438",
   "metadata": {},
   "outputs": [
    {
     "data": {
      "text/plain": [
       "count    2988.000000\n",
       "mean        9.701807\n",
       "std         0.790662\n",
       "min         9.000000\n",
       "25%         9.000000\n",
       "50%         9.000000\n",
       "75%        10.000000\n",
       "max        12.000000\n",
       "Name: len, dtype: float64"
      ]
     },
     "execution_count": 40,
     "metadata": {},
     "output_type": "execute_result"
    }
   ],
   "source": [
    "cedar['len'].describe()"
   ]
  },
  {
   "cell_type": "code",
   "execution_count": 35,
   "id": "53238d07-1da8-40d3-a47c-40b17a26ce6d",
   "metadata": {},
   "outputs": [
    {
     "data": {
      "text/plain": [
       "(0.006958562513318169, 0.013640526597994496)"
      ]
     },
     "execution_count": 35,
     "metadata": {},
     "output_type": "execute_result"
    }
   ],
   "source": [
    "v.mean(axis=0)[w], c.mean(axis=0)[w]"
   ]
  },
  {
   "cell_type": "code",
   "execution_count": 13,
   "id": "520c1b07-ae43-4ae0-823a-94ef47e65d64",
   "metadata": {
    "scrolled": true
   },
   "outputs": [
    {
     "data": {
      "text/plain": [
       "(array(['HLA-B0702', 'HLA-A0201', 'HLA-A1101', 'HLA-C1203', 'HLA-A0206',\n",
       "        'HLA-B0801', 'HLA-B4002', 'HLA-B4403', 'HLA-B4408', 'HLA-B4402',\n",
       "        'HLA-B4001', 'HLA-A6801', 'HLA-A2402', 'HLA-B3501', 'HLA-B1501',\n",
       "        'HLA-A0301', 'HLA-A1102', 'HLA-A0202', 'HLA-B2705', 'HLA-C0702',\n",
       "        'HLA-B5701', 'HLA-A3001', 'HLA-A6802', 'HLA-A0205', 'HLA-A0203',\n",
       "        'HLA-A0101', 'HLA-C1403', 'HLA-B5101', 'HLA-A2501', 'HLA-B1801',\n",
       "        'HLA-C0602', 'HLA-C0102', 'HLA-A2601', 'HLA-A3301', 'HLA-B3801',\n",
       "        'HLA-A3101', 'HLA-A2902', 'HLA-C0303', 'HLA-C0501', 'HLA-A0224',\n",
       "        'HLA-B5401', 'HLA-B3901', 'HLA-C0304', 'HLA-B5601', 'HLA-C0802',\n",
       "        'HLA-A0211', 'HLA-C1502', 'HLA-B3701', 'HLA-A0210', 'HLA-B4102',\n",
       "        'HLA-C1202', 'HLA-C0401', 'HLA-B1302', 'HLA-C0701', 'HLA-A3002',\n",
       "        'HLA-B3503', 'HLA-B5201', 'HLA-B3906', 'HLA-B4901', 'HLA-A6901',\n",
       "        'HLA-C1402', 'HLA-A0302', 'HLA-B3704'], dtype=object),\n",
       " 63)"
      ]
     },
     "execution_count": 13,
     "metadata": {},
     "output_type": "execute_result"
    }
   ],
   "source": [
    "cedar.HLA.unique(), len(cedar.HLA.unique())"
   ]
  },
  {
   "cell_type": "code",
   "execution_count": 14,
   "id": "a019062d-0d4b-4742-9d27-c110e2e03f65",
   "metadata": {},
   "outputs": [
    {
     "data": {
      "text/plain": [
       "(array(['HLA-B0702', 'HLA-A1101', 'HLA-A0301', 'HLA-B1501', 'HLA-A6801',\n",
       "        'HLA-C0303', 'HLA-A3101', 'HLA-B3501', 'HLA-B4403', 'HLA-A2402',\n",
       "        'HLA-A3301', 'HLA-C0602', 'HLA-A0201', 'HLA-A0206', 'HLA-A0101',\n",
       "        'HLA-A0211', 'HLA-C1502', 'HLA-A6901', 'HLA-A6802', 'HLA-C0702',\n",
       "        'HLA-B5101', 'HLA-A2601', 'HLA-C1403', 'HLA-B1801', 'HLA-B0801',\n",
       "        'HLA-C0701', 'HLA-B2705', 'HLA-C0102', 'HLA-A2501', 'HLA-B4402',\n",
       "        'HLA-B3801', 'HLA-C1203', 'HLA-B5601', 'HLA-C0304', 'HLA-B3901',\n",
       "        'HLA-C0802', 'HLA-A3001', 'HLA-B3701', 'HLA-C0501', 'HLA-B4102',\n",
       "        'HLA-A2902', 'HLA-C0401', 'HLA-B3503', 'HLA-B4001', 'HLA-B3906',\n",
       "        'HLA-B4901', 'HLA-B2702', 'HLA-B5701'], dtype=object),\n",
       " 48)"
      ]
     },
     "execution_count": 14,
     "metadata": {},
     "output_type": "execute_result"
    }
   ],
   "source": [
    "prime.HLA.unique(), len(prime.HLA.unique())"
   ]
  },
  {
   "cell_type": "code",
   "execution_count": 17,
   "id": "1f0e9d7f-2b7c-48a8-9924-5ed2ef576191",
   "metadata": {},
   "outputs": [
    {
     "data": {
      "text/plain": [
       "(array(['HLA-B0702', 'HLA-A1101', 'HLA-A0301', 'HLA-B1501', 'HLA-A6801',\n",
       "        'HLA-C0303', 'HLA-A3101', 'HLA-B3501', 'HLA-B4403', 'HLA-A2402',\n",
       "        'HLA-A3301', 'HLA-C0602', 'HLA-A0201', 'HLA-A0206', 'HLA-A0101',\n",
       "        'HLA-A0211', 'HLA-C1502', 'HLA-A6901', 'HLA-C0702', 'HLA-B5101',\n",
       "        'HLA-A2601', 'HLA-C1403', 'HLA-B1801', 'HLA-B0801', 'HLA-C0701',\n",
       "        'HLA-B2705', 'HLA-A2501', 'HLA-B4402', 'HLA-B3801', 'HLA-B3901',\n",
       "        'HLA-C0802', 'HLA-C0501', 'HLA-A3001', 'HLA-C0401', 'HLA-B4001',\n",
       "        'HLA-C0304', 'HLA-B2702', 'HLA-A6802'], dtype=object),\n",
       " 38)"
      ]
     },
     "execution_count": 17,
     "metadata": {},
     "output_type": "execute_result"
    }
   ],
   "source": [
    "prime.HLA.unique(), len(prime.HLA.unique())"
   ]
  },
  {
   "cell_type": "code",
   "execution_count": 21,
   "id": "a88673d5-3b24-4063-ac99-5600ff52ea2e",
   "metadata": {},
   "outputs": [],
   "source": [
    "cp_common = [x for x in prime.HLA.unique() if x in cedar.HLA.unique()]\n",
    "cpf_common = [x for x in prime_filt.HLA.unique() if x in cedar.HLA.unique()]"
   ]
  },
  {
   "cell_type": "code",
   "execution_count": 22,
   "id": "f2fc85f9-fff8-46f4-aa96-9f89d1de7958",
   "metadata": {},
   "outputs": [
    {
     "data": {
      "text/plain": [
       "(47, 37)"
      ]
     },
     "execution_count": 22,
     "metadata": {},
     "output_type": "execute_result"
    }
   ],
   "source": [
    "len(cp_common), len(cpf"
   ]
  },
  {
   "cell_type": "code",
   "execution_count": 9,
   "id": "a4be9641-1860-465a-a00e-07bbdb75d8fd",
   "metadata": {},
   "outputs": [
    {
     "data": {
      "text/plain": [
       "count    754.000000\n",
       "mean      20.018568\n",
       "std        0.161911\n",
       "min       20.000000\n",
       "25%       20.000000\n",
       "50%       20.000000\n",
       "75%       20.000000\n",
       "max       22.000000\n",
       "Name: Peptide, dtype: float64"
      ]
     },
     "execution_count": 9,
     "metadata": {},
     "output_type": "execute_result"
    }
   ],
   "source": [
    "df.Peptide.apply(len).describe()"
   ]
  }
 ],
 "metadata": {
  "kernelspec": {
   "display_name": "Python [conda env:phd] *",
   "language": "python",
   "name": "conda-env-phd-py"
  },
  "language_info": {
   "codemirror_mode": {
    "name": "ipython",
    "version": 3
   },
   "file_extension": ".py",
   "mimetype": "text/x-python",
   "name": "python",
   "nbconvert_exporter": "python",
   "pygments_lexer": "ipython3",
   "version": "3.10.12"
  }
 },
 "nbformat": 4,
 "nbformat_minor": 5
}

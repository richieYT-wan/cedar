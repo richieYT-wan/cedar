{
 "cells": [
  {
   "cell_type": "code",
   "execution_count": 1,
   "id": "616ea5ef-e7e4-48e1-b889-a874c9cdceb4",
   "metadata": {},
   "outputs": [
    {
     "name": "stdout",
     "output_type": "stream",
     "text": [
      "No GPU available, using the CPU instead.\n"
     ]
    },
    {
     "data": {
      "image/png": "[encoded data removed]",
      "text/plain": [
       "<Figure size 1x1 with 1 Axes>"
      ]
     },
     "metadata": {},
     "output_type": "display_data"
    }
   ],
   "source": [
    "%load_ext autoreload\n",
    "%autoreload 2\n",
    "import os, sys\n",
    "module_path = os.path.abspath(os.path.join('..'))\n",
    "if module_path not in sys.path:\n",
    "    sys.path.append(module_path)\n",
    "\n",
    "import pandas as pd\n",
    "import numpy as np\n",
    "import sklearn\n",
    "import matplotlib.pyplot as plt\n",
    "import matplotlib as mpl\n",
    "import seaborn as sns\n",
    "f,a = plt.subplots(1,1,figsize=(1e-2, 1e-2))\n",
    "mpl.rcParams['figure.dpi'] = 180\n",
    "sns.set_style('darkgrid')\n",
    "# pd.set_option(\"display.max_columns\",999)\n",
    "# pd.set_option(\"display.max_rows\",100)\n",
    "\n",
    "import warnings\n",
    "warnings.filterwarnings(\"ignore\")\n",
    "\n",
    "import src.models\n",
    "from tqdm.auto import tqdm\n",
    "import torch\n",
    "import torch.nn as nn\n",
    "import torch.functional as F\n",
    "from torch.utils.data import DataLoader, TensorDataset\n",
    "from torch import optim\n",
    "from datetime import datetime as dt\n",
    "from src.utils import mkdirs, convert_path, pkl_dump, pkl_load, display_side\n",
    "from src.data_processing import encode_batch_weighted, onehot_batch_decode, onehot_decode, INT_TO_CHAR, HLAS, AA_KEYS\n",
    "from src.data_processing import get_tensor_dataset, encode_batch, BL62_VALUES, BL62FREQ_VALUES, get_array_dataset\n",
    "from sklearn.model_selection import train_test_split, StratifiedShuffleSplit\n",
    "from src.metrics import get_metrics, plot_roc_auc_fold, get_mean_roc_curve, get_pred_df, get_mean_pr_curve\n",
    "from src.metrics import get_nested_feature_importance, plot_feature_importance\n",
    "from src.train_eval import kcv_tune_sklearn, evaluate_trained_models_sklearn, nested_kcv_train_sklearn\n",
    "from src.partition_tools import pipeline_stratified_kfold\n",
    "from src.utils import pkl_load, pkl_dump\n",
    "\n",
    "from scipy.stats import ttest_ind, mannwhitneyu, wilcoxon\n",
    "from sklearn.ensemble import RandomForestClassifier\n",
    "from sklearn.linear_model import LogisticRegression\n",
    "from xgboost import XGBClassifier\n",
    "\n",
    "PAL = sns.color_palette('hsv', n_colors=13)\n",
    "HSV = [PAL[-4], PAL[-1], PAL[0], PAL [4]]\n",
    "mpl.rcParams['figure.dpi'] = 180\n",
    "\n",
    "RESDIR='../output/220906_analysis/'\n",
    "BOOTDIR='../output/bootstrapping/'\n",
    "\n",
    "if torch.cuda.is_available():\n",
    "    print('There are %d GPU(s) available.' % torch.cuda.device_count())\n",
    "    print('We will use the GPU:', torch.cuda.get_device_name())\n",
    "    device=\"cuda:0\"\n",
    "else:\n",
    "    print('No GPU available, using the CPU instead.')\n",
    "    device='cpu'\n",
    "    "
   ]
  },
  {
   "cell_type": "code",
   "execution_count": 2,
   "id": "3b3ef49a-be80-433c-a6ec-12a6196e57ed",
   "metadata": {
    "tags": []
   },
   "outputs": [
    {
     "data": {
      "image/png": "[encoded data removed]",
      "text/plain": [
       "<Figure size 1.8e-05x1.8e-05 with 1 Axes>"
      ]
     },
     "metadata": {},
     "output_type": "display_data"
    }
   ],
   "source": [
    "mpl.rcParams['figure.dpi'] = 180\n",
    "sns.set_palette(HSV)\n",
    "f,a = plt.subplots(1,1,figsize=(1e-7,1e-7))"
   ]
  },
  {
   "cell_type": "markdown",
   "id": "c7b00fd1-db0b-4059-8ea0-82a576649999",
   "metadata": {
    "tags": []
   },
   "source": [
    "# init"
   ]
  },
  {
   "cell_type": "markdown",
   "id": "c0708ce5-a152-46d1-bc4b-5a08e8c1d59e",
   "metadata": {
    "tags": []
   },
   "source": [
    "## reloading datasets"
   ]
  },
  {
   "cell_type": "code",
   "execution_count": 3,
   "id": "48a4547e-d2db-45f2-b476-7d95d56e9ed4",
   "metadata": {},
   "outputs": [],
   "source": [
    "cedar = pd.read_csv('../data/partitioned_traindata/cedar_10fold.csv')\n",
    "cedar['trainset']='cedar'\n",
    "\n",
    "cedar_viral_old = pd.read_csv('../data/partitioned_traindata/cedar_viral_10fold.csv')\n",
    "cedar_viral_old['trainset']='cedar_virus_old'\n",
    "\n",
    "cedar_viral_more = pd.read_csv('../data/partitioned_traindata/new_cedar_viral_5fold.csv')\n",
    "cedar_viral_more['trainset']='cedar_virus_new'\n",
    "# USE PRIME FOR BASELINE VERIFICATION, PRIME_FOLD FOR ACTUAL TRAINING\n",
    "prime_fold = pd.read_csv('../data/partitioned_traindata/prime_5fold.csv')\n",
    "prime_fold['trainset']='prime'\n",
    "\n",
    "prime = pd.read_excel('../data/partitioned_traindata/PRIME_dataset.xlsx', comment = '#', skiprows=2)\n",
    "prime['len'] = prime['Mutant'].apply(len)\n",
    "prime['HLA'] = prime['Allele'].apply(lambda x: 'HLA-'+x)\n",
    "\n",
    "viral_only = pd.read_csv('../data/partitioned_traindata/viral_only_5fold.csv')\n",
    "viral_only['trainset']='virus'\n",
    "\n",
    "cedar_hp_uni = pd.read_csv('../data/partitioned_traindata/cedar_hp_mixed_rank120_10fold.csv')\n",
    "cedar_hp_uni['trainset']='cedar_hp_rank_uni'\n",
    "\n",
    "cedar_hp_low = pd.read_csv('../data/partitioned_traindata/cedar_hp_mixed_10fold.csv')\n",
    "cedar_hp_low['trainset']='cedar_hp_rank_low'\n",
    "\n",
    "cedar_hp_fold = pd.read_csv('../data/partitioned_traindata/cedar_hp_fold_balanced.csv')\n",
    "cedar_hp_fold['trainset'] = 'cedar_balanced'\n",
    "\n",
    "cedar_mut_fold = pd.read_csv('../data/partitioned_traindata/cedar_subst_mut_10fold.csv')"
   ]
  },
  {
   "cell_type": "markdown",
   "id": "4108025d-0978-44a8-9577-302922b38923",
   "metadata": {},
   "source": [
    "# newdump load and parse"
   ]
  },
  {
   "cell_type": "code",
   "execution_count": 5,
   "id": "61debe04-7fa4-4812-922c-b72c492c7a98",
   "metadata": {},
   "outputs": [],
   "source": [
    "from src.data_processing import get_aa_properties, AA_KEYS\n",
    "from src.mutation_tools import get_anchor, get_anchor_mutation, get_binder_type, get_blsm_mutation_score, get_mutation_pos, get_mutation_score, get_mutation_type"
   ]
  },
  {
   "cell_type": "code",
   "execution_count": 14,
   "id": "73c51899-ca62-4d9a-b6b8-5f259b19363c",
   "metadata": {},
   "outputs": [],
   "source": [
    "cedar_short = pd.read_excel('../data/raw/neo_OCT2022_full_res_assays.xlsx')\n",
    "cedar_epi = pd.read_excel('../data/raw/neo_OCT2022_full_res_epitopes.xlsx')\n",
    "old_epi = pd.read_excel('../data/raw/neo_JUN2022_full_res.xlsx', sheet_name='epitopes')"
   ]
  },
  {
   "cell_type": "code",
   "execution_count": 15,
   "id": "81a96ca2-6da0-42ae-b25e-8806cf354b5c",
   "metadata": {},
   "outputs": [
    {
     "data": {
      "text/plain": [
       "(3984, 3928)"
      ]
     },
     "execution_count": 15,
     "metadata": {},
     "output_type": "execute_result"
    }
   ],
   "source": [
    "len(cedar_epi), len(old_epi)"
   ]
  },
  {
   "cell_type": "code",
   "execution_count": 16,
   "id": "e47d7ec7-d0ab-42a5-9342-36228b9b909a",
   "metadata": {},
   "outputs": [
    {
     "name": "stdout",
     "output_type": "stream",
     "text": [
      "start 3928\n",
      "1 False\n",
      "2 False\n",
      "After merge 3858\n",
      "3 False\n",
      "After len check 3582\n",
      "4 False\n",
      "After XYZ 3582\n",
      "N HLAs to keep 60\n",
      "5 False\n",
      "After HLA positive 3389\n",
      "6 False\n",
      "After class II 3389\n"
     ]
    }
   ],
   "source": [
    "from src.data_processing import AA_KEYS, BL62_VALUES, BL62, BL62FREQ_VALUES\n",
    "\n",
    "# Reading epi\n",
    "cedar_epi = pd.read_excel('../data/raw/neo_JUN2022_full_res.xlsx', sheet_name='epitopes')\n",
    "print('start', len(cedar_epi))\n",
    "# Adding the wild-type peptide & Merging the related info with the cedar_epi dump\n",
    "rel_cols = ['Epitope_Description', 'MHC_Allele Name', 'Related Object_Description', 'Related Object_Starting Position', 'Related Object_Ending Position']#\n",
    "related = cedar_short.sort_values('Epitope_Description').drop_duplicates(['Epitope_Description', 'MHC_Allele Name'])[rel_cols]\n",
    "print(1, len(cedar_epi.query('Epitope_Description==\"CLAVEEVSL\"'))==0)\n",
    "cedar_epi = cedar_epi.merge(related, left_on=['Epitope_Description', 'MHC_Allele Name'], right_on = ['Epitope_Description', 'MHC_Allele Name'])\n",
    "print(2, len(cedar_epi.query('Epitope_Description==\"CLAVEEVSL\"'))==0)\n",
    "print('After merge', len(cedar_epi))\n",
    "\n",
    "# Get the length of the peptide & Querying only length 8 to 12 (Only lens for which we have our motifs)\n",
    "cedar_epi['len'] = cedar_epi['Epitope_Description'].apply(len)\n",
    "cedar_epi = cedar_epi.query('len>=8 and len <=12')\n",
    "print(3, len(cedar_epi.query('Epitope_Description==\"CLAVEEVSL\"'))==0)\n",
    "print('After len check', len(cedar_epi))\n",
    "\n",
    "# Filter out XYZ- etc characters in peptide\n",
    "cedar_epi.drop(index=cedar_epi.loc[cedar_epi['Epitope_Description'].apply(lambda x: any([z for z in x if z not in AA_KEYS]))].index, inplace=True)\n",
    "print(4, len(cedar_epi.query('Epitope_Description==\"CLAVEEVSL\"'))==0)\n",
    "print('After XYZ', len(cedar_epi))\n",
    "\n",
    "# Keeping on HLA alleles where there is at least one positive Peptide (i.e. discard Alleles with only negatives)\n",
    "hlas_to_keep = [x for x in cedar_epi.query('label==\"Positive\"')['MHC_Allele Name'].unique() if 'D' not in x]\n",
    "print('N HLAs to keep', len(hlas_to_keep))\n",
    "cedar_epi = cedar_epi.query('`MHC_Allele Name` in @hlas_to_keep')\n",
    "print(5, len(cedar_epi.query('Epitope_Description==\"CLAVEEVSL\"'))==0)\n",
    "\n",
    "print('After HLA positive', len(cedar_epi))\n",
    "\n",
    "# Keeping only MHC Class I\n",
    "cedar_epi = cedar_epi.query('not `MHC_Allele Name`.str.contains(\"D\")', engine='python')\n",
    "print(6, len(cedar_epi.query('Epitope_Description==\"CLAVEEVSL\"'))==0)\n",
    "print('After class II', len(cedar_epi))\n",
    "\n",
    "# Adding some new columns\n",
    "cedar_epi['total_count'] = cedar_epi['responses'].apply(lambda x: len(x.split(',')))\n",
    "cedar_epi['percentage_pos'] = (cedar_epi['responses'].apply(lambda x: sum([1 for x in x.split(',') if 'Positive' in x]))/cedar_epi['total_count'])\n",
    "cedar_epi['agg_label']=cedar_epi['label'].apply(lambda x: 1 if x=='Positive' else 0)\n",
    "\n",
    "# Renaming columns \n",
    "cedar_epi.rename(columns = {'Epitope_Description': 'Peptide',\n",
    "                            'MHC_Allele Name': 'HLA',\n",
    "                             'Related Object_Description': 'wild_type'}, inplace=True)\n",
    "# replacing HLA to simple form\n",
    "cedar_epi['HLA_full'] = cedar_epi['HLA']\n",
    "cedar_epi['HLA'] = cedar_epi['HLA_full'].apply(lambda x: x.replace('*','').replace(':',''))"
   ]
  },
  {
   "cell_type": "code",
   "execution_count": 6,
   "id": "77c2fe00-f4ab-44dd-ac9c-ba938ae38b38",
   "metadata": {},
   "outputs": [
    {
     "data": {
      "text/html": [
       "<div>\n",
       "<style scoped>\n",
       "    .dataframe tbody tr th:only-of-type {\n",
       "        vertical-align: middle;\n",
       "    }\n",
       "\n",
       "    .dataframe tbody tr th {\n",
       "        vertical-align: top;\n",
       "    }\n",
       "\n",
       "    .dataframe thead th {\n",
       "        text-align: right;\n",
       "    }\n",
       "</style>\n",
       "<table border=\"1\" class=\"dataframe\">\n",
       "  <thead>\n",
       "    <tr style=\"text-align: right;\">\n",
       "      <th></th>\n",
       "      <th>Epitope_Description</th>\n",
       "      <th>MHC_Allele Name</th>\n",
       "      <th>PMIDs</th>\n",
       "      <th>responses</th>\n",
       "      <th>label</th>\n",
       "    </tr>\n",
       "  </thead>\n",
       "  <tbody>\n",
       "    <tr>\n",
       "      <th>0</th>\n",
       "      <td>AAAAAAQQIQV</td>\n",
       "      <td>HLA-B*07:02</td>\n",
       "      <td>27198675</td>\n",
       "      <td>Negative</td>\n",
       "      <td>Negative</td>\n",
       "    </tr>\n",
       "    <tr>\n",
       "      <th>1</th>\n",
       "      <td>AAAAQQIQV</td>\n",
       "      <td>HLA-A*02:01</td>\n",
       "      <td>27198675</td>\n",
       "      <td>Negative</td>\n",
       "      <td>Negative</td>\n",
       "    </tr>\n",
       "    <tr>\n",
       "      <th>2</th>\n",
       "      <td>AAAAQQIQV</td>\n",
       "      <td>HLA-B*07:02</td>\n",
       "      <td>27198675</td>\n",
       "      <td>Negative</td>\n",
       "      <td>Negative</td>\n",
       "    </tr>\n",
       "    <tr>\n",
       "      <th>3</th>\n",
       "      <td>AAFIWIISM</td>\n",
       "      <td>HLA-B*35:01</td>\n",
       "      <td>27198675</td>\n",
       "      <td>Negative</td>\n",
       "      <td>Negative</td>\n",
       "    </tr>\n",
       "    <tr>\n",
       "      <th>4</th>\n",
       "      <td>AAHFTVLLY</td>\n",
       "      <td>HLA-A*11:01</td>\n",
       "      <td>31511069</td>\n",
       "      <td>Negative</td>\n",
       "      <td>Negative</td>\n",
       "    </tr>\n",
       "    <tr>\n",
       "      <th>...</th>\n",
       "      <td>...</td>\n",
       "      <td>...</td>\n",
       "      <td>...</td>\n",
       "      <td>...</td>\n",
       "      <td>...</td>\n",
       "    </tr>\n",
       "    <tr>\n",
       "      <th>3979</th>\n",
       "      <td>YYPGKKEPF</td>\n",
       "      <td>HLA-A*24:02</td>\n",
       "      <td>34270940,34270940</td>\n",
       "      <td>Negative,Negative</td>\n",
       "      <td>Negative</td>\n",
       "    </tr>\n",
       "    <tr>\n",
       "      <th>3980</th>\n",
       "      <td>YYPPSQIAQL</td>\n",
       "      <td>HLA-A*24:02</td>\n",
       "      <td>26048577</td>\n",
       "      <td>Positive_all</td>\n",
       "      <td>Positive</td>\n",
       "    </tr>\n",
       "    <tr>\n",
       "      <th>3981</th>\n",
       "      <td>YYSKNLNSF</td>\n",
       "      <td>HLA-A*24:02</td>\n",
       "      <td>28423700</td>\n",
       "      <td>Positive_all</td>\n",
       "      <td>Positive</td>\n",
       "    </tr>\n",
       "    <tr>\n",
       "      <th>3982</th>\n",
       "      <td>YYSKNLNSFF</td>\n",
       "      <td>HLA-A*24:02</td>\n",
       "      <td>28423700,28423700</td>\n",
       "      <td>Positive_all,Positive_all</td>\n",
       "      <td>Positive</td>\n",
       "    </tr>\n",
       "    <tr>\n",
       "      <th>3983</th>\n",
       "      <td>YYSPQAQTL</td>\n",
       "      <td>HLA-A*24:02</td>\n",
       "      <td>30880120</td>\n",
       "      <td>Negative</td>\n",
       "      <td>Negative</td>\n",
       "    </tr>\n",
       "  </tbody>\n",
       "</table>\n",
       "<p>3984 rows × 5 columns</p>\n",
       "</div>"
      ],
      "text/plain": [
       "     Epitope_Description MHC_Allele Name              PMIDs  \\\n",
       "0            AAAAAAQQIQV     HLA-B*07:02           27198675   \n",
       "1              AAAAQQIQV     HLA-A*02:01           27198675   \n",
       "2              AAAAQQIQV     HLA-B*07:02           27198675   \n",
       "3              AAFIWIISM     HLA-B*35:01           27198675   \n",
       "4              AAHFTVLLY     HLA-A*11:01           31511069   \n",
       "...                  ...             ...                ...   \n",
       "3979           YYPGKKEPF     HLA-A*24:02  34270940,34270940   \n",
       "3980          YYPPSQIAQL     HLA-A*24:02           26048577   \n",
       "3981           YYSKNLNSF     HLA-A*24:02           28423700   \n",
       "3982          YYSKNLNSFF     HLA-A*24:02  28423700,28423700   \n",
       "3983           YYSPQAQTL     HLA-A*24:02           30880120   \n",
       "\n",
       "                      responses     label  \n",
       "0                      Negative  Negative  \n",
       "1                      Negative  Negative  \n",
       "2                      Negative  Negative  \n",
       "3                      Negative  Negative  \n",
       "4                      Negative  Negative  \n",
       "...                         ...       ...  \n",
       "3979          Negative,Negative  Negative  \n",
       "3980               Positive_all  Positive  \n",
       "3981               Positive_all  Positive  \n",
       "3982  Positive_all,Positive_all  Positive  \n",
       "3983                   Negative  Negative  \n",
       "\n",
       "[3984 rows x 5 columns]"
      ]
     },
     "execution_count": 6,
     "metadata": {},
     "output_type": "execute_result"
    }
   ],
   "source": [
    "def get_true_wt(wt):\n",
    "    return wt==wt.upper() and all([x in AA_KEYS for x in wt])\n",
    "new_epi"
   ]
  }
 ],
 "metadata": {
  "kernelspec": {
   "display_name": "Python [conda env:phd] *",
   "language": "python",
   "name": "conda-env-phd-py"
  },
  "language_info": {
   "codemirror_mode": {
    "name": "ipython",
    "version": 3
   },
   "file_extension": ".py",
   "mimetype": "text/x-python",
   "name": "python",
   "nbconvert_exporter": "python",
   "pygments_lexer": "ipython3",
   "version": "3.10.4"
  }
 },
 "nbformat": 4,
 "nbformat_minor": 5
}

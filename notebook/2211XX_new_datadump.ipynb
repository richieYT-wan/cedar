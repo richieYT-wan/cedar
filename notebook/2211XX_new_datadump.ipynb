{
 "cells": [
  {
   "cell_type": "code",
   "execution_count": 1,
   "id": "616ea5ef-e7e4-48e1-b889-a874c9cdceb4",
   "metadata": {},
   "outputs": [
    {
     "name": "stdout",
     "output_type": "stream",
     "text": [
      "No GPU available, using the CPU instead.\n"
     ]
    },
    {
     "data": {
      "image/png": "[encoded data removed]",
      "text/plain": [
       "<Figure size 1x1 with 1 Axes>"
      ]
     },
     "metadata": {},
     "output_type": "display_data"
    }
   ],
   "source": [
    "%load_ext autoreload\n",
    "%autoreload 2\n",
    "import os, sys\n",
    "module_path = os.path.abspath(os.path.join('..'))\n",
    "if module_path not in sys.path:\n",
    "    sys.path.append(module_path)\n",
    "\n",
    "import pandas as pd\n",
    "import numpy as np\n",
    "import sklearn\n",
    "import matplotlib.pyplot as plt\n",
    "import matplotlib as mpl\n",
    "import seaborn as sns\n",
    "f,a = plt.subplots(1,1,figsize=(1e-2, 1e-2))\n",
    "mpl.rcParams['figure.dpi'] = 180\n",
    "sns.set_style('darkgrid')\n",
    "# pd.set_option(\"display.max_columns\",999)\n",
    "# pd.set_option(\"display.max_rows\",100)\n",
    "\n",
    "import warnings\n",
    "warnings.filterwarnings(\"ignore\")\n",
    "\n",
    "import src.models\n",
    "from tqdm.auto import tqdm\n",
    "import torch\n",
    "import torch.nn as nn\n",
    "import torch.functional as F\n",
    "from torch.utils.data import DataLoader, TensorDataset\n",
    "from torch import optim\n",
    "from datetime import datetime as dt\n",
    "from src.utils import mkdirs, convert_path, pkl_dump, pkl_load, display_side\n",
    "from src.data_processing import encode_batch_weighted, onehot_batch_decode, onehot_decode, INT_TO_CHAR, HLAS, AA_KEYS\n",
    "from src.data_processing import get_tensor_dataset, encode_batch, BL62_VALUES, BL62FREQ_VALUES, get_dataset\n",
    "from sklearn.model_selection import train_test_split, StratifiedShuffleSplit\n",
    "from src.metrics import get_metrics, plot_roc_auc_fold, get_mean_roc_curve, get_pred_df, get_mean_pr_curve\n",
    "from src.metrics import get_nested_feature_importance, plot_feature_importance\n",
    "from src.sklearn_train_eval import kcv_tune_sklearn, evaluate_trained_models_sklearn, nested_kcv_train_sklearn\n",
    "from src.partition_tools import pipeline_stratified_kfold\n",
    "from src.utils import pkl_load, pkl_dump\n",
    "\n",
    "from scipy.stats import ttest_ind, mannwhitneyu, wilcoxon\n",
    "from sklearn.ensemble import RandomForestClassifier\n",
    "from sklearn.linear_model import LogisticRegression\n",
    "from xgboost import XGBClassifier\n",
    "\n",
    "PAL = sns.color_palette('hsv', n_colors=13)\n",
    "HSV = [PAL[-4], PAL[-1], PAL[0], PAL [4]]\n",
    "mpl.rcParams['figure.dpi'] = 180\n",
    "\n",
    "RESDIR='../output/220906_analysis/'\n",
    "BOOTDIR='../output/bootstrapping/'\n",
    "\n",
    "if torch.cuda.is_available():\n",
    "    print('There are %d GPU(s) available.' % torch.cuda.device_count())\n",
    "    print('We will use the GPU:', torch.cuda.get_device_name())\n",
    "    device=\"cuda:0\"\n",
    "else:\n",
    "    print('No GPU available, using the CPU instead.')\n",
    "    device='cpu'\n",
    "    "
   ]
  },
  {
   "cell_type": "code",
   "execution_count": 2,
   "id": "3b3ef49a-be80-433c-a6ec-12a6196e57ed",
   "metadata": {
    "tags": []
   },
   "outputs": [
    {
     "data": {
      "image/png": "[encoded data removed]",
      "text/plain": [
       "<Figure size 1.8e-05x1.8e-05 with 1 Axes>"
      ]
     },
     "metadata": {},
     "output_type": "display_data"
    }
   ],
   "source": [
    "mpl.rcParams['figure.dpi'] = 180\n",
    "sns.set_palette(HSV)\n",
    "f,a = plt.subplots(1,1,figsize=(1e-7,1e-7))"
   ]
  },
  {
   "cell_type": "markdown",
   "id": "144cc058-a6ce-40f7-a8d8-6b27399aeafd",
   "metadata": {
    "jp-MarkdownHeadingCollapsed": true,
    "tags": []
   },
   "source": [
    "# Old dump check"
   ]
  },
  {
   "cell_type": "code",
   "execution_count": 41,
   "id": "73c51899-ca62-4d9a-b6b8-5f259b19363c",
   "metadata": {},
   "outputs": [],
   "source": [
    "# cedar_short = pd.read_excel('../data/raw/neo_OCT2022_full_res_assays.xlsx')\n",
    "# cedar_epi = pd.read_excel('../data/raw/neo_OCT2022_full_res_epitopes.xlsx')\n",
    "cedar_short = pd.read_excel('../data/raw/neo_JUN2022_full_res.xlsx', sheet_name='short')\n",
    "cedar_epi = pd.read_excel('../data/raw/neo_JUN2022_full_res.xlsx', sheet_name='epitopes')"
   ]
  },
  {
   "cell_type": "code",
   "execution_count": 42,
   "id": "e47d7ec7-d0ab-42a5-9342-36228b9b909a",
   "metadata": {},
   "outputs": [
    {
     "name": "stdout",
     "output_type": "stream",
     "text": [
      "start 3928\n",
      "1 False\n",
      "2 False\n",
      "After merge 3928\n",
      "3 False\n",
      "After len check 3643\n",
      "4 False\n",
      "After XYZ 3643\n",
      "N HLAs to keep 63\n",
      "5 False\n",
      "After HLA positive 3480\n",
      "6 False\n",
      "After class II 3480\n"
     ]
    }
   ],
   "source": [
    "from src.data_processing import AA_KEYS, BL62_VALUES, BL62, BL62FREQ_VALUES\n",
    "\n",
    "# Reading epi\n",
    "cedar_epi = pd.read_excel('../data/raw/neo_JUN2022_full_res.xlsx', sheet_name='epitopes')\n",
    "print('start', len(cedar_epi))\n",
    "# Adding the wild-type peptide & Merging the related info with the cedar_epi dump\n",
    "rel_cols = ['Epitope_Description', 'MHC_Allele Name', 'Related Object_Description', 'Related Object_Starting Position', 'Related Object_Ending Position']#\n",
    "related = cedar_short.sort_values('Epitope_Description').drop_duplicates(['Epitope_Description', 'MHC_Allele Name'])[rel_cols]\n",
    "print(1, len(cedar_epi.query('Epitope_Description==\"CLAVEEVSL\"'))==0)\n",
    "cedar_epi = cedar_epi.merge(related, left_on=['Epitope_Description', 'MHC_Allele Name'], right_on = ['Epitope_Description', 'MHC_Allele Name'])\n",
    "print(2, len(cedar_epi.query('Epitope_Description==\"CLAVEEVSL\"'))==0)\n",
    "print('After merge', len(cedar_epi))\n",
    "\n",
    "# Get the length of the peptide & Querying only length 8 to 12 (Only lens for which we have our motifs)\n",
    "cedar_epi['len'] = cedar_epi['Epitope_Description'].apply(len)\n",
    "cedar_epi = cedar_epi.query('len>=8 and len <=12')\n",
    "print(3, len(cedar_epi.query('Epitope_Description==\"CLAVEEVSL\"'))==0)\n",
    "print('After len check', len(cedar_epi))\n",
    "\n",
    "# Filter out XYZ- etc characters in peptide\n",
    "cedar_epi.drop(index=cedar_epi.loc[cedar_epi['Epitope_Description'].apply(lambda x: any([z for z in x if z not in AA_KEYS]))].index, inplace=True)\n",
    "print(4, len(cedar_epi.query('Epitope_Description==\"CLAVEEVSL\"'))==0)\n",
    "print('After XYZ', len(cedar_epi))\n",
    "\n",
    "# Keeping on HLA alleles where there is at least one positive Peptide (i.e. discard Alleles with only negatives)\n",
    "hlas_to_keep = [x for x in cedar_epi.query('label==\"Positive\"')['MHC_Allele Name'].unique() if 'D' not in x]\n",
    "print('N HLAs to keep', len(hlas_to_keep))\n",
    "cedar_epi = cedar_epi.query('`MHC_Allele Name` in @hlas_to_keep')\n",
    "print(5, len(cedar_epi.query('Epitope_Description==\"CLAVEEVSL\"'))==0)\n",
    "\n",
    "print('After HLA positive', len(cedar_epi))\n",
    "\n",
    "# Keeping only MHC Class I\n",
    "cedar_epi = cedar_epi.query('not `MHC_Allele Name`.str.contains(\"D\")', engine='python')\n",
    "print(6, len(cedar_epi.query('Epitope_Description==\"CLAVEEVSL\"'))==0)\n",
    "print('After class II', len(cedar_epi))\n",
    "\n",
    "# Adding some new columns\n",
    "cedar_epi['total_count'] = cedar_epi['responses'].apply(lambda x: len(x.split(',')))\n",
    "cedar_epi['percentage_pos'] = (cedar_epi['responses'].apply(lambda x: sum([1 for x in x.split(',') if 'Positive' in x]))/cedar_epi['total_count'])\n",
    "cedar_epi['agg_label']=cedar_epi['label'].apply(lambda x: 1 if x=='Positive' else 0)\n",
    "\n",
    "# Renaming columns \n",
    "cedar_epi.rename(columns = {'Epitope_Description': 'Peptide',\n",
    "                            'MHC_Allele Name': 'HLA',\n",
    "                             'Related Object_Description': 'wild_type'}, inplace=True)\n",
    "# replacing HLA to simple form\n",
    "cedar_epi['HLA_full'] = cedar_epi['HLA']\n",
    "cedar_epi['HLA'] = cedar_epi['HLA_full'].apply(lambda x: x.replace('*','').replace(':',''))"
   ]
  },
  {
   "cell_type": "code",
   "execution_count": 43,
   "id": "e31f4664-da57-48d7-a149-777b96c6ac33",
   "metadata": {},
   "outputs": [
    {
     "data": {
      "text/plain": [
       "(3466, 3346)"
      ]
     },
     "execution_count": 43,
     "metadata": {},
     "output_type": "execute_result"
    }
   ],
   "source": [
    "cedar_epi['wt_true']=cedar_epi['wild_type'].apply(check_wt)\n",
    "cedar_epi['len'] = cedar_epi['Peptide'].apply(len)\n",
    "cedar_epi['len_wt'] = cedar_epi['wild_type'].apply(len)\n",
    "len(cedar_epi.query('wt_true')), len(cedar_epi.query('wt_true and len==len_wt'))"
   ]
  },
  {
   "cell_type": "markdown",
   "id": "4108025d-0978-44a8-9577-302922b38923",
   "metadata": {},
   "source": [
    "# newdump load and parse"
   ]
  },
  {
   "cell_type": "code",
   "execution_count": 86,
   "id": "f22f0481-a573-43a8-b3e6-027892c2ce2e",
   "metadata": {},
   "outputs": [],
   "source": [
    "new_assays = pd.read_excel('../data/raw/neo_OCT2022_full_res_assays.xlsx')\n",
    "new_epi = pd.read_excel('../data/raw/neo_OCT2022_full_res_epitopes.xlsx')"
   ]
  },
  {
   "cell_type": "code",
   "execution_count": 87,
   "id": "b4a0c0b3-1f10-45f1-a270-dfaa0900b15e",
   "metadata": {},
   "outputs": [
    {
     "name": "stdout",
     "output_type": "stream",
     "text": [
      "start 3984\n",
      "After merge 3984\n",
      "After len check 3692\n",
      "After XYZ 3692\n",
      "N HLAs to keep 65\n",
      "After HLA positive 3570\n",
      "After class II 3570\n"
     ]
    }
   ],
   "source": [
    "from src.data_processing import AA_KEYS, BL62_VALUES, BL62, BL62FREQ_VALUES\n",
    "\n",
    "# Reading epi\n",
    "print('start', len(new_epi))\n",
    "# Adding the wild-type peptide & Merging the related info with the new_epi dump\n",
    "rel_cols = ['Epitope_Description', 'MHC_Allele Name', 'Related Object_Description', 'Related Object_Starting Position', 'Related Object_Ending Position']#\n",
    "related = new_assays.sort_values('Epitope_Description').drop_duplicates(['Epitope_Description', 'MHC_Allele Name'])[rel_cols]\n",
    "new_epi = new_epi.merge(related, left_on=['Epitope_Description', 'MHC_Allele Name'], right_on = ['Epitope_Description', 'MHC_Allele Name'])\n",
    "print('After merge', len(new_epi))\n",
    "\n",
    "# Get the length of the peptide & Querying only length 8 to 12 (Only lens for which we have our motifs)\n",
    "new_epi['len'] = new_epi['Epitope_Description'].apply(len)\n",
    "new_epi = new_epi.query('len>=8 and len <=12')\n",
    "print('After len check', len(new_epi))\n",
    "\n",
    "# Filter out XYZ- etc characters in peptide\n",
    "new_epi.drop(index=new_epi.loc[new_epi['Epitope_Description'].apply(lambda x: any([z for z in x if z not in AA_KEYS]))].index, inplace=True)\n",
    "print('After XYZ', len(new_epi))\n",
    "\n",
    "# Keeping on HLA alleles where there is at least one positive Peptide (i.e. discard Alleles with only negatives)\n",
    "hlas_to_keep = [x for x in new_epi.query('label==\"Positive\"')['MHC_Allele Name'].unique() if 'D' not in x]\n",
    "print('N HLAs to keep', len(hlas_to_keep))\n",
    "new_epi = new_epi.query('`MHC_Allele Name` in @hlas_to_keep')\n",
    "\n",
    "print('After HLA positive', len(new_epi))\n",
    "\n",
    "# Keeping only MHC Class I\n",
    "new_epi = new_epi.query('not `MHC_Allele Name`.str.contains(\"D\")', engine='python')\n",
    "print('After class II', len(new_epi))\n",
    "\n",
    "# Adding some new columns\n",
    "new_epi['total_count'] = new_epi['responses'].apply(lambda x: len(x.split(',')))\n",
    "new_epi['percentage_pos'] = (new_epi['responses'].apply(lambda x: sum([1 for x in x.split(',') if 'Positive' in x]))/new_epi['total_count'])\n",
    "new_epi['agg_label']=new_epi['label'].apply(lambda x: 1 if x=='Positive' else 0)\n",
    "\n",
    "# Renaming columns \n",
    "new_epi.rename(columns = {'Epitope_Description': 'Peptide',\n",
    "                            'MHC_Allele Name': 'HLA',\n",
    "                             'Related Object_Description': 'wild_type'}, inplace=True)\n",
    "# replacing HLA to simple form\n",
    "new_epi['HLA_full'] = new_epi['HLA']\n",
    "new_epi['HLA'] = new_epi['HLA_full'].apply(lambda x: x.replace('*','').replace(':',''))"
   ]
  },
  {
   "cell_type": "markdown",
   "id": "17dc0751-b5da-4e43-bc46-f464e5445edb",
   "metadata": {},
   "source": [
    "## New HLAS to score "
   ]
  },
  {
   "cell_type": "code",
   "execution_count": 102,
   "id": "0b22b8a0-c5cf-4bf9-9dbf-b35990f9fb2a",
   "metadata": {},
   "outputs": [],
   "source": [
    "ibel = pd.read_csv('../data/mutant/221111_ibel_neoepi_scored_merged.csv')\n",
    "ibel_raw = pd.read_csv('../data/raw/ibel_neoepitopes_cio_mhc_25aa.csv', sep='\\t', comment='#')"
   ]
  },
  {
   "cell_type": "code",
   "execution_count": 105,
   "id": "a32419a0-18e2-420b-8c0e-754bfeab2579",
   "metadata": {},
   "outputs": [
    {
     "data": {
      "text/plain": [
       "Index(['n', 'Patient', 'Mut_peptide', 'Norm_peptide', 'Target',\n",
       "       'ELISPOT_Log_Max_Min', 'Promiscuity', 'HLA_allele', 'Allele_Frequency',\n",
       "       'Mismatches', 'Chr', 'Genomic_Position', 'Genomic_Position_vcf', 'Ref',\n",
       "       'Alt', 'Mutation_Consequence', 'Protein_position', 'Gene_Symbol',\n",
       "       'Gene_ID', 'Transcript_ID', 'Proteome_Peptide_Match',\n",
       "       'Expression_Level', 'Expression_score', 'Mut_Of', 'Mut_Gp', 'Mut_Gl',\n",
       "       'Mut_Ip', 'Mut_Il', 'Mut_Icore', 'Mut_Rnk_EL', 'Norm_Core', 'Norm_Of',\n",
       "       'Norm_Gp', 'Norm_Gl', 'Norm_Ip', 'Norm_Il', 'Norm_Icore', 'Norm_Rnk_EL',\n",
       "       'Mut_protein_sequence', 'Norm_protein_sequence'],\n",
       "      dtype='object')"
      ]
     },
     "execution_count": 105,
     "metadata": {},
     "output_type": "execute_result"
    }
   ],
   "source": [
    "ibel_raw.columns"
   ]
  },
  {
   "cell_type": "code",
   "execution_count": 107,
   "id": "62343c9c-8e2a-49aa-bad0-c37fce960ae1",
   "metadata": {},
   "outputs": [],
   "source": [
    "ibel.merge(ibel_raw.rename(columns={'Mut_Rnk_EL':'trueHLA_EL_rank'})[['n', 'Patient', 'trueHLA_EL_rank']],\n",
    "           left_on=['n', 'Patient'], right_on=['n','Patient']).to_csv('../data/mutant/221111_ibel_neoepi_scored_merged.csv')"
   ]
  },
  {
   "cell_type": "code",
   "execution_count": 93,
   "id": "6ba7313f-5c0a-4bee-901f-c3d6ae260843",
   "metadata": {},
   "outputs": [],
   "source": [
    "prime=pd.read_excel('../data/partitioned_traindata/PRIME_dataset.xlsx', skiprows=2)"
   ]
  },
  {
   "cell_type": "code",
   "execution_count": 94,
   "id": "f45a3e08-e828-4f08-8756-5937b160549b",
   "metadata": {},
   "outputs": [],
   "source": [
    "prime['HLA'] = prime['Allele'].apply(lambda x: 'HLA-'+x)"
   ]
  },
  {
   "cell_type": "code",
   "execution_count": 95,
   "id": "73cebbdc-3be0-4057-ac8b-46002795d3d5",
   "metadata": {},
   "outputs": [
    {
     "data": {
      "text/plain": [
       "array(['Bobisse', 'Bassani-Sternberg', 'Bentzen', 'Cohen', 'Stronen',\n",
       "       'Kalaora', 'McGrannahan', 'van Rooij', 'Rajasagi', 'Rizvi',\n",
       "       'Robbins', 'Snyder', 'Wick', 'Sahin', 'Ott', 'Bulik-Sullivan',\n",
       "       'Dengue', 'Calis', 'Random'], dtype=object)"
      ]
     },
     "execution_count": 95,
     "metadata": {},
     "output_type": "execute_result"
    }
   ],
   "source": [
    "prime.StudyOrigin.unique()"
   ]
  },
  {
   "cell_type": "code",
   "execution_count": 108,
   "id": "017e51c3-352b-41b5-8187-2a890639d657",
   "metadata": {},
   "outputs": [
    {
     "data": {
      "text/plain": [
       "220"
      ]
     },
     "execution_count": 108,
     "metadata": {},
     "output_type": "execute_result"
    }
   ],
   "source": [
    "len(prime.query('HLA not in @HLAS and StudyOrigin not in @stds'))"
   ]
  },
  {
   "cell_type": "code",
   "execution_count": 96,
   "id": "1c771627-be23-429f-aa39-4be37b9fae40",
   "metadata": {},
   "outputs": [],
   "source": [
    "from src.data_processing import HLAS\n",
    "stds = ['Dengue', 'Calis', 'Random']\n",
    "new_hlas_prime = prime.query('HLA not in @HLAS and StudyOrigin not in @stds').HLA.unique()"
   ]
  },
  {
   "cell_type": "code",
   "execution_count": 97,
   "id": "6cc671b7-c136-430f-a0c4-6d0aabe21632",
   "metadata": {},
   "outputs": [],
   "source": [
    "new_hlas_cedar = new_epi.query('HLA not in @HLAS').HLA.unique()"
   ]
  },
  {
   "cell_type": "code",
   "execution_count": 99,
   "id": "3582025b-6d57-4f51-8edc-699bc7032352",
   "metadata": {},
   "outputs": [
    {
     "data": {
      "text/plain": [
       "['HLA-A3201',\n",
       " 'HLA-A2301',\n",
       " 'HLA-B1402',\n",
       " 'HLA-C1601',\n",
       " 'HLA-B4501',\n",
       " 'HLA-B1517',\n",
       " 'HLA-A6812',\n",
       " 'HLA-A6601',\n",
       " 'HLA-A0103',\n",
       " 'HLA-C0202']"
      ]
     },
     "execution_count": 99,
     "metadata": {},
     "output_type": "execute_result"
    }
   ],
   "source": [
    "[x for x in new_hlas_prime if x not in new_hlas_cedar]"
   ]
  },
  {
   "cell_type": "markdown",
   "id": "c097319a-bbe7-4ca8-a8d7-89bc53ef0712",
   "metadata": {},
   "source": [
    "## mutparse"
   ]
  },
  {
   "cell_type": "code",
   "execution_count": 88,
   "id": "61debe04-7fa4-4812-922c-b72c492c7a98",
   "metadata": {},
   "outputs": [],
   "source": [
    "from src.data_processing import get_aa_properties, AA_KEYS, HLAS\n",
    "from src.mutation_tools import check_wt, get_anchor, get_anchor_mutation, get_binder_type, get_blsm_mutation_score, get_mutation_pos, get_mutation_score, get_mutation_type"
   ]
  },
  {
   "cell_type": "code",
   "execution_count": 62,
   "id": "5a52142c-619f-43fa-9bbf-a1f72cae5390",
   "metadata": {},
   "outputs": [
    {
     "name": "stdout",
     "output_type": "stream",
     "text": [
      "wt true 3435 3435\n",
      "subst 3286\n"
     ]
    }
   ],
   "source": [
    "new_epi['wt_true']=new_epi['wild_type'].apply(check_wt)\n",
    "new_epi['len'] = new_epi['Peptide'].apply(len)\n",
    "new_epi['len_wt'] = new_epi['wild_type'].apply(len)\n",
    "print('wt true',len(new_epi.query('wt_true')), len(new_epi.query('wt_true and len==len_wt')))\n",
    "new_epi = new_epi.query('wt_true and len==len_wt')\n",
    "new_epi['mutation_type'] = new_epi.apply(lambda x: get_mutation_type(x['Peptide'], x['wild_type']), axis=1)\n",
    "print('subst', len(new_epi.query('mutation_type==\"substitution\"')))\n",
    "new_epi = new_epi.query('mutation_type==\"substitution\"')"
   ]
  },
  {
   "cell_type": "markdown",
   "id": "816896f8-4758-4714-b768-d3aa1248f00e",
   "metadata": {},
   "source": [
    "## Re-rank"
   ]
  },
  {
   "cell_type": "code",
   "execution_count": 64,
   "id": "59513616-9bfd-47e1-8ba3-bec78aba9cea",
   "metadata": {},
   "outputs": [],
   "source": [
    "from src.mutation_tools import get_anchor\n",
    "\n",
    "# Need to rescore these peptides and get their icore/cores\n",
    "# Saving as seq\n",
    "new_epi['seq_id'] = [f'seq_{i}' for i in range(len(new_epi))]\n",
    "with open('../../netmhcpan/score_shift/data/cedar_newdumpOCT22_mut.fa', 'w') as f:\n",
    "    for i, row in new_epi.iterrows():\n",
    "        f.write(f'>{row[\"seq_id\"]}\\n')\n",
    "        f.write(f'{row[\"Peptide\"]}\\n')\n",
    "with open('../../netmhcpan/score_shift/data/cedar_newdumpOCT22_wt.fa', 'w') as f:\n",
    "    for i, row in new_epi.iterrows():\n",
    "        f.write(f'>{row[\"seq_id\"]}\\n')\n",
    "        f.write(f'{row[\"wild_type\"]}\\n')"
   ]
  },
  {
   "cell_type": "markdown",
   "id": "d9dffd78-e0d2-4ad1-b427-98ff5ffb2b17",
   "metadata": {},
   "source": [
    "## Re-read and parse xls"
   ]
  },
  {
   "cell_type": "code",
   "execution_count": 68,
   "id": "f4e6a23b-dd7f-465b-a942-29530cf5ab40",
   "metadata": {},
   "outputs": [],
   "source": [
    "mut_xls = read_xls_parse_shift('../../netmhcpan/score_shift/output/cedar_newdumpOCT22_mut.fa.xls')"
   ]
  },
  {
   "cell_type": "code",
   "execution_count": 69,
   "id": "27da646e-f63e-496a-8acf-450a498a649d",
   "metadata": {},
   "outputs": [
    {
     "data": {
      "text/html": [
       "<div>\n",
       "<style scoped>\n",
       "    .dataframe tbody tr th:only-of-type {\n",
       "        vertical-align: middle;\n",
       "    }\n",
       "\n",
       "    .dataframe tbody tr th {\n",
       "        vertical-align: top;\n",
       "    }\n",
       "\n",
       "    .dataframe thead tr th {\n",
       "        text-align: left;\n",
       "    }\n",
       "</style>\n",
       "<table border=\"1\" class=\"dataframe\">\n",
       "  <thead>\n",
       "    <tr>\n",
       "      <th></th>\n",
       "      <th colspan=\"3\" halign=\"left\">base</th>\n",
       "      <th colspan=\"4\" halign=\"left\">A0101</th>\n",
       "      <th colspan=\"3\" halign=\"left\">A0201</th>\n",
       "      <th>...</th>\n",
       "      <th colspan=\"4\" halign=\"left\">C0702</th>\n",
       "      <th colspan=\"4\" halign=\"left\">C1502</th>\n",
       "      <th colspan=\"2\" halign=\"left\">end</th>\n",
       "    </tr>\n",
       "    <tr>\n",
       "      <th></th>\n",
       "      <th>Pos</th>\n",
       "      <th>Peptide</th>\n",
       "      <th>ID</th>\n",
       "      <th>core</th>\n",
       "      <th>icore</th>\n",
       "      <th>EL-score</th>\n",
       "      <th>EL_Rank</th>\n",
       "      <th>core</th>\n",
       "      <th>icore</th>\n",
       "      <th>EL-score</th>\n",
       "      <th>...</th>\n",
       "      <th>core</th>\n",
       "      <th>icore</th>\n",
       "      <th>EL-score</th>\n",
       "      <th>EL_Rank</th>\n",
       "      <th>core</th>\n",
       "      <th>icore</th>\n",
       "      <th>EL-score</th>\n",
       "      <th>EL_Rank</th>\n",
       "      <th>Ave</th>\n",
       "      <th>NB</th>\n",
       "    </tr>\n",
       "  </thead>\n",
       "  <tbody>\n",
       "    <tr>\n",
       "      <th>0</th>\n",
       "      <td>0</td>\n",
       "      <td>AAAAAAQQIQV</td>\n",
       "      <td>seq_0</td>\n",
       "      <td>AAAAQQIQV</td>\n",
       "      <td>AAAAAAQQIQV</td>\n",
       "      <td>0.0004</td>\n",
       "      <td>32.1364</td>\n",
       "      <td>AAAAAQIQV</td>\n",
       "      <td>AAAAAAQQIQV</td>\n",
       "      <td>0.0030</td>\n",
       "      <td>...</td>\n",
       "      <td>AAAAAAQQV</td>\n",
       "      <td>AAAAAAQQIQV</td>\n",
       "      <td>0.0000</td>\n",
       "      <td>55.0000</td>\n",
       "      <td>AAAAQQIQV</td>\n",
       "      <td>AAAAAAQQIQV</td>\n",
       "      <td>0.0106</td>\n",
       "      <td>5.7865</td>\n",
       "      <td>0.0014</td>\n",
       "      <td>0</td>\n",
       "    </tr>\n",
       "    <tr>\n",
       "      <th>1</th>\n",
       "      <td>0</td>\n",
       "      <td>AAAAAAQQIQ</td>\n",
       "      <td>seq_0</td>\n",
       "      <td>AAAAAAQQQ</td>\n",
       "      <td>AAAAAAQQIQ</td>\n",
       "      <td>0.0002</td>\n",
       "      <td>45.4000</td>\n",
       "      <td>AAAAAAQQI</td>\n",
       "      <td>AAAAAAQQI</td>\n",
       "      <td>0.0000</td>\n",
       "      <td>...</td>\n",
       "      <td>AAAAAAQQQ</td>\n",
       "      <td>AAAAAAQQIQ</td>\n",
       "      <td>0.0000</td>\n",
       "      <td>70.0000</td>\n",
       "      <td>AAAAAAQQI</td>\n",
       "      <td>AAAAAAQQI</td>\n",
       "      <td>0.0001</td>\n",
       "      <td>32.7692</td>\n",
       "      <td>0.0001</td>\n",
       "      <td>0</td>\n",
       "    </tr>\n",
       "    <tr>\n",
       "      <th>2</th>\n",
       "      <td>1</td>\n",
       "      <td>AAAAAQQIQV</td>\n",
       "      <td>seq_0</td>\n",
       "      <td>AAAAAQQQV</td>\n",
       "      <td>AAAAAQQIQV</td>\n",
       "      <td>0.0007</td>\n",
       "      <td>22.4035</td>\n",
       "      <td>AAAAQQIQV</td>\n",
       "      <td>AAAAAQQIQV</td>\n",
       "      <td>0.0056</td>\n",
       "      <td>...</td>\n",
       "      <td>AAAAAQQQV</td>\n",
       "      <td>AAAAAQQIQV</td>\n",
       "      <td>0.0000</td>\n",
       "      <td>40.5000</td>\n",
       "      <td>AAAAQQIQV</td>\n",
       "      <td>AAAAAQQIQV</td>\n",
       "      <td>0.0310</td>\n",
       "      <td>3.2761</td>\n",
       "      <td>0.0036</td>\n",
       "      <td>0</td>\n",
       "    </tr>\n",
       "    <tr>\n",
       "      <th>3</th>\n",
       "      <td>0</td>\n",
       "      <td>AAAAAAQQI</td>\n",
       "      <td>seq_0</td>\n",
       "      <td>AAAAAAQQI</td>\n",
       "      <td>AAAAAAQQI</td>\n",
       "      <td>0.0018</td>\n",
       "      <td>13.3716</td>\n",
       "      <td>AAAAAAQQI</td>\n",
       "      <td>AAAAAAQQI</td>\n",
       "      <td>0.0060</td>\n",
       "      <td>...</td>\n",
       "      <td>AAAAAAQQI</td>\n",
       "      <td>AAAAAAQQI</td>\n",
       "      <td>0.0012</td>\n",
       "      <td>9.0451</td>\n",
       "      <td>AAAAAAQQI</td>\n",
       "      <td>AAAAAAQQI</td>\n",
       "      <td>0.3251</td>\n",
       "      <td>0.4371</td>\n",
       "      <td>0.0478</td>\n",
       "      <td>4</td>\n",
       "    </tr>\n",
       "    <tr>\n",
       "      <th>4</th>\n",
       "      <td>1</td>\n",
       "      <td>AAAAAQQIQ</td>\n",
       "      <td>seq_0</td>\n",
       "      <td>AAAAAQQIQ</td>\n",
       "      <td>AAAAAQQIQ</td>\n",
       "      <td>0.0005</td>\n",
       "      <td>27.2857</td>\n",
       "      <td>AAAAAQQIQ</td>\n",
       "      <td>AAAAAQQIQ</td>\n",
       "      <td>0.0000</td>\n",
       "      <td>...</td>\n",
       "      <td>AAAAAQQIQ</td>\n",
       "      <td>AAAAAQQIQ</td>\n",
       "      <td>0.0001</td>\n",
       "      <td>30.6667</td>\n",
       "      <td>AAAAAQQIQ</td>\n",
       "      <td>AAAAAQQIQ</td>\n",
       "      <td>0.0001</td>\n",
       "      <td>32.0769</td>\n",
       "      <td>0.0003</td>\n",
       "      <td>0</td>\n",
       "    </tr>\n",
       "    <tr>\n",
       "      <th>...</th>\n",
       "      <td>...</td>\n",
       "      <td>...</td>\n",
       "      <td>...</td>\n",
       "      <td>...</td>\n",
       "      <td>...</td>\n",
       "      <td>...</td>\n",
       "      <td>...</td>\n",
       "      <td>...</td>\n",
       "      <td>...</td>\n",
       "      <td>...</td>\n",
       "      <td>...</td>\n",
       "      <td>...</td>\n",
       "      <td>...</td>\n",
       "      <td>...</td>\n",
       "      <td>...</td>\n",
       "      <td>...</td>\n",
       "      <td>...</td>\n",
       "      <td>...</td>\n",
       "      <td>...</td>\n",
       "      <td>...</td>\n",
       "      <td>...</td>\n",
       "    </tr>\n",
       "    <tr>\n",
       "      <th>16931</th>\n",
       "      <td>1</td>\n",
       "      <td>YSKNLNSF</td>\n",
       "      <td>seq_3284</td>\n",
       "      <td>YSK-NLNSF</td>\n",
       "      <td>YSKNLNSF</td>\n",
       "      <td>0.0062</td>\n",
       "      <td>6.4449</td>\n",
       "      <td>YSK-NLNSF</td>\n",
       "      <td>YSKNLNSF</td>\n",
       "      <td>0.0001</td>\n",
       "      <td>...</td>\n",
       "      <td>YSK-NLNSF</td>\n",
       "      <td>YSKNLNSF</td>\n",
       "      <td>0.0109</td>\n",
       "      <td>2.8522</td>\n",
       "      <td>YSK-NLNSF</td>\n",
       "      <td>YSKNLNSF</td>\n",
       "      <td>0.0205</td>\n",
       "      <td>4.1114</td>\n",
       "      <td>0.0189</td>\n",
       "      <td>0</td>\n",
       "    </tr>\n",
       "    <tr>\n",
       "      <th>16932</th>\n",
       "      <td>2</td>\n",
       "      <td>SKNLNSFF</td>\n",
       "      <td>seq_3284</td>\n",
       "      <td>-SKNLNSFF</td>\n",
       "      <td>SKNLNSFF</td>\n",
       "      <td>0.0008</td>\n",
       "      <td>21.1290</td>\n",
       "      <td>SKN-LNSFF</td>\n",
       "      <td>SKNLNSFF</td>\n",
       "      <td>0.0000</td>\n",
       "      <td>...</td>\n",
       "      <td>SKN-LNSFF</td>\n",
       "      <td>SKNLNSFF</td>\n",
       "      <td>0.0017</td>\n",
       "      <td>7.6040</td>\n",
       "      <td>SKN-LNSFF</td>\n",
       "      <td>SKNLNSFF</td>\n",
       "      <td>0.0003</td>\n",
       "      <td>25.1515</td>\n",
       "      <td>0.0015</td>\n",
       "      <td>0</td>\n",
       "    </tr>\n",
       "    <tr>\n",
       "      <th>16933</th>\n",
       "      <td>0</td>\n",
       "      <td>YYSPQAQTL</td>\n",
       "      <td>seq_3285</td>\n",
       "      <td>YYSPQAQTL</td>\n",
       "      <td>YYSPQAQTL</td>\n",
       "      <td>0.0197</td>\n",
       "      <td>3.3635</td>\n",
       "      <td>YYSPQAQTL</td>\n",
       "      <td>YYSPQAQTL</td>\n",
       "      <td>0.0303</td>\n",
       "      <td>...</td>\n",
       "      <td>YYSPQAQTL</td>\n",
       "      <td>YYSPQAQTL</td>\n",
       "      <td>0.9464</td>\n",
       "      <td>0.0023</td>\n",
       "      <td>YYSPQAQTL</td>\n",
       "      <td>YYSPQAQTL</td>\n",
       "      <td>0.0896</td>\n",
       "      <td>1.6269</td>\n",
       "      <td>0.2024</td>\n",
       "      <td>7</td>\n",
       "    </tr>\n",
       "    <tr>\n",
       "      <th>16934</th>\n",
       "      <td>0</td>\n",
       "      <td>YYSPQAQT</td>\n",
       "      <td>seq_3285</td>\n",
       "      <td>YYSPQAQT-</td>\n",
       "      <td>YYSPQAQT</td>\n",
       "      <td>0.0003</td>\n",
       "      <td>36.0625</td>\n",
       "      <td>Y-YSPQAQT</td>\n",
       "      <td>YYSPQAQT</td>\n",
       "      <td>0.0000</td>\n",
       "      <td>...</td>\n",
       "      <td>YYSPQAQT-</td>\n",
       "      <td>YYSPQAQT</td>\n",
       "      <td>0.0071</td>\n",
       "      <td>3.6379</td>\n",
       "      <td>YYSPQAQT-</td>\n",
       "      <td>YYSPQAQT</td>\n",
       "      <td>0.0001</td>\n",
       "      <td>37.4286</td>\n",
       "      <td>0.0008</td>\n",
       "      <td>0</td>\n",
       "    </tr>\n",
       "    <tr>\n",
       "      <th>16935</th>\n",
       "      <td>1</td>\n",
       "      <td>YSPQAQTL</td>\n",
       "      <td>seq_3285</td>\n",
       "      <td>YS-PQAQTL</td>\n",
       "      <td>YSPQAQTL</td>\n",
       "      <td>0.0061</td>\n",
       "      <td>6.4705</td>\n",
       "      <td>YSPQ-AQTL</td>\n",
       "      <td>YSPQAQTL</td>\n",
       "      <td>0.0030</td>\n",
       "      <td>...</td>\n",
       "      <td>-YSPQAQTL</td>\n",
       "      <td>YSPQAQTL</td>\n",
       "      <td>0.0194</td>\n",
       "      <td>1.9633</td>\n",
       "      <td>YS-PQAQTL</td>\n",
       "      <td>YSPQAQTL</td>\n",
       "      <td>0.2578</td>\n",
       "      <td>0.6002</td>\n",
       "      <td>0.0437</td>\n",
       "      <td>5</td>\n",
       "    </tr>\n",
       "  </tbody>\n",
       "</table>\n",
       "<p>16936 rows × 65 columns</p>\n",
       "</div>"
      ],
      "text/plain": [
       "      base                             A0101                                 \\\n",
       "       Pos      Peptide        ID       core        icore EL-score  EL_Rank   \n",
       "0        0  AAAAAAQQIQV     seq_0  AAAAQQIQV  AAAAAAQQIQV   0.0004  32.1364   \n",
       "1        0   AAAAAAQQIQ     seq_0  AAAAAAQQQ   AAAAAAQQIQ   0.0002  45.4000   \n",
       "2        1   AAAAAQQIQV     seq_0  AAAAAQQQV   AAAAAQQIQV   0.0007  22.4035   \n",
       "3        0    AAAAAAQQI     seq_0  AAAAAAQQI    AAAAAAQQI   0.0018  13.3716   \n",
       "4        1    AAAAAQQIQ     seq_0  AAAAAQQIQ    AAAAAQQIQ   0.0005  27.2857   \n",
       "...    ...          ...       ...        ...          ...      ...      ...   \n",
       "16931    1     YSKNLNSF  seq_3284  YSK-NLNSF     YSKNLNSF   0.0062   6.4449   \n",
       "16932    2     SKNLNSFF  seq_3284  -SKNLNSFF     SKNLNSFF   0.0008  21.1290   \n",
       "16933    0    YYSPQAQTL  seq_3285  YYSPQAQTL    YYSPQAQTL   0.0197   3.3635   \n",
       "16934    0     YYSPQAQT  seq_3285  YYSPQAQT-     YYSPQAQT   0.0003  36.0625   \n",
       "16935    1     YSPQAQTL  seq_3285  YS-PQAQTL     YSPQAQTL   0.0061   6.4705   \n",
       "\n",
       "           A0201                        ...      C0702                        \\\n",
       "            core        icore EL-score  ...       core        icore EL-score   \n",
       "0      AAAAAQIQV  AAAAAAQQIQV   0.0030  ...  AAAAAAQQV  AAAAAAQQIQV   0.0000   \n",
       "1      AAAAAAQQI    AAAAAAQQI   0.0000  ...  AAAAAAQQQ   AAAAAAQQIQ   0.0000   \n",
       "2      AAAAQQIQV   AAAAAQQIQV   0.0056  ...  AAAAAQQQV   AAAAAQQIQV   0.0000   \n",
       "3      AAAAAAQQI    AAAAAAQQI   0.0060  ...  AAAAAAQQI    AAAAAAQQI   0.0012   \n",
       "4      AAAAAQQIQ    AAAAAQQIQ   0.0000  ...  AAAAAQQIQ    AAAAAQQIQ   0.0001   \n",
       "...          ...          ...      ...  ...        ...          ...      ...   \n",
       "16931  YSK-NLNSF     YSKNLNSF   0.0001  ...  YSK-NLNSF     YSKNLNSF   0.0109   \n",
       "16932  SKN-LNSFF     SKNLNSFF   0.0000  ...  SKN-LNSFF     SKNLNSFF   0.0017   \n",
       "16933  YYSPQAQTL    YYSPQAQTL   0.0303  ...  YYSPQAQTL    YYSPQAQTL   0.9464   \n",
       "16934  Y-YSPQAQT     YYSPQAQT   0.0000  ...  YYSPQAQT-     YYSPQAQT   0.0071   \n",
       "16935  YSPQ-AQTL     YSPQAQTL   0.0030  ...  -YSPQAQTL     YSPQAQTL   0.0194   \n",
       "\n",
       "                    C1502                                    end     \n",
       "       EL_Rank       core        icore EL-score  EL_Rank     Ave NB  \n",
       "0      55.0000  AAAAQQIQV  AAAAAAQQIQV   0.0106   5.7865  0.0014  0  \n",
       "1      70.0000  AAAAAAQQI    AAAAAAQQI   0.0001  32.7692  0.0001  0  \n",
       "2      40.5000  AAAAQQIQV   AAAAAQQIQV   0.0310   3.2761  0.0036  0  \n",
       "3       9.0451  AAAAAAQQI    AAAAAAQQI   0.3251   0.4371  0.0478  4  \n",
       "4      30.6667  AAAAAQQIQ    AAAAAQQIQ   0.0001  32.0769  0.0003  0  \n",
       "...        ...        ...          ...      ...      ...     ... ..  \n",
       "16931   2.8522  YSK-NLNSF     YSKNLNSF   0.0205   4.1114  0.0189  0  \n",
       "16932   7.6040  SKN-LNSFF     SKNLNSFF   0.0003  25.1515  0.0015  0  \n",
       "16933   0.0023  YYSPQAQTL    YYSPQAQTL   0.0896   1.6269  0.2024  7  \n",
       "16934   3.6379  YYSPQAQT-     YYSPQAQT   0.0001  37.4286  0.0008  0  \n",
       "16935   1.9633  YS-PQAQTL     YSPQAQTL   0.2578   0.6002  0.0437  5  \n",
       "\n",
       "[16936 rows x 65 columns]"
      ]
     },
     "execution_count": 69,
     "metadata": {},
     "output_type": "execute_result"
    }
   ],
   "source": [
    "mut_xls.query('@mut_xls.base.ID=-"
   ]
  },
  {
   "cell_type": "code",
   "execution_count": 84,
   "id": "0877c592-e1c0-496a-8f82-4fe9fb4e2698",
   "metadata": {},
   "outputs": [],
   "source": [
    "new_epi = new_epi.query('HLA in @HLAS')"
   ]
  },
  {
   "cell_type": "code",
   "execution_count": 85,
   "id": "5ce6a019-08ed-4736-ad9a-5392ab4f2a30",
   "metadata": {
    "tags": []
   },
   "outputs": [],
   "source": [
    "from src.utils import pipeline_netmhcpan_xls, read_xls_parse_shift\n",
    "# Parse-merge\n",
    "new_cedar_mut = pipeline_netmhcpan_xls(new_epi, '../../netmhcpan/score_shift/output/cedar_newdumpOCT22_mut.fa.xls', xls_suffix='_mut')\n",
    "new_cedar_wt = pipeline_netmhcpan_xls(new_epi, '../../netmhcpan/score_shift/output/cedar_newdumpOCT22_wt.fa.xls', xls_suffix='_wt')\n",
    "# merged mut-wt\n",
    "common_cols = [x for x in new_cedar_mut.columns if x in new_cedar_wt.columns]\n",
    "new_epi_merged = new_cedar_mut.merge(new_cedar_wt, left_on=common_cols, right_on=common_cols)"
   ]
  },
  {
   "cell_type": "markdown",
   "id": "0ea8b58e-4ffb-4bbb-8e20-cdb11bea353e",
   "metadata": {},
   "source": [
    "## scores"
   ]
  },
  {
   "cell_type": "code",
   "execution_count": 58,
   "id": "80c598ec-0037-4428-9e8c-8031abf47f94",
   "metadata": {
    "collapsed": true,
    "jupyter": {
     "outputs_hidden": true
    },
    "tags": []
   },
   "outputs": [
    {
     "ename": "NameError",
     "evalue": "name 'ics_kl' is not defined",
     "output_type": "error",
     "traceback": [
      "\u001b[0;31m---------------------------------------------------------------------------\u001b[0m",
      "\u001b[0;31mNameError\u001b[0m                                 Traceback (most recent call last)",
      "Input \u001b[0;32mIn [58]\u001b[0m, in \u001b[0;36m<cell line: 2>\u001b[0;34m()\u001b[0m\n\u001b[1;32m      1\u001b[0m new_epi[\u001b[38;5;124m'\u001b[39m\u001b[38;5;124mmutation_type\u001b[39m\u001b[38;5;124m'\u001b[39m] \u001b[38;5;241m=\u001b[39m \u001b[38;5;124m'\u001b[39m\u001b[38;5;124msubstitution\u001b[39m\u001b[38;5;124m'\u001b[39m\u001b[38;5;66;03m#related_merged.apply(lambda x: get_mutation_type(x['Peptide'], x['wild_type']), axis=1)\u001b[39;00m\n\u001b[0;32m----> 2\u001b[0m new_epi[\u001b[38;5;124m'\u001b[39m\u001b[38;5;124mmhc_anchor\u001b[39m\u001b[38;5;124m'\u001b[39m] \u001b[38;5;241m=\u001b[39m \u001b[43mnew_epi\u001b[49m\u001b[38;5;241;43m.\u001b[39;49m\u001b[43mapply\u001b[49m\u001b[43m(\u001b[49m\u001b[38;5;28;43;01mlambda\u001b[39;49;00m\u001b[43m \u001b[49m\u001b[43mx\u001b[49m\u001b[43m:\u001b[49m\u001b[43m \u001b[49m\u001b[43mget_anchor\u001b[49m\u001b[43m(\u001b[49m\u001b[43mx\u001b[49m\u001b[43m[\u001b[49m\u001b[38;5;124;43m'\u001b[39;49m\u001b[38;5;124;43mHLA\u001b[39;49m\u001b[38;5;124;43m'\u001b[39;49m\u001b[43m]\u001b[49m\u001b[38;5;241;43m.\u001b[39;49m\u001b[43mreplace\u001b[49m\u001b[43m(\u001b[49m\u001b[38;5;124;43m'\u001b[39;49m\u001b[38;5;124;43m:\u001b[39;49m\u001b[38;5;124;43m'\u001b[39;49m\u001b[43m,\u001b[49m\u001b[38;5;124;43m'\u001b[39;49m\u001b[38;5;124;43m'\u001b[39;49m\u001b[43m)\u001b[49m\u001b[43m,\u001b[49m\u001b[43m \u001b[49m\u001b[43mics_kl\u001b[49m\u001b[43m,\u001b[49m\u001b[43m \u001b[49m\u001b[43mthreshold\u001b[49m\u001b[38;5;241;43m=\u001b[39;49m\u001b[38;5;241;43m.1615\u001b[39;49m\u001b[43m)\u001b[49m\u001b[43m,\u001b[49m\u001b[43m \u001b[49m\u001b[43maxis\u001b[49m\u001b[38;5;241;43m=\u001b[39;49m\u001b[38;5;241;43m1\u001b[39;49m\u001b[43m)\u001b[49m\n\u001b[1;32m      3\u001b[0m new_epi[\u001b[38;5;124m'\u001b[39m\u001b[38;5;124mmutation_position\u001b[39m\u001b[38;5;124m'\u001b[39m] \u001b[38;5;241m=\u001b[39m new_epi\u001b[38;5;241m.\u001b[39mapply(\u001b[38;5;28;01mlambda\u001b[39;00m x: get_mutation_pos(x[\u001b[38;5;124m'\u001b[39m\u001b[38;5;124mPeptide\u001b[39m\u001b[38;5;124m'\u001b[39m], x[\u001b[38;5;124m'\u001b[39m\u001b[38;5;124mwild_type\u001b[39m\u001b[38;5;124m'\u001b[39m], x[\u001b[38;5;124m'\u001b[39m\u001b[38;5;124mmutation_type\u001b[39m\u001b[38;5;124m'\u001b[39m]), axis\u001b[38;5;241m=\u001b[39m\u001b[38;5;241m1\u001b[39m)\n\u001b[1;32m      4\u001b[0m new_epi[\u001b[38;5;124m'\u001b[39m\u001b[38;5;124manchor_mutation\u001b[39m\u001b[38;5;124m'\u001b[39m] \u001b[38;5;241m=\u001b[39m new_epi\u001b[38;5;241m.\u001b[39mapply(\u001b[38;5;28;01mlambda\u001b[39;00m x: get_anchor_mutation(x[\u001b[38;5;124m'\u001b[39m\u001b[38;5;124mPeptide\u001b[39m\u001b[38;5;124m'\u001b[39m], x[\u001b[38;5;124m'\u001b[39m\u001b[38;5;124mwild_type\u001b[39m\u001b[38;5;124m'\u001b[39m], \n\u001b[1;32m      5\u001b[0m                                                                                      x[\u001b[38;5;124m'\u001b[39m\u001b[38;5;124mcore_mut\u001b[39m\u001b[38;5;124m'\u001b[39m], x[\u001b[38;5;124m'\u001b[39m\u001b[38;5;124mcore_wt\u001b[39m\u001b[38;5;124m'\u001b[39m], \n\u001b[1;32m      6\u001b[0m                                                                                      x[\u001b[38;5;124m'\u001b[39m\u001b[38;5;124mlen\u001b[39m\u001b[38;5;124m'\u001b[39m], x[\u001b[38;5;124m'\u001b[39m\u001b[38;5;124mmhc_anchor\u001b[39m\u001b[38;5;124m'\u001b[39m],\n\u001b[1;32m      7\u001b[0m                                                                                      x[\u001b[38;5;124m'\u001b[39m\u001b[38;5;124mmutation_type\u001b[39m\u001b[38;5;124m'\u001b[39m]), axis\u001b[38;5;241m=\u001b[39m\u001b[38;5;241m1\u001b[39m)\n",
      "File \u001b[0;32m~/opt/anaconda3/envs/phd/lib/python3.10/site-packages/pandas/core/frame.py:8848\u001b[0m, in \u001b[0;36mDataFrame.apply\u001b[0;34m(self, func, axis, raw, result_type, args, **kwargs)\u001b[0m\n\u001b[1;32m   8837\u001b[0m \u001b[38;5;28;01mfrom\u001b[39;00m \u001b[38;5;21;01mpandas\u001b[39;00m\u001b[38;5;21;01m.\u001b[39;00m\u001b[38;5;21;01mcore\u001b[39;00m\u001b[38;5;21;01m.\u001b[39;00m\u001b[38;5;21;01mapply\u001b[39;00m \u001b[38;5;28;01mimport\u001b[39;00m frame_apply\n\u001b[1;32m   8839\u001b[0m op \u001b[38;5;241m=\u001b[39m frame_apply(\n\u001b[1;32m   8840\u001b[0m     \u001b[38;5;28mself\u001b[39m,\n\u001b[1;32m   8841\u001b[0m     func\u001b[38;5;241m=\u001b[39mfunc,\n\u001b[0;32m   (...)\u001b[0m\n\u001b[1;32m   8846\u001b[0m     kwargs\u001b[38;5;241m=\u001b[39mkwargs,\n\u001b[1;32m   8847\u001b[0m )\n\u001b[0;32m-> 8848\u001b[0m \u001b[38;5;28;01mreturn\u001b[39;00m \u001b[43mop\u001b[49m\u001b[38;5;241;43m.\u001b[39;49m\u001b[43mapply\u001b[49m\u001b[43m(\u001b[49m\u001b[43m)\u001b[49m\u001b[38;5;241m.\u001b[39m__finalize__(\u001b[38;5;28mself\u001b[39m, method\u001b[38;5;241m=\u001b[39m\u001b[38;5;124m\"\u001b[39m\u001b[38;5;124mapply\u001b[39m\u001b[38;5;124m\"\u001b[39m)\n",
      "File \u001b[0;32m~/opt/anaconda3/envs/phd/lib/python3.10/site-packages/pandas/core/apply.py:733\u001b[0m, in \u001b[0;36mFrameApply.apply\u001b[0;34m(self)\u001b[0m\n\u001b[1;32m    730\u001b[0m \u001b[38;5;28;01melif\u001b[39;00m \u001b[38;5;28mself\u001b[39m\u001b[38;5;241m.\u001b[39mraw:\n\u001b[1;32m    731\u001b[0m     \u001b[38;5;28;01mreturn\u001b[39;00m \u001b[38;5;28mself\u001b[39m\u001b[38;5;241m.\u001b[39mapply_raw()\n\u001b[0;32m--> 733\u001b[0m \u001b[38;5;28;01mreturn\u001b[39;00m \u001b[38;5;28;43mself\u001b[39;49m\u001b[38;5;241;43m.\u001b[39;49m\u001b[43mapply_standard\u001b[49m\u001b[43m(\u001b[49m\u001b[43m)\u001b[49m\n",
      "File \u001b[0;32m~/opt/anaconda3/envs/phd/lib/python3.10/site-packages/pandas/core/apply.py:857\u001b[0m, in \u001b[0;36mFrameApply.apply_standard\u001b[0;34m(self)\u001b[0m\n\u001b[1;32m    856\u001b[0m \u001b[38;5;28;01mdef\u001b[39;00m \u001b[38;5;21mapply_standard\u001b[39m(\u001b[38;5;28mself\u001b[39m):\n\u001b[0;32m--> 857\u001b[0m     results, res_index \u001b[38;5;241m=\u001b[39m \u001b[38;5;28;43mself\u001b[39;49m\u001b[38;5;241;43m.\u001b[39;49m\u001b[43mapply_series_generator\u001b[49m\u001b[43m(\u001b[49m\u001b[43m)\u001b[49m\n\u001b[1;32m    859\u001b[0m     \u001b[38;5;66;03m# wrap results\u001b[39;00m\n\u001b[1;32m    860\u001b[0m     \u001b[38;5;28;01mreturn\u001b[39;00m \u001b[38;5;28mself\u001b[39m\u001b[38;5;241m.\u001b[39mwrap_results(results, res_index)\n",
      "File \u001b[0;32m~/opt/anaconda3/envs/phd/lib/python3.10/site-packages/pandas/core/apply.py:873\u001b[0m, in \u001b[0;36mFrameApply.apply_series_generator\u001b[0;34m(self)\u001b[0m\n\u001b[1;32m    870\u001b[0m \u001b[38;5;28;01mwith\u001b[39;00m option_context(\u001b[38;5;124m\"\u001b[39m\u001b[38;5;124mmode.chained_assignment\u001b[39m\u001b[38;5;124m\"\u001b[39m, \u001b[38;5;28;01mNone\u001b[39;00m):\n\u001b[1;32m    871\u001b[0m     \u001b[38;5;28;01mfor\u001b[39;00m i, v \u001b[38;5;129;01min\u001b[39;00m \u001b[38;5;28menumerate\u001b[39m(series_gen):\n\u001b[1;32m    872\u001b[0m         \u001b[38;5;66;03m# ignore SettingWithCopy here in case the user mutates\u001b[39;00m\n\u001b[0;32m--> 873\u001b[0m         results[i] \u001b[38;5;241m=\u001b[39m \u001b[38;5;28;43mself\u001b[39;49m\u001b[38;5;241;43m.\u001b[39;49m\u001b[43mf\u001b[49m\u001b[43m(\u001b[49m\u001b[43mv\u001b[49m\u001b[43m)\u001b[49m\n\u001b[1;32m    874\u001b[0m         \u001b[38;5;28;01mif\u001b[39;00m \u001b[38;5;28misinstance\u001b[39m(results[i], ABCSeries):\n\u001b[1;32m    875\u001b[0m             \u001b[38;5;66;03m# If we have a view on v, we need to make a copy because\u001b[39;00m\n\u001b[1;32m    876\u001b[0m             \u001b[38;5;66;03m#  series_generator will swap out the underlying data\u001b[39;00m\n\u001b[1;32m    877\u001b[0m             results[i] \u001b[38;5;241m=\u001b[39m results[i]\u001b[38;5;241m.\u001b[39mcopy(deep\u001b[38;5;241m=\u001b[39m\u001b[38;5;28;01mFalse\u001b[39;00m)\n",
      "Input \u001b[0;32mIn [58]\u001b[0m, in \u001b[0;36m<lambda>\u001b[0;34m(x)\u001b[0m\n\u001b[1;32m      1\u001b[0m new_epi[\u001b[38;5;124m'\u001b[39m\u001b[38;5;124mmutation_type\u001b[39m\u001b[38;5;124m'\u001b[39m] \u001b[38;5;241m=\u001b[39m \u001b[38;5;124m'\u001b[39m\u001b[38;5;124msubstitution\u001b[39m\u001b[38;5;124m'\u001b[39m\u001b[38;5;66;03m#related_merged.apply(lambda x: get_mutation_type(x['Peptide'], x['wild_type']), axis=1)\u001b[39;00m\n\u001b[0;32m----> 2\u001b[0m new_epi[\u001b[38;5;124m'\u001b[39m\u001b[38;5;124mmhc_anchor\u001b[39m\u001b[38;5;124m'\u001b[39m] \u001b[38;5;241m=\u001b[39m new_epi\u001b[38;5;241m.\u001b[39mapply(\u001b[38;5;28;01mlambda\u001b[39;00m x: get_anchor(x[\u001b[38;5;124m'\u001b[39m\u001b[38;5;124mHLA\u001b[39m\u001b[38;5;124m'\u001b[39m]\u001b[38;5;241m.\u001b[39mreplace(\u001b[38;5;124m'\u001b[39m\u001b[38;5;124m:\u001b[39m\u001b[38;5;124m'\u001b[39m,\u001b[38;5;124m'\u001b[39m\u001b[38;5;124m'\u001b[39m), \u001b[43mics_kl\u001b[49m, threshold\u001b[38;5;241m=\u001b[39m\u001b[38;5;241m.1615\u001b[39m), axis\u001b[38;5;241m=\u001b[39m\u001b[38;5;241m1\u001b[39m)\n\u001b[1;32m      3\u001b[0m new_epi[\u001b[38;5;124m'\u001b[39m\u001b[38;5;124mmutation_position\u001b[39m\u001b[38;5;124m'\u001b[39m] \u001b[38;5;241m=\u001b[39m new_epi\u001b[38;5;241m.\u001b[39mapply(\u001b[38;5;28;01mlambda\u001b[39;00m x: get_mutation_pos(x[\u001b[38;5;124m'\u001b[39m\u001b[38;5;124mPeptide\u001b[39m\u001b[38;5;124m'\u001b[39m], x[\u001b[38;5;124m'\u001b[39m\u001b[38;5;124mwild_type\u001b[39m\u001b[38;5;124m'\u001b[39m], x[\u001b[38;5;124m'\u001b[39m\u001b[38;5;124mmutation_type\u001b[39m\u001b[38;5;124m'\u001b[39m]), axis\u001b[38;5;241m=\u001b[39m\u001b[38;5;241m1\u001b[39m)\n\u001b[1;32m      4\u001b[0m new_epi[\u001b[38;5;124m'\u001b[39m\u001b[38;5;124manchor_mutation\u001b[39m\u001b[38;5;124m'\u001b[39m] \u001b[38;5;241m=\u001b[39m new_epi\u001b[38;5;241m.\u001b[39mapply(\u001b[38;5;28;01mlambda\u001b[39;00m x: get_anchor_mutation(x[\u001b[38;5;124m'\u001b[39m\u001b[38;5;124mPeptide\u001b[39m\u001b[38;5;124m'\u001b[39m], x[\u001b[38;5;124m'\u001b[39m\u001b[38;5;124mwild_type\u001b[39m\u001b[38;5;124m'\u001b[39m], \n\u001b[1;32m      5\u001b[0m                                                                                      x[\u001b[38;5;124m'\u001b[39m\u001b[38;5;124mcore_mut\u001b[39m\u001b[38;5;124m'\u001b[39m], x[\u001b[38;5;124m'\u001b[39m\u001b[38;5;124mcore_wt\u001b[39m\u001b[38;5;124m'\u001b[39m], \n\u001b[1;32m      6\u001b[0m                                                                                      x[\u001b[38;5;124m'\u001b[39m\u001b[38;5;124mlen\u001b[39m\u001b[38;5;124m'\u001b[39m], x[\u001b[38;5;124m'\u001b[39m\u001b[38;5;124mmhc_anchor\u001b[39m\u001b[38;5;124m'\u001b[39m],\n\u001b[1;32m      7\u001b[0m                                                                                      x[\u001b[38;5;124m'\u001b[39m\u001b[38;5;124mmutation_type\u001b[39m\u001b[38;5;124m'\u001b[39m]), axis\u001b[38;5;241m=\u001b[39m\u001b[38;5;241m1\u001b[39m)\n",
      "\u001b[0;31mNameError\u001b[0m: name 'ics_kl' is not defined"
     ]
    }
   ],
   "source": [
    "new_epi['mutation_type'] = 'substitution'#related_merged.apply(lambda x: get_mutation_type(x['Peptide'], x['wild_type']), axis=1)\n",
    "new_epi['mhc_anchor'] = new_epi.apply(lambda x: get_anchor(x['HLA'].replace(':',''), ics_kl, threshold=.1615), axis=1)\n",
    "new_epi['mutation_position'] = new_epi.apply(lambda x: get_mutation_pos(x['Peptide'], x['wild_type'], x['mutation_type']), axis=1)\n",
    "new_epi['anchor_mutation'] = new_epi.apply(lambda x: get_anchor_mutation(x['Peptide'], x['wild_type'], \n",
    "                                                                                     x['core_mut'], x['core_wt'], \n",
    "                                                                                     x['len'], x['mhc_anchor'],\n",
    "                                                                                     x['mutation_type']), axis=1)\n",
    "new_epi['core_mutation_position'] = new_epi.apply(lambda x: get_mutation_pos(x['core_mut'], x['core_wt'], x['mutation_type']), axis=1)\n",
    "new_epi['binder'] = new_epi.apply(lambda x: get_binder_type(x['EL_rank_mut'], x['EL_rank_wt']), axis=1)\n",
    "# new_epi['ratio_rank'] = new_epi['EL_rank_wt']/new_epi['EL_rank_mut']\n"
   ]
  },
  {
   "cell_type": "code",
   "execution_count": null,
   "id": "2f04f079-9e6f-4ff5-8a52-46a0035ba920",
   "metadata": {},
   "outputs": [],
   "source": []
  }
 ],
 "metadata": {
  "kernelspec": {
   "display_name": "Python [conda env:phd] *",
   "language": "python",
   "name": "conda-env-phd-py"
  },
  "language_info": {
   "codemirror_mode": {
    "name": "ipython",
    "version": 3
   },
   "file_extension": ".py",
   "mimetype": "text/x-python",
   "name": "python",
   "nbconvert_exporter": "python",
   "pygments_lexer": "ipython3",
   "version": "3.10.4"
  }
 },
 "nbformat": 4,
 "nbformat_minor": 5
}

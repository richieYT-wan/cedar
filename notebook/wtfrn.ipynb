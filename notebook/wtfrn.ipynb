{
 "cells": [
  {
   "cell_type": "code",
   "execution_count": 2,
   "id": "e2430ed6-5890-4373-af34-d346d5d83a95",
   "metadata": {},
   "outputs": [],
   "source": [
    "import pandas as pd\n",
    "import os, sys\n",
    "\n",
    "module_path = os.path.abspath(os.path.join('..'))\n",
    "if module_path not in sys.path:\n",
    "    sys.path.append(module_path)\n",
    "\n",
    "import numpy as np \n",
    "from joblib import Parallel, delayed\n",
    "from tqdm.auto import tqdm\n",
    "from functools import partial\n",
    "from src.bootstrap import bootstrap_eval\n",
    "\n",
    "def get_in_ref(peptide, hla, ref):\n",
    "    return len(ref.query('Peptide==@peptide and HLA == @hla'))==1"
   ]
  },
  {
   "cell_type": "code",
   "execution_count": 3,
   "id": "6c6563c3-f122-45de-afdc-d9f1604c58ff",
   "metadata": {},
   "outputs": [],
   "source": [
    "icore = pd.read_csv('../output/PRIME_preds_cedar_onehot_None_icore_mut_only_rank.csv')\n",
    "pep = pd.read_csv('../output/PRIME_preds_cedar_onehot_None_icore_mut_only_rank.csv')\n",
    "nepdb = pd.read_csv('../output/NEPDB_preds_cedar_onehot_None_icore_mut_only_rank.csv')\n",
    "\n",
    "icore['in_nepdb'] = icore.apply(lambda x: get_in_ref(x['Peptide'], x['HLA'], ref=nepdb), axis=1)\n",
    "pep['in_nepdb'] = pep.apply(lambda x: get_in_ref(x['Peptide'], x['HLA'], ref=nepdb), axis=1)\n",
    "\n",
    "icore = icore.query('not in_nepdb')\n",
    "pep = pep.query('not in_nepdb')"
   ]
  },
  {
   "cell_type": "code",
   "execution_count": 9,
   "id": "94717006-5efc-4fac-bff8-be87d673a7a8",
   "metadata": {},
   "outputs": [
    {
     "name": "stdout",
     "output_type": "stream",
     "text": [
      "Sampling\n"
     ]
    },
    {
     "data": {
      "application/vnd.jupyter.widget-view+json": {
       "model_id": "",
       "version_major": 2,
       "version_minor": 0
      },
      "text/plain": [
       "Bootstrapping rounds:   0%|          | 0/10000 [00:00<?, ?it/s]"
      ]
     },
     "metadata": {},
     "output_type": "display_data"
    },
    {
     "name": "stdout",
     "output_type": "stream",
     "text": [
      "Making results DF and curves\n",
      "10000\n",
      "Sampling\n"
     ]
    },
    {
     "data": {
      "application/vnd.jupyter.widget-view+json": {
       "model_id": "",
       "version_major": 2,
       "version_minor": 0
      },
      "text/plain": [
       "Bootstrapping rounds:   0%|          | 0/10000 [00:00<?, ?it/s]"
      ]
     },
     "metadata": {},
     "output_type": "display_data"
    },
    {
     "name": "stdout",
     "output_type": "stream",
     "text": [
      "Making results DF and curves\n"
     ]
    }
   ],
   "source": [
    "p = 'pred' if 'pred' in icore.columns else 'mean_pred'\n",
    "\n",
    "boot_icore = bootstrap_eval(icore[p].values, icore['agg_label'].values, n_rounds=10000, n_jobs=8, auc01=True)\n",
    "print(len(boot_icore))\n",
    "boot_icore = boot_icore.assign(input_type='icore_mut', evalset='PRIME')"
   ]
  },
  {
   "cell_type": "code",
   "execution_count": 15,
   "id": "3b9db620-86b0-48ce-b960-56eba6f902b7",
   "metadata": {},
   "outputs": [
    {
     "name": "stdout",
     "output_type": "stream",
     "text": [
      "Sampling\n"
     ]
    },
    {
     "data": {
      "application/vnd.jupyter.widget-view+json": {
       "model_id": "",
       "version_major": 2,
       "version_minor": 0
      },
      "text/plain": [
       "Bootstrapping rounds:   0%|          | 0/10000 [00:00<?, ?it/s]"
      ]
     },
     "metadata": {},
     "output_type": "display_data"
    },
    {
     "name": "stdout",
     "output_type": "stream",
     "text": [
      "Making results DF and curves\n"
     ]
    }
   ],
   "source": [
    "boot_pep = bootstrap_eval(pep[p].values, pep['agg_label'].values, n_rounds=10000, n_jobs=8, auc01=True).assign(input_type='Peptide', evalset='PRIME')"
   ]
  },
  {
   "cell_type": "code",
   "execution_count": 17,
   "id": "f5d035c0-095b-442c-8d50-1d4f735d5412",
   "metadata": {},
   "outputs": [],
   "source": [
    "\n",
    "boot = pd.concat([boot_icore, boot_pep], axis=0).assign(weight='None', key='only_rank')\n",
    "boot.to_csv('./PRIME_filtered_baseline.csv')"
   ]
  },
  {
   "cell_type": "code",
   "execution_count": 18,
   "id": "17b033e5-ebfc-48ce-8629-808cfc369470",
   "metadata": {},
   "outputs": [
    {
     "data": {
      "text/html": [
       "<div>\n",
       "<style scoped>\n",
       "    .dataframe tbody tr th:only-of-type {\n",
       "        vertical-align: middle;\n",
       "    }\n",
       "\n",
       "    .dataframe tbody tr th {\n",
       "        vertical-align: top;\n",
       "    }\n",
       "\n",
       "    .dataframe thead th {\n",
       "        text-align: right;\n",
       "    }\n",
       "</style>\n",
       "<table border=\"1\" class=\"dataframe\">\n",
       "  <thead>\n",
       "    <tr style=\"text-align: right;\">\n",
       "      <th></th>\n",
       "      <th>auc</th>\n",
       "      <th>auc_01</th>\n",
       "      <th>precision</th>\n",
       "      <th>accuracy</th>\n",
       "      <th>AP</th>\n",
       "      <th>id</th>\n",
       "      <th>input_type</th>\n",
       "      <th>evalset</th>\n",
       "      <th>weight</th>\n",
       "      <th>key</th>\n",
       "    </tr>\n",
       "  </thead>\n",
       "  <tbody>\n",
       "    <tr>\n",
       "      <th>0</th>\n",
       "      <td>0.679144</td>\n",
       "      <td>0.558129</td>\n",
       "      <td>0.024479</td>\n",
       "      <td>0.552902</td>\n",
       "      <td>0.111860</td>\n",
       "      <td>0_16532143381525</td>\n",
       "      <td>icore_mut</td>\n",
       "      <td>PRIME</td>\n",
       "      <td>None</td>\n",
       "      <td>only_rank</td>\n",
       "    </tr>\n",
       "    <tr>\n",
       "      <th>0</th>\n",
       "      <td>0.591759</td>\n",
       "      <td>0.513602</td>\n",
       "      <td>0.019626</td>\n",
       "      <td>0.562371</td>\n",
       "      <td>0.020797</td>\n",
       "      <td>1_1061590028695</td>\n",
       "      <td>icore_mut</td>\n",
       "      <td>PRIME</td>\n",
       "      <td>None</td>\n",
       "      <td>only_rank</td>\n",
       "    </tr>\n",
       "    <tr>\n",
       "      <th>0</th>\n",
       "      <td>0.616249</td>\n",
       "      <td>0.523740</td>\n",
       "      <td>0.024479</td>\n",
       "      <td>0.553726</td>\n",
       "      <td>0.027490</td>\n",
       "      <td>2_16082104450083</td>\n",
       "      <td>icore_mut</td>\n",
       "      <td>PRIME</td>\n",
       "      <td>None</td>\n",
       "      <td>only_rank</td>\n",
       "    </tr>\n",
       "    <tr>\n",
       "      <th>0</th>\n",
       "      <td>0.606370</td>\n",
       "      <td>0.514651</td>\n",
       "      <td>0.016409</td>\n",
       "      <td>0.576369</td>\n",
       "      <td>0.053064</td>\n",
       "      <td>3_1898856662319</td>\n",
       "      <td>icore_mut</td>\n",
       "      <td>PRIME</td>\n",
       "      <td>None</td>\n",
       "      <td>only_rank</td>\n",
       "    </tr>\n",
       "    <tr>\n",
       "      <th>0</th>\n",
       "      <td>0.665110</td>\n",
       "      <td>0.522967</td>\n",
       "      <td>0.017824</td>\n",
       "      <td>0.565253</td>\n",
       "      <td>0.021665</td>\n",
       "      <td>4_1146994453171</td>\n",
       "      <td>icore_mut</td>\n",
       "      <td>PRIME</td>\n",
       "      <td>None</td>\n",
       "      <td>only_rank</td>\n",
       "    </tr>\n",
       "    <tr>\n",
       "      <th>...</th>\n",
       "      <td>...</td>\n",
       "      <td>...</td>\n",
       "      <td>...</td>\n",
       "      <td>...</td>\n",
       "      <td>...</td>\n",
       "      <td>...</td>\n",
       "      <td>...</td>\n",
       "      <td>...</td>\n",
       "      <td>...</td>\n",
       "      <td>...</td>\n",
       "    </tr>\n",
       "    <tr>\n",
       "      <th>0</th>\n",
       "      <td>0.655246</td>\n",
       "      <td>0.536961</td>\n",
       "      <td>0.024668</td>\n",
       "      <td>0.573899</td>\n",
       "      <td>0.058998</td>\n",
       "      <td>9995_22751068879253</td>\n",
       "      <td>Peptide</td>\n",
       "      <td>PRIME</td>\n",
       "      <td>None</td>\n",
       "      <td>only_rank</td>\n",
       "    </tr>\n",
       "    <tr>\n",
       "      <th>0</th>\n",
       "      <td>0.673729</td>\n",
       "      <td>0.558084</td>\n",
       "      <td>0.018147</td>\n",
       "      <td>0.573487</td>\n",
       "      <td>0.034999</td>\n",
       "      <td>9996_7172282207344</td>\n",
       "      <td>Peptide</td>\n",
       "      <td>PRIME</td>\n",
       "      <td>None</td>\n",
       "      <td>only_rank</td>\n",
       "    </tr>\n",
       "    <tr>\n",
       "      <th>0</th>\n",
       "      <td>0.616154</td>\n",
       "      <td>0.540668</td>\n",
       "      <td>0.016473</td>\n",
       "      <td>0.575957</td>\n",
       "      <td>0.056995</td>\n",
       "      <td>9997_12831301130163</td>\n",
       "      <td>Peptide</td>\n",
       "      <td>PRIME</td>\n",
       "      <td>None</td>\n",
       "      <td>only_rank</td>\n",
       "    </tr>\n",
       "    <tr>\n",
       "      <th>0</th>\n",
       "      <td>0.675094</td>\n",
       "      <td>0.560425</td>\n",
       "      <td>0.026490</td>\n",
       "      <td>0.571429</td>\n",
       "      <td>0.066224</td>\n",
       "      <td>9998_12411499925411</td>\n",
       "      <td>Peptide</td>\n",
       "      <td>PRIME</td>\n",
       "      <td>None</td>\n",
       "      <td>only_rank</td>\n",
       "    </tr>\n",
       "    <tr>\n",
       "      <th>0</th>\n",
       "      <td>0.632978</td>\n",
       "      <td>0.538425</td>\n",
       "      <td>0.013397</td>\n",
       "      <td>0.571429</td>\n",
       "      <td>0.019670</td>\n",
       "      <td>9999_86810094054</td>\n",
       "      <td>Peptide</td>\n",
       "      <td>PRIME</td>\n",
       "      <td>None</td>\n",
       "      <td>only_rank</td>\n",
       "    </tr>\n",
       "  </tbody>\n",
       "</table>\n",
       "<p>20000 rows × 10 columns</p>\n",
       "</div>"
      ],
      "text/plain": [
       "         auc    auc_01  precision  accuracy        AP                   id  \\\n",
       "0   0.679144  0.558129   0.024479  0.552902  0.111860     0_16532143381525   \n",
       "0   0.591759  0.513602   0.019626  0.562371  0.020797      1_1061590028695   \n",
       "0   0.616249  0.523740   0.024479  0.553726  0.027490     2_16082104450083   \n",
       "0   0.606370  0.514651   0.016409  0.576369  0.053064      3_1898856662319   \n",
       "0   0.665110  0.522967   0.017824  0.565253  0.021665      4_1146994453171   \n",
       "..       ...       ...        ...       ...       ...                  ...   \n",
       "0   0.655246  0.536961   0.024668  0.573899  0.058998  9995_22751068879253   \n",
       "0   0.673729  0.558084   0.018147  0.573487  0.034999   9996_7172282207344   \n",
       "0   0.616154  0.540668   0.016473  0.575957  0.056995  9997_12831301130163   \n",
       "0   0.675094  0.560425   0.026490  0.571429  0.066224  9998_12411499925411   \n",
       "0   0.632978  0.538425   0.013397  0.571429  0.019670     9999_86810094054   \n",
       "\n",
       "   input_type evalset weight        key  \n",
       "0   icore_mut   PRIME   None  only_rank  \n",
       "0   icore_mut   PRIME   None  only_rank  \n",
       "0   icore_mut   PRIME   None  only_rank  \n",
       "0   icore_mut   PRIME   None  only_rank  \n",
       "0   icore_mut   PRIME   None  only_rank  \n",
       "..        ...     ...    ...        ...  \n",
       "0     Peptide   PRIME   None  only_rank  \n",
       "0     Peptide   PRIME   None  only_rank  \n",
       "0     Peptide   PRIME   None  only_rank  \n",
       "0     Peptide   PRIME   None  only_rank  \n",
       "0     Peptide   PRIME   None  only_rank  \n",
       "\n",
       "[20000 rows x 10 columns]"
      ]
     },
     "execution_count": 18,
     "metadata": {},
     "output_type": "execute_result"
    }
   ],
   "source": [
    "boot"
   ]
  }
 ],
 "metadata": {
  "kernelspec": {
   "display_name": "Python [conda env:phd] *",
   "language": "python",
   "name": "conda-env-phd-py"
  },
  "language_info": {
   "codemirror_mode": {
    "name": "ipython",
    "version": 3
   },
   "file_extension": ".py",
   "mimetype": "text/x-python",
   "name": "python",
   "nbconvert_exporter": "python",
   "pygments_lexer": "ipython3",
   "version": "3.10.12"
  }
 },
 "nbformat": 4,
 "nbformat_minor": 5
}

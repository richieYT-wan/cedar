{
 "cells": [
  {
   "cell_type": "code",
   "execution_count": 9,
   "id": "2d187d3f-848b-4993-8bb2-b59f34702e3d",
   "metadata": {},
   "outputs": [
    {
     "name": "stdout",
     "output_type": "stream",
     "text": [
      "The autoreload extension is already loaded. To reload it, use:\n",
      "  %reload_ext autoreload\n"
     ]
    },
    {
     "data": {
      "image/png": "[encoded data removed]",
      "text/plain": [
       "<Figure size 1.8x1.8 with 1 Axes>"
      ]
     },
     "metadata": {},
     "output_type": "display_data"
    }
   ],
   "source": [
    "%load_ext autoreload\n",
    "%autoreload 2\n",
    "\n",
    "import pandas as pd\n",
    "import dataframe_image as dfi\n",
    "import numpy as np\n",
    "import sklearn\n",
    "import matplotlib.pyplot as plt\n",
    "import matplotlib as mpl\n",
    "import seaborn as sns\n",
    "f,a = plt.subplots(1,1,figsize=(1e-2, 1e-2))\n",
    "mpl.rcParams['figure.dpi'] = 180\n",
    "sns.set_style('darkgrid')\n",
    "import os,sys\n",
    "module_path = os.path.abspath(os.path.join('..'))\n",
    "if module_path not in sys.path:\n",
    "    sys.path.append(module_path)\n",
    "import warnings\n",
    "warnings.filterwarnings(\"ignore\")\n",
    "\n",
    "from tqdm.auto import tqdm\n",
    "from datetime import datetime as dt\n",
    "from src.utils import mkdirs, convert_path, pkl_dump, pkl_load, display_side, add_median_labels\n",
    "from src.data_processing import get_dataset, BL62_VALUES, BL62FREQ_VALUES, HLAS, AA_KEYS, get_aa_properties\n",
    "from src.metrics import get_predictions, get_roc, get_metrics, plot_roc_auc_fold, get_mean_roc_curve\n",
    "from src.metrics import get_nested_feature_importance, plot_feature_importance\n",
    "from src.partition_tools import pipeline_stratified_kfold\n",
    "from src.utils import pkl_load, pkl_dump, get_palette\n",
    "from src.bootstrap import bootstrap_eval, get_pval, plot_pval\n",
    "from src.baselines import plot_baseline_roc, plot_related_baseline_roc\n",
    "from src.models import FFNetPipeline\n",
    "\n",
    "PAL = sns.color_palette('hsv', n_colors=13)\n",
    "HSV = [PAL[-4], PAL[-1], PAL[0], PAL [4]]\n",
    "tmppal = sns.color_palette('hsv', n_colors=15)\n",
    "NEWPAL = HSV + [tmppal[-3], tmppal[7]]\n",
    "mpl.rcParams['figure.dpi'] = 180"
   ]
  },
  {
   "cell_type": "code",
   "execution_count": 49,
   "id": "a277f335-4b9e-4911-9fcc-915b84a7e8bc",
   "metadata": {},
   "outputs": [
    {
     "data": {
      "text/plain": [
       "4"
      ]
     },
     "execution_count": 49,
     "metadata": {},
     "output_type": "execute_result"
    }
   ],
   "source": [
    "def sum_fct(result, xd1, xd2):\n",
    "    return result+xd1+xd2\n",
    "\n",
    "\n",
    "def my_fct2(a, b, **kwargs):\n",
    "    result = a+b\n",
    "    output = sum_fct(result, **kwargs)\n",
    "    return output\n",
    "\n",
    "my_fct2(1,1, **{'xd1':1, 'xd2':1})"
   ]
  },
  {
   "cell_type": "code",
   "execution_count": 10,
   "id": "6c4ee17f-7e48-4eb1-9eb4-4601515e2104",
   "metadata": {
    "tags": []
   },
   "outputs": [
    {
     "data": {
      "image/png": "[encoded data removed]",
      "text/plain": [
       "<Figure size 1.8e-05x1.8e-05 with 1 Axes>"
      ]
     },
     "metadata": {},
     "output_type": "display_data"
    }
   ],
   "source": [
    "sns.set_palette(NEWPAL)\n",
    "f,a = plt.subplots(1,1,figsize=(1e-7,1e-7))"
   ]
  },
  {
   "cell_type": "code",
   "execution_count": 11,
   "id": "e2256650-f4b2-4512-a650-31ecbc25e1e6",
   "metadata": {},
   "outputs": [],
   "source": [
    "from sklearn.metrics import roc_auc_score, roc_curve\n",
    "def get_roc_curve_auc(df, targetcol, scorecol, neg=False):\n",
    "    if neg:\n",
    "        fpr, tpr, _ = roc_curve(df[targetcol], -1* df[scorecol])\n",
    "        auc = roc_auc_score(df[targetcol], -1* df[scorecol])\n",
    "        auc01 = roc_auc_score(df[targetcol], -1* df[scorecol], max_fpr=0.1)\n",
    "    else:\n",
    "        fpr, tpr, _ = roc_curve(df[targetcol], df[scorecol])\n",
    "        auc = roc_auc_score(df[targetcol], df[scorecol])\n",
    "        auc01 = roc_auc_score(df[targetcol], df[scorecol], max_fpr=0.1)\n",
    "    return fpr, tpr, auc, auc01"
   ]
  },
  {
   "cell_type": "code",
   "execution_count": 12,
   "id": "b05dba5d-d935-46fb-b969-7731b175ef51",
   "metadata": {},
   "outputs": [
    {
     "data": {
      "application/vnd.jupyter.widget-view+json": {
       "model_id": "4eeeb35b8ba540a78085fb512f9eef46",
       "version_major": 2,
       "version_minor": 0
      },
      "text/plain": [
       "  0%|          | 0/100 [00:00<?, ?it/s]"
      ]
     },
     "metadata": {},
     "output_type": "display_data"
    }
   ],
   "source": [
    "for f in tqdm(range(100)):\n",
    "    pass"
   ]
  },
  {
   "cell_type": "markdown",
   "id": "b3de09e6-e070-4a1f-a4e3-3422a6667af5",
   "metadata": {
    "jp-MarkdownHeadingCollapsed": true,
    "tags": []
   },
   "source": [
    "# load/filtering"
   ]
  },
  {
   "cell_type": "code",
   "execution_count": 15,
   "id": "7367772a-2471-4ccc-9d42-488c7d8186f5",
   "metadata": {},
   "outputs": [],
   "source": [
    "from src.utils import flatten_level_columns"
   ]
  },
  {
   "cell_type": "code",
   "execution_count": 35,
   "id": "68a0adb0-45f4-4f02-8816-0b3f03348bd3",
   "metadata": {},
   "outputs": [],
   "source": [
    "# Data downloaded from CEDAR on 13/06/2023 with the filtering\n",
    "# Epitope structure: Linear\n",
    "# Epitope source : Neoantigen\n",
    "# Assay : TCell & MHC, positive and negative\n",
    "# MHC Class I\n",
    "# Cancer exposure : any\n",
    "# Reference : Any\n",
    "\n",
    "epitope_raw = flatten_level_columns(pd.read_csv('../data/new_filtering/230613_epitope.csv', header = [0,1]))\n",
    "epitope = epitope_raw.drop(columns = filter(lambda x: 'iri' in x, epitope_raw.columns)).copy(deep=True)\n",
    "assays_raw = flatten_level_columns(pd.read_csv('../data/new_filtering/230613_assays.csv', header = [0,1]))\n",
    "assays = assays_raw.drop(columns = filter(lambda x: 'iri' in x, assays_raw.columns)).copy(deep=True)\n",
    "antigens_raw = flatten_level_columns(pd.read_csv('../data/new_filtering/230613_antigen.csv', header = [0,1]))\n",
    "antigens = antigens_raw.drop(columns = filter(lambda x: 'iri' in x, antigens_raw.columns)).copy(deep=True)"
   ]
  },
  {
   "cell_type": "code",
   "execution_count": 36,
   "id": "52c572f9-cfa0-46ce-be84-d41299fd3bc8",
   "metadata": {
    "collapsed": true,
    "jupyter": {
     "outputs_hidden": true
    },
    "tags": []
   },
   "outputs": [
    {
     "data": {
      "text/html": [
       "<div>\n",
       "<style scoped>\n",
       "    .dataframe tbody tr th:only-of-type {\n",
       "        vertical-align: middle;\n",
       "    }\n",
       "\n",
       "    .dataframe tbody tr th {\n",
       "        vertical-align: top;\n",
       "    }\n",
       "\n",
       "    .dataframe thead th {\n",
       "        text-align: right;\n",
       "    }\n",
       "</style>\n",
       "<table border=\"1\" class=\"dataframe\">\n",
       "  <thead>\n",
       "    <tr style=\"text-align: right;\">\n",
       "      <th></th>\n",
       "      <th>epitope_object type</th>\n",
       "      <th>epitope_description</th>\n",
       "      <th>epitope_epitope modified residue(s)</th>\n",
       "      <th>epitope_epitope modification(s)</th>\n",
       "      <th>epitope_starting position</th>\n",
       "      <th>epitope_ending position</th>\n",
       "      <th>epitope_epitope synonyms</th>\n",
       "      <th>epitope_antigen name</th>\n",
       "      <th>epitope_parent protein</th>\n",
       "      <th>epitope_organism name</th>\n",
       "      <th>...</th>\n",
       "      <th>related object_epitope relationship</th>\n",
       "      <th>related object_object type</th>\n",
       "      <th>related object_description</th>\n",
       "      <th>related object_starting position</th>\n",
       "      <th>related object_ending position</th>\n",
       "      <th>related object_synonyms</th>\n",
       "      <th>related object_antigen name</th>\n",
       "      <th>related object_parent protein</th>\n",
       "      <th>related object_organism name</th>\n",
       "      <th>related object_parent organism</th>\n",
       "    </tr>\n",
       "  </thead>\n",
       "  <tbody>\n",
       "    <tr>\n",
       "      <th>0</th>\n",
       "      <td>Linear peptide</td>\n",
       "      <td>ACDPHSGHFV</td>\n",
       "      <td>NaN</td>\n",
       "      <td>NaN</td>\n",
       "      <td>NaN</td>\n",
       "      <td>NaN</td>\n",
       "      <td>NaN</td>\n",
       "      <td>NaN</td>\n",
       "      <td>NaN</td>\n",
       "      <td>NaN</td>\n",
       "      <td>...</td>\n",
       "      <td>unspecified neo-epitope</td>\n",
       "      <td>Fragment of a Natural Sequence Molecule</td>\n",
       "      <td>ARDPHSGHFV</td>\n",
       "      <td>23.0</td>\n",
       "      <td>32.0</td>\n",
       "      <td>Cell division protein kinase 4, PSK-J3, CDK4</td>\n",
       "      <td>Cyclin-dependent kinase 4</td>\n",
       "      <td>Cyclin-dependent kinase 4</td>\n",
       "      <td>Homo sapiens (human)</td>\n",
       "      <td>Homo sapiens</td>\n",
       "    </tr>\n",
       "    <tr>\n",
       "      <th>1</th>\n",
       "      <td>Linear peptide</td>\n",
       "      <td>ATGFKQSSK</td>\n",
       "      <td>NaN</td>\n",
       "      <td>NaN</td>\n",
       "      <td>NaN</td>\n",
       "      <td>NaN</td>\n",
       "      <td>NaN</td>\n",
       "      <td>NaN</td>\n",
       "      <td>NaN</td>\n",
       "      <td>NaN</td>\n",
       "      <td>...</td>\n",
       "      <td>fusion neo-epitope</td>\n",
       "      <td>Multi-Chain Molecule</td>\n",
       "      <td>NaN</td>\n",
       "      <td>NaN</td>\n",
       "      <td>NaN</td>\n",
       "      <td>Abelson murine leukemia viral oncogene homolog...</td>\n",
       "      <td>Tyrosine-protein kinase ABL1</td>\n",
       "      <td>Tyrosine-protein kinase ABL1</td>\n",
       "      <td>Homo sapiens (human)</td>\n",
       "      <td>Homo sapiens</td>\n",
       "    </tr>\n",
       "    <tr>\n",
       "      <th>2</th>\n",
       "      <td>Linear peptide</td>\n",
       "      <td>ELAGIGILTV</td>\n",
       "      <td>NaN</td>\n",
       "      <td>NaN</td>\n",
       "      <td>NaN</td>\n",
       "      <td>NaN</td>\n",
       "      <td>NaN</td>\n",
       "      <td>NaN</td>\n",
       "      <td>NaN</td>\n",
       "      <td>NaN</td>\n",
       "      <td>...</td>\n",
       "      <td>unspecified neo-epitope</td>\n",
       "      <td>Fragment of a Natural Sequence Molecule</td>\n",
       "      <td>AAGIGILTV</td>\n",
       "      <td>27.0</td>\n",
       "      <td>35.0</td>\n",
       "      <td>Antigen LB39-AA, Antigen SK29-AA, Protein Mela...</td>\n",
       "      <td>Melanoma antigen recognized by T-cells 1</td>\n",
       "      <td>Melanoma antigen recognized by T-cells 1</td>\n",
       "      <td>Homo sapiens (human)</td>\n",
       "      <td>Homo sapiens</td>\n",
       "    </tr>\n",
       "    <tr>\n",
       "      <th>3</th>\n",
       "      <td>Linear peptide</td>\n",
       "      <td>GFKQSSKAL</td>\n",
       "      <td>NaN</td>\n",
       "      <td>NaN</td>\n",
       "      <td>NaN</td>\n",
       "      <td>NaN</td>\n",
       "      <td>NaN</td>\n",
       "      <td>NaN</td>\n",
       "      <td>NaN</td>\n",
       "      <td>NaN</td>\n",
       "      <td>...</td>\n",
       "      <td>fusion neo-epitope</td>\n",
       "      <td>Multi-Chain Molecule</td>\n",
       "      <td>NaN</td>\n",
       "      <td>NaN</td>\n",
       "      <td>NaN</td>\n",
       "      <td>Abelson murine leukemia viral oncogene homolog...</td>\n",
       "      <td>Tyrosine-protein kinase ABL1</td>\n",
       "      <td>Tyrosine-protein kinase ABL1</td>\n",
       "      <td>Homo sapiens (human)</td>\n",
       "      <td>Homo sapiens</td>\n",
       "    </tr>\n",
       "    <tr>\n",
       "      <th>4</th>\n",
       "      <td>Linear peptide</td>\n",
       "      <td>IMDQVPFSV</td>\n",
       "      <td>NaN</td>\n",
       "      <td>NaN</td>\n",
       "      <td>NaN</td>\n",
       "      <td>NaN</td>\n",
       "      <td>NaN</td>\n",
       "      <td>NaN</td>\n",
       "      <td>NaN</td>\n",
       "      <td>NaN</td>\n",
       "      <td>...</td>\n",
       "      <td>unspecified neo-epitope</td>\n",
       "      <td>Fragment of a Natural Sequence Molecule</td>\n",
       "      <td>ITDQVPFSV</td>\n",
       "      <td>209.0</td>\n",
       "      <td>217.0</td>\n",
       "      <td>ME20-M, Melanocyte protein Pmel 17, Melanocyte...</td>\n",
       "      <td>Melanocyte protein PMEL</td>\n",
       "      <td>Melanocyte protein PMEL</td>\n",
       "      <td>Homo sapiens (human)</td>\n",
       "      <td>Homo sapiens</td>\n",
       "    </tr>\n",
       "  </tbody>\n",
       "</table>\n",
       "<p>5 rows × 22 columns</p>\n",
       "</div>"
      ],
      "text/plain": [
       "  epitope_object type epitope_description epitope_epitope modified residue(s)  \\\n",
       "0      Linear peptide          ACDPHSGHFV                                 NaN   \n",
       "1      Linear peptide           ATGFKQSSK                                 NaN   \n",
       "2      Linear peptide          ELAGIGILTV                                 NaN   \n",
       "3      Linear peptide           GFKQSSKAL                                 NaN   \n",
       "4      Linear peptide           IMDQVPFSV                                 NaN   \n",
       "\n",
       "  epitope_epitope modification(s)  epitope_starting position  \\\n",
       "0                             NaN                        NaN   \n",
       "1                             NaN                        NaN   \n",
       "2                             NaN                        NaN   \n",
       "3                             NaN                        NaN   \n",
       "4                             NaN                        NaN   \n",
       "\n",
       "   epitope_ending position  epitope_epitope synonyms epitope_antigen name  \\\n",
       "0                      NaN                       NaN                  NaN   \n",
       "1                      NaN                       NaN                  NaN   \n",
       "2                      NaN                       NaN                  NaN   \n",
       "3                      NaN                       NaN                  NaN   \n",
       "4                      NaN                       NaN                  NaN   \n",
       "\n",
       "  epitope_parent protein epitope_organism name  ...  \\\n",
       "0                    NaN                   NaN  ...   \n",
       "1                    NaN                   NaN  ...   \n",
       "2                    NaN                   NaN  ...   \n",
       "3                    NaN                   NaN  ...   \n",
       "4                    NaN                   NaN  ...   \n",
       "\n",
       "  related object_epitope relationship  \\\n",
       "0             unspecified neo-epitope   \n",
       "1                  fusion neo-epitope   \n",
       "2             unspecified neo-epitope   \n",
       "3                  fusion neo-epitope   \n",
       "4             unspecified neo-epitope   \n",
       "\n",
       "                related object_object type related object_description  \\\n",
       "0  Fragment of a Natural Sequence Molecule                 ARDPHSGHFV   \n",
       "1                     Multi-Chain Molecule                        NaN   \n",
       "2  Fragment of a Natural Sequence Molecule                  AAGIGILTV   \n",
       "3                     Multi-Chain Molecule                        NaN   \n",
       "4  Fragment of a Natural Sequence Molecule                  ITDQVPFSV   \n",
       "\n",
       "  related object_starting position related object_ending position  \\\n",
       "0                             23.0                           32.0   \n",
       "1                              NaN                            NaN   \n",
       "2                             27.0                           35.0   \n",
       "3                              NaN                            NaN   \n",
       "4                            209.0                          217.0   \n",
       "\n",
       "                             related object_synonyms  \\\n",
       "0       Cell division protein kinase 4, PSK-J3, CDK4   \n",
       "1  Abelson murine leukemia viral oncogene homolog...   \n",
       "2  Antigen LB39-AA, Antigen SK29-AA, Protein Mela...   \n",
       "3  Abelson murine leukemia viral oncogene homolog...   \n",
       "4  ME20-M, Melanocyte protein Pmel 17, Melanocyte...   \n",
       "\n",
       "                related object_antigen name  \\\n",
       "0                 Cyclin-dependent kinase 4   \n",
       "1              Tyrosine-protein kinase ABL1   \n",
       "2  Melanoma antigen recognized by T-cells 1   \n",
       "3              Tyrosine-protein kinase ABL1   \n",
       "4                   Melanocyte protein PMEL   \n",
       "\n",
       "              related object_parent protein related object_organism name  \\\n",
       "0                 Cyclin-dependent kinase 4         Homo sapiens (human)   \n",
       "1              Tyrosine-protein kinase ABL1         Homo sapiens (human)   \n",
       "2  Melanoma antigen recognized by T-cells 1         Homo sapiens (human)   \n",
       "3              Tyrosine-protein kinase ABL1         Homo sapiens (human)   \n",
       "4                   Melanocyte protein PMEL         Homo sapiens (human)   \n",
       "\n",
       "  related object_parent organism  \n",
       "0                   Homo sapiens  \n",
       "1                   Homo sapiens  \n",
       "2                   Homo sapiens  \n",
       "3                   Homo sapiens  \n",
       "4                   Homo sapiens  \n",
       "\n",
       "[5 rows x 22 columns]"
      ]
     },
     "metadata": {},
     "output_type": "display_data"
    },
    {
     "data": {
      "text/html": [
       "<div>\n",
       "<style scoped>\n",
       "    .dataframe tbody tr th:only-of-type {\n",
       "        vertical-align: middle;\n",
       "    }\n",
       "\n",
       "    .dataframe tbody tr th {\n",
       "        vertical-align: top;\n",
       "    }\n",
       "\n",
       "    .dataframe thead th {\n",
       "        text-align: right;\n",
       "    }\n",
       "</style>\n",
       "<table border=\"1\" class=\"dataframe\">\n",
       "  <thead>\n",
       "    <tr style=\"text-align: right;\">\n",
       "      <th></th>\n",
       "      <th>reference_type</th>\n",
       "      <th>reference_pubmed id</th>\n",
       "      <th>reference_authors</th>\n",
       "      <th>reference_journal</th>\n",
       "      <th>reference_date</th>\n",
       "      <th>reference_title</th>\n",
       "      <th>reference_submission id</th>\n",
       "      <th>epitope_object type</th>\n",
       "      <th>epitope_description</th>\n",
       "      <th>epitope_starting position</th>\n",
       "      <th>...</th>\n",
       "      <th>assay antigen_antigen epitope relation</th>\n",
       "      <th>assay antigen_antigen object type</th>\n",
       "      <th>assay antigen_antigen description</th>\n",
       "      <th>assay antigen_starting position</th>\n",
       "      <th>assay antigen_ending position</th>\n",
       "      <th>assay antigen_antigen source molecule name</th>\n",
       "      <th>assay antigen_protein parent name</th>\n",
       "      <th>assay antigen_antigen organism name</th>\n",
       "      <th>assay antigen_organism species name</th>\n",
       "      <th>assay comments_assay comments</th>\n",
       "    </tr>\n",
       "  </thead>\n",
       "  <tbody>\n",
       "    <tr>\n",
       "      <th>0</th>\n",
       "      <td>Literature</td>\n",
       "      <td>15449035.0</td>\n",
       "      <td>Peter Hersey; Scott W Menzies; Brendon Coventr...</td>\n",
       "      <td>Cancer Immunol Immunother</td>\n",
       "      <td>2005</td>\n",
       "      <td>Phase I/II study of immunotherapy with T-cell ...</td>\n",
       "      <td>NaN</td>\n",
       "      <td>Linear peptide</td>\n",
       "      <td>IMDQVPFSV</td>\n",
       "      <td>NaN</td>\n",
       "      <td>...</td>\n",
       "      <td>Epitope</td>\n",
       "      <td>Linear peptide</td>\n",
       "      <td>IMDQVPFSV</td>\n",
       "      <td>NaN</td>\n",
       "      <td>NaN</td>\n",
       "      <td>NaN</td>\n",
       "      <td>NaN</td>\n",
       "      <td>NaN</td>\n",
       "      <td>NaN</td>\n",
       "      <td>NaN</td>\n",
       "    </tr>\n",
       "    <tr>\n",
       "      <th>1</th>\n",
       "      <td>Literature</td>\n",
       "      <td>15534491.0</td>\n",
       "      <td>Hung T Khong; James C Yang; Suzanne L Topalian...</td>\n",
       "      <td>J Immunother</td>\n",
       "      <td>2004</td>\n",
       "      <td>Immunization of HLA-A*0201 and/or HLA-DPbeta1*...</td>\n",
       "      <td>NaN</td>\n",
       "      <td>Linear peptide</td>\n",
       "      <td>SLLMWITQV</td>\n",
       "      <td>NaN</td>\n",
       "      <td>...</td>\n",
       "      <td>Epitope</td>\n",
       "      <td>Linear peptide</td>\n",
       "      <td>SLLMWITQV</td>\n",
       "      <td>NaN</td>\n",
       "      <td>NaN</td>\n",
       "      <td>NaN</td>\n",
       "      <td>NaN</td>\n",
       "      <td>NaN</td>\n",
       "      <td>NaN</td>\n",
       "      <td>NaN</td>\n",
       "    </tr>\n",
       "    <tr>\n",
       "      <th>2</th>\n",
       "      <td>Literature</td>\n",
       "      <td>15534491.0</td>\n",
       "      <td>Hung T Khong; James C Yang; Suzanne L Topalian...</td>\n",
       "      <td>J Immunother</td>\n",
       "      <td>2004</td>\n",
       "      <td>Immunization of HLA-A*0201 and/or HLA-DPbeta1*...</td>\n",
       "      <td>NaN</td>\n",
       "      <td>Linear peptide</td>\n",
       "      <td>SLLMWITQV</td>\n",
       "      <td>NaN</td>\n",
       "      <td>...</td>\n",
       "      <td>Epitope</td>\n",
       "      <td>Linear peptide</td>\n",
       "      <td>SLLMWITQV</td>\n",
       "      <td>NaN</td>\n",
       "      <td>NaN</td>\n",
       "      <td>NaN</td>\n",
       "      <td>NaN</td>\n",
       "      <td>NaN</td>\n",
       "      <td>NaN</td>\n",
       "      <td>NaN</td>\n",
       "    </tr>\n",
       "    <tr>\n",
       "      <th>3</th>\n",
       "      <td>Literature</td>\n",
       "      <td>15837811.0</td>\n",
       "      <td>Ji-Li Chen; Guillaume Stewart-Jones; Giovanna ...</td>\n",
       "      <td>J Exp Med</td>\n",
       "      <td>2005</td>\n",
       "      <td>Structural and kinetic basis for heightened im...</td>\n",
       "      <td>NaN</td>\n",
       "      <td>Linear peptide</td>\n",
       "      <td>SLLMWITQV</td>\n",
       "      <td>NaN</td>\n",
       "      <td>...</td>\n",
       "      <td>Epitope</td>\n",
       "      <td>Linear peptide</td>\n",
       "      <td>SLLMWITQV</td>\n",
       "      <td>NaN</td>\n",
       "      <td>NaN</td>\n",
       "      <td>NaN</td>\n",
       "      <td>NaN</td>\n",
       "      <td>NaN</td>\n",
       "      <td>NaN</td>\n",
       "      <td>The crystal structure of the 1G4 TCR bound to ...</td>\n",
       "    </tr>\n",
       "    <tr>\n",
       "      <th>4</th>\n",
       "      <td>Literature</td>\n",
       "      <td>16600963.0</td>\n",
       "      <td>Steven M Dunn; Pierre J Rizkallah; Emma Baston...</td>\n",
       "      <td>Protein Sci</td>\n",
       "      <td>2006</td>\n",
       "      <td>Directed evolution of human T cell receptor CD...</td>\n",
       "      <td>NaN</td>\n",
       "      <td>Linear peptide</td>\n",
       "      <td>SLLMWITQV</td>\n",
       "      <td>NaN</td>\n",
       "      <td>...</td>\n",
       "      <td>Epitope</td>\n",
       "      <td>Linear peptide</td>\n",
       "      <td>SLLMWITQV</td>\n",
       "      <td>NaN</td>\n",
       "      <td>NaN</td>\n",
       "      <td>NaN</td>\n",
       "      <td>NaN</td>\n",
       "      <td>NaN</td>\n",
       "      <td>NaN</td>\n",
       "      <td>The epitope-specific mutant c49c50 TCR bound t...</td>\n",
       "    </tr>\n",
       "  </tbody>\n",
       "</table>\n",
       "<p>5 rows × 97 columns</p>\n",
       "</div>"
      ],
      "text/plain": [
       "  reference_type  reference_pubmed id  \\\n",
       "0     Literature           15449035.0   \n",
       "1     Literature           15534491.0   \n",
       "2     Literature           15534491.0   \n",
       "3     Literature           15837811.0   \n",
       "4     Literature           16600963.0   \n",
       "\n",
       "                                   reference_authors  \\\n",
       "0  Peter Hersey; Scott W Menzies; Brendon Coventr...   \n",
       "1  Hung T Khong; James C Yang; Suzanne L Topalian...   \n",
       "2  Hung T Khong; James C Yang; Suzanne L Topalian...   \n",
       "3  Ji-Li Chen; Guillaume Stewart-Jones; Giovanna ...   \n",
       "4  Steven M Dunn; Pierre J Rizkallah; Emma Baston...   \n",
       "\n",
       "           reference_journal  reference_date  \\\n",
       "0  Cancer Immunol Immunother            2005   \n",
       "1               J Immunother            2004   \n",
       "2               J Immunother            2004   \n",
       "3                  J Exp Med            2005   \n",
       "4                Protein Sci            2006   \n",
       "\n",
       "                                     reference_title  reference_submission id  \\\n",
       "0  Phase I/II study of immunotherapy with T-cell ...                      NaN   \n",
       "1  Immunization of HLA-A*0201 and/or HLA-DPbeta1*...                      NaN   \n",
       "2  Immunization of HLA-A*0201 and/or HLA-DPbeta1*...                      NaN   \n",
       "3  Structural and kinetic basis for heightened im...                      NaN   \n",
       "4  Directed evolution of human T cell receptor CD...                      NaN   \n",
       "\n",
       "  epitope_object type epitope_description  epitope_starting position  ...  \\\n",
       "0      Linear peptide           IMDQVPFSV                        NaN  ...   \n",
       "1      Linear peptide           SLLMWITQV                        NaN  ...   \n",
       "2      Linear peptide           SLLMWITQV                        NaN  ...   \n",
       "3      Linear peptide           SLLMWITQV                        NaN  ...   \n",
       "4      Linear peptide           SLLMWITQV                        NaN  ...   \n",
       "\n",
       "   assay antigen_antigen epitope relation assay antigen_antigen object type  \\\n",
       "0                                 Epitope                    Linear peptide   \n",
       "1                                 Epitope                    Linear peptide   \n",
       "2                                 Epitope                    Linear peptide   \n",
       "3                                 Epitope                    Linear peptide   \n",
       "4                                 Epitope                    Linear peptide   \n",
       "\n",
       "  assay antigen_antigen description assay antigen_starting position  \\\n",
       "0                         IMDQVPFSV                             NaN   \n",
       "1                         SLLMWITQV                             NaN   \n",
       "2                         SLLMWITQV                             NaN   \n",
       "3                         SLLMWITQV                             NaN   \n",
       "4                         SLLMWITQV                             NaN   \n",
       "\n",
       "  assay antigen_ending position assay antigen_antigen source molecule name  \\\n",
       "0                           NaN                                        NaN   \n",
       "1                           NaN                                        NaN   \n",
       "2                           NaN                                        NaN   \n",
       "3                           NaN                                        NaN   \n",
       "4                           NaN                                        NaN   \n",
       "\n",
       "  assay antigen_protein parent name assay antigen_antigen organism name  \\\n",
       "0                               NaN                                 NaN   \n",
       "1                               NaN                                 NaN   \n",
       "2                               NaN                                 NaN   \n",
       "3                               NaN                                 NaN   \n",
       "4                               NaN                                 NaN   \n",
       "\n",
       "  assay antigen_organism species name  \\\n",
       "0                                 NaN   \n",
       "1                                 NaN   \n",
       "2                                 NaN   \n",
       "3                                 NaN   \n",
       "4                                 NaN   \n",
       "\n",
       "                       assay comments_assay comments  \n",
       "0                                                NaN  \n",
       "1                                                NaN  \n",
       "2                                                NaN  \n",
       "3  The crystal structure of the 1G4 TCR bound to ...  \n",
       "4  The epitope-specific mutant c49c50 TCR bound t...  \n",
       "\n",
       "[5 rows x 97 columns]"
      ]
     },
     "metadata": {},
     "output_type": "display_data"
    },
    {
     "data": {
      "text/html": [
       "<div>\n",
       "<style scoped>\n",
       "    .dataframe tbody tr th:only-of-type {\n",
       "        vertical-align: middle;\n",
       "    }\n",
       "\n",
       "    .dataframe tbody tr th {\n",
       "        vertical-align: top;\n",
       "    }\n",
       "\n",
       "    .dataframe thead th {\n",
       "        text-align: right;\n",
       "    }\n",
       "</style>\n",
       "<table border=\"1\" class=\"dataframe\">\n",
       "  <thead>\n",
       "    <tr style=\"text-align: right;\">\n",
       "      <th></th>\n",
       "      <th>antigen_antigen name</th>\n",
       "      <th>antigen_antigen id</th>\n",
       "      <th>antigen_organism name</th>\n",
       "      <th>antigen_organism id</th>\n",
       "      <th>antigen_# epitopes</th>\n",
       "      <th>antigen_# assays</th>\n",
       "      <th>antigen_# references</th>\n",
       "    </tr>\n",
       "  </thead>\n",
       "  <tbody>\n",
       "    <tr>\n",
       "      <th>0</th>\n",
       "      <td>Cytochrome b-c1 complex subunit 7</td>\n",
       "      <td>http://www.uniprot.org/uniprot/P14927</td>\n",
       "      <td>Homo sapiens (human)</td>\n",
       "      <td>http://purl.obolibrary.org/obo/NCBITaxon_9606</td>\n",
       "      <td>1</td>\n",
       "      <td>1</td>\n",
       "      <td>1</td>\n",
       "    </tr>\n",
       "    <tr>\n",
       "      <th>1</th>\n",
       "      <td>Bcl-2-like protein 13 (UniProt:Q9BXK5)</td>\n",
       "      <td>http://www.uniprot.org/uniprot/Q9BXK5</td>\n",
       "      <td>Homo sapiens (human)</td>\n",
       "      <td>http://purl.obolibrary.org/obo/NCBITaxon_9606</td>\n",
       "      <td>1</td>\n",
       "      <td>1</td>\n",
       "      <td>1</td>\n",
       "    </tr>\n",
       "    <tr>\n",
       "      <th>2</th>\n",
       "      <td>E3 ubiquitin protein ligase</td>\n",
       "      <td>http://www.uniprot.org/uniprot/H3BP71</td>\n",
       "      <td>Homo sapiens (human)</td>\n",
       "      <td>http://purl.obolibrary.org/obo/NCBITaxon_9606</td>\n",
       "      <td>1</td>\n",
       "      <td>2</td>\n",
       "      <td>1</td>\n",
       "    </tr>\n",
       "    <tr>\n",
       "      <th>3</th>\n",
       "      <td>Unidentified protein</td>\n",
       "      <td>https://ontology.iedb.org/taxon-protein/32644</td>\n",
       "      <td>Unidentified</td>\n",
       "      <td>http://purl.obolibrary.org/obo/NCBITaxon_32644</td>\n",
       "      <td>11</td>\n",
       "      <td>18</td>\n",
       "      <td>1</td>\n",
       "    </tr>\n",
       "    <tr>\n",
       "      <th>4</th>\n",
       "      <td>Receptor protein-tyrosine kinase (UniProt:Q504U8)</td>\n",
       "      <td>http://www.uniprot.org/uniprot/Q504U8</td>\n",
       "      <td>Homo sapiens (human)</td>\n",
       "      <td>http://purl.obolibrary.org/obo/NCBITaxon_9606</td>\n",
       "      <td>4</td>\n",
       "      <td>8</td>\n",
       "      <td>1</td>\n",
       "    </tr>\n",
       "  </tbody>\n",
       "</table>\n",
       "</div>"
      ],
      "text/plain": [
       "                                antigen_antigen name  \\\n",
       "0                  Cytochrome b-c1 complex subunit 7   \n",
       "1             Bcl-2-like protein 13 (UniProt:Q9BXK5)   \n",
       "2                        E3 ubiquitin protein ligase   \n",
       "3                               Unidentified protein   \n",
       "4  Receptor protein-tyrosine kinase (UniProt:Q504U8)   \n",
       "\n",
       "                              antigen_antigen id antigen_organism name  \\\n",
       "0          http://www.uniprot.org/uniprot/P14927  Homo sapiens (human)   \n",
       "1          http://www.uniprot.org/uniprot/Q9BXK5  Homo sapiens (human)   \n",
       "2          http://www.uniprot.org/uniprot/H3BP71  Homo sapiens (human)   \n",
       "3  https://ontology.iedb.org/taxon-protein/32644          Unidentified   \n",
       "4          http://www.uniprot.org/uniprot/Q504U8  Homo sapiens (human)   \n",
       "\n",
       "                              antigen_organism id  antigen_# epitopes  \\\n",
       "0   http://purl.obolibrary.org/obo/NCBITaxon_9606                   1   \n",
       "1   http://purl.obolibrary.org/obo/NCBITaxon_9606                   1   \n",
       "2   http://purl.obolibrary.org/obo/NCBITaxon_9606                   1   \n",
       "3  http://purl.obolibrary.org/obo/NCBITaxon_32644                  11   \n",
       "4   http://purl.obolibrary.org/obo/NCBITaxon_9606                   4   \n",
       "\n",
       "   antigen_# assays  antigen_# references  \n",
       "0                 1                     1  \n",
       "1                 1                     1  \n",
       "2                 2                     1  \n",
       "3                18                     1  \n",
       "4                 8                     1  "
      ]
     },
     "metadata": {},
     "output_type": "display_data"
    }
   ],
   "source": [
    "display(epitope.head())\n",
    "display(assays.head())\n",
    "display(antigens.head())"
   ]
  },
  {
   "cell_type": "code",
   "execution_count": 141,
   "id": "e95e47c1-4d1b-4fd4-8b02-6015592f38c6",
   "metadata": {},
   "outputs": [
    {
     "data": {
      "text/html": [
       "<div>\n",
       "<style scoped>\n",
       "    .dataframe tbody tr th:only-of-type {\n",
       "        vertical-align: middle;\n",
       "    }\n",
       "\n",
       "    .dataframe tbody tr th {\n",
       "        vertical-align: top;\n",
       "    }\n",
       "\n",
       "    .dataframe thead th {\n",
       "        text-align: right;\n",
       "    }\n",
       "</style>\n",
       "<table border=\"1\" class=\"dataframe\">\n",
       "  <thead>\n",
       "    <tr style=\"text-align: right;\">\n",
       "      <th></th>\n",
       "      <th>reference_type</th>\n",
       "      <th>reference_pubmed id</th>\n",
       "      <th>reference_authors</th>\n",
       "      <th>reference_journal</th>\n",
       "      <th>reference_date</th>\n",
       "      <th>reference_title</th>\n",
       "      <th>reference_submission id</th>\n",
       "      <th>epitope_object type</th>\n",
       "      <th>epitope_description</th>\n",
       "      <th>epitope_starting position</th>\n",
       "      <th>epitope_ending position</th>\n",
       "      <th>epitope_antigen name</th>\n",
       "      <th>epitope_parent protein</th>\n",
       "      <th>epitope_organism name</th>\n",
       "      <th>epitope_parent species</th>\n",
       "      <th>epitope_epitope comments</th>\n",
       "      <th>related object_epitope relationship</th>\n",
       "      <th>related object_object type</th>\n",
       "      <th>related object_description</th>\n",
       "      <th>related object_starting position</th>\n",
       "      <th>related object_ending position</th>\n",
       "      <th>related object_synonyms</th>\n",
       "      <th>related object_antigen name</th>\n",
       "      <th>related object_parent protein</th>\n",
       "      <th>related object_organism name</th>\n",
       "      <th>...</th>\n",
       "      <th>assay_number of subjects tested</th>\n",
       "      <th>assay_number of subjects responded</th>\n",
       "      <th>assay_response frequency</th>\n",
       "      <th>effector cells_cell tissue type</th>\n",
       "      <th>effector cells_cell type</th>\n",
       "      <th>effector cells_cell culture conditions</th>\n",
       "      <th>tcr_assayed tcr molecule name</th>\n",
       "      <th>tcr_pdb id</th>\n",
       "      <th>antigen presenting cells_cell tissue type</th>\n",
       "      <th>antigen presenting cells_cell type</th>\n",
       "      <th>antigen presenting cells_cell culture conditions</th>\n",
       "      <th>mhc_allele name</th>\n",
       "      <th>mhc_class</th>\n",
       "      <th>mhc_allele evidence code</th>\n",
       "      <th>assay antigen_antigen epitope relation</th>\n",
       "      <th>assay antigen_antigen object type</th>\n",
       "      <th>assay antigen_antigen description</th>\n",
       "      <th>assay antigen_starting position</th>\n",
       "      <th>assay antigen_ending position</th>\n",
       "      <th>assay antigen_antigen source molecule name</th>\n",
       "      <th>assay antigen_protein parent name</th>\n",
       "      <th>assay antigen_antigen organism name</th>\n",
       "      <th>assay antigen_organism species name</th>\n",
       "      <th>assay comments_assay comments</th>\n",
       "      <th>len_epi</th>\n",
       "    </tr>\n",
       "  </thead>\n",
       "  <tbody>\n",
       "    <tr>\n",
       "      <th>0</th>\n",
       "      <td>Literature</td>\n",
       "      <td>15449035.0</td>\n",
       "      <td>Peter Hersey; Scott W Menzies; Brendon Coventr...</td>\n",
       "      <td>Cancer Immunol Immunother</td>\n",
       "      <td>2005</td>\n",
       "      <td>Phase I/II study of immunotherapy with T-cell ...</td>\n",
       "      <td>NaN</td>\n",
       "      <td>Linear peptide</td>\n",
       "      <td>IMDQVPFSV</td>\n",
       "      <td>NaN</td>\n",
       "      <td>NaN</td>\n",
       "      <td>NaN</td>\n",
       "      <td>NaN</td>\n",
       "      <td>NaN</td>\n",
       "      <td>NaN</td>\n",
       "      <td>The gp100 analog used in this study was made m...</td>\n",
       "      <td>unspecified neo-epitope</td>\n",
       "      <td>Fragment of a Natural Sequence Molecule</td>\n",
       "      <td>ITDQVPFSV</td>\n",
       "      <td>209.0</td>\n",
       "      <td>217.0</td>\n",
       "      <td>ME20-M, Melanocyte protein Pmel 17, Melanocyte...</td>\n",
       "      <td>Melanocyte protein PMEL</td>\n",
       "      <td>Melanocyte protein PMEL</td>\n",
       "      <td>Homo sapiens (human)</td>\n",
       "      <td>...</td>\n",
       "      <td>36.0</td>\n",
       "      <td>4.0</td>\n",
       "      <td>11.1</td>\n",
       "      <td>Blood</td>\n",
       "      <td>Lymphocyte</td>\n",
       "      <td>Short Term Restimulated</td>\n",
       "      <td>NaN</td>\n",
       "      <td>NaN</td>\n",
       "      <td>Lymphoid</td>\n",
       "      <td>T2 cells-Lymphoblast</td>\n",
       "      <td>Cell Line / Clone</td>\n",
       "      <td>HLA-A2</td>\n",
       "      <td>I</td>\n",
       "      <td>Not determined</td>\n",
       "      <td>Epitope</td>\n",
       "      <td>Linear peptide</td>\n",
       "      <td>IMDQVPFSV</td>\n",
       "      <td>NaN</td>\n",
       "      <td>NaN</td>\n",
       "      <td>NaN</td>\n",
       "      <td>NaN</td>\n",
       "      <td>NaN</td>\n",
       "      <td>NaN</td>\n",
       "      <td>NaN</td>\n",
       "      <td>9</td>\n",
       "    </tr>\n",
       "    <tr>\n",
       "      <th>1</th>\n",
       "      <td>Literature</td>\n",
       "      <td>15534491.0</td>\n",
       "      <td>Hung T Khong; James C Yang; Suzanne L Topalian...</td>\n",
       "      <td>J Immunother</td>\n",
       "      <td>2004</td>\n",
       "      <td>Immunization of HLA-A*0201 and/or HLA-DPbeta1*...</td>\n",
       "      <td>NaN</td>\n",
       "      <td>Linear peptide</td>\n",
       "      <td>SLLMWITQV</td>\n",
       "      <td>NaN</td>\n",
       "      <td>NaN</td>\n",
       "      <td>NaN</td>\n",
       "      <td>NaN</td>\n",
       "      <td>NaN</td>\n",
       "      <td>NaN</td>\n",
       "      <td>This epitope is an analogue of a naturally fou...</td>\n",
       "      <td>unspecified neo-epitope</td>\n",
       "      <td>Fragment of a Natural Sequence Molecule</td>\n",
       "      <td>SLLMWITQC</td>\n",
       "      <td>157.0</td>\n",
       "      <td>165.0</td>\n",
       "      <td>Autoimmunogenic cancer/testis antigen NY-ESO-1...</td>\n",
       "      <td>Cancer/testis antigen 1</td>\n",
       "      <td>Cancer/testis antigen 1</td>\n",
       "      <td>Homo sapiens (human)</td>\n",
       "      <td>...</td>\n",
       "      <td>19.0</td>\n",
       "      <td>NaN</td>\n",
       "      <td>NaN</td>\n",
       "      <td>Blood</td>\n",
       "      <td>T cell</td>\n",
       "      <td>Short Term Restimulated</td>\n",
       "      <td>NaN</td>\n",
       "      <td>NaN</td>\n",
       "      <td>Lymphoid</td>\n",
       "      <td>T2 cells-Lymphoblast</td>\n",
       "      <td>Cell Line / Clone</td>\n",
       "      <td>HLA-A*02:01</td>\n",
       "      <td>I</td>\n",
       "      <td>Not determined</td>\n",
       "      <td>Epitope</td>\n",
       "      <td>Linear peptide</td>\n",
       "      <td>SLLMWITQV</td>\n",
       "      <td>NaN</td>\n",
       "      <td>NaN</td>\n",
       "      <td>NaN</td>\n",
       "      <td>NaN</td>\n",
       "      <td>NaN</td>\n",
       "      <td>NaN</td>\n",
       "      <td>NaN</td>\n",
       "      <td>9</td>\n",
       "    </tr>\n",
       "  </tbody>\n",
       "</table>\n",
       "<p>2 rows × 98 columns</p>\n",
       "</div>"
      ],
      "text/plain": [
       "  reference_type  reference_pubmed id  \\\n",
       "0     Literature           15449035.0   \n",
       "1     Literature           15534491.0   \n",
       "\n",
       "                                   reference_authors  \\\n",
       "0  Peter Hersey; Scott W Menzies; Brendon Coventr...   \n",
       "1  Hung T Khong; James C Yang; Suzanne L Topalian...   \n",
       "\n",
       "           reference_journal  reference_date  \\\n",
       "0  Cancer Immunol Immunother            2005   \n",
       "1               J Immunother            2004   \n",
       "\n",
       "                                     reference_title  reference_submission id  \\\n",
       "0  Phase I/II study of immunotherapy with T-cell ...                      NaN   \n",
       "1  Immunization of HLA-A*0201 and/or HLA-DPbeta1*...                      NaN   \n",
       "\n",
       "  epitope_object type epitope_description  epitope_starting position  \\\n",
       "0      Linear peptide           IMDQVPFSV                        NaN   \n",
       "1      Linear peptide           SLLMWITQV                        NaN   \n",
       "\n",
       "   epitope_ending position epitope_antigen name epitope_parent protein  \\\n",
       "0                      NaN                  NaN                    NaN   \n",
       "1                      NaN                  NaN                    NaN   \n",
       "\n",
       "  epitope_organism name epitope_parent species  \\\n",
       "0                   NaN                    NaN   \n",
       "1                   NaN                    NaN   \n",
       "\n",
       "                            epitope_epitope comments  \\\n",
       "0  The gp100 analog used in this study was made m...   \n",
       "1  This epitope is an analogue of a naturally fou...   \n",
       "\n",
       "  related object_epitope relationship  \\\n",
       "0             unspecified neo-epitope   \n",
       "1             unspecified neo-epitope   \n",
       "\n",
       "                related object_object type related object_description  \\\n",
       "0  Fragment of a Natural Sequence Molecule                  ITDQVPFSV   \n",
       "1  Fragment of a Natural Sequence Molecule                  SLLMWITQC   \n",
       "\n",
       "   related object_starting position  related object_ending position  \\\n",
       "0                             209.0                           217.0   \n",
       "1                             157.0                           165.0   \n",
       "\n",
       "                             related object_synonyms  \\\n",
       "0  ME20-M, Melanocyte protein Pmel 17, Melanocyte...   \n",
       "1  Autoimmunogenic cancer/testis antigen NY-ESO-1...   \n",
       "\n",
       "  related object_antigen name related object_parent protein  \\\n",
       "0     Melanocyte protein PMEL       Melanocyte protein PMEL   \n",
       "1     Cancer/testis antigen 1       Cancer/testis antigen 1   \n",
       "\n",
       "  related object_organism name  ... assay_number of subjects tested  \\\n",
       "0         Homo sapiens (human)  ...                            36.0   \n",
       "1         Homo sapiens (human)  ...                            19.0   \n",
       "\n",
       "  assay_number of subjects responded assay_response frequency  \\\n",
       "0                                4.0                     11.1   \n",
       "1                                NaN                      NaN   \n",
       "\n",
       "  effector cells_cell tissue type effector cells_cell type  \\\n",
       "0                           Blood               Lymphocyte   \n",
       "1                           Blood                   T cell   \n",
       "\n",
       "  effector cells_cell culture conditions tcr_assayed tcr molecule name  \\\n",
       "0                Short Term Restimulated                           NaN   \n",
       "1                Short Term Restimulated                           NaN   \n",
       "\n",
       "  tcr_pdb id antigen presenting cells_cell tissue type  \\\n",
       "0        NaN                                  Lymphoid   \n",
       "1        NaN                                  Lymphoid   \n",
       "\n",
       "  antigen presenting cells_cell type  \\\n",
       "0               T2 cells-Lymphoblast   \n",
       "1               T2 cells-Lymphoblast   \n",
       "\n",
       "   antigen presenting cells_cell culture conditions  mhc_allele name  \\\n",
       "0                                 Cell Line / Clone           HLA-A2   \n",
       "1                                 Cell Line / Clone      HLA-A*02:01   \n",
       "\n",
       "   mhc_class  mhc_allele evidence code assay antigen_antigen epitope relation  \\\n",
       "0          I            Not determined                                Epitope   \n",
       "1          I            Not determined                                Epitope   \n",
       "\n",
       "  assay antigen_antigen object type assay antigen_antigen description  \\\n",
       "0                    Linear peptide                         IMDQVPFSV   \n",
       "1                    Linear peptide                         SLLMWITQV   \n",
       "\n",
       "   assay antigen_starting position  assay antigen_ending position  \\\n",
       "0                              NaN                            NaN   \n",
       "1                              NaN                            NaN   \n",
       "\n",
       "  assay antigen_antigen source molecule name  \\\n",
       "0                                        NaN   \n",
       "1                                        NaN   \n",
       "\n",
       "  assay antigen_protein parent name assay antigen_antigen organism name  \\\n",
       "0                               NaN                                 NaN   \n",
       "1                               NaN                                 NaN   \n",
       "\n",
       "   assay antigen_organism species name  assay comments_assay comments len_epi  \n",
       "0                                  NaN                            NaN       9  \n",
       "1                                  NaN                            NaN       9  \n",
       "\n",
       "[2 rows x 98 columns]"
      ]
     },
     "execution_count": 141,
     "metadata": {},
     "output_type": "execute_result"
    }
   ],
   "source": [
    "assays.head(2)"
   ]
  },
  {
   "cell_type": "markdown",
   "id": "ba296047-675b-4c3f-9c1f-f812b9291cfa",
   "metadata": {
    "jp-MarkdownHeadingCollapsed": true,
    "tags": []
   },
   "source": [
    "## request stuff"
   ]
  },
  {
   "cell_type": "code",
   "execution_count": 180,
   "id": "146d3eff-d85f-42b4-828e-921e5e0982c5",
   "metadata": {
    "tags": []
   },
   "outputs": [],
   "source": [
    "import requests\n",
    "from urllib import request as url_req\n",
    "import requests\n",
    "from bs4 import BeautifulSoup as BS\n",
    "\n",
    "url = \"https://www.iedb.org/details_v3.php?type=reference&id=1040606\"\n",
    "\n",
    "\n",
    "def get_content(url):\n",
    "    # Send a GET request to the URL\n",
    "    response = requests.get(url)\n",
    "    \n",
    "    # Check if the request was successful (status code 200 indicates success)\n",
    "    if response.status_code == 200:\n",
    "        # Parse the HTML content using BeautifulSoup\n",
    "        soup = BeautifulSoup(response.content, \"html.parser\")\n",
    "        title = soup.title.string\n",
    "        # Extract the resultData dictionary\n",
    "        script_tag = soup.find(\"script\", text=re.compile(\"var resultData =\"))\n",
    "        result_data = re.search(r\"var resultData = ({.*?});\", script_tag.string).group(1)\n",
    "        result_data_dict = json.loads(result_data)\n",
    "        # Print the extracted text content\n",
    "        print(title, '\\n\\n', result_data)\n",
    "        return title, result_data\n",
    "    else:\n",
    "        print(\"Error:\", response.status_code)\n",
    "        return None, None"
   ]
  },
  {
   "cell_type": "code",
   "execution_count": 181,
   "id": "4ff63966-8a06-4e01-9cb4-b1a68df9cabd",
   "metadata": {
    "tags": []
   },
   "outputs": [
    {
     "name": "stdout",
     "output_type": "stream",
     "text": [
      "Epitopes described in Immunogenicity and therapeutic targeting of a public neoantigen derived from mutated PIK3CA. - Immune Epitope Database (IEDB) \n",
      " {\"reference_id\":{\"label\":\"Reference ID\",\"value\":\"1040606\",\"identifier\":\"IEDB_reference:1040606\"},\"reference_type\":{\"label\":\"Reference Type\",\"value\":\"Literature\",\"identifier\":\"IEDB_Reference:1040606\"},\"reference_abstract\":{\"label\":\"Abstract\",\"value\":\"Public neoantigens (NeoAgs) represent an elite class of shared cancer-specific epitopes derived from recurrently mutated driver genes. Here we describe a high-throughput platform combining single-cell transcriptomic and T cell receptor (TCR) sequencing to establish whether mutant PIK3CA, among the most frequently genomically altered driver oncogenes, generates an immunogenic public NeoAg. Using this strategy, we developed a panel of TCRs that recognize an endogenously processed neopeptide encompassing a common PIK3CA hotspot mutation restricted by the prevalent human leukocyte antigen (HLA)-A*03:01 allele. Mechanistically, immunogenicity to this public NeoAg arises from enhanced neopeptide\\/HLA complex stability caused by a preferred HLA anchor substitution. Structural studies indicated that the HLA-bound neopeptide presents a comparatively 'featureless' surface dominated by the peptide's backbone. To bind this epitope with high specificity and affinity, we discovered that a lead TCR clinical candidate engages the neopeptide through an extended interface facilitated by an unusually long CDR3 loop. In patients with diverse malignancies, we observed NeoAg clonal conservation and spontaneous immunogenicity to the neoepitope. Finally, adoptive transfer of TCR-engineered T cells led to tumor regression in vivo in mice bearing PIK3CA-mutant tumors but not wild-type PIK3CA tumors. Together, these findings establish the immunogenicity and therapeutic potential of a mutant PIK3CA-derived public NeoAg.\",\"identifier\":null},\"reference_affiliations\":{\"label\":\"Affiliations\",\"value\":\"Human Oncology and Pathogenesis Program (HOPP), Immuno-Oncology Service, Memorial Sloan Kettering Cancer Center, New York, NY, USA. chandrs1@mskcc.org; Center for Cell Engineering, Memorial Sloan Kettering Cancer Center, New York, NY, USA. chandrs1@mskcc.org; Parker Institute for Cancer Immunotherapy, New York, NY, USA. chandrs1@mskcc.org; Department of Chemistry and Biochemistry, University of Notre Dame, South Bend, IN, USA; Harper Cancer Research Institute, University of Notre Dame, South Bend, IN, USA; Molecular Pharmacology Program, Sloan Kettering Institute, Memorial Sloan Kettering Cancer Center, New York, NY, USA; Department of Physiology and Biophysics, Weill Cornell Medicine, New York, NY, USA; Applied Bioinformatics Core, Weill Cornell Medicine, New York, NY, USA; Marie-Jos\\u00e9e and Henry R. Kravis Center for Molecular Oncology, Memorial Sloan Kettering Cancer Center, New York, NY, USA; Department of Medicine, Memorial Sloan Kettering Cancer Center, New York, NY, USA; Department of Medicine, Division of Hematology and Medical Oncology, Weill Cornell Medicine, New York, NY, USA; Department of Pathology, Memorial Sloan Kettering Cancer Center, New York, NY, USA; Departmen...\",\"identifier\":null},\"reference_date\":{\"label\":\"Year\",\"value\":\"2022\",\"identifier\":null},\"pubmed_id\":{\"label\":\"PubMed ID\",\"value\":\"35484264\",\"identifier\":\"PMID:35484264\"},\"journal_name\":{\"label\":\"Journal\",\"value\":\"Nat Med\",\"identifier\":\"PMID:35484264\"},\"journal_issn\":{\"label\":\"Journal ISSN\",\"value\":\"1546-170X\",\"identifier\":null},\"date_last_updated\":{\"label\":\"Curation Last Updated\",\"value\":\"2023-03-02 21:24:20\",\"identifier\":null},\"reference_author\":{\"label\":\"Authors\",\"value\":\"Smita S Chandran; Jiaqi Ma; Martin G Klatt; Friederike D\\u00fcndar; Chaitanya Bandlamudi; Pedram Razavi; Hannah Y Wen; Britta Weigelt; Paul Zumbo; Si Ning Fu; Lauren B Banks; Fei Yi; Enric Vercher; Inaki Etxeberria; Watchain D Bestman; Arnaud Da Cruz Paula; Ilinca S Aricescu; Alexander Drilon; Doron Betel; David A Scheinberg; Brian M Baker; Christopher A Klebanoff\",\"identifier\":null},\"reference_title\":{\"label\":\"Title\",\"value\":\"Immunogenicity and therapeutic targeting of a public neoantigen derived from mutated PIK3CA.\",\"identifier\":null}}\n"
     ]
    }
   ],
   "source": [
    "from urllib import request\n",
    "import re, json\n",
    "url = 'https://www.iedb.org/details_v3.php?type=reference&id=1040606'\n",
    "title, results = get_content(url)\n"
   ]
  },
  {
   "cell_type": "markdown",
   "id": "8bd9b98a-0a54-4ba1-9ec4-5121e9d51ee5",
   "metadata": {
    "jp-MarkdownHeadingCollapsed": true,
    "tags": []
   },
   "source": [
    "# Filtering assays"
   ]
  },
  {
   "cell_type": "markdown",
   "id": "538626ce-f248-44e9-9806-a8d1e7a3e64b",
   "metadata": {},
   "source": [
    "## explo"
   ]
  },
  {
   "cell_type": "code",
   "execution_count": 103,
   "id": "bfaedb8a-f183-4861-915f-ce43678e6c78",
   "metadata": {
    "collapsed": true,
    "jupyter": {
     "outputs_hidden": true
    },
    "tags": []
   },
   "outputs": [
    {
     "data": {
      "text/plain": [
       "Index(['reference_type', 'reference_pubmed id', 'reference_authors',\n",
       "       'reference_journal', 'reference_date', 'reference_title',\n",
       "       'reference_submission id', 'epitope_object type', 'epitope_description',\n",
       "       'epitope_starting position', 'epitope_ending position',\n",
       "       'epitope_antigen name', 'epitope_parent protein',\n",
       "       'epitope_organism name', 'epitope_parent species',\n",
       "       'epitope_epitope comments', 'related object_epitope relationship',\n",
       "       'related object_object type', 'related object_description',\n",
       "       'related object_starting position', 'related object_ending position',\n",
       "       'related object_synonyms', 'related object_antigen name',\n",
       "       'related object_parent protein', 'related object_organism name',\n",
       "       'related object_parent organism', 'host_name', 'host_geolocation',\n",
       "       'host_mhc types present', '1st in vivo process_process type',\n",
       "       '1st in vivo process_disease state',\n",
       "       '1st in vivo process_disease stage',\n",
       "       '1st in vivo process_immunogen epitope relation',\n",
       "       '1st in vivo process_immunogen object type',\n",
       "       '1st in vivo process_immunogen description',\n",
       "       '1st in vivo process_immunogen starting position',\n",
       "       '1st in vivo process_immunogen ending position',\n",
       "       '1st in vivo process_immunogen source molecule name',\n",
       "       '1st in vivo process_immunogen protein parent name',\n",
       "       '1st in vivo process_immunogen organism name',\n",
       "       '1st in vivo process_immunogen organism species',\n",
       "       '2nd in vivo process_process type', '2nd in vivo process_disease state',\n",
       "       '2nd in vivo process_disease stage',\n",
       "       '2nd in vivo process_immunogen epitope relation',\n",
       "       '2nd in vivo process_immunogen object type',\n",
       "       '2nd in vivo process_immunogen description',\n",
       "       '2nd in vivo process_immunogen starting position',\n",
       "       '2nd in vivo process_immunogen ending position',\n",
       "       '2nd in vivo process_immunogen source molecule name',\n",
       "       '2nd in vivo process_immunogen protein parent name',\n",
       "       '2nd in vivo process_immunogen organism name',\n",
       "       '2nd in vivo process_immunogen organism species',\n",
       "       'in vitro process_in vitro process type',\n",
       "       'in vitro process_responder cell type',\n",
       "       'in vitro process_stimulator cell type',\n",
       "       'in vitro process_immunogen epitope relation',\n",
       "       'in vitro process_immunogen object type',\n",
       "       'in vitro process_immunogen description',\n",
       "       'in vitro process_immunogen source molecule name',\n",
       "       'in vitro process_protein parent name',\n",
       "       'in vitro process_immunogen organism name',\n",
       "       'in vitro process_immunogen organism species',\n",
       "       'adoptive transfer_adoptive transfer flag',\n",
       "       'adoptive transfer_adoptive transfer comments',\n",
       "       'immunization comments_immunization comments',\n",
       "       'assay_location of assay data in the manuscript',\n",
       "       'assay_method/technique', 'assay_assay group', 'assay_units',\n",
       "       'assay_qualitative measure', 'assay_measurement inequality',\n",
       "       'assay_quantitative measurement', 'assay_number of subjects tested',\n",
       "       'assay_number of subjects responded', 'assay_response frequency',\n",
       "       'effector cells_cell tissue type', 'effector cells_cell type',\n",
       "       'effector cells_cell culture conditions',\n",
       "       'tcr_assayed tcr molecule name', 'tcr_pdb id',\n",
       "       'antigen presenting cells_cell tissue type',\n",
       "       'antigen presenting cells_cell type',\n",
       "       'antigen presenting cells_cell culture conditions', 'mhc_allele name',\n",
       "       'mhc_class', 'mhc_allele evidence code',\n",
       "       'assay antigen_antigen epitope relation',\n",
       "       'assay antigen_antigen object type',\n",
       "       'assay antigen_antigen description', 'assay antigen_starting position',\n",
       "       'assay antigen_ending position',\n",
       "       'assay antigen_antigen source molecule name',\n",
       "       'assay antigen_protein parent name',\n",
       "       'assay antigen_antigen organism name',\n",
       "       'assay antigen_organism species name', 'assay comments_assay comments',\n",
       "       'len_epi'],\n",
       "      dtype='object')"
      ]
     },
     "execution_count": 103,
     "metadata": {},
     "output_type": "execute_result"
    }
   ],
   "source": [
    "assays.columns"
   ]
  },
  {
   "cell_type": "code",
   "execution_count": 210,
   "id": "17a6d1b2-d519-49e5-91fd-562857c66502",
   "metadata": {},
   "outputs": [
    {
     "data": {
      "text/html": [
       "<div>\n",
       "<style scoped>\n",
       "    .dataframe tbody tr th:only-of-type {\n",
       "        vertical-align: middle;\n",
       "    }\n",
       "\n",
       "    .dataframe tbody tr th {\n",
       "        vertical-align: top;\n",
       "    }\n",
       "\n",
       "    .dataframe thead th {\n",
       "        text-align: right;\n",
       "    }\n",
       "</style>\n",
       "<table border=\"1\" class=\"dataframe\">\n",
       "  <thead>\n",
       "    <tr style=\"text-align: right;\">\n",
       "      <th></th>\n",
       "      <th></th>\n",
       "      <th>count</th>\n",
       "    </tr>\n",
       "    <tr>\n",
       "      <th>epitope_description</th>\n",
       "      <th>mhc_allele name</th>\n",
       "      <th></th>\n",
       "    </tr>\n",
       "  </thead>\n",
       "  <tbody>\n",
       "    <tr>\n",
       "      <th>AALPILFQV</th>\n",
       "      <th>HLA-A*02:01</th>\n",
       "      <td>4</td>\n",
       "    </tr>\n",
       "    <tr>\n",
       "      <th>AIDAALTFV</th>\n",
       "      <th>HLA-A*02:01</th>\n",
       "      <td>9</td>\n",
       "    </tr>\n",
       "    <tr>\n",
       "      <th>AIKTSPKANK</th>\n",
       "      <th>HLA-A*30:01</th>\n",
       "      <td>4</td>\n",
       "    </tr>\n",
       "    <tr>\n",
       "      <th>ALDPHSGHFV</th>\n",
       "      <th>HLA-A*02:01</th>\n",
       "      <td>4</td>\n",
       "    </tr>\n",
       "    <tr>\n",
       "      <th>ALHGGWTTK</th>\n",
       "      <th>HLA-A*03:01</th>\n",
       "      <td>42</td>\n",
       "    </tr>\n",
       "    <tr>\n",
       "      <th>...</th>\n",
       "      <th>...</th>\n",
       "      <td>...</td>\n",
       "    </tr>\n",
       "    <tr>\n",
       "      <th>VVVGADGVGK</th>\n",
       "      <th>HLA-A*11:01</th>\n",
       "      <td>38</td>\n",
       "    </tr>\n",
       "    <tr>\n",
       "      <th>VVVPCEPPEV</th>\n",
       "      <th>HLA-A*02:01</th>\n",
       "      <td>5</td>\n",
       "    </tr>\n",
       "    <tr>\n",
       "      <th>VYFFLPDHL</th>\n",
       "      <th>HLA-A*24:02</th>\n",
       "      <td>5</td>\n",
       "    </tr>\n",
       "    <tr>\n",
       "      <th>VYRPLHYPLL</th>\n",
       "      <th>HLA-C*07:02</th>\n",
       "      <td>5</td>\n",
       "    </tr>\n",
       "    <tr>\n",
       "      <th>YVDFREYEYY</th>\n",
       "      <th>HLA-A*01:01</th>\n",
       "      <td>5</td>\n",
       "    </tr>\n",
       "  </tbody>\n",
       "</table>\n",
       "<p>109 rows × 1 columns</p>\n",
       "</div>"
      ],
      "text/plain": [
       "                                     count\n",
       "epitope_description mhc_allele name       \n",
       "AALPILFQV           HLA-A*02:01          4\n",
       "AIDAALTFV           HLA-A*02:01          9\n",
       "AIKTSPKANK          HLA-A*30:01          4\n",
       "ALDPHSGHFV          HLA-A*02:01          4\n",
       "ALHGGWTTK           HLA-A*03:01         42\n",
       "...                                    ...\n",
       "VVVGADGVGK          HLA-A*11:01         38\n",
       "VVVPCEPPEV          HLA-A*02:01          5\n",
       "VYFFLPDHL           HLA-A*24:02          5\n",
       "VYRPLHYPLL          HLA-C*07:02          5\n",
       "YVDFREYEYY          HLA-A*01:01          5\n",
       "\n",
       "[109 rows x 1 columns]"
      ]
     },
     "execution_count": 210,
     "metadata": {},
     "output_type": "execute_result"
    }
   ],
   "source": [
    "assays_f= assays.copy()\n",
    "assays_f.query(lenmhc_query).groupby(['epitope_description','mhc_allele name']).agg(count=('len_epi','count')).query('count>=4')"
   ]
  },
  {
   "cell_type": "code",
   "execution_count": 221,
   "id": "8a8de342-5275-49d2-b2a8-609d8aceb463",
   "metadata": {},
   "outputs": [
    {
     "data": {
      "text/plain": [
       "array(['http://www.iedb.org/reference/1030015',\n",
       "       'http://www.iedb.org/reference/1039333',\n",
       "       'http://www.iedb.org/reference/1039860',\n",
       "       'http://www.iedb.org/reference/1040678',\n",
       "       'http://www.iedb.org/reference/1041068'], dtype=object)"
      ]
     },
     "execution_count": 221,
     "metadata": {},
     "output_type": "execute_result"
    }
   ],
   "source": [
    "assays_raw.query('epitope_description == \"ALDPHSGHFV\" or epitope_description == \"AALPILFQV\" or epitope_description==\"AIKTSPKANK\"')['reference_reference iri'].unique()"
   ]
  },
  {
   "cell_type": "code",
   "execution_count": 217,
   "id": "6df6954b-6acd-46fb-b074-b7a001d59ab1",
   "metadata": {
    "collapsed": true,
    "jupyter": {
     "outputs_hidden": true
    },
    "tags": []
   },
   "outputs": [
    {
     "data": {
      "text/html": [
       "<div>\n",
       "<style scoped>\n",
       "    .dataframe tbody tr th:only-of-type {\n",
       "        vertical-align: middle;\n",
       "    }\n",
       "\n",
       "    .dataframe tbody tr th {\n",
       "        vertical-align: top;\n",
       "    }\n",
       "\n",
       "    .dataframe thead th {\n",
       "        text-align: right;\n",
       "    }\n",
       "</style>\n",
       "<table border=\"1\" class=\"dataframe\">\n",
       "  <thead>\n",
       "    <tr style=\"text-align: right;\">\n",
       "      <th></th>\n",
       "      <th>epitope_description</th>\n",
       "      <th>mhc_allele name</th>\n",
       "      <th>reference_type</th>\n",
       "      <th>reference_pubmed id</th>\n",
       "      <th>reference_authors</th>\n",
       "      <th>reference_journal</th>\n",
       "      <th>reference_date</th>\n",
       "      <th>reference_title</th>\n",
       "      <th>reference_submission id</th>\n",
       "      <th>epitope_object type</th>\n",
       "      <th>epitope_starting position</th>\n",
       "      <th>epitope_ending position</th>\n",
       "      <th>epitope_antigen name</th>\n",
       "      <th>epitope_parent protein</th>\n",
       "      <th>epitope_organism name</th>\n",
       "      <th>epitope_parent species</th>\n",
       "      <th>epitope_epitope comments</th>\n",
       "      <th>related object_epitope relationship</th>\n",
       "      <th>related object_object type</th>\n",
       "      <th>related object_description</th>\n",
       "      <th>related object_starting position</th>\n",
       "      <th>related object_ending position</th>\n",
       "      <th>related object_synonyms</th>\n",
       "      <th>related object_antigen name</th>\n",
       "      <th>related object_parent protein</th>\n",
       "      <th>...</th>\n",
       "      <th>assay_quantitative measurement</th>\n",
       "      <th>assay_number of subjects tested</th>\n",
       "      <th>assay_number of subjects responded</th>\n",
       "      <th>assay_response frequency</th>\n",
       "      <th>effector cells_cell tissue type</th>\n",
       "      <th>effector cells_cell type</th>\n",
       "      <th>effector cells_cell culture conditions</th>\n",
       "      <th>tcr_assayed tcr molecule name</th>\n",
       "      <th>tcr_pdb id</th>\n",
       "      <th>antigen presenting cells_cell tissue type</th>\n",
       "      <th>antigen presenting cells_cell type</th>\n",
       "      <th>antigen presenting cells_cell culture conditions</th>\n",
       "      <th>mhc_class</th>\n",
       "      <th>mhc_allele evidence code</th>\n",
       "      <th>assay antigen_antigen epitope relation</th>\n",
       "      <th>assay antigen_antigen object type</th>\n",
       "      <th>assay antigen_antigen description</th>\n",
       "      <th>assay antigen_starting position</th>\n",
       "      <th>assay antigen_ending position</th>\n",
       "      <th>assay antigen_antigen source molecule name</th>\n",
       "      <th>assay antigen_protein parent name</th>\n",
       "      <th>assay antigen_antigen organism name</th>\n",
       "      <th>assay antigen_organism species name</th>\n",
       "      <th>assay comments_assay comments</th>\n",
       "      <th>len_epi</th>\n",
       "    </tr>\n",
       "  </thead>\n",
       "  <tbody>\n",
       "    <tr>\n",
       "      <th>0</th>\n",
       "      <td>AAASATLAL</td>\n",
       "      <td>HLA-C*08:01</td>\n",
       "      <td>Literature</td>\n",
       "      <td>36651232.0</td>\n",
       "      <td>Song Gao; Jiaqian Wang; Zhongzheng Zhu; Juemin...</td>\n",
       "      <td>Immunotherapy</td>\n",
       "      <td>2023</td>\n",
       "      <td>Effective personalized neoantigen vaccine plus...</td>\n",
       "      <td>NaN</td>\n",
       "      <td>Linear peptide</td>\n",
       "      <td>NaN</td>\n",
       "      <td>NaN</td>\n",
       "      <td>NaN</td>\n",
       "      <td>NaN</td>\n",
       "      <td>NaN</td>\n",
       "      <td>NaN</td>\n",
       "      <td>NaN</td>\n",
       "      <td>in-frame neo-epitope</td>\n",
       "      <td>Fragment of a Natural Sequence Molecule</td>\n",
       "      <td>AAASATLAS</td>\n",
       "      <td>45.0</td>\n",
       "      <td>53.0</td>\n",
       "      <td>SOX30</td>\n",
       "      <td>Transcription factor SOX-30</td>\n",
       "      <td>Transcription factor SOX-30</td>\n",
       "      <td>...</td>\n",
       "      <td>NaN</td>\n",
       "      <td>NaN</td>\n",
       "      <td>NaN</td>\n",
       "      <td>NaN</td>\n",
       "      <td>Blood</td>\n",
       "      <td>T cell CD8+</td>\n",
       "      <td>Short Term Restimulated</td>\n",
       "      <td>NaN</td>\n",
       "      <td>NaN</td>\n",
       "      <td>Blood</td>\n",
       "      <td>Dendritic cell</td>\n",
       "      <td>Direct Ex Vivo</td>\n",
       "      <td>I</td>\n",
       "      <td>MHC binding prediction</td>\n",
       "      <td>Epitope</td>\n",
       "      <td>Linear peptide</td>\n",
       "      <td>AAASATLAL</td>\n",
       "      <td>NaN</td>\n",
       "      <td>NaN</td>\n",
       "      <td>NaN</td>\n",
       "      <td>NaN</td>\n",
       "      <td>NaN</td>\n",
       "      <td>NaN</td>\n",
       "      <td>NaN</td>\n",
       "      <td>9</td>\n",
       "    </tr>\n",
       "    <tr>\n",
       "      <th>1</th>\n",
       "      <td>AAHFTVLLY</td>\n",
       "      <td>HLA-A*11:01</td>\n",
       "      <td>Literature</td>\n",
       "      <td>31511069.0</td>\n",
       "      <td>Michael Fehlings; Suchit Jhunjhunwala; Marcin ...</td>\n",
       "      <td>J Immunother Cancer</td>\n",
       "      <td>2019</td>\n",
       "      <td>Late-differentiated effector neoantigen-specif...</td>\n",
       "      <td>NaN</td>\n",
       "      <td>Linear peptide</td>\n",
       "      <td>NaN</td>\n",
       "      <td>NaN</td>\n",
       "      <td>NaN</td>\n",
       "      <td>NaN</td>\n",
       "      <td>NaN</td>\n",
       "      <td>NaN</td>\n",
       "      <td>NaN</td>\n",
       "      <td>unspecified neo-epitope</td>\n",
       "      <td>Fragment of a Natural Sequence Molecule</td>\n",
       "      <td>AAHFTALLY</td>\n",
       "      <td>1949.0</td>\n",
       "      <td>1957.0</td>\n",
       "      <td>NaN</td>\n",
       "      <td>ATM gene</td>\n",
       "      <td>Serine-protein kinase ATM</td>\n",
       "      <td>...</td>\n",
       "      <td>NaN</td>\n",
       "      <td>NaN</td>\n",
       "      <td>NaN</td>\n",
       "      <td>NaN</td>\n",
       "      <td>Blood</td>\n",
       "      <td>T cell CD8+</td>\n",
       "      <td>Direct Ex Vivo</td>\n",
       "      <td>NaN</td>\n",
       "      <td>NaN</td>\n",
       "      <td>NaN</td>\n",
       "      <td>NaN</td>\n",
       "      <td>NaN</td>\n",
       "      <td>I</td>\n",
       "      <td>MHC binding prediction</td>\n",
       "      <td>Epitope</td>\n",
       "      <td>Linear peptide</td>\n",
       "      <td>AAHFTVLLY</td>\n",
       "      <td>NaN</td>\n",
       "      <td>NaN</td>\n",
       "      <td>NaN</td>\n",
       "      <td>NaN</td>\n",
       "      <td>NaN</td>\n",
       "      <td>NaN</td>\n",
       "      <td>NaN</td>\n",
       "      <td>9</td>\n",
       "    </tr>\n",
       "    <tr>\n",
       "      <th>2</th>\n",
       "      <td>AAIAASRSV</td>\n",
       "      <td>HLA-C*12:03</td>\n",
       "      <td>Literature</td>\n",
       "      <td>30556813.0</td>\n",
       "      <td>Brendan Bulik-Sullivan; Jennifer Busby; Christ...</td>\n",
       "      <td>Nat Biotechnol</td>\n",
       "      <td>2018</td>\n",
       "      <td>Deep learning using tumor HLA peptide mass spe...</td>\n",
       "      <td>NaN</td>\n",
       "      <td>Linear peptide</td>\n",
       "      <td>NaN</td>\n",
       "      <td>NaN</td>\n",
       "      <td>NaN</td>\n",
       "      <td>NaN</td>\n",
       "      <td>NaN</td>\n",
       "      <td>NaN</td>\n",
       "      <td>NaN</td>\n",
       "      <td>unspecified neo-epitope</td>\n",
       "      <td>Fragment of a Natural Sequence Molecule</td>\n",
       "      <td>AAIAASRSA</td>\n",
       "      <td>6.0</td>\n",
       "      <td>14.0</td>\n",
       "      <td>NaN</td>\n",
       "      <td>Chromosome 1 open reading frame 198 [Homo sapi...</td>\n",
       "      <td>Uncharacterized protein C1orf198</td>\n",
       "      <td>...</td>\n",
       "      <td>NaN</td>\n",
       "      <td>NaN</td>\n",
       "      <td>NaN</td>\n",
       "      <td>NaN</td>\n",
       "      <td>Blood</td>\n",
       "      <td>PBMC</td>\n",
       "      <td>Short Term Restimulated</td>\n",
       "      <td>NaN</td>\n",
       "      <td>NaN</td>\n",
       "      <td>Blood</td>\n",
       "      <td>PBMC</td>\n",
       "      <td>Direct Ex Vivo</td>\n",
       "      <td>I</td>\n",
       "      <td>MHC binding prediction</td>\n",
       "      <td>Epitope</td>\n",
       "      <td>Linear peptide</td>\n",
       "      <td>AAIAASRSV</td>\n",
       "      <td>NaN</td>\n",
       "      <td>NaN</td>\n",
       "      <td>NaN</td>\n",
       "      <td>NaN</td>\n",
       "      <td>NaN</td>\n",
       "      <td>NaN</td>\n",
       "      <td>NaN</td>\n",
       "      <td>9</td>\n",
       "    </tr>\n",
       "    <tr>\n",
       "      <th>3</th>\n",
       "      <td>AAKAALEDF</td>\n",
       "      <td>HLA-C*16:01</td>\n",
       "      <td>Literature</td>\n",
       "      <td>30556813.0</td>\n",
       "      <td>Brendan Bulik-Sullivan; Jennifer Busby; Christ...</td>\n",
       "      <td>Nat Biotechnol</td>\n",
       "      <td>2018</td>\n",
       "      <td>Deep learning using tumor HLA peptide mass spe...</td>\n",
       "      <td>NaN</td>\n",
       "      <td>Linear peptide</td>\n",
       "      <td>NaN</td>\n",
       "      <td>NaN</td>\n",
       "      <td>NaN</td>\n",
       "      <td>NaN</td>\n",
       "      <td>NaN</td>\n",
       "      <td>NaN</td>\n",
       "      <td>NaN</td>\n",
       "      <td>unspecified neo-epitope</td>\n",
       "      <td>Fragment of a Natural Sequence Molecule</td>\n",
       "      <td>AAKAALEEF</td>\n",
       "      <td>376.0</td>\n",
       "      <td>384.0</td>\n",
       "      <td>NaN</td>\n",
       "      <td>SWI/SNF related, matrix associated, actin depe...</td>\n",
       "      <td>SWI/SNF complex subunit SMARCC1</td>\n",
       "      <td>...</td>\n",
       "      <td>NaN</td>\n",
       "      <td>NaN</td>\n",
       "      <td>NaN</td>\n",
       "      <td>NaN</td>\n",
       "      <td>Blood</td>\n",
       "      <td>PBMC</td>\n",
       "      <td>Short Term Restimulated</td>\n",
       "      <td>NaN</td>\n",
       "      <td>NaN</td>\n",
       "      <td>Blood</td>\n",
       "      <td>PBMC</td>\n",
       "      <td>Direct Ex Vivo</td>\n",
       "      <td>I</td>\n",
       "      <td>MHC binding prediction</td>\n",
       "      <td>Epitope</td>\n",
       "      <td>Linear peptide</td>\n",
       "      <td>AAKAALEDF</td>\n",
       "      <td>NaN</td>\n",
       "      <td>NaN</td>\n",
       "      <td>NaN</td>\n",
       "      <td>NaN</td>\n",
       "      <td>NaN</td>\n",
       "      <td>NaN</td>\n",
       "      <td>NaN</td>\n",
       "      <td>9</td>\n",
       "    </tr>\n",
       "    <tr>\n",
       "      <th>4</th>\n",
       "      <td>AAMHGRKIM</td>\n",
       "      <td>HLA-B*07:02</td>\n",
       "      <td>Literature</td>\n",
       "      <td>31511069.0</td>\n",
       "      <td>Michael Fehlings; Suchit Jhunjhunwala; Marcin ...</td>\n",
       "      <td>J Immunother Cancer</td>\n",
       "      <td>2019</td>\n",
       "      <td>Late-differentiated effector neoantigen-specif...</td>\n",
       "      <td>NaN</td>\n",
       "      <td>Linear peptide</td>\n",
       "      <td>NaN</td>\n",
       "      <td>NaN</td>\n",
       "      <td>NaN</td>\n",
       "      <td>NaN</td>\n",
       "      <td>NaN</td>\n",
       "      <td>NaN</td>\n",
       "      <td>NaN</td>\n",
       "      <td>unspecified neo-epitope</td>\n",
       "      <td>Fragment of a Natural Sequence Molecule</td>\n",
       "      <td>AAMNGRKIM</td>\n",
       "      <td>66.0</td>\n",
       "      <td>74.0</td>\n",
       "      <td>p40-TIA-1 (containing p15-TIA-1); T-cell-restr...</td>\n",
       "      <td>nucleolysin TIA-1 isoform p40 isoform 15 [Homo...</td>\n",
       "      <td>Nucleolysin TIA-1 isoform p40</td>\n",
       "      <td>...</td>\n",
       "      <td>NaN</td>\n",
       "      <td>NaN</td>\n",
       "      <td>NaN</td>\n",
       "      <td>NaN</td>\n",
       "      <td>Blood</td>\n",
       "      <td>T cell CD8+</td>\n",
       "      <td>Direct Ex Vivo</td>\n",
       "      <td>NaN</td>\n",
       "      <td>NaN</td>\n",
       "      <td>NaN</td>\n",
       "      <td>NaN</td>\n",
       "      <td>NaN</td>\n",
       "      <td>I</td>\n",
       "      <td>MHC binding prediction</td>\n",
       "      <td>Epitope</td>\n",
       "      <td>Linear peptide</td>\n",
       "      <td>AAMHGRKIM</td>\n",
       "      <td>NaN</td>\n",
       "      <td>NaN</td>\n",
       "      <td>NaN</td>\n",
       "      <td>NaN</td>\n",
       "      <td>NaN</td>\n",
       "      <td>NaN</td>\n",
       "      <td>NaN</td>\n",
       "      <td>9</td>\n",
       "    </tr>\n",
       "    <tr>\n",
       "      <th>...</th>\n",
       "      <td>...</td>\n",
       "      <td>...</td>\n",
       "      <td>...</td>\n",
       "      <td>...</td>\n",
       "      <td>...</td>\n",
       "      <td>...</td>\n",
       "      <td>...</td>\n",
       "      <td>...</td>\n",
       "      <td>...</td>\n",
       "      <td>...</td>\n",
       "      <td>...</td>\n",
       "      <td>...</td>\n",
       "      <td>...</td>\n",
       "      <td>...</td>\n",
       "      <td>...</td>\n",
       "      <td>...</td>\n",
       "      <td>...</td>\n",
       "      <td>...</td>\n",
       "      <td>...</td>\n",
       "      <td>...</td>\n",
       "      <td>...</td>\n",
       "      <td>...</td>\n",
       "      <td>...</td>\n",
       "      <td>...</td>\n",
       "      <td>...</td>\n",
       "      <td>...</td>\n",
       "      <td>...</td>\n",
       "      <td>...</td>\n",
       "      <td>...</td>\n",
       "      <td>...</td>\n",
       "      <td>...</td>\n",
       "      <td>...</td>\n",
       "      <td>...</td>\n",
       "      <td>...</td>\n",
       "      <td>...</td>\n",
       "      <td>...</td>\n",
       "      <td>...</td>\n",
       "      <td>...</td>\n",
       "      <td>...</td>\n",
       "      <td>...</td>\n",
       "      <td>...</td>\n",
       "      <td>...</td>\n",
       "      <td>...</td>\n",
       "      <td>...</td>\n",
       "      <td>...</td>\n",
       "      <td>...</td>\n",
       "      <td>...</td>\n",
       "      <td>...</td>\n",
       "      <td>...</td>\n",
       "      <td>...</td>\n",
       "      <td>...</td>\n",
       "    </tr>\n",
       "    <tr>\n",
       "      <th>3023</th>\n",
       "      <td>YYPGKKEPF</td>\n",
       "      <td>HLA-A*24:02</td>\n",
       "      <td>Literature</td>\n",
       "      <td>34270940.0</td>\n",
       "      <td>Yang Cheng; Bavani Gunasegaran; Harsimran D Si...</td>\n",
       "      <td>Immunity</td>\n",
       "      <td>2021</td>\n",
       "      <td>Non-terminally exhausted tumor-resident memory...</td>\n",
       "      <td>NaN</td>\n",
       "      <td>Linear peptide</td>\n",
       "      <td>NaN</td>\n",
       "      <td>NaN</td>\n",
       "      <td>NaN</td>\n",
       "      <td>NaN</td>\n",
       "      <td>NaN</td>\n",
       "      <td>NaN</td>\n",
       "      <td>NaN</td>\n",
       "      <td>unspecified neo-epitope</td>\n",
       "      <td>Fragment of a Natural Sequence Molecule</td>\n",
       "      <td>YYSGKKEPF</td>\n",
       "      <td>260.0</td>\n",
       "      <td>268.0</td>\n",
       "      <td>Cytochrome c oxidase polypeptide I, MT-CO1, CO...</td>\n",
       "      <td>Cytochrome c oxidase subunit 1</td>\n",
       "      <td>Cytochrome c oxidase subunit 1</td>\n",
       "      <td>...</td>\n",
       "      <td>NaN</td>\n",
       "      <td>NaN</td>\n",
       "      <td>NaN</td>\n",
       "      <td>NaN</td>\n",
       "      <td>Liver</td>\n",
       "      <td>Hepatocyte</td>\n",
       "      <td>Direct Ex Vivo</td>\n",
       "      <td>NaN</td>\n",
       "      <td>NaN</td>\n",
       "      <td>NaN</td>\n",
       "      <td>NaN</td>\n",
       "      <td>NaN</td>\n",
       "      <td>I</td>\n",
       "      <td>Single allele present</td>\n",
       "      <td>Epitope</td>\n",
       "      <td>Linear peptide</td>\n",
       "      <td>YYPGKKEPF</td>\n",
       "      <td>NaN</td>\n",
       "      <td>NaN</td>\n",
       "      <td>NaN</td>\n",
       "      <td>NaN</td>\n",
       "      <td>NaN</td>\n",
       "      <td>NaN</td>\n",
       "      <td>NaN</td>\n",
       "      <td>9</td>\n",
       "    </tr>\n",
       "    <tr>\n",
       "      <th>3024</th>\n",
       "      <td>YYSKNLNSF</td>\n",
       "      <td>HLA-A*24:02</td>\n",
       "      <td>Literature</td>\n",
       "      <td>28423700.0</td>\n",
       "      <td>Barbara Schr&amp;ouml;rs; Silke L&amp;uuml;bcke; Volke...</td>\n",
       "      <td>Oncotarget</td>\n",
       "      <td>2017</td>\n",
       "      <td>HLA class I loss in metachronous metastases pr...</td>\n",
       "      <td>NaN</td>\n",
       "      <td>Linear peptide</td>\n",
       "      <td>NaN</td>\n",
       "      <td>NaN</td>\n",
       "      <td>NaN</td>\n",
       "      <td>NaN</td>\n",
       "      <td>NaN</td>\n",
       "      <td>NaN</td>\n",
       "      <td>NaN</td>\n",
       "      <td>unspecified neo-epitope</td>\n",
       "      <td>Fragment of a Natural Sequence Molecule</td>\n",
       "      <td>YYSKNLNSS</td>\n",
       "      <td>429.0</td>\n",
       "      <td>437.0</td>\n",
       "      <td>Methyl methanesulfonate-sensitivity protein 22...</td>\n",
       "      <td>Protein MMS22-like</td>\n",
       "      <td>Protein MMS22-like</td>\n",
       "      <td>...</td>\n",
       "      <td>NaN</td>\n",
       "      <td>NaN</td>\n",
       "      <td>NaN</td>\n",
       "      <td>NaN</td>\n",
       "      <td>Blood</td>\n",
       "      <td>T cell CD8+</td>\n",
       "      <td>Cell Line / Clone</td>\n",
       "      <td>16C/114</td>\n",
       "      <td>NaN</td>\n",
       "      <td>Blood</td>\n",
       "      <td>Lymphocyte</td>\n",
       "      <td>Direct Ex Vivo</td>\n",
       "      <td>I</td>\n",
       "      <td>MHC binding prediction</td>\n",
       "      <td>Epitope</td>\n",
       "      <td>Linear peptide</td>\n",
       "      <td>YYSKNLNSF</td>\n",
       "      <td>NaN</td>\n",
       "      <td>NaN</td>\n",
       "      <td>NaN</td>\n",
       "      <td>NaN</td>\n",
       "      <td>NaN</td>\n",
       "      <td>NaN</td>\n",
       "      <td>Autologous mixed lymphocyte-tumor cell culture...</td>\n",
       "      <td>9</td>\n",
       "    </tr>\n",
       "    <tr>\n",
       "      <th>3025</th>\n",
       "      <td>YYSKNLNSFF</td>\n",
       "      <td>HLA-A*24:02</td>\n",
       "      <td>Literature</td>\n",
       "      <td>28423700.0</td>\n",
       "      <td>Barbara Schr&amp;ouml;rs; Silke L&amp;uuml;bcke; Volke...</td>\n",
       "      <td>Oncotarget</td>\n",
       "      <td>2017</td>\n",
       "      <td>HLA class I loss in metachronous metastases pr...</td>\n",
       "      <td>NaN</td>\n",
       "      <td>Linear peptide</td>\n",
       "      <td>NaN</td>\n",
       "      <td>NaN</td>\n",
       "      <td>NaN</td>\n",
       "      <td>NaN</td>\n",
       "      <td>NaN</td>\n",
       "      <td>NaN</td>\n",
       "      <td>NaN</td>\n",
       "      <td>unspecified neo-epitope</td>\n",
       "      <td>Fragment of a Natural Sequence Molecule</td>\n",
       "      <td>YYSKNLNSSF</td>\n",
       "      <td>429.0</td>\n",
       "      <td>438.0</td>\n",
       "      <td>NaN</td>\n",
       "      <td>protein MMS22-like</td>\n",
       "      <td>Protein MMS22-like</td>\n",
       "      <td>...</td>\n",
       "      <td>NaN</td>\n",
       "      <td>NaN</td>\n",
       "      <td>NaN</td>\n",
       "      <td>NaN</td>\n",
       "      <td>Blood</td>\n",
       "      <td>T cell CD8+</td>\n",
       "      <td>Cell Line / Clone</td>\n",
       "      <td>16C/114</td>\n",
       "      <td>NaN</td>\n",
       "      <td>Blood</td>\n",
       "      <td>Lymphocyte</td>\n",
       "      <td>Direct Ex Vivo</td>\n",
       "      <td>I</td>\n",
       "      <td>T cell assay -Biological process measured</td>\n",
       "      <td>Epitope</td>\n",
       "      <td>Linear peptide</td>\n",
       "      <td>YYSKNLNSFF</td>\n",
       "      <td>NaN</td>\n",
       "      <td>NaN</td>\n",
       "      <td>NaN</td>\n",
       "      <td>NaN</td>\n",
       "      <td>NaN</td>\n",
       "      <td>NaN</td>\n",
       "      <td>Autologous mixed lymphocyte-tumor cell culture...</td>\n",
       "      <td>10</td>\n",
       "    </tr>\n",
       "    <tr>\n",
       "      <th>3026</th>\n",
       "      <td>YYSKNLNSFF</td>\n",
       "      <td>HLA-A*24:02</td>\n",
       "      <td>Literature</td>\n",
       "      <td>28423700.0</td>\n",
       "      <td>Barbara Schr&amp;ouml;rs; Silke L&amp;uuml;bcke; Volke...</td>\n",
       "      <td>Oncotarget</td>\n",
       "      <td>2017</td>\n",
       "      <td>HLA class I loss in metachronous metastases pr...</td>\n",
       "      <td>NaN</td>\n",
       "      <td>Linear peptide</td>\n",
       "      <td>NaN</td>\n",
       "      <td>NaN</td>\n",
       "      <td>NaN</td>\n",
       "      <td>NaN</td>\n",
       "      <td>NaN</td>\n",
       "      <td>NaN</td>\n",
       "      <td>NaN</td>\n",
       "      <td>unspecified neo-epitope</td>\n",
       "      <td>Fragment of a Natural Sequence Molecule</td>\n",
       "      <td>YYSKNLNSSF</td>\n",
       "      <td>429.0</td>\n",
       "      <td>438.0</td>\n",
       "      <td>NaN</td>\n",
       "      <td>protein MMS22-like</td>\n",
       "      <td>Protein MMS22-like</td>\n",
       "      <td>...</td>\n",
       "      <td>NaN</td>\n",
       "      <td>NaN</td>\n",
       "      <td>NaN</td>\n",
       "      <td>NaN</td>\n",
       "      <td>Blood</td>\n",
       "      <td>T cell CD8+</td>\n",
       "      <td>Cell Line / Clone</td>\n",
       "      <td>16C/114</td>\n",
       "      <td>NaN</td>\n",
       "      <td>Kidney</td>\n",
       "      <td>Fibroblast</td>\n",
       "      <td>Cell Line / Clone</td>\n",
       "      <td>I</td>\n",
       "      <td>T cell assay -Biological process measured</td>\n",
       "      <td>Structurally Related</td>\n",
       "      <td>Protein</td>\n",
       "      <td>Protein MMS22-like</td>\n",
       "      <td>NaN</td>\n",
       "      <td>NaN</td>\n",
       "      <td>NaN</td>\n",
       "      <td>NaN</td>\n",
       "      <td>Homo sapiens</td>\n",
       "      <td>Homo sapiens</td>\n",
       "      <td>The neo-epitope-specificT cell clone was shown...</td>\n",
       "      <td>10</td>\n",
       "    </tr>\n",
       "    <tr>\n",
       "      <th>3027</th>\n",
       "      <td>YYSPQAQTL</td>\n",
       "      <td>HLA-A*24:02</td>\n",
       "      <td>Literature</td>\n",
       "      <td>30880120.0</td>\n",
       "      <td>Chizu Nonomura; Masaki Otsuka; Ryota Kondou; A...</td>\n",
       "      <td>Immunol Lett</td>\n",
       "      <td>2019</td>\n",
       "      <td>Identification of a neoantigen epitope in a me...</td>\n",
       "      <td>NaN</td>\n",
       "      <td>Linear peptide</td>\n",
       "      <td>NaN</td>\n",
       "      <td>NaN</td>\n",
       "      <td>NaN</td>\n",
       "      <td>NaN</td>\n",
       "      <td>NaN</td>\n",
       "      <td>NaN</td>\n",
       "      <td>NaN</td>\n",
       "      <td>unspecified neo-epitope</td>\n",
       "      <td>Fragment of a Natural Sequence Molecule</td>\n",
       "      <td>YYSPQAQTP</td>\n",
       "      <td>380.0</td>\n",
       "      <td>388.0</td>\n",
       "      <td>SLAIN1, C13orf32</td>\n",
       "      <td>SLAIN motif-containing protein 1</td>\n",
       "      <td>SLAIN motif-containing protein 1</td>\n",
       "      <td>...</td>\n",
       "      <td>NaN</td>\n",
       "      <td>5.0</td>\n",
       "      <td>0.0</td>\n",
       "      <td>0.0</td>\n",
       "      <td>Blood</td>\n",
       "      <td>PBMC</td>\n",
       "      <td>Short Term Restimulated</td>\n",
       "      <td>NaN</td>\n",
       "      <td>NaN</td>\n",
       "      <td>Blood</td>\n",
       "      <td>Dendritic cell</td>\n",
       "      <td>Direct Ex Vivo</td>\n",
       "      <td>I</td>\n",
       "      <td>Statistically inferred by motif or alleles pre...</td>\n",
       "      <td>Epitope</td>\n",
       "      <td>Linear peptide</td>\n",
       "      <td>YYSPQAQTL</td>\n",
       "      <td>NaN</td>\n",
       "      <td>NaN</td>\n",
       "      <td>NaN</td>\n",
       "      <td>NaN</td>\n",
       "      <td>NaN</td>\n",
       "      <td>NaN</td>\n",
       "      <td>NaN</td>\n",
       "      <td>9</td>\n",
       "    </tr>\n",
       "  </tbody>\n",
       "</table>\n",
       "<p>3028 rows × 98 columns</p>\n",
       "</div>"
      ],
      "text/plain": [
       "     epitope_description mhc_allele name reference_type  reference_pubmed id  \\\n",
       "0              AAASATLAL     HLA-C*08:01     Literature           36651232.0   \n",
       "1              AAHFTVLLY     HLA-A*11:01     Literature           31511069.0   \n",
       "2              AAIAASRSV     HLA-C*12:03     Literature           30556813.0   \n",
       "3              AAKAALEDF     HLA-C*16:01     Literature           30556813.0   \n",
       "4              AAMHGRKIM     HLA-B*07:02     Literature           31511069.0   \n",
       "...                  ...             ...            ...                  ...   \n",
       "3023           YYPGKKEPF     HLA-A*24:02     Literature           34270940.0   \n",
       "3024           YYSKNLNSF     HLA-A*24:02     Literature           28423700.0   \n",
       "3025          YYSKNLNSFF     HLA-A*24:02     Literature           28423700.0   \n",
       "3026          YYSKNLNSFF     HLA-A*24:02     Literature           28423700.0   \n",
       "3027           YYSPQAQTL     HLA-A*24:02     Literature           30880120.0   \n",
       "\n",
       "                                      reference_authors    reference_journal  \\\n",
       "0     Song Gao; Jiaqian Wang; Zhongzheng Zhu; Juemin...        Immunotherapy   \n",
       "1     Michael Fehlings; Suchit Jhunjhunwala; Marcin ...  J Immunother Cancer   \n",
       "2     Brendan Bulik-Sullivan; Jennifer Busby; Christ...       Nat Biotechnol   \n",
       "3     Brendan Bulik-Sullivan; Jennifer Busby; Christ...       Nat Biotechnol   \n",
       "4     Michael Fehlings; Suchit Jhunjhunwala; Marcin ...  J Immunother Cancer   \n",
       "...                                                 ...                  ...   \n",
       "3023  Yang Cheng; Bavani Gunasegaran; Harsimran D Si...             Immunity   \n",
       "3024  Barbara Schr&ouml;rs; Silke L&uuml;bcke; Volke...           Oncotarget   \n",
       "3025  Barbara Schr&ouml;rs; Silke L&uuml;bcke; Volke...           Oncotarget   \n",
       "3026  Barbara Schr&ouml;rs; Silke L&uuml;bcke; Volke...           Oncotarget   \n",
       "3027  Chizu Nonomura; Masaki Otsuka; Ryota Kondou; A...         Immunol Lett   \n",
       "\n",
       "      reference_date                                    reference_title  \\\n",
       "0               2023  Effective personalized neoantigen vaccine plus...   \n",
       "1               2019  Late-differentiated effector neoantigen-specif...   \n",
       "2               2018  Deep learning using tumor HLA peptide mass spe...   \n",
       "3               2018  Deep learning using tumor HLA peptide mass spe...   \n",
       "4               2019  Late-differentiated effector neoantigen-specif...   \n",
       "...              ...                                                ...   \n",
       "3023            2021  Non-terminally exhausted tumor-resident memory...   \n",
       "3024            2017  HLA class I loss in metachronous metastases pr...   \n",
       "3025            2017  HLA class I loss in metachronous metastases pr...   \n",
       "3026            2017  HLA class I loss in metachronous metastases pr...   \n",
       "3027            2019  Identification of a neoantigen epitope in a me...   \n",
       "\n",
       "      reference_submission id epitope_object type  epitope_starting position  \\\n",
       "0                         NaN      Linear peptide                        NaN   \n",
       "1                         NaN      Linear peptide                        NaN   \n",
       "2                         NaN      Linear peptide                        NaN   \n",
       "3                         NaN      Linear peptide                        NaN   \n",
       "4                         NaN      Linear peptide                        NaN   \n",
       "...                       ...                 ...                        ...   \n",
       "3023                      NaN      Linear peptide                        NaN   \n",
       "3024                      NaN      Linear peptide                        NaN   \n",
       "3025                      NaN      Linear peptide                        NaN   \n",
       "3026                      NaN      Linear peptide                        NaN   \n",
       "3027                      NaN      Linear peptide                        NaN   \n",
       "\n",
       "      epitope_ending position epitope_antigen name epitope_parent protein  \\\n",
       "0                         NaN                  NaN                    NaN   \n",
       "1                         NaN                  NaN                    NaN   \n",
       "2                         NaN                  NaN                    NaN   \n",
       "3                         NaN                  NaN                    NaN   \n",
       "4                         NaN                  NaN                    NaN   \n",
       "...                       ...                  ...                    ...   \n",
       "3023                      NaN                  NaN                    NaN   \n",
       "3024                      NaN                  NaN                    NaN   \n",
       "3025                      NaN                  NaN                    NaN   \n",
       "3026                      NaN                  NaN                    NaN   \n",
       "3027                      NaN                  NaN                    NaN   \n",
       "\n",
       "     epitope_organism name epitope_parent species epitope_epitope comments  \\\n",
       "0                      NaN                    NaN                      NaN   \n",
       "1                      NaN                    NaN                      NaN   \n",
       "2                      NaN                    NaN                      NaN   \n",
       "3                      NaN                    NaN                      NaN   \n",
       "4                      NaN                    NaN                      NaN   \n",
       "...                    ...                    ...                      ...   \n",
       "3023                   NaN                    NaN                      NaN   \n",
       "3024                   NaN                    NaN                      NaN   \n",
       "3025                   NaN                    NaN                      NaN   \n",
       "3026                   NaN                    NaN                      NaN   \n",
       "3027                   NaN                    NaN                      NaN   \n",
       "\n",
       "     related object_epitope relationship  \\\n",
       "0                   in-frame neo-epitope   \n",
       "1                unspecified neo-epitope   \n",
       "2                unspecified neo-epitope   \n",
       "3                unspecified neo-epitope   \n",
       "4                unspecified neo-epitope   \n",
       "...                                  ...   \n",
       "3023             unspecified neo-epitope   \n",
       "3024             unspecified neo-epitope   \n",
       "3025             unspecified neo-epitope   \n",
       "3026             unspecified neo-epitope   \n",
       "3027             unspecified neo-epitope   \n",
       "\n",
       "                   related object_object type related object_description  \\\n",
       "0     Fragment of a Natural Sequence Molecule                  AAASATLAS   \n",
       "1     Fragment of a Natural Sequence Molecule                  AAHFTALLY   \n",
       "2     Fragment of a Natural Sequence Molecule                  AAIAASRSA   \n",
       "3     Fragment of a Natural Sequence Molecule                  AAKAALEEF   \n",
       "4     Fragment of a Natural Sequence Molecule                  AAMNGRKIM   \n",
       "...                                       ...                        ...   \n",
       "3023  Fragment of a Natural Sequence Molecule                  YYSGKKEPF   \n",
       "3024  Fragment of a Natural Sequence Molecule                  YYSKNLNSS   \n",
       "3025  Fragment of a Natural Sequence Molecule                 YYSKNLNSSF   \n",
       "3026  Fragment of a Natural Sequence Molecule                 YYSKNLNSSF   \n",
       "3027  Fragment of a Natural Sequence Molecule                  YYSPQAQTP   \n",
       "\n",
       "      related object_starting position  related object_ending position  \\\n",
       "0                                 45.0                            53.0   \n",
       "1                               1949.0                          1957.0   \n",
       "2                                  6.0                            14.0   \n",
       "3                                376.0                           384.0   \n",
       "4                                 66.0                            74.0   \n",
       "...                                ...                             ...   \n",
       "3023                             260.0                           268.0   \n",
       "3024                             429.0                           437.0   \n",
       "3025                             429.0                           438.0   \n",
       "3026                             429.0                           438.0   \n",
       "3027                             380.0                           388.0   \n",
       "\n",
       "                                related object_synonyms  \\\n",
       "0                                                 SOX30   \n",
       "1                                                   NaN   \n",
       "2                                                   NaN   \n",
       "3                                                   NaN   \n",
       "4     p40-TIA-1 (containing p15-TIA-1); T-cell-restr...   \n",
       "...                                                 ...   \n",
       "3023  Cytochrome c oxidase polypeptide I, MT-CO1, CO...   \n",
       "3024  Methyl methanesulfonate-sensitivity protein 22...   \n",
       "3025                                                NaN   \n",
       "3026                                                NaN   \n",
       "3027                                   SLAIN1, C13orf32   \n",
       "\n",
       "                            related object_antigen name  \\\n",
       "0                           Transcription factor SOX-30   \n",
       "1                                              ATM gene   \n",
       "2     Chromosome 1 open reading frame 198 [Homo sapi...   \n",
       "3     SWI/SNF related, matrix associated, actin depe...   \n",
       "4     nucleolysin TIA-1 isoform p40 isoform 15 [Homo...   \n",
       "...                                                 ...   \n",
       "3023                     Cytochrome c oxidase subunit 1   \n",
       "3024                                 Protein MMS22-like   \n",
       "3025                                 protein MMS22-like   \n",
       "3026                                 protein MMS22-like   \n",
       "3027                   SLAIN motif-containing protein 1   \n",
       "\n",
       "         related object_parent protein  ... assay_quantitative measurement  \\\n",
       "0          Transcription factor SOX-30  ...                            NaN   \n",
       "1            Serine-protein kinase ATM  ...                            NaN   \n",
       "2     Uncharacterized protein C1orf198  ...                            NaN   \n",
       "3      SWI/SNF complex subunit SMARCC1  ...                            NaN   \n",
       "4        Nucleolysin TIA-1 isoform p40  ...                            NaN   \n",
       "...                                ...  ...                            ...   \n",
       "3023    Cytochrome c oxidase subunit 1  ...                            NaN   \n",
       "3024                Protein MMS22-like  ...                            NaN   \n",
       "3025                Protein MMS22-like  ...                            NaN   \n",
       "3026                Protein MMS22-like  ...                            NaN   \n",
       "3027  SLAIN motif-containing protein 1  ...                            NaN   \n",
       "\n",
       "     assay_number of subjects tested assay_number of subjects responded  \\\n",
       "0                                NaN                                NaN   \n",
       "1                                NaN                                NaN   \n",
       "2                                NaN                                NaN   \n",
       "3                                NaN                                NaN   \n",
       "4                                NaN                                NaN   \n",
       "...                              ...                                ...   \n",
       "3023                             NaN                                NaN   \n",
       "3024                             NaN                                NaN   \n",
       "3025                             NaN                                NaN   \n",
       "3026                             NaN                                NaN   \n",
       "3027                             5.0                                0.0   \n",
       "\n",
       "     assay_response frequency effector cells_cell tissue type  \\\n",
       "0                         NaN                           Blood   \n",
       "1                         NaN                           Blood   \n",
       "2                         NaN                           Blood   \n",
       "3                         NaN                           Blood   \n",
       "4                         NaN                           Blood   \n",
       "...                       ...                             ...   \n",
       "3023                      NaN                           Liver   \n",
       "3024                      NaN                           Blood   \n",
       "3025                      NaN                           Blood   \n",
       "3026                      NaN                           Blood   \n",
       "3027                      0.0                           Blood   \n",
       "\n",
       "     effector cells_cell type effector cells_cell culture conditions  \\\n",
       "0                 T cell CD8+                Short Term Restimulated   \n",
       "1                 T cell CD8+                         Direct Ex Vivo   \n",
       "2                        PBMC                Short Term Restimulated   \n",
       "3                        PBMC                Short Term Restimulated   \n",
       "4                 T cell CD8+                         Direct Ex Vivo   \n",
       "...                       ...                                    ...   \n",
       "3023               Hepatocyte                         Direct Ex Vivo   \n",
       "3024              T cell CD8+                      Cell Line / Clone   \n",
       "3025              T cell CD8+                      Cell Line / Clone   \n",
       "3026              T cell CD8+                      Cell Line / Clone   \n",
       "3027                     PBMC                Short Term Restimulated   \n",
       "\n",
       "     tcr_assayed tcr molecule name tcr_pdb id  \\\n",
       "0                              NaN        NaN   \n",
       "1                              NaN        NaN   \n",
       "2                              NaN        NaN   \n",
       "3                              NaN        NaN   \n",
       "4                              NaN        NaN   \n",
       "...                            ...        ...   \n",
       "3023                           NaN        NaN   \n",
       "3024                       16C/114        NaN   \n",
       "3025                       16C/114        NaN   \n",
       "3026                       16C/114        NaN   \n",
       "3027                           NaN        NaN   \n",
       "\n",
       "     antigen presenting cells_cell tissue type  \\\n",
       "0                                        Blood   \n",
       "1                                          NaN   \n",
       "2                                        Blood   \n",
       "3                                        Blood   \n",
       "4                                          NaN   \n",
       "...                                        ...   \n",
       "3023                                       NaN   \n",
       "3024                                     Blood   \n",
       "3025                                     Blood   \n",
       "3026                                    Kidney   \n",
       "3027                                     Blood   \n",
       "\n",
       "     antigen presenting cells_cell type  \\\n",
       "0                        Dendritic cell   \n",
       "1                                   NaN   \n",
       "2                                  PBMC   \n",
       "3                                  PBMC   \n",
       "4                                   NaN   \n",
       "...                                 ...   \n",
       "3023                                NaN   \n",
       "3024                         Lymphocyte   \n",
       "3025                         Lymphocyte   \n",
       "3026                         Fibroblast   \n",
       "3027                     Dendritic cell   \n",
       "\n",
       "      antigen presenting cells_cell culture conditions  mhc_class  \\\n",
       "0                                       Direct Ex Vivo          I   \n",
       "1                                                  NaN          I   \n",
       "2                                       Direct Ex Vivo          I   \n",
       "3                                       Direct Ex Vivo          I   \n",
       "4                                                  NaN          I   \n",
       "...                                                ...        ...   \n",
       "3023                                               NaN          I   \n",
       "3024                                    Direct Ex Vivo          I   \n",
       "3025                                    Direct Ex Vivo          I   \n",
       "3026                                 Cell Line / Clone          I   \n",
       "3027                                    Direct Ex Vivo          I   \n",
       "\n",
       "                               mhc_allele evidence code  \\\n",
       "0                                MHC binding prediction   \n",
       "1                                MHC binding prediction   \n",
       "2                                MHC binding prediction   \n",
       "3                                MHC binding prediction   \n",
       "4                                MHC binding prediction   \n",
       "...                                                 ...   \n",
       "3023                              Single allele present   \n",
       "3024                             MHC binding prediction   \n",
       "3025          T cell assay -Biological process measured   \n",
       "3026          T cell assay -Biological process measured   \n",
       "3027  Statistically inferred by motif or alleles pre...   \n",
       "\n",
       "      assay antigen_antigen epitope relation  \\\n",
       "0                                    Epitope   \n",
       "1                                    Epitope   \n",
       "2                                    Epitope   \n",
       "3                                    Epitope   \n",
       "4                                    Epitope   \n",
       "...                                      ...   \n",
       "3023                                 Epitope   \n",
       "3024                                 Epitope   \n",
       "3025                                 Epitope   \n",
       "3026                    Structurally Related   \n",
       "3027                                 Epitope   \n",
       "\n",
       "     assay antigen_antigen object type assay antigen_antigen description  \\\n",
       "0                       Linear peptide                         AAASATLAL   \n",
       "1                       Linear peptide                         AAHFTVLLY   \n",
       "2                       Linear peptide                         AAIAASRSV   \n",
       "3                       Linear peptide                         AAKAALEDF   \n",
       "4                       Linear peptide                         AAMHGRKIM   \n",
       "...                                ...                               ...   \n",
       "3023                    Linear peptide                         YYPGKKEPF   \n",
       "3024                    Linear peptide                         YYSKNLNSF   \n",
       "3025                    Linear peptide                        YYSKNLNSFF   \n",
       "3026                           Protein                Protein MMS22-like   \n",
       "3027                    Linear peptide                         YYSPQAQTL   \n",
       "\n",
       "     assay antigen_starting position  assay antigen_ending position  \\\n",
       "0                                NaN                            NaN   \n",
       "1                                NaN                            NaN   \n",
       "2                                NaN                            NaN   \n",
       "3                                NaN                            NaN   \n",
       "4                                NaN                            NaN   \n",
       "...                              ...                            ...   \n",
       "3023                             NaN                            NaN   \n",
       "3024                             NaN                            NaN   \n",
       "3025                             NaN                            NaN   \n",
       "3026                             NaN                            NaN   \n",
       "3027                             NaN                            NaN   \n",
       "\n",
       "      assay antigen_antigen source molecule name  \\\n",
       "0                                            NaN   \n",
       "1                                            NaN   \n",
       "2                                            NaN   \n",
       "3                                            NaN   \n",
       "4                                            NaN   \n",
       "...                                          ...   \n",
       "3023                                         NaN   \n",
       "3024                                         NaN   \n",
       "3025                                         NaN   \n",
       "3026                                         NaN   \n",
       "3027                                         NaN   \n",
       "\n",
       "     assay antigen_protein parent name assay antigen_antigen organism name  \\\n",
       "0                                  NaN                                 NaN   \n",
       "1                                  NaN                                 NaN   \n",
       "2                                  NaN                                 NaN   \n",
       "3                                  NaN                                 NaN   \n",
       "4                                  NaN                                 NaN   \n",
       "...                                ...                                 ...   \n",
       "3023                               NaN                                 NaN   \n",
       "3024                               NaN                                 NaN   \n",
       "3025                               NaN                                 NaN   \n",
       "3026                               NaN                        Homo sapiens   \n",
       "3027                               NaN                                 NaN   \n",
       "\n",
       "     assay antigen_organism species name  \\\n",
       "0                                    NaN   \n",
       "1                                    NaN   \n",
       "2                                    NaN   \n",
       "3                                    NaN   \n",
       "4                                    NaN   \n",
       "...                                  ...   \n",
       "3023                                 NaN   \n",
       "3024                                 NaN   \n",
       "3025                                 NaN   \n",
       "3026                        Homo sapiens   \n",
       "3027                                 NaN   \n",
       "\n",
       "                          assay comments_assay comments  len_epi  \n",
       "0                                                   NaN        9  \n",
       "1                                                   NaN        9  \n",
       "2                                                   NaN        9  \n",
       "3                                                   NaN        9  \n",
       "4                                                   NaN        9  \n",
       "...                                                 ...      ...  \n",
       "3023                                                NaN        9  \n",
       "3024  Autologous mixed lymphocyte-tumor cell culture...        9  \n",
       "3025  Autologous mixed lymphocyte-tumor cell culture...       10  \n",
       "3026  The neo-epitope-specificT cell clone was shown...       10  \n",
       "3027                                                NaN        9  \n",
       "\n",
       "[3028 rows x 98 columns]"
      ]
     },
     "execution_count": 217,
     "metadata": {},
     "output_type": "execute_result"
    }
   ],
   "source": [
    "# Initial filter (len in [8,12], full mhc reso, 2 or fewer assays\n",
    "assays['len_epi'] = assays['epitope_description'].apply(len)\n",
    "lenmhc_query='len_epi>=8 and len_epi<=12 and `mhc_allele name`.str.contains(\"\\*\")'\n",
    "assays_f= assays.copy()\n",
    "assays_f= assays_f.query(lenmhc_query)\n",
    "epis_to_keep = assays_f.groupby(['epitope_description','mhc_allele name']).agg(count=('len_epi','count')).query('count<=2').index\n",
    "assays_f = assays_f.set_index(['epitope_description', 'mhc_allele name']).loc[epis_to_keep].copy().reset_index()"
   ]
  },
  {
   "cell_type": "code",
   "execution_count": 219,
   "id": "220ccf0c-7405-4894-9d98-2ac576b65db4",
   "metadata": {
    "collapsed": true,
    "jupyter": {
     "outputs_hidden": true
    },
    "tags": []
   },
   "outputs": [
    {
     "data": {
      "text/html": [
       "<div>\n",
       "<style scoped>\n",
       "    .dataframe tbody tr th:only-of-type {\n",
       "        vertical-align: middle;\n",
       "    }\n",
       "\n",
       "    .dataframe tbody tr th {\n",
       "        vertical-align: top;\n",
       "    }\n",
       "\n",
       "    .dataframe thead th {\n",
       "        text-align: right;\n",
       "    }\n",
       "</style>\n",
       "<table border=\"1\" class=\"dataframe\">\n",
       "  <thead>\n",
       "    <tr style=\"text-align: right;\">\n",
       "      <th></th>\n",
       "      <th></th>\n",
       "      <th>count</th>\n",
       "    </tr>\n",
       "    <tr>\n",
       "      <th>epitope_description</th>\n",
       "      <th>mhc_allele name</th>\n",
       "      <th></th>\n",
       "    </tr>\n",
       "  </thead>\n",
       "  <tbody>\n",
       "    <tr>\n",
       "      <th>AALPILFQV</th>\n",
       "      <th>HLA-A*02:01</th>\n",
       "      <td>4</td>\n",
       "    </tr>\n",
       "    <tr>\n",
       "      <th>AIKTSPKANK</th>\n",
       "      <th>HLA-A*30:01</th>\n",
       "      <td>4</td>\n",
       "    </tr>\n",
       "    <tr>\n",
       "      <th>ALDPHSGHFV</th>\n",
       "      <th>HLA-A*02:01</th>\n",
       "      <td>4</td>\n",
       "    </tr>\n",
       "    <tr>\n",
       "      <th>ALLPGLPAA</th>\n",
       "      <th>HLA-A*02:01</th>\n",
       "      <td>6</td>\n",
       "    </tr>\n",
       "    <tr>\n",
       "      <th>ALPQHLIRV</th>\n",
       "      <th>HLA-A*02:01</th>\n",
       "      <td>4</td>\n",
       "    </tr>\n",
       "    <tr>\n",
       "      <th>ASNASSAAK</th>\n",
       "      <th>HLA-A*11:01</th>\n",
       "      <td>9</td>\n",
       "    </tr>\n",
       "    <tr>\n",
       "      <th>AVCPWTWLR</th>\n",
       "      <th>HLA-A*11:01</th>\n",
       "      <td>4</td>\n",
       "    </tr>\n",
       "    <tr>\n",
       "      <th>EVISCKLIKR</th>\n",
       "      <th>HLA-A*68:01</th>\n",
       "      <td>4</td>\n",
       "    </tr>\n",
       "    <tr>\n",
       "      <th>FIASNGVKLV</th>\n",
       "      <th>HLA-A*02:01</th>\n",
       "      <td>8</td>\n",
       "    </tr>\n",
       "    <tr>\n",
       "      <th>FLAEHEYGL</th>\n",
       "      <th>HLA-A*02:01</th>\n",
       "      <td>7</td>\n",
       "    </tr>\n",
       "    <tr>\n",
       "      <th>FLIQTEQKL</th>\n",
       "      <th>HLA-A*02:01</th>\n",
       "      <td>4</td>\n",
       "    </tr>\n",
       "    <tr>\n",
       "      <th>FLLDEAIGL</th>\n",
       "      <th>HLA-A*02:01</th>\n",
       "      <td>4</td>\n",
       "    </tr>\n",
       "    <tr>\n",
       "      <th>GADGVGKSL</th>\n",
       "      <th>HLA-C*05:01</th>\n",
       "      <td>5</td>\n",
       "    </tr>\n",
       "    <tr>\n",
       "      <th>GMNQRPILTI</th>\n",
       "      <th>HLA-A*02:01</th>\n",
       "      <td>4</td>\n",
       "    </tr>\n",
       "    <tr>\n",
       "      <th>HDLGRLHSC</th>\n",
       "      <th>HLA-B*37:01</th>\n",
       "      <td>5</td>\n",
       "    </tr>\n",
       "    <tr>\n",
       "      <th>HIAKSLFEV</th>\n",
       "      <th>HLA-A*02:01</th>\n",
       "      <td>7</td>\n",
       "    </tr>\n",
       "    <tr>\n",
       "      <th>HLYASLSRV</th>\n",
       "      <th>HLA-A*02:01</th>\n",
       "      <td>7</td>\n",
       "    </tr>\n",
       "    <tr>\n",
       "      <th>IILVAVPHV</th>\n",
       "      <th>HLA-A*02:01</th>\n",
       "      <td>7</td>\n",
       "    </tr>\n",
       "    <tr>\n",
       "      <th>ILDKVLVHL</th>\n",
       "      <th>HLA-A*02:01</th>\n",
       "      <td>7</td>\n",
       "    </tr>\n",
       "    <tr>\n",
       "      <th>ILQDGFLYV</th>\n",
       "      <th>HLA-A*02:01</th>\n",
       "      <td>4</td>\n",
       "    </tr>\n",
       "    <tr>\n",
       "      <th>ILWIFSIYL</th>\n",
       "      <th>HLA-A*02:01</th>\n",
       "      <td>4</td>\n",
       "    </tr>\n",
       "    <tr>\n",
       "      <th>ILWRQDINL</th>\n",
       "      <th>HLA-A*02:01</th>\n",
       "      <td>6</td>\n",
       "    </tr>\n",
       "    <tr>\n",
       "      <th>KIFSEVTLK</th>\n",
       "      <th>HLA-A*03:01</th>\n",
       "      <td>4</td>\n",
       "    </tr>\n",
       "    <tr>\n",
       "      <th>KILDAVVAQK</th>\n",
       "      <th>HLA-A*03:01</th>\n",
       "      <td>4</td>\n",
       "    </tr>\n",
       "    <tr>\n",
       "      <th>KMIGNHLWV</th>\n",
       "      <th>HLA-A*02:01</th>\n",
       "      <td>7</td>\n",
       "    </tr>\n",
       "    <tr>\n",
       "      <th>KPSDTPRPVM</th>\n",
       "      <th>HLA-B*07:02</th>\n",
       "      <td>5</td>\n",
       "    </tr>\n",
       "    <tr>\n",
       "      <th>KSQREFVRR</th>\n",
       "      <th>HLA-A*31:01</th>\n",
       "      <td>4</td>\n",
       "    </tr>\n",
       "    <tr>\n",
       "      <th>LIMQLMPFGCL</th>\n",
       "      <th>HLA-A*02:01</th>\n",
       "      <td>4</td>\n",
       "    </tr>\n",
       "    <tr>\n",
       "      <th>LLGCVMYTLL</th>\n",
       "      <th>HLA-A*02:11</th>\n",
       "      <td>4</td>\n",
       "    </tr>\n",
       "    <tr>\n",
       "      <th>LLGPNSFEV</th>\n",
       "      <th>HLA-A*02:01</th>\n",
       "      <td>6</td>\n",
       "    </tr>\n",
       "    <tr>\n",
       "      <th>LLGRNSFEVHV</th>\n",
       "      <th>HLA-A*02:01</th>\n",
       "      <td>4</td>\n",
       "    </tr>\n",
       "    <tr>\n",
       "      <th>LLIRWQHFL</th>\n",
       "      <th>HLA-A*02:01</th>\n",
       "      <td>6</td>\n",
       "    </tr>\n",
       "    <tr>\n",
       "      <th>LLLDDLLVSI</th>\n",
       "      <th>HLA-A*02:01</th>\n",
       "      <td>6</td>\n",
       "    </tr>\n",
       "    <tr>\n",
       "      <th>LTSTVQLIM</th>\n",
       "      <th>HLA-C*15:02</th>\n",
       "      <td>4</td>\n",
       "    </tr>\n",
       "    <tr>\n",
       "      <th>MQLMPFGCLL</th>\n",
       "      <th>HLA-A*02:01</th>\n",
       "      <td>5</td>\n",
       "    </tr>\n",
       "    <tr>\n",
       "      <th>MQLMPFGSLL</th>\n",
       "      <th>HLA-A*02:01</th>\n",
       "      <td>5</td>\n",
       "    </tr>\n",
       "    <tr>\n",
       "      <th>PSDTRQMLFY</th>\n",
       "      <th>HLA-A*01:01</th>\n",
       "      <td>4</td>\n",
       "    </tr>\n",
       "    <tr>\n",
       "      <th>QLSCISTYV</th>\n",
       "      <th>HLA-A*02:01</th>\n",
       "      <td>7</td>\n",
       "    </tr>\n",
       "    <tr>\n",
       "      <th>QQITKTEV</th>\n",
       "      <th>HLA-B*52:01</th>\n",
       "      <td>5</td>\n",
       "    </tr>\n",
       "    <tr>\n",
       "      <th>QVTDFLAPL</th>\n",
       "      <th>HLA-A*02:01</th>\n",
       "      <td>6</td>\n",
       "    </tr>\n",
       "    <tr>\n",
       "      <th>RLFLGLAIK</th>\n",
       "      <th>HLA-A*03:01</th>\n",
       "      <td>7</td>\n",
       "    </tr>\n",
       "    <tr>\n",
       "      <th>RLIRVEGNLRV</th>\n",
       "      <th>HLA-A*02:01</th>\n",
       "      <td>4</td>\n",
       "    </tr>\n",
       "    <tr>\n",
       "      <th>RLPGVLPRA</th>\n",
       "      <th>HLA-A*02:01</th>\n",
       "      <td>7</td>\n",
       "    </tr>\n",
       "    <tr>\n",
       "      <th>RMMRTKMRM</th>\n",
       "      <th>HLA-A*02:01</th>\n",
       "      <td>7</td>\n",
       "    </tr>\n",
       "    <tr>\n",
       "      <th>RPHVPESAF</th>\n",
       "      <th>HLA-B*07:02</th>\n",
       "      <td>5</td>\n",
       "    </tr>\n",
       "    <tr>\n",
       "      <th>SHETVIIEL</th>\n",
       "      <th>HLA-B*38:01</th>\n",
       "      <td>4</td>\n",
       "    </tr>\n",
       "    <tr>\n",
       "      <th>SLFEGIDIYT</th>\n",
       "      <th>HLA-A*02:01</th>\n",
       "      <td>6</td>\n",
       "    </tr>\n",
       "    <tr>\n",
       "      <th>SMACVGFFL</th>\n",
       "      <th>HLA-A*02:01</th>\n",
       "      <td>5</td>\n",
       "    </tr>\n",
       "    <tr>\n",
       "      <th>SSYTGFANK</th>\n",
       "      <th>HLA-A*11:01</th>\n",
       "      <td>7</td>\n",
       "    </tr>\n",
       "    <tr>\n",
       "      <th>TLDWLLQTPK</th>\n",
       "      <th>HLA-A*03:01</th>\n",
       "      <td>4</td>\n",
       "    </tr>\n",
       "    <tr>\n",
       "      <th>VKITDFGRAK</th>\n",
       "      <th>HLA-A*11:01</th>\n",
       "      <td>4</td>\n",
       "    </tr>\n",
       "    <tr>\n",
       "      <th>VLDDSETTI</th>\n",
       "      <th>HLA-A*02:01</th>\n",
       "      <td>4</td>\n",
       "    </tr>\n",
       "    <tr>\n",
       "      <th>VLSNDVCAQV</th>\n",
       "      <th>HLA-A*02:01</th>\n",
       "      <td>5</td>\n",
       "    </tr>\n",
       "    <tr>\n",
       "      <th>VVGAVGVGK</th>\n",
       "      <th>HLA-A*11:01</th>\n",
       "      <td>5</td>\n",
       "    </tr>\n",
       "    <tr>\n",
       "      <th>VVPCEPPEV</th>\n",
       "      <th>HLA-A*02:01</th>\n",
       "      <td>7</td>\n",
       "    </tr>\n",
       "    <tr>\n",
       "      <th>VYFFLPDHL</th>\n",
       "      <th>HLA-A*24:02</th>\n",
       "      <td>5</td>\n",
       "    </tr>\n",
       "  </tbody>\n",
       "</table>\n",
       "</div>"
      ],
      "text/plain": [
       "                                     count\n",
       "epitope_description mhc_allele name       \n",
       "AALPILFQV           HLA-A*02:01          4\n",
       "AIKTSPKANK          HLA-A*30:01          4\n",
       "ALDPHSGHFV          HLA-A*02:01          4\n",
       "ALLPGLPAA           HLA-A*02:01          6\n",
       "ALPQHLIRV           HLA-A*02:01          4\n",
       "ASNASSAAK           HLA-A*11:01          9\n",
       "AVCPWTWLR           HLA-A*11:01          4\n",
       "EVISCKLIKR          HLA-A*68:01          4\n",
       "FIASNGVKLV          HLA-A*02:01          8\n",
       "FLAEHEYGL           HLA-A*02:01          7\n",
       "FLIQTEQKL           HLA-A*02:01          4\n",
       "FLLDEAIGL           HLA-A*02:01          4\n",
       "GADGVGKSL           HLA-C*05:01          5\n",
       "GMNQRPILTI          HLA-A*02:01          4\n",
       "HDLGRLHSC           HLA-B*37:01          5\n",
       "HIAKSLFEV           HLA-A*02:01          7\n",
       "HLYASLSRV           HLA-A*02:01          7\n",
       "IILVAVPHV           HLA-A*02:01          7\n",
       "ILDKVLVHL           HLA-A*02:01          7\n",
       "ILQDGFLYV           HLA-A*02:01          4\n",
       "ILWIFSIYL           HLA-A*02:01          4\n",
       "ILWRQDINL           HLA-A*02:01          6\n",
       "KIFSEVTLK           HLA-A*03:01          4\n",
       "KILDAVVAQK          HLA-A*03:01          4\n",
       "KMIGNHLWV           HLA-A*02:01          7\n",
       "KPSDTPRPVM          HLA-B*07:02          5\n",
       "KSQREFVRR           HLA-A*31:01          4\n",
       "LIMQLMPFGCL         HLA-A*02:01          4\n",
       "LLGCVMYTLL          HLA-A*02:11          4\n",
       "LLGPNSFEV           HLA-A*02:01          6\n",
       "LLGRNSFEVHV         HLA-A*02:01          4\n",
       "LLIRWQHFL           HLA-A*02:01          6\n",
       "LLLDDLLVSI          HLA-A*02:01          6\n",
       "LTSTVQLIM           HLA-C*15:02          4\n",
       "MQLMPFGCLL          HLA-A*02:01          5\n",
       "MQLMPFGSLL          HLA-A*02:01          5\n",
       "PSDTRQMLFY          HLA-A*01:01          4\n",
       "QLSCISTYV           HLA-A*02:01          7\n",
       "QQITKTEV            HLA-B*52:01          5\n",
       "QVTDFLAPL           HLA-A*02:01          6\n",
       "RLFLGLAIK           HLA-A*03:01          7\n",
       "RLIRVEGNLRV         HLA-A*02:01          4\n",
       "RLPGVLPRA           HLA-A*02:01          7\n",
       "RMMRTKMRM           HLA-A*02:01          7\n",
       "RPHVPESAF           HLA-B*07:02          5\n",
       "SHETVIIEL           HLA-B*38:01          4\n",
       "SLFEGIDIYT          HLA-A*02:01          6\n",
       "SMACVGFFL           HLA-A*02:01          5\n",
       "SSYTGFANK           HLA-A*11:01          7\n",
       "TLDWLLQTPK          HLA-A*03:01          4\n",
       "VKITDFGRAK          HLA-A*11:01          4\n",
       "VLDDSETTI           HLA-A*02:01          4\n",
       "VLSNDVCAQV          HLA-A*02:01          5\n",
       "VVGAVGVGK           HLA-A*11:01          5\n",
       "VVPCEPPEV           HLA-A*02:01          7\n",
       "VYFFLPDHL           HLA-A*24:02          5"
      ]
     },
     "execution_count": 219,
     "metadata": {},
     "output_type": "execute_result"
    }
   ],
   "source": [
    "assays_raw['len_epi'] = assays_raw['epitope_description'].apply(len)\n",
    "xd=assays_raw.query(lenmhc_query).groupby(['epitope_description', 'mhc_allele name', 'reference_pubmed id']).agg(count=('len_epi', 'count'))\n",
    "epis_todrop = xd.reset_index().groupby(['epitope_description', 'mhc_allele name']).count().query('count>1').reset_index('mhc_allele name').index\n",
    "assays_filt = assays.copy().query(lenmhc_query).query('epitope_description not in @epis_todrop')\n",
    "assays_filt.groupby(['epitope_description','mhc_allele name']).agg(count=('len_epi','count')).query('count>3 and count<10')"
   ]
  },
  {
   "cell_type": "code",
   "execution_count": 227,
   "id": "32a76c9b-db6d-4b9c-97f5-e74bc4e7da0a",
   "metadata": {
    "tags": []
   },
   "outputs": [
    {
     "data": {
      "text/html": [
       "<div>\n",
       "<style scoped>\n",
       "    .dataframe tbody tr th:only-of-type {\n",
       "        vertical-align: middle;\n",
       "    }\n",
       "\n",
       "    .dataframe tbody tr th {\n",
       "        vertical-align: top;\n",
       "    }\n",
       "\n",
       "    .dataframe thead th {\n",
       "        text-align: right;\n",
       "    }\n",
       "</style>\n",
       "<table border=\"1\" class=\"dataframe\">\n",
       "  <thead>\n",
       "    <tr style=\"text-align: right;\">\n",
       "      <th></th>\n",
       "      <th></th>\n",
       "      <th></th>\n",
       "      <th>count</th>\n",
       "    </tr>\n",
       "    <tr>\n",
       "      <th>epitope_description</th>\n",
       "      <th>mhc_allele name</th>\n",
       "      <th>reference_reference iri</th>\n",
       "      <th></th>\n",
       "    </tr>\n",
       "  </thead>\n",
       "  <tbody>\n",
       "    <tr>\n",
       "      <th>KLYEEPLLK</th>\n",
       "      <th>HLA-A*03:01</th>\n",
       "      <th>http://www.iedb.org/reference/1041065</th>\n",
       "      <td>3</td>\n",
       "    </tr>\n",
       "    <tr>\n",
       "      <th>SEHSPVSEPV</th>\n",
       "      <th>HLA-B*49:01</th>\n",
       "      <th>http://www.iedb.org/reference/1041069</th>\n",
       "      <td>3</td>\n",
       "    </tr>\n",
       "    <tr>\n",
       "      <th>VYRPLHYPLL</th>\n",
       "      <th>HLA-C*07:02</th>\n",
       "      <th>http://www.iedb.org/reference/1037146</th>\n",
       "      <td>3</td>\n",
       "    </tr>\n",
       "    <tr>\n",
       "      <th>FWYTHNLIF</th>\n",
       "      <th>HLA-C*14:03</th>\n",
       "      <th>http://www.iedb.org/reference/1032714</th>\n",
       "      <td>3</td>\n",
       "    </tr>\n",
       "    <tr>\n",
       "      <th>SLLRSLENV</th>\n",
       "      <th>HLA-A*02:01</th>\n",
       "      <th>http://www.iedb.org/reference/1035929</th>\n",
       "      <td>3</td>\n",
       "    </tr>\n",
       "    <tr>\n",
       "      <th>...</th>\n",
       "      <th>...</th>\n",
       "      <th>...</th>\n",
       "      <td>...</td>\n",
       "    </tr>\n",
       "    <tr>\n",
       "      <th>KIDIERILSV</th>\n",
       "      <th>HLA-A*02:01</th>\n",
       "      <th>http://www.iedb.org/reference/1037775</th>\n",
       "      <td>1</td>\n",
       "    </tr>\n",
       "    <tr>\n",
       "      <th>KICMQCPLSK</th>\n",
       "      <th>HLA-A*11:01</th>\n",
       "      <th>http://www.iedb.org/reference/1031919</th>\n",
       "      <td>1</td>\n",
       "    </tr>\n",
       "    <tr>\n",
       "      <th>KHMWLKPVSW</th>\n",
       "      <th>HLA-A*24:02</th>\n",
       "      <th>http://www.iedb.org/reference/1041391</th>\n",
       "      <td>1</td>\n",
       "    </tr>\n",
       "    <tr>\n",
       "      <th>KHILVWAL</th>\n",
       "      <th>HLA-B*39:01</th>\n",
       "      <th>http://www.iedb.org/reference/1036889</th>\n",
       "      <td>1</td>\n",
       "    </tr>\n",
       "    <tr>\n",
       "      <th>YYSPQAQTL</th>\n",
       "      <th>HLA-A*24:02</th>\n",
       "      <th>http://www.iedb.org/reference/1034842</th>\n",
       "      <td>1</td>\n",
       "    </tr>\n",
       "  </tbody>\n",
       "</table>\n",
       "<p>2633 rows × 1 columns</p>\n",
       "</div>"
      ],
      "text/plain": [
       "                                                                           count\n",
       "epitope_description mhc_allele name reference_reference iri                     \n",
       "KLYEEPLLK           HLA-A*03:01     http://www.iedb.org/reference/1041065      3\n",
       "SEHSPVSEPV          HLA-B*49:01     http://www.iedb.org/reference/1041069      3\n",
       "VYRPLHYPLL          HLA-C*07:02     http://www.iedb.org/reference/1037146      3\n",
       "FWYTHNLIF           HLA-C*14:03     http://www.iedb.org/reference/1032714      3\n",
       "SLLRSLENV           HLA-A*02:01     http://www.iedb.org/reference/1035929      3\n",
       "...                                                                          ...\n",
       "KIDIERILSV          HLA-A*02:01     http://www.iedb.org/reference/1037775      1\n",
       "KICMQCPLSK          HLA-A*11:01     http://www.iedb.org/reference/1031919      1\n",
       "KHMWLKPVSW          HLA-A*24:02     http://www.iedb.org/reference/1041391      1\n",
       "KHILVWAL            HLA-B*39:01     http://www.iedb.org/reference/1036889      1\n",
       "YYSPQAQTL           HLA-A*24:02     http://www.iedb.org/reference/1034842      1\n",
       "\n",
       "[2633 rows x 1 columns]"
      ]
     },
     "execution_count": 227,
     "metadata": {},
     "output_type": "execute_result"
    }
   ],
   "source": [
    "assays_raw['len_epi'] = assays_raw['epitope_description'].apply(len)\n",
    "assays_raw.query(lenmhc_query).groupby(['epitope_description', 'mhc_allele name', 'reference_reference iri']).agg(count=('len_epi', 'count')).query('count<=3').sort_values('count', ascending=False)"
   ]
  },
  {
   "cell_type": "code",
   "execution_count": 113,
   "id": "adb3eaa4-74ab-433f-9107-fda86734c5b2",
   "metadata": {},
   "outputs": [],
   "source": [
    "# Second filter, taking only datapoints with wildtype description\n",
    "assays_f.dropna(subset=['related object_description'], inplace=True)\n",
    "assays_f['wt_true'] = assays_f['related object_description'].apply(lambda x: x==x.upper())\n",
    "assays_f = assays_f.query('wt_true')\n",
    "epirelcols = list(filter(lambda x: x=='mhc_allele name' or 'epitope' in x or 'related' in x, assays_f.columns))"
   ]
  },
  {
   "cell_type": "code",
   "execution_count": 124,
   "id": "fe04a5ef-ed90-4007-a40c-adb68378aee6",
   "metadata": {},
   "outputs": [
    {
     "data": {
      "text/html": [
       "<div>\n",
       "<style scoped>\n",
       "    .dataframe tbody tr th:only-of-type {\n",
       "        vertical-align: middle;\n",
       "    }\n",
       "\n",
       "    .dataframe tbody tr th {\n",
       "        vertical-align: top;\n",
       "    }\n",
       "\n",
       "    .dataframe thead th {\n",
       "        text-align: right;\n",
       "    }\n",
       "</style>\n",
       "<table border=\"1\" class=\"dataframe\">\n",
       "  <thead>\n",
       "    <tr style=\"text-align: right;\">\n",
       "      <th></th>\n",
       "      <th>epitope_description</th>\n",
       "      <th>mhc_allele name</th>\n",
       "      <th>epitope_object type</th>\n",
       "      <th>related object_epitope relationship</th>\n",
       "      <th>related object_object type</th>\n",
       "      <th>related object_description</th>\n",
       "      <th>related object_starting position</th>\n",
       "      <th>related object_ending position</th>\n",
       "      <th>related object_synonyms</th>\n",
       "      <th>related object_antigen name</th>\n",
       "      <th>related object_parent protein</th>\n",
       "      <th>related object_organism name</th>\n",
       "      <th>related object_parent organism</th>\n",
       "      <th>in vitro process_immunogen epitope relation</th>\n",
       "      <th>assay antigen_antigen epitope relation</th>\n",
       "    </tr>\n",
       "  </thead>\n",
       "  <tbody>\n",
       "    <tr>\n",
       "      <th>0</th>\n",
       "      <td>AAASATLAL</td>\n",
       "      <td>HLA-C*08:01</td>\n",
       "      <td>Linear peptide</td>\n",
       "      <td>in-frame neo-epitope</td>\n",
       "      <td>Fragment of a Natural Sequence Molecule</td>\n",
       "      <td>AAASATLAS</td>\n",
       "      <td>45.0</td>\n",
       "      <td>53.0</td>\n",
       "      <td>SOX30</td>\n",
       "      <td>Transcription factor SOX-30</td>\n",
       "      <td>Transcription factor SOX-30</td>\n",
       "      <td>Homo sapiens (human)</td>\n",
       "      <td>Homo sapiens</td>\n",
       "      <td>Epitope</td>\n",
       "      <td>Epitope</td>\n",
       "    </tr>\n",
       "    <tr>\n",
       "      <th>187</th>\n",
       "      <td>ATSPASASK</td>\n",
       "      <td>HLA-A*11:01</td>\n",
       "      <td>Linear peptide</td>\n",
       "      <td>in-frame neo-epitope</td>\n",
       "      <td>Fragment of a Natural Sequence Molecule</td>\n",
       "      <td>ATSPASASFK</td>\n",
       "      <td>93.0</td>\n",
       "      <td>102.0</td>\n",
       "      <td>Early response protein NAK1, Nuclear hormone r...</td>\n",
       "      <td>Nuclear receptor subfamily 4 group A member 1</td>\n",
       "      <td>Nuclear receptor subfamily 4 group A member 1</td>\n",
       "      <td>Homo sapiens (human)</td>\n",
       "      <td>Homo sapiens</td>\n",
       "      <td>Epitope</td>\n",
       "      <td>Epitope</td>\n",
       "    </tr>\n",
       "    <tr>\n",
       "      <th>1666</th>\n",
       "      <td>MLICCCCTL</td>\n",
       "      <td>HLA-A*02:10</td>\n",
       "      <td>Linear peptide</td>\n",
       "      <td>in-frame neo-epitope</td>\n",
       "      <td>Fragment of a Natural Sequence Molecule</td>\n",
       "      <td>VLICCCCTL</td>\n",
       "      <td>157.0</td>\n",
       "      <td>165.0</td>\n",
       "      <td>Electroneutral potassium-chloride cotransporte...</td>\n",
       "      <td>Solute carrier family 12 member 4</td>\n",
       "      <td>Solute carrier family 12 member 4</td>\n",
       "      <td>Homo sapiens (human)</td>\n",
       "      <td>Homo sapiens</td>\n",
       "      <td>Epitope</td>\n",
       "      <td>Epitope</td>\n",
       "    </tr>\n",
       "    <tr>\n",
       "      <th>2208</th>\n",
       "      <td>SEHGFGPSL</td>\n",
       "      <td>HLA-B*40:01</td>\n",
       "      <td>Linear peptide</td>\n",
       "      <td>frameshift neo-epitope</td>\n",
       "      <td>Fragment of a Natural Sequence Molecule</td>\n",
       "      <td>SEHGFGPIT</td>\n",
       "      <td>184.0</td>\n",
       "      <td>192.0</td>\n",
       "      <td>peptide met (O) reductase; mitochondrial pepti...</td>\n",
       "      <td>mitochondrial peptide methionine sulfoxide red...</td>\n",
       "      <td>Mitochondrial peptide methionine sulfoxide red...</td>\n",
       "      <td>Homo sapiens (human)</td>\n",
       "      <td>Homo sapiens</td>\n",
       "      <td>Epitope</td>\n",
       "      <td>Epitope</td>\n",
       "    </tr>\n",
       "    <tr>\n",
       "      <th>2210</th>\n",
       "      <td>SEIISFKSL</td>\n",
       "      <td>HLA-B*40:01</td>\n",
       "      <td>Linear peptide</td>\n",
       "      <td>in-frame neo-epitope</td>\n",
       "      <td>Fragment of a Natural Sequence Molecule</td>\n",
       "      <td>SEIISFKSM</td>\n",
       "      <td>51.0</td>\n",
       "      <td>59.0</td>\n",
       "      <td>FEZ1</td>\n",
       "      <td>Fasciculation and elongation protein zeta-1</td>\n",
       "      <td>Fasciculation and elongation protein zeta-1</td>\n",
       "      <td>Homo sapiens (human)</td>\n",
       "      <td>Homo sapiens</td>\n",
       "      <td>Epitope</td>\n",
       "      <td>Epitope</td>\n",
       "    </tr>\n",
       "    <tr>\n",
       "      <th>2647</th>\n",
       "      <td>VEWLGRCIL</td>\n",
       "      <td>HLA-B*40:01</td>\n",
       "      <td>Linear peptide</td>\n",
       "      <td>in-frame neo-epitope</td>\n",
       "      <td>Fragment of a Natural Sequence Molecule</td>\n",
       "      <td>DEWLGRCIL</td>\n",
       "      <td>276.0</td>\n",
       "      <td>284.0</td>\n",
       "      <td>NaN</td>\n",
       "      <td>Chondroitin polymerizing factor [Homo sapiens]</td>\n",
       "      <td>Chondroitin sulfate synthase 2</td>\n",
       "      <td>Homo sapiens (human)</td>\n",
       "      <td>Homo sapiens</td>\n",
       "      <td>Epitope</td>\n",
       "      <td>Epitope</td>\n",
       "    </tr>\n",
       "  </tbody>\n",
       "</table>\n",
       "</div>"
      ],
      "text/plain": [
       "     epitope_description mhc_allele name epitope_object type  \\\n",
       "0              AAASATLAL     HLA-C*08:01      Linear peptide   \n",
       "187            ATSPASASK     HLA-A*11:01      Linear peptide   \n",
       "1666           MLICCCCTL     HLA-A*02:10      Linear peptide   \n",
       "2208           SEHGFGPSL     HLA-B*40:01      Linear peptide   \n",
       "2210           SEIISFKSL     HLA-B*40:01      Linear peptide   \n",
       "2647           VEWLGRCIL     HLA-B*40:01      Linear peptide   \n",
       "\n",
       "     related object_epitope relationship  \\\n",
       "0                   in-frame neo-epitope   \n",
       "187                 in-frame neo-epitope   \n",
       "1666                in-frame neo-epitope   \n",
       "2208              frameshift neo-epitope   \n",
       "2210                in-frame neo-epitope   \n",
       "2647                in-frame neo-epitope   \n",
       "\n",
       "                   related object_object type related object_description  \\\n",
       "0     Fragment of a Natural Sequence Molecule                  AAASATLAS   \n",
       "187   Fragment of a Natural Sequence Molecule                 ATSPASASFK   \n",
       "1666  Fragment of a Natural Sequence Molecule                  VLICCCCTL   \n",
       "2208  Fragment of a Natural Sequence Molecule                  SEHGFGPIT   \n",
       "2210  Fragment of a Natural Sequence Molecule                  SEIISFKSM   \n",
       "2647  Fragment of a Natural Sequence Molecule                  DEWLGRCIL   \n",
       "\n",
       "      related object_starting position  related object_ending position  \\\n",
       "0                                 45.0                            53.0   \n",
       "187                               93.0                           102.0   \n",
       "1666                             157.0                           165.0   \n",
       "2208                             184.0                           192.0   \n",
       "2210                              51.0                            59.0   \n",
       "2647                             276.0                           284.0   \n",
       "\n",
       "                                related object_synonyms  \\\n",
       "0                                                 SOX30   \n",
       "187   Early response protein NAK1, Nuclear hormone r...   \n",
       "1666  Electroneutral potassium-chloride cotransporte...   \n",
       "2208  peptide met (O) reductase; mitochondrial pepti...   \n",
       "2210                                               FEZ1   \n",
       "2647                                                NaN   \n",
       "\n",
       "                            related object_antigen name  \\\n",
       "0                           Transcription factor SOX-30   \n",
       "187       Nuclear receptor subfamily 4 group A member 1   \n",
       "1666                  Solute carrier family 12 member 4   \n",
       "2208  mitochondrial peptide methionine sulfoxide red...   \n",
       "2210        Fasciculation and elongation protein zeta-1   \n",
       "2647     Chondroitin polymerizing factor [Homo sapiens]   \n",
       "\n",
       "                          related object_parent protein  \\\n",
       "0                           Transcription factor SOX-30   \n",
       "187       Nuclear receptor subfamily 4 group A member 1   \n",
       "1666                  Solute carrier family 12 member 4   \n",
       "2208  Mitochondrial peptide methionine sulfoxide red...   \n",
       "2210        Fasciculation and elongation protein zeta-1   \n",
       "2647                     Chondroitin sulfate synthase 2   \n",
       "\n",
       "     related object_organism name related object_parent organism  \\\n",
       "0            Homo sapiens (human)                   Homo sapiens   \n",
       "187          Homo sapiens (human)                   Homo sapiens   \n",
       "1666         Homo sapiens (human)                   Homo sapiens   \n",
       "2208         Homo sapiens (human)                   Homo sapiens   \n",
       "2210         Homo sapiens (human)                   Homo sapiens   \n",
       "2647         Homo sapiens (human)                   Homo sapiens   \n",
       "\n",
       "     in vitro process_immunogen epitope relation  \\\n",
       "0                                        Epitope   \n",
       "187                                      Epitope   \n",
       "1666                                     Epitope   \n",
       "2208                                     Epitope   \n",
       "2210                                     Epitope   \n",
       "2647                                     Epitope   \n",
       "\n",
       "     assay antigen_antigen epitope relation  \n",
       "0                                   Epitope  \n",
       "187                                 Epitope  \n",
       "1666                                Epitope  \n",
       "2208                                Epitope  \n",
       "2210                                Epitope  \n",
       "2647                                Epitope  "
      ]
     },
     "execution_count": 124,
     "metadata": {},
     "output_type": "execute_result"
    }
   ],
   "source": [
    "qr = assays_f.query('`related object_epitope relationship`!=\"unspecified neo-epitope\"')[epirelcols]\n",
    "to_drop = qr.columns[qr.isna().all(axis=0)]\n",
    "qr.drop(columns=to_drop)"
   ]
  },
  {
   "cell_type": "markdown",
   "id": "6cf04535-d50d-44ac-9543-6d2ff39007d2",
   "metadata": {},
   "source": [
    "## Take only pep appearing in a SINGLE publication with fewer/eq to 3 assays"
   ]
  },
  {
   "cell_type": "code",
   "execution_count": 287,
   "id": "0d7d7628-36a3-4500-8de2-fdf1cdce7e96",
   "metadata": {},
   "outputs": [],
   "source": [
    "# Get agg label etc\n",
    "def get_dupe_unique_df(df):\n",
    "    \"\"\"\n",
    "    From the source df, get the unique (keeping first) AND the duplicates df, and the common indices\n",
    "    \"\"\"\n",
    "    dup_df = df.loc[df.duplicated(subset='epitope_description', keep=False)].sort_values('epitope_description')\n",
    "    unique_df = df.drop_duplicates(subset='epitope_description', keep ='first')\n",
    "    common_indices = dup_df.index.join(unique_df.index, how = 'inner')\n",
    "    return unique_df, dup_df, common_indices\n",
    "\n",
    "def get_agg_label(dup_df):\n",
    "    dup_df['label'] = dup_df['assay_qualitative measure'].apply(lambda x: 1 if 'Pos' in x else 0)\n",
    "    agg_label = dup_df.groupby('epitope_description').agg({'label':\"max\"})\n",
    "    gb = dup_df.groupby(['epitope_description', 'label']).agg({'label':\"count\"}).rename(columns={'label':'count'})\n",
    "    return agg_label\n",
    "\n",
    "def get_agg(dup_df):\n",
    "    dup_df['label'] = dup_df['assay_qualitative measure'].apply(lambda x: 1 if 'Pos' in x else 0)\n",
    "    \n",
    "    gb = dup_df.groupby(['epitope_description', 'label']).agg({'label':\"count\"}).rename(columns={'label':'count'})#.reset_index()\n",
    "    gb['percentage_pos'] = gb/gb.groupby(['epitope_description']).agg({'count':\"sum\"})\n",
    "    agg = gb.reset_index().groupby(['epitope_description']).agg({'label':'max', 'percentage_pos':\"max\"}).rename(columns={'label':'agg_label'})\n",
    "    agg.loc[agg['agg_label']==0, 'percentage_pos']=0\n",
    "    agg['total'] = gb.reset_index().groupby('epitope_description').agg({'count':\"sum\"})\n",
    "    return agg\n",
    "\n",
    "def assign_agg_metrics(unique_df, agg_df, common_indices):\n",
    "    unique_df['agg_label'] = unique_df['assay_qualitative measure'].apply(lambda x: 1 if 'Pos' in x else 0)\n",
    "    unique_df['total_count'] = 1\n",
    "    unique_df['percentage_pos'] = unique_df['agg_label']\n",
    "    unique_df.loc[common_indices, 'agg_label'] = agg['agg_label'].values\n",
    "    unique_df.loc[common_indices, 'total_count'] = agg['total'].values\n",
    "    unique_df.loc[common_indices, 'percentage_pos'] = agg['percentage_pos'].values\n",
    "    return unique_df\n"
   ]
  },
  {
   "cell_type": "code",
   "execution_count": 288,
   "id": "c1199946-f08a-457e-9724-6c771bfe446d",
   "metadata": {},
   "outputs": [],
   "source": [
    "# Initial filter (len in [8,12], full mhc reso, 2 or fewer assays and wt annotation\n",
    "assays['len_epi'] = assays['epitope_description'].apply(len)\n",
    "lenmhc_query='len_epi>=8 and len_epi<=12 and `mhc_allele name`.str.contains(\"\\*\")'\n",
    "assays_f = assays.copy()\n",
    "assays_f = assays_f.query(lenmhc_query)\n",
    "assays_f.dropna(subset=['related object_description'], inplace=True)\n",
    "assays_f['wt_true'] = assays_f['related object_description'].apply(lambda x: x==x.upper())\n",
    "assays_f = assays_f.query('wt_true')\n",
    "# Filtering epitopes that appear in more than 1 paper\n",
    "papers_filter = assays_f.groupby(['epitope_description', 'mhc_allele name', 'reference_pubmed id']).agg(count=('len_epi','count')).reset_index().groupby(['epitope_description', 'mhc_allele name']).agg(count=('reference_pubmed id', 'count')).query('count>1').reset_index('mhc_allele name').index\n",
    "assays_f = assays_f.query('epitope_description not in @papers_filter')\n",
    "# Filtering epitopes that appear in more than 3 assays\n",
    "epis_to_keep = assays_f.groupby(['epitope_description','mhc_allele name']).agg(count=('len_epi','count')).query('count<=3').index\n",
    "assays_f = assays_f.set_index(['epitope_description', 'mhc_allele name']).loc[epis_to_keep].copy().reset_index()\n",
    "# Aggregate the labels using the rule : at least 1 positive = positive, else = negative"
   ]
  },
  {
   "cell_type": "code",
   "execution_count": 289,
   "id": "b301da5a-3b1f-40ee-b61f-ab9096947a06",
   "metadata": {
    "tags": []
   },
   "outputs": [
    {
     "data": {
      "text/html": [
       "<div>\n",
       "<style scoped>\n",
       "    .dataframe tbody tr th:only-of-type {\n",
       "        vertical-align: middle;\n",
       "    }\n",
       "\n",
       "    .dataframe tbody tr th {\n",
       "        vertical-align: top;\n",
       "    }\n",
       "\n",
       "    .dataframe thead th {\n",
       "        text-align: right;\n",
       "    }\n",
       "</style>\n",
       "<table border=\"1\" class=\"dataframe\">\n",
       "  <thead>\n",
       "    <tr style=\"text-align: right;\">\n",
       "      <th></th>\n",
       "      <th>Peptide</th>\n",
       "      <th>wild_type</th>\n",
       "      <th>HLA</th>\n",
       "      <th>agg_label</th>\n",
       "      <th>total_count</th>\n",
       "      <th>percentage_pos</th>\n",
       "    </tr>\n",
       "  </thead>\n",
       "  <tbody>\n",
       "    <tr>\n",
       "      <th>0</th>\n",
       "      <td>AAASATLAL</td>\n",
       "      <td>AAASATLAS</td>\n",
       "      <td>HLA-C0801</td>\n",
       "      <td>1</td>\n",
       "      <td>1</td>\n",
       "      <td>1.0</td>\n",
       "    </tr>\n",
       "    <tr>\n",
       "      <th>1</th>\n",
       "      <td>AAHFTVLLY</td>\n",
       "      <td>AAHFTALLY</td>\n",
       "      <td>HLA-A1101</td>\n",
       "      <td>0</td>\n",
       "      <td>1</td>\n",
       "      <td>0.0</td>\n",
       "    </tr>\n",
       "    <tr>\n",
       "      <th>2</th>\n",
       "      <td>AAIAASRSV</td>\n",
       "      <td>AAIAASRSA</td>\n",
       "      <td>HLA-C1203</td>\n",
       "      <td>0</td>\n",
       "      <td>1</td>\n",
       "      <td>0.0</td>\n",
       "    </tr>\n",
       "    <tr>\n",
       "      <th>3</th>\n",
       "      <td>AAKAALEDF</td>\n",
       "      <td>AAKAALEEF</td>\n",
       "      <td>HLA-C1601</td>\n",
       "      <td>0</td>\n",
       "      <td>1</td>\n",
       "      <td>0.0</td>\n",
       "    </tr>\n",
       "    <tr>\n",
       "      <th>4</th>\n",
       "      <td>AAMHGRKIM</td>\n",
       "      <td>AAMNGRKIM</td>\n",
       "      <td>HLA-B0702</td>\n",
       "      <td>0</td>\n",
       "      <td>1</td>\n",
       "      <td>0.0</td>\n",
       "    </tr>\n",
       "    <tr>\n",
       "      <th>...</th>\n",
       "      <td>...</td>\n",
       "      <td>...</td>\n",
       "      <td>...</td>\n",
       "      <td>...</td>\n",
       "      <td>...</td>\n",
       "      <td>...</td>\n",
       "    </tr>\n",
       "    <tr>\n",
       "      <th>2451</th>\n",
       "      <td>YYNFEGDIALL</td>\n",
       "      <td>SYNFEGDIALL</td>\n",
       "      <td>HLA-A2402</td>\n",
       "      <td>0</td>\n",
       "      <td>2</td>\n",
       "      <td>0.0</td>\n",
       "    </tr>\n",
       "    <tr>\n",
       "      <th>2452</th>\n",
       "      <td>YYPGKKEPF</td>\n",
       "      <td>YYSGKKEPF</td>\n",
       "      <td>HLA-A2402</td>\n",
       "      <td>0</td>\n",
       "      <td>2</td>\n",
       "      <td>0.0</td>\n",
       "    </tr>\n",
       "    <tr>\n",
       "      <th>2453</th>\n",
       "      <td>YYSKNLNSF</td>\n",
       "      <td>YYSKNLNSS</td>\n",
       "      <td>HLA-A2402</td>\n",
       "      <td>1</td>\n",
       "      <td>1</td>\n",
       "      <td>1.0</td>\n",
       "    </tr>\n",
       "    <tr>\n",
       "      <th>2454</th>\n",
       "      <td>YYSKNLNSFF</td>\n",
       "      <td>YYSKNLNSSF</td>\n",
       "      <td>HLA-A2402</td>\n",
       "      <td>1</td>\n",
       "      <td>2</td>\n",
       "      <td>1.0</td>\n",
       "    </tr>\n",
       "    <tr>\n",
       "      <th>2455</th>\n",
       "      <td>YYSPQAQTL</td>\n",
       "      <td>YYSPQAQTP</td>\n",
       "      <td>HLA-A2402</td>\n",
       "      <td>0</td>\n",
       "      <td>1</td>\n",
       "      <td>0.0</td>\n",
       "    </tr>\n",
       "  </tbody>\n",
       "</table>\n",
       "<p>2456 rows × 6 columns</p>\n",
       "</div>"
      ],
      "text/plain": [
       "          Peptide    wild_type        HLA  agg_label  total_count  \\\n",
       "0       AAASATLAL    AAASATLAS  HLA-C0801          1            1   \n",
       "1       AAHFTVLLY    AAHFTALLY  HLA-A1101          0            1   \n",
       "2       AAIAASRSV    AAIAASRSA  HLA-C1203          0            1   \n",
       "3       AAKAALEDF    AAKAALEEF  HLA-C1601          0            1   \n",
       "4       AAMHGRKIM    AAMNGRKIM  HLA-B0702          0            1   \n",
       "...           ...          ...        ...        ...          ...   \n",
       "2451  YYNFEGDIALL  SYNFEGDIALL  HLA-A2402          0            2   \n",
       "2452    YYPGKKEPF    YYSGKKEPF  HLA-A2402          0            2   \n",
       "2453    YYSKNLNSF    YYSKNLNSS  HLA-A2402          1            1   \n",
       "2454   YYSKNLNSFF   YYSKNLNSSF  HLA-A2402          1            2   \n",
       "2455    YYSPQAQTL    YYSPQAQTP  HLA-A2402          0            1   \n",
       "\n",
       "      percentage_pos  \n",
       "0                1.0  \n",
       "1                0.0  \n",
       "2                0.0  \n",
       "3                0.0  \n",
       "4                0.0  \n",
       "...              ...  \n",
       "2451             0.0  \n",
       "2452             0.0  \n",
       "2453             1.0  \n",
       "2454             1.0  \n",
       "2455             0.0  \n",
       "\n",
       "[2456 rows x 6 columns]"
      ]
     },
     "execution_count": 289,
     "metadata": {},
     "output_type": "execute_result"
    }
   ],
   "source": [
    "assays_filt = assays_f[['epitope_description', 'related object_description', 'mhc_allele name', 'assay_qualitative measure']]\n",
    "\n",
    "unique_df, dup_df, common_indices = get_dupe_unique_df(assays_filt)\n",
    "# Keep unique entries and re-assign labels\n",
    "agg = get_agg(dup_df)\n",
    "assays_filt = assign_agg_metrics(unique_df, agg, common_indices)\\\n",
    "                .drop(columns=['assay_qualitative measure'])\\\n",
    "                .sort_values(['epitope_description', 'mhc_allele name'])\\\n",
    "                .rename(columns={'epitope_description':'Peptide', \n",
    "                                 'related object_description':'wild_type',\n",
    "                                 'mhc_allele name':'HLA'}).reset_index(drop=True)\n",
    "assays_filt['HLA'] = assays_filt['HLA'].apply(lambda x: x.replace('*','').replace(':',''))\n",
    "assays_filt"
   ]
  },
  {
   "cell_type": "code",
   "execution_count": 293,
   "id": "705a7f90-e339-49e5-a287-ffd941e8f5b6",
   "metadata": {},
   "outputs": [],
   "source": [
    "assays_filt['len_mut'] = assays_filt['Peptide'].apply(len)\n",
    "assays_filt['len_wt'] = assays_filt['wild_type'].apply(len)\n",
    "# Don't care about point mutation for now but Pept shoul\n",
    "assays_filt = assays_filt.query('len_wt>=8 and len_wt<=12')"
   ]
  },
  {
   "cell_type": "markdown",
   "id": "8b9dc2bd-ff50-4e16-b6a5-1532da2272fa",
   "metadata": {},
   "source": [
    "## making folds / sending df to prep"
   ]
  },
  {
   "cell_type": "code",
   "execution_count": 295,
   "id": "b7018c36-8fc2-4884-aa60-354d784c672d",
   "metadata": {},
   "outputs": [],
   "source": [
    "assays_filt[['Peptide','wild_type','HLA','agg_label']].to_csv('../../netmhcpan/score_pipeline/data/230613_cedar_filtered.txt', index=False,header=False)\n",
    "assays_filt['Peptide'].to_csv('../../kern_dist/230613_cedar_filtered.pep', index=False,header=False)\n",
    "\n",
    "# Sending to computerome and running my pipeline scripts"
   ]
  },
  {
   "cell_type": "code",
   "execution_count": 307,
   "id": "e0ed4abf-be5e-46d1-8f4f-c0cefa779489",
   "metadata": {},
   "outputs": [
    {
     "data": {
      "text/html": [
       "<div>\n",
       "<style scoped>\n",
       "    .dataframe tbody tr th:only-of-type {\n",
       "        vertical-align: middle;\n",
       "    }\n",
       "\n",
       "    .dataframe tbody tr th {\n",
       "        vertical-align: top;\n",
       "    }\n",
       "\n",
       "    .dataframe thead th {\n",
       "        text-align: right;\n",
       "    }\n",
       "</style>\n",
       "<table border=\"1\" class=\"dataframe\">\n",
       "  <thead>\n",
       "    <tr style=\"text-align: right;\">\n",
       "      <th></th>\n",
       "      <th>Peptide</th>\n",
       "      <th>wild_type</th>\n",
       "      <th>HLA</th>\n",
       "      <th>agg_label</th>\n",
       "      <th>total_count</th>\n",
       "      <th>percentage_pos</th>\n",
       "      <th>len_mut</th>\n",
       "      <th>len_wt</th>\n",
       "    </tr>\n",
       "  </thead>\n",
       "  <tbody>\n",
       "    <tr>\n",
       "      <th>0</th>\n",
       "      <td>AAASATLAL</td>\n",
       "      <td>AAASATLAS</td>\n",
       "      <td>HLA-C0801</td>\n",
       "      <td>1</td>\n",
       "      <td>1</td>\n",
       "      <td>1.0</td>\n",
       "      <td>9</td>\n",
       "      <td>9</td>\n",
       "    </tr>\n",
       "    <tr>\n",
       "      <th>1</th>\n",
       "      <td>AAHFTVLLY</td>\n",
       "      <td>AAHFTALLY</td>\n",
       "      <td>HLA-A1101</td>\n",
       "      <td>0</td>\n",
       "      <td>1</td>\n",
       "      <td>0.0</td>\n",
       "      <td>9</td>\n",
       "      <td>9</td>\n",
       "    </tr>\n",
       "    <tr>\n",
       "      <th>2</th>\n",
       "      <td>AAIAASRSV</td>\n",
       "      <td>AAIAASRSA</td>\n",
       "      <td>HLA-C1203</td>\n",
       "      <td>0</td>\n",
       "      <td>1</td>\n",
       "      <td>0.0</td>\n",
       "      <td>9</td>\n",
       "      <td>9</td>\n",
       "    </tr>\n",
       "    <tr>\n",
       "      <th>3</th>\n",
       "      <td>AAKAALEDF</td>\n",
       "      <td>AAKAALEEF</td>\n",
       "      <td>HLA-C1601</td>\n",
       "      <td>0</td>\n",
       "      <td>1</td>\n",
       "      <td>0.0</td>\n",
       "      <td>9</td>\n",
       "      <td>9</td>\n",
       "    </tr>\n",
       "    <tr>\n",
       "      <th>4</th>\n",
       "      <td>AAMHGRKIM</td>\n",
       "      <td>AAMNGRKIM</td>\n",
       "      <td>HLA-B0702</td>\n",
       "      <td>0</td>\n",
       "      <td>1</td>\n",
       "      <td>0.0</td>\n",
       "      <td>9</td>\n",
       "      <td>9</td>\n",
       "    </tr>\n",
       "    <tr>\n",
       "      <th>...</th>\n",
       "      <td>...</td>\n",
       "      <td>...</td>\n",
       "      <td>...</td>\n",
       "      <td>...</td>\n",
       "      <td>...</td>\n",
       "      <td>...</td>\n",
       "      <td>...</td>\n",
       "      <td>...</td>\n",
       "    </tr>\n",
       "    <tr>\n",
       "      <th>2451</th>\n",
       "      <td>YYNFEGDIALL</td>\n",
       "      <td>SYNFEGDIALL</td>\n",
       "      <td>HLA-A2402</td>\n",
       "      <td>0</td>\n",
       "      <td>2</td>\n",
       "      <td>0.0</td>\n",
       "      <td>11</td>\n",
       "      <td>11</td>\n",
       "    </tr>\n",
       "    <tr>\n",
       "      <th>2452</th>\n",
       "      <td>YYPGKKEPF</td>\n",
       "      <td>YYSGKKEPF</td>\n",
       "      <td>HLA-A2402</td>\n",
       "      <td>0</td>\n",
       "      <td>2</td>\n",
       "      <td>0.0</td>\n",
       "      <td>9</td>\n",
       "      <td>9</td>\n",
       "    </tr>\n",
       "    <tr>\n",
       "      <th>2453</th>\n",
       "      <td>YYSKNLNSF</td>\n",
       "      <td>YYSKNLNSS</td>\n",
       "      <td>HLA-A2402</td>\n",
       "      <td>1</td>\n",
       "      <td>1</td>\n",
       "      <td>1.0</td>\n",
       "      <td>9</td>\n",
       "      <td>9</td>\n",
       "    </tr>\n",
       "    <tr>\n",
       "      <th>2454</th>\n",
       "      <td>YYSKNLNSFF</td>\n",
       "      <td>YYSKNLNSSF</td>\n",
       "      <td>HLA-A2402</td>\n",
       "      <td>1</td>\n",
       "      <td>2</td>\n",
       "      <td>1.0</td>\n",
       "      <td>10</td>\n",
       "      <td>10</td>\n",
       "    </tr>\n",
       "    <tr>\n",
       "      <th>2455</th>\n",
       "      <td>YYSPQAQTL</td>\n",
       "      <td>YYSPQAQTP</td>\n",
       "      <td>HLA-A2402</td>\n",
       "      <td>0</td>\n",
       "      <td>1</td>\n",
       "      <td>0.0</td>\n",
       "      <td>9</td>\n",
       "      <td>9</td>\n",
       "    </tr>\n",
       "  </tbody>\n",
       "</table>\n",
       "<p>2435 rows × 8 columns</p>\n",
       "</div>"
      ],
      "text/plain": [
       "          Peptide    wild_type        HLA  agg_label  total_count  \\\n",
       "0       AAASATLAL    AAASATLAS  HLA-C0801          1            1   \n",
       "1       AAHFTVLLY    AAHFTALLY  HLA-A1101          0            1   \n",
       "2       AAIAASRSV    AAIAASRSA  HLA-C1203          0            1   \n",
       "3       AAKAALEDF    AAKAALEEF  HLA-C1601          0            1   \n",
       "4       AAMHGRKIM    AAMNGRKIM  HLA-B0702          0            1   \n",
       "...           ...          ...        ...        ...          ...   \n",
       "2451  YYNFEGDIALL  SYNFEGDIALL  HLA-A2402          0            2   \n",
       "2452    YYPGKKEPF    YYSGKKEPF  HLA-A2402          0            2   \n",
       "2453    YYSKNLNSF    YYSKNLNSS  HLA-A2402          1            1   \n",
       "2454   YYSKNLNSFF   YYSKNLNSSF  HLA-A2402          1            2   \n",
       "2455    YYSPQAQTL    YYSPQAQTP  HLA-A2402          0            1   \n",
       "\n",
       "      percentage_pos  len_mut  len_wt  \n",
       "0                1.0        9       9  \n",
       "1                0.0        9       9  \n",
       "2                0.0        9       9  \n",
       "3                0.0        9       9  \n",
       "4                0.0        9       9  \n",
       "...              ...      ...     ...  \n",
       "2451             0.0       11      11  \n",
       "2452             0.0        9       9  \n",
       "2453             1.0        9       9  \n",
       "2454             1.0       10      10  \n",
       "2455             0.0        9       9  \n",
       "\n",
       "[2435 rows x 8 columns]"
      ]
     },
     "execution_count": 307,
     "metadata": {},
     "output_type": "execute_result"
    }
   ],
   "source": [
    "assays_filt"
   ]
  },
  {
   "cell_type": "code",
   "execution_count": 331,
   "id": "85509bb5-4df7-4141-946b-623aab6c93e7",
   "metadata": {},
   "outputs": [],
   "source": [
    "cedar_icore = pd.read_csv('../../netmhcpan/score_pipeline/output/230613_cedar_filtered.txt.txt', sep = ' ').drop(columns=['HLA']).rename(columns={'Peptide':'Peptide_mut'})\n",
    "cedar_fullpep = pd.read_csv('../../netmhcpan/score_pipeline/output/230613_cedar_filtered_fullpep.txt', sep = ' ', header=None, names = ['start', 'HLA', 'Peptide','Core', 'x1','x2','x3','x4','x5', 'x6', 'trueHLA_EL_rank'])"
   ]
  },
  {
   "cell_type": "code",
   "execution_count": 333,
   "id": "139f5959-b9af-45df-b94c-1c3c85d7e8bb",
   "metadata": {},
   "outputs": [
    {
     "data": {
      "text/html": [
       "<div>\n",
       "<style scoped>\n",
       "    .dataframe tbody tr th:only-of-type {\n",
       "        vertical-align: middle;\n",
       "    }\n",
       "\n",
       "    .dataframe tbody tr th {\n",
       "        vertical-align: top;\n",
       "    }\n",
       "\n",
       "    .dataframe thead th {\n",
       "        text-align: right;\n",
       "    }\n",
       "</style>\n",
       "<table border=\"1\" class=\"dataframe\">\n",
       "  <thead>\n",
       "    <tr style=\"text-align: right;\">\n",
       "      <th></th>\n",
       "      <th>Peptide</th>\n",
       "      <th>wild_type</th>\n",
       "      <th>HLA</th>\n",
       "      <th>agg_label</th>\n",
       "      <th>total_count</th>\n",
       "      <th>percentage_pos</th>\n",
       "      <th>len_mut</th>\n",
       "      <th>len_wt</th>\n",
       "      <th>icore_start_pos</th>\n",
       "      <th>Peptide_mut</th>\n",
       "      <th>Core</th>\n",
       "      <th>Of</th>\n",
       "      <th>Gp</th>\n",
       "      <th>Gl</th>\n",
       "      <th>Ip</th>\n",
       "      <th>Il</th>\n",
       "      <th>icore_mut</th>\n",
       "      <th>EL_rank_mut</th>\n",
       "      <th>icore_wt_aligned</th>\n",
       "      <th>EL_rank_wt_aligned</th>\n",
       "      <th>icore_similarity_score</th>\n",
       "      <th>trueHLA_EL_rank</th>\n",
       "    </tr>\n",
       "  </thead>\n",
       "  <tbody>\n",
       "    <tr>\n",
       "      <th>0</th>\n",
       "      <td>AAASATLAL</td>\n",
       "      <td>AAASATLAS</td>\n",
       "      <td>HLA-C0801</td>\n",
       "      <td>1</td>\n",
       "      <td>1</td>\n",
       "      <td>1.0</td>\n",
       "      <td>9</td>\n",
       "      <td>9</td>\n",
       "      <td>1</td>\n",
       "      <td>AAASATLAL</td>\n",
       "      <td>AAASATLAL</td>\n",
       "      <td>0</td>\n",
       "      <td>0</td>\n",
       "      <td>0</td>\n",
       "      <td>0</td>\n",
       "      <td>0</td>\n",
       "      <td>AAASATLAL</td>\n",
       "      <td>0.052</td>\n",
       "      <td>AAASATLAS</td>\n",
       "      <td>8.004</td>\n",
       "      <td>0.982822</td>\n",
       "      <td>0.052</td>\n",
       "    </tr>\n",
       "    <tr>\n",
       "      <th>1</th>\n",
       "      <td>AAHFTVLLY</td>\n",
       "      <td>AAHFTALLY</td>\n",
       "      <td>HLA-A1101</td>\n",
       "      <td>0</td>\n",
       "      <td>1</td>\n",
       "      <td>0.0</td>\n",
       "      <td>9</td>\n",
       "      <td>9</td>\n",
       "      <td>1</td>\n",
       "      <td>AAHFTVLLY</td>\n",
       "      <td>AAHFTVLLY</td>\n",
       "      <td>0</td>\n",
       "      <td>0</td>\n",
       "      <td>0</td>\n",
       "      <td>0</td>\n",
       "      <td>0</td>\n",
       "      <td>AAHFTVLLY</td>\n",
       "      <td>0.420</td>\n",
       "      <td>AAHFTALLY</td>\n",
       "      <td>0.588</td>\n",
       "      <td>0.951034</td>\n",
       "      <td>0.420</td>\n",
       "    </tr>\n",
       "    <tr>\n",
       "      <th>2</th>\n",
       "      <td>AAIAASRSV</td>\n",
       "      <td>AAIAASRSA</td>\n",
       "      <td>HLA-C1203</td>\n",
       "      <td>0</td>\n",
       "      <td>1</td>\n",
       "      <td>0.0</td>\n",
       "      <td>9</td>\n",
       "      <td>9</td>\n",
       "      <td>1</td>\n",
       "      <td>AAIAASRSV</td>\n",
       "      <td>AAIAASRSV</td>\n",
       "      <td>0</td>\n",
       "      <td>0</td>\n",
       "      <td>0</td>\n",
       "      <td>0</td>\n",
       "      <td>0</td>\n",
       "      <td>AAIAASRSV</td>\n",
       "      <td>0.059</td>\n",
       "      <td>AAIAASRSA</td>\n",
       "      <td>1.173</td>\n",
       "      <td>0.987735</td>\n",
       "      <td>0.059</td>\n",
       "    </tr>\n",
       "    <tr>\n",
       "      <th>3</th>\n",
       "      <td>AAKAALEDF</td>\n",
       "      <td>AAKAALEEF</td>\n",
       "      <td>HLA-C1601</td>\n",
       "      <td>0</td>\n",
       "      <td>1</td>\n",
       "      <td>0.0</td>\n",
       "      <td>9</td>\n",
       "      <td>9</td>\n",
       "      <td>1</td>\n",
       "      <td>AAKAALEDF</td>\n",
       "      <td>AAKAALEDF</td>\n",
       "      <td>0</td>\n",
       "      <td>0</td>\n",
       "      <td>0</td>\n",
       "      <td>0</td>\n",
       "      <td>0</td>\n",
       "      <td>AAKAALEDF</td>\n",
       "      <td>1.056</td>\n",
       "      <td>AAKAALEEF</td>\n",
       "      <td>0.160</td>\n",
       "      <td>0.972773</td>\n",
       "      <td>1.056</td>\n",
       "    </tr>\n",
       "    <tr>\n",
       "      <th>4</th>\n",
       "      <td>AAMHGRKIM</td>\n",
       "      <td>AAMNGRKIM</td>\n",
       "      <td>HLA-B0702</td>\n",
       "      <td>0</td>\n",
       "      <td>1</td>\n",
       "      <td>0.0</td>\n",
       "      <td>9</td>\n",
       "      <td>9</td>\n",
       "      <td>1</td>\n",
       "      <td>AAMHGRKIM</td>\n",
       "      <td>AAMHGRKIM</td>\n",
       "      <td>0</td>\n",
       "      <td>0</td>\n",
       "      <td>0</td>\n",
       "      <td>0</td>\n",
       "      <td>0</td>\n",
       "      <td>AAMHGRKIM</td>\n",
       "      <td>0.670</td>\n",
       "      <td>AAMNGRKIM</td>\n",
       "      <td>0.739</td>\n",
       "      <td>0.921524</td>\n",
       "      <td>0.670</td>\n",
       "    </tr>\n",
       "    <tr>\n",
       "      <th>...</th>\n",
       "      <td>...</td>\n",
       "      <td>...</td>\n",
       "      <td>...</td>\n",
       "      <td>...</td>\n",
       "      <td>...</td>\n",
       "      <td>...</td>\n",
       "      <td>...</td>\n",
       "      <td>...</td>\n",
       "      <td>...</td>\n",
       "      <td>...</td>\n",
       "      <td>...</td>\n",
       "      <td>...</td>\n",
       "      <td>...</td>\n",
       "      <td>...</td>\n",
       "      <td>...</td>\n",
       "      <td>...</td>\n",
       "      <td>...</td>\n",
       "      <td>...</td>\n",
       "      <td>...</td>\n",
       "      <td>...</td>\n",
       "      <td>...</td>\n",
       "      <td>...</td>\n",
       "    </tr>\n",
       "    <tr>\n",
       "      <th>2430</th>\n",
       "      <td>YYNFEGDIALL</td>\n",
       "      <td>SYNFEGDIALL</td>\n",
       "      <td>HLA-A2402</td>\n",
       "      <td>0</td>\n",
       "      <td>2</td>\n",
       "      <td>0.0</td>\n",
       "      <td>11</td>\n",
       "      <td>11</td>\n",
       "      <td>1</td>\n",
       "      <td>YYNFEGDIALL</td>\n",
       "      <td>YYNGDIALL</td>\n",
       "      <td>0</td>\n",
       "      <td>3</td>\n",
       "      <td>2</td>\n",
       "      <td>0</td>\n",
       "      <td>0</td>\n",
       "      <td>YYNFEGDIALL</td>\n",
       "      <td>0.625</td>\n",
       "      <td>SYNFEGDIALL</td>\n",
       "      <td>0.758</td>\n",
       "      <td>0.981957</td>\n",
       "      <td>0.625</td>\n",
       "    </tr>\n",
       "    <tr>\n",
       "      <th>2431</th>\n",
       "      <td>YYPGKKEPF</td>\n",
       "      <td>YYSGKKEPF</td>\n",
       "      <td>HLA-A2402</td>\n",
       "      <td>0</td>\n",
       "      <td>2</td>\n",
       "      <td>0.0</td>\n",
       "      <td>9</td>\n",
       "      <td>9</td>\n",
       "      <td>1</td>\n",
       "      <td>YYPGKKEPF</td>\n",
       "      <td>YYPGKKEPF</td>\n",
       "      <td>0</td>\n",
       "      <td>0</td>\n",
       "      <td>0</td>\n",
       "      <td>0</td>\n",
       "      <td>0</td>\n",
       "      <td>YYPGKKEPF</td>\n",
       "      <td>0.097</td>\n",
       "      <td>YYSGKKEPF</td>\n",
       "      <td>0.082</td>\n",
       "      <td>0.927951</td>\n",
       "      <td>0.097</td>\n",
       "    </tr>\n",
       "    <tr>\n",
       "      <th>2432</th>\n",
       "      <td>YYSKNLNSF</td>\n",
       "      <td>YYSKNLNSS</td>\n",
       "      <td>HLA-A2402</td>\n",
       "      <td>1</td>\n",
       "      <td>1</td>\n",
       "      <td>1.0</td>\n",
       "      <td>9</td>\n",
       "      <td>9</td>\n",
       "      <td>1</td>\n",
       "      <td>YYSKNLNSF</td>\n",
       "      <td>YYSKNLNSF</td>\n",
       "      <td>0</td>\n",
       "      <td>0</td>\n",
       "      <td>0</td>\n",
       "      <td>0</td>\n",
       "      <td>0</td>\n",
       "      <td>YYSKNLNSF</td>\n",
       "      <td>0.003</td>\n",
       "      <td>YYSKNLNSS</td>\n",
       "      <td>4.686</td>\n",
       "      <td>0.974386</td>\n",
       "      <td>0.003</td>\n",
       "    </tr>\n",
       "    <tr>\n",
       "      <th>2433</th>\n",
       "      <td>YYSKNLNSFF</td>\n",
       "      <td>YYSKNLNSSF</td>\n",
       "      <td>HLA-A2402</td>\n",
       "      <td>1</td>\n",
       "      <td>2</td>\n",
       "      <td>1.0</td>\n",
       "      <td>10</td>\n",
       "      <td>10</td>\n",
       "      <td>1</td>\n",
       "      <td>YYSKNLNSF</td>\n",
       "      <td>YYSKNLNSF</td>\n",
       "      <td>0</td>\n",
       "      <td>0</td>\n",
       "      <td>0</td>\n",
       "      <td>0</td>\n",
       "      <td>0</td>\n",
       "      <td>YYSKNLNSF</td>\n",
       "      <td>0.003</td>\n",
       "      <td>YYSKNLNSS</td>\n",
       "      <td>4.686</td>\n",
       "      <td>0.974386</td>\n",
       "      <td>0.031</td>\n",
       "    </tr>\n",
       "    <tr>\n",
       "      <th>2434</th>\n",
       "      <td>YYSPQAQTL</td>\n",
       "      <td>YYSPQAQTP</td>\n",
       "      <td>HLA-A2402</td>\n",
       "      <td>0</td>\n",
       "      <td>1</td>\n",
       "      <td>0.0</td>\n",
       "      <td>9</td>\n",
       "      <td>9</td>\n",
       "      <td>1</td>\n",
       "      <td>YYSPQAQTL</td>\n",
       "      <td>YYSPQAQTL</td>\n",
       "      <td>0</td>\n",
       "      <td>0</td>\n",
       "      <td>0</td>\n",
       "      <td>0</td>\n",
       "      <td>0</td>\n",
       "      <td>YYSPQAQTL</td>\n",
       "      <td>0.005</td>\n",
       "      <td>YYSPQAQTP</td>\n",
       "      <td>1.364</td>\n",
       "      <td>0.969539</td>\n",
       "      <td>0.005</td>\n",
       "    </tr>\n",
       "  </tbody>\n",
       "</table>\n",
       "<p>2435 rows × 22 columns</p>\n",
       "</div>"
      ],
      "text/plain": [
       "          Peptide    wild_type        HLA  agg_label  total_count  \\\n",
       "0       AAASATLAL    AAASATLAS  HLA-C0801          1            1   \n",
       "1       AAHFTVLLY    AAHFTALLY  HLA-A1101          0            1   \n",
       "2       AAIAASRSV    AAIAASRSA  HLA-C1203          0            1   \n",
       "3       AAKAALEDF    AAKAALEEF  HLA-C1601          0            1   \n",
       "4       AAMHGRKIM    AAMNGRKIM  HLA-B0702          0            1   \n",
       "...           ...          ...        ...        ...          ...   \n",
       "2430  YYNFEGDIALL  SYNFEGDIALL  HLA-A2402          0            2   \n",
       "2431    YYPGKKEPF    YYSGKKEPF  HLA-A2402          0            2   \n",
       "2432    YYSKNLNSF    YYSKNLNSS  HLA-A2402          1            1   \n",
       "2433   YYSKNLNSFF   YYSKNLNSSF  HLA-A2402          1            2   \n",
       "2434    YYSPQAQTL    YYSPQAQTP  HLA-A2402          0            1   \n",
       "\n",
       "      percentage_pos  len_mut  len_wt  icore_start_pos  Peptide_mut  \\\n",
       "0                1.0        9       9                1    AAASATLAL   \n",
       "1                0.0        9       9                1    AAHFTVLLY   \n",
       "2                0.0        9       9                1    AAIAASRSV   \n",
       "3                0.0        9       9                1    AAKAALEDF   \n",
       "4                0.0        9       9                1    AAMHGRKIM   \n",
       "...              ...      ...     ...              ...          ...   \n",
       "2430             0.0       11      11                1  YYNFEGDIALL   \n",
       "2431             0.0        9       9                1    YYPGKKEPF   \n",
       "2432             1.0        9       9                1    YYSKNLNSF   \n",
       "2433             1.0       10      10                1    YYSKNLNSF   \n",
       "2434             0.0        9       9                1    YYSPQAQTL   \n",
       "\n",
       "           Core  Of  Gp  Gl  Ip  Il    icore_mut  EL_rank_mut  \\\n",
       "0     AAASATLAL   0   0   0   0   0    AAASATLAL        0.052   \n",
       "1     AAHFTVLLY   0   0   0   0   0    AAHFTVLLY        0.420   \n",
       "2     AAIAASRSV   0   0   0   0   0    AAIAASRSV        0.059   \n",
       "3     AAKAALEDF   0   0   0   0   0    AAKAALEDF        1.056   \n",
       "4     AAMHGRKIM   0   0   0   0   0    AAMHGRKIM        0.670   \n",
       "...         ...  ..  ..  ..  ..  ..          ...          ...   \n",
       "2430  YYNGDIALL   0   3   2   0   0  YYNFEGDIALL        0.625   \n",
       "2431  YYPGKKEPF   0   0   0   0   0    YYPGKKEPF        0.097   \n",
       "2432  YYSKNLNSF   0   0   0   0   0    YYSKNLNSF        0.003   \n",
       "2433  YYSKNLNSF   0   0   0   0   0    YYSKNLNSF        0.003   \n",
       "2434  YYSPQAQTL   0   0   0   0   0    YYSPQAQTL        0.005   \n",
       "\n",
       "     icore_wt_aligned  EL_rank_wt_aligned icore_similarity_score  \\\n",
       "0           AAASATLAS               8.004               0.982822   \n",
       "1           AAHFTALLY               0.588               0.951034   \n",
       "2           AAIAASRSA               1.173               0.987735   \n",
       "3           AAKAALEEF               0.160               0.972773   \n",
       "4           AAMNGRKIM               0.739               0.921524   \n",
       "...               ...                 ...                    ...   \n",
       "2430      SYNFEGDIALL               0.758               0.981957   \n",
       "2431        YYSGKKEPF               0.082               0.927951   \n",
       "2432        YYSKNLNSS               4.686               0.974386   \n",
       "2433        YYSKNLNSS               4.686               0.974386   \n",
       "2434        YYSPQAQTP               1.364               0.969539   \n",
       "\n",
       "      trueHLA_EL_rank  \n",
       "0               0.052  \n",
       "1               0.420  \n",
       "2               0.059  \n",
       "3               1.056  \n",
       "4               0.670  \n",
       "...               ...  \n",
       "2430            0.625  \n",
       "2431            0.097  \n",
       "2432            0.003  \n",
       "2433            0.031  \n",
       "2434            0.005  \n",
       "\n",
       "[2435 rows x 22 columns]"
      ]
     },
     "execution_count": 333,
     "metadata": {},
     "output_type": "execute_result"
    }
   ],
   "source": []
  },
  {
   "cell_type": "code",
   "execution_count": 334,
   "id": "23a1a45a-14d0-4433-80cb-5fac97b3c64e",
   "metadata": {},
   "outputs": [
    {
     "name": "stdout",
     "output_type": "stream",
     "text": [
      "start 2435\n",
      "read hobohm 2060 375\n",
      "strat kfold unique 2060 375\n",
      "manually reassign identical 2060 375\n",
      "manually reassign related 2060 375\n",
      "concat 2435\n",
      "merge 2435\n",
      "drop duplicated 2435\n"
     ]
    }
   ],
   "source": [
    "from src.partition_tools import pipeline_stratified_kfold\n",
    "cedar_fold = pd.merge(assays_filt.reset_index(drop=True), cedar_icore.reset_index(drop=True), left_index=True, right_index=True).merge(cedar_fullpep['trueHLA_EL_rank'], left_index=True,right_index=True)\n",
    "cedar_fold = pipeline_stratified_kfold(hobohm_filename='../../kern_dist/out/230613_cedar_filtered.pep_0.9.out',\n",
    "                          original_df=cedar_fold.reset_index(drop=True), k=10, elrank_col = 'EL_rank_mut', target_col='agg_label', pep_col='Peptide', hla_col='HLA')"
   ]
  },
  {
   "cell_type": "code",
   "execution_count": 335,
   "id": "1088982c-9c5b-4ec2-99ff-2ae0cae9be7f",
   "metadata": {},
   "outputs": [],
   "source": [
    "cedar_fold.to_csv('../data/new_filtering/230613_cedar_fold_newfiltering.csv', index=False)"
   ]
  },
  {
   "cell_type": "markdown",
   "id": "4d0c6b1b-c4a0-4428-b254-ed317ddf9312",
   "metadata": {
    "jp-MarkdownHeadingCollapsed": true,
    "tags": []
   },
   "source": [
    "# Do the training thing here"
   ]
  },
  {
   "cell_type": "code",
   "execution_count": 13,
   "id": "a0bc03f6-068b-4b04-9564-1020d2575bea",
   "metadata": {},
   "outputs": [],
   "source": [
    "cedar_fold = pd.read_csv('../data/new_filtering/230613_cedar_fold_newfiltering.csv')"
   ]
  },
  {
   "cell_type": "code",
   "execution_count": 14,
   "id": "a8bb20e0-deea-463a-9cdf-4bea4f575e4f",
   "metadata": {},
   "outputs": [],
   "source": [
    "import pandas as pd\n",
    "import numpy as np\n",
    "from sklearn.ensemble import RandomForestClassifier\n",
    "import multiprocessing\n",
    "import itertools\n",
    "from functools import partial\n",
    "from joblib import Parallel, delayed\n",
    "from tqdm.auto import tqdm\n",
    "from datetime import datetime as dt\n",
    "import os, sys\n",
    "import copy\n",
    "import tracemalloc\n",
    "module_path = os.path.abspath(os.path.join('..'))\n",
    "if module_path not in sys.path:\n",
    "    sys.path.append(module_path)\n",
    "\n",
    "# Custom fct imports\n",
    "from src.utils import pkl_load, pkl_dump\n",
    "import argparse\n",
    "from src.data_processing import BL62_VALUES, BL62FREQ_VALUES, AA_KEYS, get_aa_properties\n",
    "from src.utils import mkdirs, convert_path, str2bool\n",
    "from src.metrics import get_nested_feature_importance\n",
    "from src.bootstrap import bootstrap_eval, get_pval_wrapper\n",
    "from src.sklearn_train_eval import nested_kcv_train_sklearn, evaluate_trained_models_sklearn\n",
    "from copy import deepcopy\n",
    "\n",
    "N_CORES = 8\n",
    "\n",
    "\n",
    "def final_bootstrap_wrapper(preds_df, filename, input_type, cdt, ODIR,\n",
    "                            n_rounds=10000, n_jobs=8):\n",
    "    scores = preds_df.pred.values if 'pred' in preds_df.columns else preds_df['mean_pred'].values\n",
    "    targets = preds_df.agg_label.values if 'agg_label' in preds_df.columns else preds_df['Immunogenicity'].values\n",
    "\n",
    "    bootstrapped_df = bootstrap_eval(y_score=scores, y_true=targets, n_rounds=n_rounds,\n",
    "                                     n_jobs=n_jobs, add_roc=False, reduced=True)\n",
    "    bootstrapped_df['weight'] = cdt\n",
    "    bootstrapped_df['input_type'] = input_type\n",
    "    bootstrapped_df.to_csv(f'{ODIR}bootstrapped_df_{fn}.csv', index=False)\n",
    "    return bootstrapped_df"
   ]
  },
  {
   "cell_type": "code",
   "execution_count": 36,
   "id": "581d515f-d84c-4761-8854-0c8a1172fb1a",
   "metadata": {
    "tags": []
   },
   "outputs": [
    {
     "ename": "NameError",
     "evalue": "name 'cedar_fold' is not defined",
     "output_type": "error",
     "traceback": [
      "\u001b[0;31m---------------------------------------------------------------------------\u001b[0m",
      "\u001b[0;31mNameError\u001b[0m                                 Traceback (most recent call last)",
      "Input \u001b[0;32mIn [36]\u001b[0m, in \u001b[0;36m<cell line: 1>\u001b[0;34m()\u001b[0m\n\u001b[0;32m----> 1\u001b[0m train_dataset \u001b[38;5;241m=\u001b[39m \u001b[43mcedar_fold\u001b[49m\u001b[38;5;241m.\u001b[39mquery(\u001b[38;5;124m'\u001b[39m\u001b[38;5;124mHLA in @HLAS\u001b[39m\u001b[38;5;124m'\u001b[39m)\n\u001b[1;32m      2\u001b[0m ics_kl \u001b[38;5;241m=\u001b[39m pkl_load(\u001b[38;5;124m'\u001b[39m\u001b[38;5;124m../data/ic_dicts/ics_kl_new.pkl\u001b[39m\u001b[38;5;124m'\u001b[39m)\n\u001b[1;32m      3\u001b[0m ics_shannon \u001b[38;5;241m=\u001b[39m pkl_load(\u001b[38;5;124m'\u001b[39m\u001b[38;5;124m../data/ic_dicts/ics_shannon.pkl\u001b[39m\u001b[38;5;124m'\u001b[39m)\n",
      "\u001b[0;31mNameError\u001b[0m: name 'cedar_fold' is not defined"
     ]
    }
   ],
   "source": [
    "train_dataset = cedar_fold.query('HLA in @HLAS')\n",
    "ics_kl = pkl_load('../data/ic_dicts/ics_kl_new.pkl')\n",
    "ics_shannon = pkl_load('../data/ic_dicts/ics_shannon.pkl')\n",
    "ODIR = '../output/230613_refiltered_cedar/'\n",
    "RDIR = ODIR+'raw/'\n",
    "BDIR = ODIR+'boot/'\n",
    "os.makedirs(ODIR, exist_ok=True)\n",
    "os.makedirs(RDIR, exist_ok=True)\n",
    "os.makedirs(BDIR, exist_ok=True)\n",
    "\n",
    "# DEFINING KWARGS\n",
    "encoding_kwargs = {'max_len': 12,\n",
    "                   'encoding': 'onehot',\n",
    "                   'blosum_matrix': None,\n",
    "                   'mask': False,  # Using Shannon ICs, true if both mask and name is \"shannon\"\n",
    "                   'add_rank': True,\n",
    "                   'hla_col': 'HLA',\n",
    "                   'add_aaprop': False,\n",
    "                   'remove_pep': False,\n",
    "                   'mut_col': [],\n",
    "                   'standardize': True}\n",
    "\n",
    "conditions_list = {'Inverted-Shannon': (True, 'Inverted-Shannon', ics_shannon, False),\n",
    "                   'None': (False, 'None', None, False),\n",
    "                   'Mask': (False, 'Mask', ics_shannon, True),\n",
    "                   'Shannon': (False, 'Shannon', ics_shannon, False),\n",
    "                   'Inverted-Mask': (True, 'Inverted-Mask', ics_shannon, True),\n",
    "                   'KL': (False, 'KL', ics_kl, False),\n",
    "                   'Inverted-KL': (True, 'Inverted-KL', ics_kl, False),\n",
    "                   'KL-Mask':(False, 'KL-Mask', ics_kl, True),\n",
    "                   'Inverted-KL-Mask':(True, 'Inverted-KL-Mask', ics_kl, True)}\n",
    "\n",
    "for input_type, cdt in tqdm(list(product(['Peptide', 'icore_mut'], conditions_list.keys())), desc='cdt'):\n",
    "    encoding_kwargs['rank_col'] = 'EL_rank_mut' if input_type =='icore_mut' else 'trueHLA_EL_rank'\n",
    "    encoding_kwargs['seq_col'] = input_type\n",
    "    invert, ic_name, ics_dict, mask = conditions_list[cdt]\n",
    "    # megaloops for encoding-weighting\n",
    "    encoding_kwargs['threshold']=0.201 if 'KL' in cdt else 0.236\n",
    "    encoding_kwargs['encoding'] = 'onehot'\n",
    "    encoding_kwargs['blosum_matrix'] = None\n",
    "    # Doing only Inverted Shannon, Mask, None\n",
    "    encoding_kwargs['invert'] = invert\n",
    "    encoding_kwargs['mask'] = mask\n",
    "    model = RandomForestClassifier(n_jobs=1, min_samples_leaf=7, n_estimators=300,\n",
    "                               max_depth=8, ccp_alpha=9.945e-6)\n",
    "    fn = f'{input_type}_{cdt}'\n",
    "    # Training model and getting feature importances\n",
    "    print('Training')\n",
    "    trained_models, _, _ = nested_kcv_train_sklearn(train_dataset, model,\n",
    "                                                    ics_dict=ics_dict,\n",
    "                                                    encoding_kwargs=encoding_kwargs, n_jobs=8)\n",
    "    _, kcv_preds = evaluate_trained_models_sklearn(train_dataset, trained_models, ics_dict, train_dataset, encoding_kwargs, concatenated=False, only_concat=False, kcv_eval=True, n_jobs=8)\n",
    "    p_col = 'pred' if 'pred' in kcv_preds.columns else 'mean_pred'\n",
    "    kcv_preds.to_csv(f'{RDIR}preds_{fn}.csv', index=False)\n",
    "    _ = final_bootstrap_wrapper(kcv_preds, fn, input_type, cdt, ODIR, n_rounds=10000, n_jobs=8)\n",
    "        "
   ]
  },
  {
   "cell_type": "code",
   "execution_count": 43,
   "id": "612f449e-1912-41dd-b6b0-e2b0a82fd39f",
   "metadata": {},
   "outputs": [
    {
     "data": {
      "image/png": "[encoded data removed]",
      "text/plain": [
       "<Figure size 3600x1350 with 1 Axes>"
      ]
     },
     "metadata": {},
     "output_type": "display_data"
    }
   ],
   "source": [
    "order = ['Inverted-Shannon', 'Inverted-KL', 'Inverted-Mask', 'Inverted-KL-Mask', \n",
    "         'None', 'KL-Mask', 'Mask', 'KL', 'Shannon']\n",
    "ODIR='../output/230613_refiltered_cedar/'\n",
    "bdf = pd.concat([pd.read_csv(f'{ODIR}{x}') for x in os.listdir(ODIR) if x.endswith('csv')])\n",
    "f,a = plt.subplots(1,1, figsize=(20,7.5))\n",
    "sns.boxplot(bdf, y='auc', x='input_type', hue='weight', hue_order=order,\n",
    "            ax=a, palette={k:v for k,v in zip(order, get_palette('gnuplot2_r', len(order)))})\n",
    "plt.setp(a.patches, alpha=0.85)\n",
    "add_median_labels(a, fmt='.2%', fontsize=14)\n",
    "\n",
    "a.set_title('Weight / inputs comparison using the filtered CEDAR dataset (new)', fontweight='semibold', fontsize=14)\n",
    "\n",
    "a.set_xticklabels(a.get_xticklabels(), fontweight='semibold')\n",
    "a.set_xlabel('Weighting Scheme', fontweight='semibold')\n",
    "a.set_ylim([0.55,0.775])\n",
    "a.legend(loc='lower right', title='Input type', prop=dict(weight='semibold'), title_fontproperties=dict(weight='semibold'))\n",
    "f.savefig('../../../writing/230131_cedar_paper_1/supps/2306_weights_NEW.png', dpi=600, bbox_inches='tight')"
   ]
  },
  {
   "cell_type": "markdown",
   "id": "43f54a9a-c8c5-4971-a479-7c317ea1fb6b",
   "metadata": {},
   "source": [
    "### comparing to the previous data"
   ]
  },
  {
   "cell_type": "code",
   "execution_count": 44,
   "id": "e364f58b-3594-4a75-8b9b-4d41268bcb7a",
   "metadata": {},
   "outputs": [
    {
     "data": {
      "image/png": "[encoded data removed]",
      "text/plain": [
       "<Figure size 3600x1350 with 1 Axes>"
      ]
     },
     "metadata": {},
     "output_type": "display_data"
    }
   ],
   "source": [
    "input_df = pd.read_csv('../output/230427_FINAL_ANALYSIS_ALL/input_df_comparison.csv')\n",
    "input_df.weight.unique()\n",
    "\n",
    "xd ={'Inverted-KL':'Inverted (IC)',\n",
    "     'Inverted-KL-Mask':'Inverted Mask',\n",
    "     'None':'None',\n",
    "     'KL-Mask':'Mask', \n",
    "     # 'KL':'Normal (1-IC)',\n",
    "     'Mask' : 'Mask (SH)',\n",
    "     'Inverted Mask': 'Inverted Mask (SH)'}\n",
    "\n",
    "def replace_weight(weight, xd ={'Inverted-KL':'Inverted (IC)',\n",
    "     'Inverted-KL-Mask':'Inverted Mask',\n",
    "     'None':'None',\n",
    "     'KL-Mask':'Mask', \n",
    "     'KL':'KL',\n",
    "     'Mask' : 'Mask (SH)',\n",
    "     # 'Normal (1-IC)' :'KL',\n",
    "     'Inverted Mask': 'Inverted Mask (SH)'}):\n",
    "    \n",
    "    if weight in xd.keys():\n",
    "        return xd[weight]\n",
    "    else:\n",
    "        return weight\n",
    "    \n",
    "input_df['weight'] = input_df['weight'].apply(replace_weight, xd=xd)\n",
    "\n",
    "weight_order_all = ['Inverted Shannon','Inverted KL', 'Inverted Mask (SH)', 'Inverted Mask (KL)',\n",
    "                    'None',\n",
    "                    'Mask (KL)', 'Mask (SH)' ,'KL' ,'Shannon']\n",
    "input_df.weight.unique()\n",
    "from src.bootstrap import get_pval_wrapper\n",
    "f,a = plt.subplots(1,1, figsize=(20,7.5))\n",
    "# ALL\n",
    "\n",
    "sns.boxplot(data=input_df.query('evalset==\"CEDAR\" and input_type!=\"expanded_input\"').replace({'Peptide':'Peptide + Full pep %Rank',\n",
    "                                                             'icore_mut':'ICORE + ICORE %Rank'}),\n",
    "            x= 'input_type', y='auc', hue = 'weight', hue_order=weight_order_all, \n",
    "            palette={k:v for k,v in zip(weight_order_all, get_palette('gnuplot2_r', n_colors=len(weight_order_all)))})\n",
    "# a.set_title('Inputs comparison, bootstrapped crossvalidation AUCs for CEDAR', fontweight = 'semibold', fontsize=14)\n",
    "add_median_labels(a, fmt='.2%')\n",
    "\n",
    "a.set_xticklabels(a.get_xticklabels(), fontweight='semibold')\n",
    "a.set_xlabel('Weighting Scheme', fontweight='semibold')\n",
    "a.set_ylim([0.55,0.775])\n",
    "a.legend(loc='lower right', title='Input type', prop=dict(weight='semibold'), title_fontproperties=dict(weight='semibold'))\n",
    "a.set_title('Weight / inputs comparison using the full CEDAR dataset (old)', fontweight='semibold', fontsize=14)\n",
    "f.savefig('../../../writing/230131_cedar_paper_1/supps/2306_weights_OLD.png', dpi=600, bbox_inches='tight')"
   ]
  },
  {
   "cell_type": "markdown",
   "id": "57846498-f389-4d82-87bb-d4ffe9e9d31f",
   "metadata": {},
   "source": [
    "# Foreignness score split ?"
   ]
  },
  {
   "cell_type": "code",
   "execution_count": 6,
   "id": "d9235ee8-917c-4f86-a65e-ecb7b9403ac2",
   "metadata": {},
   "outputs": [
    {
     "data": {
      "text/plain": [
       "(370, 2618)"
      ]
     },
     "execution_count": 6,
     "metadata": {},
     "output_type": "execute_result"
    }
   ],
   "source": [
    "cedar = pd.read_csv('../data/pepx/230418_cedar_aligned_pepx.csv')\n",
    "prime = pd.read_csv('../data/pepx/230418_prime_aligned_pepx.csv')\n",
    "t = 5e-2\n",
    "len(cedar.query('foreignness_score>=@t')), len(cedar.query('foreignness_score<@t'))"
   ]
  },
  {
   "cell_type": "code",
   "execution_count": 7,
   "id": "dbe49373-f9f3-42e4-8c71-564e096c1292",
   "metadata": {},
   "outputs": [
    {
     "name": "stdout",
     "output_type": "stream",
     "text": [
      "lower:  0.5123\n",
      "\tnegs = 2086, pos = 532, propPos =  20.32%\n",
      "upper:  0.5877\n",
      "\tnegs = 279, pos = 91, propPos =  24.59%\n"
     ]
    }
   ],
   "source": [
    "from sklearn.metrics import roc_auc_score\n",
    "t = 1e-1\n",
    "lower = cedar.query('foreignness_score<@t')\n",
    "upper = cedar.query('foreignness_score>@t')\n",
    "\n",
    "print(\"lower: \", round(roc_auc_score(lower['agg_label'].values, lower['foreignness_score'].values), 5))\n",
    "print(f\"\\tnegs = {len(lower.query('agg_label==0'))}, pos = {len(lower.query('agg_label==1'))}, propPos = {len(lower.query('agg_label==1'))/len(lower) : .2%}\")\n",
    "print(\"upper: \", round(roc_auc_score(upper['agg_label'].values, upper['foreignness_score'].values), 5))\n",
    "print(f\"\\tnegs = {len(upper.query('agg_label==0'))}, pos = {len(upper.query('agg_label==1'))}, propPos = {len(upper.query('agg_label==1'))/len(upper) : .2%}\")"
   ]
  },
  {
   "cell_type": "code",
   "execution_count": 35,
   "id": "a050b3d2-79ff-45ec-9587-ede45fcdfdcb",
   "metadata": {
    "collapsed": true,
    "jupyter": {
     "outputs_hidden": true
    },
    "tags": []
   },
   "outputs": [
    {
     "data": {
      "application/vnd.jupyter.widget-view+json": {
       "model_id": "8dadf86ac2694221af8871914d5f803f",
       "version_major": 2,
       "version_minor": 0
      },
      "text/plain": [
       "t:   0%|          | 0/5 [00:00<?, ?it/s]"
      ]
     },
     "metadata": {},
     "output_type": "display_data"
    },
    {
     "name": "stdout",
     "output_type": "stream",
     "text": [
      "Training\n"
     ]
    },
    {
     "data": {
      "application/vnd.jupyter.widget-view+json": {
       "model_id": "",
       "version_major": 2,
       "version_minor": 0
      },
      "text/plain": [
       "Train:Outer fold:   0%|          | 0/10 [00:00<?, ?it/s]"
      ]
     },
     "metadata": {},
     "output_type": "display_data"
    },
    {
     "data": {
      "application/vnd.jupyter.widget-view+json": {
       "model_id": "",
       "version_major": 2,
       "version_minor": 0
      },
      "text/plain": [
       "Inner Folds:   0%|          | 0/9 [00:00<?, ?it/s]"
      ]
     },
     "metadata": {},
     "output_type": "display_data"
    },
    {
     "data": {
      "application/vnd.jupyter.widget-view+json": {
       "model_id": "",
       "version_major": 2,
       "version_minor": 0
      },
      "text/plain": [
       "Inner Folds:   0%|          | 0/9 [00:00<?, ?it/s]"
      ]
     },
     "metadata": {},
     "output_type": "display_data"
    },
    {
     "data": {
      "application/vnd.jupyter.widget-view+json": {
       "model_id": "",
       "version_major": 2,
       "version_minor": 0
      },
      "text/plain": [
       "Inner Folds:   0%|          | 0/9 [00:00<?, ?it/s]"
      ]
     },
     "metadata": {},
     "output_type": "display_data"
    },
    {
     "data": {
      "application/vnd.jupyter.widget-view+json": {
       "model_id": "",
       "version_major": 2,
       "version_minor": 0
      },
      "text/plain": [
       "Inner Folds:   0%|          | 0/9 [00:00<?, ?it/s]"
      ]
     },
     "metadata": {},
     "output_type": "display_data"
    },
    {
     "data": {
      "application/vnd.jupyter.widget-view+json": {
       "model_id": "",
       "version_major": 2,
       "version_minor": 0
      },
      "text/plain": [
       "Inner Folds:   0%|          | 0/9 [00:00<?, ?it/s]"
      ]
     },
     "metadata": {},
     "output_type": "display_data"
    },
    {
     "data": {
      "application/vnd.jupyter.widget-view+json": {
       "model_id": "",
       "version_major": 2,
       "version_minor": 0
      },
      "text/plain": [
       "Inner Folds:   0%|          | 0/9 [00:00<?, ?it/s]"
      ]
     },
     "metadata": {},
     "output_type": "display_data"
    },
    {
     "data": {
      "application/vnd.jupyter.widget-view+json": {
       "model_id": "",
       "version_major": 2,
       "version_minor": 0
      },
      "text/plain": [
       "Inner Folds:   0%|          | 0/9 [00:00<?, ?it/s]"
      ]
     },
     "metadata": {},
     "output_type": "display_data"
    },
    {
     "data": {
      "application/vnd.jupyter.widget-view+json": {
       "model_id": "",
       "version_major": 2,
       "version_minor": 0
      },
      "text/plain": [
       "Inner Folds:   0%|          | 0/9 [00:00<?, ?it/s]"
      ]
     },
     "metadata": {},
     "output_type": "display_data"
    },
    {
     "data": {
      "application/vnd.jupyter.widget-view+json": {
       "model_id": "",
       "version_major": 2,
       "version_minor": 0
      },
      "text/plain": [
       "Inner Folds:   0%|          | 0/9 [00:00<?, ?it/s]"
      ]
     },
     "metadata": {},
     "output_type": "display_data"
    },
    {
     "data": {
      "application/vnd.jupyter.widget-view+json": {
       "model_id": "",
       "version_major": 2,
       "version_minor": 0
      },
      "text/plain": [
       "Inner Folds:   0%|          | 0/9 [00:00<?, ?it/s]"
      ]
     },
     "metadata": {},
     "output_type": "display_data"
    },
    {
     "data": {
      "application/vnd.jupyter.widget-view+json": {
       "model_id": "",
       "version_major": 2,
       "version_minor": 0
      },
      "text/plain": [
       "Eval Folds:   0%|          | 0/10 [00:00<?, ?it/s]"
      ]
     },
     "metadata": {},
     "output_type": "display_data"
    },
    {
     "name": "stdout",
     "output_type": "stream",
     "text": [
      "Sampling\n"
     ]
    },
    {
     "data": {
      "application/vnd.jupyter.widget-view+json": {
       "model_id": "",
       "version_major": 2,
       "version_minor": 0
      },
      "text/plain": [
       "Bootstrapping rounds:   0%|          | 0/10000 [00:00<?, ?it/s]"
      ]
     },
     "metadata": {},
     "output_type": "display_data"
    },
    {
     "name": "stdout",
     "output_type": "stream",
     "text": [
      "Making results DF and curves\n",
      "Training\n"
     ]
    },
    {
     "data": {
      "application/vnd.jupyter.widget-view+json": {
       "model_id": "",
       "version_major": 2,
       "version_minor": 0
      },
      "text/plain": [
       "Train:Outer fold:   0%|          | 0/10 [00:00<?, ?it/s]"
      ]
     },
     "metadata": {},
     "output_type": "display_data"
    },
    {
     "data": {
      "application/vnd.jupyter.widget-view+json": {
       "model_id": "",
       "version_major": 2,
       "version_minor": 0
      },
      "text/plain": [
       "Inner Folds:   0%|          | 0/9 [00:00<?, ?it/s]"
      ]
     },
     "metadata": {},
     "output_type": "display_data"
    },
    {
     "data": {
      "application/vnd.jupyter.widget-view+json": {
       "model_id": "",
       "version_major": 2,
       "version_minor": 0
      },
      "text/plain": [
       "Inner Folds:   0%|          | 0/9 [00:00<?, ?it/s]"
      ]
     },
     "metadata": {},
     "output_type": "display_data"
    },
    {
     "data": {
      "application/vnd.jupyter.widget-view+json": {
       "model_id": "",
       "version_major": 2,
       "version_minor": 0
      },
      "text/plain": [
       "Inner Folds:   0%|          | 0/9 [00:00<?, ?it/s]"
      ]
     },
     "metadata": {},
     "output_type": "display_data"
    },
    {
     "data": {
      "application/vnd.jupyter.widget-view+json": {
       "model_id": "",
       "version_major": 2,
       "version_minor": 0
      },
      "text/plain": [
       "Inner Folds:   0%|          | 0/9 [00:00<?, ?it/s]"
      ]
     },
     "metadata": {},
     "output_type": "display_data"
    },
    {
     "data": {
      "application/vnd.jupyter.widget-view+json": {
       "model_id": "",
       "version_major": 2,
       "version_minor": 0
      },
      "text/plain": [
       "Inner Folds:   0%|          | 0/9 [00:00<?, ?it/s]"
      ]
     },
     "metadata": {},
     "output_type": "display_data"
    },
    {
     "data": {
      "application/vnd.jupyter.widget-view+json": {
       "model_id": "",
       "version_major": 2,
       "version_minor": 0
      },
      "text/plain": [
       "Inner Folds:   0%|          | 0/9 [00:00<?, ?it/s]"
      ]
     },
     "metadata": {},
     "output_type": "display_data"
    },
    {
     "data": {
      "application/vnd.jupyter.widget-view+json": {
       "model_id": "",
       "version_major": 2,
       "version_minor": 0
      },
      "text/plain": [
       "Inner Folds:   0%|          | 0/9 [00:00<?, ?it/s]"
      ]
     },
     "metadata": {},
     "output_type": "display_data"
    },
    {
     "data": {
      "application/vnd.jupyter.widget-view+json": {
       "model_id": "",
       "version_major": 2,
       "version_minor": 0
      },
      "text/plain": [
       "Inner Folds:   0%|          | 0/9 [00:00<?, ?it/s]"
      ]
     },
     "metadata": {},
     "output_type": "display_data"
    },
    {
     "data": {
      "application/vnd.jupyter.widget-view+json": {
       "model_id": "",
       "version_major": 2,
       "version_minor": 0
      },
      "text/plain": [
       "Inner Folds:   0%|          | 0/9 [00:00<?, ?it/s]"
      ]
     },
     "metadata": {},
     "output_type": "display_data"
    },
    {
     "data": {
      "application/vnd.jupyter.widget-view+json": {
       "model_id": "",
       "version_major": 2,
       "version_minor": 0
      },
      "text/plain": [
       "Inner Folds:   0%|          | 0/9 [00:00<?, ?it/s]"
      ]
     },
     "metadata": {},
     "output_type": "display_data"
    },
    {
     "data": {
      "application/vnd.jupyter.widget-view+json": {
       "model_id": "",
       "version_major": 2,
       "version_minor": 0
      },
      "text/plain": [
       "Eval Folds:   0%|          | 0/10 [00:00<?, ?it/s]"
      ]
     },
     "metadata": {},
     "output_type": "display_data"
    },
    {
     "name": "stdout",
     "output_type": "stream",
     "text": [
      "Sampling\n"
     ]
    },
    {
     "data": {
      "application/vnd.jupyter.widget-view+json": {
       "model_id": "",
       "version_major": 2,
       "version_minor": 0
      },
      "text/plain": [
       "Bootstrapping rounds:   0%|          | 0/10000 [00:00<?, ?it/s]"
      ]
     },
     "metadata": {},
     "output_type": "display_data"
    },
    {
     "name": "stdout",
     "output_type": "stream",
     "text": [
      "Making results DF and curves\n",
      "Training\n"
     ]
    },
    {
     "data": {
      "application/vnd.jupyter.widget-view+json": {
       "model_id": "",
       "version_major": 2,
       "version_minor": 0
      },
      "text/plain": [
       "Train:Outer fold:   0%|          | 0/10 [00:00<?, ?it/s]"
      ]
     },
     "metadata": {},
     "output_type": "display_data"
    },
    {
     "data": {
      "application/vnd.jupyter.widget-view+json": {
       "model_id": "",
       "version_major": 2,
       "version_minor": 0
      },
      "text/plain": [
       "Inner Folds:   0%|          | 0/9 [00:00<?, ?it/s]"
      ]
     },
     "metadata": {},
     "output_type": "display_data"
    },
    {
     "data": {
      "application/vnd.jupyter.widget-view+json": {
       "model_id": "",
       "version_major": 2,
       "version_minor": 0
      },
      "text/plain": [
       "Inner Folds:   0%|          | 0/9 [00:00<?, ?it/s]"
      ]
     },
     "metadata": {},
     "output_type": "display_data"
    },
    {
     "data": {
      "application/vnd.jupyter.widget-view+json": {
       "model_id": "",
       "version_major": 2,
       "version_minor": 0
      },
      "text/plain": [
       "Inner Folds:   0%|          | 0/9 [00:00<?, ?it/s]"
      ]
     },
     "metadata": {},
     "output_type": "display_data"
    },
    {
     "data": {
      "application/vnd.jupyter.widget-view+json": {
       "model_id": "",
       "version_major": 2,
       "version_minor": 0
      },
      "text/plain": [
       "Inner Folds:   0%|          | 0/9 [00:00<?, ?it/s]"
      ]
     },
     "metadata": {},
     "output_type": "display_data"
    },
    {
     "data": {
      "application/vnd.jupyter.widget-view+json": {
       "model_id": "",
       "version_major": 2,
       "version_minor": 0
      },
      "text/plain": [
       "Inner Folds:   0%|          | 0/9 [00:00<?, ?it/s]"
      ]
     },
     "metadata": {},
     "output_type": "display_data"
    },
    {
     "data": {
      "application/vnd.jupyter.widget-view+json": {
       "model_id": "",
       "version_major": 2,
       "version_minor": 0
      },
      "text/plain": [
       "Inner Folds:   0%|          | 0/9 [00:00<?, ?it/s]"
      ]
     },
     "metadata": {},
     "output_type": "display_data"
    },
    {
     "data": {
      "application/vnd.jupyter.widget-view+json": {
       "model_id": "",
       "version_major": 2,
       "version_minor": 0
      },
      "text/plain": [
       "Inner Folds:   0%|          | 0/9 [00:00<?, ?it/s]"
      ]
     },
     "metadata": {},
     "output_type": "display_data"
    },
    {
     "data": {
      "application/vnd.jupyter.widget-view+json": {
       "model_id": "",
       "version_major": 2,
       "version_minor": 0
      },
      "text/plain": [
       "Inner Folds:   0%|          | 0/9 [00:00<?, ?it/s]"
      ]
     },
     "metadata": {},
     "output_type": "display_data"
    },
    {
     "data": {
      "application/vnd.jupyter.widget-view+json": {
       "model_id": "",
       "version_major": 2,
       "version_minor": 0
      },
      "text/plain": [
       "Inner Folds:   0%|          | 0/9 [00:00<?, ?it/s]"
      ]
     },
     "metadata": {},
     "output_type": "display_data"
    },
    {
     "data": {
      "application/vnd.jupyter.widget-view+json": {
       "model_id": "",
       "version_major": 2,
       "version_minor": 0
      },
      "text/plain": [
       "Inner Folds:   0%|          | 0/9 [00:00<?, ?it/s]"
      ]
     },
     "metadata": {},
     "output_type": "display_data"
    },
    {
     "data": {
      "application/vnd.jupyter.widget-view+json": {
       "model_id": "",
       "version_major": 2,
       "version_minor": 0
      },
      "text/plain": [
       "Eval Folds:   0%|          | 0/10 [00:00<?, ?it/s]"
      ]
     },
     "metadata": {},
     "output_type": "display_data"
    },
    {
     "name": "stdout",
     "output_type": "stream",
     "text": [
      "Sampling\n"
     ]
    },
    {
     "data": {
      "application/vnd.jupyter.widget-view+json": {
       "model_id": "",
       "version_major": 2,
       "version_minor": 0
      },
      "text/plain": [
       "Bootstrapping rounds:   0%|          | 0/10000 [00:00<?, ?it/s]"
      ]
     },
     "metadata": {},
     "output_type": "display_data"
    },
    {
     "name": "stdout",
     "output_type": "stream",
     "text": [
      "Making results DF and curves\n"
     ]
    },
    {
     "data": {
      "text/html": [
       "<div>\n",
       "<style scoped>\n",
       "    .dataframe tbody tr th:only-of-type {\n",
       "        vertical-align: middle;\n",
       "    }\n",
       "\n",
       "    .dataframe tbody tr th {\n",
       "        vertical-align: top;\n",
       "    }\n",
       "\n",
       "    .dataframe thead th {\n",
       "        text-align: right;\n",
       "    }\n",
       "</style>\n",
       "<table border=\"1\" class=\"dataframe\">\n",
       "  <thead>\n",
       "    <tr style=\"text-align: right;\">\n",
       "      <th></th>\n",
       "      <th>mean_auc</th>\n",
       "    </tr>\n",
       "    <tr>\n",
       "      <th>weight</th>\n",
       "      <th></th>\n",
       "    </tr>\n",
       "  </thead>\n",
       "  <tbody>\n",
       "    <tr>\n",
       "      <th>foreignness_all</th>\n",
       "      <td>0.717733</td>\n",
       "    </tr>\n",
       "    <tr>\n",
       "      <th>foreignness_lower</th>\n",
       "      <td>0.721411</td>\n",
       "    </tr>\n",
       "    <tr>\n",
       "      <th>foreignness_upper</th>\n",
       "      <td>0.677746</td>\n",
       "    </tr>\n",
       "  </tbody>\n",
       "</table>\n",
       "</div>"
      ],
      "text/plain": [
       "                   mean_auc\n",
       "weight                     \n",
       "foreignness_all    0.717733\n",
       "foreignness_lower  0.721411\n",
       "foreignness_upper  0.677746"
      ]
     },
     "metadata": {},
     "output_type": "display_data"
    },
    {
     "name": "stdout",
     "output_type": "stream",
     "text": [
      "Training\n"
     ]
    },
    {
     "data": {
      "application/vnd.jupyter.widget-view+json": {
       "model_id": "",
       "version_major": 2,
       "version_minor": 0
      },
      "text/plain": [
       "Train:Outer fold:   0%|          | 0/10 [00:00<?, ?it/s]"
      ]
     },
     "metadata": {},
     "output_type": "display_data"
    },
    {
     "data": {
      "application/vnd.jupyter.widget-view+json": {
       "model_id": "",
       "version_major": 2,
       "version_minor": 0
      },
      "text/plain": [
       "Inner Folds:   0%|          | 0/9 [00:00<?, ?it/s]"
      ]
     },
     "metadata": {},
     "output_type": "display_data"
    },
    {
     "data": {
      "application/vnd.jupyter.widget-view+json": {
       "model_id": "",
       "version_major": 2,
       "version_minor": 0
      },
      "text/plain": [
       "Inner Folds:   0%|          | 0/9 [00:00<?, ?it/s]"
      ]
     },
     "metadata": {},
     "output_type": "display_data"
    },
    {
     "data": {
      "application/vnd.jupyter.widget-view+json": {
       "model_id": "",
       "version_major": 2,
       "version_minor": 0
      },
      "text/plain": [
       "Inner Folds:   0%|          | 0/9 [00:00<?, ?it/s]"
      ]
     },
     "metadata": {},
     "output_type": "display_data"
    },
    {
     "data": {
      "application/vnd.jupyter.widget-view+json": {
       "model_id": "",
       "version_major": 2,
       "version_minor": 0
      },
      "text/plain": [
       "Inner Folds:   0%|          | 0/9 [00:00<?, ?it/s]"
      ]
     },
     "metadata": {},
     "output_type": "display_data"
    },
    {
     "data": {
      "application/vnd.jupyter.widget-view+json": {
       "model_id": "",
       "version_major": 2,
       "version_minor": 0
      },
      "text/plain": [
       "Inner Folds:   0%|          | 0/9 [00:00<?, ?it/s]"
      ]
     },
     "metadata": {},
     "output_type": "display_data"
    },
    {
     "data": {
      "application/vnd.jupyter.widget-view+json": {
       "model_id": "",
       "version_major": 2,
       "version_minor": 0
      },
      "text/plain": [
       "Inner Folds:   0%|          | 0/9 [00:00<?, ?it/s]"
      ]
     },
     "metadata": {},
     "output_type": "display_data"
    },
    {
     "data": {
      "application/vnd.jupyter.widget-view+json": {
       "model_id": "",
       "version_major": 2,
       "version_minor": 0
      },
      "text/plain": [
       "Inner Folds:   0%|          | 0/9 [00:00<?, ?it/s]"
      ]
     },
     "metadata": {},
     "output_type": "display_data"
    },
    {
     "data": {
      "application/vnd.jupyter.widget-view+json": {
       "model_id": "",
       "version_major": 2,
       "version_minor": 0
      },
      "text/plain": [
       "Inner Folds:   0%|          | 0/9 [00:00<?, ?it/s]"
      ]
     },
     "metadata": {},
     "output_type": "display_data"
    },
    {
     "data": {
      "application/vnd.jupyter.widget-view+json": {
       "model_id": "",
       "version_major": 2,
       "version_minor": 0
      },
      "text/plain": [
       "Inner Folds:   0%|          | 0/9 [00:00<?, ?it/s]"
      ]
     },
     "metadata": {},
     "output_type": "display_data"
    },
    {
     "data": {
      "application/vnd.jupyter.widget-view+json": {
       "model_id": "",
       "version_major": 2,
       "version_minor": 0
      },
      "text/plain": [
       "Inner Folds:   0%|          | 0/9 [00:00<?, ?it/s]"
      ]
     },
     "metadata": {},
     "output_type": "display_data"
    },
    {
     "data": {
      "application/vnd.jupyter.widget-view+json": {
       "model_id": "",
       "version_major": 2,
       "version_minor": 0
      },
      "text/plain": [
       "Eval Folds:   0%|          | 0/10 [00:00<?, ?it/s]"
      ]
     },
     "metadata": {},
     "output_type": "display_data"
    },
    {
     "name": "stdout",
     "output_type": "stream",
     "text": [
      "Sampling\n"
     ]
    },
    {
     "data": {
      "application/vnd.jupyter.widget-view+json": {
       "model_id": "",
       "version_major": 2,
       "version_minor": 0
      },
      "text/plain": [
       "Bootstrapping rounds:   0%|          | 0/10000 [00:00<?, ?it/s]"
      ]
     },
     "metadata": {},
     "output_type": "display_data"
    },
    {
     "name": "stdout",
     "output_type": "stream",
     "text": [
      "Making results DF and curves\n",
      "Training\n"
     ]
    },
    {
     "data": {
      "application/vnd.jupyter.widget-view+json": {
       "model_id": "",
       "version_major": 2,
       "version_minor": 0
      },
      "text/plain": [
       "Train:Outer fold:   0%|          | 0/10 [00:00<?, ?it/s]"
      ]
     },
     "metadata": {},
     "output_type": "display_data"
    },
    {
     "data": {
      "application/vnd.jupyter.widget-view+json": {
       "model_id": "",
       "version_major": 2,
       "version_minor": 0
      },
      "text/plain": [
       "Inner Folds:   0%|          | 0/9 [00:00<?, ?it/s]"
      ]
     },
     "metadata": {},
     "output_type": "display_data"
    },
    {
     "data": {
      "application/vnd.jupyter.widget-view+json": {
       "model_id": "",
       "version_major": 2,
       "version_minor": 0
      },
      "text/plain": [
       "Inner Folds:   0%|          | 0/9 [00:00<?, ?it/s]"
      ]
     },
     "metadata": {},
     "output_type": "display_data"
    },
    {
     "data": {
      "application/vnd.jupyter.widget-view+json": {
       "model_id": "",
       "version_major": 2,
       "version_minor": 0
      },
      "text/plain": [
       "Inner Folds:   0%|          | 0/9 [00:00<?, ?it/s]"
      ]
     },
     "metadata": {},
     "output_type": "display_data"
    },
    {
     "data": {
      "application/vnd.jupyter.widget-view+json": {
       "model_id": "",
       "version_major": 2,
       "version_minor": 0
      },
      "text/plain": [
       "Inner Folds:   0%|          | 0/9 [00:00<?, ?it/s]"
      ]
     },
     "metadata": {},
     "output_type": "display_data"
    },
    {
     "data": {
      "application/vnd.jupyter.widget-view+json": {
       "model_id": "",
       "version_major": 2,
       "version_minor": 0
      },
      "text/plain": [
       "Inner Folds:   0%|          | 0/9 [00:00<?, ?it/s]"
      ]
     },
     "metadata": {},
     "output_type": "display_data"
    },
    {
     "data": {
      "application/vnd.jupyter.widget-view+json": {
       "model_id": "",
       "version_major": 2,
       "version_minor": 0
      },
      "text/plain": [
       "Inner Folds:   0%|          | 0/9 [00:00<?, ?it/s]"
      ]
     },
     "metadata": {},
     "output_type": "display_data"
    },
    {
     "data": {
      "application/vnd.jupyter.widget-view+json": {
       "model_id": "",
       "version_major": 2,
       "version_minor": 0
      },
      "text/plain": [
       "Inner Folds:   0%|          | 0/9 [00:00<?, ?it/s]"
      ]
     },
     "metadata": {},
     "output_type": "display_data"
    },
    {
     "data": {
      "application/vnd.jupyter.widget-view+json": {
       "model_id": "",
       "version_major": 2,
       "version_minor": 0
      },
      "text/plain": [
       "Inner Folds:   0%|          | 0/9 [00:00<?, ?it/s]"
      ]
     },
     "metadata": {},
     "output_type": "display_data"
    },
    {
     "data": {
      "application/vnd.jupyter.widget-view+json": {
       "model_id": "",
       "version_major": 2,
       "version_minor": 0
      },
      "text/plain": [
       "Inner Folds:   0%|          | 0/9 [00:00<?, ?it/s]"
      ]
     },
     "metadata": {},
     "output_type": "display_data"
    },
    {
     "data": {
      "application/vnd.jupyter.widget-view+json": {
       "model_id": "",
       "version_major": 2,
       "version_minor": 0
      },
      "text/plain": [
       "Inner Folds:   0%|          | 0/9 [00:00<?, ?it/s]"
      ]
     },
     "metadata": {},
     "output_type": "display_data"
    },
    {
     "data": {
      "application/vnd.jupyter.widget-view+json": {
       "model_id": "",
       "version_major": 2,
       "version_minor": 0
      },
      "text/plain": [
       "Eval Folds:   0%|          | 0/10 [00:00<?, ?it/s]"
      ]
     },
     "metadata": {},
     "output_type": "display_data"
    },
    {
     "name": "stdout",
     "output_type": "stream",
     "text": [
      "Sampling\n"
     ]
    },
    {
     "data": {
      "application/vnd.jupyter.widget-view+json": {
       "model_id": "",
       "version_major": 2,
       "version_minor": 0
      },
      "text/plain": [
       "Bootstrapping rounds:   0%|          | 0/10000 [00:00<?, ?it/s]"
      ]
     },
     "metadata": {},
     "output_type": "display_data"
    },
    {
     "name": "stdout",
     "output_type": "stream",
     "text": [
      "Making results DF and curves\n",
      "Training\n"
     ]
    },
    {
     "data": {
      "application/vnd.jupyter.widget-view+json": {
       "model_id": "",
       "version_major": 2,
       "version_minor": 0
      },
      "text/plain": [
       "Train:Outer fold:   0%|          | 0/10 [00:00<?, ?it/s]"
      ]
     },
     "metadata": {},
     "output_type": "display_data"
    },
    {
     "data": {
      "application/vnd.jupyter.widget-view+json": {
       "model_id": "",
       "version_major": 2,
       "version_minor": 0
      },
      "text/plain": [
       "Inner Folds:   0%|          | 0/9 [00:00<?, ?it/s]"
      ]
     },
     "metadata": {},
     "output_type": "display_data"
    },
    {
     "data": {
      "application/vnd.jupyter.widget-view+json": {
       "model_id": "",
       "version_major": 2,
       "version_minor": 0
      },
      "text/plain": [
       "Inner Folds:   0%|          | 0/9 [00:00<?, ?it/s]"
      ]
     },
     "metadata": {},
     "output_type": "display_data"
    },
    {
     "data": {
      "application/vnd.jupyter.widget-view+json": {
       "model_id": "",
       "version_major": 2,
       "version_minor": 0
      },
      "text/plain": [
       "Inner Folds:   0%|          | 0/9 [00:00<?, ?it/s]"
      ]
     },
     "metadata": {},
     "output_type": "display_data"
    },
    {
     "data": {
      "application/vnd.jupyter.widget-view+json": {
       "model_id": "",
       "version_major": 2,
       "version_minor": 0
      },
      "text/plain": [
       "Inner Folds:   0%|          | 0/9 [00:00<?, ?it/s]"
      ]
     },
     "metadata": {},
     "output_type": "display_data"
    },
    {
     "data": {
      "application/vnd.jupyter.widget-view+json": {
       "model_id": "",
       "version_major": 2,
       "version_minor": 0
      },
      "text/plain": [
       "Inner Folds:   0%|          | 0/9 [00:00<?, ?it/s]"
      ]
     },
     "metadata": {},
     "output_type": "display_data"
    },
    {
     "data": {
      "application/vnd.jupyter.widget-view+json": {
       "model_id": "",
       "version_major": 2,
       "version_minor": 0
      },
      "text/plain": [
       "Inner Folds:   0%|          | 0/9 [00:00<?, ?it/s]"
      ]
     },
     "metadata": {},
     "output_type": "display_data"
    },
    {
     "data": {
      "application/vnd.jupyter.widget-view+json": {
       "model_id": "",
       "version_major": 2,
       "version_minor": 0
      },
      "text/plain": [
       "Inner Folds:   0%|          | 0/9 [00:00<?, ?it/s]"
      ]
     },
     "metadata": {},
     "output_type": "display_data"
    },
    {
     "data": {
      "application/vnd.jupyter.widget-view+json": {
       "model_id": "",
       "version_major": 2,
       "version_minor": 0
      },
      "text/plain": [
       "Inner Folds:   0%|          | 0/9 [00:00<?, ?it/s]"
      ]
     },
     "metadata": {},
     "output_type": "display_data"
    },
    {
     "data": {
      "application/vnd.jupyter.widget-view+json": {
       "model_id": "",
       "version_major": 2,
       "version_minor": 0
      },
      "text/plain": [
       "Inner Folds:   0%|          | 0/9 [00:00<?, ?it/s]"
      ]
     },
     "metadata": {},
     "output_type": "display_data"
    },
    {
     "data": {
      "application/vnd.jupyter.widget-view+json": {
       "model_id": "",
       "version_major": 2,
       "version_minor": 0
      },
      "text/plain": [
       "Inner Folds:   0%|          | 0/9 [00:00<?, ?it/s]"
      ]
     },
     "metadata": {},
     "output_type": "display_data"
    },
    {
     "data": {
      "application/vnd.jupyter.widget-view+json": {
       "model_id": "",
       "version_major": 2,
       "version_minor": 0
      },
      "text/plain": [
       "Eval Folds:   0%|          | 0/10 [00:00<?, ?it/s]"
      ]
     },
     "metadata": {},
     "output_type": "display_data"
    },
    {
     "name": "stdout",
     "output_type": "stream",
     "text": [
      "Sampling\n"
     ]
    },
    {
     "data": {
      "application/vnd.jupyter.widget-view+json": {
       "model_id": "",
       "version_major": 2,
       "version_minor": 0
      },
      "text/plain": [
       "Bootstrapping rounds:   0%|          | 0/10000 [00:00<?, ?it/s]"
      ]
     },
     "metadata": {},
     "output_type": "display_data"
    },
    {
     "name": "stdout",
     "output_type": "stream",
     "text": [
      "Making results DF and curves\n"
     ]
    },
    {
     "data": {
      "text/html": [
       "<div>\n",
       "<style scoped>\n",
       "    .dataframe tbody tr th:only-of-type {\n",
       "        vertical-align: middle;\n",
       "    }\n",
       "\n",
       "    .dataframe tbody tr th {\n",
       "        vertical-align: top;\n",
       "    }\n",
       "\n",
       "    .dataframe thead th {\n",
       "        text-align: right;\n",
       "    }\n",
       "</style>\n",
       "<table border=\"1\" class=\"dataframe\">\n",
       "  <thead>\n",
       "    <tr style=\"text-align: right;\">\n",
       "      <th></th>\n",
       "      <th>mean_auc</th>\n",
       "    </tr>\n",
       "    <tr>\n",
       "      <th>weight</th>\n",
       "      <th></th>\n",
       "    </tr>\n",
       "  </thead>\n",
       "  <tbody>\n",
       "    <tr>\n",
       "      <th>foreignness_all</th>\n",
       "      <td>0.717733</td>\n",
       "    </tr>\n",
       "    <tr>\n",
       "      <th>foreignness_lower</th>\n",
       "      <td>0.717026</td>\n",
       "    </tr>\n",
       "    <tr>\n",
       "      <th>foreignness_upper</th>\n",
       "      <td>0.676648</td>\n",
       "    </tr>\n",
       "  </tbody>\n",
       "</table>\n",
       "</div>"
      ],
      "text/plain": [
       "                   mean_auc\n",
       "weight                     \n",
       "foreignness_all    0.717733\n",
       "foreignness_lower  0.717026\n",
       "foreignness_upper  0.676648"
      ]
     },
     "metadata": {},
     "output_type": "display_data"
    },
    {
     "name": "stdout",
     "output_type": "stream",
     "text": [
      "Training\n"
     ]
    },
    {
     "data": {
      "application/vnd.jupyter.widget-view+json": {
       "model_id": "",
       "version_major": 2,
       "version_minor": 0
      },
      "text/plain": [
       "Train:Outer fold:   0%|          | 0/10 [00:00<?, ?it/s]"
      ]
     },
     "metadata": {},
     "output_type": "display_data"
    },
    {
     "data": {
      "application/vnd.jupyter.widget-view+json": {
       "model_id": "",
       "version_major": 2,
       "version_minor": 0
      },
      "text/plain": [
       "Inner Folds:   0%|          | 0/9 [00:00<?, ?it/s]"
      ]
     },
     "metadata": {},
     "output_type": "display_data"
    },
    {
     "data": {
      "application/vnd.jupyter.widget-view+json": {
       "model_id": "",
       "version_major": 2,
       "version_minor": 0
      },
      "text/plain": [
       "Inner Folds:   0%|          | 0/9 [00:00<?, ?it/s]"
      ]
     },
     "metadata": {},
     "output_type": "display_data"
    },
    {
     "data": {
      "application/vnd.jupyter.widget-view+json": {
       "model_id": "",
       "version_major": 2,
       "version_minor": 0
      },
      "text/plain": [
       "Inner Folds:   0%|          | 0/9 [00:00<?, ?it/s]"
      ]
     },
     "metadata": {},
     "output_type": "display_data"
    },
    {
     "data": {
      "application/vnd.jupyter.widget-view+json": {
       "model_id": "",
       "version_major": 2,
       "version_minor": 0
      },
      "text/plain": [
       "Inner Folds:   0%|          | 0/9 [00:00<?, ?it/s]"
      ]
     },
     "metadata": {},
     "output_type": "display_data"
    },
    {
     "data": {
      "application/vnd.jupyter.widget-view+json": {
       "model_id": "",
       "version_major": 2,
       "version_minor": 0
      },
      "text/plain": [
       "Inner Folds:   0%|          | 0/9 [00:00<?, ?it/s]"
      ]
     },
     "metadata": {},
     "output_type": "display_data"
    },
    {
     "data": {
      "application/vnd.jupyter.widget-view+json": {
       "model_id": "",
       "version_major": 2,
       "version_minor": 0
      },
      "text/plain": [
       "Inner Folds:   0%|          | 0/9 [00:00<?, ?it/s]"
      ]
     },
     "metadata": {},
     "output_type": "display_data"
    },
    {
     "data": {
      "application/vnd.jupyter.widget-view+json": {
       "model_id": "",
       "version_major": 2,
       "version_minor": 0
      },
      "text/plain": [
       "Inner Folds:   0%|          | 0/9 [00:00<?, ?it/s]"
      ]
     },
     "metadata": {},
     "output_type": "display_data"
    },
    {
     "data": {
      "application/vnd.jupyter.widget-view+json": {
       "model_id": "",
       "version_major": 2,
       "version_minor": 0
      },
      "text/plain": [
       "Inner Folds:   0%|          | 0/9 [00:00<?, ?it/s]"
      ]
     },
     "metadata": {},
     "output_type": "display_data"
    },
    {
     "data": {
      "application/vnd.jupyter.widget-view+json": {
       "model_id": "",
       "version_major": 2,
       "version_minor": 0
      },
      "text/plain": [
       "Inner Folds:   0%|          | 0/9 [00:00<?, ?it/s]"
      ]
     },
     "metadata": {},
     "output_type": "display_data"
    },
    {
     "data": {
      "application/vnd.jupyter.widget-view+json": {
       "model_id": "",
       "version_major": 2,
       "version_minor": 0
      },
      "text/plain": [
       "Inner Folds:   0%|          | 0/9 [00:00<?, ?it/s]"
      ]
     },
     "metadata": {},
     "output_type": "display_data"
    },
    {
     "data": {
      "application/vnd.jupyter.widget-view+json": {
       "model_id": "",
       "version_major": 2,
       "version_minor": 0
      },
      "text/plain": [
       "Eval Folds:   0%|          | 0/10 [00:00<?, ?it/s]"
      ]
     },
     "metadata": {},
     "output_type": "display_data"
    },
    {
     "name": "stdout",
     "output_type": "stream",
     "text": [
      "Sampling\n"
     ]
    },
    {
     "data": {
      "application/vnd.jupyter.widget-view+json": {
       "model_id": "",
       "version_major": 2,
       "version_minor": 0
      },
      "text/plain": [
       "Bootstrapping rounds:   0%|          | 0/10000 [00:00<?, ?it/s]"
      ]
     },
     "metadata": {},
     "output_type": "display_data"
    },
    {
     "name": "stdout",
     "output_type": "stream",
     "text": [
      "Making results DF and curves\n",
      "Training\n"
     ]
    },
    {
     "data": {
      "application/vnd.jupyter.widget-view+json": {
       "model_id": "",
       "version_major": 2,
       "version_minor": 0
      },
      "text/plain": [
       "Train:Outer fold:   0%|          | 0/10 [00:00<?, ?it/s]"
      ]
     },
     "metadata": {},
     "output_type": "display_data"
    },
    {
     "data": {
      "application/vnd.jupyter.widget-view+json": {
       "model_id": "",
       "version_major": 2,
       "version_minor": 0
      },
      "text/plain": [
       "Inner Folds:   0%|          | 0/9 [00:00<?, ?it/s]"
      ]
     },
     "metadata": {},
     "output_type": "display_data"
    },
    {
     "data": {
      "application/vnd.jupyter.widget-view+json": {
       "model_id": "",
       "version_major": 2,
       "version_minor": 0
      },
      "text/plain": [
       "Inner Folds:   0%|          | 0/9 [00:00<?, ?it/s]"
      ]
     },
     "metadata": {},
     "output_type": "display_data"
    },
    {
     "data": {
      "application/vnd.jupyter.widget-view+json": {
       "model_id": "",
       "version_major": 2,
       "version_minor": 0
      },
      "text/plain": [
       "Inner Folds:   0%|          | 0/9 [00:00<?, ?it/s]"
      ]
     },
     "metadata": {},
     "output_type": "display_data"
    },
    {
     "data": {
      "application/vnd.jupyter.widget-view+json": {
       "model_id": "",
       "version_major": 2,
       "version_minor": 0
      },
      "text/plain": [
       "Inner Folds:   0%|          | 0/9 [00:00<?, ?it/s]"
      ]
     },
     "metadata": {},
     "output_type": "display_data"
    },
    {
     "data": {
      "application/vnd.jupyter.widget-view+json": {
       "model_id": "",
       "version_major": 2,
       "version_minor": 0
      },
      "text/plain": [
       "Inner Folds:   0%|          | 0/9 [00:00<?, ?it/s]"
      ]
     },
     "metadata": {},
     "output_type": "display_data"
    },
    {
     "data": {
      "application/vnd.jupyter.widget-view+json": {
       "model_id": "",
       "version_major": 2,
       "version_minor": 0
      },
      "text/plain": [
       "Inner Folds:   0%|          | 0/9 [00:00<?, ?it/s]"
      ]
     },
     "metadata": {},
     "output_type": "display_data"
    },
    {
     "data": {
      "application/vnd.jupyter.widget-view+json": {
       "model_id": "",
       "version_major": 2,
       "version_minor": 0
      },
      "text/plain": [
       "Inner Folds:   0%|          | 0/9 [00:00<?, ?it/s]"
      ]
     },
     "metadata": {},
     "output_type": "display_data"
    },
    {
     "data": {
      "application/vnd.jupyter.widget-view+json": {
       "model_id": "",
       "version_major": 2,
       "version_minor": 0
      },
      "text/plain": [
       "Inner Folds:   0%|          | 0/9 [00:00<?, ?it/s]"
      ]
     },
     "metadata": {},
     "output_type": "display_data"
    },
    {
     "data": {
      "application/vnd.jupyter.widget-view+json": {
       "model_id": "",
       "version_major": 2,
       "version_minor": 0
      },
      "text/plain": [
       "Inner Folds:   0%|          | 0/9 [00:00<?, ?it/s]"
      ]
     },
     "metadata": {},
     "output_type": "display_data"
    },
    {
     "data": {
      "application/vnd.jupyter.widget-view+json": {
       "model_id": "",
       "version_major": 2,
       "version_minor": 0
      },
      "text/plain": [
       "Inner Folds:   0%|          | 0/9 [00:00<?, ?it/s]"
      ]
     },
     "metadata": {},
     "output_type": "display_data"
    },
    {
     "data": {
      "application/vnd.jupyter.widget-view+json": {
       "model_id": "",
       "version_major": 2,
       "version_minor": 0
      },
      "text/plain": [
       "Eval Folds:   0%|          | 0/10 [00:00<?, ?it/s]"
      ]
     },
     "metadata": {},
     "output_type": "display_data"
    },
    {
     "name": "stdout",
     "output_type": "stream",
     "text": [
      "Sampling\n"
     ]
    },
    {
     "data": {
      "application/vnd.jupyter.widget-view+json": {
       "model_id": "",
       "version_major": 2,
       "version_minor": 0
      },
      "text/plain": [
       "Bootstrapping rounds:   0%|          | 0/10000 [00:00<?, ?it/s]"
      ]
     },
     "metadata": {},
     "output_type": "display_data"
    },
    {
     "name": "stdout",
     "output_type": "stream",
     "text": [
      "Making results DF and curves\n",
      "Training\n"
     ]
    },
    {
     "data": {
      "application/vnd.jupyter.widget-view+json": {
       "model_id": "",
       "version_major": 2,
       "version_minor": 0
      },
      "text/plain": [
       "Train:Outer fold:   0%|          | 0/10 [00:00<?, ?it/s]"
      ]
     },
     "metadata": {},
     "output_type": "display_data"
    },
    {
     "data": {
      "application/vnd.jupyter.widget-view+json": {
       "model_id": "",
       "version_major": 2,
       "version_minor": 0
      },
      "text/plain": [
       "Inner Folds:   0%|          | 0/9 [00:00<?, ?it/s]"
      ]
     },
     "metadata": {},
     "output_type": "display_data"
    },
    {
     "data": {
      "application/vnd.jupyter.widget-view+json": {
       "model_id": "",
       "version_major": 2,
       "version_minor": 0
      },
      "text/plain": [
       "Inner Folds:   0%|          | 0/9 [00:00<?, ?it/s]"
      ]
     },
     "metadata": {},
     "output_type": "display_data"
    },
    {
     "data": {
      "application/vnd.jupyter.widget-view+json": {
       "model_id": "",
       "version_major": 2,
       "version_minor": 0
      },
      "text/plain": [
       "Inner Folds:   0%|          | 0/9 [00:00<?, ?it/s]"
      ]
     },
     "metadata": {},
     "output_type": "display_data"
    },
    {
     "data": {
      "application/vnd.jupyter.widget-view+json": {
       "model_id": "",
       "version_major": 2,
       "version_minor": 0
      },
      "text/plain": [
       "Inner Folds:   0%|          | 0/9 [00:00<?, ?it/s]"
      ]
     },
     "metadata": {},
     "output_type": "display_data"
    },
    {
     "data": {
      "application/vnd.jupyter.widget-view+json": {
       "model_id": "",
       "version_major": 2,
       "version_minor": 0
      },
      "text/plain": [
       "Inner Folds:   0%|          | 0/9 [00:00<?, ?it/s]"
      ]
     },
     "metadata": {},
     "output_type": "display_data"
    },
    {
     "data": {
      "application/vnd.jupyter.widget-view+json": {
       "model_id": "",
       "version_major": 2,
       "version_minor": 0
      },
      "text/plain": [
       "Inner Folds:   0%|          | 0/9 [00:00<?, ?it/s]"
      ]
     },
     "metadata": {},
     "output_type": "display_data"
    },
    {
     "data": {
      "application/vnd.jupyter.widget-view+json": {
       "model_id": "",
       "version_major": 2,
       "version_minor": 0
      },
      "text/plain": [
       "Inner Folds:   0%|          | 0/9 [00:00<?, ?it/s]"
      ]
     },
     "metadata": {},
     "output_type": "display_data"
    },
    {
     "data": {
      "application/vnd.jupyter.widget-view+json": {
       "model_id": "",
       "version_major": 2,
       "version_minor": 0
      },
      "text/plain": [
       "Inner Folds:   0%|          | 0/9 [00:00<?, ?it/s]"
      ]
     },
     "metadata": {},
     "output_type": "display_data"
    },
    {
     "data": {
      "application/vnd.jupyter.widget-view+json": {
       "model_id": "",
       "version_major": 2,
       "version_minor": 0
      },
      "text/plain": [
       "Inner Folds:   0%|          | 0/9 [00:00<?, ?it/s]"
      ]
     },
     "metadata": {},
     "output_type": "display_data"
    },
    {
     "data": {
      "application/vnd.jupyter.widget-view+json": {
       "model_id": "",
       "version_major": 2,
       "version_minor": 0
      },
      "text/plain": [
       "Inner Folds:   0%|          | 0/9 [00:00<?, ?it/s]"
      ]
     },
     "metadata": {},
     "output_type": "display_data"
    },
    {
     "data": {
      "application/vnd.jupyter.widget-view+json": {
       "model_id": "",
       "version_major": 2,
       "version_minor": 0
      },
      "text/plain": [
       "Eval Folds:   0%|          | 0/10 [00:00<?, ?it/s]"
      ]
     },
     "metadata": {},
     "output_type": "display_data"
    },
    {
     "name": "stdout",
     "output_type": "stream",
     "text": [
      "Sampling\n"
     ]
    },
    {
     "data": {
      "application/vnd.jupyter.widget-view+json": {
       "model_id": "",
       "version_major": 2,
       "version_minor": 0
      },
      "text/plain": [
       "Bootstrapping rounds:   0%|          | 0/10000 [00:00<?, ?it/s]"
      ]
     },
     "metadata": {},
     "output_type": "display_data"
    },
    {
     "name": "stdout",
     "output_type": "stream",
     "text": [
      "Making results DF and curves\n"
     ]
    },
    {
     "data": {
      "text/html": [
       "<div>\n",
       "<style scoped>\n",
       "    .dataframe tbody tr th:only-of-type {\n",
       "        vertical-align: middle;\n",
       "    }\n",
       "\n",
       "    .dataframe tbody tr th {\n",
       "        vertical-align: top;\n",
       "    }\n",
       "\n",
       "    .dataframe thead th {\n",
       "        text-align: right;\n",
       "    }\n",
       "</style>\n",
       "<table border=\"1\" class=\"dataframe\">\n",
       "  <thead>\n",
       "    <tr style=\"text-align: right;\">\n",
       "      <th></th>\n",
       "      <th>mean_auc</th>\n",
       "    </tr>\n",
       "    <tr>\n",
       "      <th>weight</th>\n",
       "      <th></th>\n",
       "    </tr>\n",
       "  </thead>\n",
       "  <tbody>\n",
       "    <tr>\n",
       "      <th>foreignness_all</th>\n",
       "      <td>0.717733</td>\n",
       "    </tr>\n",
       "    <tr>\n",
       "      <th>foreignness_lower</th>\n",
       "      <td>0.716719</td>\n",
       "    </tr>\n",
       "    <tr>\n",
       "      <th>foreignness_upper</th>\n",
       "      <td>0.672759</td>\n",
       "    </tr>\n",
       "  </tbody>\n",
       "</table>\n",
       "</div>"
      ],
      "text/plain": [
       "                   mean_auc\n",
       "weight                     \n",
       "foreignness_all    0.717733\n",
       "foreignness_lower  0.716719\n",
       "foreignness_upper  0.672759"
      ]
     },
     "metadata": {},
     "output_type": "display_data"
    },
    {
     "name": "stdout",
     "output_type": "stream",
     "text": [
      "Training\n"
     ]
    },
    {
     "data": {
      "application/vnd.jupyter.widget-view+json": {
       "model_id": "",
       "version_major": 2,
       "version_minor": 0
      },
      "text/plain": [
       "Train:Outer fold:   0%|          | 0/10 [00:00<?, ?it/s]"
      ]
     },
     "metadata": {},
     "output_type": "display_data"
    },
    {
     "data": {
      "application/vnd.jupyter.widget-view+json": {
       "model_id": "",
       "version_major": 2,
       "version_minor": 0
      },
      "text/plain": [
       "Inner Folds:   0%|          | 0/9 [00:00<?, ?it/s]"
      ]
     },
     "metadata": {},
     "output_type": "display_data"
    },
    {
     "data": {
      "application/vnd.jupyter.widget-view+json": {
       "model_id": "",
       "version_major": 2,
       "version_minor": 0
      },
      "text/plain": [
       "Inner Folds:   0%|          | 0/9 [00:00<?, ?it/s]"
      ]
     },
     "metadata": {},
     "output_type": "display_data"
    },
    {
     "data": {
      "application/vnd.jupyter.widget-view+json": {
       "model_id": "",
       "version_major": 2,
       "version_minor": 0
      },
      "text/plain": [
       "Inner Folds:   0%|          | 0/9 [00:00<?, ?it/s]"
      ]
     },
     "metadata": {},
     "output_type": "display_data"
    },
    {
     "data": {
      "application/vnd.jupyter.widget-view+json": {
       "model_id": "",
       "version_major": 2,
       "version_minor": 0
      },
      "text/plain": [
       "Inner Folds:   0%|          | 0/9 [00:00<?, ?it/s]"
      ]
     },
     "metadata": {},
     "output_type": "display_data"
    },
    {
     "data": {
      "application/vnd.jupyter.widget-view+json": {
       "model_id": "",
       "version_major": 2,
       "version_minor": 0
      },
      "text/plain": [
       "Inner Folds:   0%|          | 0/9 [00:00<?, ?it/s]"
      ]
     },
     "metadata": {},
     "output_type": "display_data"
    },
    {
     "data": {
      "application/vnd.jupyter.widget-view+json": {
       "model_id": "",
       "version_major": 2,
       "version_minor": 0
      },
      "text/plain": [
       "Inner Folds:   0%|          | 0/9 [00:00<?, ?it/s]"
      ]
     },
     "metadata": {},
     "output_type": "display_data"
    },
    {
     "data": {
      "application/vnd.jupyter.widget-view+json": {
       "model_id": "",
       "version_major": 2,
       "version_minor": 0
      },
      "text/plain": [
       "Inner Folds:   0%|          | 0/9 [00:00<?, ?it/s]"
      ]
     },
     "metadata": {},
     "output_type": "display_data"
    },
    {
     "data": {
      "application/vnd.jupyter.widget-view+json": {
       "model_id": "",
       "version_major": 2,
       "version_minor": 0
      },
      "text/plain": [
       "Inner Folds:   0%|          | 0/9 [00:00<?, ?it/s]"
      ]
     },
     "metadata": {},
     "output_type": "display_data"
    },
    {
     "data": {
      "application/vnd.jupyter.widget-view+json": {
       "model_id": "",
       "version_major": 2,
       "version_minor": 0
      },
      "text/plain": [
       "Inner Folds:   0%|          | 0/9 [00:00<?, ?it/s]"
      ]
     },
     "metadata": {},
     "output_type": "display_data"
    },
    {
     "data": {
      "application/vnd.jupyter.widget-view+json": {
       "model_id": "",
       "version_major": 2,
       "version_minor": 0
      },
      "text/plain": [
       "Inner Folds:   0%|          | 0/9 [00:00<?, ?it/s]"
      ]
     },
     "metadata": {},
     "output_type": "display_data"
    },
    {
     "data": {
      "application/vnd.jupyter.widget-view+json": {
       "model_id": "",
       "version_major": 2,
       "version_minor": 0
      },
      "text/plain": [
       "Eval Folds:   0%|          | 0/10 [00:00<?, ?it/s]"
      ]
     },
     "metadata": {},
     "output_type": "display_data"
    },
    {
     "name": "stdout",
     "output_type": "stream",
     "text": [
      "Sampling\n"
     ]
    },
    {
     "data": {
      "application/vnd.jupyter.widget-view+json": {
       "model_id": "",
       "version_major": 2,
       "version_minor": 0
      },
      "text/plain": [
       "Bootstrapping rounds:   0%|          | 0/10000 [00:00<?, ?it/s]"
      ]
     },
     "metadata": {},
     "output_type": "display_data"
    },
    {
     "name": "stdout",
     "output_type": "stream",
     "text": [
      "Making results DF and curves\n",
      "Training\n"
     ]
    },
    {
     "data": {
      "application/vnd.jupyter.widget-view+json": {
       "model_id": "",
       "version_major": 2,
       "version_minor": 0
      },
      "text/plain": [
       "Train:Outer fold:   0%|          | 0/10 [00:00<?, ?it/s]"
      ]
     },
     "metadata": {},
     "output_type": "display_data"
    },
    {
     "data": {
      "application/vnd.jupyter.widget-view+json": {
       "model_id": "",
       "version_major": 2,
       "version_minor": 0
      },
      "text/plain": [
       "Inner Folds:   0%|          | 0/9 [00:00<?, ?it/s]"
      ]
     },
     "metadata": {},
     "output_type": "display_data"
    },
    {
     "data": {
      "application/vnd.jupyter.widget-view+json": {
       "model_id": "",
       "version_major": 2,
       "version_minor": 0
      },
      "text/plain": [
       "Inner Folds:   0%|          | 0/9 [00:00<?, ?it/s]"
      ]
     },
     "metadata": {},
     "output_type": "display_data"
    },
    {
     "data": {
      "application/vnd.jupyter.widget-view+json": {
       "model_id": "",
       "version_major": 2,
       "version_minor": 0
      },
      "text/plain": [
       "Inner Folds:   0%|          | 0/9 [00:00<?, ?it/s]"
      ]
     },
     "metadata": {},
     "output_type": "display_data"
    },
    {
     "data": {
      "application/vnd.jupyter.widget-view+json": {
       "model_id": "",
       "version_major": 2,
       "version_minor": 0
      },
      "text/plain": [
       "Inner Folds:   0%|          | 0/9 [00:00<?, ?it/s]"
      ]
     },
     "metadata": {},
     "output_type": "display_data"
    },
    {
     "data": {
      "application/vnd.jupyter.widget-view+json": {
       "model_id": "",
       "version_major": 2,
       "version_minor": 0
      },
      "text/plain": [
       "Inner Folds:   0%|          | 0/9 [00:00<?, ?it/s]"
      ]
     },
     "metadata": {},
     "output_type": "display_data"
    },
    {
     "data": {
      "application/vnd.jupyter.widget-view+json": {
       "model_id": "",
       "version_major": 2,
       "version_minor": 0
      },
      "text/plain": [
       "Inner Folds:   0%|          | 0/9 [00:00<?, ?it/s]"
      ]
     },
     "metadata": {},
     "output_type": "display_data"
    },
    {
     "data": {
      "application/vnd.jupyter.widget-view+json": {
       "model_id": "",
       "version_major": 2,
       "version_minor": 0
      },
      "text/plain": [
       "Inner Folds:   0%|          | 0/9 [00:00<?, ?it/s]"
      ]
     },
     "metadata": {},
     "output_type": "display_data"
    },
    {
     "data": {
      "application/vnd.jupyter.widget-view+json": {
       "model_id": "",
       "version_major": 2,
       "version_minor": 0
      },
      "text/plain": [
       "Inner Folds:   0%|          | 0/9 [00:00<?, ?it/s]"
      ]
     },
     "metadata": {},
     "output_type": "display_data"
    },
    {
     "data": {
      "application/vnd.jupyter.widget-view+json": {
       "model_id": "",
       "version_major": 2,
       "version_minor": 0
      },
      "text/plain": [
       "Inner Folds:   0%|          | 0/9 [00:00<?, ?it/s]"
      ]
     },
     "metadata": {},
     "output_type": "display_data"
    },
    {
     "data": {
      "application/vnd.jupyter.widget-view+json": {
       "model_id": "",
       "version_major": 2,
       "version_minor": 0
      },
      "text/plain": [
       "Inner Folds:   0%|          | 0/9 [00:00<?, ?it/s]"
      ]
     },
     "metadata": {},
     "output_type": "display_data"
    },
    {
     "data": {
      "application/vnd.jupyter.widget-view+json": {
       "model_id": "",
       "version_major": 2,
       "version_minor": 0
      },
      "text/plain": [
       "Eval Folds:   0%|          | 0/10 [00:00<?, ?it/s]"
      ]
     },
     "metadata": {},
     "output_type": "display_data"
    },
    {
     "name": "stdout",
     "output_type": "stream",
     "text": [
      "Sampling\n"
     ]
    },
    {
     "data": {
      "application/vnd.jupyter.widget-view+json": {
       "model_id": "",
       "version_major": 2,
       "version_minor": 0
      },
      "text/plain": [
       "Bootstrapping rounds:   0%|          | 0/10000 [00:00<?, ?it/s]"
      ]
     },
     "metadata": {},
     "output_type": "display_data"
    },
    {
     "name": "stdout",
     "output_type": "stream",
     "text": [
      "Making results DF and curves\n",
      "Training\n"
     ]
    },
    {
     "data": {
      "application/vnd.jupyter.widget-view+json": {
       "model_id": "",
       "version_major": 2,
       "version_minor": 0
      },
      "text/plain": [
       "Train:Outer fold:   0%|          | 0/10 [00:00<?, ?it/s]"
      ]
     },
     "metadata": {},
     "output_type": "display_data"
    },
    {
     "data": {
      "application/vnd.jupyter.widget-view+json": {
       "model_id": "",
       "version_major": 2,
       "version_minor": 0
      },
      "text/plain": [
       "Inner Folds:   0%|          | 0/9 [00:00<?, ?it/s]"
      ]
     },
     "metadata": {},
     "output_type": "display_data"
    },
    {
     "data": {
      "application/vnd.jupyter.widget-view+json": {
       "model_id": "",
       "version_major": 2,
       "version_minor": 0
      },
      "text/plain": [
       "Inner Folds:   0%|          | 0/9 [00:00<?, ?it/s]"
      ]
     },
     "metadata": {},
     "output_type": "display_data"
    },
    {
     "data": {
      "application/vnd.jupyter.widget-view+json": {
       "model_id": "",
       "version_major": 2,
       "version_minor": 0
      },
      "text/plain": [
       "Inner Folds:   0%|          | 0/9 [00:00<?, ?it/s]"
      ]
     },
     "metadata": {},
     "output_type": "display_data"
    },
    {
     "data": {
      "application/vnd.jupyter.widget-view+json": {
       "model_id": "",
       "version_major": 2,
       "version_minor": 0
      },
      "text/plain": [
       "Inner Folds:   0%|          | 0/9 [00:00<?, ?it/s]"
      ]
     },
     "metadata": {},
     "output_type": "display_data"
    },
    {
     "data": {
      "application/vnd.jupyter.widget-view+json": {
       "model_id": "",
       "version_major": 2,
       "version_minor": 0
      },
      "text/plain": [
       "Inner Folds:   0%|          | 0/9 [00:00<?, ?it/s]"
      ]
     },
     "metadata": {},
     "output_type": "display_data"
    },
    {
     "data": {
      "application/vnd.jupyter.widget-view+json": {
       "model_id": "",
       "version_major": 2,
       "version_minor": 0
      },
      "text/plain": [
       "Inner Folds:   0%|          | 0/9 [00:00<?, ?it/s]"
      ]
     },
     "metadata": {},
     "output_type": "display_data"
    },
    {
     "data": {
      "application/vnd.jupyter.widget-view+json": {
       "model_id": "",
       "version_major": 2,
       "version_minor": 0
      },
      "text/plain": [
       "Inner Folds:   0%|          | 0/9 [00:00<?, ?it/s]"
      ]
     },
     "metadata": {},
     "output_type": "display_data"
    },
    {
     "data": {
      "application/vnd.jupyter.widget-view+json": {
       "model_id": "",
       "version_major": 2,
       "version_minor": 0
      },
      "text/plain": [
       "Inner Folds:   0%|          | 0/9 [00:00<?, ?it/s]"
      ]
     },
     "metadata": {},
     "output_type": "display_data"
    },
    {
     "data": {
      "application/vnd.jupyter.widget-view+json": {
       "model_id": "",
       "version_major": 2,
       "version_minor": 0
      },
      "text/plain": [
       "Inner Folds:   0%|          | 0/9 [00:00<?, ?it/s]"
      ]
     },
     "metadata": {},
     "output_type": "display_data"
    },
    {
     "data": {
      "application/vnd.jupyter.widget-view+json": {
       "model_id": "",
       "version_major": 2,
       "version_minor": 0
      },
      "text/plain": [
       "Inner Folds:   0%|          | 0/9 [00:00<?, ?it/s]"
      ]
     },
     "metadata": {},
     "output_type": "display_data"
    },
    {
     "data": {
      "application/vnd.jupyter.widget-view+json": {
       "model_id": "",
       "version_major": 2,
       "version_minor": 0
      },
      "text/plain": [
       "Eval Folds:   0%|          | 0/10 [00:00<?, ?it/s]"
      ]
     },
     "metadata": {},
     "output_type": "display_data"
    },
    {
     "name": "stdout",
     "output_type": "stream",
     "text": [
      "Sampling\n"
     ]
    },
    {
     "data": {
      "application/vnd.jupyter.widget-view+json": {
       "model_id": "",
       "version_major": 2,
       "version_minor": 0
      },
      "text/plain": [
       "Bootstrapping rounds:   0%|          | 0/10000 [00:00<?, ?it/s]"
      ]
     },
     "metadata": {},
     "output_type": "display_data"
    },
    {
     "name": "stdout",
     "output_type": "stream",
     "text": [
      "Making results DF and curves\n"
     ]
    },
    {
     "data": {
      "text/html": [
       "<div>\n",
       "<style scoped>\n",
       "    .dataframe tbody tr th:only-of-type {\n",
       "        vertical-align: middle;\n",
       "    }\n",
       "\n",
       "    .dataframe tbody tr th {\n",
       "        vertical-align: top;\n",
       "    }\n",
       "\n",
       "    .dataframe thead th {\n",
       "        text-align: right;\n",
       "    }\n",
       "</style>\n",
       "<table border=\"1\" class=\"dataframe\">\n",
       "  <thead>\n",
       "    <tr style=\"text-align: right;\">\n",
       "      <th></th>\n",
       "      <th>mean_auc</th>\n",
       "    </tr>\n",
       "    <tr>\n",
       "      <th>weight</th>\n",
       "      <th></th>\n",
       "    </tr>\n",
       "  </thead>\n",
       "  <tbody>\n",
       "    <tr>\n",
       "      <th>foreignness_all</th>\n",
       "      <td>0.717733</td>\n",
       "    </tr>\n",
       "    <tr>\n",
       "      <th>foreignness_lower</th>\n",
       "      <td>0.715858</td>\n",
       "    </tr>\n",
       "    <tr>\n",
       "      <th>foreignness_upper</th>\n",
       "      <td>0.659489</td>\n",
       "    </tr>\n",
       "  </tbody>\n",
       "</table>\n",
       "</div>"
      ],
      "text/plain": [
       "                   mean_auc\n",
       "weight                     \n",
       "foreignness_all    0.717733\n",
       "foreignness_lower  0.715858\n",
       "foreignness_upper  0.659489"
      ]
     },
     "metadata": {},
     "output_type": "display_data"
    },
    {
     "name": "stdout",
     "output_type": "stream",
     "text": [
      "Training\n"
     ]
    },
    {
     "data": {
      "application/vnd.jupyter.widget-view+json": {
       "model_id": "",
       "version_major": 2,
       "version_minor": 0
      },
      "text/plain": [
       "Train:Outer fold:   0%|          | 0/10 [00:00<?, ?it/s]"
      ]
     },
     "metadata": {},
     "output_type": "display_data"
    },
    {
     "data": {
      "application/vnd.jupyter.widget-view+json": {
       "model_id": "",
       "version_major": 2,
       "version_minor": 0
      },
      "text/plain": [
       "Inner Folds:   0%|          | 0/9 [00:00<?, ?it/s]"
      ]
     },
     "metadata": {},
     "output_type": "display_data"
    },
    {
     "data": {
      "application/vnd.jupyter.widget-view+json": {
       "model_id": "",
       "version_major": 2,
       "version_minor": 0
      },
      "text/plain": [
       "Inner Folds:   0%|          | 0/9 [00:00<?, ?it/s]"
      ]
     },
     "metadata": {},
     "output_type": "display_data"
    },
    {
     "data": {
      "application/vnd.jupyter.widget-view+json": {
       "model_id": "",
       "version_major": 2,
       "version_minor": 0
      },
      "text/plain": [
       "Inner Folds:   0%|          | 0/9 [00:00<?, ?it/s]"
      ]
     },
     "metadata": {},
     "output_type": "display_data"
    },
    {
     "data": {
      "application/vnd.jupyter.widget-view+json": {
       "model_id": "",
       "version_major": 2,
       "version_minor": 0
      },
      "text/plain": [
       "Inner Folds:   0%|          | 0/9 [00:00<?, ?it/s]"
      ]
     },
     "metadata": {},
     "output_type": "display_data"
    },
    {
     "data": {
      "application/vnd.jupyter.widget-view+json": {
       "model_id": "",
       "version_major": 2,
       "version_minor": 0
      },
      "text/plain": [
       "Inner Folds:   0%|          | 0/9 [00:00<?, ?it/s]"
      ]
     },
     "metadata": {},
     "output_type": "display_data"
    },
    {
     "data": {
      "application/vnd.jupyter.widget-view+json": {
       "model_id": "",
       "version_major": 2,
       "version_minor": 0
      },
      "text/plain": [
       "Inner Folds:   0%|          | 0/9 [00:00<?, ?it/s]"
      ]
     },
     "metadata": {},
     "output_type": "display_data"
    },
    {
     "data": {
      "application/vnd.jupyter.widget-view+json": {
       "model_id": "",
       "version_major": 2,
       "version_minor": 0
      },
      "text/plain": [
       "Inner Folds:   0%|          | 0/9 [00:00<?, ?it/s]"
      ]
     },
     "metadata": {},
     "output_type": "display_data"
    },
    {
     "data": {
      "application/vnd.jupyter.widget-view+json": {
       "model_id": "",
       "version_major": 2,
       "version_minor": 0
      },
      "text/plain": [
       "Inner Folds:   0%|          | 0/9 [00:00<?, ?it/s]"
      ]
     },
     "metadata": {},
     "output_type": "display_data"
    },
    {
     "data": {
      "application/vnd.jupyter.widget-view+json": {
       "model_id": "",
       "version_major": 2,
       "version_minor": 0
      },
      "text/plain": [
       "Inner Folds:   0%|          | 0/9 [00:00<?, ?it/s]"
      ]
     },
     "metadata": {},
     "output_type": "display_data"
    },
    {
     "data": {
      "application/vnd.jupyter.widget-view+json": {
       "model_id": "",
       "version_major": 2,
       "version_minor": 0
      },
      "text/plain": [
       "Inner Folds:   0%|          | 0/9 [00:00<?, ?it/s]"
      ]
     },
     "metadata": {},
     "output_type": "display_data"
    },
    {
     "data": {
      "application/vnd.jupyter.widget-view+json": {
       "model_id": "",
       "version_major": 2,
       "version_minor": 0
      },
      "text/plain": [
       "Eval Folds:   0%|          | 0/10 [00:00<?, ?it/s]"
      ]
     },
     "metadata": {},
     "output_type": "display_data"
    },
    {
     "name": "stdout",
     "output_type": "stream",
     "text": [
      "Sampling\n"
     ]
    },
    {
     "data": {
      "application/vnd.jupyter.widget-view+json": {
       "model_id": "",
       "version_major": 2,
       "version_minor": 0
      },
      "text/plain": [
       "Bootstrapping rounds:   0%|          | 0/10000 [00:00<?, ?it/s]"
      ]
     },
     "metadata": {},
     "output_type": "display_data"
    },
    {
     "name": "stdout",
     "output_type": "stream",
     "text": [
      "Making results DF and curves\n",
      "Training\n"
     ]
    },
    {
     "data": {
      "application/vnd.jupyter.widget-view+json": {
       "model_id": "",
       "version_major": 2,
       "version_minor": 0
      },
      "text/plain": [
       "Train:Outer fold:   0%|          | 0/10 [00:00<?, ?it/s]"
      ]
     },
     "metadata": {},
     "output_type": "display_data"
    },
    {
     "data": {
      "application/vnd.jupyter.widget-view+json": {
       "model_id": "",
       "version_major": 2,
       "version_minor": 0
      },
      "text/plain": [
       "Inner Folds:   0%|          | 0/9 [00:00<?, ?it/s]"
      ]
     },
     "metadata": {},
     "output_type": "display_data"
    },
    {
     "data": {
      "application/vnd.jupyter.widget-view+json": {
       "model_id": "",
       "version_major": 2,
       "version_minor": 0
      },
      "text/plain": [
       "Inner Folds:   0%|          | 0/9 [00:00<?, ?it/s]"
      ]
     },
     "metadata": {},
     "output_type": "display_data"
    },
    {
     "data": {
      "application/vnd.jupyter.widget-view+json": {
       "model_id": "",
       "version_major": 2,
       "version_minor": 0
      },
      "text/plain": [
       "Inner Folds:   0%|          | 0/9 [00:00<?, ?it/s]"
      ]
     },
     "metadata": {},
     "output_type": "display_data"
    },
    {
     "data": {
      "application/vnd.jupyter.widget-view+json": {
       "model_id": "",
       "version_major": 2,
       "version_minor": 0
      },
      "text/plain": [
       "Inner Folds:   0%|          | 0/9 [00:00<?, ?it/s]"
      ]
     },
     "metadata": {},
     "output_type": "display_data"
    },
    {
     "data": {
      "application/vnd.jupyter.widget-view+json": {
       "model_id": "",
       "version_major": 2,
       "version_minor": 0
      },
      "text/plain": [
       "Inner Folds:   0%|          | 0/9 [00:00<?, ?it/s]"
      ]
     },
     "metadata": {},
     "output_type": "display_data"
    },
    {
     "data": {
      "application/vnd.jupyter.widget-view+json": {
       "model_id": "",
       "version_major": 2,
       "version_minor": 0
      },
      "text/plain": [
       "Inner Folds:   0%|          | 0/9 [00:00<?, ?it/s]"
      ]
     },
     "metadata": {},
     "output_type": "display_data"
    },
    {
     "data": {
      "application/vnd.jupyter.widget-view+json": {
       "model_id": "",
       "version_major": 2,
       "version_minor": 0
      },
      "text/plain": [
       "Inner Folds:   0%|          | 0/9 [00:00<?, ?it/s]"
      ]
     },
     "metadata": {},
     "output_type": "display_data"
    },
    {
     "data": {
      "application/vnd.jupyter.widget-view+json": {
       "model_id": "",
       "version_major": 2,
       "version_minor": 0
      },
      "text/plain": [
       "Inner Folds:   0%|          | 0/9 [00:00<?, ?it/s]"
      ]
     },
     "metadata": {},
     "output_type": "display_data"
    },
    {
     "data": {
      "application/vnd.jupyter.widget-view+json": {
       "model_id": "",
       "version_major": 2,
       "version_minor": 0
      },
      "text/plain": [
       "Inner Folds:   0%|          | 0/9 [00:00<?, ?it/s]"
      ]
     },
     "metadata": {},
     "output_type": "display_data"
    },
    {
     "data": {
      "application/vnd.jupyter.widget-view+json": {
       "model_id": "",
       "version_major": 2,
       "version_minor": 0
      },
      "text/plain": [
       "Inner Folds:   0%|          | 0/9 [00:00<?, ?it/s]"
      ]
     },
     "metadata": {},
     "output_type": "display_data"
    },
    {
     "data": {
      "application/vnd.jupyter.widget-view+json": {
       "model_id": "",
       "version_major": 2,
       "version_minor": 0
      },
      "text/plain": [
       "Eval Folds:   0%|          | 0/10 [00:00<?, ?it/s]"
      ]
     },
     "metadata": {},
     "output_type": "display_data"
    },
    {
     "name": "stdout",
     "output_type": "stream",
     "text": [
      "Sampling\n"
     ]
    },
    {
     "data": {
      "application/vnd.jupyter.widget-view+json": {
       "model_id": "",
       "version_major": 2,
       "version_minor": 0
      },
      "text/plain": [
       "Bootstrapping rounds:   0%|          | 0/10000 [00:00<?, ?it/s]"
      ]
     },
     "metadata": {},
     "output_type": "display_data"
    },
    {
     "name": "stdout",
     "output_type": "stream",
     "text": [
      "Making results DF and curves\n",
      "Training\n"
     ]
    },
    {
     "data": {
      "application/vnd.jupyter.widget-view+json": {
       "model_id": "",
       "version_major": 2,
       "version_minor": 0
      },
      "text/plain": [
       "Train:Outer fold:   0%|          | 0/10 [00:00<?, ?it/s]"
      ]
     },
     "metadata": {},
     "output_type": "display_data"
    },
    {
     "data": {
      "application/vnd.jupyter.widget-view+json": {
       "model_id": "",
       "version_major": 2,
       "version_minor": 0
      },
      "text/plain": [
       "Inner Folds:   0%|          | 0/9 [00:00<?, ?it/s]"
      ]
     },
     "metadata": {},
     "output_type": "display_data"
    },
    {
     "data": {
      "application/vnd.jupyter.widget-view+json": {
       "model_id": "",
       "version_major": 2,
       "version_minor": 0
      },
      "text/plain": [
       "Inner Folds:   0%|          | 0/9 [00:00<?, ?it/s]"
      ]
     },
     "metadata": {},
     "output_type": "display_data"
    },
    {
     "data": {
      "application/vnd.jupyter.widget-view+json": {
       "model_id": "",
       "version_major": 2,
       "version_minor": 0
      },
      "text/plain": [
       "Inner Folds:   0%|          | 0/9 [00:00<?, ?it/s]"
      ]
     },
     "metadata": {},
     "output_type": "display_data"
    },
    {
     "data": {
      "application/vnd.jupyter.widget-view+json": {
       "model_id": "",
       "version_major": 2,
       "version_minor": 0
      },
      "text/plain": [
       "Inner Folds:   0%|          | 0/9 [00:00<?, ?it/s]"
      ]
     },
     "metadata": {},
     "output_type": "display_data"
    },
    {
     "data": {
      "application/vnd.jupyter.widget-view+json": {
       "model_id": "",
       "version_major": 2,
       "version_minor": 0
      },
      "text/plain": [
       "Inner Folds:   0%|          | 0/9 [00:00<?, ?it/s]"
      ]
     },
     "metadata": {},
     "output_type": "display_data"
    },
    {
     "data": {
      "application/vnd.jupyter.widget-view+json": {
       "model_id": "",
       "version_major": 2,
       "version_minor": 0
      },
      "text/plain": [
       "Inner Folds:   0%|          | 0/9 [00:00<?, ?it/s]"
      ]
     },
     "metadata": {},
     "output_type": "display_data"
    },
    {
     "data": {
      "application/vnd.jupyter.widget-view+json": {
       "model_id": "",
       "version_major": 2,
       "version_minor": 0
      },
      "text/plain": [
       "Inner Folds:   0%|          | 0/9 [00:00<?, ?it/s]"
      ]
     },
     "metadata": {},
     "output_type": "display_data"
    },
    {
     "data": {
      "application/vnd.jupyter.widget-view+json": {
       "model_id": "",
       "version_major": 2,
       "version_minor": 0
      },
      "text/plain": [
       "Inner Folds:   0%|          | 0/9 [00:00<?, ?it/s]"
      ]
     },
     "metadata": {},
     "output_type": "display_data"
    },
    {
     "data": {
      "application/vnd.jupyter.widget-view+json": {
       "model_id": "",
       "version_major": 2,
       "version_minor": 0
      },
      "text/plain": [
       "Inner Folds:   0%|          | 0/9 [00:00<?, ?it/s]"
      ]
     },
     "metadata": {},
     "output_type": "display_data"
    },
    {
     "data": {
      "application/vnd.jupyter.widget-view+json": {
       "model_id": "",
       "version_major": 2,
       "version_minor": 0
      },
      "text/plain": [
       "Inner Folds:   0%|          | 0/9 [00:00<?, ?it/s]"
      ]
     },
     "metadata": {},
     "output_type": "display_data"
    },
    {
     "data": {
      "application/vnd.jupyter.widget-view+json": {
       "model_id": "",
       "version_major": 2,
       "version_minor": 0
      },
      "text/plain": [
       "Eval Folds:   0%|          | 0/10 [00:00<?, ?it/s]"
      ]
     },
     "metadata": {},
     "output_type": "display_data"
    },
    {
     "name": "stdout",
     "output_type": "stream",
     "text": [
      "Sampling\n"
     ]
    },
    {
     "data": {
      "application/vnd.jupyter.widget-view+json": {
       "model_id": "",
       "version_major": 2,
       "version_minor": 0
      },
      "text/plain": [
       "Bootstrapping rounds:   0%|          | 0/10000 [00:00<?, ?it/s]"
      ]
     },
     "metadata": {},
     "output_type": "display_data"
    },
    {
     "name": "stdout",
     "output_type": "stream",
     "text": [
      "Making results DF and curves\n"
     ]
    },
    {
     "data": {
      "text/html": [
       "<div>\n",
       "<style scoped>\n",
       "    .dataframe tbody tr th:only-of-type {\n",
       "        vertical-align: middle;\n",
       "    }\n",
       "\n",
       "    .dataframe tbody tr th {\n",
       "        vertical-align: top;\n",
       "    }\n",
       "\n",
       "    .dataframe thead th {\n",
       "        text-align: right;\n",
       "    }\n",
       "</style>\n",
       "<table border=\"1\" class=\"dataframe\">\n",
       "  <thead>\n",
       "    <tr style=\"text-align: right;\">\n",
       "      <th></th>\n",
       "      <th>mean_auc</th>\n",
       "    </tr>\n",
       "    <tr>\n",
       "      <th>weight</th>\n",
       "      <th></th>\n",
       "    </tr>\n",
       "  </thead>\n",
       "  <tbody>\n",
       "    <tr>\n",
       "      <th>foreignness_all</th>\n",
       "      <td>0.717733</td>\n",
       "    </tr>\n",
       "    <tr>\n",
       "      <th>foreignness_lower</th>\n",
       "      <td>0.720624</td>\n",
       "    </tr>\n",
       "    <tr>\n",
       "      <th>foreignness_upper</th>\n",
       "      <td>0.659932</td>\n",
       "    </tr>\n",
       "  </tbody>\n",
       "</table>\n",
       "</div>"
      ],
      "text/plain": [
       "                   mean_auc\n",
       "weight                     \n",
       "foreignness_all    0.717733\n",
       "foreignness_lower  0.720624\n",
       "foreignness_upper  0.659932"
      ]
     },
     "metadata": {},
     "output_type": "display_data"
    }
   ],
   "source": [
    "ics_kl = pkl_load('../data/ic_dicts/ics_kl_new.pkl')\n",
    "ics_shannon = pkl_load('../data/ic_dicts/ics_shannon.pkl')\n",
    "ODIR = '../output/230614_foreignness/'\n",
    "RDIR = ODIR+'raw/'\n",
    "BDIR = ODIR+'boot/'\n",
    "os.makedirs(ODIR, exist_ok=True)\n",
    "os.makedirs(RDIR, exist_ok=True)\n",
    "os.makedirs(BDIR, exist_ok=True)\n",
    "\n",
    "# DEFINING KWARGS\n",
    "encoding_kwargs = {'max_len': 12,\n",
    "                   'encoding': 'onehot',\n",
    "                   'blosum_matrix': None,\n",
    "                   'mask': False,  # Using Shannon ICs, true if both mask and name is \"shannon\"\n",
    "                   'add_rank': True,\n",
    "                   'hla_col': 'HLA',\n",
    "                   'add_aaprop': False,\n",
    "                   'remove_pep': False,\n",
    "                   'seq_col':'icore_mut',\n",
    "                   'rank_col':'EL_rank_mut',\n",
    "                   'mut_col': ['foreignness_score'],\n",
    "                   'standardize': True}\n",
    "\n",
    "conditions_list = {'Inverted-Shannon': (True, 'Inverted-Shannon', ics_shannon, False),\n",
    "                   'None': (False, 'None', None, False),\n",
    "                   'Mask': (False, 'Mask', ics_shannon, True),\n",
    "                   'Shannon': (False, 'Shannon', ics_shannon, False),\n",
    "                   'Inverted-Mask': (True, 'Inverted-Mask', ics_shannon, True),\n",
    "                   'KL': (False, 'KL', ics_kl, False),\n",
    "                   'Inverted-KL': (True, 'Inverted-KL', ics_kl, False),\n",
    "                   'KL-Mask':(False, 'KL-Mask', ics_kl, True),\n",
    "                   'Inverted-KL-Mask':(True, 'Inverted-KL-Mask', ics_kl, True)}\n",
    "\n",
    "bdfs=[]\n",
    "# t = 5e-2\n",
    "# lower = cedar.query('foreignness_score<@t')\n",
    "# upper = cedar.query('foreignness_score>@t')\n",
    "\n",
    "for threshold in tqdm([1e-16, 1e-12, 1e-9, 1e-6, 5e-2], desc='t'):\n",
    "    bdfs=[]\n",
    "    lower = cedar.query('foreignness_score<@threshold')\n",
    "    upper = cedar.query('foreignness_score>@threshold')\n",
    "    \n",
    "    for train_dataset, name in zip([lower, cedar, upper], ['lower', 'all', 'upper']):\n",
    "        invert, ic_name, ics_dict, mask = conditions_list['None']\n",
    "        # megaloops for encoding-weighting\n",
    "        encoding_kwargs['encoding'] = 'onehot'\n",
    "        encoding_kwargs['blosum_matrix'] = None\n",
    "        # Doing only Inverted Shannon, Mask, None\n",
    "        encoding_kwargs['invert'] = invert\n",
    "        encoding_kwargs['mask'] = mask\n",
    "        model = RandomForestClassifier(n_jobs=1, min_samples_leaf=7, n_estimators=300,\n",
    "                                   max_depth=8, ccp_alpha=9.945e-6)\n",
    "        fn = f'{name}_{threshold:.0e}_foreignness'\n",
    "        # Training model and getting feature importances\n",
    "        print('Training')\n",
    "        trained_models, _, _ = nested_kcv_train_sklearn(train_dataset, model,\n",
    "                                                        ics_dict=ics_dict,\n",
    "                                                        encoding_kwargs=encoding_kwargs, n_jobs=8)\n",
    "        _, kcv_preds = evaluate_trained_models_sklearn(train_dataset, trained_models, ics_dict, train_dataset, encoding_kwargs, concatenated=False, only_concat=False, kcv_eval=True, n_jobs=8)\n",
    "        p_col = 'pred' if 'pred' in kcv_preds.columns else 'mean_pred'\n",
    "        kcv_preds.to_csv(f'{RDIR}preds_{fn}.csv', index=False)\n",
    "        bd = final_bootstrap_wrapper(kcv_preds, fn, name, f'foreignness_{name}', ODIR, n_rounds=10000, n_jobs=8)\n",
    "        bdfs.append(bd)\n",
    "    bdfs=pd.concat(bdfs)\n",
    "    display(bdfs.groupby(['weight']).agg(mean_auc=('auc','mean')))\n",
    "    bdfs.to_csv(f'{ODIR}bdfs_{threshold:.0e}.csv')"
   ]
  },
  {
   "cell_type": "code",
   "execution_count": 37,
   "id": "af944803-8768-44ed-a95c-3cf1c3e17bb7",
   "metadata": {
    "collapsed": true,
    "jupyter": {
     "outputs_hidden": true
    },
    "tags": []
   },
   "outputs": [
    {
     "name": "stdout",
     "output_type": "stream",
     "text": [
      "5e-02\n"
     ]
    },
    {
     "data": {
      "text/html": [
       "<div>\n",
       "<style scoped>\n",
       "    .dataframe tbody tr th:only-of-type {\n",
       "        vertical-align: middle;\n",
       "    }\n",
       "\n",
       "    .dataframe tbody tr th {\n",
       "        vertical-align: top;\n",
       "    }\n",
       "\n",
       "    .dataframe thead th {\n",
       "        text-align: right;\n",
       "    }\n",
       "</style>\n",
       "<table border=\"1\" class=\"dataframe\">\n",
       "  <thead>\n",
       "    <tr style=\"text-align: right;\">\n",
       "      <th></th>\n",
       "      <th>mean_auc</th>\n",
       "    </tr>\n",
       "    <tr>\n",
       "      <th>weight</th>\n",
       "      <th></th>\n",
       "    </tr>\n",
       "  </thead>\n",
       "  <tbody>\n",
       "    <tr>\n",
       "      <th>foreignness_all</th>\n",
       "      <td>0.717733</td>\n",
       "    </tr>\n",
       "    <tr>\n",
       "      <th>foreignness_lower</th>\n",
       "      <td>0.720624</td>\n",
       "    </tr>\n",
       "    <tr>\n",
       "      <th>foreignness_upper</th>\n",
       "      <td>0.659932</td>\n",
       "    </tr>\n",
       "  </tbody>\n",
       "</table>\n",
       "</div>"
      ],
      "text/plain": [
       "                   mean_auc\n",
       "weight                     \n",
       "foreignness_all    0.717733\n",
       "foreignness_lower  0.720624\n",
       "foreignness_upper  0.659932"
      ]
     },
     "metadata": {},
     "output_type": "display_data"
    },
    {
     "name": "stdout",
     "output_type": "stream",
     "text": [
      "1e-09\n"
     ]
    },
    {
     "data": {
      "text/html": [
       "<div>\n",
       "<style scoped>\n",
       "    .dataframe tbody tr th:only-of-type {\n",
       "        vertical-align: middle;\n",
       "    }\n",
       "\n",
       "    .dataframe tbody tr th {\n",
       "        vertical-align: top;\n",
       "    }\n",
       "\n",
       "    .dataframe thead th {\n",
       "        text-align: right;\n",
       "    }\n",
       "</style>\n",
       "<table border=\"1\" class=\"dataframe\">\n",
       "  <thead>\n",
       "    <tr style=\"text-align: right;\">\n",
       "      <th></th>\n",
       "      <th>mean_auc</th>\n",
       "    </tr>\n",
       "    <tr>\n",
       "      <th>weight</th>\n",
       "      <th></th>\n",
       "    </tr>\n",
       "  </thead>\n",
       "  <tbody>\n",
       "    <tr>\n",
       "      <th>foreignness_all</th>\n",
       "      <td>0.717733</td>\n",
       "    </tr>\n",
       "    <tr>\n",
       "      <th>foreignness_lower</th>\n",
       "      <td>0.716719</td>\n",
       "    </tr>\n",
       "    <tr>\n",
       "      <th>foreignness_upper</th>\n",
       "      <td>0.672759</td>\n",
       "    </tr>\n",
       "  </tbody>\n",
       "</table>\n",
       "</div>"
      ],
      "text/plain": [
       "                   mean_auc\n",
       "weight                     \n",
       "foreignness_all    0.717733\n",
       "foreignness_lower  0.716719\n",
       "foreignness_upper  0.672759"
      ]
     },
     "metadata": {},
     "output_type": "display_data"
    },
    {
     "name": "stdout",
     "output_type": "stream",
     "text": [
      "1e-16\n"
     ]
    },
    {
     "data": {
      "text/html": [
       "<div>\n",
       "<style scoped>\n",
       "    .dataframe tbody tr th:only-of-type {\n",
       "        vertical-align: middle;\n",
       "    }\n",
       "\n",
       "    .dataframe tbody tr th {\n",
       "        vertical-align: top;\n",
       "    }\n",
       "\n",
       "    .dataframe thead th {\n",
       "        text-align: right;\n",
       "    }\n",
       "</style>\n",
       "<table border=\"1\" class=\"dataframe\">\n",
       "  <thead>\n",
       "    <tr style=\"text-align: right;\">\n",
       "      <th></th>\n",
       "      <th>mean_auc</th>\n",
       "    </tr>\n",
       "    <tr>\n",
       "      <th>weight</th>\n",
       "      <th></th>\n",
       "    </tr>\n",
       "  </thead>\n",
       "  <tbody>\n",
       "    <tr>\n",
       "      <th>foreignness_all</th>\n",
       "      <td>0.717733</td>\n",
       "    </tr>\n",
       "    <tr>\n",
       "      <th>foreignness_lower</th>\n",
       "      <td>0.721411</td>\n",
       "    </tr>\n",
       "    <tr>\n",
       "      <th>foreignness_upper</th>\n",
       "      <td>0.677746</td>\n",
       "    </tr>\n",
       "  </tbody>\n",
       "</table>\n",
       "</div>"
      ],
      "text/plain": [
       "                   mean_auc\n",
       "weight                     \n",
       "foreignness_all    0.717733\n",
       "foreignness_lower  0.721411\n",
       "foreignness_upper  0.677746"
      ]
     },
     "metadata": {},
     "output_type": "display_data"
    },
    {
     "name": "stdout",
     "output_type": "stream",
     "text": [
      "1e-06\n"
     ]
    },
    {
     "data": {
      "text/html": [
       "<div>\n",
       "<style scoped>\n",
       "    .dataframe tbody tr th:only-of-type {\n",
       "        vertical-align: middle;\n",
       "    }\n",
       "\n",
       "    .dataframe tbody tr th {\n",
       "        vertical-align: top;\n",
       "    }\n",
       "\n",
       "    .dataframe thead th {\n",
       "        text-align: right;\n",
       "    }\n",
       "</style>\n",
       "<table border=\"1\" class=\"dataframe\">\n",
       "  <thead>\n",
       "    <tr style=\"text-align: right;\">\n",
       "      <th></th>\n",
       "      <th>mean_auc</th>\n",
       "    </tr>\n",
       "    <tr>\n",
       "      <th>weight</th>\n",
       "      <th></th>\n",
       "    </tr>\n",
       "  </thead>\n",
       "  <tbody>\n",
       "    <tr>\n",
       "      <th>foreignness_all</th>\n",
       "      <td>0.717733</td>\n",
       "    </tr>\n",
       "    <tr>\n",
       "      <th>foreignness_lower</th>\n",
       "      <td>0.715858</td>\n",
       "    </tr>\n",
       "    <tr>\n",
       "      <th>foreignness_upper</th>\n",
       "      <td>0.659489</td>\n",
       "    </tr>\n",
       "  </tbody>\n",
       "</table>\n",
       "</div>"
      ],
      "text/plain": [
       "                   mean_auc\n",
       "weight                     \n",
       "foreignness_all    0.717733\n",
       "foreignness_lower  0.715858\n",
       "foreignness_upper  0.659489"
      ]
     },
     "metadata": {},
     "output_type": "display_data"
    },
    {
     "name": "stdout",
     "output_type": "stream",
     "text": [
      "1e-12\n"
     ]
    },
    {
     "data": {
      "text/html": [
       "<div>\n",
       "<style scoped>\n",
       "    .dataframe tbody tr th:only-of-type {\n",
       "        vertical-align: middle;\n",
       "    }\n",
       "\n",
       "    .dataframe tbody tr th {\n",
       "        vertical-align: top;\n",
       "    }\n",
       "\n",
       "    .dataframe thead th {\n",
       "        text-align: right;\n",
       "    }\n",
       "</style>\n",
       "<table border=\"1\" class=\"dataframe\">\n",
       "  <thead>\n",
       "    <tr style=\"text-align: right;\">\n",
       "      <th></th>\n",
       "      <th>mean_auc</th>\n",
       "    </tr>\n",
       "    <tr>\n",
       "      <th>weight</th>\n",
       "      <th></th>\n",
       "    </tr>\n",
       "  </thead>\n",
       "  <tbody>\n",
       "    <tr>\n",
       "      <th>foreignness_all</th>\n",
       "      <td>0.717733</td>\n",
       "    </tr>\n",
       "    <tr>\n",
       "      <th>foreignness_lower</th>\n",
       "      <td>0.717026</td>\n",
       "    </tr>\n",
       "    <tr>\n",
       "      <th>foreignness_upper</th>\n",
       "      <td>0.676648</td>\n",
       "    </tr>\n",
       "  </tbody>\n",
       "</table>\n",
       "</div>"
      ],
      "text/plain": [
       "                   mean_auc\n",
       "weight                     \n",
       "foreignness_all    0.717733\n",
       "foreignness_lower  0.717026\n",
       "foreignness_upper  0.676648"
      ]
     },
     "metadata": {},
     "output_type": "display_data"
    }
   ],
   "source": [
    "for f in filter(lambda x: 'boot' not in x and x.endswith('csv'), os.listdir(ODIR)):\n",
    "    fn = f.replace('bdfs_', '').replace('.csv', '')\n",
    "    print(fn)\n",
    "    display(pd.read_csv(ODIR+f).groupby('weight').agg(mean_auc=('auc','mean')))"
   ]
  },
  {
   "cell_type": "code",
   "execution_count": 38,
   "id": "7f096b5e-b4be-446a-9679-3621bfb14342",
   "metadata": {},
   "outputs": [
    {
     "data": {
      "application/vnd.jupyter.widget-view+json": {
       "model_id": "db5d40ca5d37447c8b9e802f88c311f9",
       "version_major": 2,
       "version_minor": 0
      },
      "text/plain": [
       "t:   0%|          | 0/6 [00:00<?, ?it/s]"
      ]
     },
     "metadata": {},
     "output_type": "display_data"
    },
    {
     "name": "stdout",
     "output_type": "stream",
     "text": [
      "\n",
      " 1e-16 \n",
      "\n",
      "lower:  0.49588\n",
      "\tnegs = 1651, pos = 405, propPos =  19.70%\n",
      "upper:  0.52541\n",
      "\tnegs = 714, pos = 218, propPos =  23.39%\n",
      "\n",
      " 1e-12 \n",
      "\n",
      "lower:  0.49379\n",
      "\tnegs = 1704, pos = 416, propPos =  19.62%\n",
      "upper:  0.51537\n",
      "\tnegs = 661, pos = 207, propPos =  23.85%\n",
      "\n",
      " 1e-09 \n",
      "\n",
      "lower:  0.50339\n",
      "\tnegs = 1728, pos = 430, propPos =  19.93%\n",
      "upper:  0.53462\n",
      "\tnegs = 637, pos = 193, propPos =  23.25%\n",
      "\n",
      " 1e-06 \n",
      "\n",
      "lower:  0.5114\n",
      "\tnegs = 1893, pos = 480, propPos =  20.23%\n",
      "upper:  0.56137\n",
      "\tnegs = 472, pos = 143, propPos =  23.25%\n",
      "\n",
      " 0.0001 \n",
      "\n",
      "lower:  0.50755\n",
      "\tnegs = 1961, pos = 494, propPos =  20.12%\n",
      "upper:  0.54917\n",
      "\tnegs = 404, pos = 129, propPos =  24.20%\n",
      "\n",
      " 0.05 \n",
      "\n",
      "lower:  0.5123\n",
      "\tnegs = 2086, pos = 532, propPos =  20.32%\n",
      "upper:  0.5877\n",
      "\tnegs = 279, pos = 91, propPos =  24.59%\n"
     ]
    }
   ],
   "source": [
    "for t in tqdm([1e-16, 1e-12, 1e-9, 1e-6, 1e-4, 0.05], desc='t'):\n",
    "    \n",
    "    lower = cedar.query('foreignness_score<@t')\n",
    "    upper = cedar.query('foreignness_score>=@t')\n",
    "    print('\\n',t,'\\n')\n",
    "    print(\"lower: \", round(roc_auc_score(lower['agg_label'].values, lower['foreignness_score'].values), 5))\n",
    "    print(f\"\\tnegs = {len(lower.query('agg_label==0'))}, pos = {len(lower.query('agg_label==1'))}, propPos = {len(lower.query('agg_label==1'))/len(lower) : .2%}\")\n",
    "    print(\"upper: \", round(roc_auc_score(upper['agg_label'].values, upper['foreignness_score'].values), 5))\n",
    "    print(f\"\\tnegs = {len(upper.query('agg_label==0'))}, pos = {len(upper.query('agg_label==1'))}, propPos = {len(upper.query('agg_label==1'))/len(upper) : .2%}\")"
   ]
  },
  {
   "cell_type": "code",
   "execution_count": null,
   "id": "cede5e22-3114-43ad-a84e-fc6f655931c9",
   "metadata": {},
   "outputs": [],
   "source": []
  }
 ],
 "metadata": {
  "kernelspec": {
   "display_name": "Python [conda env:phd]",
   "language": "python",
   "name": "conda-env-phd-py"
  },
  "language_info": {
   "codemirror_mode": {
    "name": "ipython",
    "version": 3
   },
   "file_extension": ".py",
   "mimetype": "text/x-python",
   "name": "python",
   "nbconvert_exporter": "python",
   "pygments_lexer": "ipython3",
   "version": "3.10.12"
  }
 },
 "nbformat": 4,
 "nbformat_minor": 5
}

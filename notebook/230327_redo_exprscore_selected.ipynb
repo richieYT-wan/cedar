{
 "cells": [
  {
   "cell_type": "code",
   "execution_count": 1,
   "id": "c05b7793-b0a3-4531-bd18-f4abd2abe2cf",
   "metadata": {},
   "outputs": [
    {
     "data": {
      "image/png": "[encoded data removed]",
      "text/plain": [
       "<Figure size 1x1 with 1 Axes>"
      ]
     },
     "metadata": {},
     "output_type": "display_data"
    }
   ],
   "source": [
    "%load_ext autoreload\n",
    "%autoreload 2\n",
    "\n",
    "import pandas as pd\n",
    "import dataframe_image as dfi\n",
    "import numpy as np\n",
    "import sklearn\n",
    "import matplotlib.pyplot as plt\n",
    "import matplotlib as mpl\n",
    "import seaborn as sns\n",
    "f,a = plt.subplots(1,1,figsize=(1e-2, 1e-2))\n",
    "mpl.rcParams['figure.dpi'] = 180\n",
    "sns.set_style('darkgrid')\n",
    "import os,sys\n",
    "module_path = os.path.abspath(os.path.join('..'))\n",
    "if module_path not in sys.path:\n",
    "    sys.path.append(module_path)\n",
    "import warnings\n",
    "warnings.filterwarnings(\"ignore\")\n",
    "\n",
    "from tqdm.auto import tqdm\n",
    "from datetime import datetime as dt\n",
    "from src.utils import mkdirs, convert_path, pkl_dump, pkl_load, display_side, add_median_labels\n",
    "from src.data_processing import get_dataset, BL62_VALUES, BL62FREQ_VALUES, HLAS, AA_KEYS, get_aa_properties\n",
    "from src.metrics import get_predictions, get_roc, get_metrics, plot_roc_auc_fold, get_mean_roc_curve\n",
    "from src.metrics import get_nested_feature_importance, plot_feature_importance\n",
    "from src.partition_tools import pipeline_stratified_kfold\n",
    "from src.utils import pkl_load, pkl_dump, get_palette\n",
    "from src.bootstrap import bootstrap_eval, get_pval, plot_pval\n",
    "from src.baselines import plot_baseline_roc, plot_related_baseline_roc\n",
    "from src.models import FFNetPipeline\n",
    "\n",
    "PAL = sns.color_palette('hsv', n_colors=13)\n",
    "HSV = [PAL[-4], PAL[-1], PAL[0], PAL [4]]\n",
    "tmppal = sns.color_palette('hsv', n_colors=15)\n",
    "NEWPAL = HSV + [tmppal[-3], tmppal[7]]\n",
    "mpl.rcParams['figure.dpi'] = 180"
   ]
  },
  {
   "cell_type": "code",
   "execution_count": 2,
   "id": "2c1bc2f5-ccfa-4d63-9321-19a93e02f437",
   "metadata": {
    "tags": []
   },
   "outputs": [
    {
     "data": {
      "image/png": "[encoded data removed]",
      "text/plain": [
       "<Figure size 1.8e-05x1.8e-05 with 1 Axes>"
      ]
     },
     "metadata": {},
     "output_type": "display_data"
    }
   ],
   "source": [
    "sns.set_palette(NEWPAL)\n",
    "f,a = plt.subplots(1,1,figsize=(1e-7,1e-7))"
   ]
  },
  {
   "cell_type": "code",
   "execution_count": 3,
   "id": "986b39b4-980d-4eb7-8697-1beb0eff5384",
   "metadata": {},
   "outputs": [],
   "source": [
    "FIGDIR = '../../../writing/230131_cedar_paper_1/figures/'"
   ]
  },
  {
   "cell_type": "code",
   "execution_count": 4,
   "id": "469f3c40-a724-4b64-b457-3b30955fe9c6",
   "metadata": {},
   "outputs": [],
   "source": [
    "from sklearn.metrics import roc_auc_score, roc_curve\n",
    "def get_roc_curve_auc(df, targetcol, scorecol, neg=False):\n",
    "    if neg:\n",
    "        fpr, tpr, _ = roc_curve(df[targetcol], -1* df[scorecol])\n",
    "        auc = roc_auc_score(df[targetcol], -1* df[scorecol])\n",
    "        auc01 = roc_auc_score(df[targetcol], -1* df[scorecol], max_fpr=0.1)\n",
    "    else:\n",
    "        fpr, tpr, _ = roc_curve(df[targetcol], df[scorecol])\n",
    "        auc = roc_auc_score(df[targetcol], df[scorecol])\n",
    "        auc01 = roc_auc_score(df[targetcol], df[scorecol], max_fpr=0.1)\n",
    "    return fpr, tpr, auc, auc01"
   ]
  },
  {
   "cell_type": "markdown",
   "id": "519a1563-7e5e-41ae-baa9-c064e7be3325",
   "metadata": {
    "tags": []
   },
   "source": [
    "# init"
   ]
  },
  {
   "cell_type": "markdown",
   "id": "2d5857b1-5661-4f2a-9cee-7c6e57178a3a",
   "metadata": {
    "tags": []
   },
   "source": [
    "## reloading datasets"
   ]
  },
  {
   "cell_type": "code",
   "execution_count": 5,
   "id": "df1c242d-8b0d-44ba-9885-e01e9a7ff749",
   "metadata": {
    "tags": []
   },
   "outputs": [
    {
     "data": {
      "text/html": [
       "<div>\n",
       "<style scoped>\n",
       "    .dataframe tbody tr th:only-of-type {\n",
       "        vertical-align: middle;\n",
       "    }\n",
       "\n",
       "    .dataframe tbody tr th {\n",
       "        vertical-align: top;\n",
       "    }\n",
       "\n",
       "    .dataframe thead th {\n",
       "        text-align: right;\n",
       "    }\n",
       "</style>\n",
       "<table border=\"1\" class=\"dataframe\">\n",
       "  <thead>\n",
       "    <tr style=\"text-align: right;\">\n",
       "      <th></th>\n",
       "      <th>Peptide</th>\n",
       "      <th>wild_type</th>\n",
       "      <th>HLA</th>\n",
       "      <th>agg_label</th>\n",
       "      <th>mut_len</th>\n",
       "      <th>wt_len</th>\n",
       "      <th>seq_id</th>\n",
       "      <th>Pos_mut</th>\n",
       "      <th>Peptide_mut</th>\n",
       "      <th>core_mut</th>\n",
       "      <th>...</th>\n",
       "      <th>core_blsm_mut_score</th>\n",
       "      <th>aliphatic_index</th>\n",
       "      <th>boman</th>\n",
       "      <th>hydrophobicity</th>\n",
       "      <th>isoelectric_point</th>\n",
       "      <th>VHSE1</th>\n",
       "      <th>VHSE3</th>\n",
       "      <th>VHSE7</th>\n",
       "      <th>VHSE8</th>\n",
       "      <th>trueHLA_EL_rank</th>\n",
       "    </tr>\n",
       "  </thead>\n",
       "  <tbody>\n",
       "    <tr>\n",
       "      <th>0</th>\n",
       "      <td>AFGSAHLFR</td>\n",
       "      <td>AFGSAHLYR</td>\n",
       "      <td>HLA-A3101</td>\n",
       "      <td>1</td>\n",
       "      <td>9</td>\n",
       "      <td>9</td>\n",
       "      <td>seq_1</td>\n",
       "      <td>0</td>\n",
       "      <td>AFGSAHLFR</td>\n",
       "      <td>AFGSAHLFR</td>\n",
       "      <td>...</td>\n",
       "      <td>3</td>\n",
       "      <td>65.555556</td>\n",
       "      <td>0.837778</td>\n",
       "      <td>0.455556</td>\n",
       "      <td>10.551759</td>\n",
       "      <td>0.214444</td>\n",
       "      <td>-0.278889</td>\n",
       "      <td>0.193333</td>\n",
       "      <td>-0.192222</td>\n",
       "      <td>0.2470</td>\n",
       "    </tr>\n",
       "    <tr>\n",
       "      <th>1</th>\n",
       "      <td>AIANRIKFK</td>\n",
       "      <td>AIANRIKSK</td>\n",
       "      <td>HLA-A1101</td>\n",
       "      <td>0</td>\n",
       "      <td>9</td>\n",
       "      <td>9</td>\n",
       "      <td>seq_4</td>\n",
       "      <td>0</td>\n",
       "      <td>AIANRIKFK</td>\n",
       "      <td>AIANRIKFK</td>\n",
       "      <td>...</td>\n",
       "      <td>-2</td>\n",
       "      <td>108.888889</td>\n",
       "      <td>1.802222</td>\n",
       "      <td>-0.044444</td>\n",
       "      <td>11.823055</td>\n",
       "      <td>-0.048889</td>\n",
       "      <td>0.125556</td>\n",
       "      <td>0.484444</td>\n",
       "      <td>-0.125556</td>\n",
       "      <td>0.1380</td>\n",
       "    </tr>\n",
       "    <tr>\n",
       "      <th>2</th>\n",
       "      <td>AICKPLHYV</td>\n",
       "      <td>AICKPLHYM</td>\n",
       "      <td>HLA-A0201</td>\n",
       "      <td>0</td>\n",
       "      <td>9</td>\n",
       "      <td>9</td>\n",
       "      <td>seq_5</td>\n",
       "      <td>0</td>\n",
       "      <td>AICKPLHYV</td>\n",
       "      <td>AICKPLHYV</td>\n",
       "      <td>...</td>\n",
       "      <td>1</td>\n",
       "      <td>130.000000</td>\n",
       "      <td>-0.735556</td>\n",
       "      <td>0.755556</td>\n",
       "      <td>8.530526</td>\n",
       "      <td>0.327778</td>\n",
       "      <td>0.046667</td>\n",
       "      <td>-0.017778</td>\n",
       "      <td>0.263333</td>\n",
       "      <td>0.3610</td>\n",
       "    </tr>\n",
       "    <tr>\n",
       "      <th>3</th>\n",
       "      <td>AIPAMVVPNV</td>\n",
       "      <td>AIPAMVVPNA</td>\n",
       "      <td>HLA-A0201</td>\n",
       "      <td>0</td>\n",
       "      <td>10</td>\n",
       "      <td>10</td>\n",
       "      <td>seq_6</td>\n",
       "      <td>0</td>\n",
       "      <td>AIPAMVVPNV</td>\n",
       "      <td>AIPAVVPNV</td>\n",
       "      <td>...</td>\n",
       "      <td>0</td>\n",
       "      <td>146.000000</td>\n",
       "      <td>-1.637000</td>\n",
       "      <td>1.590000</td>\n",
       "      <td>6.100000</td>\n",
       "      <td>0.431000</td>\n",
       "      <td>-0.385000</td>\n",
       "      <td>-0.067000</td>\n",
       "      <td>0.446000</td>\n",
       "      <td>2.2606</td>\n",
       "    </tr>\n",
       "    <tr>\n",
       "      <th>4</th>\n",
       "      <td>ALEVLQSIPY</td>\n",
       "      <td>APEVLQSIPY</td>\n",
       "      <td>HLA-A0101</td>\n",
       "      <td>0</td>\n",
       "      <td>10</td>\n",
       "      <td>10</td>\n",
       "      <td>seq_7</td>\n",
       "      <td>0</td>\n",
       "      <td>ALEVLQSIPY</td>\n",
       "      <td>ALEVLQSIY</td>\n",
       "      <td>...</td>\n",
       "      <td>-3</td>\n",
       "      <td>156.000000</td>\n",
       "      <td>-0.472000</td>\n",
       "      <td>0.740000</td>\n",
       "      <td>3.849983</td>\n",
       "      <td>0.292000</td>\n",
       "      <td>-0.062000</td>\n",
       "      <td>-0.096000</td>\n",
       "      <td>0.088000</td>\n",
       "      <td>0.6230</td>\n",
       "    </tr>\n",
       "  </tbody>\n",
       "</table>\n",
       "<p>5 rows × 39 columns</p>\n",
       "</div>"
      ],
      "text/plain": [
       "      Peptide   wild_type        HLA  agg_label  mut_len  wt_len seq_id  \\\n",
       "0   AFGSAHLFR   AFGSAHLYR  HLA-A3101          1        9       9  seq_1   \n",
       "1   AIANRIKFK   AIANRIKSK  HLA-A1101          0        9       9  seq_4   \n",
       "2   AICKPLHYV   AICKPLHYM  HLA-A0201          0        9       9  seq_5   \n",
       "3  AIPAMVVPNV  AIPAMVVPNA  HLA-A0201          0       10      10  seq_6   \n",
       "4  ALEVLQSIPY  APEVLQSIPY  HLA-A0101          0       10      10  seq_7   \n",
       "\n",
       "   Pos_mut Peptide_mut   core_mut  ... core_blsm_mut_score  aliphatic_index  \\\n",
       "0        0   AFGSAHLFR  AFGSAHLFR  ...                   3        65.555556   \n",
       "1        0   AIANRIKFK  AIANRIKFK  ...                  -2       108.888889   \n",
       "2        0   AICKPLHYV  AICKPLHYV  ...                   1       130.000000   \n",
       "3        0  AIPAMVVPNV  AIPAVVPNV  ...                   0       146.000000   \n",
       "4        0  ALEVLQSIPY  ALEVLQSIY  ...                  -3       156.000000   \n",
       "\n",
       "      boman hydrophobicity isoelectric_point     VHSE1     VHSE3     VHSE7  \\\n",
       "0  0.837778       0.455556         10.551759  0.214444 -0.278889  0.193333   \n",
       "1  1.802222      -0.044444         11.823055 -0.048889  0.125556  0.484444   \n",
       "2 -0.735556       0.755556          8.530526  0.327778  0.046667 -0.017778   \n",
       "3 -1.637000       1.590000          6.100000  0.431000 -0.385000 -0.067000   \n",
       "4 -0.472000       0.740000          3.849983  0.292000 -0.062000 -0.096000   \n",
       "\n",
       "      VHSE8  trueHLA_EL_rank  \n",
       "0 -0.192222           0.2470  \n",
       "1 -0.125556           0.1380  \n",
       "2  0.263333           0.3610  \n",
       "3  0.446000           2.2606  \n",
       "4  0.088000           0.6230  \n",
       "\n",
       "[5 rows x 39 columns]"
      ]
     },
     "execution_count": 5,
     "metadata": {},
     "output_type": "execute_result"
    }
   ],
   "source": [
    "cedar_related = pd.read_csv('../data/mutant/221028_cedar_related_newcore_fold.csv')\n",
    "prime_related = pd.read_csv('../data/mutant/221119_prime_related_10fold.csv')\n",
    "ibel = pd.read_csv('../data/mutant/221117_ibel_merged_fold.csv')\n",
    "# merged = pd.read_csv('../data/mutant/221112_cedar_prime_merged_fold.csv')\n",
    "nepdb = pd.read_csv('../data/mutant/230124_nepdb_filtered_scored.csv')\n",
    "nepdb.head()"
   ]
  },
  {
   "cell_type": "code",
   "execution_count": 6,
   "id": "fea90315-2ea0-40b3-85cd-8ef10000e6fe",
   "metadata": {},
   "outputs": [],
   "source": [
    "cedar_aligned = pd.read_csv('../data/aligned_icore/230125_cedar_aligned_icore.csv')\n",
    "prime_aligned = pd.read_csv('../data/aligned_icore/230125_prime_aligned_icore.csv')\n",
    "ibel_aligned = pd.read_csv('../data/aligned_icore/230125_ibel_aligned_icore.csv')\n",
    "nepdb_aligned = pd.read_csv('../data/aligned_icore/230125_nepdb_aligned_icore.csv')"
   ]
  },
  {
   "cell_type": "code",
   "execution_count": 7,
   "id": "20427055-7797-409a-9af5-7746cd8976ac",
   "metadata": {},
   "outputs": [],
   "source": [
    "cedar_expr = pd.read_csv('../data/pepx/230125_cedar_related_pepx_fold.csv')\n",
    "prime_expr = pd.read_csv('../data/pepx/230125_prime_related_pepx.csv')\n",
    "ibel_expr = pd.read_csv('../data/pepx/230125_ibel_normal_pepx.csv')\n",
    "nepdb_expr = pd.read_csv('../data/pepx/230125_nepdb_normal_pepx.csv')"
   ]
  },
  {
   "cell_type": "code",
   "execution_count": 8,
   "id": "10a3e231-c33e-469e-b609-f2043a9e2c2e",
   "metadata": {},
   "outputs": [],
   "source": [
    "cedar_aligned_expr = pd.read_csv('../data/pepx/230125_cedar_aligned_pepx_fold.csv')\n",
    "prime_aligned_expr = pd.read_csv('../data/pepx/230125_prime_aligned_pepx.csv')\n",
    "ibel_aligned_expr = pd.read_csv('../data/pepx/230125_ibel_aligned_pepx.csv')\n",
    "nepdb_aligned_expr = pd.read_csv('../data/pepx/230125_nepdb_aligned_pepx.csv')"
   ]
  },
  {
   "cell_type": "code",
   "execution_count": 9,
   "id": "bf651296-365a-4220-8ffa-6cb3709276e7",
   "metadata": {},
   "outputs": [],
   "source": [
    "# ICS DICT\n",
    "ics_kl = pkl_load('../data/ic_dicts/ics_kl.pkl')\n",
    "ics_shannon = pkl_load('../data/ic_dicts/ics_shannon.pkl')\n",
    "\n",
    "MAPPING= {'RandomForestClassifier': 'RF',\n",
    "          'LogisticRegression': 'LogReg',\n",
    "          'XGBClassifier': 'XGB',\n",
    "          'FFN': 'FFN'}"
   ]
  },
  {
   "cell_type": "markdown",
   "id": "209b2e00-6d9b-4d80-bc4d-a183883a723d",
   "metadata": {},
   "source": [
    "# redo conditions"
   ]
  },
  {
   "cell_type": "code",
   "execution_count": 10,
   "id": "ea0c5f15-1a9e-441e-9f0a-71f1e138c3c0",
   "metadata": {},
   "outputs": [],
   "source": [
    "import itertools\n",
    "# DEFINING COLS\n",
    "aa_cols = ['aliphatic_index', 'boman', 'hydrophobicity', 'isoelectric_point', 'VHSE1', 'VHSE3', 'VHSE7', 'VHSE8']\n",
    "mcs = []\n",
    "\n",
    "cols_ = ['icore_dissimilarity_score', 'icore_blsm_mut_score', 'icore_mut_score', 'EL_rank_wt_aligned', 'ratio_rank'] \n",
    "\n",
    "cols_.append(\"foreignness_score\")\n",
    "\n",
    "for L in range(0, len(cols_) + 1):\n",
    "    for mc in itertools.combinations(cols_, L):\n",
    "        mcs.append(list(mc))\n",
    "\n",
    "mcs.append(aa_cols)\n",
    "mcs = list(np.unique(mcs))\n",
    "mcs.extend([aa_cols + [x] for x in cols_])\n",
    "\n",
    "mcs.extend(\n",
    "    [aa_cols + ['icore_dissimilarity_score', 'icore_blsm_mut_score', 'EL_rank_wt_aligned', 'ratio_rank']])\n",
    "mcs.extend([aa_cols + ['icore_dissimilarity_score', 'icore_mut_score', 'EL_rank_wt_aligned', 'ratio_rank']])\n",
    "mcs.extend([aa_cols + ['icore_dissimilarity_score', 'EL_rank_wt_aligned', 'ratio_rank']])\n",
    "mcs.extend([aa_cols + ['icore_blsm_mut_score', 'EL_rank_wt_aligned', 'ratio_rank']])\n",
    "mcs.extend([aa_cols + ['icore_mut_score', 'EL_rank_wt_aligned', 'ratio_rank']])\n",
    "\n",
    "mcs.extend([aa_cols + ['icore_dissimilarity_score', 'icore_blsm_mut_score', \"foreignness_score\"]])\n",
    "mcs.extend([aa_cols + ['icore_dissimilarity_score', 'icore_mut_score', \"foreignness_score\"]])\n",
    "mcs.extend([aa_cols + ['icore_dissimilarity_score', \"foreignness_score\"]])\n",
    "mcs.extend([aa_cols + ['icore_blsm_mut_score', \"foreignness_score\"]])\n",
    "mcs.extend([aa_cols + ['icore_mut_score', \"foreignness_score\"]])\n",
    "tpm_cols = ['Total_Peptide_TPM', 'Total_Scaled_Peptide_TPM', 'Total_Gene_TPM']\n",
    "mcs.extend([x+[b] for x in mcs for b in tpm_cols])"
   ]
  },
  {
   "cell_type": "code",
   "execution_count": 22,
   "id": "530443a4-6212-4cb8-a901-c2ee6e8c0384",
   "metadata": {
    "tags": []
   },
   "outputs": [],
   "source": [
    "from copy import deepcopy\n",
    "encoding_kwargs = dict(max_len=12, encoding='onehot', rank_col=['EL_rank_mut'], pep_col=['icore_mut'],\n",
    "                       blosum_matrix=None, mask=False, add_rank=True, add_aaprop=False, \n",
    "                       remove_pep=False, standardize=True)\n",
    "\n",
    "# weighting : Inv Shannon, None, Mask\n",
    "# weighting tuple order : (Invert, ic name, ic dict, mask)\n",
    "weighting = [(True, 'Shannon', ics_shannon, False), \n",
    "             (False, 'None', None, False), \n",
    "             (False, 'Mask', ics_shannon, True)]\n",
    "\n",
    "# find from list of raws which conditions are not here and run them...\n",
    "mcs_out = deepcopy(mcs)\n",
    "# # stupid filter\n",
    "# xd = []\n",
    "# filtered = !ls \"../output/230308_aligned_exprscore_addwtrank_foreignness/raw\" | grep onehot | grep featimp | grep Inverted-KL\n",
    "\n",
    "# for x in filtered:\n",
    "#     xd.append(x.split('EL_rank_mut_')[1].replace('.csv', ''))\n",
    "    \n",
    "# mcs2 = [x for x in mcs_out if '-' not in xd]\n",
    "# xd]\n",
    "# len(mcs2)"
   ]
  },
  {
   "cell_type": "code",
   "execution_count": 23,
   "id": "52ad97e3-63d8-4fdb-83ae-ccd8ef906671",
   "metadata": {},
   "outputs": [],
   "source": [
    "filtered = filter(lambda x: 'onehot' in x and 'featimp' in x and 'Inverted-KL'in x, os.listdir('../output/230308_aligned_exprscore_addwtrank_foreignness/raw'))\n",
    "filtered = [x.split('EL_rank_mut_')[1].replace('.csv','') for x in filtered]"
   ]
  },
  {
   "cell_type": "code",
   "execution_count": 24,
   "id": "ac8d7875-23ff-405c-8ec9-da47bba8f5f2",
   "metadata": {},
   "outputs": [
    {
     "data": {
      "text/plain": [
       "(226,\n",
       " 'icore_dissimilarity_score-icore_blsm_mut_score-ratio_rank-foreignness_score-Total_Gene_TPM')"
      ]
     },
     "execution_count": 24,
     "metadata": {},
     "output_type": "execute_result"
    }
   ],
   "source": [
    "len(filtered), filtered[0]"
   ]
  },
  {
   "cell_type": "code",
   "execution_count": null,
   "id": "49d3fd67-72f2-4894-b142-a23cb7556c6b",
   "metadata": {},
   "outputs": [],
   "source": [
    "filtered = filter(lambda x: 'onehot' in x and 'featimp' in x and 'Inverted-KL'in x, os.listdir('/home/projects/vaccine/peolpe/yatwan/cedar/output/230308_aligned_exprscore_addwtrank_foreignness/raw'))\n",
    "filtered = [x.split('EL_rank_mut_')[1].replace('.csv','') for x in filtered]"
   ]
  },
  {
   "cell_type": "code",
   "execution_count": 25,
   "id": "07b0b837-8b52-45ce-b03f-a707e17f476a",
   "metadata": {},
   "outputs": [
    {
     "data": {
      "text/plain": [
       "(150,\n",
       " [[],\n",
       "  ['EL_rank_wt_aligned', 'ratio_rank'],\n",
       "  ['EL_rank_wt_aligned', 'ratio_rank', 'foreignness_score'],\n",
       "  ['icore_blsm_mut_score', 'EL_rank_wt_aligned', 'ratio_rank'],\n",
       "  ['icore_blsm_mut_score',\n",
       "   'EL_rank_wt_aligned',\n",
       "   'ratio_rank',\n",
       "   'foreignness_score']])"
      ]
     },
     "execution_count": 25,
     "metadata": {},
     "output_type": "execute_result"
    }
   ],
   "source": [
    "mcs2 = [x for x in mcs_out if '-'.join(x) not in filtered]\n",
    "len(mcs2), mcs2[:5]"
   ]
  }
 ],
 "metadata": {
  "kernelspec": {
   "display_name": "Python [conda env:phd] *",
   "language": "python",
   "name": "conda-env-phd-py"
  },
  "language_info": {
   "codemirror_mode": {
    "name": "ipython",
    "version": 3
   },
   "file_extension": ".py",
   "mimetype": "text/x-python",
   "name": "python",
   "nbconvert_exporter": "python",
   "pygments_lexer": "ipython3",
   "version": "3.10.8"
  }
 },
 "nbformat": 4,
 "nbformat_minor": 5
}

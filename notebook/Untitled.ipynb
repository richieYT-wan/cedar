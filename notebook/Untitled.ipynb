{
 "cells": [
  {
   "cell_type": "code",
   "execution_count": 3,
   "id": "75368fc3",
   "metadata": {},
   "outputs": [],
   "source": [
    "import pandas as pd\n",
    "import numpy as np\n",
    "import os, sys"
   ]
  },
  {
   "cell_type": "code",
   "execution_count": 4,
   "id": "8104c088",
   "metadata": {},
   "outputs": [
    {
     "data": {
      "text/plain": [
       "['pepx', '230829_sine_processed_pepx_mutations.csv', 'aligned_icore']"
      ]
     },
     "execution_count": 4,
     "metadata": {},
     "output_type": "execute_result"
    }
   ],
   "source": [
    "d = '../../../code/cedar_icerfire/data/'\n",
    "list(filter(lambda x: 'pepx' in x.lower() or 'aligned' in x.lower(), os.listdir(d)))"
   ]
  },
  {
   "cell_type": "code",
   "execution_count": 10,
   "id": "788bee75",
   "metadata": {},
   "outputs": [
    {
     "name": "stdout",
     "output_type": "stream",
     "text": [
      "230125_cedar_aligned_icore.csv   230308_prime_aligned_icore.csv\r\n",
      "230125_ibel_aligned_icore.csv    230418_cedar_aligned.csv\r\n",
      "230125_nepdb_aligned_icore.csv   230418_nepdb_aligned.csv\r\n",
      "230125_prime_aligned_icore.csv   230418_prime_aligned.csv\r\n",
      "230308_cedar_aligned_icore.csv   230717_cedar_aligned_icore.csv\r\n",
      "230308_ibel_aligned_icore.csv    \u001b[34mbackup\u001b[m\u001b[m/\r\n",
      "230308_nepdb_aligned_icore.csv   \u001b[34mbackup_230308_beforeForeignness\u001b[m\u001b[m/\r\n"
     ]
    }
   ],
   "source": [
    "%ls {d}aligned_icore/"
   ]
  },
  {
   "cell_type": "code",
   "execution_count": 9,
   "id": "ab578b95",
   "metadata": {},
   "outputs": [
    {
     "name": "stdout",
     "output_type": "stream",
     "text": [
      "230125_cedar_aligned_pepx_fold.csv      230308_prime_aligned_pepx.csv\r\n",
      "230125_cedar_related_pepx_fold.csv      230418_cedar_aligned_pepx.csv\r\n",
      "230125_ibel_aligned_pepx.csv            230418_nepdb_aligned_pepx.csv\r\n",
      "230125_ibel_normal_pepx.csv             230418_prime_aligned_pepx.csv\r\n",
      "230125_nepdb_aligned_pepx.csv           2308XX_cedar_wildtype.csv\r\n",
      "230125_nepdb_normal_pepx.csv            2308XX_cedar_wildtype_pepx_output.csv\r\n",
      "230125_prime_aligned_pepx.csv           2308XX_cedar_wt_icores.csv\r\n",
      "230125_prime_related_pepx.csv           2308XX_cedar_wt_icores_pepx_output.csv\r\n",
      "230308_cedar_aligned_pepx_fold.csv      \u001b[34mTCGA_PANCAN\u001b[m\u001b[m/\r\n",
      "230308_ibel_aligned_pepx.csv            \u001b[34mbackup\u001b[m\u001b[m/\r\n",
      "230308_nepdb_aligned_pepx.csv\r\n"
     ]
    }
   ],
   "source": [
    "%ls {d}pepx/"
   ]
  },
  {
   "cell_type": "code",
   "execution_count": 11,
   "id": "583c483e",
   "metadata": {},
   "outputs": [],
   "source": [
    "# aligned icores first\n",
    "\n",
    "cedar = pd.read_csv(f'{d}aligned_icore/230418_cedar_aligned.csv')\n",
    "prime = pd.read_csv(f'{d}aligned_icore/230418_prime_aligned.csv')\n",
    "nepdb = pd.read_csv(f'{d}aligned_icore/230418_nepdb_aligned.csv')"
   ]
  },
  {
   "cell_type": "code",
   "execution_count": 17,
   "id": "888ed707",
   "metadata": {},
   "outputs": [
    {
     "data": {
      "text/plain": [
       "Index(['HLA', 'agg_label', 'fold', 'Peptide', 'wild_type', 'icore_mut',\n",
       "       'core_mut', 'len', 'EL_rank_mut', 'EL_rank_wt', 'trueHLA_EL_rank',\n",
       "       'icore_mut_start', 'len_icore_mut', 'icore_wt_aligned',\n",
       "       'icore_dissimilarity_score', 'icore_len_mut', 'icore_len_wt',\n",
       "       'icore_anchor', 'icore_mutation_position', 'icore_anchor_mutation',\n",
       "       'icore_mut_score', 'icore_blsm_mut_score', 'aliphatic_index', 'boman',\n",
       "       'hydrophobicity', 'isoelectric_point', 'VHSE1', 'VHSE3', 'VHSE7',\n",
       "       'VHSE8', 'seq_id', 'core_wt_aligned', 'EL_rank_wt_aligned',\n",
       "       'ratio_rank', 'foreignness_score'],\n",
       "      dtype='object')"
      ]
     },
     "execution_count": 17,
     "metadata": {},
     "output_type": "execute_result"
    }
   ],
   "source": [
    "cedar.drop(columns=[x for x in cedar.columns if 'unnamed' in x.lower() or 'vs' in x.lower() or 'improve' in x.lower() or 'mixed_' in x.lower() or '_input' in x.lower()]).columns"
   ]
  }
 ],
 "metadata": {
  "kernelspec": {
   "display_name": "Python 3 (ipykernel)",
   "language": "python",
   "name": "python3"
  },
  "language_info": {
   "codemirror_mode": {
    "name": "ipython",
    "version": 3
   },
   "file_extension": ".py",
   "mimetype": "text/x-python",
   "name": "python",
   "nbconvert_exporter": "python",
   "pygments_lexer": "ipython3",
   "version": "3.9.12"
  }
 },
 "nbformat": 4,
 "nbformat_minor": 5
}

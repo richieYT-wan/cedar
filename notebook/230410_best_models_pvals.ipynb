{
 "cells": [
  {
   "cell_type": "code",
   "execution_count": 26,
   "id": "c05b7793-b0a3-4531-bd18-f4abd2abe2cf",
   "metadata": {},
   "outputs": [
    {
     "name": "stdout",
     "output_type": "stream",
     "text": [
      "The autoreload extension is already loaded. To reload it, use:\n",
      "  %reload_ext autoreload\n"
     ]
    },
    {
     "data": {
      "image/png": "[encoded data removed]",
      "text/plain": [
       "<Figure size 1.8x1.8 with 1 Axes>"
      ]
     },
     "metadata": {},
     "output_type": "display_data"
    }
   ],
   "source": [
    "%load_ext autoreload\n",
    "%autoreload 2\n",
    "\n",
    "import pandas as pd\n",
    "import dataframe_image as dfi\n",
    "import numpy as np\n",
    "import sklearn\n",
    "import matplotlib.pyplot as plt\n",
    "import matplotlib as mpl\n",
    "import seaborn as sns\n",
    "f,a = plt.subplots(1,1,figsize=(1e-2, 1e-2))\n",
    "mpl.rcParams['figure.dpi'] = 180\n",
    "sns.set_style('darkgrid')\n",
    "import os,sys\n",
    "module_path = os.path.abspath(os.path.join('..'))\n",
    "if module_path not in sys.path:\n",
    "    sys.path.append(module_path)\n",
    "import warnings\n",
    "warnings.filterwarnings(\"ignore\")\n",
    "\n",
    "from tqdm.auto import tqdm\n",
    "from datetime import datetime as dt\n",
    "from src.utils import mkdirs, convert_path, pkl_dump, pkl_load, display_side, add_median_labels\n",
    "from src.data_processing import get_dataset, BL62_VALUES, BL62FREQ_VALUES, HLAS, AA_KEYS, get_aa_properties\n",
    "from src.metrics import get_predictions, get_roc, get_metrics, plot_roc_auc_fold, get_mean_roc_curve\n",
    "from src.metrics import get_nested_feature_importance, plot_feature_importance\n",
    "from src.partition_tools import pipeline_stratified_kfold\n",
    "from src.utils import pkl_load, pkl_dump, get_palette\n",
    "from src.bootstrap import bootstrap_eval, get_pval, plot_pval\n",
    "from src.baselines import plot_baseline_roc, plot_related_baseline_roc\n",
    "from src.models import FFNetPipeline\n",
    "\n",
    "PAL = sns.color_palette('hsv', n_colors=13)\n",
    "HSV = [PAL[-4], PAL[-1], PAL[0], PAL [4]]\n",
    "tmppal = sns.color_palette('hsv', n_colors=15)\n",
    "NEWPAL = HSV + [tmppal[-3], tmppal[7]]\n",
    "mpl.rcParams['figure.dpi'] = 180"
   ]
  },
  {
   "cell_type": "code",
   "execution_count": 27,
   "id": "2c1bc2f5-ccfa-4d63-9321-19a93e02f437",
   "metadata": {
    "tags": []
   },
   "outputs": [
    {
     "data": {
      "image/png": "[encoded data removed]",
      "text/plain": [
       "<Figure size 1.8e-05x1.8e-05 with 1 Axes>"
      ]
     },
     "metadata": {},
     "output_type": "display_data"
    }
   ],
   "source": [
    "sns.set_palette(NEWPAL)\n",
    "f,a = plt.subplots(1,1,figsize=(1e-7,1e-7))"
   ]
  },
  {
   "cell_type": "code",
   "execution_count": 28,
   "id": "986b39b4-980d-4eb7-8697-1beb0eff5384",
   "metadata": {},
   "outputs": [],
   "source": [
    "FIGDIR = '../../../writing/230131_cedar_paper_1/figures/'"
   ]
  },
  {
   "cell_type": "code",
   "execution_count": 29,
   "id": "469f3c40-a724-4b64-b457-3b30955fe9c6",
   "metadata": {},
   "outputs": [],
   "source": [
    "from sklearn.metrics import roc_auc_score, roc_curve\n",
    "def get_roc_curve_auc(df, targetcol, scorecol, neg=False):\n",
    "    if neg:\n",
    "        fpr, tpr, _ = roc_curve(df[targetcol], -1* df[scorecol])\n",
    "        auc = roc_auc_score(df[targetcol], -1* df[scorecol])\n",
    "        auc01 = roc_auc_score(df[targetcol], -1* df[scorecol], max_fpr=0.1)\n",
    "    else:\n",
    "        fpr, tpr, _ = roc_curve(df[targetcol], df[scorecol])\n",
    "        auc = roc_auc_score(df[targetcol], df[scorecol])\n",
    "        auc01 = roc_auc_score(df[targetcol], df[scorecol], max_fpr=0.1)\n",
    "    return fpr, tpr, auc, auc01"
   ]
  },
  {
   "cell_type": "markdown",
   "id": "519a1563-7e5e-41ae-baa9-c064e7be3325",
   "metadata": {
    "tags": []
   },
   "source": [
    "# init"
   ]
  },
  {
   "cell_type": "markdown",
   "id": "2d5857b1-5661-4f2a-9cee-7c6e57178a3a",
   "metadata": {
    "jp-MarkdownHeadingCollapsed": true,
    "tags": []
   },
   "source": [
    "## reloading datasets"
   ]
  },
  {
   "cell_type": "code",
   "execution_count": 30,
   "id": "df1c242d-8b0d-44ba-9885-e01e9a7ff749",
   "metadata": {
    "tags": []
   },
   "outputs": [
    {
     "data": {
      "text/html": [
       "<div>\n",
       "<style scoped>\n",
       "    .dataframe tbody tr th:only-of-type {\n",
       "        vertical-align: middle;\n",
       "    }\n",
       "\n",
       "    .dataframe tbody tr th {\n",
       "        vertical-align: top;\n",
       "    }\n",
       "\n",
       "    .dataframe thead th {\n",
       "        text-align: right;\n",
       "    }\n",
       "</style>\n",
       "<table border=\"1\" class=\"dataframe\">\n",
       "  <thead>\n",
       "    <tr style=\"text-align: right;\">\n",
       "      <th></th>\n",
       "      <th>Peptide</th>\n",
       "      <th>wild_type</th>\n",
       "      <th>HLA</th>\n",
       "      <th>agg_label</th>\n",
       "      <th>mut_len</th>\n",
       "      <th>wt_len</th>\n",
       "      <th>seq_id</th>\n",
       "      <th>Pos_mut</th>\n",
       "      <th>Peptide_mut</th>\n",
       "      <th>core_mut</th>\n",
       "      <th>...</th>\n",
       "      <th>core_blsm_mut_score</th>\n",
       "      <th>aliphatic_index</th>\n",
       "      <th>boman</th>\n",
       "      <th>hydrophobicity</th>\n",
       "      <th>isoelectric_point</th>\n",
       "      <th>VHSE1</th>\n",
       "      <th>VHSE3</th>\n",
       "      <th>VHSE7</th>\n",
       "      <th>VHSE8</th>\n",
       "      <th>trueHLA_EL_rank</th>\n",
       "    </tr>\n",
       "  </thead>\n",
       "  <tbody>\n",
       "    <tr>\n",
       "      <th>0</th>\n",
       "      <td>AFGSAHLFR</td>\n",
       "      <td>AFGSAHLYR</td>\n",
       "      <td>HLA-A3101</td>\n",
       "      <td>1</td>\n",
       "      <td>9</td>\n",
       "      <td>9</td>\n",
       "      <td>seq_1</td>\n",
       "      <td>0</td>\n",
       "      <td>AFGSAHLFR</td>\n",
       "      <td>AFGSAHLFR</td>\n",
       "      <td>...</td>\n",
       "      <td>3</td>\n",
       "      <td>65.555556</td>\n",
       "      <td>0.837778</td>\n",
       "      <td>0.455556</td>\n",
       "      <td>10.551759</td>\n",
       "      <td>0.214444</td>\n",
       "      <td>-0.278889</td>\n",
       "      <td>0.193333</td>\n",
       "      <td>-0.192222</td>\n",
       "      <td>0.2470</td>\n",
       "    </tr>\n",
       "    <tr>\n",
       "      <th>1</th>\n",
       "      <td>AIANRIKFK</td>\n",
       "      <td>AIANRIKSK</td>\n",
       "      <td>HLA-A1101</td>\n",
       "      <td>0</td>\n",
       "      <td>9</td>\n",
       "      <td>9</td>\n",
       "      <td>seq_4</td>\n",
       "      <td>0</td>\n",
       "      <td>AIANRIKFK</td>\n",
       "      <td>AIANRIKFK</td>\n",
       "      <td>...</td>\n",
       "      <td>-2</td>\n",
       "      <td>108.888889</td>\n",
       "      <td>1.802222</td>\n",
       "      <td>-0.044444</td>\n",
       "      <td>11.823055</td>\n",
       "      <td>-0.048889</td>\n",
       "      <td>0.125556</td>\n",
       "      <td>0.484444</td>\n",
       "      <td>-0.125556</td>\n",
       "      <td>0.1380</td>\n",
       "    </tr>\n",
       "    <tr>\n",
       "      <th>2</th>\n",
       "      <td>AICKPLHYV</td>\n",
       "      <td>AICKPLHYM</td>\n",
       "      <td>HLA-A0201</td>\n",
       "      <td>0</td>\n",
       "      <td>9</td>\n",
       "      <td>9</td>\n",
       "      <td>seq_5</td>\n",
       "      <td>0</td>\n",
       "      <td>AICKPLHYV</td>\n",
       "      <td>AICKPLHYV</td>\n",
       "      <td>...</td>\n",
       "      <td>1</td>\n",
       "      <td>130.000000</td>\n",
       "      <td>-0.735556</td>\n",
       "      <td>0.755556</td>\n",
       "      <td>8.530526</td>\n",
       "      <td>0.327778</td>\n",
       "      <td>0.046667</td>\n",
       "      <td>-0.017778</td>\n",
       "      <td>0.263333</td>\n",
       "      <td>0.3610</td>\n",
       "    </tr>\n",
       "    <tr>\n",
       "      <th>3</th>\n",
       "      <td>AIPAMVVPNV</td>\n",
       "      <td>AIPAMVVPNA</td>\n",
       "      <td>HLA-A0201</td>\n",
       "      <td>0</td>\n",
       "      <td>10</td>\n",
       "      <td>10</td>\n",
       "      <td>seq_6</td>\n",
       "      <td>0</td>\n",
       "      <td>AIPAMVVPNV</td>\n",
       "      <td>AIPAVVPNV</td>\n",
       "      <td>...</td>\n",
       "      <td>0</td>\n",
       "      <td>146.000000</td>\n",
       "      <td>-1.637000</td>\n",
       "      <td>1.590000</td>\n",
       "      <td>6.100000</td>\n",
       "      <td>0.431000</td>\n",
       "      <td>-0.385000</td>\n",
       "      <td>-0.067000</td>\n",
       "      <td>0.446000</td>\n",
       "      <td>2.2606</td>\n",
       "    </tr>\n",
       "    <tr>\n",
       "      <th>4</th>\n",
       "      <td>ALEVLQSIPY</td>\n",
       "      <td>APEVLQSIPY</td>\n",
       "      <td>HLA-A0101</td>\n",
       "      <td>0</td>\n",
       "      <td>10</td>\n",
       "      <td>10</td>\n",
       "      <td>seq_7</td>\n",
       "      <td>0</td>\n",
       "      <td>ALEVLQSIPY</td>\n",
       "      <td>ALEVLQSIY</td>\n",
       "      <td>...</td>\n",
       "      <td>-3</td>\n",
       "      <td>156.000000</td>\n",
       "      <td>-0.472000</td>\n",
       "      <td>0.740000</td>\n",
       "      <td>3.849983</td>\n",
       "      <td>0.292000</td>\n",
       "      <td>-0.062000</td>\n",
       "      <td>-0.096000</td>\n",
       "      <td>0.088000</td>\n",
       "      <td>0.6230</td>\n",
       "    </tr>\n",
       "  </tbody>\n",
       "</table>\n",
       "<p>5 rows × 39 columns</p>\n",
       "</div>"
      ],
      "text/plain": [
       "      Peptide   wild_type        HLA  agg_label  mut_len  wt_len seq_id  \\\n",
       "0   AFGSAHLFR   AFGSAHLYR  HLA-A3101          1        9       9  seq_1   \n",
       "1   AIANRIKFK   AIANRIKSK  HLA-A1101          0        9       9  seq_4   \n",
       "2   AICKPLHYV   AICKPLHYM  HLA-A0201          0        9       9  seq_5   \n",
       "3  AIPAMVVPNV  AIPAMVVPNA  HLA-A0201          0       10      10  seq_6   \n",
       "4  ALEVLQSIPY  APEVLQSIPY  HLA-A0101          0       10      10  seq_7   \n",
       "\n",
       "   Pos_mut Peptide_mut   core_mut  ... core_blsm_mut_score  aliphatic_index  \\\n",
       "0        0   AFGSAHLFR  AFGSAHLFR  ...                   3        65.555556   \n",
       "1        0   AIANRIKFK  AIANRIKFK  ...                  -2       108.888889   \n",
       "2        0   AICKPLHYV  AICKPLHYV  ...                   1       130.000000   \n",
       "3        0  AIPAMVVPNV  AIPAVVPNV  ...                   0       146.000000   \n",
       "4        0  ALEVLQSIPY  ALEVLQSIY  ...                  -3       156.000000   \n",
       "\n",
       "      boman hydrophobicity isoelectric_point     VHSE1     VHSE3     VHSE7  \\\n",
       "0  0.837778       0.455556         10.551759  0.214444 -0.278889  0.193333   \n",
       "1  1.802222      -0.044444         11.823055 -0.048889  0.125556  0.484444   \n",
       "2 -0.735556       0.755556          8.530526  0.327778  0.046667 -0.017778   \n",
       "3 -1.637000       1.590000          6.100000  0.431000 -0.385000 -0.067000   \n",
       "4 -0.472000       0.740000          3.849983  0.292000 -0.062000 -0.096000   \n",
       "\n",
       "      VHSE8  trueHLA_EL_rank  \n",
       "0 -0.192222           0.2470  \n",
       "1 -0.125556           0.1380  \n",
       "2  0.263333           0.3610  \n",
       "3  0.446000           2.2606  \n",
       "4  0.088000           0.6230  \n",
       "\n",
       "[5 rows x 39 columns]"
      ]
     },
     "execution_count": 30,
     "metadata": {},
     "output_type": "execute_result"
    }
   ],
   "source": [
    "cedar_related = pd.read_csv('../data/mutant/221028_cedar_related_newcore_fold.csv')\n",
    "prime_related = pd.read_csv('../data/mutant/221119_prime_related_10fold.csv')\n",
    "ibel = pd.read_csv('../data/mutant/221117_ibel_merged_fold.csv')\n",
    "# merged = pd.read_csv('../data/mutant/221112_cedar_prime_merged_fold.csv')\n",
    "nepdb = pd.read_csv('../data/mutant/230124_nepdb_filtered_scored.csv')\n",
    "nepdb.head()"
   ]
  },
  {
   "cell_type": "code",
   "execution_count": 31,
   "id": "fea90315-2ea0-40b3-85cd-8ef10000e6fe",
   "metadata": {},
   "outputs": [],
   "source": [
    "cedar_aligned = pd.read_csv('../data/aligned_icore/230125_cedar_aligned_icore.csv')\n",
    "prime_aligned = pd.read_csv('../data/aligned_icore/230125_prime_aligned_icore.csv')\n",
    "ibel_aligned = pd.read_csv('../data/aligned_icore/230125_ibel_aligned_icore.csv')\n",
    "nepdb_aligned = pd.read_csv('../data/aligned_icore/230125_nepdb_aligned_icore.csv')"
   ]
  },
  {
   "cell_type": "code",
   "execution_count": 32,
   "id": "20427055-7797-409a-9af5-7746cd8976ac",
   "metadata": {},
   "outputs": [],
   "source": [
    "cedar_expr = pd.read_csv('../data/pepx/230125_cedar_related_pepx_fold.csv')\n",
    "prime_expr = pd.read_csv('../data/pepx/230125_prime_related_pepx.csv')\n",
    "ibel_expr = pd.read_csv('../data/pepx/230125_ibel_normal_pepx.csv')\n",
    "nepdb_expr = pd.read_csv('../data/pepx/230125_nepdb_normal_pepx.csv')"
   ]
  },
  {
   "cell_type": "code",
   "execution_count": 33,
   "id": "10a3e231-c33e-469e-b609-f2043a9e2c2e",
   "metadata": {},
   "outputs": [],
   "source": [
    "cedar_aligned_expr = pd.read_csv('../data/pepx/230308_cedar_aligned_pepx_fold.csv')\n",
    "prime_aligned_expr = pd.read_csv('../data/pepx/230308_prime_aligned_pepx.csv')\n",
    "ibel_aligned_expr = pd.read_csv('../data/pepx/230125_ibel_aligned_pepx.csv')\n",
    "nepdb_aligned_expr = pd.read_csv('../data/pepx/230308_nepdb_aligned_pepx.csv')"
   ]
  },
  {
   "cell_type": "code",
   "execution_count": 34,
   "id": "bf651296-365a-4220-8ffa-6cb3709276e7",
   "metadata": {},
   "outputs": [],
   "source": [
    "# ICS DICT\n",
    "ics_kl = pkl_load('../data/ic_dicts/ics_kl.pkl')\n",
    "ics_shannon = pkl_load('../data/ic_dicts/ics_shannon.pkl')\n",
    "\n",
    "MAPPING= {'RandomForestClassifier': 'RF',\n",
    "          'LogisticRegression': 'LogReg',\n",
    "          'XGBClassifier': 'XGB',\n",
    "          'FFN': 'FFN'}"
   ]
  },
  {
   "cell_type": "markdown",
   "id": "209b2e00-6d9b-4d80-bc4d-a183883a723d",
   "metadata": {
    "jp-MarkdownHeadingCollapsed": true,
    "tags": []
   },
   "source": [
    "# redo conditions"
   ]
  },
  {
   "cell_type": "code",
   "execution_count": 83,
   "id": "35f35b96-a7cd-41af-81ad-fa40fbd164bb",
   "metadata": {},
   "outputs": [],
   "source": [
    "cdt_base = (dict(max_len=12, encoding='onehot', blosum_matrix=None, mask=False, \n",
    "                       add_rank=True, seq_col='Peptide', rank_col='trueHLA_EL_rank', hla_col='HLA',\n",
    "                       target_col = 'agg_label', add_aaprop=False, remove_pep=False, standardize=True),\n",
    "            None, 'Base')\n",
    "cdt_cedar = (dict(max_len=12, encoding='onehot', blosum_matrix='None', add_rank=True, seq_col='icore_mut', rank_col='EL_rank_mut', target_col ='agg_label', hla_col='HLA',\n",
    "                        add_aaprop=False, remove_pep=False, standardize=True,\n",
    "                        mask=False, invert=True,\n",
    "                        mut_col = aa_cols+['EL_rank_wt_aligned','icore_dissimilarity_score','ratio_rank','Total_Gene_TPM']\n",
    "                        ), # Here it should be icore similarity score because it's not dissimilarity that we have\n",
    "            ics_shannon, 'OptCEDAR')\n",
    "\n",
    "cdt_prime = (dict(max_len=12, encoding='onehot', blosum_matrix='None', add_rank=True, seq_col='icore_mut', rank_col='EL_rank_mut', target_col ='agg_label', hla_col='HLA',\n",
    "                        add_aaprop=False, remove_pep=False, standardize=True,\n",
    "                        mask=True, invert=False,\n",
    "                        mut_col = ['icore_dissimilarity_score', 'icore_blsm_mut_score']),\n",
    "            ics_shannon, 'OptPRIME')\n",
    "\n",
    "cdt_general = (dict(max_len=12, encoding='onehot', blosum_matrix='None', add_rank=True, seq_col='icore_mut', rank_col='EL_rank_mut', target_col ='agg_label', hla_col='HLA',\n",
    "                          add_aaprop=False, remove_pep=False, standardize=True,\n",
    "                          mask=False, invert=False,\n",
    "                          mut_col = ['icore_dissimilarity_score', 'icore_blsm_mut_score', 'ratio_rank', 'Total_Gene_TPM']),\n",
    "             None, 'General')"
   ]
  },
  {
   "cell_type": "code",
   "execution_count": 84,
   "id": "d3e17bf4-a7b1-4a4e-bf82-5513ca59c758",
   "metadata": {},
   "outputs": [],
   "source": [
    "encoding_kwargs = dict(max_len=12, encoding='onehot', rank_col='EL_rank_mut', seq_col='icore_mut',\n",
    "                       blosum_matrix=None, mask=False, add_rank=True, add_aaprop=False, \n",
    "                       remove_pep=False, standardize=True)\n",
    "\n",
    "def final_bootstrap_wrapper(preds_df, filename,\n",
    "                            ic_name, key, evalset,\n",
    "                            n_rounds=10000, n_jobs=8, outdir=None):\n",
    "    scores = preds_df.pred.values if 'pred' in preds_df.columns else preds_df['mean_pred'].values\n",
    "    targets = preds_df.agg_label.values if 'agg_label' in preds_df.columns else preds_df['Immunogenicity'].values\n",
    "\n",
    "    bootstrapped_df, mean_rocs = bootstrap_eval(y_score=scores,\n",
    "                                                y_true=targets,\n",
    "                                                n_rounds=n_rounds, n_jobs=n_jobs)\n",
    "    bootstrapped_df['encoding'] = 'onehot'\n",
    "    bootstrapped_df['weight'] = ic_name\n",
    "    bootstrapped_df['pep_col'] = 'icore_mut'\n",
    "    bootstrapped_df['rank_col'] = 'EL_rank_mut'\n",
    "    bootstrapped_df['key'] = key\n",
    "    bootstrapped_df['evalset'] = evalset.upper()\n",
    "    if outdir is not None:\n",
    "        bootstrapped_df.to_csv(\n",
    "            f'{outdir}bootstrapping/{evalset}_bootstrapped_df_{filename}.csv',\n",
    "            index=False)\n",
    "        pkl_dump(mean_rocs,\n",
    "                 f'{outdir}bootstrapping/{evalset}_mean_rocs_{filename}.pkl')\n",
    "\n",
    "    return bootstrapped_df"
   ]
  },
  {
   "cell_type": "code",
   "execution_count": 103,
   "id": "e29ea518-8aa4-4fda-953c-43e97d3168bb",
   "metadata": {
    "collapsed": true,
    "jupyter": {
     "outputs_hidden": true
    },
    "tags": []
   },
   "outputs": [
    {
     "name": "stdout",
     "output_type": "stream",
     "text": [
      "Training\n"
     ]
    },
    {
     "data": {
      "application/vnd.jupyter.widget-view+json": {
       "model_id": "",
       "version_major": 2,
       "version_minor": 0
      },
      "text/plain": [
       "Outer fold:   0%|          | 0/10 [00:00<?, ?it/s]"
      ]
     },
     "metadata": {},
     "output_type": "display_data"
    },
    {
     "data": {
      "application/vnd.jupyter.widget-view+json": {
       "model_id": "",
       "version_major": 2,
       "version_minor": 0
      },
      "text/plain": [
       "Inner Folds:   0%|          | 0/9 [00:00<?, ?it/s]"
      ]
     },
     "metadata": {},
     "output_type": "display_data"
    },
    {
     "data": {
      "application/vnd.jupyter.widget-view+json": {
       "model_id": "",
       "version_major": 2,
       "version_minor": 0
      },
      "text/plain": [
       "Inner Folds:   0%|          | 0/9 [00:00<?, ?it/s]"
      ]
     },
     "metadata": {},
     "output_type": "display_data"
    },
    {
     "data": {
      "application/vnd.jupyter.widget-view+json": {
       "model_id": "",
       "version_major": 2,
       "version_minor": 0
      },
      "text/plain": [
       "Inner Folds:   0%|          | 0/9 [00:00<?, ?it/s]"
      ]
     },
     "metadata": {},
     "output_type": "display_data"
    },
    {
     "data": {
      "application/vnd.jupyter.widget-view+json": {
       "model_id": "",
       "version_major": 2,
       "version_minor": 0
      },
      "text/plain": [
       "Inner Folds:   0%|          | 0/9 [00:00<?, ?it/s]"
      ]
     },
     "metadata": {},
     "output_type": "display_data"
    },
    {
     "data": {
      "application/vnd.jupyter.widget-view+json": {
       "model_id": "",
       "version_major": 2,
       "version_minor": 0
      },
      "text/plain": [
       "Inner Folds:   0%|          | 0/9 [00:00<?, ?it/s]"
      ]
     },
     "metadata": {},
     "output_type": "display_data"
    },
    {
     "data": {
      "application/vnd.jupyter.widget-view+json": {
       "model_id": "",
       "version_major": 2,
       "version_minor": 0
      },
      "text/plain": [
       "Inner Folds:   0%|          | 0/9 [00:00<?, ?it/s]"
      ]
     },
     "metadata": {},
     "output_type": "display_data"
    },
    {
     "data": {
      "application/vnd.jupyter.widget-view+json": {
       "model_id": "",
       "version_major": 2,
       "version_minor": 0
      },
      "text/plain": [
       "Inner Folds:   0%|          | 0/9 [00:00<?, ?it/s]"
      ]
     },
     "metadata": {},
     "output_type": "display_data"
    },
    {
     "data": {
      "application/vnd.jupyter.widget-view+json": {
       "model_id": "",
       "version_major": 2,
       "version_minor": 0
      },
      "text/plain": [
       "Inner Folds:   0%|          | 0/9 [00:00<?, ?it/s]"
      ]
     },
     "metadata": {},
     "output_type": "display_data"
    },
    {
     "data": {
      "application/vnd.jupyter.widget-view+json": {
       "model_id": "",
       "version_major": 2,
       "version_minor": 0
      },
      "text/plain": [
       "Inner Folds:   0%|          | 0/9 [00:00<?, ?it/s]"
      ]
     },
     "metadata": {},
     "output_type": "display_data"
    },
    {
     "data": {
      "application/vnd.jupyter.widget-view+json": {
       "model_id": "",
       "version_major": 2,
       "version_minor": 0
      },
      "text/plain": [
       "Inner Folds:   0%|          | 0/9 [00:00<?, ?it/s]"
      ]
     },
     "metadata": {},
     "output_type": "display_data"
    },
    {
     "data": {
      "application/vnd.jupyter.widget-view+json": {
       "model_id": "",
       "version_major": 2,
       "version_minor": 0
      },
      "text/plain": [
       "Eval Folds:   0%|          | 0/10 [00:00<?, ?it/s]"
      ]
     },
     "metadata": {},
     "output_type": "display_data"
    },
    {
     "name": "stdout",
     "output_type": "stream",
     "text": [
      "Sampling\n"
     ]
    },
    {
     "data": {
      "application/vnd.jupyter.widget-view+json": {
       "model_id": "",
       "version_major": 2,
       "version_minor": 0
      },
      "text/plain": [
       "Bootstrapping rounds:   0%|          | 0/10000 [00:00<?, ?it/s]"
      ]
     },
     "metadata": {},
     "output_type": "display_data"
    },
    {
     "name": "stdout",
     "output_type": "stream",
     "text": [
      "Making results DF and curves\n",
      "Training\n"
     ]
    },
    {
     "data": {
      "application/vnd.jupyter.widget-view+json": {
       "model_id": "",
       "version_major": 2,
       "version_minor": 0
      },
      "text/plain": [
       "Outer fold:   0%|          | 0/10 [00:00<?, ?it/s]"
      ]
     },
     "metadata": {},
     "output_type": "display_data"
    },
    {
     "data": {
      "application/vnd.jupyter.widget-view+json": {
       "model_id": "",
       "version_major": 2,
       "version_minor": 0
      },
      "text/plain": [
       "Inner Folds:   0%|          | 0/9 [00:00<?, ?it/s]"
      ]
     },
     "metadata": {},
     "output_type": "display_data"
    },
    {
     "data": {
      "application/vnd.jupyter.widget-view+json": {
       "model_id": "",
       "version_major": 2,
       "version_minor": 0
      },
      "text/plain": [
       "Inner Folds:   0%|          | 0/9 [00:00<?, ?it/s]"
      ]
     },
     "metadata": {},
     "output_type": "display_data"
    },
    {
     "data": {
      "application/vnd.jupyter.widget-view+json": {
       "model_id": "",
       "version_major": 2,
       "version_minor": 0
      },
      "text/plain": [
       "Inner Folds:   0%|          | 0/9 [00:00<?, ?it/s]"
      ]
     },
     "metadata": {},
     "output_type": "display_data"
    },
    {
     "data": {
      "application/vnd.jupyter.widget-view+json": {
       "model_id": "",
       "version_major": 2,
       "version_minor": 0
      },
      "text/plain": [
       "Inner Folds:   0%|          | 0/9 [00:00<?, ?it/s]"
      ]
     },
     "metadata": {},
     "output_type": "display_data"
    },
    {
     "data": {
      "application/vnd.jupyter.widget-view+json": {
       "model_id": "",
       "version_major": 2,
       "version_minor": 0
      },
      "text/plain": [
       "Inner Folds:   0%|          | 0/9 [00:00<?, ?it/s]"
      ]
     },
     "metadata": {},
     "output_type": "display_data"
    },
    {
     "data": {
      "application/vnd.jupyter.widget-view+json": {
       "model_id": "",
       "version_major": 2,
       "version_minor": 0
      },
      "text/plain": [
       "Inner Folds:   0%|          | 0/9 [00:00<?, ?it/s]"
      ]
     },
     "metadata": {},
     "output_type": "display_data"
    },
    {
     "data": {
      "application/vnd.jupyter.widget-view+json": {
       "model_id": "",
       "version_major": 2,
       "version_minor": 0
      },
      "text/plain": [
       "Inner Folds:   0%|          | 0/9 [00:00<?, ?it/s]"
      ]
     },
     "metadata": {},
     "output_type": "display_data"
    },
    {
     "data": {
      "application/vnd.jupyter.widget-view+json": {
       "model_id": "",
       "version_major": 2,
       "version_minor": 0
      },
      "text/plain": [
       "Inner Folds:   0%|          | 0/9 [00:00<?, ?it/s]"
      ]
     },
     "metadata": {},
     "output_type": "display_data"
    },
    {
     "data": {
      "application/vnd.jupyter.widget-view+json": {
       "model_id": "",
       "version_major": 2,
       "version_minor": 0
      },
      "text/plain": [
       "Inner Folds:   0%|          | 0/9 [00:00<?, ?it/s]"
      ]
     },
     "metadata": {},
     "output_type": "display_data"
    },
    {
     "data": {
      "application/vnd.jupyter.widget-view+json": {
       "model_id": "",
       "version_major": 2,
       "version_minor": 0
      },
      "text/plain": [
       "Inner Folds:   0%|          | 0/9 [00:00<?, ?it/s]"
      ]
     },
     "metadata": {},
     "output_type": "display_data"
    },
    {
     "data": {
      "application/vnd.jupyter.widget-view+json": {
       "model_id": "",
       "version_major": 2,
       "version_minor": 0
      },
      "text/plain": [
       "Eval Folds:   0%|          | 0/10 [00:00<?, ?it/s]"
      ]
     },
     "metadata": {},
     "output_type": "display_data"
    },
    {
     "name": "stdout",
     "output_type": "stream",
     "text": [
      "Sampling\n"
     ]
    },
    {
     "data": {
      "application/vnd.jupyter.widget-view+json": {
       "model_id": "",
       "version_major": 2,
       "version_minor": 0
      },
      "text/plain": [
       "Bootstrapping rounds:   0%|          | 0/10000 [00:00<?, ?it/s]"
      ]
     },
     "metadata": {},
     "output_type": "display_data"
    },
    {
     "name": "stdout",
     "output_type": "stream",
     "text": [
      "Making results DF and curves\n"
     ]
    },
    {
     "data": {
      "text/plain": [
       "((0.04249999999999998, '*'), 0.7375124645540864, 0.7298803373018402)"
      ]
     },
     "execution_count": 103,
     "metadata": {},
     "output_type": "execute_result"
    }
   ],
   "source": [
    "# Quick individual checks for pvalues\n",
    "from src.bootstrap import get_pval, plot_pval\n",
    "# Redo CEDAR inv weighting vs none and get pval\n",
    "encoding_kwargs = dict(max_len=12, encoding='onehot', blosum_matrix='None', add_rank=True, seq_col='icore_mut', rank_col='EL_rank_mut', target_col ='agg_label', hla_col='HLA',\n",
    "                        add_aaprop=False, remove_pep=False, standardize=True,\n",
    "                        mask=False, invert=True,\n",
    "                        mut_col = aa_cols+['icore_dissimilarity_score', 'Total_Gene_TPM']\n",
    "                        ) # Here it should be icore similarity score because it's not dissimilarity that we have\n",
    "\n",
    "comp = []\n",
    "for ics_dict,weight in zip([ics_shannon, None], [None, 'None']):\n",
    "    model = RandomForestClassifier(n_jobs=1, min_samples_leaf=7, n_estimators=300,\n",
    "                                               max_depth=8, ccp_alpha=9.945e-6)\n",
    "    \n",
    "    # Training model and getting feature importances\n",
    "    print('Training')\n",
    "    if weight=='None': \n",
    "        encoding_kwargs['invert']=False\n",
    "        encoding_kwargs['mask']=False\n",
    "    trained_models, train_metrics, _ = nested_kcv_train_sklearn(cedar_aligned_expr, model,\n",
    "                                                                ics_dict=ics_dict,\n",
    "                                                                encoding_kwargs=encoding_kwargs,\n",
    "                                                                n_jobs=8)\n",
    "    _, preds = evaluate_trained_models_sklearn(cedar_aligned_expr.drop_duplicates(subset=['Peptide','HLA','agg_label']),\n",
    "                                               trained_models, ics_dict,\n",
    "                                               cedar_aligned_expr,\n",
    "                                               encoding_kwargs, concatenated=False,\n",
    "                                               only_concat=False, n_jobs=8)\n",
    "    bootstrapped_df = final_bootstrap_wrapper(preds, 'xd',\n",
    "                                              weight, 'xd', 'CEDAR',\n",
    "                                              n_rounds=10000, n_jobs=8, outdir=None)\n",
    "    comp.append(bootstrapped_df)\n",
    "    \n",
    "get_pval(comp[0].auc.values, comp[1].auc.values), comp[0].auc.mean(), comp[1].auc.mean()"
   ]
  },
  {
   "cell_type": "code",
   "execution_count": 138,
   "id": "c7c1e1f1-661f-46ac-92ef-47c123926428",
   "metadata": {
    "collapsed": true,
    "jupyter": {
     "outputs_hidden": true
    },
    "tags": []
   },
   "outputs": [
    {
     "data": {
      "application/vnd.jupyter.widget-view+json": {
       "model_id": "",
       "version_major": 2,
       "version_minor": 0
      },
      "text/plain": [
       "Outer fold:   0%|          | 0/10 [00:00<?, ?it/s]"
      ]
     },
     "metadata": {},
     "output_type": "display_data"
    },
    {
     "data": {
      "application/vnd.jupyter.widget-view+json": {
       "model_id": "",
       "version_major": 2,
       "version_minor": 0
      },
      "text/plain": [
       "Inner Folds:   0%|          | 0/9 [00:00<?, ?it/s]"
      ]
     },
     "metadata": {},
     "output_type": "display_data"
    },
    {
     "data": {
      "application/vnd.jupyter.widget-view+json": {
       "model_id": "",
       "version_major": 2,
       "version_minor": 0
      },
      "text/plain": [
       "Inner Folds:   0%|          | 0/9 [00:00<?, ?it/s]"
      ]
     },
     "metadata": {},
     "output_type": "display_data"
    },
    {
     "data": {
      "application/vnd.jupyter.widget-view+json": {
       "model_id": "",
       "version_major": 2,
       "version_minor": 0
      },
      "text/plain": [
       "Inner Folds:   0%|          | 0/9 [00:00<?, ?it/s]"
      ]
     },
     "metadata": {},
     "output_type": "display_data"
    },
    {
     "data": {
      "application/vnd.jupyter.widget-view+json": {
       "model_id": "",
       "version_major": 2,
       "version_minor": 0
      },
      "text/plain": [
       "Inner Folds:   0%|          | 0/9 [00:00<?, ?it/s]"
      ]
     },
     "metadata": {},
     "output_type": "display_data"
    },
    {
     "data": {
      "application/vnd.jupyter.widget-view+json": {
       "model_id": "",
       "version_major": 2,
       "version_minor": 0
      },
      "text/plain": [
       "Inner Folds:   0%|          | 0/9 [00:00<?, ?it/s]"
      ]
     },
     "metadata": {},
     "output_type": "display_data"
    },
    {
     "data": {
      "application/vnd.jupyter.widget-view+json": {
       "model_id": "",
       "version_major": 2,
       "version_minor": 0
      },
      "text/plain": [
       "Inner Folds:   0%|          | 0/9 [00:00<?, ?it/s]"
      ]
     },
     "metadata": {},
     "output_type": "display_data"
    },
    {
     "data": {
      "application/vnd.jupyter.widget-view+json": {
       "model_id": "",
       "version_major": 2,
       "version_minor": 0
      },
      "text/plain": [
       "Inner Folds:   0%|          | 0/9 [00:00<?, ?it/s]"
      ]
     },
     "metadata": {},
     "output_type": "display_data"
    },
    {
     "data": {
      "application/vnd.jupyter.widget-view+json": {
       "model_id": "",
       "version_major": 2,
       "version_minor": 0
      },
      "text/plain": [
       "Inner Folds:   0%|          | 0/9 [00:00<?, ?it/s]"
      ]
     },
     "metadata": {},
     "output_type": "display_data"
    },
    {
     "data": {
      "application/vnd.jupyter.widget-view+json": {
       "model_id": "",
       "version_major": 2,
       "version_minor": 0
      },
      "text/plain": [
       "Inner Folds:   0%|          | 0/9 [00:00<?, ?it/s]"
      ]
     },
     "metadata": {},
     "output_type": "display_data"
    },
    {
     "data": {
      "application/vnd.jupyter.widget-view+json": {
       "model_id": "",
       "version_major": 2,
       "version_minor": 0
      },
      "text/plain": [
       "Inner Folds:   0%|          | 0/9 [00:00<?, ?it/s]"
      ]
     },
     "metadata": {},
     "output_type": "display_data"
    },
    {
     "data": {
      "application/vnd.jupyter.widget-view+json": {
       "model_id": "",
       "version_major": 2,
       "version_minor": 0
      },
      "text/plain": [
       "Eval Folds:   0%|          | 0/10 [00:00<?, ?it/s]"
      ]
     },
     "metadata": {},
     "output_type": "display_data"
    },
    {
     "name": "stdout",
     "output_type": "stream",
     "text": [
      "Sampling\n"
     ]
    },
    {
     "data": {
      "application/vnd.jupyter.widget-view+json": {
       "model_id": "",
       "version_major": 2,
       "version_minor": 0
      },
      "text/plain": [
       "Bootstrapping rounds:   0%|          | 0/10000 [00:00<?, ?it/s]"
      ]
     },
     "metadata": {},
     "output_type": "display_data"
    },
    {
     "name": "stdout",
     "output_type": "stream",
     "text": [
      "Making results DF and curves\n"
     ]
    },
    {
     "data": {
      "application/vnd.jupyter.widget-view+json": {
       "model_id": "",
       "version_major": 2,
       "version_minor": 0
      },
      "text/plain": [
       "Outer fold:   0%|          | 0/10 [00:00<?, ?it/s]"
      ]
     },
     "metadata": {},
     "output_type": "display_data"
    },
    {
     "data": {
      "application/vnd.jupyter.widget-view+json": {
       "model_id": "",
       "version_major": 2,
       "version_minor": 0
      },
      "text/plain": [
       "Inner Folds:   0%|          | 0/9 [00:00<?, ?it/s]"
      ]
     },
     "metadata": {},
     "output_type": "display_data"
    },
    {
     "data": {
      "application/vnd.jupyter.widget-view+json": {
       "model_id": "",
       "version_major": 2,
       "version_minor": 0
      },
      "text/plain": [
       "Inner Folds:   0%|          | 0/9 [00:00<?, ?it/s]"
      ]
     },
     "metadata": {},
     "output_type": "display_data"
    },
    {
     "data": {
      "application/vnd.jupyter.widget-view+json": {
       "model_id": "",
       "version_major": 2,
       "version_minor": 0
      },
      "text/plain": [
       "Inner Folds:   0%|          | 0/9 [00:00<?, ?it/s]"
      ]
     },
     "metadata": {},
     "output_type": "display_data"
    },
    {
     "data": {
      "application/vnd.jupyter.widget-view+json": {
       "model_id": "",
       "version_major": 2,
       "version_minor": 0
      },
      "text/plain": [
       "Inner Folds:   0%|          | 0/9 [00:00<?, ?it/s]"
      ]
     },
     "metadata": {},
     "output_type": "display_data"
    },
    {
     "data": {
      "application/vnd.jupyter.widget-view+json": {
       "model_id": "",
       "version_major": 2,
       "version_minor": 0
      },
      "text/plain": [
       "Inner Folds:   0%|          | 0/9 [00:00<?, ?it/s]"
      ]
     },
     "metadata": {},
     "output_type": "display_data"
    },
    {
     "data": {
      "application/vnd.jupyter.widget-view+json": {
       "model_id": "",
       "version_major": 2,
       "version_minor": 0
      },
      "text/plain": [
       "Inner Folds:   0%|          | 0/9 [00:00<?, ?it/s]"
      ]
     },
     "metadata": {},
     "output_type": "display_data"
    },
    {
     "data": {
      "application/vnd.jupyter.widget-view+json": {
       "model_id": "",
       "version_major": 2,
       "version_minor": 0
      },
      "text/plain": [
       "Inner Folds:   0%|          | 0/9 [00:00<?, ?it/s]"
      ]
     },
     "metadata": {},
     "output_type": "display_data"
    },
    {
     "data": {
      "application/vnd.jupyter.widget-view+json": {
       "model_id": "",
       "version_major": 2,
       "version_minor": 0
      },
      "text/plain": [
       "Inner Folds:   0%|          | 0/9 [00:00<?, ?it/s]"
      ]
     },
     "metadata": {},
     "output_type": "display_data"
    },
    {
     "data": {
      "application/vnd.jupyter.widget-view+json": {
       "model_id": "",
       "version_major": 2,
       "version_minor": 0
      },
      "text/plain": [
       "Inner Folds:   0%|          | 0/9 [00:00<?, ?it/s]"
      ]
     },
     "metadata": {},
     "output_type": "display_data"
    },
    {
     "data": {
      "application/vnd.jupyter.widget-view+json": {
       "model_id": "",
       "version_major": 2,
       "version_minor": 0
      },
      "text/plain": [
       "Inner Folds:   0%|          | 0/9 [00:00<?, ?it/s]"
      ]
     },
     "metadata": {},
     "output_type": "display_data"
    },
    {
     "data": {
      "application/vnd.jupyter.widget-view+json": {
       "model_id": "",
       "version_major": 2,
       "version_minor": 0
      },
      "text/plain": [
       "Eval Folds:   0%|          | 0/10 [00:00<?, ?it/s]"
      ]
     },
     "metadata": {},
     "output_type": "display_data"
    },
    {
     "name": "stdout",
     "output_type": "stream",
     "text": [
      "Sampling\n"
     ]
    },
    {
     "data": {
      "application/vnd.jupyter.widget-view+json": {
       "model_id": "",
       "version_major": 2,
       "version_minor": 0
      },
      "text/plain": [
       "Bootstrapping rounds:   0%|          | 0/10000 [00:00<?, ?it/s]"
      ]
     },
     "metadata": {},
     "output_type": "display_data"
    },
    {
     "name": "stdout",
     "output_type": "stream",
     "text": [
      "Making results DF and curves\n",
      "cdt A (mask+icore scores) >> cdt B (None weighting + base features)\n"
     ]
    },
    {
     "data": {
      "text/plain": [
       "((0.8634, 'ns'), 0.7375124645540864, 0.7389467447759966)"
      ]
     },
     "execution_count": 138,
     "metadata": {},
     "output_type": "execute_result"
    }
   ],
   "source": [
    "from src.bootstrap import get_pval, plot_pval\n",
    "# Redo CEDAR inv weighting vs none and get pval\n",
    "a = dict(max_len=12, encoding='onehot', blosum_matrix='None', add_rank=True, seq_col='icore_mut', rank_col='EL_rank_mut', target_col ='agg_label', hla_col='HLA',\n",
    "                        add_aaprop=False, remove_pep=False, standardize=True,\n",
    "                        mask=False, invert=True,\n",
    "                        mut_col = aa_cols+['icore_dissimilarity_score', 'Total_Gene_TPM']\n",
    "                        ) # Here it should be icore similarity score because it's not dissimilarity that we have\n",
    "\n",
    "b = dict(max_len=12, encoding='onehot', blosum_matrix='None', add_rank=True, seq_col='icore_mut', rank_col='EL_rank_mut', target_col ='agg_label', hla_col='HLA',\n",
    "                        add_aaprop=False, remove_pep=False, standardize=True,\n",
    "                        mask=False, invert=True,\n",
    "                        mut_col = aa_cols+['Total_Gene_TPM']\n",
    "                        ) # Here it should be icore similarity score because it's not dissimilarity that we have\n",
    "\n",
    "\n",
    "comp = []\n",
    "for encoding_kwargs, ics_dict, cdt in zip([a,b], [ics_shannon, ics_shannon], ['A', 'B']):\n",
    "    model = RandomForestClassifier(n_jobs=1, min_samples_leaf=7, n_estimators=300,\n",
    "                                               max_depth=8, ccp_alpha=9.945e-6)\n",
    "    \n",
    "    # Training model and getting feature importances\n",
    "    trained_models, train_metrics, _ = nested_kcv_train_sklearn(cedar_aligned_expr, model,\n",
    "                                                                ics_dict=ics_dict,\n",
    "                                                                encoding_kwargs=encoding_kwargs,\n",
    "                                                                n_jobs=8)\n",
    "    _, preds = evaluate_trained_models_sklearn(cedar_aligned_expr.drop_duplicates(subset=['Peptide','HLA','agg_label']),\n",
    "                                               trained_models, ics_dict,\n",
    "                                               cedar_aligned_expr,\n",
    "                                               encoding_kwargs, concatenated=False,\n",
    "                                               only_concat=False, n_jobs=8)\n",
    "    bootstrapped_df = final_bootstrap_wrapper(preds, 'A',\n",
    "                                              weight, cdt, 'PRIME',\n",
    "                                              n_rounds=10000, n_jobs=8, outdir=None)\n",
    "    comp.append(bootstrapped_df)\n",
    "print('cdt A (mask+icore scores) >> cdt B (None weighting + base features)')\n",
    "get_pval(comp[0].auc.values, comp[1].auc.values), comp[0].auc.mean(), comp[1].auc.mean()"
   ]
  },
  {
   "cell_type": "code",
   "execution_count": 138,
   "id": "bfb3b80d-c023-4bf8-a972-71677172cb3b",
   "metadata": {
    "collapsed": true,
    "jupyter": {
     "outputs_hidden": true
    },
    "tags": []
   },
   "outputs": [
    {
     "data": {
      "application/vnd.jupyter.widget-view+json": {
       "model_id": "",
       "version_major": 2,
       "version_minor": 0
      },
      "text/plain": [
       "Outer fold:   0%|          | 0/10 [00:00<?, ?it/s]"
      ]
     },
     "metadata": {},
     "output_type": "display_data"
    },
    {
     "data": {
      "application/vnd.jupyter.widget-view+json": {
       "model_id": "",
       "version_major": 2,
       "version_minor": 0
      },
      "text/plain": [
       "Inner Folds:   0%|          | 0/9 [00:00<?, ?it/s]"
      ]
     },
     "metadata": {},
     "output_type": "display_data"
    },
    {
     "data": {
      "application/vnd.jupyter.widget-view+json": {
       "model_id": "",
       "version_major": 2,
       "version_minor": 0
      },
      "text/plain": [
       "Inner Folds:   0%|          | 0/9 [00:00<?, ?it/s]"
      ]
     },
     "metadata": {},
     "output_type": "display_data"
    },
    {
     "data": {
      "application/vnd.jupyter.widget-view+json": {
       "model_id": "",
       "version_major": 2,
       "version_minor": 0
      },
      "text/plain": [
       "Inner Folds:   0%|          | 0/9 [00:00<?, ?it/s]"
      ]
     },
     "metadata": {},
     "output_type": "display_data"
    },
    {
     "data": {
      "application/vnd.jupyter.widget-view+json": {
       "model_id": "",
       "version_major": 2,
       "version_minor": 0
      },
      "text/plain": [
       "Inner Folds:   0%|          | 0/9 [00:00<?, ?it/s]"
      ]
     },
     "metadata": {},
     "output_type": "display_data"
    },
    {
     "data": {
      "application/vnd.jupyter.widget-view+json": {
       "model_id": "",
       "version_major": 2,
       "version_minor": 0
      },
      "text/plain": [
       "Inner Folds:   0%|          | 0/9 [00:00<?, ?it/s]"
      ]
     },
     "metadata": {},
     "output_type": "display_data"
    },
    {
     "data": {
      "application/vnd.jupyter.widget-view+json": {
       "model_id": "",
       "version_major": 2,
       "version_minor": 0
      },
      "text/plain": [
       "Inner Folds:   0%|          | 0/9 [00:00<?, ?it/s]"
      ]
     },
     "metadata": {},
     "output_type": "display_data"
    },
    {
     "data": {
      "application/vnd.jupyter.widget-view+json": {
       "model_id": "",
       "version_major": 2,
       "version_minor": 0
      },
      "text/plain": [
       "Inner Folds:   0%|          | 0/9 [00:00<?, ?it/s]"
      ]
     },
     "metadata": {},
     "output_type": "display_data"
    },
    {
     "data": {
      "application/vnd.jupyter.widget-view+json": {
       "model_id": "",
       "version_major": 2,
       "version_minor": 0
      },
      "text/plain": [
       "Inner Folds:   0%|          | 0/9 [00:00<?, ?it/s]"
      ]
     },
     "metadata": {},
     "output_type": "display_data"
    },
    {
     "data": {
      "application/vnd.jupyter.widget-view+json": {
       "model_id": "",
       "version_major": 2,
       "version_minor": 0
      },
      "text/plain": [
       "Inner Folds:   0%|          | 0/9 [00:00<?, ?it/s]"
      ]
     },
     "metadata": {},
     "output_type": "display_data"
    },
    {
     "data": {
      "application/vnd.jupyter.widget-view+json": {
       "model_id": "",
       "version_major": 2,
       "version_minor": 0
      },
      "text/plain": [
       "Inner Folds:   0%|          | 0/9 [00:00<?, ?it/s]"
      ]
     },
     "metadata": {},
     "output_type": "display_data"
    },
    {
     "data": {
      "application/vnd.jupyter.widget-view+json": {
       "model_id": "",
       "version_major": 2,
       "version_minor": 0
      },
      "text/plain": [
       "Eval Folds:   0%|          | 0/10 [00:00<?, ?it/s]"
      ]
     },
     "metadata": {},
     "output_type": "display_data"
    },
    {
     "name": "stdout",
     "output_type": "stream",
     "text": [
      "Sampling\n"
     ]
    },
    {
     "data": {
      "application/vnd.jupyter.widget-view+json": {
       "model_id": "",
       "version_major": 2,
       "version_minor": 0
      },
      "text/plain": [
       "Bootstrapping rounds:   0%|          | 0/10000 [00:00<?, ?it/s]"
      ]
     },
     "metadata": {},
     "output_type": "display_data"
    },
    {
     "name": "stdout",
     "output_type": "stream",
     "text": [
      "Making results DF and curves\n"
     ]
    },
    {
     "data": {
      "application/vnd.jupyter.widget-view+json": {
       "model_id": "",
       "version_major": 2,
       "version_minor": 0
      },
      "text/plain": [
       "Outer fold:   0%|          | 0/10 [00:00<?, ?it/s]"
      ]
     },
     "metadata": {},
     "output_type": "display_data"
    },
    {
     "data": {
      "application/vnd.jupyter.widget-view+json": {
       "model_id": "",
       "version_major": 2,
       "version_minor": 0
      },
      "text/plain": [
       "Inner Folds:   0%|          | 0/9 [00:00<?, ?it/s]"
      ]
     },
     "metadata": {},
     "output_type": "display_data"
    },
    {
     "data": {
      "application/vnd.jupyter.widget-view+json": {
       "model_id": "",
       "version_major": 2,
       "version_minor": 0
      },
      "text/plain": [
       "Inner Folds:   0%|          | 0/9 [00:00<?, ?it/s]"
      ]
     },
     "metadata": {},
     "output_type": "display_data"
    },
    {
     "data": {
      "application/vnd.jupyter.widget-view+json": {
       "model_id": "",
       "version_major": 2,
       "version_minor": 0
      },
      "text/plain": [
       "Inner Folds:   0%|          | 0/9 [00:00<?, ?it/s]"
      ]
     },
     "metadata": {},
     "output_type": "display_data"
    },
    {
     "data": {
      "application/vnd.jupyter.widget-view+json": {
       "model_id": "",
       "version_major": 2,
       "version_minor": 0
      },
      "text/plain": [
       "Inner Folds:   0%|          | 0/9 [00:00<?, ?it/s]"
      ]
     },
     "metadata": {},
     "output_type": "display_data"
    },
    {
     "data": {
      "application/vnd.jupyter.widget-view+json": {
       "model_id": "",
       "version_major": 2,
       "version_minor": 0
      },
      "text/plain": [
       "Inner Folds:   0%|          | 0/9 [00:00<?, ?it/s]"
      ]
     },
     "metadata": {},
     "output_type": "display_data"
    },
    {
     "data": {
      "application/vnd.jupyter.widget-view+json": {
       "model_id": "",
       "version_major": 2,
       "version_minor": 0
      },
      "text/plain": [
       "Inner Folds:   0%|          | 0/9 [00:00<?, ?it/s]"
      ]
     },
     "metadata": {},
     "output_type": "display_data"
    },
    {
     "data": {
      "application/vnd.jupyter.widget-view+json": {
       "model_id": "",
       "version_major": 2,
       "version_minor": 0
      },
      "text/plain": [
       "Inner Folds:   0%|          | 0/9 [00:00<?, ?it/s]"
      ]
     },
     "metadata": {},
     "output_type": "display_data"
    },
    {
     "data": {
      "application/vnd.jupyter.widget-view+json": {
       "model_id": "",
       "version_major": 2,
       "version_minor": 0
      },
      "text/plain": [
       "Inner Folds:   0%|          | 0/9 [00:00<?, ?it/s]"
      ]
     },
     "metadata": {},
     "output_type": "display_data"
    },
    {
     "data": {
      "application/vnd.jupyter.widget-view+json": {
       "model_id": "",
       "version_major": 2,
       "version_minor": 0
      },
      "text/plain": [
       "Inner Folds:   0%|          | 0/9 [00:00<?, ?it/s]"
      ]
     },
     "metadata": {},
     "output_type": "display_data"
    },
    {
     "data": {
      "application/vnd.jupyter.widget-view+json": {
       "model_id": "",
       "version_major": 2,
       "version_minor": 0
      },
      "text/plain": [
       "Inner Folds:   0%|          | 0/9 [00:00<?, ?it/s]"
      ]
     },
     "metadata": {},
     "output_type": "display_data"
    },
    {
     "data": {
      "application/vnd.jupyter.widget-view+json": {
       "model_id": "",
       "version_major": 2,
       "version_minor": 0
      },
      "text/plain": [
       "Eval Folds:   0%|          | 0/10 [00:00<?, ?it/s]"
      ]
     },
     "metadata": {},
     "output_type": "display_data"
    },
    {
     "name": "stdout",
     "output_type": "stream",
     "text": [
      "Sampling\n"
     ]
    },
    {
     "data": {
      "application/vnd.jupyter.widget-view+json": {
       "model_id": "",
       "version_major": 2,
       "version_minor": 0
      },
      "text/plain": [
       "Bootstrapping rounds:   0%|          | 0/10000 [00:00<?, ?it/s]"
      ]
     },
     "metadata": {},
     "output_type": "display_data"
    },
    {
     "name": "stdout",
     "output_type": "stream",
     "text": [
      "Making results DF and curves\n",
      "cdt A (mask+icore scores) >> cdt B (None weighting + base features)\n"
     ]
    },
    {
     "data": {
      "text/plain": [
       "((0.8634, 'ns'), 0.7375124645540864, 0.7389467447759966)"
      ]
     },
     "execution_count": 138,
     "metadata": {},
     "output_type": "execute_result"
    }
   ],
   "source": [
    "from src.bootstrap import get_pval, plot_pval\n",
    "# Redo CEDAR inv weighting vs none and get pval\n",
    "a = dict(max_len=12, encoding='onehot', blosum_matrix='None', add_rank=True, seq_col='icore_mut', rank_col='EL_rank_mut', target_col ='agg_label', hla_col='HLA',\n",
    "                        add_aaprop=False, remove_pep=False, standardize=True,\n",
    "                        mask=False, invert=True,\n",
    "                        mut_col = aa_cols+['icore_dissimilarity_score', 'Total_Gene_TPM']\n",
    "                        ) # Here it should be icore similarity score because it's not dissimilarity that we have\n",
    "\n",
    "b = dict(max_len=12, encoding='onehot', blosum_matrix='None', add_rank=True, seq_col='icore_mut', rank_col='EL_rank_mut', target_col ='agg_label', hla_col='HLA',\n",
    "                        add_aaprop=False, remove_pep=False, standardize=True,\n",
    "                        mask=False, invert=True,\n",
    "                        mut_col = aa_cols+['Total_Gene_TPM']\n",
    "                        ) # Here it should be icore similarity score because it's not dissimilarity that we have\n",
    "\n",
    "\n",
    "comp = []\n",
    "for encoding_kwargs, ics_dict, cdt in zip([a,b], [ics_shannon, ics_shannon], ['A', 'B']):\n",
    "    model = RandomForestClassifier(n_jobs=1, min_samples_leaf=7, n_estimators=300,\n",
    "                                               max_depth=8, ccp_alpha=9.945e-6)\n",
    "    \n",
    "    # Training model and getting feature importances\n",
    "    trained_models, train_metrics, _ = nested_kcv_train_sklearn(cedar_aligned_expr, model,\n",
    "                                                                ics_dict=ics_dict,\n",
    "                                                                encoding_kwargs=encoding_kwargs,\n",
    "                                                                n_jobs=8)\n",
    "    _, preds = evaluate_trained_models_sklearn(cedar_aligned_expr.drop_duplicates(subset=['Peptide','HLA','agg_label']),\n",
    "                                               trained_models, ics_dict,\n",
    "                                               cedar_aligned_expr,\n",
    "                                               encoding_kwargs, concatenated=False,\n",
    "                                               only_concat=False, n_jobs=8)\n",
    "    bootstrapped_df = final_bootstrap_wrapper(preds, 'A',\n",
    "                                              weight, cdt, 'PRIME',\n",
    "                                              n_rounds=10000, n_jobs=8, outdir=None)\n",
    "    comp.append(bootstrapped_df)\n",
    "print('cdt A (mask+icore scores) >> cdt B (None weighting + base features)')\n",
    "get_pval(comp[0].auc.values, comp[1].auc.values), comp[0].auc.mean(), comp[1].auc.mean()"
   ]
  },
  {
   "cell_type": "markdown",
   "id": "ee3a0a46-c1f2-4ae1-a92c-54909458323a",
   "metadata": {},
   "source": [
    "# Redo p-values\n",
    "\n",
    "Redo this way: With the gb_merged thing, compare for each condition against the base model (icore, aafreq+ic(rank)?) or (peptide, aafreq+p(rank))?"
   ]
  },
  {
   "cell_type": "code",
   "execution_count": 216,
   "id": "16eacdbf-2e05-4e04-a2d0-efb33ccf7b8d",
   "metadata": {},
   "outputs": [
    {
     "data": {
      "application/vnd.jupyter.widget-view+json": {
       "model_id": "",
       "version_major": 2,
       "version_minor": 0
      },
      "text/plain": [
       "Outer fold:   0%|          | 0/10 [00:00<?, ?it/s]"
      ]
     },
     "metadata": {},
     "output_type": "display_data"
    },
    {
     "data": {
      "application/vnd.jupyter.widget-view+json": {
       "model_id": "",
       "version_major": 2,
       "version_minor": 0
      },
      "text/plain": [
       "Inner Folds:   0%|          | 0/9 [00:00<?, ?it/s]"
      ]
     },
     "metadata": {},
     "output_type": "display_data"
    },
    {
     "data": {
      "application/vnd.jupyter.widget-view+json": {
       "model_id": "",
       "version_major": 2,
       "version_minor": 0
      },
      "text/plain": [
       "Inner Folds:   0%|          | 0/9 [00:00<?, ?it/s]"
      ]
     },
     "metadata": {},
     "output_type": "display_data"
    },
    {
     "data": {
      "application/vnd.jupyter.widget-view+json": {
       "model_id": "",
       "version_major": 2,
       "version_minor": 0
      },
      "text/plain": [
       "Inner Folds:   0%|          | 0/9 [00:00<?, ?it/s]"
      ]
     },
     "metadata": {},
     "output_type": "display_data"
    },
    {
     "data": {
      "application/vnd.jupyter.widget-view+json": {
       "model_id": "",
       "version_major": 2,
       "version_minor": 0
      },
      "text/plain": [
       "Inner Folds:   0%|          | 0/9 [00:00<?, ?it/s]"
      ]
     },
     "metadata": {},
     "output_type": "display_data"
    },
    {
     "data": {
      "application/vnd.jupyter.widget-view+json": {
       "model_id": "",
       "version_major": 2,
       "version_minor": 0
      },
      "text/plain": [
       "Inner Folds:   0%|          | 0/9 [00:00<?, ?it/s]"
      ]
     },
     "metadata": {},
     "output_type": "display_data"
    },
    {
     "data": {
      "application/vnd.jupyter.widget-view+json": {
       "model_id": "",
       "version_major": 2,
       "version_minor": 0
      },
      "text/plain": [
       "Inner Folds:   0%|          | 0/9 [00:00<?, ?it/s]"
      ]
     },
     "metadata": {},
     "output_type": "display_data"
    },
    {
     "data": {
      "application/vnd.jupyter.widget-view+json": {
       "model_id": "",
       "version_major": 2,
       "version_minor": 0
      },
      "text/plain": [
       "Inner Folds:   0%|          | 0/9 [00:00<?, ?it/s]"
      ]
     },
     "metadata": {},
     "output_type": "display_data"
    },
    {
     "data": {
      "application/vnd.jupyter.widget-view+json": {
       "model_id": "",
       "version_major": 2,
       "version_minor": 0
      },
      "text/plain": [
       "Inner Folds:   0%|          | 0/9 [00:00<?, ?it/s]"
      ]
     },
     "metadata": {},
     "output_type": "display_data"
    },
    {
     "data": {
      "application/vnd.jupyter.widget-view+json": {
       "model_id": "",
       "version_major": 2,
       "version_minor": 0
      },
      "text/plain": [
       "Inner Folds:   0%|          | 0/9 [00:00<?, ?it/s]"
      ]
     },
     "metadata": {},
     "output_type": "display_data"
    },
    {
     "data": {
      "application/vnd.jupyter.widget-view+json": {
       "model_id": "",
       "version_major": 2,
       "version_minor": 0
      },
      "text/plain": [
       "Inner Folds:   0%|          | 0/9 [00:00<?, ?it/s]"
      ]
     },
     "metadata": {},
     "output_type": "display_data"
    },
    {
     "data": {
      "application/vnd.jupyter.widget-view+json": {
       "model_id": "",
       "version_major": 2,
       "version_minor": 0
      },
      "text/plain": [
       "Eval Folds:   0%|          | 0/10 [00:00<?, ?it/s]"
      ]
     },
     "metadata": {},
     "output_type": "display_data"
    },
    {
     "name": "stdout",
     "output_type": "stream",
     "text": [
      "Sampling\n"
     ]
    },
    {
     "data": {
      "application/vnd.jupyter.widget-view+json": {
       "model_id": "",
       "version_major": 2,
       "version_minor": 0
      },
      "text/plain": [
       "Bootstrapping rounds:   0%|          | 0/10000 [00:00<?, ?it/s]"
      ]
     },
     "metadata": {},
     "output_type": "display_data"
    },
    {
     "name": "stdout",
     "output_type": "stream",
     "text": [
      "Making results DF and curves\n"
     ]
    },
    {
     "data": {
      "application/vnd.jupyter.widget-view+json": {
       "model_id": "",
       "version_major": 2,
       "version_minor": 0
      },
      "text/plain": [
       "Outer fold:   0%|          | 0/10 [00:00<?, ?it/s]"
      ]
     },
     "metadata": {},
     "output_type": "display_data"
    },
    {
     "data": {
      "application/vnd.jupyter.widget-view+json": {
       "model_id": "",
       "version_major": 2,
       "version_minor": 0
      },
      "text/plain": [
       "Inner Folds:   0%|          | 0/9 [00:00<?, ?it/s]"
      ]
     },
     "metadata": {},
     "output_type": "display_data"
    },
    {
     "data": {
      "application/vnd.jupyter.widget-view+json": {
       "model_id": "",
       "version_major": 2,
       "version_minor": 0
      },
      "text/plain": [
       "Inner Folds:   0%|          | 0/9 [00:00<?, ?it/s]"
      ]
     },
     "metadata": {},
     "output_type": "display_data"
    },
    {
     "data": {
      "application/vnd.jupyter.widget-view+json": {
       "model_id": "",
       "version_major": 2,
       "version_minor": 0
      },
      "text/plain": [
       "Inner Folds:   0%|          | 0/9 [00:00<?, ?it/s]"
      ]
     },
     "metadata": {},
     "output_type": "display_data"
    },
    {
     "data": {
      "application/vnd.jupyter.widget-view+json": {
       "model_id": "",
       "version_major": 2,
       "version_minor": 0
      },
      "text/plain": [
       "Inner Folds:   0%|          | 0/9 [00:00<?, ?it/s]"
      ]
     },
     "metadata": {},
     "output_type": "display_data"
    },
    {
     "data": {
      "application/vnd.jupyter.widget-view+json": {
       "model_id": "",
       "version_major": 2,
       "version_minor": 0
      },
      "text/plain": [
       "Inner Folds:   0%|          | 0/9 [00:00<?, ?it/s]"
      ]
     },
     "metadata": {},
     "output_type": "display_data"
    },
    {
     "data": {
      "application/vnd.jupyter.widget-view+json": {
       "model_id": "",
       "version_major": 2,
       "version_minor": 0
      },
      "text/plain": [
       "Inner Folds:   0%|          | 0/9 [00:00<?, ?it/s]"
      ]
     },
     "metadata": {},
     "output_type": "display_data"
    },
    {
     "data": {
      "application/vnd.jupyter.widget-view+json": {
       "model_id": "",
       "version_major": 2,
       "version_minor": 0
      },
      "text/plain": [
       "Inner Folds:   0%|          | 0/9 [00:00<?, ?it/s]"
      ]
     },
     "metadata": {},
     "output_type": "display_data"
    },
    {
     "data": {
      "application/vnd.jupyter.widget-view+json": {
       "model_id": "",
       "version_major": 2,
       "version_minor": 0
      },
      "text/plain": [
       "Inner Folds:   0%|          | 0/9 [00:00<?, ?it/s]"
      ]
     },
     "metadata": {},
     "output_type": "display_data"
    },
    {
     "data": {
      "application/vnd.jupyter.widget-view+json": {
       "model_id": "",
       "version_major": 2,
       "version_minor": 0
      },
      "text/plain": [
       "Inner Folds:   0%|          | 0/9 [00:00<?, ?it/s]"
      ]
     },
     "metadata": {},
     "output_type": "display_data"
    },
    {
     "data": {
      "application/vnd.jupyter.widget-view+json": {
       "model_id": "",
       "version_major": 2,
       "version_minor": 0
      },
      "text/plain": [
       "Inner Folds:   0%|          | 0/9 [00:00<?, ?it/s]"
      ]
     },
     "metadata": {},
     "output_type": "display_data"
    },
    {
     "data": {
      "application/vnd.jupyter.widget-view+json": {
       "model_id": "",
       "version_major": 2,
       "version_minor": 0
      },
      "text/plain": [
       "Eval Folds:   0%|          | 0/10 [00:00<?, ?it/s]"
      ]
     },
     "metadata": {},
     "output_type": "display_data"
    },
    {
     "name": "stdout",
     "output_type": "stream",
     "text": [
      "Sampling\n"
     ]
    },
    {
     "data": {
      "application/vnd.jupyter.widget-view+json": {
       "model_id": "",
       "version_major": 2,
       "version_minor": 0
      },
      "text/plain": [
       "Bootstrapping rounds:   0%|          | 0/10000 [00:00<?, ?it/s]"
      ]
     },
     "metadata": {},
     "output_type": "display_data"
    },
    {
     "name": "stdout",
     "output_type": "stream",
     "text": [
      "Making results DF and curves\n"
     ]
    },
    {
     "data": {
      "text/plain": [
       "(0.6738090960331687,\n",
       " 0.6740093885711926,\n",
       " 0.6689619883012272,\n",
       " 0.6691824946784815)"
      ]
     },
     "execution_count": 216,
     "metadata": {},
     "output_type": "execute_result"
    }
   ],
   "source": [
    "\n",
    "# retrain the basest of base models: \n",
    "encoding_kwargs = dict(max_len=12, encoding='onehot', blosum_matrix='None', add_rank=True, seq_col='Peptide', rank_col='trueHLA_EL_rank', target_col ='agg_label', hla_col='HLA',\n",
    "                        add_aaprop=False, remove_pep=False, standardize=True, mask=False, invert=False)\n",
    "ics_dict = None\n",
    "\n",
    "model = RandomForestClassifier(n_jobs=1, min_samples_leaf=7, n_estimators=300,\n",
    "                                               max_depth=8, ccp_alpha=9.945e-6)\n",
    "    \n",
    "# Training model and getting feature importances\n",
    "trained_models, train_metrics, _ = nested_kcv_train_sklearn(cedar_aligned, model,\n",
    "                                                            ics_dict=ics_dict,\n",
    "                                                            encoding_kwargs=encoding_kwargs,\n",
    "                                                            n_jobs=8)\n",
    "_, preds = evaluate_trained_models_sklearn(prime_aligned.drop_duplicates(subset=['Peptide','HLA','agg_label']),\n",
    "                                           trained_models, ics_dict, cedar_aligned,\n",
    "                                           encoding_kwargs, concatenated=False,\n",
    "                                           only_concat=False, n_jobs=8)\n",
    "base_pep_prime_aligned = final_bootstrap_wrapper(preds, '??xd',\n",
    "                                              'None', 'base_model_Peptide_PRIME', evalname,\n",
    "                                              n_rounds=10000, n_jobs=8, outdir=None)\n",
    "\n",
    "#######\n",
    "encoding_kwargs = dict(max_len=12, encoding='onehot', blosum_matrix='None', add_rank=True, seq_col='icore_mut', rank_col='EL_rank_mut', target_col ='agg_label', hla_col='HLA',\n",
    "                        add_aaprop=False, remove_pep=False, standardize=True, mask=False, invert=False)\n",
    "ics_dict = None\n",
    "\n",
    "model = RandomForestClassifier(n_jobs=1, min_samples_leaf=7, n_estimators=300,\n",
    "                                               max_depth=8, ccp_alpha=9.945e-6)\n",
    "    \n",
    "# Training model and getting feature importances\n",
    "trained_models, train_metrics, _ = nested_kcv_train_sklearn(cedar_aligned, model,\n",
    "                                                            ics_dict=ics_dict,\n",
    "                                                            encoding_kwargs=encoding_kwargs,\n",
    "                                                            n_jobs=8)\n",
    "_, preds = evaluate_trained_models_sklearn(prime_aligned.drop_duplicates(subset=['Peptide','HLA','agg_label']),\n",
    "                                           trained_models, ics_dict, cedar_aligned,\n",
    "                                           encoding_kwargs, concatenated=False,\n",
    "                                           only_concat=False, n_jobs=8)\n",
    "\n",
    "base_icore_prime_aligned = final_bootstrap_wrapper(preds, '??xd',\n",
    "                                              'None', 'base_model_ICORE_PRIME', evalname,\n",
    "                                              n_rounds=10000, n_jobs=8, outdir=None)\n",
    "base_pep_prime_aligned.auc.mean(), base_pep_prime_aligned.auc.median(), base_icore_prime_aligned.auc.mean(), base_icore_prime_aligned.auc.median() "
   ]
  },
  {
   "cell_type": "code",
   "execution_count": 234,
   "id": "b877e2f4-ad2e-4cf6-806c-ca0a4e5a7d01",
   "metadata": {
    "tags": []
   },
   "outputs": [
    {
     "data": {
      "application/vnd.jupyter.widget-view+json": {
       "model_id": "",
       "version_major": 2,
       "version_minor": 0
      },
      "text/plain": [
       "Outer fold:   0%|          | 0/10 [00:00<?, ?it/s]"
      ]
     },
     "metadata": {},
     "output_type": "display_data"
    },
    {
     "data": {
      "application/vnd.jupyter.widget-view+json": {
       "model_id": "",
       "version_major": 2,
       "version_minor": 0
      },
      "text/plain": [
       "Inner Folds:   0%|          | 0/9 [00:00<?, ?it/s]"
      ]
     },
     "metadata": {},
     "output_type": "display_data"
    },
    {
     "data": {
      "application/vnd.jupyter.widget-view+json": {
       "model_id": "",
       "version_major": 2,
       "version_minor": 0
      },
      "text/plain": [
       "Inner Folds:   0%|          | 0/9 [00:00<?, ?it/s]"
      ]
     },
     "metadata": {},
     "output_type": "display_data"
    },
    {
     "data": {
      "application/vnd.jupyter.widget-view+json": {
       "model_id": "",
       "version_major": 2,
       "version_minor": 0
      },
      "text/plain": [
       "Inner Folds:   0%|          | 0/9 [00:00<?, ?it/s]"
      ]
     },
     "metadata": {},
     "output_type": "display_data"
    },
    {
     "data": {
      "application/vnd.jupyter.widget-view+json": {
       "model_id": "",
       "version_major": 2,
       "version_minor": 0
      },
      "text/plain": [
       "Inner Folds:   0%|          | 0/9 [00:00<?, ?it/s]"
      ]
     },
     "metadata": {},
     "output_type": "display_data"
    },
    {
     "data": {
      "application/vnd.jupyter.widget-view+json": {
       "model_id": "",
       "version_major": 2,
       "version_minor": 0
      },
      "text/plain": [
       "Inner Folds:   0%|          | 0/9 [00:00<?, ?it/s]"
      ]
     },
     "metadata": {},
     "output_type": "display_data"
    },
    {
     "data": {
      "application/vnd.jupyter.widget-view+json": {
       "model_id": "",
       "version_major": 2,
       "version_minor": 0
      },
      "text/plain": [
       "Inner Folds:   0%|          | 0/9 [00:00<?, ?it/s]"
      ]
     },
     "metadata": {},
     "output_type": "display_data"
    },
    {
     "data": {
      "application/vnd.jupyter.widget-view+json": {
       "model_id": "",
       "version_major": 2,
       "version_minor": 0
      },
      "text/plain": [
       "Inner Folds:   0%|          | 0/9 [00:00<?, ?it/s]"
      ]
     },
     "metadata": {},
     "output_type": "display_data"
    },
    {
     "data": {
      "application/vnd.jupyter.widget-view+json": {
       "model_id": "",
       "version_major": 2,
       "version_minor": 0
      },
      "text/plain": [
       "Inner Folds:   0%|          | 0/9 [00:00<?, ?it/s]"
      ]
     },
     "metadata": {},
     "output_type": "display_data"
    },
    {
     "data": {
      "application/vnd.jupyter.widget-view+json": {
       "model_id": "",
       "version_major": 2,
       "version_minor": 0
      },
      "text/plain": [
       "Inner Folds:   0%|          | 0/9 [00:00<?, ?it/s]"
      ]
     },
     "metadata": {},
     "output_type": "display_data"
    },
    {
     "data": {
      "application/vnd.jupyter.widget-view+json": {
       "model_id": "",
       "version_major": 2,
       "version_minor": 0
      },
      "text/plain": [
       "Inner Folds:   0%|          | 0/9 [00:00<?, ?it/s]"
      ]
     },
     "metadata": {},
     "output_type": "display_data"
    },
    {
     "data": {
      "application/vnd.jupyter.widget-view+json": {
       "model_id": "",
       "version_major": 2,
       "version_minor": 0
      },
      "text/plain": [
       "Eval Folds:   0%|          | 0/10 [00:00<?, ?it/s]"
      ]
     },
     "metadata": {},
     "output_type": "display_data"
    },
    {
     "name": "stdout",
     "output_type": "stream",
     "text": [
      "Sampling\n"
     ]
    },
    {
     "data": {
      "application/vnd.jupyter.widget-view+json": {
       "model_id": "",
       "version_major": 2,
       "version_minor": 0
      },
      "text/plain": [
       "Bootstrapping rounds:   0%|          | 0/10000 [00:00<?, ?it/s]"
      ]
     },
     "metadata": {},
     "output_type": "display_data"
    },
    {
     "name": "stdout",
     "output_type": "stream",
     "text": [
      "Making results DF and curves\n"
     ]
    },
    {
     "data": {
      "application/vnd.jupyter.widget-view+json": {
       "model_id": "",
       "version_major": 2,
       "version_minor": 0
      },
      "text/plain": [
       "Eval Folds:   0%|          | 0/10 [00:00<?, ?it/s]"
      ]
     },
     "metadata": {},
     "output_type": "display_data"
    },
    {
     "name": "stdout",
     "output_type": "stream",
     "text": [
      "Sampling\n"
     ]
    },
    {
     "data": {
      "application/vnd.jupyter.widget-view+json": {
       "model_id": "",
       "version_major": 2,
       "version_minor": 0
      },
      "text/plain": [
       "Bootstrapping rounds:   0%|          | 0/10000 [00:00<?, ?it/s]"
      ]
     },
     "metadata": {},
     "output_type": "display_data"
    },
    {
     "name": "stdout",
     "output_type": "stream",
     "text": [
      "Making results DF and curves\n"
     ]
    },
    {
     "data": {
      "application/vnd.jupyter.widget-view+json": {
       "model_id": "",
       "version_major": 2,
       "version_minor": 0
      },
      "text/plain": [
       "Eval Folds:   0%|          | 0/10 [00:00<?, ?it/s]"
      ]
     },
     "metadata": {},
     "output_type": "display_data"
    },
    {
     "name": "stdout",
     "output_type": "stream",
     "text": [
      "Sampling\n"
     ]
    },
    {
     "data": {
      "application/vnd.jupyter.widget-view+json": {
       "model_id": "",
       "version_major": 2,
       "version_minor": 0
      },
      "text/plain": [
       "Bootstrapping rounds:   0%|          | 0/10000 [00:00<?, ?it/s]"
      ]
     },
     "metadata": {},
     "output_type": "display_data"
    },
    {
     "name": "stdout",
     "output_type": "stream",
     "text": [
      "Making results DF and curves\n"
     ]
    }
   ],
   "source": [
    "base = {'Peptide':{'CEDAR': ...,\n",
    "                   'PRIME': ...,\n",
    "                   'NEPDB': ...},\n",
    "        'ICORE':{'CEDAR':pd.read_csv('../output/230327_aligned_icore_exprscore_mutscore_filtered/bootstrapping/CEDAR_bootstrapped_df_cedar_onehot_None_icore_mut_EL_rank_mut_only_rank.csv'),\n",
    "                 'PRIME':pd.read_csv('../output/230327_aligned_icore_exprscore_mutscore_filtered/bootstrapping/PRIME_bootstrapped_df_cedar_onehot_None_icore_mut_EL_rank_mut_only_rank.csv'),\n",
    "                 'NEPDB':pd.read_csv('../output/230327_aligned_icore_exprscore_mutscore_filtered/bootstrapping/NEPDB_bootstrapped_df_cedar_onehot_None_icore_mut_EL_rank_mut_only_rank.csv')}}\n",
    "\n",
    "\n",
    "# retrain the basest of base models: \n",
    "encoding_kwargs = dict(max_len=12, encoding='onehot', blosum_matrix='None', add_rank=True, seq_col='Peptide', rank_col='trueHLA_EL_rank', target_col ='agg_label', hla_col='HLA',\n",
    "                        add_aaprop=False, remove_pep=False, standardize=True, mask=False, invert=False)\n",
    "ics_dict = None\n",
    "\n",
    "model = RandomForestClassifier(n_jobs=1, min_samples_leaf=7, n_estimators=300,\n",
    "                                               max_depth=8, ccp_alpha=9.945e-6)\n",
    "    \n",
    "# Training model and getting feature importances\n",
    "trained_models, train_metrics, _ = nested_kcv_train_sklearn(cedar_aligned_expr, model,\n",
    "                                                            ics_dict=ics_dict,\n",
    "                                                            encoding_kwargs=encoding_kwargs,\n",
    "                                                            n_jobs=8)\n",
    "\n",
    "for evalset, evalname in zip([cedar_aligned_expr, prime_aligned_expr, nepdb_aligned_expr], ['CEDAR', 'PRIME', 'NEPDB']):\n",
    "    if evalname != 'CEDAR':\n",
    "        evalset = evalset.query('Peptide not in @cedar_aligned_expr.Peptide.values')\n",
    "    _, preds = evaluate_trained_models_sklearn(evalset.drop_duplicates(subset=['Peptide','HLA','agg_label']),\n",
    "                                               trained_models, ics_dict, cedar_aligned_expr,\n",
    "                                               encoding_kwargs, concatenated=False,\n",
    "                                               only_concat=False, n_jobs=8)\n",
    "    base['Peptide'][evalname] = final_bootstrap_wrapper(preds, '??xd',\n",
    "                                              'None', 'base_model_Peptide_trueHLA', evalname,\n",
    "                                              n_rounds=10000, n_jobs=8, outdir=None)"
   ]
  },
  {
   "cell_type": "code",
   "execution_count": 256,
   "id": "6c9bd07d-d749-436c-8180-660a57658e2a",
   "metadata": {
    "tags": []
   },
   "outputs": [],
   "source": [
    "# Here I realise I am missing some conditiosn from the 230327_aligned_icore_exprmutscore_filtered because I was only doing combinations that were missing from the previous results in 230125_exprscore\n",
    "# So I copy them and get the mutscore\n",
    "total_df = pd.read_csv('../output/230327_aligned_icore_exprscore_mutscore_filtered/total_df.csv')\n",
    "total_df_rest = pd.read_csv('../output/230327_aligned_icore_exprscore_mutscore_filtered/total_df_filtered.csv')\n",
    "total_df_rest['key']=total_df_rest['key'].str.replace(' ','_')"
   ]
  },
  {
   "cell_type": "code",
   "execution_count": 278,
   "id": "e9e46cbe-cf9c-4af3-a1f3-72fc30480635",
   "metadata": {
    "collapsed": true,
    "jupyter": {
     "outputs_hidden": true
    },
    "tags": []
   },
   "outputs": [
    {
     "data": {
      "text/html": [
       "<div>\n",
       "<style scoped>\n",
       "    .dataframe tbody tr th:only-of-type {\n",
       "        vertical-align: middle;\n",
       "    }\n",
       "\n",
       "    .dataframe tbody tr th {\n",
       "        vertical-align: top;\n",
       "    }\n",
       "\n",
       "    .dataframe thead th {\n",
       "        text-align: right;\n",
       "    }\n",
       "</style>\n",
       "<table border=\"1\" class=\"dataframe\">\n",
       "  <thead>\n",
       "    <tr style=\"text-align: right;\">\n",
       "      <th></th>\n",
       "      <th>mean_auc_CEDAR</th>\n",
       "      <th>mean_auc_PRIME</th>\n",
       "      <th>mean_auc_NEPDB</th>\n",
       "    </tr>\n",
       "    <tr>\n",
       "      <th>key</th>\n",
       "      <th></th>\n",
       "      <th></th>\n",
       "      <th></th>\n",
       "    </tr>\n",
       "  </thead>\n",
       "  <tbody>\n",
       "    <tr>\n",
       "      <th>icore_dissimilarity_score-icore_blsm_mut_score-Total_Scaled_Peptide_TPM</th>\n",
       "      <td>0.727096</td>\n",
       "      <td>0.715249</td>\n",
       "      <td>0.742815</td>\n",
       "    </tr>\n",
       "    <tr>\n",
       "      <th>icore_dissimilarity_score-icore_blsm_mut_score-Total_Gene_TPM</th>\n",
       "      <td>0.728096</td>\n",
       "      <td>0.712474</td>\n",
       "      <td>0.748349</td>\n",
       "    </tr>\n",
       "    <tr>\n",
       "      <th>icore_dissimilarity_score-icore_blsm_mut_score-icore_mut_score-Total_Scaled_Peptide_TPM</th>\n",
       "      <td>0.724829</td>\n",
       "      <td>0.715702</td>\n",
       "      <td>0.744592</td>\n",
       "    </tr>\n",
       "    <tr>\n",
       "      <th>icore_dissimilarity_score-icore_blsm_mut_score-icore_mut_score-Total_Gene_TPM</th>\n",
       "      <td>0.725619</td>\n",
       "      <td>0.714446</td>\n",
       "      <td>0.747620</td>\n",
       "    </tr>\n",
       "    <tr>\n",
       "      <th>icore_dissimilarity_score-icore_blsm_mut_score-icore_mut_score-Total_Peptide_TPM</th>\n",
       "      <td>0.725622</td>\n",
       "      <td>0.714224</td>\n",
       "      <td>0.745893</td>\n",
       "    </tr>\n",
       "    <tr>\n",
       "      <th>icore_dissimilarity_score-icore_blsm_mut_score-Total_Peptide_TPM</th>\n",
       "      <td>0.727685</td>\n",
       "      <td>0.712129</td>\n",
       "      <td>0.746356</td>\n",
       "    </tr>\n",
       "    <tr>\n",
       "      <th>icore_dissimilarity_score-ratio_rank-Total_Scaled_Peptide_TPM</th>\n",
       "      <td>0.727578</td>\n",
       "      <td>0.707861</td>\n",
       "      <td>0.739187</td>\n",
       "    </tr>\n",
       "    <tr>\n",
       "      <th>icore_dissimilarity_score-icore_mut_score-Total_Scaled_Peptide_TPM</th>\n",
       "      <td>0.726533</td>\n",
       "      <td>0.708879</td>\n",
       "      <td>0.746291</td>\n",
       "    </tr>\n",
       "    <tr>\n",
       "      <th>icore_dissimilarity_score-icore_blsm_mut_score-icore_mut_score</th>\n",
       "      <td>0.720768</td>\n",
       "      <td>0.714636</td>\n",
       "      <td>0.698076</td>\n",
       "    </tr>\n",
       "    <tr>\n",
       "      <th>icore_dissimilarity_score-ratio_rank-foreignness_score-Total_Gene_TPM</th>\n",
       "      <td>0.726408</td>\n",
       "      <td>0.708327</td>\n",
       "      <td>0.736470</td>\n",
       "    </tr>\n",
       "    <tr>\n",
       "      <th>icore_dissimilarity_score-ratio_rank-foreignness_score-Total_Peptide_TPM</th>\n",
       "      <td>0.726144</td>\n",
       "      <td>0.708454</td>\n",
       "      <td>0.731760</td>\n",
       "    </tr>\n",
       "    <tr>\n",
       "      <th>icore_dissimilarity_score-icore_mut_score-Total_Gene_TPM</th>\n",
       "      <td>0.727578</td>\n",
       "      <td>0.706846</td>\n",
       "      <td>0.755768</td>\n",
       "    </tr>\n",
       "    <tr>\n",
       "      <th>icore_dissimilarity_score-ratio_rank-Total_Peptide_TPM</th>\n",
       "      <td>0.727873</td>\n",
       "      <td>0.706497</td>\n",
       "      <td>0.740917</td>\n",
       "    </tr>\n",
       "    <tr>\n",
       "      <th>icore_dissimilarity_score-icore_blsm_mut_score</th>\n",
       "      <td>0.718835</td>\n",
       "      <td>0.715527</td>\n",
       "      <td>0.698320</td>\n",
       "    </tr>\n",
       "    <tr>\n",
       "      <th>icore_dissimilarity_score-Total_Scaled_Peptide_TPM</th>\n",
       "      <td>0.724259</td>\n",
       "      <td>0.709974</td>\n",
       "      <td>0.749782</td>\n",
       "    </tr>\n",
       "    <tr>\n",
       "      <th>icore_dissimilarity_score-ratio_rank-Total_Gene_TPM</th>\n",
       "      <td>0.727651</td>\n",
       "      <td>0.706497</td>\n",
       "      <td>0.744862</td>\n",
       "    </tr>\n",
       "    <tr>\n",
       "      <th>icore_dissimilarity_score-ratio_rank-foreignness_score-Total_Scaled_Peptide_TPM</th>\n",
       "      <td>0.725537</td>\n",
       "      <td>0.708516</td>\n",
       "      <td>0.730511</td>\n",
       "    </tr>\n",
       "    <tr>\n",
       "      <th>icore_dissimilarity_score-icore_mut_score-ratio_rank-foreignness_score-Total_Scaled_Peptide_TPM</th>\n",
       "      <td>0.726787</td>\n",
       "      <td>0.707004</td>\n",
       "      <td>0.729002</td>\n",
       "    </tr>\n",
       "    <tr>\n",
       "      <th>icore_dissimilarity_score-icore_mut_score-Total_Peptide_TPM</th>\n",
       "      <td>0.727364</td>\n",
       "      <td>0.706241</td>\n",
       "      <td>0.753795</td>\n",
       "    </tr>\n",
       "    <tr>\n",
       "      <th>icore_blsm_mut_score-Total_Scaled_Peptide_TPM</th>\n",
       "      <td>0.726959</td>\n",
       "      <td>0.706622</td>\n",
       "      <td>0.724384</td>\n",
       "    </tr>\n",
       "    <tr>\n",
       "      <th>icore_dissimilarity_score-icore_mut_score-ratio_rank-foreignness_score-Total_Gene_TPM</th>\n",
       "      <td>0.727327</td>\n",
       "      <td>0.706225</td>\n",
       "      <td>0.736445</td>\n",
       "    </tr>\n",
       "    <tr>\n",
       "      <th>icore_dissimilarity_score-Total_Peptide_TPM</th>\n",
       "      <td>0.725117</td>\n",
       "      <td>0.708128</td>\n",
       "      <td>0.756050</td>\n",
       "    </tr>\n",
       "    <tr>\n",
       "      <th>icore_blsm_mut_score-Total_Peptide_TPM</th>\n",
       "      <td>0.727101</td>\n",
       "      <td>0.706011</td>\n",
       "      <td>0.729081</td>\n",
       "    </tr>\n",
       "    <tr>\n",
       "      <th>icore_dissimilarity_score-Total_Gene_TPM</th>\n",
       "      <td>0.725250</td>\n",
       "      <td>0.707782</td>\n",
       "      <td>0.758528</td>\n",
       "    </tr>\n",
       "    <tr>\n",
       "      <th>icore_blsm_mut_score-Total_Gene_TPM</th>\n",
       "      <td>0.726930</td>\n",
       "      <td>0.705933</td>\n",
       "      <td>0.729608</td>\n",
       "    </tr>\n",
       "  </tbody>\n",
       "</table>\n",
       "</div>"
      ],
      "text/plain": [
       "                                                    mean_auc_CEDAR  \\\n",
       "key                                                                  \n",
       "icore_dissimilarity_score-icore_blsm_mut_score-...        0.727096   \n",
       "icore_dissimilarity_score-icore_blsm_mut_score-...        0.728096   \n",
       "icore_dissimilarity_score-icore_blsm_mut_score-...        0.724829   \n",
       "icore_dissimilarity_score-icore_blsm_mut_score-...        0.725619   \n",
       "icore_dissimilarity_score-icore_blsm_mut_score-...        0.725622   \n",
       "icore_dissimilarity_score-icore_blsm_mut_score-...        0.727685   \n",
       "icore_dissimilarity_score-ratio_rank-Total_Scal...        0.727578   \n",
       "icore_dissimilarity_score-icore_mut_score-Total...        0.726533   \n",
       "icore_dissimilarity_score-icore_blsm_mut_score-...        0.720768   \n",
       "icore_dissimilarity_score-ratio_rank-foreignnes...        0.726408   \n",
       "icore_dissimilarity_score-ratio_rank-foreignnes...        0.726144   \n",
       "icore_dissimilarity_score-icore_mut_score-Total...        0.727578   \n",
       "icore_dissimilarity_score-ratio_rank-Total_Pept...        0.727873   \n",
       "icore_dissimilarity_score-icore_blsm_mut_score            0.718835   \n",
       "icore_dissimilarity_score-Total_Scaled_Peptide_TPM        0.724259   \n",
       "icore_dissimilarity_score-ratio_rank-Total_Gene...        0.727651   \n",
       "icore_dissimilarity_score-ratio_rank-foreignnes...        0.725537   \n",
       "icore_dissimilarity_score-icore_mut_score-ratio...        0.726787   \n",
       "icore_dissimilarity_score-icore_mut_score-Total...        0.727364   \n",
       "icore_blsm_mut_score-Total_Scaled_Peptide_TPM             0.726959   \n",
       "icore_dissimilarity_score-icore_mut_score-ratio...        0.727327   \n",
       "icore_dissimilarity_score-Total_Peptide_TPM               0.725117   \n",
       "icore_blsm_mut_score-Total_Peptide_TPM                    0.727101   \n",
       "icore_dissimilarity_score-Total_Gene_TPM                  0.725250   \n",
       "icore_blsm_mut_score-Total_Gene_TPM                       0.726930   \n",
       "\n",
       "                                                    mean_auc_PRIME  \\\n",
       "key                                                                  \n",
       "icore_dissimilarity_score-icore_blsm_mut_score-...        0.715249   \n",
       "icore_dissimilarity_score-icore_blsm_mut_score-...        0.712474   \n",
       "icore_dissimilarity_score-icore_blsm_mut_score-...        0.715702   \n",
       "icore_dissimilarity_score-icore_blsm_mut_score-...        0.714446   \n",
       "icore_dissimilarity_score-icore_blsm_mut_score-...        0.714224   \n",
       "icore_dissimilarity_score-icore_blsm_mut_score-...        0.712129   \n",
       "icore_dissimilarity_score-ratio_rank-Total_Scal...        0.707861   \n",
       "icore_dissimilarity_score-icore_mut_score-Total...        0.708879   \n",
       "icore_dissimilarity_score-icore_blsm_mut_score-...        0.714636   \n",
       "icore_dissimilarity_score-ratio_rank-foreignnes...        0.708327   \n",
       "icore_dissimilarity_score-ratio_rank-foreignnes...        0.708454   \n",
       "icore_dissimilarity_score-icore_mut_score-Total...        0.706846   \n",
       "icore_dissimilarity_score-ratio_rank-Total_Pept...        0.706497   \n",
       "icore_dissimilarity_score-icore_blsm_mut_score            0.715527   \n",
       "icore_dissimilarity_score-Total_Scaled_Peptide_TPM        0.709974   \n",
       "icore_dissimilarity_score-ratio_rank-Total_Gene...        0.706497   \n",
       "icore_dissimilarity_score-ratio_rank-foreignnes...        0.708516   \n",
       "icore_dissimilarity_score-icore_mut_score-ratio...        0.707004   \n",
       "icore_dissimilarity_score-icore_mut_score-Total...        0.706241   \n",
       "icore_blsm_mut_score-Total_Scaled_Peptide_TPM             0.706622   \n",
       "icore_dissimilarity_score-icore_mut_score-ratio...        0.706225   \n",
       "icore_dissimilarity_score-Total_Peptide_TPM               0.708128   \n",
       "icore_blsm_mut_score-Total_Peptide_TPM                    0.706011   \n",
       "icore_dissimilarity_score-Total_Gene_TPM                  0.707782   \n",
       "icore_blsm_mut_score-Total_Gene_TPM                       0.705933   \n",
       "\n",
       "                                                    mean_auc_NEPDB  \n",
       "key                                                                 \n",
       "icore_dissimilarity_score-icore_blsm_mut_score-...        0.742815  \n",
       "icore_dissimilarity_score-icore_blsm_mut_score-...        0.748349  \n",
       "icore_dissimilarity_score-icore_blsm_mut_score-...        0.744592  \n",
       "icore_dissimilarity_score-icore_blsm_mut_score-...        0.747620  \n",
       "icore_dissimilarity_score-icore_blsm_mut_score-...        0.745893  \n",
       "icore_dissimilarity_score-icore_blsm_mut_score-...        0.746356  \n",
       "icore_dissimilarity_score-ratio_rank-Total_Scal...        0.739187  \n",
       "icore_dissimilarity_score-icore_mut_score-Total...        0.746291  \n",
       "icore_dissimilarity_score-icore_blsm_mut_score-...        0.698076  \n",
       "icore_dissimilarity_score-ratio_rank-foreignnes...        0.736470  \n",
       "icore_dissimilarity_score-ratio_rank-foreignnes...        0.731760  \n",
       "icore_dissimilarity_score-icore_mut_score-Total...        0.755768  \n",
       "icore_dissimilarity_score-ratio_rank-Total_Pept...        0.740917  \n",
       "icore_dissimilarity_score-icore_blsm_mut_score            0.698320  \n",
       "icore_dissimilarity_score-Total_Scaled_Peptide_TPM        0.749782  \n",
       "icore_dissimilarity_score-ratio_rank-Total_Gene...        0.744862  \n",
       "icore_dissimilarity_score-ratio_rank-foreignnes...        0.730511  \n",
       "icore_dissimilarity_score-icore_mut_score-ratio...        0.729002  \n",
       "icore_dissimilarity_score-icore_mut_score-Total...        0.753795  \n",
       "icore_blsm_mut_score-Total_Scaled_Peptide_TPM             0.724384  \n",
       "icore_dissimilarity_score-icore_mut_score-ratio...        0.736445  \n",
       "icore_dissimilarity_score-Total_Peptide_TPM               0.756050  \n",
       "icore_blsm_mut_score-Total_Peptide_TPM                    0.729081  \n",
       "icore_dissimilarity_score-Total_Gene_TPM                  0.758528  \n",
       "icore_blsm_mut_score-Total_Gene_TPM                       0.729608  "
      ]
     },
     "execution_count": 278,
     "metadata": {},
     "output_type": "execute_result"
    }
   ],
   "source": [
    "merged_df = pd.concat([total_df, total_df_rest.query('evalset!=\"IBEL\"')])\n",
    "merged_df['weight'] = merged_df['weight'].str.replace(' ','-')\n",
    "gb = []\n",
    "for evalset in merged_df.evalset.unique():\n",
    "    tmp = merged_df.query('evalset==@evalset')\n",
    "    tmp = tmp.groupby(['weight', 'key']).agg(mean_auc=('auc','mean'), mean_auc01=('auc_01','mean'))\n",
    "    tmp.columns = [f'{x}_{evalset}' for x in tmp.columns]\n",
    "    gb.append(tmp)\n",
    "gb_merged = pd.concat(gb, axis=1)\n",
    "# get compromise\n",
    "gb_merged['mean_auc_agg'] = .5*(gb_merged['mean_auc_CEDAR']+gb_merged['mean_auc_PRIME'])\n",
    "gb_merged['mean_auc_std'] = gb_merged.apply(lambda x: np.std([x['mean_auc_CEDAR'],x['mean_auc_PRIME']]), axis=1)\n",
    "gb_merged['Compromise'] = gb_merged.apply(lambda x: .33*x['mean_auc_CEDAR']+.33 * x['mean_auc_agg'] + .33* (1-x['mean_auc_std']), axis = 1)\n",
    "gb_merged.reset_index().query('weight==\"None\"').set_index(['key']).sort_values('Compromise', ascending=False).head(25)[['mean_auc_CEDAR', 'mean_auc_PRIME', 'mean_auc_NEPDB']]"
   ]
  },
  {
   "cell_type": "code",
   "execution_count": 279,
   "id": "3d31ca49-7447-4721-b06c-c45a508c5f07",
   "metadata": {},
   "outputs": [],
   "source": [
    "bdir = '../output/230327_aligned_icore_exprscore_mutscore_filtered/bootstrapping/'\n",
    "bdir2 = '../output/230327_aligned_icore_exprscore_mutscore_filtered/bootstrapping_copy/'\n",
    "def get_df(weight, key, evalset): \n",
    "    try:\n",
    "        df=pd.read_csv(f'{bdir}{evalset}_bootstrapped_df_cedar_onehot_{weight}_icore_mut_EL_rank_mut_{key}.csv')\n",
    "    except:\n",
    "        df=pd.read_csv(f'{bdir2}{evalset}_bootstrapped_df_cedar_onehot_{weight}_icore_mut_EL_rank_mut_{key}.csv')\n",
    "    return df\n",
    "\n",
    "def do_pval(weight, key, evalset, input_kind):\n",
    "    base_aucs = base[input_kind][evalset].auc.values\n",
    "    comp_aucs = get_df(weight, key, evalset).auc.values\n",
    "    pval, sig = get_pval(comp_aucs, base_aucs)\n",
    "    return pval, sig\n",
    "gb_merged.reset_index(['weight', 'key'], inplace=True)\n",
    "# get pvl\n",
    "gb_merged[['pval_base_pep_CEDAR', 'sig_base_pep_CEDAR']] = gb_merged.apply(lambda x: do_pval(x['weight'], x['key'], 'CEDAR', 'Peptide'), axis=1, result_type='expand')\n",
    "gb_merged[['pval_base_ICORE_CEDAR', 'sig_base_ICORE_CEDAR']] = gb_merged.apply(lambda x: do_pval(x['weight'], x['key'], 'CEDAR', 'ICORE'), axis=1, result_type='expand')\n",
    "gb_merged[['pval_base_pep_PRIME', 'sig_base_pep_PRIME']] = gb_merged.apply(lambda x: do_pval(x['weight'], x['key'], 'PRIME', 'Peptide'), axis=1, result_type='expand')\n",
    "gb_merged[['pval_base_ICORE_PRIME', 'sig_base_ICORE_PRIME']] = gb_merged.apply(lambda x: do_pval(x['weight'], x['key'], 'PRIME', 'ICORE'), axis=1, result_type='expand')\n",
    "gb_merged.set_index(['weight','key'],inplace=True)"
   ]
  },
  {
   "cell_type": "code",
   "execution_count": 288,
   "id": "658a256c-9a2d-45fa-8fb0-22ba619ab1c2",
   "metadata": {},
   "outputs": [
    {
     "name": "stdout",
     "output_type": "stream",
     "text": [
      "mean_auc_CEDAR\n"
     ]
    },
    {
     "data": {
      "text/html": [
       "<div>\n",
       "<style scoped>\n",
       "    .dataframe tbody tr th:only-of-type {\n",
       "        vertical-align: middle;\n",
       "    }\n",
       "\n",
       "    .dataframe tbody tr th {\n",
       "        vertical-align: top;\n",
       "    }\n",
       "\n",
       "    .dataframe thead th {\n",
       "        text-align: right;\n",
       "    }\n",
       "</style>\n",
       "<table border=\"1\" class=\"dataframe\">\n",
       "  <thead>\n",
       "    <tr style=\"text-align: right;\">\n",
       "      <th></th>\n",
       "      <th></th>\n",
       "      <th>mean_auc_CEDAR</th>\n",
       "      <th>mean_auc_PRIME</th>\n",
       "      <th>mean_auc_NEPDB</th>\n",
       "      <th>pval_base_pep_CEDAR</th>\n",
       "      <th>pval_base_pep_PRIME</th>\n",
       "      <th>pval_base_ICORE_CEDAR</th>\n",
       "      <th>pval_base_ICORE_PRIME</th>\n",
       "    </tr>\n",
       "    <tr>\n",
       "      <th>weight</th>\n",
       "      <th>key</th>\n",
       "      <th></th>\n",
       "      <th></th>\n",
       "      <th></th>\n",
       "      <th></th>\n",
       "      <th></th>\n",
       "      <th></th>\n",
       "      <th></th>\n",
       "    </tr>\n",
       "  </thead>\n",
       "  <tbody>\n",
       "    <tr>\n",
       "      <th rowspan=\"3\" valign=\"top\">Inverted-Shannon</th>\n",
       "      <th>aa_props-icore_blsm_mut_score-ratio_rank-EL_rank_wt_aligned-Total_Gene_TPM</th>\n",
       "      <td>0.742097</td>\n",
       "      <td>0.645949</td>\n",
       "      <td>0.671633</td>\n",
       "      <td>0.0048</td>\n",
       "      <td>0.7145</td>\n",
       "      <td>0.0026</td>\n",
       "      <td>0.9497</td>\n",
       "    </tr>\n",
       "    <tr>\n",
       "      <th>aa_props-icore_mut_score-ratio_rank-EL_rank_wt_aligned-Total_Gene_TPM</th>\n",
       "      <td>0.741982</td>\n",
       "      <td>0.642359</td>\n",
       "      <td>0.677303</td>\n",
       "      <td>0.0050</td>\n",
       "      <td>0.7327</td>\n",
       "      <td>0.0025</td>\n",
       "      <td>0.9602</td>\n",
       "    </tr>\n",
       "    <tr>\n",
       "      <th>aa_props-icore_dissimilarity_score-icore_mut_score-ratio_rank-EL_rank_wt_aligned-Total_Gene_TPM</th>\n",
       "      <td>0.741833</td>\n",
       "      <td>0.650829</td>\n",
       "      <td>0.692624</td>\n",
       "      <td>0.0049</td>\n",
       "      <td>0.6857</td>\n",
       "      <td>0.0025</td>\n",
       "      <td>0.9286</td>\n",
       "    </tr>\n",
       "  </tbody>\n",
       "</table>\n",
       "</div>"
      ],
      "text/plain": [
       "                                                                     mean_auc_CEDAR  \\\n",
       "weight           key                                                                  \n",
       "Inverted-Shannon aa_props-icore_blsm_mut_score-ratio_rank-EL_ran...        0.742097   \n",
       "                 aa_props-icore_mut_score-ratio_rank-EL_rank_wt_...        0.741982   \n",
       "                 aa_props-icore_dissimilarity_score-icore_mut_sc...        0.741833   \n",
       "\n",
       "                                                                     mean_auc_PRIME  \\\n",
       "weight           key                                                                  \n",
       "Inverted-Shannon aa_props-icore_blsm_mut_score-ratio_rank-EL_ran...        0.645949   \n",
       "                 aa_props-icore_mut_score-ratio_rank-EL_rank_wt_...        0.642359   \n",
       "                 aa_props-icore_dissimilarity_score-icore_mut_sc...        0.650829   \n",
       "\n",
       "                                                                     mean_auc_NEPDB  \\\n",
       "weight           key                                                                  \n",
       "Inverted-Shannon aa_props-icore_blsm_mut_score-ratio_rank-EL_ran...        0.671633   \n",
       "                 aa_props-icore_mut_score-ratio_rank-EL_rank_wt_...        0.677303   \n",
       "                 aa_props-icore_dissimilarity_score-icore_mut_sc...        0.692624   \n",
       "\n",
       "                                                                     pval_base_pep_CEDAR  \\\n",
       "weight           key                                                                       \n",
       "Inverted-Shannon aa_props-icore_blsm_mut_score-ratio_rank-EL_ran...               0.0048   \n",
       "                 aa_props-icore_mut_score-ratio_rank-EL_rank_wt_...               0.0050   \n",
       "                 aa_props-icore_dissimilarity_score-icore_mut_sc...               0.0049   \n",
       "\n",
       "                                                                     pval_base_pep_PRIME  \\\n",
       "weight           key                                                                       \n",
       "Inverted-Shannon aa_props-icore_blsm_mut_score-ratio_rank-EL_ran...               0.7145   \n",
       "                 aa_props-icore_mut_score-ratio_rank-EL_rank_wt_...               0.7327   \n",
       "                 aa_props-icore_dissimilarity_score-icore_mut_sc...               0.6857   \n",
       "\n",
       "                                                                     pval_base_ICORE_CEDAR  \\\n",
       "weight           key                                                                         \n",
       "Inverted-Shannon aa_props-icore_blsm_mut_score-ratio_rank-EL_ran...                 0.0026   \n",
       "                 aa_props-icore_mut_score-ratio_rank-EL_rank_wt_...                 0.0025   \n",
       "                 aa_props-icore_dissimilarity_score-icore_mut_sc...                 0.0025   \n",
       "\n",
       "                                                                     pval_base_ICORE_PRIME  \n",
       "weight           key                                                                        \n",
       "Inverted-Shannon aa_props-icore_blsm_mut_score-ratio_rank-EL_ran...                 0.9497  \n",
       "                 aa_props-icore_mut_score-ratio_rank-EL_rank_wt_...                 0.9602  \n",
       "                 aa_props-icore_dissimilarity_score-icore_mut_sc...                 0.9286  "
      ]
     },
     "metadata": {},
     "output_type": "display_data"
    },
    {
     "name": "stdout",
     "output_type": "stream",
     "text": [
      "mean_auc_PRIME\n"
     ]
    },
    {
     "data": {
      "text/html": [
       "<div>\n",
       "<style scoped>\n",
       "    .dataframe tbody tr th:only-of-type {\n",
       "        vertical-align: middle;\n",
       "    }\n",
       "\n",
       "    .dataframe tbody tr th {\n",
       "        vertical-align: top;\n",
       "    }\n",
       "\n",
       "    .dataframe thead th {\n",
       "        text-align: right;\n",
       "    }\n",
       "</style>\n",
       "<table border=\"1\" class=\"dataframe\">\n",
       "  <thead>\n",
       "    <tr style=\"text-align: right;\">\n",
       "      <th></th>\n",
       "      <th></th>\n",
       "      <th>mean_auc_CEDAR</th>\n",
       "      <th>mean_auc_PRIME</th>\n",
       "      <th>mean_auc_NEPDB</th>\n",
       "      <th>pval_base_pep_CEDAR</th>\n",
       "      <th>pval_base_pep_PRIME</th>\n",
       "      <th>pval_base_ICORE_CEDAR</th>\n",
       "      <th>pval_base_ICORE_PRIME</th>\n",
       "    </tr>\n",
       "    <tr>\n",
       "      <th>weight</th>\n",
       "      <th>key</th>\n",
       "      <th></th>\n",
       "      <th></th>\n",
       "      <th></th>\n",
       "      <th></th>\n",
       "      <th></th>\n",
       "      <th></th>\n",
       "      <th></th>\n",
       "    </tr>\n",
       "  </thead>\n",
       "  <tbody>\n",
       "    <tr>\n",
       "      <th rowspan=\"3\" valign=\"top\">Mask</th>\n",
       "      <th>icore_dissimilarity_score-icore_blsm_mut_score</th>\n",
       "      <td>0.709356</td>\n",
       "      <td>0.729706</td>\n",
       "      <td>0.716671</td>\n",
       "      <td>0.2710</td>\n",
       "      <td>0.1851</td>\n",
       "      <td>0.9551</td>\n",
       "      <td>0.0676</td>\n",
       "    </tr>\n",
       "    <tr>\n",
       "      <th>icore_dissimilarity_score-icore_blsm_mut_score-Total_Gene_TPM</th>\n",
       "      <td>0.716777</td>\n",
       "      <td>0.727397</td>\n",
       "      <td>0.763450</td>\n",
       "      <td>0.1460</td>\n",
       "      <td>0.2014</td>\n",
       "      <td>0.6706</td>\n",
       "      <td>0.1129</td>\n",
       "    </tr>\n",
       "    <tr>\n",
       "      <th>icore_dissimilarity_score-icore_blsm_mut_score-Total_Scaled_Peptide_TPM</th>\n",
       "      <td>0.718161</td>\n",
       "      <td>0.726844</td>\n",
       "      <td>0.766163</td>\n",
       "      <td>0.1274</td>\n",
       "      <td>0.2040</td>\n",
       "      <td>0.5930</td>\n",
       "      <td>0.1216</td>\n",
       "    </tr>\n",
       "  </tbody>\n",
       "</table>\n",
       "</div>"
      ],
      "text/plain": [
       "                                                           mean_auc_CEDAR  \\\n",
       "weight key                                                                  \n",
       "Mask   icore_dissimilarity_score-icore_blsm_mut_score            0.709356   \n",
       "       icore_dissimilarity_score-icore_blsm_mut_score-...        0.716777   \n",
       "       icore_dissimilarity_score-icore_blsm_mut_score-...        0.718161   \n",
       "\n",
       "                                                           mean_auc_PRIME  \\\n",
       "weight key                                                                  \n",
       "Mask   icore_dissimilarity_score-icore_blsm_mut_score            0.729706   \n",
       "       icore_dissimilarity_score-icore_blsm_mut_score-...        0.727397   \n",
       "       icore_dissimilarity_score-icore_blsm_mut_score-...        0.726844   \n",
       "\n",
       "                                                           mean_auc_NEPDB  \\\n",
       "weight key                                                                  \n",
       "Mask   icore_dissimilarity_score-icore_blsm_mut_score            0.716671   \n",
       "       icore_dissimilarity_score-icore_blsm_mut_score-...        0.763450   \n",
       "       icore_dissimilarity_score-icore_blsm_mut_score-...        0.766163   \n",
       "\n",
       "                                                           pval_base_pep_CEDAR  \\\n",
       "weight key                                                                       \n",
       "Mask   icore_dissimilarity_score-icore_blsm_mut_score                   0.2710   \n",
       "       icore_dissimilarity_score-icore_blsm_mut_score-...               0.1460   \n",
       "       icore_dissimilarity_score-icore_blsm_mut_score-...               0.1274   \n",
       "\n",
       "                                                           pval_base_pep_PRIME  \\\n",
       "weight key                                                                       \n",
       "Mask   icore_dissimilarity_score-icore_blsm_mut_score                   0.1851   \n",
       "       icore_dissimilarity_score-icore_blsm_mut_score-...               0.2014   \n",
       "       icore_dissimilarity_score-icore_blsm_mut_score-...               0.2040   \n",
       "\n",
       "                                                           pval_base_ICORE_CEDAR  \\\n",
       "weight key                                                                         \n",
       "Mask   icore_dissimilarity_score-icore_blsm_mut_score                     0.9551   \n",
       "       icore_dissimilarity_score-icore_blsm_mut_score-...                 0.6706   \n",
       "       icore_dissimilarity_score-icore_blsm_mut_score-...                 0.5930   \n",
       "\n",
       "                                                           pval_base_ICORE_PRIME  \n",
       "weight key                                                                        \n",
       "Mask   icore_dissimilarity_score-icore_blsm_mut_score                     0.0676  \n",
       "       icore_dissimilarity_score-icore_blsm_mut_score-...                 0.1129  \n",
       "       icore_dissimilarity_score-icore_blsm_mut_score-...                 0.1216  "
      ]
     },
     "metadata": {},
     "output_type": "display_data"
    },
    {
     "name": "stdout",
     "output_type": "stream",
     "text": [
      "mean_auc_NEPDB\n"
     ]
    },
    {
     "data": {
      "text/html": [
       "<div>\n",
       "<style scoped>\n",
       "    .dataframe tbody tr th:only-of-type {\n",
       "        vertical-align: middle;\n",
       "    }\n",
       "\n",
       "    .dataframe tbody tr th {\n",
       "        vertical-align: top;\n",
       "    }\n",
       "\n",
       "    .dataframe thead th {\n",
       "        text-align: right;\n",
       "    }\n",
       "</style>\n",
       "<table border=\"1\" class=\"dataframe\">\n",
       "  <thead>\n",
       "    <tr style=\"text-align: right;\">\n",
       "      <th></th>\n",
       "      <th></th>\n",
       "      <th>mean_auc_CEDAR</th>\n",
       "      <th>mean_auc_PRIME</th>\n",
       "      <th>mean_auc_NEPDB</th>\n",
       "      <th>pval_base_pep_CEDAR</th>\n",
       "      <th>pval_base_pep_PRIME</th>\n",
       "      <th>pval_base_ICORE_CEDAR</th>\n",
       "      <th>pval_base_ICORE_PRIME</th>\n",
       "    </tr>\n",
       "    <tr>\n",
       "      <th>weight</th>\n",
       "      <th>key</th>\n",
       "      <th></th>\n",
       "      <th></th>\n",
       "      <th></th>\n",
       "      <th></th>\n",
       "      <th></th>\n",
       "      <th></th>\n",
       "      <th></th>\n",
       "    </tr>\n",
       "  </thead>\n",
       "  <tbody>\n",
       "    <tr>\n",
       "      <th rowspan=\"3\" valign=\"top\">Mask</th>\n",
       "      <th>icore_dissimilarity_score-Total_Scaled_Peptide_TPM</th>\n",
       "      <td>0.716449</td>\n",
       "      <td>0.721800</td>\n",
       "      <td>0.771830</td>\n",
       "      <td>0.1533</td>\n",
       "      <td>0.2280</td>\n",
       "      <td>0.6932</td>\n",
       "      <td>0.1501</td>\n",
       "    </tr>\n",
       "    <tr>\n",
       "      <th>icore_dissimilarity_score-Total_Gene_TPM</th>\n",
       "      <td>0.715999</td>\n",
       "      <td>0.720475</td>\n",
       "      <td>0.767473</td>\n",
       "      <td>0.1596</td>\n",
       "      <td>0.2347</td>\n",
       "      <td>0.7186</td>\n",
       "      <td>0.1606</td>\n",
       "    </tr>\n",
       "    <tr>\n",
       "      <th>icore_dissimilarity_score-EL_rank_wt_aligned-Total_Gene_TPM</th>\n",
       "      <td>0.713832</td>\n",
       "      <td>0.711280</td>\n",
       "      <td>0.767187</td>\n",
       "      <td>0.1916</td>\n",
       "      <td>0.2869</td>\n",
       "      <td>0.8172</td>\n",
       "      <td>0.2595</td>\n",
       "    </tr>\n",
       "  </tbody>\n",
       "</table>\n",
       "</div>"
      ],
      "text/plain": [
       "                                                           mean_auc_CEDAR  \\\n",
       "weight key                                                                  \n",
       "Mask   icore_dissimilarity_score-Total_Scaled_Peptide_TPM        0.716449   \n",
       "       icore_dissimilarity_score-Total_Gene_TPM                  0.715999   \n",
       "       icore_dissimilarity_score-EL_rank_wt_aligned-To...        0.713832   \n",
       "\n",
       "                                                           mean_auc_PRIME  \\\n",
       "weight key                                                                  \n",
       "Mask   icore_dissimilarity_score-Total_Scaled_Peptide_TPM        0.721800   \n",
       "       icore_dissimilarity_score-Total_Gene_TPM                  0.720475   \n",
       "       icore_dissimilarity_score-EL_rank_wt_aligned-To...        0.711280   \n",
       "\n",
       "                                                           mean_auc_NEPDB  \\\n",
       "weight key                                                                  \n",
       "Mask   icore_dissimilarity_score-Total_Scaled_Peptide_TPM        0.771830   \n",
       "       icore_dissimilarity_score-Total_Gene_TPM                  0.767473   \n",
       "       icore_dissimilarity_score-EL_rank_wt_aligned-To...        0.767187   \n",
       "\n",
       "                                                           pval_base_pep_CEDAR  \\\n",
       "weight key                                                                       \n",
       "Mask   icore_dissimilarity_score-Total_Scaled_Peptide_TPM               0.1533   \n",
       "       icore_dissimilarity_score-Total_Gene_TPM                         0.1596   \n",
       "       icore_dissimilarity_score-EL_rank_wt_aligned-To...               0.1916   \n",
       "\n",
       "                                                           pval_base_pep_PRIME  \\\n",
       "weight key                                                                       \n",
       "Mask   icore_dissimilarity_score-Total_Scaled_Peptide_TPM               0.2280   \n",
       "       icore_dissimilarity_score-Total_Gene_TPM                         0.2347   \n",
       "       icore_dissimilarity_score-EL_rank_wt_aligned-To...               0.2869   \n",
       "\n",
       "                                                           pval_base_ICORE_CEDAR  \\\n",
       "weight key                                                                         \n",
       "Mask   icore_dissimilarity_score-Total_Scaled_Peptide_TPM                 0.6932   \n",
       "       icore_dissimilarity_score-Total_Gene_TPM                           0.7186   \n",
       "       icore_dissimilarity_score-EL_rank_wt_aligned-To...                 0.8172   \n",
       "\n",
       "                                                           pval_base_ICORE_PRIME  \n",
       "weight key                                                                        \n",
       "Mask   icore_dissimilarity_score-Total_Scaled_Peptide_TPM                 0.1501  \n",
       "       icore_dissimilarity_score-Total_Gene_TPM                           0.1606  \n",
       "       icore_dissimilarity_score-EL_rank_wt_aligned-To...                 0.2595  "
      ]
     },
     "metadata": {},
     "output_type": "display_data"
    },
    {
     "name": "stdout",
     "output_type": "stream",
     "text": [
      "Compromise\n"
     ]
    },
    {
     "data": {
      "text/html": [
       "<div>\n",
       "<style scoped>\n",
       "    .dataframe tbody tr th:only-of-type {\n",
       "        vertical-align: middle;\n",
       "    }\n",
       "\n",
       "    .dataframe tbody tr th {\n",
       "        vertical-align: top;\n",
       "    }\n",
       "\n",
       "    .dataframe thead th {\n",
       "        text-align: right;\n",
       "    }\n",
       "</style>\n",
       "<table border=\"1\" class=\"dataframe\">\n",
       "  <thead>\n",
       "    <tr style=\"text-align: right;\">\n",
       "      <th></th>\n",
       "      <th></th>\n",
       "      <th>mean_auc_CEDAR</th>\n",
       "      <th>mean_auc_PRIME</th>\n",
       "      <th>mean_auc_NEPDB</th>\n",
       "      <th>pval_base_pep_CEDAR</th>\n",
       "      <th>pval_base_pep_PRIME</th>\n",
       "      <th>pval_base_ICORE_CEDAR</th>\n",
       "      <th>pval_base_ICORE_PRIME</th>\n",
       "    </tr>\n",
       "    <tr>\n",
       "      <th>weight</th>\n",
       "      <th>key</th>\n",
       "      <th></th>\n",
       "      <th></th>\n",
       "      <th></th>\n",
       "      <th></th>\n",
       "      <th></th>\n",
       "      <th></th>\n",
       "      <th></th>\n",
       "    </tr>\n",
       "  </thead>\n",
       "  <tbody>\n",
       "    <tr>\n",
       "      <th rowspan=\"3\" valign=\"top\">None</th>\n",
       "      <th>icore_dissimilarity_score-icore_blsm_mut_score-Total_Scaled_Peptide_TPM</th>\n",
       "      <td>0.727096</td>\n",
       "      <td>0.715249</td>\n",
       "      <td>0.742815</td>\n",
       "      <td>0.0466</td>\n",
       "      <td>0.2590</td>\n",
       "      <td>0.0354</td>\n",
       "      <td>0.1367</td>\n",
       "    </tr>\n",
       "    <tr>\n",
       "      <th>icore_dissimilarity_score-icore_blsm_mut_score-Total_Gene_TPM</th>\n",
       "      <td>0.728096</td>\n",
       "      <td>0.712474</td>\n",
       "      <td>0.748349</td>\n",
       "      <td>0.0417</td>\n",
       "      <td>0.2752</td>\n",
       "      <td>0.0209</td>\n",
       "      <td>0.1847</td>\n",
       "    </tr>\n",
       "    <tr>\n",
       "      <th>icore_dissimilarity_score-icore_blsm_mut_score-icore_mut_score-Total_Scaled_Peptide_TPM</th>\n",
       "      <td>0.724829</td>\n",
       "      <td>0.715702</td>\n",
       "      <td>0.744592</td>\n",
       "      <td>0.0621</td>\n",
       "      <td>0.2565</td>\n",
       "      <td>0.1160</td>\n",
       "      <td>0.1365</td>\n",
       "    </tr>\n",
       "  </tbody>\n",
       "</table>\n",
       "</div>"
      ],
      "text/plain": [
       "                                                           mean_auc_CEDAR  \\\n",
       "weight key                                                                  \n",
       "None   icore_dissimilarity_score-icore_blsm_mut_score-...        0.727096   \n",
       "       icore_dissimilarity_score-icore_blsm_mut_score-...        0.728096   \n",
       "       icore_dissimilarity_score-icore_blsm_mut_score-...        0.724829   \n",
       "\n",
       "                                                           mean_auc_PRIME  \\\n",
       "weight key                                                                  \n",
       "None   icore_dissimilarity_score-icore_blsm_mut_score-...        0.715249   \n",
       "       icore_dissimilarity_score-icore_blsm_mut_score-...        0.712474   \n",
       "       icore_dissimilarity_score-icore_blsm_mut_score-...        0.715702   \n",
       "\n",
       "                                                           mean_auc_NEPDB  \\\n",
       "weight key                                                                  \n",
       "None   icore_dissimilarity_score-icore_blsm_mut_score-...        0.742815   \n",
       "       icore_dissimilarity_score-icore_blsm_mut_score-...        0.748349   \n",
       "       icore_dissimilarity_score-icore_blsm_mut_score-...        0.744592   \n",
       "\n",
       "                                                           pval_base_pep_CEDAR  \\\n",
       "weight key                                                                       \n",
       "None   icore_dissimilarity_score-icore_blsm_mut_score-...               0.0466   \n",
       "       icore_dissimilarity_score-icore_blsm_mut_score-...               0.0417   \n",
       "       icore_dissimilarity_score-icore_blsm_mut_score-...               0.0621   \n",
       "\n",
       "                                                           pval_base_pep_PRIME  \\\n",
       "weight key                                                                       \n",
       "None   icore_dissimilarity_score-icore_blsm_mut_score-...               0.2590   \n",
       "       icore_dissimilarity_score-icore_blsm_mut_score-...               0.2752   \n",
       "       icore_dissimilarity_score-icore_blsm_mut_score-...               0.2565   \n",
       "\n",
       "                                                           pval_base_ICORE_CEDAR  \\\n",
       "weight key                                                                         \n",
       "None   icore_dissimilarity_score-icore_blsm_mut_score-...                 0.0354   \n",
       "       icore_dissimilarity_score-icore_blsm_mut_score-...                 0.0209   \n",
       "       icore_dissimilarity_score-icore_blsm_mut_score-...                 0.1160   \n",
       "\n",
       "                                                           pval_base_ICORE_PRIME  \n",
       "weight key                                                                        \n",
       "None   icore_dissimilarity_score-icore_blsm_mut_score-...                 0.1367  \n",
       "       icore_dissimilarity_score-icore_blsm_mut_score-...                 0.1847  \n",
       "       icore_dissimilarity_score-icore_blsm_mut_score-...                 0.1365  "
      ]
     },
     "metadata": {},
     "output_type": "display_data"
    }
   ],
   "source": [
    "print('mean_auc_CEDAR')\n",
    "display(gb_merged.sort_values('mean_auc_CEDAR', ascending=False).head(3)[['mean_auc_CEDAR', 'mean_auc_PRIME', 'mean_auc_NEPDB', 'pval_base_pep_CEDAR', 'pval_base_pep_PRIME', 'pval_base_ICORE_CEDAR', 'pval_base_ICORE_PRIME']])\n",
    "\n",
    "print('mean_auc_PRIME')\n",
    "display(gb_merged.sort_values('mean_auc_PRIME', ascending=False).head(3)[['mean_auc_CEDAR', 'mean_auc_PRIME', 'mean_auc_NEPDB', 'pval_base_pep_CEDAR', 'pval_base_pep_PRIME', 'pval_base_ICORE_CEDAR', 'pval_base_ICORE_PRIME']])\n",
    "\n",
    "print('mean_auc_NEPDB')\n",
    "display(gb_merged.sort_values('mean_auc_NEPDB', ascending=False).head(3)[['mean_auc_CEDAR', 'mean_auc_PRIME', 'mean_auc_NEPDB', 'pval_base_pep_CEDAR', 'pval_base_pep_PRIME', 'pval_base_ICORE_CEDAR', 'pval_base_ICORE_PRIME']])\n",
    "\n",
    "print('Compromise')\n",
    "display(gb_merged.sort_values('Compromise', ascending=False).head(3)[['mean_auc_CEDAR', 'mean_auc_PRIME', 'mean_auc_NEPDB', 'pval_base_pep_CEDAR', 'pval_base_pep_PRIME', 'pval_base_ICORE_CEDAR', 'pval_base_ICORE_PRIME']])"
   ]
  },
  {
   "cell_type": "code",
   "execution_count": 283,
   "id": "022ebb1f-3bbc-456a-b06a-6415c4d5acbd",
   "metadata": {},
   "outputs": [
    {
     "name": "stdout",
     "output_type": "stream",
     "text": [
      "CEDAR pep p= 0.0048000000000000265 siglevel= **\n"
     ]
    },
    {
     "data": {
      "text/html": [
       "<div>\n",
       "<style scoped>\n",
       "    .dataframe tbody tr th:only-of-type {\n",
       "        vertical-align: middle;\n",
       "    }\n",
       "\n",
       "    .dataframe tbody tr th {\n",
       "        vertical-align: top;\n",
       "    }\n",
       "\n",
       "    .dataframe thead th {\n",
       "        text-align: right;\n",
       "    }\n",
       "</style>\n",
       "<table border=\"1\" class=\"dataframe\">\n",
       "  <thead>\n",
       "    <tr style=\"text-align: right;\">\n",
       "      <th></th>\n",
       "      <th></th>\n",
       "      <th>mean_auc_CEDAR</th>\n",
       "      <th>mean_auc01_CEDAR</th>\n",
       "      <th>mean_auc_PRIME</th>\n",
       "      <th>mean_auc01_PRIME</th>\n",
       "      <th>mean_auc_NEPDB</th>\n",
       "      <th>mean_auc01_NEPDB</th>\n",
       "    </tr>\n",
       "    <tr>\n",
       "      <th>weight</th>\n",
       "      <th>key</th>\n",
       "      <th></th>\n",
       "      <th></th>\n",
       "      <th></th>\n",
       "      <th></th>\n",
       "      <th></th>\n",
       "      <th></th>\n",
       "    </tr>\n",
       "  </thead>\n",
       "  <tbody>\n",
       "    <tr>\n",
       "      <th>Inverted-Shannon</th>\n",
       "      <th>aa_props-icore_blsm_mut_score-ratio_rank-EL_rank_wt_aligned-Total_Gene_TPM</th>\n",
       "      <td>0.742097</td>\n",
       "      <td>0.58291</td>\n",
       "      <td>0.645949</td>\n",
       "      <td>0.516338</td>\n",
       "      <td>0.671633</td>\n",
       "      <td>0.524719</td>\n",
       "    </tr>\n",
       "  </tbody>\n",
       "</table>\n",
       "</div>"
      ],
      "text/plain": [
       "                                                                     mean_auc_CEDAR  \\\n",
       "weight           key                                                                  \n",
       "Inverted-Shannon aa_props-icore_blsm_mut_score-ratio_rank-EL_ran...        0.742097   \n",
       "\n",
       "                                                                     mean_auc01_CEDAR  \\\n",
       "weight           key                                                                    \n",
       "Inverted-Shannon aa_props-icore_blsm_mut_score-ratio_rank-EL_ran...           0.58291   \n",
       "\n",
       "                                                                     mean_auc_PRIME  \\\n",
       "weight           key                                                                  \n",
       "Inverted-Shannon aa_props-icore_blsm_mut_score-ratio_rank-EL_ran...        0.645949   \n",
       "\n",
       "                                                                     mean_auc01_PRIME  \\\n",
       "weight           key                                                                    \n",
       "Inverted-Shannon aa_props-icore_blsm_mut_score-ratio_rank-EL_ran...          0.516338   \n",
       "\n",
       "                                                                     mean_auc_NEPDB  \\\n",
       "weight           key                                                                  \n",
       "Inverted-Shannon aa_props-icore_blsm_mut_score-ratio_rank-EL_ran...        0.671633   \n",
       "\n",
       "                                                                     mean_auc01_NEPDB  \n",
       "weight           key                                                                   \n",
       "Inverted-Shannon aa_props-icore_blsm_mut_score-ratio_rank-EL_ran...          0.524719  "
      ]
     },
     "metadata": {},
     "output_type": "display_data"
    },
    {
     "name": "stdout",
     "output_type": "stream",
     "text": [
      "CEDAR ICORE p= 0.0026000000000000467 siglevel= **\n"
     ]
    },
    {
     "data": {
      "text/html": [
       "<div>\n",
       "<style scoped>\n",
       "    .dataframe tbody tr th:only-of-type {\n",
       "        vertical-align: middle;\n",
       "    }\n",
       "\n",
       "    .dataframe tbody tr th {\n",
       "        vertical-align: top;\n",
       "    }\n",
       "\n",
       "    .dataframe thead th {\n",
       "        text-align: right;\n",
       "    }\n",
       "</style>\n",
       "<table border=\"1\" class=\"dataframe\">\n",
       "  <thead>\n",
       "    <tr style=\"text-align: right;\">\n",
       "      <th></th>\n",
       "      <th></th>\n",
       "      <th>mean_auc_CEDAR</th>\n",
       "      <th>mean_auc01_CEDAR</th>\n",
       "      <th>mean_auc_PRIME</th>\n",
       "      <th>mean_auc01_PRIME</th>\n",
       "      <th>mean_auc_NEPDB</th>\n",
       "      <th>mean_auc01_NEPDB</th>\n",
       "    </tr>\n",
       "    <tr>\n",
       "      <th>weight</th>\n",
       "      <th>key</th>\n",
       "      <th></th>\n",
       "      <th></th>\n",
       "      <th></th>\n",
       "      <th></th>\n",
       "      <th></th>\n",
       "      <th></th>\n",
       "    </tr>\n",
       "  </thead>\n",
       "  <tbody>\n",
       "    <tr>\n",
       "      <th>Inverted-Shannon</th>\n",
       "      <th>aa_props-icore_blsm_mut_score-ratio_rank-EL_rank_wt_aligned-Total_Gene_TPM</th>\n",
       "      <td>0.742097</td>\n",
       "      <td>0.58291</td>\n",
       "      <td>0.645949</td>\n",
       "      <td>0.516338</td>\n",
       "      <td>0.671633</td>\n",
       "      <td>0.524719</td>\n",
       "    </tr>\n",
       "  </tbody>\n",
       "</table>\n",
       "</div>"
      ],
      "text/plain": [
       "                                                                     mean_auc_CEDAR  \\\n",
       "weight           key                                                                  \n",
       "Inverted-Shannon aa_props-icore_blsm_mut_score-ratio_rank-EL_ran...        0.742097   \n",
       "\n",
       "                                                                     mean_auc01_CEDAR  \\\n",
       "weight           key                                                                    \n",
       "Inverted-Shannon aa_props-icore_blsm_mut_score-ratio_rank-EL_ran...           0.58291   \n",
       "\n",
       "                                                                     mean_auc_PRIME  \\\n",
       "weight           key                                                                  \n",
       "Inverted-Shannon aa_props-icore_blsm_mut_score-ratio_rank-EL_ran...        0.645949   \n",
       "\n",
       "                                                                     mean_auc01_PRIME  \\\n",
       "weight           key                                                                    \n",
       "Inverted-Shannon aa_props-icore_blsm_mut_score-ratio_rank-EL_ran...          0.516338   \n",
       "\n",
       "                                                                     mean_auc_NEPDB  \\\n",
       "weight           key                                                                  \n",
       "Inverted-Shannon aa_props-icore_blsm_mut_score-ratio_rank-EL_ran...        0.671633   \n",
       "\n",
       "                                                                     mean_auc01_NEPDB  \n",
       "weight           key                                                                   \n",
       "Inverted-Shannon aa_props-icore_blsm_mut_score-ratio_rank-EL_ran...          0.524719  "
      ]
     },
     "metadata": {},
     "output_type": "display_data"
    },
    {
     "name": "stdout",
     "output_type": "stream",
     "text": [
      "PRIME pep p= 0.18510000000000004 siglevel= ns\n"
     ]
    },
    {
     "data": {
      "text/html": [
       "<div>\n",
       "<style scoped>\n",
       "    .dataframe tbody tr th:only-of-type {\n",
       "        vertical-align: middle;\n",
       "    }\n",
       "\n",
       "    .dataframe tbody tr th {\n",
       "        vertical-align: top;\n",
       "    }\n",
       "\n",
       "    .dataframe thead th {\n",
       "        text-align: right;\n",
       "    }\n",
       "</style>\n",
       "<table border=\"1\" class=\"dataframe\">\n",
       "  <thead>\n",
       "    <tr style=\"text-align: right;\">\n",
       "      <th></th>\n",
       "      <th></th>\n",
       "      <th>mean_auc_CEDAR</th>\n",
       "      <th>mean_auc01_CEDAR</th>\n",
       "      <th>mean_auc_PRIME</th>\n",
       "      <th>mean_auc01_PRIME</th>\n",
       "      <th>mean_auc_NEPDB</th>\n",
       "      <th>mean_auc01_NEPDB</th>\n",
       "    </tr>\n",
       "    <tr>\n",
       "      <th>weight</th>\n",
       "      <th>key</th>\n",
       "      <th></th>\n",
       "      <th></th>\n",
       "      <th></th>\n",
       "      <th></th>\n",
       "      <th></th>\n",
       "      <th></th>\n",
       "    </tr>\n",
       "  </thead>\n",
       "  <tbody>\n",
       "    <tr>\n",
       "      <th>Mask</th>\n",
       "      <th>icore_dissimilarity_score-icore_blsm_mut_score</th>\n",
       "      <td>0.709356</td>\n",
       "      <td>0.565538</td>\n",
       "      <td>0.729706</td>\n",
       "      <td>0.594233</td>\n",
       "      <td>0.716671</td>\n",
       "      <td>0.615072</td>\n",
       "    </tr>\n",
       "  </tbody>\n",
       "</table>\n",
       "</div>"
      ],
      "text/plain": [
       "                                                       mean_auc_CEDAR  \\\n",
       "weight key                                                              \n",
       "Mask   icore_dissimilarity_score-icore_blsm_mut_score        0.709356   \n",
       "\n",
       "                                                       mean_auc01_CEDAR  \\\n",
       "weight key                                                                \n",
       "Mask   icore_dissimilarity_score-icore_blsm_mut_score          0.565538   \n",
       "\n",
       "                                                       mean_auc_PRIME  \\\n",
       "weight key                                                              \n",
       "Mask   icore_dissimilarity_score-icore_blsm_mut_score        0.729706   \n",
       "\n",
       "                                                       mean_auc01_PRIME  \\\n",
       "weight key                                                                \n",
       "Mask   icore_dissimilarity_score-icore_blsm_mut_score          0.594233   \n",
       "\n",
       "                                                       mean_auc_NEPDB  \\\n",
       "weight key                                                              \n",
       "Mask   icore_dissimilarity_score-icore_blsm_mut_score        0.716671   \n",
       "\n",
       "                                                       mean_auc01_NEPDB  \n",
       "weight key                                                               \n",
       "Mask   icore_dissimilarity_score-icore_blsm_mut_score          0.615072  "
      ]
     },
     "metadata": {},
     "output_type": "display_data"
    },
    {
     "name": "stdout",
     "output_type": "stream",
     "text": [
      "PRIME ICORE p= 0.057499999999999996 siglevel= ns\n"
     ]
    },
    {
     "data": {
      "text/html": [
       "<div>\n",
       "<style scoped>\n",
       "    .dataframe tbody tr th:only-of-type {\n",
       "        vertical-align: middle;\n",
       "    }\n",
       "\n",
       "    .dataframe tbody tr th {\n",
       "        vertical-align: top;\n",
       "    }\n",
       "\n",
       "    .dataframe thead th {\n",
       "        text-align: right;\n",
       "    }\n",
       "</style>\n",
       "<table border=\"1\" class=\"dataframe\">\n",
       "  <thead>\n",
       "    <tr style=\"text-align: right;\">\n",
       "      <th></th>\n",
       "      <th></th>\n",
       "      <th>mean_auc_CEDAR</th>\n",
       "      <th>mean_auc01_CEDAR</th>\n",
       "      <th>mean_auc_PRIME</th>\n",
       "      <th>mean_auc01_PRIME</th>\n",
       "      <th>mean_auc_NEPDB</th>\n",
       "      <th>mean_auc01_NEPDB</th>\n",
       "    </tr>\n",
       "    <tr>\n",
       "      <th>weight</th>\n",
       "      <th>key</th>\n",
       "      <th></th>\n",
       "      <th></th>\n",
       "      <th></th>\n",
       "      <th></th>\n",
       "      <th></th>\n",
       "      <th></th>\n",
       "    </tr>\n",
       "  </thead>\n",
       "  <tbody>\n",
       "    <tr>\n",
       "      <th>None</th>\n",
       "      <th>icore_dissimilarity_score</th>\n",
       "      <td>0.718875</td>\n",
       "      <td>0.58395</td>\n",
       "      <td>0.712911</td>\n",
       "      <td>0.581058</td>\n",
       "      <td>0.707693</td>\n",
       "      <td>0.588372</td>\n",
       "    </tr>\n",
       "  </tbody>\n",
       "</table>\n",
       "</div>"
      ],
      "text/plain": [
       "                                  mean_auc_CEDAR  mean_auc01_CEDAR  \\\n",
       "weight key                                                           \n",
       "None   icore_dissimilarity_score        0.718875           0.58395   \n",
       "\n",
       "                                  mean_auc_PRIME  mean_auc01_PRIME  \\\n",
       "weight key                                                           \n",
       "None   icore_dissimilarity_score        0.712911          0.581058   \n",
       "\n",
       "                                  mean_auc_NEPDB  mean_auc01_NEPDB  \n",
       "weight key                                                          \n",
       "None   icore_dissimilarity_score        0.707693          0.588372  "
      ]
     },
     "metadata": {},
     "output_type": "display_data"
    }
   ],
   "source": [
    "for evalset in ['CEDAR', 'PRIME']:\n",
    "    for input_ in ['pep', 'ICORE']:\n",
    "        df = gb_merged.query(f'pval_base_{input_}_{evalset} < 0.05').sort_values(f'mean_auc_{evalset}', ascending=False).head(1)\n",
    "        if len(df)==0:\n",
    "            df = gb_merged.loc[[gb_merged[f'pval_base_{input_}_{evalset}'].idxmin()]]\n",
    "        print(evalset, input_, 'p=', df[f'pval_base_{input_}_{evalset}'].item(), 'siglevel=', df[f'sig_base_{input_}_{evalset}'].item())\n",
    "        display(df[['mean_auc_CEDAR', 'mean_auc01_CEDAR', 'mean_auc_PRIME', 'mean_auc01_PRIME', 'mean_auc_NEPDB', 'mean_auc01_NEPDB']])"
   ]
  },
  {
   "cell_type": "code",
   "execution_count": 296,
   "id": "0a322945-8e0e-4f52-b218-7d90832686d0",
   "metadata": {},
   "outputs": [
    {
     "data": {
      "text/plain": [
       "0.6991585586013985"
      ]
     },
     "execution_count": 296,
     "metadata": {},
     "output_type": "execute_result"
    }
   ],
   "source": [
    "base['Peptide']['CEDAR'].auc.mean()"
   ]
  },
  {
   "cell_type": "code",
   "execution_count": 301,
   "id": "afca5562-34bf-43cc-91a1-f3248bd3efab",
   "metadata": {},
   "outputs": [
    {
     "data": {
      "text/plain": [
       "1832.0"
      ]
     },
     "execution_count": 301,
     "metadata": {},
     "output_type": "execute_result"
    }
   ],
   "source": [
    "len(cedar_aligned.query('agg_label==0'))/2 + len(cedar_aligned.query('agg_label==1'))"
   ]
  },
  {
   "cell_type": "code",
   "execution_count": 282,
   "id": "5eafce55-debd-4383-84b7-f969a4c393b7",
   "metadata": {},
   "outputs": [
    {
     "data": {
      "text/html": [
       "<div>\n",
       "<style scoped>\n",
       "    .dataframe tbody tr th:only-of-type {\n",
       "        vertical-align: middle;\n",
       "    }\n",
       "\n",
       "    .dataframe tbody tr th {\n",
       "        vertical-align: top;\n",
       "    }\n",
       "\n",
       "    .dataframe thead th {\n",
       "        text-align: right;\n",
       "    }\n",
       "</style>\n",
       "<table border=\"1\" class=\"dataframe\">\n",
       "  <thead>\n",
       "    <tr style=\"text-align: right;\">\n",
       "      <th></th>\n",
       "      <th></th>\n",
       "      <th>mean_auc_CEDAR</th>\n",
       "      <th>mean_auc_PRIME</th>\n",
       "      <th>mean_auc_NEPDB</th>\n",
       "      <th>pval_base_ICORE_CEDAR</th>\n",
       "      <th>pval_base_ICORE_PRIME</th>\n",
       "    </tr>\n",
       "    <tr>\n",
       "      <th>weight</th>\n",
       "      <th>key</th>\n",
       "      <th></th>\n",
       "      <th></th>\n",
       "      <th></th>\n",
       "      <th></th>\n",
       "      <th></th>\n",
       "    </tr>\n",
       "  </thead>\n",
       "  <tbody>\n",
       "    <tr>\n",
       "      <th rowspan=\"6\" valign=\"top\">Mask</th>\n",
       "      <th>icore_dissimilarity_score-Total_Scaled_Peptide_TPM</th>\n",
       "      <td>0.716449</td>\n",
       "      <td>0.721800</td>\n",
       "      <td>0.771830</td>\n",
       "      <td>0.6932</td>\n",
       "      <td>0.1501</td>\n",
       "    </tr>\n",
       "    <tr>\n",
       "      <th>icore_dissimilarity_score-Total_Gene_TPM</th>\n",
       "      <td>0.715999</td>\n",
       "      <td>0.720475</td>\n",
       "      <td>0.767473</td>\n",
       "      <td>0.7186</td>\n",
       "      <td>0.1606</td>\n",
       "    </tr>\n",
       "    <tr>\n",
       "      <th>icore_dissimilarity_score-EL_rank_wt_aligned-Total_Gene_TPM</th>\n",
       "      <td>0.713832</td>\n",
       "      <td>0.711280</td>\n",
       "      <td>0.767187</td>\n",
       "      <td>0.8172</td>\n",
       "      <td>0.2595</td>\n",
       "    </tr>\n",
       "    <tr>\n",
       "      <th>icore_dissimilarity_score-icore_mut_score-Total_Scaled_Peptide_TPM</th>\n",
       "      <td>0.717287</td>\n",
       "      <td>0.720081</td>\n",
       "      <td>0.767121</td>\n",
       "      <td>0.6470</td>\n",
       "      <td>0.1661</td>\n",
       "    </tr>\n",
       "    <tr>\n",
       "      <th>icore_dissimilarity_score-icore_blsm_mut_score-Total_Scaled_Peptide_TPM</th>\n",
       "      <td>0.718161</td>\n",
       "      <td>0.726844</td>\n",
       "      <td>0.766163</td>\n",
       "      <td>0.5930</td>\n",
       "      <td>0.1216</td>\n",
       "    </tr>\n",
       "    <tr>\n",
       "      <th>icore_dissimilarity_score-Total_Peptide_TPM</th>\n",
       "      <td>0.715753</td>\n",
       "      <td>0.720168</td>\n",
       "      <td>0.765984</td>\n",
       "      <td>0.7320</td>\n",
       "      <td>0.1635</td>\n",
       "    </tr>\n",
       "    <tr>\n",
       "      <th>None</th>\n",
       "      <th>icore_dissimilarity_score-icore_mut_score-EL_rank_wt_aligned-Total_Gene_TPM</th>\n",
       "      <td>0.720466</td>\n",
       "      <td>0.704516</td>\n",
       "      <td>0.765172</td>\n",
       "      <td>0.4364</td>\n",
       "      <td>0.3117</td>\n",
       "    </tr>\n",
       "    <tr>\n",
       "      <th rowspan=\"2\" valign=\"top\">Mask</th>\n",
       "      <th>icore_dissimilarity_score-icore_mut_score-Total_Gene_TPM</th>\n",
       "      <td>0.716257</td>\n",
       "      <td>0.719971</td>\n",
       "      <td>0.764961</td>\n",
       "      <td>0.7043</td>\n",
       "      <td>0.1650</td>\n",
       "    </tr>\n",
       "    <tr>\n",
       "      <th>icore_dissimilarity_score-icore_blsm_mut_score-icore_mut_score-Total_Scaled_Peptide_TPM</th>\n",
       "      <td>0.717218</td>\n",
       "      <td>0.724963</td>\n",
       "      <td>0.764887</td>\n",
       "      <td>0.6420</td>\n",
       "      <td>0.1330</td>\n",
       "    </tr>\n",
       "    <tr>\n",
       "      <th>None</th>\n",
       "      <th>icore_dissimilarity_score-EL_rank_wt_aligned-Total_Gene_TPM</th>\n",
       "      <td>0.722761</td>\n",
       "      <td>0.703395</td>\n",
       "      <td>0.764199</td>\n",
       "      <td>0.2374</td>\n",
       "      <td>0.3293</td>\n",
       "    </tr>\n",
       "  </tbody>\n",
       "</table>\n",
       "</div>"
      ],
      "text/plain": [
       "                                                           mean_auc_CEDAR  \\\n",
       "weight key                                                                  \n",
       "Mask   icore_dissimilarity_score-Total_Scaled_Peptide_TPM        0.716449   \n",
       "       icore_dissimilarity_score-Total_Gene_TPM                  0.715999   \n",
       "       icore_dissimilarity_score-EL_rank_wt_aligned-To...        0.713832   \n",
       "       icore_dissimilarity_score-icore_mut_score-Total...        0.717287   \n",
       "       icore_dissimilarity_score-icore_blsm_mut_score-...        0.718161   \n",
       "       icore_dissimilarity_score-Total_Peptide_TPM               0.715753   \n",
       "None   icore_dissimilarity_score-icore_mut_score-EL_ra...        0.720466   \n",
       "Mask   icore_dissimilarity_score-icore_mut_score-Total...        0.716257   \n",
       "       icore_dissimilarity_score-icore_blsm_mut_score-...        0.717218   \n",
       "None   icore_dissimilarity_score-EL_rank_wt_aligned-To...        0.722761   \n",
       "\n",
       "                                                           mean_auc_PRIME  \\\n",
       "weight key                                                                  \n",
       "Mask   icore_dissimilarity_score-Total_Scaled_Peptide_TPM        0.721800   \n",
       "       icore_dissimilarity_score-Total_Gene_TPM                  0.720475   \n",
       "       icore_dissimilarity_score-EL_rank_wt_aligned-To...        0.711280   \n",
       "       icore_dissimilarity_score-icore_mut_score-Total...        0.720081   \n",
       "       icore_dissimilarity_score-icore_blsm_mut_score-...        0.726844   \n",
       "       icore_dissimilarity_score-Total_Peptide_TPM               0.720168   \n",
       "None   icore_dissimilarity_score-icore_mut_score-EL_ra...        0.704516   \n",
       "Mask   icore_dissimilarity_score-icore_mut_score-Total...        0.719971   \n",
       "       icore_dissimilarity_score-icore_blsm_mut_score-...        0.724963   \n",
       "None   icore_dissimilarity_score-EL_rank_wt_aligned-To...        0.703395   \n",
       "\n",
       "                                                           mean_auc_NEPDB  \\\n",
       "weight key                                                                  \n",
       "Mask   icore_dissimilarity_score-Total_Scaled_Peptide_TPM        0.771830   \n",
       "       icore_dissimilarity_score-Total_Gene_TPM                  0.767473   \n",
       "       icore_dissimilarity_score-EL_rank_wt_aligned-To...        0.767187   \n",
       "       icore_dissimilarity_score-icore_mut_score-Total...        0.767121   \n",
       "       icore_dissimilarity_score-icore_blsm_mut_score-...        0.766163   \n",
       "       icore_dissimilarity_score-Total_Peptide_TPM               0.765984   \n",
       "None   icore_dissimilarity_score-icore_mut_score-EL_ra...        0.765172   \n",
       "Mask   icore_dissimilarity_score-icore_mut_score-Total...        0.764961   \n",
       "       icore_dissimilarity_score-icore_blsm_mut_score-...        0.764887   \n",
       "None   icore_dissimilarity_score-EL_rank_wt_aligned-To...        0.764199   \n",
       "\n",
       "                                                           pval_base_ICORE_CEDAR  \\\n",
       "weight key                                                                         \n",
       "Mask   icore_dissimilarity_score-Total_Scaled_Peptide_TPM                 0.6932   \n",
       "       icore_dissimilarity_score-Total_Gene_TPM                           0.7186   \n",
       "       icore_dissimilarity_score-EL_rank_wt_aligned-To...                 0.8172   \n",
       "       icore_dissimilarity_score-icore_mut_score-Total...                 0.6470   \n",
       "       icore_dissimilarity_score-icore_blsm_mut_score-...                 0.5930   \n",
       "       icore_dissimilarity_score-Total_Peptide_TPM                        0.7320   \n",
       "None   icore_dissimilarity_score-icore_mut_score-EL_ra...                 0.4364   \n",
       "Mask   icore_dissimilarity_score-icore_mut_score-Total...                 0.7043   \n",
       "       icore_dissimilarity_score-icore_blsm_mut_score-...                 0.6420   \n",
       "None   icore_dissimilarity_score-EL_rank_wt_aligned-To...                 0.2374   \n",
       "\n",
       "                                                           pval_base_ICORE_PRIME  \n",
       "weight key                                                                        \n",
       "Mask   icore_dissimilarity_score-Total_Scaled_Peptide_TPM                 0.1501  \n",
       "       icore_dissimilarity_score-Total_Gene_TPM                           0.1606  \n",
       "       icore_dissimilarity_score-EL_rank_wt_aligned-To...                 0.2595  \n",
       "       icore_dissimilarity_score-icore_mut_score-Total...                 0.1661  \n",
       "       icore_dissimilarity_score-icore_blsm_mut_score-...                 0.1216  \n",
       "       icore_dissimilarity_score-Total_Peptide_TPM                        0.1635  \n",
       "None   icore_dissimilarity_score-icore_mut_score-EL_ra...                 0.3117  \n",
       "Mask   icore_dissimilarity_score-icore_mut_score-Total...                 0.1650  \n",
       "       icore_dissimilarity_score-icore_blsm_mut_score-...                 0.1330  \n",
       "None   icore_dissimilarity_score-EL_rank_wt_aligned-To...                 0.3293  "
      ]
     },
     "execution_count": 282,
     "metadata": {},
     "output_type": "execute_result"
    }
   ],
   "source": [
    "gb_merged.sort_values('mean_auc_NEPDB', ascending=False).head(10)[['mean_auc_CEDAR', 'mean_auc_PRIME', 'mean_auc_NEPDB', 'pval_base_ICORE_CEDAR', 'pval_base_ICORE_PRIME']]"
   ]
  },
  {
   "cell_type": "markdown",
   "id": "a898c8b4-16a7-4b8c-9c13-c3b21b6c487f",
   "metadata": {
    "jp-MarkdownHeadingCollapsed": true,
    "tags": []
   },
   "source": [
    "# DETOUR: BUGFIX FOR PU LEARNING WTF"
   ]
  },
  {
   "cell_type": "code",
   "execution_count": 377,
   "id": "0ceb4b50-fcc3-4203-990f-ba7e43c3fcf0",
   "metadata": {},
   "outputs": [],
   "source": [
    "from src.data_processing import encode_batch_weighted, encode_batch"
   ]
  },
  {
   "cell_type": "code",
   "execution_count": 302,
   "id": "c0265170-2da6-40b3-a3e0-e198e0c93910",
   "metadata": {},
   "outputs": [],
   "source": [
    "train = cedar_aligned_expr.query('fold != 5 and fold != 7')"
   ]
  },
  {
   "cell_type": "code",
   "execution_count": 304,
   "id": "afae9a5f-1b21-4152-96ec-2b686a1f4387",
   "metadata": {},
   "outputs": [],
   "source": [
    "tmp = pd.concat([train.query('agg_label==1'), train.query('agg_label==0').sample(frac=1.0, random_state=3, replace=True)])"
   ]
  },
  {
   "cell_type": "code",
   "execution_count": 361,
   "id": "64a77fae-b8ca-47a8-a1cb-fadb410650ae",
   "metadata": {
    "collapsed": true,
    "jupyter": {
     "outputs_hidden": true
    },
    "tags": []
   },
   "outputs": [
    {
     "ename": "ValueError",
     "evalue": "operands could not be broadcast together with shapes (184,20) (183,1) ",
     "output_type": "error",
     "traceback": [
      "\u001b[0;31m---------------------------------------------------------------------------\u001b[0m",
      "\u001b[0;31mValueError\u001b[0m                                Traceback (most recent call last)",
      "Input \u001b[0;32mIn [361]\u001b[0m, in \u001b[0;36m<cell line: 5>\u001b[0;34m()\u001b[0m\n\u001b[1;32m      1\u001b[0m encoding_kwargs \u001b[38;5;241m=\u001b[39m {\u001b[38;5;124m'\u001b[39m\u001b[38;5;124mmax_len\u001b[39m\u001b[38;5;124m'\u001b[39m: \u001b[38;5;241m12\u001b[39m, \u001b[38;5;124m'\u001b[39m\u001b[38;5;124mencoding\u001b[39m\u001b[38;5;124m'\u001b[39m: \u001b[38;5;124m'\u001b[39m\u001b[38;5;124monehot\u001b[39m\u001b[38;5;124m'\u001b[39m, \u001b[38;5;124m'\u001b[39m\u001b[38;5;124mblosum_matrix\u001b[39m\u001b[38;5;124m'\u001b[39m: \u001b[38;5;124m'\u001b[39m\u001b[38;5;124mNone\u001b[39m\u001b[38;5;124m'\u001b[39m, \u001b[38;5;124m'\u001b[39m\u001b[38;5;124madd_rank\u001b[39m\u001b[38;5;124m'\u001b[39m: \u001b[38;5;28;01mTrue\u001b[39;00m, \u001b[38;5;124m'\u001b[39m\u001b[38;5;124mseq_col\u001b[39m\u001b[38;5;124m'\u001b[39m: \u001b[38;5;124m'\u001b[39m\u001b[38;5;124micore_mut\u001b[39m\u001b[38;5;124m'\u001b[39m, \u001b[38;5;124m'\u001b[39m\u001b[38;5;124mrank_col\u001b[39m\u001b[38;5;124m'\u001b[39m: \u001b[38;5;124m'\u001b[39m\u001b[38;5;124mEL_rank_mut\u001b[39m\u001b[38;5;124m'\u001b[39m,\n\u001b[1;32m      2\u001b[0m                    \u001b[38;5;124m'\u001b[39m\u001b[38;5;124mtarget_col\u001b[39m\u001b[38;5;124m'\u001b[39m: \u001b[38;5;124m'\u001b[39m\u001b[38;5;124magg_label\u001b[39m\u001b[38;5;124m'\u001b[39m, \u001b[38;5;124m'\u001b[39m\u001b[38;5;124mhla_col\u001b[39m\u001b[38;5;124m'\u001b[39m: \u001b[38;5;124m'\u001b[39m\u001b[38;5;124mHLA\u001b[39m\u001b[38;5;124m'\u001b[39m, \u001b[38;5;124m'\u001b[39m\u001b[38;5;124madd_aaprop\u001b[39m\u001b[38;5;124m'\u001b[39m: \u001b[38;5;28;01mFalse\u001b[39;00m, \u001b[38;5;124m'\u001b[39m\u001b[38;5;124mremove_pep\u001b[39m\u001b[38;5;124m'\u001b[39m: \u001b[38;5;28;01mFalse\u001b[39;00m, \u001b[38;5;124m'\u001b[39m\u001b[38;5;124mmask\u001b[39m\u001b[38;5;124m'\u001b[39m: \u001b[38;5;28;01mFalse\u001b[39;00m, \u001b[38;5;124m'\u001b[39m\u001b[38;5;124minvert\u001b[39m\u001b[38;5;124m'\u001b[39m: \u001b[38;5;28;01mFalse\u001b[39;00m, \u001b[38;5;124m'\u001b[39m\u001b[38;5;124mmut_col\u001b[39m\u001b[38;5;124m'\u001b[39m: [\u001b[38;5;124m'\u001b[39m\u001b[38;5;124micore_dissimilarity_score\u001b[39m\u001b[38;5;124m'\u001b[39m, \u001b[38;5;124m'\u001b[39m\u001b[38;5;124micore_blsm_mut_score\u001b[39m\u001b[38;5;124m'\u001b[39m, \u001b[38;5;124m'\u001b[39m\u001b[38;5;124mratio_rank\u001b[39m\u001b[38;5;124m'\u001b[39m, \u001b[38;5;124m'\u001b[39m\u001b[38;5;124mTotal_Gene_TPM\u001b[39m\u001b[38;5;124m'\u001b[39m]} \n\u001b[1;32m      4\u001b[0m get_dataset(tmp\u001b[38;5;241m.\u001b[39mquery(\u001b[38;5;124m'\u001b[39m\u001b[38;5;124micore_len_mut<12\u001b[39m\u001b[38;5;124m'\u001b[39m), \u001b[38;5;28;01mNone\u001b[39;00m, \u001b[38;5;241m*\u001b[39m\u001b[38;5;241m*\u001b[39mencoding_kwargs)\n\u001b[0;32m----> 5\u001b[0m \u001b[43mget_dataset\u001b[49m\u001b[43m(\u001b[49m\u001b[43mtmp\u001b[49m\u001b[38;5;241;43m.\u001b[39;49m\u001b[43mquery\u001b[49m\u001b[43m(\u001b[49m\u001b[38;5;124;43m'\u001b[39;49m\u001b[38;5;124;43micore_len_mut>=11\u001b[39;49m\u001b[38;5;124;43m'\u001b[39;49m\u001b[43m)\u001b[49m\u001b[43m,\u001b[49m\u001b[43m \u001b[49m\u001b[38;5;28;43;01mNone\u001b[39;49;00m\u001b[43m,\u001b[49m\u001b[43m \u001b[49m\u001b[38;5;241;43m*\u001b[39;49m\u001b[38;5;241;43m*\u001b[39;49m\u001b[43mencoding_kwargs\u001b[49m\u001b[43m)\u001b[49m\n",
      "File \u001b[0;32m~/Documents/code/cedar/src/data_processing.py:499\u001b[0m, in \u001b[0;36mget_dataset\u001b[0;34m(df, ics_dict, max_len, encoding, blosum_matrix, seq_col, hla_col, target_col, rank_col, mut_col, adaptive, mask, invert, add_rank, add_aaprop, remove_pep, mask_aa)\u001b[0m\n\u001b[1;32m    496\u001b[0m     x = np.concatenate([x_anchors, x_non], axis=0)\n\u001b[1;32m    497\u001b[0m     y = np.concatenate([y_anchors, y_non], axis=0)\n\u001b[0;32m--> 499\u001b[0m else:\n\u001b[1;32m    500\u001b[0m     x, y = get_array_dataset(df, ics_dict, max_len, encoding, blosum_matrix, seq_col, hla_col, target_col, rank_col,\n\u001b[1;32m    501\u001b[0m                              mask, invert, add_rank=add_rank, add_aaprop=add_aaprop, remove_pep=remove_pep)\n\u001b[1;32m    502\u001b[0m     if mut_col is not None and type(mut_col) == list:\n",
      "File \u001b[0;32m~/Documents/code/cedar/src/data_processing.py:439\u001b[0m, in \u001b[0;36mget_array_dataset\u001b[0;34m(df, ics_dict, max_len, encoding, blosum_matrix, seq_col, hla_col, target_col, rank_col, mask, invert, add_rank, add_aaprop, remove_pep)\u001b[0m\n\u001b[1;32m    413\u001b[0m \u001b[38;5;124;03m\"\"\"\u001b[39;00m\n\u001b[1;32m    414\u001b[0m \u001b[38;5;124;03m    Computes the frequencies as the main features\u001b[39;00m\n\u001b[1;32m    415\u001b[0m \u001b[38;5;124;03m    Takes as input a df containing sequence, len, HLA;\u001b[39;00m\n\u001b[0;32m   (...)\u001b[0m\n\u001b[1;32m    435\u001b[0m \u001b[38;5;124;03m    tensor_dataset (torch.utils.data.TensorDataset): Dataset containing the tensors X and y\u001b[39;00m\n\u001b[1;32m    436\u001b[0m \u001b[38;5;124;03m\"\"\"\u001b[39;00m\n\u001b[1;32m    437\u001b[0m \u001b[38;5;66;03m# df = verify_df(df, seq_col, hla_col, target_col)\u001b[39;00m\n\u001b[0;32m--> 439\u001b[0m x \u001b[38;5;241m=\u001b[39m \u001b[43mbatch_compute_frequency\u001b[49m\u001b[43m(\u001b[49m\u001b[43mencode_batch_weighted\u001b[49m\u001b[43m(\u001b[49m\u001b[43mdf\u001b[49m\u001b[43m,\u001b[49m\u001b[43m \u001b[49m\u001b[43mics_dict\u001b[49m\u001b[43m,\u001b[49m\u001b[43m \u001b[49m\u001b[38;5;124;43m'\u001b[39;49m\u001b[38;5;124;43mcpu\u001b[39;49m\u001b[38;5;124;43m'\u001b[39;49m\u001b[43m,\u001b[49m\u001b[43m \u001b[49m\u001b[43mmax_len\u001b[49m\u001b[43m,\u001b[49m\u001b[43m \u001b[49m\u001b[43mencoding\u001b[49m\u001b[43m,\u001b[49m\u001b[43m \u001b[49m\u001b[43mblosum_matrix\u001b[49m\u001b[43m,\u001b[49m\n\u001b[1;32m    440\u001b[0m \u001b[43m                                                  \u001b[49m\u001b[43mseq_col\u001b[49m\u001b[43m,\u001b[49m\u001b[43m \u001b[49m\u001b[43mhla_col\u001b[49m\u001b[43m,\u001b[49m\u001b[43m \u001b[49m\u001b[43mtarget_col\u001b[49m\u001b[43m,\u001b[49m\u001b[43m \u001b[49m\u001b[43mmask\u001b[49m\u001b[43m,\u001b[49m\u001b[43m \u001b[49m\u001b[43minvert\u001b[49m\u001b[43m)\u001b[49m\u001b[38;5;241;43m.\u001b[39;49m\u001b[43mnumpy\u001b[49m\u001b[43m(\u001b[49m\u001b[43m)\u001b[49m\u001b[43m)\u001b[49m\n\u001b[1;32m    441\u001b[0m \u001b[38;5;28;01mif\u001b[39;00m add_rank:\n\u001b[1;32m    442\u001b[0m     ranks \u001b[38;5;241m=\u001b[39m np\u001b[38;5;241m.\u001b[39mexpand_dims(df[rank_col]\u001b[38;5;241m.\u001b[39mvalues, \u001b[38;5;241m1\u001b[39m)\n",
      "File \u001b[0;32m~/Documents/code/cedar/src/data_processing.py:565\u001b[0m, in \u001b[0;36mbatch_compute_frequency\u001b[0;34m(encoded_sequences)\u001b[0m\n\u001b[1;32m    562\u001b[0m mask \u001b[38;5;241m=\u001b[39m (encoded_sequences \u001b[38;5;241m==\u001b[39m \u001b[38;5;241m0\u001b[39m)\u001b[38;5;241m.\u001b[39mall(\u001b[38;5;241m2\u001b[39m)  \u001b[38;5;66;03m# checking on second dim\u001b[39;00m\n\u001b[1;32m    563\u001b[0m true_lens \u001b[38;5;241m=\u001b[39m (mask\u001b[38;5;241m.\u001b[39mshape[\u001b[38;5;241m1\u001b[39m] \u001b[38;5;241m-\u001b[39m torch\u001b[38;5;241m.\u001b[39mbincount(torch\u001b[38;5;241m.\u001b[39mwhere(mask)[\u001b[38;5;241m0\u001b[39m]))\u001b[38;5;241m.\u001b[39munsqueeze(\u001b[38;5;241m1\u001b[39m) \u001b[38;5;28;01mif\u001b[39;00m \u001b[38;5;28mtype\u001b[39m(mask) \u001b[38;5;241m==\u001b[39m torch\u001b[38;5;241m.\u001b[39mTensor \u001b[38;5;28;01melse\u001b[39;00m \\\n\u001b[1;32m    564\u001b[0m     np\u001b[38;5;241m.\u001b[39mexpand_dims(mask\u001b[38;5;241m.\u001b[39mshape[\u001b[38;5;241m1\u001b[39m] \u001b[38;5;241m-\u001b[39m np\u001b[38;5;241m.\u001b[39mbincount(np\u001b[38;5;241m.\u001b[39mwhere(mask)[\u001b[38;5;241m0\u001b[39m]), \u001b[38;5;241m1\u001b[39m)\n\u001b[0;32m--> 565\u001b[0m frequencies \u001b[38;5;241m=\u001b[39m \u001b[43mencoded_sequences\u001b[49m\u001b[38;5;241;43m.\u001b[39;49m\u001b[43msum\u001b[49m\u001b[43m(\u001b[49m\u001b[43maxis\u001b[49m\u001b[38;5;241;43m=\u001b[39;49m\u001b[38;5;241;43m1\u001b[39;49m\u001b[43m)\u001b[49m\u001b[43m \u001b[49m\u001b[38;5;241;43m/\u001b[39;49m\u001b[43m \u001b[49m\u001b[43mtrue_lens\u001b[49m\n\u001b[1;32m    567\u001b[0m \u001b[38;5;28;01mreturn\u001b[39;00m frequencies\n",
      "\u001b[0;31mValueError\u001b[0m: operands could not be broadcast together with shapes (184,20) (183,1) "
     ]
    }
   ],
   "source": [
    "encoding_kwargs = {'max_len': 12, 'encoding': 'onehot', 'blosum_matrix': 'None', 'add_rank': True, 'seq_col': 'icore_mut', 'rank_col': 'EL_rank_mut',\n",
    "                   'target_col': 'agg_label', 'hla_col': 'HLA', 'add_aaprop': False, 'remove_pep': False, 'mask': False, 'invert': False, 'mut_col': ['icore_dissimilarity_score', 'icore_blsm_mut_score', 'ratio_rank', 'Total_Gene_TPM']} \n",
    "\n",
    "get_dataset(tmp.query('icore_len_mut<12'), None, **encoding_kwargs)\n",
    "get_dataset(tmp.query('icore_len_mut>=11'), None, **encoding_kwargs)"
   ]
  },
  {
   "cell_type": "code",
   "execution_count": 393,
   "id": "8ac30781-cdac-405b-9fab-3451b4860469",
   "metadata": {},
   "outputs": [
    {
     "data": {
      "text/plain": [
       "(tensor([[ 9],\n",
       "         [12],\n",
       "         [10]]),\n",
       " tensor([3, 0, 2]))"
      ]
     },
     "execution_count": 393,
     "metadata": {},
     "output_type": "execute_result"
    }
   ],
   "source": [
    "import torch\n",
    "xr = torch.from_numpy(np.random.rand(3, 12, 20))\n",
    "xr[0, 9:, :] = 0\n",
    "xr[2, 10:, :] = 0\n",
    "mask = (xr == 0).all(2)\n",
    "true_lens = (mask.shape[1] - torch.bincount(torch.where(mask)[0])).unsqueeze(1) if type(mask) == torch.Tensor else \\\n",
    "        np.expand_dims(mask.shape[1] - np.bincount(np.where(mask)[0]), 1)\n",
    "true_lens, torch.bincount(torch.where(mask)[0])"
   ]
  },
  {
   "cell_type": "code",
   "execution_count": 394,
   "id": "fe431bc1-d05f-4e0b-8887-3af6253c6e64",
   "metadata": {},
   "outputs": [
    {
     "data": {
      "text/plain": [
       "(tensor([[ 9],\n",
       "         [10]]),\n",
       " tensor([3, 2]))"
      ]
     },
     "execution_count": 394,
     "metadata": {},
     "output_type": "execute_result"
    }
   ],
   "source": [
    "import torch\n",
    "xr = torch.from_numpy(np.random.rand(3, 12, 20))\n",
    "xr[0, 9:, :] = 0\n",
    "xr[1, 10:, :] = 0\n",
    "mask = (xr == 0).all(2)\n",
    "true_lens = (mask.shape[1] - torch.bincount(torch.where(mask)[0])).unsqueeze(1) if type(mask) == torch.Tensor else \\\n",
    "        np.expand_dims(mask.shape[1] - np.bincount(np.where(mask)[0]), 1)\n",
    "true_lens, torch.bincount(torch.where(mask)[0])"
   ]
  },
  {
   "cell_type": "code",
   "execution_count": 395,
   "id": "ddd891f8-320c-4e64-9521-0476c85e7626",
   "metadata": {},
   "outputs": [],
   "source": [
    "tmp['seq_len'] = tmp['icore_mut'].apply(len)\n",
    "true_lens = tmp['seq_len'].values"
   ]
  },
  {
   "cell_type": "code",
   "execution_count": 387,
   "id": "cb3ddf4a-71ba-4a41-9620-e1a055570126",
   "metadata": {},
   "outputs": [
    {
     "data": {
      "text/html": [
       "<div>\n",
       "<style scoped>\n",
       "    .dataframe tbody tr th:only-of-type {\n",
       "        vertical-align: middle;\n",
       "    }\n",
       "\n",
       "    .dataframe tbody tr th {\n",
       "        vertical-align: top;\n",
       "    }\n",
       "\n",
       "    .dataframe thead th {\n",
       "        text-align: right;\n",
       "    }\n",
       "</style>\n",
       "<table border=\"1\" class=\"dataframe\">\n",
       "  <thead>\n",
       "    <tr style=\"text-align: right;\">\n",
       "      <th></th>\n",
       "      <th>Unnamed: 0</th>\n",
       "      <th>Peptide</th>\n",
       "      <th>HLA</th>\n",
       "      <th>EL_rank_mut</th>\n",
       "      <th>agg_label</th>\n",
       "      <th>fold</th>\n",
       "      <th>EL_rank_wt</th>\n",
       "      <th>EL_rank_wt_aligned</th>\n",
       "      <th>Total_Gene_TPM</th>\n",
       "      <th>Total_Peptide_TPM</th>\n",
       "      <th>...</th>\n",
       "      <th>icore_mutation_position</th>\n",
       "      <th>icore_wt_aligned</th>\n",
       "      <th>isoelectric_point</th>\n",
       "      <th>len</th>\n",
       "      <th>len_icore_mut</th>\n",
       "      <th>seq_id</th>\n",
       "      <th>trueHLA_EL_rank</th>\n",
       "      <th>wild_type</th>\n",
       "      <th>foreignness_score</th>\n",
       "      <th>ratio_rank</th>\n",
       "    </tr>\n",
       "  </thead>\n",
       "  <tbody>\n",
       "    <tr>\n",
       "      <th>12</th>\n",
       "      <td>12</td>\n",
       "      <td>AATPVGSLY</td>\n",
       "      <td>HLA-B4002</td>\n",
       "      <td>11.1987</td>\n",
       "      <td>1</td>\n",
       "      <td>0</td>\n",
       "      <td>8.8607</td>\n",
       "      <td>8.8607</td>\n",
       "      <td>9.121050</td>\n",
       "      <td>9.121</td>\n",
       "      <td>...</td>\n",
       "      <td>7</td>\n",
       "      <td>AATPVGSSY</td>\n",
       "      <td>6.093198</td>\n",
       "      <td>9</td>\n",
       "      <td>9</td>\n",
       "      <td>&gt;seq_13</td>\n",
       "      <td>11.1987</td>\n",
       "      <td>AATPVGSSY</td>\n",
       "      <td>7.619771e-03</td>\n",
       "      <td>1.263862</td>\n",
       "    </tr>\n",
       "    <tr>\n",
       "      <th>28</th>\n",
       "      <td>28</td>\n",
       "      <td>AGQHIAKSLF</td>\n",
       "      <td>HLA-B4402</td>\n",
       "      <td>1.9036</td>\n",
       "      <td>1</td>\n",
       "      <td>4</td>\n",
       "      <td>3.4639</td>\n",
       "      <td>3.4639</td>\n",
       "      <td>357.574000</td>\n",
       "      <td>357.574</td>\n",
       "      <td>...</td>\n",
       "      <td>7</td>\n",
       "      <td>GQHIAKSPF</td>\n",
       "      <td>9.702002</td>\n",
       "      <td>10</td>\n",
       "      <td>9</td>\n",
       "      <td>&gt;seq_29</td>\n",
       "      <td>4.1901</td>\n",
       "      <td>AGQHIAKSPF</td>\n",
       "      <td>3.475804e-09</td>\n",
       "      <td>0.549554</td>\n",
       "    </tr>\n",
       "    <tr>\n",
       "      <th>47</th>\n",
       "      <td>47</td>\n",
       "      <td>ALALAQKGV</td>\n",
       "      <td>HLA-A0201</td>\n",
       "      <td>1.0758</td>\n",
       "      <td>1</td>\n",
       "      <td>6</td>\n",
       "      <td>2.9565</td>\n",
       "      <td>2.9565</td>\n",
       "      <td>24.591700</td>\n",
       "      <td>24.592</td>\n",
       "      <td>...</td>\n",
       "      <td>5</td>\n",
       "      <td>ALALARKGV</td>\n",
       "      <td>9.700003</td>\n",
       "      <td>9</td>\n",
       "      <td>9</td>\n",
       "      <td>&gt;seq_48</td>\n",
       "      <td>1.0758</td>\n",
       "      <td>ALALARKGV</td>\n",
       "      <td>2.668819e-11</td>\n",
       "      <td>0.363876</td>\n",
       "    </tr>\n",
       "    <tr>\n",
       "      <th>61</th>\n",
       "      <td>61</td>\n",
       "      <td>ALDPHSGHFV</td>\n",
       "      <td>HLA-A0201</td>\n",
       "      <td>0.0854</td>\n",
       "      <td>1</td>\n",
       "      <td>4</td>\n",
       "      <td>11.6410</td>\n",
       "      <td>11.6410</td>\n",
       "      <td>106.603000</td>\n",
       "      <td>106.603</td>\n",
       "      <td>...</td>\n",
       "      <td>1</td>\n",
       "      <td>ARDPHSGHFV</td>\n",
       "      <td>6.496504</td>\n",
       "      <td>10</td>\n",
       "      <td>10</td>\n",
       "      <td>&gt;seq_62</td>\n",
       "      <td>0.0854</td>\n",
       "      <td>ARDPHSGHFV</td>\n",
       "      <td>4.526800e-07</td>\n",
       "      <td>0.007336</td>\n",
       "    </tr>\n",
       "    <tr>\n",
       "      <th>62</th>\n",
       "      <td>62</td>\n",
       "      <td>ALDPHSGHFVA</td>\n",
       "      <td>HLA-A0201</td>\n",
       "      <td>0.0854</td>\n",
       "      <td>1</td>\n",
       "      <td>4</td>\n",
       "      <td>11.6410</td>\n",
       "      <td>11.6410</td>\n",
       "      <td>106.603000</td>\n",
       "      <td>106.603</td>\n",
       "      <td>...</td>\n",
       "      <td>1</td>\n",
       "      <td>ARDPHSGHFV</td>\n",
       "      <td>6.496504</td>\n",
       "      <td>11</td>\n",
       "      <td>10</td>\n",
       "      <td>&gt;seq_63</td>\n",
       "      <td>1.4716</td>\n",
       "      <td>ARDPHSGHFVA</td>\n",
       "      <td>4.526800e-07</td>\n",
       "      <td>0.007336</td>\n",
       "    </tr>\n",
       "    <tr>\n",
       "      <th>...</th>\n",
       "      <td>...</td>\n",
       "      <td>...</td>\n",
       "      <td>...</td>\n",
       "      <td>...</td>\n",
       "      <td>...</td>\n",
       "      <td>...</td>\n",
       "      <td>...</td>\n",
       "      <td>...</td>\n",
       "      <td>...</td>\n",
       "      <td>...</td>\n",
       "      <td>...</td>\n",
       "      <td>...</td>\n",
       "      <td>...</td>\n",
       "      <td>...</td>\n",
       "      <td>...</td>\n",
       "      <td>...</td>\n",
       "      <td>...</td>\n",
       "      <td>...</td>\n",
       "      <td>...</td>\n",
       "      <td>...</td>\n",
       "      <td>...</td>\n",
       "    </tr>\n",
       "    <tr>\n",
       "      <th>238</th>\n",
       "      <td>238</td>\n",
       "      <td>AYFLPRPPL</td>\n",
       "      <td>HLA-B0702</td>\n",
       "      <td>1.9033</td>\n",
       "      <td>0</td>\n",
       "      <td>2</td>\n",
       "      <td>1.0967</td>\n",
       "      <td>1.0967</td>\n",
       "      <td>8.741010</td>\n",
       "      <td>8.741</td>\n",
       "      <td>...</td>\n",
       "      <td>3</td>\n",
       "      <td>AYFPPRPPL</td>\n",
       "      <td>9.348808</td>\n",
       "      <td>9</td>\n",
       "      <td>9</td>\n",
       "      <td>&gt;seq_244</td>\n",
       "      <td>1.9033</td>\n",
       "      <td>AYFPPRPPL</td>\n",
       "      <td>1.000000e+00</td>\n",
       "      <td>1.735479</td>\n",
       "    </tr>\n",
       "    <tr>\n",
       "      <th>2132</th>\n",
       "      <td>2132</td>\n",
       "      <td>SAWTDTQRL</td>\n",
       "      <td>HLA-A0201</td>\n",
       "      <td>3.3866</td>\n",
       "      <td>0</td>\n",
       "      <td>9</td>\n",
       "      <td>28.4074</td>\n",
       "      <td>28.4074</td>\n",
       "      <td>30.121000</td>\n",
       "      <td>30.121</td>\n",
       "      <td>...</td>\n",
       "      <td>8</td>\n",
       "      <td>SAWTDTQRS</td>\n",
       "      <td>6.338719</td>\n",
       "      <td>9</td>\n",
       "      <td>9</td>\n",
       "      <td>&gt;seq_2169</td>\n",
       "      <td>3.3866</td>\n",
       "      <td>SAWTDTQRS</td>\n",
       "      <td>0.000000e+00</td>\n",
       "      <td>0.119215</td>\n",
       "    </tr>\n",
       "    <tr>\n",
       "      <th>2762</th>\n",
       "      <td>2762</td>\n",
       "      <td>WLRDHRMTGL</td>\n",
       "      <td>HLA-B0702</td>\n",
       "      <td>1.4280</td>\n",
       "      <td>0</td>\n",
       "      <td>2</td>\n",
       "      <td>1.1898</td>\n",
       "      <td>1.1898</td>\n",
       "      <td>13.151000</td>\n",
       "      <td>13.151</td>\n",
       "      <td>...</td>\n",
       "      <td>7</td>\n",
       "      <td>WLRDHRMAGL</td>\n",
       "      <td>10.399535</td>\n",
       "      <td>10</td>\n",
       "      <td>10</td>\n",
       "      <td>&gt;seq_2806</td>\n",
       "      <td>1.4280</td>\n",
       "      <td>WLRDHRMAGL</td>\n",
       "      <td>0.000000e+00</td>\n",
       "      <td>1.200202</td>\n",
       "    </tr>\n",
       "    <tr>\n",
       "      <th>549</th>\n",
       "      <td>549</td>\n",
       "      <td>FLYVLGRKK</td>\n",
       "      <td>HLA-A1101</td>\n",
       "      <td>1.8474</td>\n",
       "      <td>0</td>\n",
       "      <td>1</td>\n",
       "      <td>1.4569</td>\n",
       "      <td>1.4569</td>\n",
       "      <td>0.050998</td>\n",
       "      <td>0.051</td>\n",
       "      <td>...</td>\n",
       "      <td>4</td>\n",
       "      <td>FLYVVGRKK</td>\n",
       "      <td>10.901810</td>\n",
       "      <td>9</td>\n",
       "      <td>9</td>\n",
       "      <td>&gt;seq_558</td>\n",
       "      <td>1.8474</td>\n",
       "      <td>FLYVVGRKK</td>\n",
       "      <td>0.000000e+00</td>\n",
       "      <td>1.268035</td>\n",
       "    </tr>\n",
       "    <tr>\n",
       "      <th>1968</th>\n",
       "      <td>1968</td>\n",
       "      <td>RLFKGYEGSLIK</td>\n",
       "      <td>HLA-A0301</td>\n",
       "      <td>0.0292</td>\n",
       "      <td>0</td>\n",
       "      <td>3</td>\n",
       "      <td>0.1472</td>\n",
       "      <td>1.4494</td>\n",
       "      <td>55.182000</td>\n",
       "      <td>55.182</td>\n",
       "      <td>...</td>\n",
       "      <td>1</td>\n",
       "      <td>RPFKGYEGSLIK</td>\n",
       "      <td>10.243658</td>\n",
       "      <td>12</td>\n",
       "      <td>12</td>\n",
       "      <td>&gt;seq_2004</td>\n",
       "      <td>0.0292</td>\n",
       "      <td>RPFKGYEGSLIK</td>\n",
       "      <td>9.053595e-07</td>\n",
       "      <td>0.020146</td>\n",
       "    </tr>\n",
       "  </tbody>\n",
       "</table>\n",
       "<p>2409 rows × 39 columns</p>\n",
       "</div>"
      ],
      "text/plain": [
       "      Unnamed: 0       Peptide        HLA  EL_rank_mut  agg_label  fold  \\\n",
       "12            12     AATPVGSLY  HLA-B4002      11.1987          1     0   \n",
       "28            28    AGQHIAKSLF  HLA-B4402       1.9036          1     4   \n",
       "47            47     ALALAQKGV  HLA-A0201       1.0758          1     6   \n",
       "61            61    ALDPHSGHFV  HLA-A0201       0.0854          1     4   \n",
       "62            62   ALDPHSGHFVA  HLA-A0201       0.0854          1     4   \n",
       "...          ...           ...        ...          ...        ...   ...   \n",
       "238          238     AYFLPRPPL  HLA-B0702       1.9033          0     2   \n",
       "2132        2132     SAWTDTQRL  HLA-A0201       3.3866          0     9   \n",
       "2762        2762    WLRDHRMTGL  HLA-B0702       1.4280          0     2   \n",
       "549          549     FLYVLGRKK  HLA-A1101       1.8474          0     1   \n",
       "1968        1968  RLFKGYEGSLIK  HLA-A0301       0.0292          0     3   \n",
       "\n",
       "      EL_rank_wt  EL_rank_wt_aligned  Total_Gene_TPM  Total_Peptide_TPM  ...  \\\n",
       "12        8.8607              8.8607        9.121050              9.121  ...   \n",
       "28        3.4639              3.4639      357.574000            357.574  ...   \n",
       "47        2.9565              2.9565       24.591700             24.592  ...   \n",
       "61       11.6410             11.6410      106.603000            106.603  ...   \n",
       "62       11.6410             11.6410      106.603000            106.603  ...   \n",
       "...          ...                 ...             ...                ...  ...   \n",
       "238       1.0967              1.0967        8.741010              8.741  ...   \n",
       "2132     28.4074             28.4074       30.121000             30.121  ...   \n",
       "2762      1.1898              1.1898       13.151000             13.151  ...   \n",
       "549       1.4569              1.4569        0.050998              0.051  ...   \n",
       "1968      0.1472              1.4494       55.182000             55.182  ...   \n",
       "\n",
       "      icore_mutation_position  icore_wt_aligned  isoelectric_point  len  \\\n",
       "12                          7         AATPVGSSY           6.093198    9   \n",
       "28                          7         GQHIAKSPF           9.702002   10   \n",
       "47                          5         ALALARKGV           9.700003    9   \n",
       "61                          1        ARDPHSGHFV           6.496504   10   \n",
       "62                          1        ARDPHSGHFV           6.496504   11   \n",
       "...                       ...               ...                ...  ...   \n",
       "238                         3         AYFPPRPPL           9.348808    9   \n",
       "2132                        8         SAWTDTQRS           6.338719    9   \n",
       "2762                        7        WLRDHRMAGL          10.399535   10   \n",
       "549                         4         FLYVVGRKK          10.901810    9   \n",
       "1968                        1      RPFKGYEGSLIK          10.243658   12   \n",
       "\n",
       "      len_icore_mut     seq_id  trueHLA_EL_rank     wild_type  \\\n",
       "12                9    >seq_13          11.1987     AATPVGSSY   \n",
       "28                9    >seq_29           4.1901    AGQHIAKSPF   \n",
       "47                9    >seq_48           1.0758     ALALARKGV   \n",
       "61               10    >seq_62           0.0854    ARDPHSGHFV   \n",
       "62               10    >seq_63           1.4716   ARDPHSGHFVA   \n",
       "...             ...        ...              ...           ...   \n",
       "238               9   >seq_244           1.9033     AYFPPRPPL   \n",
       "2132              9  >seq_2169           3.3866     SAWTDTQRS   \n",
       "2762             10  >seq_2806           1.4280    WLRDHRMAGL   \n",
       "549               9   >seq_558           1.8474     FLYVVGRKK   \n",
       "1968             12  >seq_2004           0.0292  RPFKGYEGSLIK   \n",
       "\n",
       "     foreignness_score  ratio_rank  \n",
       "12        7.619771e-03    1.263862  \n",
       "28        3.475804e-09    0.549554  \n",
       "47        2.668819e-11    0.363876  \n",
       "61        4.526800e-07    0.007336  \n",
       "62        4.526800e-07    0.007336  \n",
       "...                ...         ...  \n",
       "238       1.000000e+00    1.735479  \n",
       "2132      0.000000e+00    0.119215  \n",
       "2762      0.000000e+00    1.200202  \n",
       "549       0.000000e+00    1.268035  \n",
       "1968      9.053595e-07    0.020146  \n",
       "\n",
       "[2409 rows x 39 columns]"
      ]
     },
     "execution_count": 387,
     "metadata": {},
     "output_type": "execute_result"
    }
   ],
   "source": [
    "# SO SOMEHOW THIS BUG ONLY OCCURS IF THE PROBLEMATIC (I.E. LEN == MAXLEN) IS THE LAST ELEMENT OF THE ARRAY\n",
    "# how the FUCK does this even happen, if it's the last element the instead of returning 0 it returns a missing element like what the FUCK\n",
    "# HOTFIX : Just give the truelens as a vector like I did in the other branch..a\n",
    "tmp"
   ]
  },
  {
   "cell_type": "code",
   "execution_count": 386,
   "id": "d5a56f2d-698a-4f71-bd4a-d94984110f72",
   "metadata": {},
   "outputs": [],
   "source": [
    "xd=get_dataset(cedar_aligned_expr.iloc[1968:1971], None, **encoding_kwargs)"
   ]
  },
  {
   "cell_type": "code",
   "execution_count": 370,
   "id": "127a6551-063f-4eb2-bea5-56105a2a5c82",
   "metadata": {},
   "outputs": [],
   "source": [
    "xd2=get_dataset(cedar_aligned_expr.iloc[1968:1970], None, **encoding_kwargs)"
   ]
  },
  {
   "cell_type": "code",
   "execution_count": 396,
   "id": "7aa3ab94-370e-492a-a009-b78a15af95e5",
   "metadata": {
    "tags": []
   },
   "outputs": [],
   "source": [
    "xd3=get_dataset(cedar_aligned_expr.iloc[[1968]], None, **encoding_kwargs)"
   ]
  },
  {
   "cell_type": "code",
   "execution_count": 398,
   "id": "3157ab20-7d93-4af9-9a51-61abf77bca26",
   "metadata": {
    "tags": []
   },
   "outputs": [],
   "source": [
    "xd4 = get_dataset(tmp, None, **encoding_kwargs)"
   ]
  },
  {
   "cell_type": "code",
   "execution_count": 376,
   "id": "e3d94f5c-4d99-484d-ae01-067c10028bc8",
   "metadata": {},
   "outputs": [],
   "source": [
    "xd5 = get_dataset(cedar_aligned_expr.iloc[1967:2500], None, **encoding_kwargs)"
   ]
  },
  {
   "cell_type": "markdown",
   "id": "36cc9961-049f-40c3-b2c7-daf64c2346cc",
   "metadata": {},
   "source": [
    "# xd"
   ]
  },
  {
   "cell_type": "code",
   "execution_count": null,
   "id": "0ddeb80d-8dcb-4b9b-a1e6-38cf816071c0",
   "metadata": {},
   "outputs": [],
   "source": []
  }
 ],
 "metadata": {
  "kernelspec": {
   "display_name": "Python [conda env:phd] *",
   "language": "python",
   "name": "conda-env-phd-py"
  },
  "language_info": {
   "codemirror_mode": {
    "name": "ipython",
    "version": 3
   },
   "file_extension": ".py",
   "mimetype": "text/x-python",
   "name": "python",
   "nbconvert_exporter": "python",
   "pygments_lexer": "ipython3",
   "version": "3.10.8"
  }
 },
 "nbformat": 4,
 "nbformat_minor": 5
}

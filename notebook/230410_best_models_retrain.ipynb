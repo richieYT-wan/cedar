{
 "cells": [
  {
   "cell_type": "code",
   "execution_count": 26,
   "id": "c05b7793-b0a3-4531-bd18-f4abd2abe2cf",
   "metadata": {},
   "outputs": [
    {
     "name": "stdout",
     "output_type": "stream",
     "text": [
      "The autoreload extension is already loaded. To reload it, use:\n",
      "  %reload_ext autoreload\n"
     ]
    },
    {
     "data": {
      "image/png": "[encoded data removed]",
      "text/plain": [
       "<Figure size 1.8x1.8 with 1 Axes>"
      ]
     },
     "metadata": {},
     "output_type": "display_data"
    }
   ],
   "source": [
    "%load_ext autoreload\n",
    "%autoreload 2\n",
    "\n",
    "import pandas as pd\n",
    "import dataframe_image as dfi\n",
    "import numpy as np\n",
    "import sklearn\n",
    "import matplotlib.pyplot as plt\n",
    "import matplotlib as mpl\n",
    "import seaborn as sns\n",
    "f,a = plt.subplots(1,1,figsize=(1e-2, 1e-2))\n",
    "mpl.rcParams['figure.dpi'] = 180\n",
    "sns.set_style('darkgrid')\n",
    "import os,sys\n",
    "module_path = os.path.abspath(os.path.join('..'))\n",
    "if module_path not in sys.path:\n",
    "    sys.path.append(module_path)\n",
    "import warnings\n",
    "warnings.filterwarnings(\"ignore\")\n",
    "\n",
    "from tqdm.auto import tqdm\n",
    "from datetime import datetime as dt\n",
    "from src.utils import mkdirs, convert_path, pkl_dump, pkl_load, display_side, add_median_labels\n",
    "from src.data_processing import get_dataset, BL62_VALUES, BL62FREQ_VALUES, HLAS, AA_KEYS, get_aa_properties\n",
    "from src.metrics import get_predictions, get_roc, get_metrics, plot_roc_auc_fold, get_mean_roc_curve\n",
    "from src.metrics import get_nested_feature_importance, plot_feature_importance\n",
    "from src.partition_tools import pipeline_stratified_kfold\n",
    "from src.utils import pkl_load, pkl_dump, get_palette\n",
    "from src.bootstrap import bootstrap_eval, get_pval, plot_pval\n",
    "from src.baselines import plot_baseline_roc, plot_related_baseline_roc\n",
    "from src.models import FFNetPipeline\n",
    "\n",
    "PAL = sns.color_palette('hsv', n_colors=13)\n",
    "HSV = [PAL[-4], PAL[-1], PAL[0], PAL [4]]\n",
    "tmppal = sns.color_palette('hsv', n_colors=15)\n",
    "NEWPAL = HSV + [tmppal[-3], tmppal[7]]\n",
    "mpl.rcParams['figure.dpi'] = 180"
   ]
  },
  {
   "cell_type": "code",
   "execution_count": 27,
   "id": "2c1bc2f5-ccfa-4d63-9321-19a93e02f437",
   "metadata": {
    "tags": []
   },
   "outputs": [
    {
     "data": {
      "image/png": "[encoded data removed]",
      "text/plain": [
       "<Figure size 1.8e-05x1.8e-05 with 1 Axes>"
      ]
     },
     "metadata": {},
     "output_type": "display_data"
    }
   ],
   "source": [
    "sns.set_palette(NEWPAL)\n",
    "f,a = plt.subplots(1,1,figsize=(1e-7,1e-7))"
   ]
  },
  {
   "cell_type": "code",
   "execution_count": 28,
   "id": "986b39b4-980d-4eb7-8697-1beb0eff5384",
   "metadata": {},
   "outputs": [],
   "source": [
    "FIGDIR = '../../../writing/230131_cedar_paper_1/figures/'"
   ]
  },
  {
   "cell_type": "code",
   "execution_count": 29,
   "id": "469f3c40-a724-4b64-b457-3b30955fe9c6",
   "metadata": {},
   "outputs": [],
   "source": [
    "from sklearn.metrics import roc_auc_score, roc_curve\n",
    "def get_roc_curve_auc(df, targetcol, scorecol, neg=False):\n",
    "    if neg:\n",
    "        fpr, tpr, _ = roc_curve(df[targetcol], -1* df[scorecol])\n",
    "        auc = roc_auc_score(df[targetcol], -1* df[scorecol])\n",
    "        auc01 = roc_auc_score(df[targetcol], -1* df[scorecol], max_fpr=0.1)\n",
    "    else:\n",
    "        fpr, tpr, _ = roc_curve(df[targetcol], df[scorecol])\n",
    "        auc = roc_auc_score(df[targetcol], df[scorecol])\n",
    "        auc01 = roc_auc_score(df[targetcol], df[scorecol], max_fpr=0.1)\n",
    "    return fpr, tpr, auc, auc01"
   ]
  },
  {
   "cell_type": "markdown",
   "id": "519a1563-7e5e-41ae-baa9-c064e7be3325",
   "metadata": {
    "tags": []
   },
   "source": [
    "# init"
   ]
  },
  {
   "cell_type": "markdown",
   "id": "2d5857b1-5661-4f2a-9cee-7c6e57178a3a",
   "metadata": {
    "tags": []
   },
   "source": [
    "## reloading datasets"
   ]
  },
  {
   "cell_type": "code",
   "execution_count": 30,
   "id": "df1c242d-8b0d-44ba-9885-e01e9a7ff749",
   "metadata": {
    "tags": []
   },
   "outputs": [
    {
     "data": {
      "text/html": [
       "<div>\n",
       "<style scoped>\n",
       "    .dataframe tbody tr th:only-of-type {\n",
       "        vertical-align: middle;\n",
       "    }\n",
       "\n",
       "    .dataframe tbody tr th {\n",
       "        vertical-align: top;\n",
       "    }\n",
       "\n",
       "    .dataframe thead th {\n",
       "        text-align: right;\n",
       "    }\n",
       "</style>\n",
       "<table border=\"1\" class=\"dataframe\">\n",
       "  <thead>\n",
       "    <tr style=\"text-align: right;\">\n",
       "      <th></th>\n",
       "      <th>Peptide</th>\n",
       "      <th>wild_type</th>\n",
       "      <th>HLA</th>\n",
       "      <th>agg_label</th>\n",
       "      <th>mut_len</th>\n",
       "      <th>wt_len</th>\n",
       "      <th>seq_id</th>\n",
       "      <th>Pos_mut</th>\n",
       "      <th>Peptide_mut</th>\n",
       "      <th>core_mut</th>\n",
       "      <th>...</th>\n",
       "      <th>core_blsm_mut_score</th>\n",
       "      <th>aliphatic_index</th>\n",
       "      <th>boman</th>\n",
       "      <th>hydrophobicity</th>\n",
       "      <th>isoelectric_point</th>\n",
       "      <th>VHSE1</th>\n",
       "      <th>VHSE3</th>\n",
       "      <th>VHSE7</th>\n",
       "      <th>VHSE8</th>\n",
       "      <th>trueHLA_EL_rank</th>\n",
       "    </tr>\n",
       "  </thead>\n",
       "  <tbody>\n",
       "    <tr>\n",
       "      <th>0</th>\n",
       "      <td>AFGSAHLFR</td>\n",
       "      <td>AFGSAHLYR</td>\n",
       "      <td>HLA-A3101</td>\n",
       "      <td>1</td>\n",
       "      <td>9</td>\n",
       "      <td>9</td>\n",
       "      <td>seq_1</td>\n",
       "      <td>0</td>\n",
       "      <td>AFGSAHLFR</td>\n",
       "      <td>AFGSAHLFR</td>\n",
       "      <td>...</td>\n",
       "      <td>3</td>\n",
       "      <td>65.555556</td>\n",
       "      <td>0.837778</td>\n",
       "      <td>0.455556</td>\n",
       "      <td>10.551759</td>\n",
       "      <td>0.214444</td>\n",
       "      <td>-0.278889</td>\n",
       "      <td>0.193333</td>\n",
       "      <td>-0.192222</td>\n",
       "      <td>0.2470</td>\n",
       "    </tr>\n",
       "    <tr>\n",
       "      <th>1</th>\n",
       "      <td>AIANRIKFK</td>\n",
       "      <td>AIANRIKSK</td>\n",
       "      <td>HLA-A1101</td>\n",
       "      <td>0</td>\n",
       "      <td>9</td>\n",
       "      <td>9</td>\n",
       "      <td>seq_4</td>\n",
       "      <td>0</td>\n",
       "      <td>AIANRIKFK</td>\n",
       "      <td>AIANRIKFK</td>\n",
       "      <td>...</td>\n",
       "      <td>-2</td>\n",
       "      <td>108.888889</td>\n",
       "      <td>1.802222</td>\n",
       "      <td>-0.044444</td>\n",
       "      <td>11.823055</td>\n",
       "      <td>-0.048889</td>\n",
       "      <td>0.125556</td>\n",
       "      <td>0.484444</td>\n",
       "      <td>-0.125556</td>\n",
       "      <td>0.1380</td>\n",
       "    </tr>\n",
       "    <tr>\n",
       "      <th>2</th>\n",
       "      <td>AICKPLHYV</td>\n",
       "      <td>AICKPLHYM</td>\n",
       "      <td>HLA-A0201</td>\n",
       "      <td>0</td>\n",
       "      <td>9</td>\n",
       "      <td>9</td>\n",
       "      <td>seq_5</td>\n",
       "      <td>0</td>\n",
       "      <td>AICKPLHYV</td>\n",
       "      <td>AICKPLHYV</td>\n",
       "      <td>...</td>\n",
       "      <td>1</td>\n",
       "      <td>130.000000</td>\n",
       "      <td>-0.735556</td>\n",
       "      <td>0.755556</td>\n",
       "      <td>8.530526</td>\n",
       "      <td>0.327778</td>\n",
       "      <td>0.046667</td>\n",
       "      <td>-0.017778</td>\n",
       "      <td>0.263333</td>\n",
       "      <td>0.3610</td>\n",
       "    </tr>\n",
       "    <tr>\n",
       "      <th>3</th>\n",
       "      <td>AIPAMVVPNV</td>\n",
       "      <td>AIPAMVVPNA</td>\n",
       "      <td>HLA-A0201</td>\n",
       "      <td>0</td>\n",
       "      <td>10</td>\n",
       "      <td>10</td>\n",
       "      <td>seq_6</td>\n",
       "      <td>0</td>\n",
       "      <td>AIPAMVVPNV</td>\n",
       "      <td>AIPAVVPNV</td>\n",
       "      <td>...</td>\n",
       "      <td>0</td>\n",
       "      <td>146.000000</td>\n",
       "      <td>-1.637000</td>\n",
       "      <td>1.590000</td>\n",
       "      <td>6.100000</td>\n",
       "      <td>0.431000</td>\n",
       "      <td>-0.385000</td>\n",
       "      <td>-0.067000</td>\n",
       "      <td>0.446000</td>\n",
       "      <td>2.2606</td>\n",
       "    </tr>\n",
       "    <tr>\n",
       "      <th>4</th>\n",
       "      <td>ALEVLQSIPY</td>\n",
       "      <td>APEVLQSIPY</td>\n",
       "      <td>HLA-A0101</td>\n",
       "      <td>0</td>\n",
       "      <td>10</td>\n",
       "      <td>10</td>\n",
       "      <td>seq_7</td>\n",
       "      <td>0</td>\n",
       "      <td>ALEVLQSIPY</td>\n",
       "      <td>ALEVLQSIY</td>\n",
       "      <td>...</td>\n",
       "      <td>-3</td>\n",
       "      <td>156.000000</td>\n",
       "      <td>-0.472000</td>\n",
       "      <td>0.740000</td>\n",
       "      <td>3.849983</td>\n",
       "      <td>0.292000</td>\n",
       "      <td>-0.062000</td>\n",
       "      <td>-0.096000</td>\n",
       "      <td>0.088000</td>\n",
       "      <td>0.6230</td>\n",
       "    </tr>\n",
       "  </tbody>\n",
       "</table>\n",
       "<p>5 rows × 39 columns</p>\n",
       "</div>"
      ],
      "text/plain": [
       "      Peptide   wild_type        HLA  agg_label  mut_len  wt_len seq_id  \\\n",
       "0   AFGSAHLFR   AFGSAHLYR  HLA-A3101          1        9       9  seq_1   \n",
       "1   AIANRIKFK   AIANRIKSK  HLA-A1101          0        9       9  seq_4   \n",
       "2   AICKPLHYV   AICKPLHYM  HLA-A0201          0        9       9  seq_5   \n",
       "3  AIPAMVVPNV  AIPAMVVPNA  HLA-A0201          0       10      10  seq_6   \n",
       "4  ALEVLQSIPY  APEVLQSIPY  HLA-A0101          0       10      10  seq_7   \n",
       "\n",
       "   Pos_mut Peptide_mut   core_mut  ... core_blsm_mut_score  aliphatic_index  \\\n",
       "0        0   AFGSAHLFR  AFGSAHLFR  ...                   3        65.555556   \n",
       "1        0   AIANRIKFK  AIANRIKFK  ...                  -2       108.888889   \n",
       "2        0   AICKPLHYV  AICKPLHYV  ...                   1       130.000000   \n",
       "3        0  AIPAMVVPNV  AIPAVVPNV  ...                   0       146.000000   \n",
       "4        0  ALEVLQSIPY  ALEVLQSIY  ...                  -3       156.000000   \n",
       "\n",
       "      boman hydrophobicity isoelectric_point     VHSE1     VHSE3     VHSE7  \\\n",
       "0  0.837778       0.455556         10.551759  0.214444 -0.278889  0.193333   \n",
       "1  1.802222      -0.044444         11.823055 -0.048889  0.125556  0.484444   \n",
       "2 -0.735556       0.755556          8.530526  0.327778  0.046667 -0.017778   \n",
       "3 -1.637000       1.590000          6.100000  0.431000 -0.385000 -0.067000   \n",
       "4 -0.472000       0.740000          3.849983  0.292000 -0.062000 -0.096000   \n",
       "\n",
       "      VHSE8  trueHLA_EL_rank  \n",
       "0 -0.192222           0.2470  \n",
       "1 -0.125556           0.1380  \n",
       "2  0.263333           0.3610  \n",
       "3  0.446000           2.2606  \n",
       "4  0.088000           0.6230  \n",
       "\n",
       "[5 rows x 39 columns]"
      ]
     },
     "execution_count": 30,
     "metadata": {},
     "output_type": "execute_result"
    }
   ],
   "source": [
    "cedar_related = pd.read_csv('../data/mutant/221028_cedar_related_newcore_fold.csv')\n",
    "prime_related = pd.read_csv('../data/mutant/221119_prime_related_10fold.csv')\n",
    "ibel = pd.read_csv('../data/mutant/221117_ibel_merged_fold.csv')\n",
    "# merged = pd.read_csv('../data/mutant/221112_cedar_prime_merged_fold.csv')\n",
    "nepdb = pd.read_csv('../data/mutant/230124_nepdb_filtered_scored.csv')\n",
    "nepdb.head()"
   ]
  },
  {
   "cell_type": "code",
   "execution_count": 31,
   "id": "fea90315-2ea0-40b3-85cd-8ef10000e6fe",
   "metadata": {},
   "outputs": [],
   "source": [
    "cedar_aligned = pd.read_csv('../data/aligned_icore/230125_cedar_aligned_icore.csv')\n",
    "prime_aligned = pd.read_csv('../data/aligned_icore/230125_prime_aligned_icore.csv')\n",
    "ibel_aligned = pd.read_csv('../data/aligned_icore/230125_ibel_aligned_icore.csv')\n",
    "nepdb_aligned = pd.read_csv('../data/aligned_icore/230125_nepdb_aligned_icore.csv')"
   ]
  },
  {
   "cell_type": "code",
   "execution_count": 32,
   "id": "20427055-7797-409a-9af5-7746cd8976ac",
   "metadata": {},
   "outputs": [],
   "source": [
    "cedar_expr = pd.read_csv('../data/pepx/230125_cedar_related_pepx_fold.csv')\n",
    "prime_expr = pd.read_csv('../data/pepx/230125_prime_related_pepx.csv')\n",
    "ibel_expr = pd.read_csv('../data/pepx/230125_ibel_normal_pepx.csv')\n",
    "nepdb_expr = pd.read_csv('../data/pepx/230125_nepdb_normal_pepx.csv')"
   ]
  },
  {
   "cell_type": "code",
   "execution_count": 33,
   "id": "10a3e231-c33e-469e-b609-f2043a9e2c2e",
   "metadata": {},
   "outputs": [],
   "source": [
    "cedar_aligned_expr = pd.read_csv('../data/pepx/230308_cedar_aligned_pepx_fold.csv')\n",
    "prime_aligned_expr = pd.read_csv('../data/pepx/230308_prime_aligned_pepx.csv')\n",
    "ibel_aligned_expr = pd.read_csv('../data/pepx/230125_ibel_aligned_pepx.csv')\n",
    "nepdb_aligned_expr = pd.read_csv('../data/pepx/230308_nepdb_aligned_pepx.csv')"
   ]
  },
  {
   "cell_type": "code",
   "execution_count": 34,
   "id": "bf651296-365a-4220-8ffa-6cb3709276e7",
   "metadata": {},
   "outputs": [],
   "source": [
    "# ICS DICT\n",
    "ics_kl = pkl_load('../data/ic_dicts/ics_kl.pkl')\n",
    "ics_shannon = pkl_load('../data/ic_dicts/ics_shannon.pkl')\n",
    "\n",
    "MAPPING= {'RandomForestClassifier': 'RF',\n",
    "          'LogisticRegression': 'LogReg',\n",
    "          'XGBClassifier': 'XGB',\n",
    "          'FFN': 'FFN'}"
   ]
  },
  {
   "cell_type": "markdown",
   "id": "209b2e00-6d9b-4d80-bc4d-a183883a723d",
   "metadata": {},
   "source": [
    "# redo conditions"
   ]
  },
  {
   "cell_type": "code",
   "execution_count": null,
   "id": "35f35b96-a7cd-41af-81ad-fa40fbd164bb",
   "metadata": {},
   "outputs": [],
   "source": [
    "cdt_base = (dict(max_len=12, encoding='onehot', blosum_matrix=None, mask=False, \n",
    "                       add_rank=True, seq_col='Peptide', rank_col='trueHLA_EL_rank', hla_col='HLA',\n",
    "                       target_col = 'agg_label', add_aaprop=False, remove_pep=False, standardize=True),\n",
    "            None, 'Base')\n",
    "cdt_cedar = (dict(max_len=12, encoding='onehot', blosum_matrix='None', add_rank=True, seq_col='icore_mut', rank_col='EL_rank_mut', target_col ='agg_label', hla_col='HLA',\n",
    "                        add_aaprop=False, remove_pep=False, standardize=True,\n",
    "                        mask=False, invert=True,\n",
    "                        mut_col = aa_cols+['EL_rank_wt_aligned','icore_dissimilarity_score','ratio_rank','Total_Gene_TPM']\n",
    "                        ), # Here it should be icore similarity score because it's not dissimilarity that we have\n",
    "            ics_shannon, 'OptCEDAR')\n",
    "\n",
    "cdt_prime = (dict(max_len=12, encoding='onehot', blosum_matrix='None', add_rank=True, seq_col='icore_mut', rank_col='EL_rank_mut', target_col ='agg_label', hla_col='HLA',\n",
    "                        add_aaprop=False, remove_pep=False, standardize=True,\n",
    "                        mask=True, invert=False,\n",
    "                        mut_col = ['icore_dissimilarity_score', 'icore_blsm_mut_score']),\n",
    "            ics_shannon, 'OptPRIME')\n",
    "\n",
    "cdt_general = (dict(max_len=12, encoding='onehot', blosum_matrix='None', add_rank=True, seq_col='icore_mut', rank_col='EL_rank_mut', target_col ='agg_label', hla_col='HLA',\n",
    "                          add_aaprop=False, remove_pep=False, standardize=True,\n",
    "                          mask=False, invert=False,\n",
    "                          mut_col = ['icore_dissimilarity_score', 'icore_blsm_mut_score', 'ratio_rank', 'Total_Gene_TPM']),\n",
    "             None, 'General')"
   ]
  },
  {
   "cell_type": "code",
   "execution_count": null,
   "id": "981ced7b-a2fe-4e8b-8d51-bba50e54956d",
   "metadata": {},
   "outputs": [],
   "source": [
    "for condition in ['Base', 'Gen', 'CEDAR', 'PRIME']:\n",
    "    for add_expression in [False, True]:\n",
    "        mut_cols = encoding_kwargs['mut_col'] if (condition!='Base' or add_expression)\n",
    "        print(condition, mut_cols)"
   ]
  },
  {
   "cell_type": "code",
   "execution_count": null,
   "id": "530443a4-6212-4cb8-a901-c2ee6e8c0384",
   "metadata": {
    "collapsed": true,
    "jupyter": {
     "outputs_hidden": true
    },
    "tags": []
   },
   "outputs": [
    {
     "data": {
      "text/plain": [
       "(150,\n",
       " [[],\n",
       "  ['EL_rank_wt_aligned', 'ratio_rank'],\n",
       "  ['EL_rank_wt_aligned', 'ratio_rank', 'foreignness_score'],\n",
       "  ['icore_blsm_mut_score', 'EL_rank_wt_aligned', 'ratio_rank'],\n",
       "  ['icore_blsm_mut_score',\n",
       "   'EL_rank_wt_aligned',\n",
       "   'ratio_rank',\n",
       "   'foreignness_score']])"
      ]
     },
     "execution_count": 51,
     "metadata": {},
     "output_type": "execute_result"
    }
   ],
   "source": [
    "from copy import deepcopy\n",
    "encoding_kwargs = dict(max_len=12, encoding='onehot', rank_col='EL_rank_mut', seq_col='icore_mut',\n",
    "                       blosum_matrix=None, mask=False, add_rank=True, add_aaprop=False, \n",
    "                       remove_pep=False, standardize=True)\n",
    "\n",
    "# weighting : Inv Shannon, None, Mask\n",
    "# weighting tuple order : (Invert, ic name, ic dict, mask)\n",
    "weighting = [(True, 'Shannon', ics_shannon, False), \n",
    "             (False, 'None', None, False), \n",
    "             (False, 'Mask', ics_shannon, True)]\n",
    "\n",
    "# find from list of raws which conditions are not here and run them...\n",
    "mcs_out = deepcopy(mcs)\n",
    "# stupid filter\n",
    "filtered = filter(lambda x: 'onehot' in x and 'featimp' in x and 'Inverted-KL'in x, os.listdir('../output/230308_aligned_exprscore_addwtrank_foreignness/raw'))\n",
    "filtered = [x.split('EL_rank_mut_')[1].replace('.csv','') for x in filtered]\n",
    "mcs2 = [x for x in mcs_out if '-'.join(x) not in filtered]\n",
    "len(mcs2), mcs2[:5]"
   ]
  },
  {
   "cell_type": "code",
   "execution_count": null,
   "id": "d3e17bf4-a7b1-4a4e-bf82-5513ca59c758",
   "metadata": {},
   "outputs": [],
   "source": [
    "encoding_kwargs = dict(max_len=12, encoding='onehot', rank_col='EL_rank_mut', seq_col='icore_mut',\n",
    "                       blosum_matrix=None, mask=False, add_rank=True, add_aaprop=False, \n",
    "                       remove_pep=False, standardize=True)\n",
    "\n",
    "def final_bootstrap_wrapper(preds_df, filename,\n",
    "                            ic_name, key, evalset,\n",
    "                            n_rounds=10000, n_jobs=8):\n",
    "    scores = preds_df.pred.values if 'pred' in preds_df.columns else preds_df['mean_pred'].values\n",
    "    targets = preds_df.agg_label.values if 'agg_label' in preds_df.columns else preds_df['Immunogenicity'].values\n",
    "\n",
    "    bootstrapped_df, mean_rocs = bootstrap_eval(y_score=scores,\n",
    "                                                y_true=targets,\n",
    "                                                n_rounds=n_rounds, n_jobs=n_jobs)\n",
    "    bootstrapped_df['encoding'] = 'onehot'\n",
    "    bootstrapped_df['weight'] = ic_name\n",
    "    bootstrapped_df['pep_col'] = 'icore_mut'\n",
    "    bootstrapped_df['rank_col'] = 'EL_rank_mut'\n",
    "    bootstrapped_df['key'] = key\n",
    "    bootstrapped_df['evalset'] = evalset.upper()\n",
    "\n",
    "    bootstrapped_df.to_csv(\n",
    "        f'{outdir}bootstrapping/{evalset}_bootstrapped_df_{filename}.csv',\n",
    "        index=False)\n",
    "    pkl_dump(mean_rocs,\n",
    "             f'{outdir}bootstrapping/{evalset}_mean_rocs_{filename}.pkl')\n",
    "\n",
    "    return bootstrapped_df"
   ]
  },
  {
   "cell_type": "code",
   "execution_count": 71,
   "id": "4007b0d3-c2ec-48b0-986a-e5d08d3c5f3b",
   "metadata": {},
   "outputs": [
    {
     "name": "stdout",
     "output_type": "stream",
     "text": [
      "8 40\n"
     ]
    },
    {
     "data": {
      "text/plain": [
       "48"
      ]
     },
     "execution_count": 71,
     "metadata": {},
     "output_type": "execute_result"
    }
   ],
   "source": [
    "mcs = ['aliphatic_index-boman-hydrophobicity-isoelectric_point-VHSE1-VHSE3-VHSE7-VHSE8-icore_dissimilarity_score-ratio_rank-EL_rank_wt_aligned'.split('-')]\n",
    "mcs.append('icore_dissimilarity_score-icore_blsm_mut_score-ratio_rank-foreignness_score'.split('-'))\n",
    "\n",
    "tpm_cols = ['Total_Peptide_TPM', 'Total_Scaled_Peptide_TPM', 'Total_Gene_TPM']\n",
    "mcs.extend([x+[b] for x in mcs for b in tpm_cols])\n",
    "\n",
    "mcs2 = []\n",
    "mcs2.extend(\n",
    "    [aa_cols + ['icore_dissimilarity_score', 'icore_blsm_mut_score', 'EL_rank_wt_aligned', 'ratio_rank']])\n",
    "mcs2.extend([aa_cols + ['icore_dissimilarity_score', 'icore_mut_score', 'EL_rank_wt_aligned', 'ratio_rank']])\n",
    "mcs2.extend([aa_cols + ['icore_dissimilarity_score', 'EL_rank_wt_aligned', 'ratio_rank']])\n",
    "mcs2.extend([aa_cols + ['icore_blsm_mut_score', 'EL_rank_wt_aligned', 'ratio_rank']])\n",
    "mcs2.extend([aa_cols + ['icore_mut_score', 'EL_rank_wt_aligned', 'ratio_rank']])\n",
    "\n",
    "mcs2.extend([aa_cols + ['icore_dissimilarity_score', 'icore_blsm_mut_score', \"foreignness_score\"]])\n",
    "mcs2.extend([aa_cols + ['icore_dissimilarity_score', 'icore_mut_score', \"foreignness_score\"]])\n",
    "mcs2.extend([aa_cols + ['icore_dissimilarity_score', \"foreignness_score\"]])\n",
    "mcs2.extend([aa_cols + ['icore_blsm_mut_score', \"foreignness_score\"]])\n",
    "mcs2.extend([aa_cols + ['icore_mut_score', \"foreignness_score\"]])\n",
    "mcs2.extend([x+[b] for x in mcs2 for b in tpm_cols])\n",
    "\n",
    "print(len(mcs), len(mcs2))\n",
    "mcs = mcs + mcs2\n",
    "len(mcs)"
   ]
  },
  {
   "cell_type": "code",
   "execution_count": null,
   "id": "5e5c2cba-3729-4627-a742-9a8b42002846",
   "metadata": {},
   "outputs": [],
   "source": [
    "# Best CEDAR, best PRIME, General Model\n",
    "best_keys = [['aliphatic_index', 'boman', 'hydrophobicity', 'isoelectric_point', 'VHSE1', 'VHSE3', 'VHSE7', 'VHSE8', 'icore_dissimilarity_score', 'ratio_rank', 'EL_rank_wt_aligned'],\n",
    "             ['"
   ]
  },
  {
   "cell_type": "code",
   "execution_count": 74,
   "id": "2b7b5276-c9ba-4cba-8e2d-ae2e2afdd4c1",
   "metadata": {
    "tags": []
   },
   "outputs": [],
   "source": [
    "mcs = [['aliphatic_index',\n",
    "  'boman',\n",
    "  'hydrophobicity',\n",
    "  'isoelectric_point',\n",
    "  'VHSE1',\n",
    "  'VHSE3',\n",
    "  'VHSE7',\n",
    "  'VHSE8',\n",
    "  'icore_dissimilarity_score',\n",
    "  'ratio_rank',\n",
    "  'EL_rank_wt_aligned',\n",
    "  'Total_Peptide_TPM'],\n",
    " ['aliphatic_index',\n",
    "  'boman',\n",
    "  'hydrophobicity',\n",
    "  'isoelectric_point',\n",
    "  'VHSE1',\n",
    "  'VHSE3',\n",
    "  'VHSE7',\n",
    "  'VHSE8',\n",
    "  'icore_dissimilarity_score',\n",
    "  'ratio_rank',\n",
    "  'EL_rank_wt_aligned',\n",
    "  'Total_Scaled_Peptide_TPM'],\n",
    " ['aliphatic_index',\n",
    "  'boman',\n",
    "  'hydrophobicity',\n",
    "  'isoelectric_point',\n",
    "  'VHSE1',\n",
    "  'VHSE3',\n",
    "  'VHSE7',\n",
    "  'VHSE8',\n",
    "  'icore_dissimilarity_score',\n",
    "  'ratio_rank',\n",
    "  'EL_rank_wt_aligned',\n",
    "  'Total_Gene_TPM']]"
   ]
  },
  {
   "cell_type": "code",
   "execution_count": 75,
   "id": "8f562b2e-46d5-47f5-bde5-7ca19c7e4d90",
   "metadata": {
    "collapsed": true,
    "jupyter": {
     "outputs_hidden": true
    },
    "tags": []
   },
   "outputs": [
    {
     "name": "stdout",
     "output_type": "stream",
     "text": [
      "Starting loops\n"
     ]
    },
    {
     "data": {
      "application/vnd.jupyter.widget-view+json": {
       "model_id": "dd89be69835e42d790027567c01ad8a6",
       "version_major": 2,
       "version_minor": 0
      },
      "text/plain": [
       "cols:   0%|          | 0/3 [00:00<?, ?it/s]"
      ]
     },
     "metadata": {},
     "output_type": "display_data"
    },
    {
     "data": {
      "application/vnd.jupyter.widget-view+json": {
       "model_id": "",
       "version_major": 2,
       "version_minor": 0
      },
      "text/plain": [
       "encoding: 0it [00:00, ?it/s]"
      ]
     },
     "metadata": {},
     "output_type": "display_data"
    },
    {
     "name": "stdout",
     "output_type": "stream",
     "text": [
      "Training\n"
     ]
    },
    {
     "data": {
      "application/vnd.jupyter.widget-view+json": {
       "model_id": "",
       "version_major": 2,
       "version_minor": 0
      },
      "text/plain": [
       "Outer fold:   0%|          | 0/10 [00:00<?, ?it/s]"
      ]
     },
     "metadata": {},
     "output_type": "display_data"
    },
    {
     "data": {
      "application/vnd.jupyter.widget-view+json": {
       "model_id": "",
       "version_major": 2,
       "version_minor": 0
      },
      "text/plain": [
       "Inner Folds:   0%|          | 0/9 [00:00<?, ?it/s]"
      ]
     },
     "metadata": {},
     "output_type": "display_data"
    },
    {
     "data": {
      "application/vnd.jupyter.widget-view+json": {
       "model_id": "",
       "version_major": 2,
       "version_minor": 0
      },
      "text/plain": [
       "Inner Folds:   0%|          | 0/9 [00:00<?, ?it/s]"
      ]
     },
     "metadata": {},
     "output_type": "display_data"
    },
    {
     "data": {
      "application/vnd.jupyter.widget-view+json": {
       "model_id": "",
       "version_major": 2,
       "version_minor": 0
      },
      "text/plain": [
       "Inner Folds:   0%|          | 0/9 [00:00<?, ?it/s]"
      ]
     },
     "metadata": {},
     "output_type": "display_data"
    },
    {
     "data": {
      "application/vnd.jupyter.widget-view+json": {
       "model_id": "",
       "version_major": 2,
       "version_minor": 0
      },
      "text/plain": [
       "Inner Folds:   0%|          | 0/9 [00:00<?, ?it/s]"
      ]
     },
     "metadata": {},
     "output_type": "display_data"
    },
    {
     "data": {
      "application/vnd.jupyter.widget-view+json": {
       "model_id": "",
       "version_major": 2,
       "version_minor": 0
      },
      "text/plain": [
       "Inner Folds:   0%|          | 0/9 [00:00<?, ?it/s]"
      ]
     },
     "metadata": {},
     "output_type": "display_data"
    },
    {
     "data": {
      "application/vnd.jupyter.widget-view+json": {
       "model_id": "",
       "version_major": 2,
       "version_minor": 0
      },
      "text/plain": [
       "Inner Folds:   0%|          | 0/9 [00:00<?, ?it/s]"
      ]
     },
     "metadata": {},
     "output_type": "display_data"
    },
    {
     "data": {
      "application/vnd.jupyter.widget-view+json": {
       "model_id": "",
       "version_major": 2,
       "version_minor": 0
      },
      "text/plain": [
       "Inner Folds:   0%|          | 0/9 [00:00<?, ?it/s]"
      ]
     },
     "metadata": {},
     "output_type": "display_data"
    },
    {
     "data": {
      "application/vnd.jupyter.widget-view+json": {
       "model_id": "",
       "version_major": 2,
       "version_minor": 0
      },
      "text/plain": [
       "Inner Folds:   0%|          | 0/9 [00:00<?, ?it/s]"
      ]
     },
     "metadata": {},
     "output_type": "display_data"
    },
    {
     "data": {
      "application/vnd.jupyter.widget-view+json": {
       "model_id": "",
       "version_major": 2,
       "version_minor": 0
      },
      "text/plain": [
       "Inner Folds:   0%|          | 0/9 [00:00<?, ?it/s]"
      ]
     },
     "metadata": {},
     "output_type": "display_data"
    },
    {
     "data": {
      "application/vnd.jupyter.widget-view+json": {
       "model_id": "",
       "version_major": 2,
       "version_minor": 0
      },
      "text/plain": [
       "Inner Folds:   0%|          | 0/9 [00:00<?, ?it/s]"
      ]
     },
     "metadata": {},
     "output_type": "display_data"
    },
    {
     "data": {
      "application/vnd.jupyter.widget-view+json": {
       "model_id": "",
       "version_major": 2,
       "version_minor": 0
      },
      "text/plain": [
       "Eval Folds:   0%|          | 0/10 [00:00<?, ?it/s]"
      ]
     },
     "metadata": {},
     "output_type": "display_data"
    },
    {
     "name": "stdout",
     "output_type": "stream",
     "text": [
      "Sampling\n"
     ]
    },
    {
     "data": {
      "application/vnd.jupyter.widget-view+json": {
       "model_id": "",
       "version_major": 2,
       "version_minor": 0
      },
      "text/plain": [
       "Bootstrapping rounds:   0%|          | 0/10000 [00:00<?, ?it/s]"
      ]
     },
     "metadata": {},
     "output_type": "display_data"
    },
    {
     "name": "stdout",
     "output_type": "stream",
     "text": [
      "Making results DF and curves\n",
      "../output/230327_fixing_exprscore_filt/bootstrapping/CEDAR_mean_rocs_onehot_Inverted-Shannon_icore_mut_EL_rank_mut_aliphatic_index-boman-hydrophobicity-isoelectric_point-VHSE1-VHSE3-VHSE7-VHSE8-icore_dissimilarity_score-ratio_rank-EL_rank_wt_aligned-Total_Peptide_TPM.pkl saved.\n"
     ]
    },
    {
     "data": {
      "application/vnd.jupyter.widget-view+json": {
       "model_id": "",
       "version_major": 2,
       "version_minor": 0
      },
      "text/plain": [
       "Eval Folds:   0%|          | 0/10 [00:00<?, ?it/s]"
      ]
     },
     "metadata": {},
     "output_type": "display_data"
    },
    {
     "name": "stdout",
     "output_type": "stream",
     "text": [
      "Sampling\n"
     ]
    },
    {
     "data": {
      "application/vnd.jupyter.widget-view+json": {
       "model_id": "",
       "version_major": 2,
       "version_minor": 0
      },
      "text/plain": [
       "Bootstrapping rounds:   0%|          | 0/10000 [00:00<?, ?it/s]"
      ]
     },
     "metadata": {},
     "output_type": "display_data"
    },
    {
     "name": "stdout",
     "output_type": "stream",
     "text": [
      "Making results DF and curves\n",
      "../output/230327_fixing_exprscore_filt/bootstrapping/PRIME_mean_rocs_onehot_Inverted-Shannon_icore_mut_EL_rank_mut_aliphatic_index-boman-hydrophobicity-isoelectric_point-VHSE1-VHSE3-VHSE7-VHSE8-icore_dissimilarity_score-ratio_rank-EL_rank_wt_aligned-Total_Peptide_TPM.pkl saved.\n"
     ]
    },
    {
     "data": {
      "application/vnd.jupyter.widget-view+json": {
       "model_id": "",
       "version_major": 2,
       "version_minor": 0
      },
      "text/plain": [
       "Eval Folds:   0%|          | 0/10 [00:00<?, ?it/s]"
      ]
     },
     "metadata": {},
     "output_type": "display_data"
    },
    {
     "name": "stdout",
     "output_type": "stream",
     "text": [
      "Sampling\n"
     ]
    },
    {
     "data": {
      "application/vnd.jupyter.widget-view+json": {
       "model_id": "",
       "version_major": 2,
       "version_minor": 0
      },
      "text/plain": [
       "Bootstrapping rounds:   0%|          | 0/10000 [00:00<?, ?it/s]"
      ]
     },
     "metadata": {},
     "output_type": "display_data"
    },
    {
     "name": "stdout",
     "output_type": "stream",
     "text": [
      "Making results DF and curves\n",
      "../output/230327_fixing_exprscore_filt/bootstrapping/NEPDB_mean_rocs_onehot_Inverted-Shannon_icore_mut_EL_rank_mut_aliphatic_index-boman-hydrophobicity-isoelectric_point-VHSE1-VHSE3-VHSE7-VHSE8-icore_dissimilarity_score-ratio_rank-EL_rank_wt_aligned-Total_Peptide_TPM.pkl saved.\n",
      "Training\n"
     ]
    },
    {
     "data": {
      "application/vnd.jupyter.widget-view+json": {
       "model_id": "",
       "version_major": 2,
       "version_minor": 0
      },
      "text/plain": [
       "Outer fold:   0%|          | 0/10 [00:00<?, ?it/s]"
      ]
     },
     "metadata": {},
     "output_type": "display_data"
    },
    {
     "data": {
      "application/vnd.jupyter.widget-view+json": {
       "model_id": "",
       "version_major": 2,
       "version_minor": 0
      },
      "text/plain": [
       "Inner Folds:   0%|          | 0/9 [00:00<?, ?it/s]"
      ]
     },
     "metadata": {},
     "output_type": "display_data"
    },
    {
     "data": {
      "application/vnd.jupyter.widget-view+json": {
       "model_id": "",
       "version_major": 2,
       "version_minor": 0
      },
      "text/plain": [
       "Inner Folds:   0%|          | 0/9 [00:00<?, ?it/s]"
      ]
     },
     "metadata": {},
     "output_type": "display_data"
    },
    {
     "data": {
      "application/vnd.jupyter.widget-view+json": {
       "model_id": "",
       "version_major": 2,
       "version_minor": 0
      },
      "text/plain": [
       "Inner Folds:   0%|          | 0/9 [00:00<?, ?it/s]"
      ]
     },
     "metadata": {},
     "output_type": "display_data"
    },
    {
     "data": {
      "application/vnd.jupyter.widget-view+json": {
       "model_id": "",
       "version_major": 2,
       "version_minor": 0
      },
      "text/plain": [
       "Inner Folds:   0%|          | 0/9 [00:00<?, ?it/s]"
      ]
     },
     "metadata": {},
     "output_type": "display_data"
    },
    {
     "data": {
      "application/vnd.jupyter.widget-view+json": {
       "model_id": "",
       "version_major": 2,
       "version_minor": 0
      },
      "text/plain": [
       "Inner Folds:   0%|          | 0/9 [00:00<?, ?it/s]"
      ]
     },
     "metadata": {},
     "output_type": "display_data"
    },
    {
     "data": {
      "application/vnd.jupyter.widget-view+json": {
       "model_id": "",
       "version_major": 2,
       "version_minor": 0
      },
      "text/plain": [
       "Inner Folds:   0%|          | 0/9 [00:00<?, ?it/s]"
      ]
     },
     "metadata": {},
     "output_type": "display_data"
    },
    {
     "data": {
      "application/vnd.jupyter.widget-view+json": {
       "model_id": "",
       "version_major": 2,
       "version_minor": 0
      },
      "text/plain": [
       "Inner Folds:   0%|          | 0/9 [00:00<?, ?it/s]"
      ]
     },
     "metadata": {},
     "output_type": "display_data"
    },
    {
     "data": {
      "application/vnd.jupyter.widget-view+json": {
       "model_id": "",
       "version_major": 2,
       "version_minor": 0
      },
      "text/plain": [
       "Inner Folds:   0%|          | 0/9 [00:00<?, ?it/s]"
      ]
     },
     "metadata": {},
     "output_type": "display_data"
    },
    {
     "data": {
      "application/vnd.jupyter.widget-view+json": {
       "model_id": "",
       "version_major": 2,
       "version_minor": 0
      },
      "text/plain": [
       "Inner Folds:   0%|          | 0/9 [00:00<?, ?it/s]"
      ]
     },
     "metadata": {},
     "output_type": "display_data"
    },
    {
     "data": {
      "application/vnd.jupyter.widget-view+json": {
       "model_id": "",
       "version_major": 2,
       "version_minor": 0
      },
      "text/plain": [
       "Inner Folds:   0%|          | 0/9 [00:00<?, ?it/s]"
      ]
     },
     "metadata": {},
     "output_type": "display_data"
    },
    {
     "data": {
      "application/vnd.jupyter.widget-view+json": {
       "model_id": "",
       "version_major": 2,
       "version_minor": 0
      },
      "text/plain": [
       "Eval Folds:   0%|          | 0/10 [00:00<?, ?it/s]"
      ]
     },
     "metadata": {},
     "output_type": "display_data"
    },
    {
     "name": "stdout",
     "output_type": "stream",
     "text": [
      "Sampling\n"
     ]
    },
    {
     "data": {
      "application/vnd.jupyter.widget-view+json": {
       "model_id": "",
       "version_major": 2,
       "version_minor": 0
      },
      "text/plain": [
       "Bootstrapping rounds:   0%|          | 0/10000 [00:00<?, ?it/s]"
      ]
     },
     "metadata": {},
     "output_type": "display_data"
    },
    {
     "name": "stdout",
     "output_type": "stream",
     "text": [
      "Making results DF and curves\n",
      "../output/230327_fixing_exprscore_filt/bootstrapping/CEDAR_mean_rocs_onehot_None_icore_mut_EL_rank_mut_aliphatic_index-boman-hydrophobicity-isoelectric_point-VHSE1-VHSE3-VHSE7-VHSE8-icore_dissimilarity_score-ratio_rank-EL_rank_wt_aligned-Total_Peptide_TPM.pkl saved.\n"
     ]
    },
    {
     "data": {
      "application/vnd.jupyter.widget-view+json": {
       "model_id": "",
       "version_major": 2,
       "version_minor": 0
      },
      "text/plain": [
       "Eval Folds:   0%|          | 0/10 [00:00<?, ?it/s]"
      ]
     },
     "metadata": {},
     "output_type": "display_data"
    },
    {
     "name": "stdout",
     "output_type": "stream",
     "text": [
      "Sampling\n"
     ]
    },
    {
     "data": {
      "application/vnd.jupyter.widget-view+json": {
       "model_id": "",
       "version_major": 2,
       "version_minor": 0
      },
      "text/plain": [
       "Bootstrapping rounds:   0%|          | 0/10000 [00:00<?, ?it/s]"
      ]
     },
     "metadata": {},
     "output_type": "display_data"
    },
    {
     "name": "stdout",
     "output_type": "stream",
     "text": [
      "Making results DF and curves\n",
      "../output/230327_fixing_exprscore_filt/bootstrapping/PRIME_mean_rocs_onehot_None_icore_mut_EL_rank_mut_aliphatic_index-boman-hydrophobicity-isoelectric_point-VHSE1-VHSE3-VHSE7-VHSE8-icore_dissimilarity_score-ratio_rank-EL_rank_wt_aligned-Total_Peptide_TPM.pkl saved.\n"
     ]
    },
    {
     "data": {
      "application/vnd.jupyter.widget-view+json": {
       "model_id": "",
       "version_major": 2,
       "version_minor": 0
      },
      "text/plain": [
       "Eval Folds:   0%|          | 0/10 [00:00<?, ?it/s]"
      ]
     },
     "metadata": {},
     "output_type": "display_data"
    },
    {
     "name": "stdout",
     "output_type": "stream",
     "text": [
      "Sampling\n"
     ]
    },
    {
     "data": {
      "application/vnd.jupyter.widget-view+json": {
       "model_id": "",
       "version_major": 2,
       "version_minor": 0
      },
      "text/plain": [
       "Bootstrapping rounds:   0%|          | 0/10000 [00:00<?, ?it/s]"
      ]
     },
     "metadata": {},
     "output_type": "display_data"
    },
    {
     "name": "stdout",
     "output_type": "stream",
     "text": [
      "Making results DF and curves\n",
      "../output/230327_fixing_exprscore_filt/bootstrapping/NEPDB_mean_rocs_onehot_None_icore_mut_EL_rank_mut_aliphatic_index-boman-hydrophobicity-isoelectric_point-VHSE1-VHSE3-VHSE7-VHSE8-icore_dissimilarity_score-ratio_rank-EL_rank_wt_aligned-Total_Peptide_TPM.pkl saved.\n",
      "Training\n"
     ]
    },
    {
     "data": {
      "application/vnd.jupyter.widget-view+json": {
       "model_id": "",
       "version_major": 2,
       "version_minor": 0
      },
      "text/plain": [
       "Outer fold:   0%|          | 0/10 [00:00<?, ?it/s]"
      ]
     },
     "metadata": {},
     "output_type": "display_data"
    },
    {
     "data": {
      "application/vnd.jupyter.widget-view+json": {
       "model_id": "",
       "version_major": 2,
       "version_minor": 0
      },
      "text/plain": [
       "Inner Folds:   0%|          | 0/9 [00:00<?, ?it/s]"
      ]
     },
     "metadata": {},
     "output_type": "display_data"
    },
    {
     "data": {
      "application/vnd.jupyter.widget-view+json": {
       "model_id": "",
       "version_major": 2,
       "version_minor": 0
      },
      "text/plain": [
       "Inner Folds:   0%|          | 0/9 [00:00<?, ?it/s]"
      ]
     },
     "metadata": {},
     "output_type": "display_data"
    },
    {
     "data": {
      "application/vnd.jupyter.widget-view+json": {
       "model_id": "",
       "version_major": 2,
       "version_minor": 0
      },
      "text/plain": [
       "Inner Folds:   0%|          | 0/9 [00:00<?, ?it/s]"
      ]
     },
     "metadata": {},
     "output_type": "display_data"
    },
    {
     "data": {
      "application/vnd.jupyter.widget-view+json": {
       "model_id": "",
       "version_major": 2,
       "version_minor": 0
      },
      "text/plain": [
       "Inner Folds:   0%|          | 0/9 [00:00<?, ?it/s]"
      ]
     },
     "metadata": {},
     "output_type": "display_data"
    },
    {
     "data": {
      "application/vnd.jupyter.widget-view+json": {
       "model_id": "",
       "version_major": 2,
       "version_minor": 0
      },
      "text/plain": [
       "Inner Folds:   0%|          | 0/9 [00:00<?, ?it/s]"
      ]
     },
     "metadata": {},
     "output_type": "display_data"
    },
    {
     "data": {
      "application/vnd.jupyter.widget-view+json": {
       "model_id": "",
       "version_major": 2,
       "version_minor": 0
      },
      "text/plain": [
       "Inner Folds:   0%|          | 0/9 [00:00<?, ?it/s]"
      ]
     },
     "metadata": {},
     "output_type": "display_data"
    },
    {
     "data": {
      "application/vnd.jupyter.widget-view+json": {
       "model_id": "",
       "version_major": 2,
       "version_minor": 0
      },
      "text/plain": [
       "Inner Folds:   0%|          | 0/9 [00:00<?, ?it/s]"
      ]
     },
     "metadata": {},
     "output_type": "display_data"
    },
    {
     "data": {
      "application/vnd.jupyter.widget-view+json": {
       "model_id": "",
       "version_major": 2,
       "version_minor": 0
      },
      "text/plain": [
       "Inner Folds:   0%|          | 0/9 [00:00<?, ?it/s]"
      ]
     },
     "metadata": {},
     "output_type": "display_data"
    },
    {
     "data": {
      "application/vnd.jupyter.widget-view+json": {
       "model_id": "",
       "version_major": 2,
       "version_minor": 0
      },
      "text/plain": [
       "Inner Folds:   0%|          | 0/9 [00:00<?, ?it/s]"
      ]
     },
     "metadata": {},
     "output_type": "display_data"
    },
    {
     "data": {
      "application/vnd.jupyter.widget-view+json": {
       "model_id": "",
       "version_major": 2,
       "version_minor": 0
      },
      "text/plain": [
       "Inner Folds:   0%|          | 0/9 [00:00<?, ?it/s]"
      ]
     },
     "metadata": {},
     "output_type": "display_data"
    },
    {
     "data": {
      "application/vnd.jupyter.widget-view+json": {
       "model_id": "",
       "version_major": 2,
       "version_minor": 0
      },
      "text/plain": [
       "Eval Folds:   0%|          | 0/10 [00:00<?, ?it/s]"
      ]
     },
     "metadata": {},
     "output_type": "display_data"
    },
    {
     "name": "stdout",
     "output_type": "stream",
     "text": [
      "Sampling\n"
     ]
    },
    {
     "data": {
      "application/vnd.jupyter.widget-view+json": {
       "model_id": "",
       "version_major": 2,
       "version_minor": 0
      },
      "text/plain": [
       "Bootstrapping rounds:   0%|          | 0/10000 [00:00<?, ?it/s]"
      ]
     },
     "metadata": {},
     "output_type": "display_data"
    },
    {
     "name": "stdout",
     "output_type": "stream",
     "text": [
      "Making results DF and curves\n",
      "../output/230327_fixing_exprscore_filt/bootstrapping/CEDAR_mean_rocs_onehot_Mask_icore_mut_EL_rank_mut_aliphatic_index-boman-hydrophobicity-isoelectric_point-VHSE1-VHSE3-VHSE7-VHSE8-icore_dissimilarity_score-ratio_rank-EL_rank_wt_aligned-Total_Peptide_TPM.pkl saved.\n"
     ]
    },
    {
     "data": {
      "application/vnd.jupyter.widget-view+json": {
       "model_id": "",
       "version_major": 2,
       "version_minor": 0
      },
      "text/plain": [
       "Eval Folds:   0%|          | 0/10 [00:00<?, ?it/s]"
      ]
     },
     "metadata": {},
     "output_type": "display_data"
    },
    {
     "name": "stdout",
     "output_type": "stream",
     "text": [
      "Sampling\n"
     ]
    },
    {
     "data": {
      "application/vnd.jupyter.widget-view+json": {
       "model_id": "",
       "version_major": 2,
       "version_minor": 0
      },
      "text/plain": [
       "Bootstrapping rounds:   0%|          | 0/10000 [00:00<?, ?it/s]"
      ]
     },
     "metadata": {},
     "output_type": "display_data"
    },
    {
     "name": "stdout",
     "output_type": "stream",
     "text": [
      "Making results DF and curves\n",
      "../output/230327_fixing_exprscore_filt/bootstrapping/PRIME_mean_rocs_onehot_Mask_icore_mut_EL_rank_mut_aliphatic_index-boman-hydrophobicity-isoelectric_point-VHSE1-VHSE3-VHSE7-VHSE8-icore_dissimilarity_score-ratio_rank-EL_rank_wt_aligned-Total_Peptide_TPM.pkl saved.\n"
     ]
    },
    {
     "data": {
      "application/vnd.jupyter.widget-view+json": {
       "model_id": "",
       "version_major": 2,
       "version_minor": 0
      },
      "text/plain": [
       "Eval Folds:   0%|          | 0/10 [00:00<?, ?it/s]"
      ]
     },
     "metadata": {},
     "output_type": "display_data"
    },
    {
     "name": "stdout",
     "output_type": "stream",
     "text": [
      "Sampling\n"
     ]
    },
    {
     "data": {
      "application/vnd.jupyter.widget-view+json": {
       "model_id": "",
       "version_major": 2,
       "version_minor": 0
      },
      "text/plain": [
       "Bootstrapping rounds:   0%|          | 0/10000 [00:00<?, ?it/s]"
      ]
     },
     "metadata": {},
     "output_type": "display_data"
    },
    {
     "name": "stdout",
     "output_type": "stream",
     "text": [
      "Making results DF and curves\n",
      "../output/230327_fixing_exprscore_filt/bootstrapping/NEPDB_mean_rocs_onehot_Mask_icore_mut_EL_rank_mut_aliphatic_index-boman-hydrophobicity-isoelectric_point-VHSE1-VHSE3-VHSE7-VHSE8-icore_dissimilarity_score-ratio_rank-EL_rank_wt_aligned-Total_Peptide_TPM.pkl saved.\n"
     ]
    },
    {
     "data": {
      "application/vnd.jupyter.widget-view+json": {
       "model_id": "",
       "version_major": 2,
       "version_minor": 0
      },
      "text/plain": [
       "encoding: 0it [00:00, ?it/s]"
      ]
     },
     "metadata": {},
     "output_type": "display_data"
    },
    {
     "name": "stdout",
     "output_type": "stream",
     "text": [
      "Training\n"
     ]
    },
    {
     "data": {
      "application/vnd.jupyter.widget-view+json": {
       "model_id": "",
       "version_major": 2,
       "version_minor": 0
      },
      "text/plain": [
       "Outer fold:   0%|          | 0/10 [00:00<?, ?it/s]"
      ]
     },
     "metadata": {},
     "output_type": "display_data"
    },
    {
     "data": {
      "application/vnd.jupyter.widget-view+json": {
       "model_id": "",
       "version_major": 2,
       "version_minor": 0
      },
      "text/plain": [
       "Inner Folds:   0%|          | 0/9 [00:00<?, ?it/s]"
      ]
     },
     "metadata": {},
     "output_type": "display_data"
    },
    {
     "data": {
      "application/vnd.jupyter.widget-view+json": {
       "model_id": "",
       "version_major": 2,
       "version_minor": 0
      },
      "text/plain": [
       "Inner Folds:   0%|          | 0/9 [00:00<?, ?it/s]"
      ]
     },
     "metadata": {},
     "output_type": "display_data"
    },
    {
     "data": {
      "application/vnd.jupyter.widget-view+json": {
       "model_id": "",
       "version_major": 2,
       "version_minor": 0
      },
      "text/plain": [
       "Inner Folds:   0%|          | 0/9 [00:00<?, ?it/s]"
      ]
     },
     "metadata": {},
     "output_type": "display_data"
    },
    {
     "data": {
      "application/vnd.jupyter.widget-view+json": {
       "model_id": "",
       "version_major": 2,
       "version_minor": 0
      },
      "text/plain": [
       "Inner Folds:   0%|          | 0/9 [00:00<?, ?it/s]"
      ]
     },
     "metadata": {},
     "output_type": "display_data"
    },
    {
     "data": {
      "application/vnd.jupyter.widget-view+json": {
       "model_id": "",
       "version_major": 2,
       "version_minor": 0
      },
      "text/plain": [
       "Inner Folds:   0%|          | 0/9 [00:00<?, ?it/s]"
      ]
     },
     "metadata": {},
     "output_type": "display_data"
    },
    {
     "data": {
      "application/vnd.jupyter.widget-view+json": {
       "model_id": "",
       "version_major": 2,
       "version_minor": 0
      },
      "text/plain": [
       "Inner Folds:   0%|          | 0/9 [00:00<?, ?it/s]"
      ]
     },
     "metadata": {},
     "output_type": "display_data"
    },
    {
     "data": {
      "application/vnd.jupyter.widget-view+json": {
       "model_id": "",
       "version_major": 2,
       "version_minor": 0
      },
      "text/plain": [
       "Inner Folds:   0%|          | 0/9 [00:00<?, ?it/s]"
      ]
     },
     "metadata": {},
     "output_type": "display_data"
    },
    {
     "data": {
      "application/vnd.jupyter.widget-view+json": {
       "model_id": "",
       "version_major": 2,
       "version_minor": 0
      },
      "text/plain": [
       "Inner Folds:   0%|          | 0/9 [00:00<?, ?it/s]"
      ]
     },
     "metadata": {},
     "output_type": "display_data"
    },
    {
     "data": {
      "application/vnd.jupyter.widget-view+json": {
       "model_id": "",
       "version_major": 2,
       "version_minor": 0
      },
      "text/plain": [
       "Inner Folds:   0%|          | 0/9 [00:00<?, ?it/s]"
      ]
     },
     "metadata": {},
     "output_type": "display_data"
    },
    {
     "data": {
      "application/vnd.jupyter.widget-view+json": {
       "model_id": "",
       "version_major": 2,
       "version_minor": 0
      },
      "text/plain": [
       "Inner Folds:   0%|          | 0/9 [00:00<?, ?it/s]"
      ]
     },
     "metadata": {},
     "output_type": "display_data"
    },
    {
     "data": {
      "application/vnd.jupyter.widget-view+json": {
       "model_id": "",
       "version_major": 2,
       "version_minor": 0
      },
      "text/plain": [
       "Eval Folds:   0%|          | 0/10 [00:00<?, ?it/s]"
      ]
     },
     "metadata": {},
     "output_type": "display_data"
    },
    {
     "name": "stdout",
     "output_type": "stream",
     "text": [
      "Sampling\n"
     ]
    },
    {
     "data": {
      "application/vnd.jupyter.widget-view+json": {
       "model_id": "",
       "version_major": 2,
       "version_minor": 0
      },
      "text/plain": [
       "Bootstrapping rounds:   0%|          | 0/10000 [00:00<?, ?it/s]"
      ]
     },
     "metadata": {},
     "output_type": "display_data"
    },
    {
     "name": "stdout",
     "output_type": "stream",
     "text": [
      "Making results DF and curves\n",
      "../output/230327_fixing_exprscore_filt/bootstrapping/CEDAR_mean_rocs_onehot_Inverted-Shannon_icore_mut_EL_rank_mut_aliphatic_index-boman-hydrophobicity-isoelectric_point-VHSE1-VHSE3-VHSE7-VHSE8-icore_dissimilarity_score-ratio_rank-EL_rank_wt_aligned-Total_Scaled_Peptide_TPM.pkl saved.\n"
     ]
    },
    {
     "data": {
      "application/vnd.jupyter.widget-view+json": {
       "model_id": "",
       "version_major": 2,
       "version_minor": 0
      },
      "text/plain": [
       "Eval Folds:   0%|          | 0/10 [00:00<?, ?it/s]"
      ]
     },
     "metadata": {},
     "output_type": "display_data"
    },
    {
     "name": "stdout",
     "output_type": "stream",
     "text": [
      "Sampling\n"
     ]
    },
    {
     "data": {
      "application/vnd.jupyter.widget-view+json": {
       "model_id": "",
       "version_major": 2,
       "version_minor": 0
      },
      "text/plain": [
       "Bootstrapping rounds:   0%|          | 0/10000 [00:00<?, ?it/s]"
      ]
     },
     "metadata": {},
     "output_type": "display_data"
    },
    {
     "name": "stdout",
     "output_type": "stream",
     "text": [
      "Making results DF and curves\n",
      "../output/230327_fixing_exprscore_filt/bootstrapping/PRIME_mean_rocs_onehot_Inverted-Shannon_icore_mut_EL_rank_mut_aliphatic_index-boman-hydrophobicity-isoelectric_point-VHSE1-VHSE3-VHSE7-VHSE8-icore_dissimilarity_score-ratio_rank-EL_rank_wt_aligned-Total_Scaled_Peptide_TPM.pkl saved.\n"
     ]
    },
    {
     "data": {
      "application/vnd.jupyter.widget-view+json": {
       "model_id": "",
       "version_major": 2,
       "version_minor": 0
      },
      "text/plain": [
       "Eval Folds:   0%|          | 0/10 [00:00<?, ?it/s]"
      ]
     },
     "metadata": {},
     "output_type": "display_data"
    },
    {
     "name": "stdout",
     "output_type": "stream",
     "text": [
      "Sampling\n"
     ]
    },
    {
     "data": {
      "application/vnd.jupyter.widget-view+json": {
       "model_id": "",
       "version_major": 2,
       "version_minor": 0
      },
      "text/plain": [
       "Bootstrapping rounds:   0%|          | 0/10000 [00:00<?, ?it/s]"
      ]
     },
     "metadata": {},
     "output_type": "display_data"
    },
    {
     "name": "stdout",
     "output_type": "stream",
     "text": [
      "Making results DF and curves\n",
      "../output/230327_fixing_exprscore_filt/bootstrapping/NEPDB_mean_rocs_onehot_Inverted-Shannon_icore_mut_EL_rank_mut_aliphatic_index-boman-hydrophobicity-isoelectric_point-VHSE1-VHSE3-VHSE7-VHSE8-icore_dissimilarity_score-ratio_rank-EL_rank_wt_aligned-Total_Scaled_Peptide_TPM.pkl saved.\n",
      "Training\n"
     ]
    },
    {
     "data": {
      "application/vnd.jupyter.widget-view+json": {
       "model_id": "",
       "version_major": 2,
       "version_minor": 0
      },
      "text/plain": [
       "Outer fold:   0%|          | 0/10 [00:00<?, ?it/s]"
      ]
     },
     "metadata": {},
     "output_type": "display_data"
    },
    {
     "data": {
      "application/vnd.jupyter.widget-view+json": {
       "model_id": "",
       "version_major": 2,
       "version_minor": 0
      },
      "text/plain": [
       "Inner Folds:   0%|          | 0/9 [00:00<?, ?it/s]"
      ]
     },
     "metadata": {},
     "output_type": "display_data"
    },
    {
     "data": {
      "application/vnd.jupyter.widget-view+json": {
       "model_id": "",
       "version_major": 2,
       "version_minor": 0
      },
      "text/plain": [
       "Inner Folds:   0%|          | 0/9 [00:00<?, ?it/s]"
      ]
     },
     "metadata": {},
     "output_type": "display_data"
    },
    {
     "data": {
      "application/vnd.jupyter.widget-view+json": {
       "model_id": "",
       "version_major": 2,
       "version_minor": 0
      },
      "text/plain": [
       "Inner Folds:   0%|          | 0/9 [00:00<?, ?it/s]"
      ]
     },
     "metadata": {},
     "output_type": "display_data"
    },
    {
     "data": {
      "application/vnd.jupyter.widget-view+json": {
       "model_id": "",
       "version_major": 2,
       "version_minor": 0
      },
      "text/plain": [
       "Inner Folds:   0%|          | 0/9 [00:00<?, ?it/s]"
      ]
     },
     "metadata": {},
     "output_type": "display_data"
    },
    {
     "data": {
      "application/vnd.jupyter.widget-view+json": {
       "model_id": "",
       "version_major": 2,
       "version_minor": 0
      },
      "text/plain": [
       "Inner Folds:   0%|          | 0/9 [00:00<?, ?it/s]"
      ]
     },
     "metadata": {},
     "output_type": "display_data"
    },
    {
     "data": {
      "application/vnd.jupyter.widget-view+json": {
       "model_id": "",
       "version_major": 2,
       "version_minor": 0
      },
      "text/plain": [
       "Inner Folds:   0%|          | 0/9 [00:00<?, ?it/s]"
      ]
     },
     "metadata": {},
     "output_type": "display_data"
    },
    {
     "data": {
      "application/vnd.jupyter.widget-view+json": {
       "model_id": "",
       "version_major": 2,
       "version_minor": 0
      },
      "text/plain": [
       "Inner Folds:   0%|          | 0/9 [00:00<?, ?it/s]"
      ]
     },
     "metadata": {},
     "output_type": "display_data"
    },
    {
     "data": {
      "application/vnd.jupyter.widget-view+json": {
       "model_id": "",
       "version_major": 2,
       "version_minor": 0
      },
      "text/plain": [
       "Inner Folds:   0%|          | 0/9 [00:00<?, ?it/s]"
      ]
     },
     "metadata": {},
     "output_type": "display_data"
    },
    {
     "data": {
      "application/vnd.jupyter.widget-view+json": {
       "model_id": "",
       "version_major": 2,
       "version_minor": 0
      },
      "text/plain": [
       "Inner Folds:   0%|          | 0/9 [00:00<?, ?it/s]"
      ]
     },
     "metadata": {},
     "output_type": "display_data"
    },
    {
     "data": {
      "application/vnd.jupyter.widget-view+json": {
       "model_id": "",
       "version_major": 2,
       "version_minor": 0
      },
      "text/plain": [
       "Inner Folds:   0%|          | 0/9 [00:00<?, ?it/s]"
      ]
     },
     "metadata": {},
     "output_type": "display_data"
    },
    {
     "data": {
      "application/vnd.jupyter.widget-view+json": {
       "model_id": "",
       "version_major": 2,
       "version_minor": 0
      },
      "text/plain": [
       "Eval Folds:   0%|          | 0/10 [00:00<?, ?it/s]"
      ]
     },
     "metadata": {},
     "output_type": "display_data"
    },
    {
     "name": "stdout",
     "output_type": "stream",
     "text": [
      "Sampling\n"
     ]
    },
    {
     "data": {
      "application/vnd.jupyter.widget-view+json": {
       "model_id": "",
       "version_major": 2,
       "version_minor": 0
      },
      "text/plain": [
       "Bootstrapping rounds:   0%|          | 0/10000 [00:00<?, ?it/s]"
      ]
     },
     "metadata": {},
     "output_type": "display_data"
    },
    {
     "name": "stdout",
     "output_type": "stream",
     "text": [
      "Making results DF and curves\n",
      "../output/230327_fixing_exprscore_filt/bootstrapping/CEDAR_mean_rocs_onehot_None_icore_mut_EL_rank_mut_aliphatic_index-boman-hydrophobicity-isoelectric_point-VHSE1-VHSE3-VHSE7-VHSE8-icore_dissimilarity_score-ratio_rank-EL_rank_wt_aligned-Total_Scaled_Peptide_TPM.pkl saved.\n"
     ]
    },
    {
     "data": {
      "application/vnd.jupyter.widget-view+json": {
       "model_id": "",
       "version_major": 2,
       "version_minor": 0
      },
      "text/plain": [
       "Eval Folds:   0%|          | 0/10 [00:00<?, ?it/s]"
      ]
     },
     "metadata": {},
     "output_type": "display_data"
    },
    {
     "name": "stdout",
     "output_type": "stream",
     "text": [
      "Sampling\n"
     ]
    },
    {
     "data": {
      "application/vnd.jupyter.widget-view+json": {
       "model_id": "",
       "version_major": 2,
       "version_minor": 0
      },
      "text/plain": [
       "Bootstrapping rounds:   0%|          | 0/10000 [00:00<?, ?it/s]"
      ]
     },
     "metadata": {},
     "output_type": "display_data"
    },
    {
     "name": "stdout",
     "output_type": "stream",
     "text": [
      "Making results DF and curves\n",
      "../output/230327_fixing_exprscore_filt/bootstrapping/PRIME_mean_rocs_onehot_None_icore_mut_EL_rank_mut_aliphatic_index-boman-hydrophobicity-isoelectric_point-VHSE1-VHSE3-VHSE7-VHSE8-icore_dissimilarity_score-ratio_rank-EL_rank_wt_aligned-Total_Scaled_Peptide_TPM.pkl saved.\n"
     ]
    },
    {
     "data": {
      "application/vnd.jupyter.widget-view+json": {
       "model_id": "",
       "version_major": 2,
       "version_minor": 0
      },
      "text/plain": [
       "Eval Folds:   0%|          | 0/10 [00:00<?, ?it/s]"
      ]
     },
     "metadata": {},
     "output_type": "display_data"
    },
    {
     "name": "stdout",
     "output_type": "stream",
     "text": [
      "Sampling\n"
     ]
    },
    {
     "data": {
      "application/vnd.jupyter.widget-view+json": {
       "model_id": "",
       "version_major": 2,
       "version_minor": 0
      },
      "text/plain": [
       "Bootstrapping rounds:   0%|          | 0/10000 [00:00<?, ?it/s]"
      ]
     },
     "metadata": {},
     "output_type": "display_data"
    },
    {
     "name": "stdout",
     "output_type": "stream",
     "text": [
      "Making results DF and curves\n",
      "../output/230327_fixing_exprscore_filt/bootstrapping/NEPDB_mean_rocs_onehot_None_icore_mut_EL_rank_mut_aliphatic_index-boman-hydrophobicity-isoelectric_point-VHSE1-VHSE3-VHSE7-VHSE8-icore_dissimilarity_score-ratio_rank-EL_rank_wt_aligned-Total_Scaled_Peptide_TPM.pkl saved.\n",
      "Training\n"
     ]
    },
    {
     "data": {
      "application/vnd.jupyter.widget-view+json": {
       "model_id": "",
       "version_major": 2,
       "version_minor": 0
      },
      "text/plain": [
       "Outer fold:   0%|          | 0/10 [00:00<?, ?it/s]"
      ]
     },
     "metadata": {},
     "output_type": "display_data"
    },
    {
     "data": {
      "application/vnd.jupyter.widget-view+json": {
       "model_id": "",
       "version_major": 2,
       "version_minor": 0
      },
      "text/plain": [
       "Inner Folds:   0%|          | 0/9 [00:00<?, ?it/s]"
      ]
     },
     "metadata": {},
     "output_type": "display_data"
    },
    {
     "data": {
      "application/vnd.jupyter.widget-view+json": {
       "model_id": "",
       "version_major": 2,
       "version_minor": 0
      },
      "text/plain": [
       "Inner Folds:   0%|          | 0/9 [00:00<?, ?it/s]"
      ]
     },
     "metadata": {},
     "output_type": "display_data"
    },
    {
     "data": {
      "application/vnd.jupyter.widget-view+json": {
       "model_id": "",
       "version_major": 2,
       "version_minor": 0
      },
      "text/plain": [
       "Inner Folds:   0%|          | 0/9 [00:00<?, ?it/s]"
      ]
     },
     "metadata": {},
     "output_type": "display_data"
    },
    {
     "data": {
      "application/vnd.jupyter.widget-view+json": {
       "model_id": "",
       "version_major": 2,
       "version_minor": 0
      },
      "text/plain": [
       "Inner Folds:   0%|          | 0/9 [00:00<?, ?it/s]"
      ]
     },
     "metadata": {},
     "output_type": "display_data"
    },
    {
     "data": {
      "application/vnd.jupyter.widget-view+json": {
       "model_id": "",
       "version_major": 2,
       "version_minor": 0
      },
      "text/plain": [
       "Inner Folds:   0%|          | 0/9 [00:00<?, ?it/s]"
      ]
     },
     "metadata": {},
     "output_type": "display_data"
    },
    {
     "data": {
      "application/vnd.jupyter.widget-view+json": {
       "model_id": "",
       "version_major": 2,
       "version_minor": 0
      },
      "text/plain": [
       "Inner Folds:   0%|          | 0/9 [00:00<?, ?it/s]"
      ]
     },
     "metadata": {},
     "output_type": "display_data"
    },
    {
     "data": {
      "application/vnd.jupyter.widget-view+json": {
       "model_id": "",
       "version_major": 2,
       "version_minor": 0
      },
      "text/plain": [
       "Inner Folds:   0%|          | 0/9 [00:00<?, ?it/s]"
      ]
     },
     "metadata": {},
     "output_type": "display_data"
    },
    {
     "data": {
      "application/vnd.jupyter.widget-view+json": {
       "model_id": "",
       "version_major": 2,
       "version_minor": 0
      },
      "text/plain": [
       "Inner Folds:   0%|          | 0/9 [00:00<?, ?it/s]"
      ]
     },
     "metadata": {},
     "output_type": "display_data"
    },
    {
     "data": {
      "application/vnd.jupyter.widget-view+json": {
       "model_id": "",
       "version_major": 2,
       "version_minor": 0
      },
      "text/plain": [
       "Inner Folds:   0%|          | 0/9 [00:00<?, ?it/s]"
      ]
     },
     "metadata": {},
     "output_type": "display_data"
    },
    {
     "data": {
      "application/vnd.jupyter.widget-view+json": {
       "model_id": "",
       "version_major": 2,
       "version_minor": 0
      },
      "text/plain": [
       "Inner Folds:   0%|          | 0/9 [00:00<?, ?it/s]"
      ]
     },
     "metadata": {},
     "output_type": "display_data"
    },
    {
     "data": {
      "application/vnd.jupyter.widget-view+json": {
       "model_id": "",
       "version_major": 2,
       "version_minor": 0
      },
      "text/plain": [
       "Eval Folds:   0%|          | 0/10 [00:00<?, ?it/s]"
      ]
     },
     "metadata": {},
     "output_type": "display_data"
    },
    {
     "name": "stdout",
     "output_type": "stream",
     "text": [
      "Sampling\n"
     ]
    },
    {
     "data": {
      "application/vnd.jupyter.widget-view+json": {
       "model_id": "",
       "version_major": 2,
       "version_minor": 0
      },
      "text/plain": [
       "Bootstrapping rounds:   0%|          | 0/10000 [00:00<?, ?it/s]"
      ]
     },
     "metadata": {},
     "output_type": "display_data"
    },
    {
     "name": "stdout",
     "output_type": "stream",
     "text": [
      "Making results DF and curves\n",
      "../output/230327_fixing_exprscore_filt/bootstrapping/CEDAR_mean_rocs_onehot_Mask_icore_mut_EL_rank_mut_aliphatic_index-boman-hydrophobicity-isoelectric_point-VHSE1-VHSE3-VHSE7-VHSE8-icore_dissimilarity_score-ratio_rank-EL_rank_wt_aligned-Total_Scaled_Peptide_TPM.pkl saved.\n"
     ]
    },
    {
     "data": {
      "application/vnd.jupyter.widget-view+json": {
       "model_id": "",
       "version_major": 2,
       "version_minor": 0
      },
      "text/plain": [
       "Eval Folds:   0%|          | 0/10 [00:00<?, ?it/s]"
      ]
     },
     "metadata": {},
     "output_type": "display_data"
    },
    {
     "name": "stdout",
     "output_type": "stream",
     "text": [
      "Sampling\n"
     ]
    },
    {
     "data": {
      "application/vnd.jupyter.widget-view+json": {
       "model_id": "",
       "version_major": 2,
       "version_minor": 0
      },
      "text/plain": [
       "Bootstrapping rounds:   0%|          | 0/10000 [00:00<?, ?it/s]"
      ]
     },
     "metadata": {},
     "output_type": "display_data"
    },
    {
     "name": "stdout",
     "output_type": "stream",
     "text": [
      "Making results DF and curves\n",
      "../output/230327_fixing_exprscore_filt/bootstrapping/PRIME_mean_rocs_onehot_Mask_icore_mut_EL_rank_mut_aliphatic_index-boman-hydrophobicity-isoelectric_point-VHSE1-VHSE3-VHSE7-VHSE8-icore_dissimilarity_score-ratio_rank-EL_rank_wt_aligned-Total_Scaled_Peptide_TPM.pkl saved.\n"
     ]
    },
    {
     "data": {
      "application/vnd.jupyter.widget-view+json": {
       "model_id": "",
       "version_major": 2,
       "version_minor": 0
      },
      "text/plain": [
       "Eval Folds:   0%|          | 0/10 [00:00<?, ?it/s]"
      ]
     },
     "metadata": {},
     "output_type": "display_data"
    },
    {
     "name": "stdout",
     "output_type": "stream",
     "text": [
      "Sampling\n"
     ]
    },
    {
     "data": {
      "application/vnd.jupyter.widget-view+json": {
       "model_id": "",
       "version_major": 2,
       "version_minor": 0
      },
      "text/plain": [
       "Bootstrapping rounds:   0%|          | 0/10000 [00:00<?, ?it/s]"
      ]
     },
     "metadata": {},
     "output_type": "display_data"
    },
    {
     "name": "stdout",
     "output_type": "stream",
     "text": [
      "Making results DF and curves\n",
      "../output/230327_fixing_exprscore_filt/bootstrapping/NEPDB_mean_rocs_onehot_Mask_icore_mut_EL_rank_mut_aliphatic_index-boman-hydrophobicity-isoelectric_point-VHSE1-VHSE3-VHSE7-VHSE8-icore_dissimilarity_score-ratio_rank-EL_rank_wt_aligned-Total_Scaled_Peptide_TPM.pkl saved.\n"
     ]
    },
    {
     "data": {
      "application/vnd.jupyter.widget-view+json": {
       "model_id": "",
       "version_major": 2,
       "version_minor": 0
      },
      "text/plain": [
       "encoding: 0it [00:00, ?it/s]"
      ]
     },
     "metadata": {},
     "output_type": "display_data"
    },
    {
     "name": "stdout",
     "output_type": "stream",
     "text": [
      "Training\n"
     ]
    },
    {
     "data": {
      "application/vnd.jupyter.widget-view+json": {
       "model_id": "",
       "version_major": 2,
       "version_minor": 0
      },
      "text/plain": [
       "Outer fold:   0%|          | 0/10 [00:00<?, ?it/s]"
      ]
     },
     "metadata": {},
     "output_type": "display_data"
    },
    {
     "data": {
      "application/vnd.jupyter.widget-view+json": {
       "model_id": "",
       "version_major": 2,
       "version_minor": 0
      },
      "text/plain": [
       "Inner Folds:   0%|          | 0/9 [00:00<?, ?it/s]"
      ]
     },
     "metadata": {},
     "output_type": "display_data"
    },
    {
     "data": {
      "application/vnd.jupyter.widget-view+json": {
       "model_id": "",
       "version_major": 2,
       "version_minor": 0
      },
      "text/plain": [
       "Inner Folds:   0%|          | 0/9 [00:00<?, ?it/s]"
      ]
     },
     "metadata": {},
     "output_type": "display_data"
    },
    {
     "data": {
      "application/vnd.jupyter.widget-view+json": {
       "model_id": "",
       "version_major": 2,
       "version_minor": 0
      },
      "text/plain": [
       "Inner Folds:   0%|          | 0/9 [00:00<?, ?it/s]"
      ]
     },
     "metadata": {},
     "output_type": "display_data"
    },
    {
     "data": {
      "application/vnd.jupyter.widget-view+json": {
       "model_id": "",
       "version_major": 2,
       "version_minor": 0
      },
      "text/plain": [
       "Inner Folds:   0%|          | 0/9 [00:00<?, ?it/s]"
      ]
     },
     "metadata": {},
     "output_type": "display_data"
    },
    {
     "data": {
      "application/vnd.jupyter.widget-view+json": {
       "model_id": "",
       "version_major": 2,
       "version_minor": 0
      },
      "text/plain": [
       "Inner Folds:   0%|          | 0/9 [00:00<?, ?it/s]"
      ]
     },
     "metadata": {},
     "output_type": "display_data"
    },
    {
     "data": {
      "application/vnd.jupyter.widget-view+json": {
       "model_id": "",
       "version_major": 2,
       "version_minor": 0
      },
      "text/plain": [
       "Inner Folds:   0%|          | 0/9 [00:00<?, ?it/s]"
      ]
     },
     "metadata": {},
     "output_type": "display_data"
    },
    {
     "data": {
      "application/vnd.jupyter.widget-view+json": {
       "model_id": "",
       "version_major": 2,
       "version_minor": 0
      },
      "text/plain": [
       "Inner Folds:   0%|          | 0/9 [00:00<?, ?it/s]"
      ]
     },
     "metadata": {},
     "output_type": "display_data"
    },
    {
     "data": {
      "application/vnd.jupyter.widget-view+json": {
       "model_id": "",
       "version_major": 2,
       "version_minor": 0
      },
      "text/plain": [
       "Inner Folds:   0%|          | 0/9 [00:00<?, ?it/s]"
      ]
     },
     "metadata": {},
     "output_type": "display_data"
    },
    {
     "data": {
      "application/vnd.jupyter.widget-view+json": {
       "model_id": "",
       "version_major": 2,
       "version_minor": 0
      },
      "text/plain": [
       "Inner Folds:   0%|          | 0/9 [00:00<?, ?it/s]"
      ]
     },
     "metadata": {},
     "output_type": "display_data"
    },
    {
     "data": {
      "application/vnd.jupyter.widget-view+json": {
       "model_id": "",
       "version_major": 2,
       "version_minor": 0
      },
      "text/plain": [
       "Inner Folds:   0%|          | 0/9 [00:00<?, ?it/s]"
      ]
     },
     "metadata": {},
     "output_type": "display_data"
    },
    {
     "data": {
      "application/vnd.jupyter.widget-view+json": {
       "model_id": "",
       "version_major": 2,
       "version_minor": 0
      },
      "text/plain": [
       "Eval Folds:   0%|          | 0/10 [00:00<?, ?it/s]"
      ]
     },
     "metadata": {},
     "output_type": "display_data"
    },
    {
     "name": "stdout",
     "output_type": "stream",
     "text": [
      "Sampling\n"
     ]
    },
    {
     "data": {
      "application/vnd.jupyter.widget-view+json": {
       "model_id": "",
       "version_major": 2,
       "version_minor": 0
      },
      "text/plain": [
       "Bootstrapping rounds:   0%|          | 0/10000 [00:00<?, ?it/s]"
      ]
     },
     "metadata": {},
     "output_type": "display_data"
    },
    {
     "name": "stdout",
     "output_type": "stream",
     "text": [
      "Making results DF and curves\n",
      "../output/230327_fixing_exprscore_filt/bootstrapping/CEDAR_mean_rocs_onehot_Inverted-Shannon_icore_mut_EL_rank_mut_aliphatic_index-boman-hydrophobicity-isoelectric_point-VHSE1-VHSE3-VHSE7-VHSE8-icore_dissimilarity_score-ratio_rank-EL_rank_wt_aligned-Total_Gene_TPM.pkl saved.\n"
     ]
    },
    {
     "data": {
      "application/vnd.jupyter.widget-view+json": {
       "model_id": "",
       "version_major": 2,
       "version_minor": 0
      },
      "text/plain": [
       "Eval Folds:   0%|          | 0/10 [00:00<?, ?it/s]"
      ]
     },
     "metadata": {},
     "output_type": "display_data"
    },
    {
     "name": "stdout",
     "output_type": "stream",
     "text": [
      "Sampling\n"
     ]
    },
    {
     "data": {
      "application/vnd.jupyter.widget-view+json": {
       "model_id": "",
       "version_major": 2,
       "version_minor": 0
      },
      "text/plain": [
       "Bootstrapping rounds:   0%|          | 0/10000 [00:00<?, ?it/s]"
      ]
     },
     "metadata": {},
     "output_type": "display_data"
    },
    {
     "name": "stdout",
     "output_type": "stream",
     "text": [
      "Making results DF and curves\n",
      "../output/230327_fixing_exprscore_filt/bootstrapping/PRIME_mean_rocs_onehot_Inverted-Shannon_icore_mut_EL_rank_mut_aliphatic_index-boman-hydrophobicity-isoelectric_point-VHSE1-VHSE3-VHSE7-VHSE8-icore_dissimilarity_score-ratio_rank-EL_rank_wt_aligned-Total_Gene_TPM.pkl saved.\n"
     ]
    },
    {
     "data": {
      "application/vnd.jupyter.widget-view+json": {
       "model_id": "",
       "version_major": 2,
       "version_minor": 0
      },
      "text/plain": [
       "Eval Folds:   0%|          | 0/10 [00:00<?, ?it/s]"
      ]
     },
     "metadata": {},
     "output_type": "display_data"
    },
    {
     "name": "stdout",
     "output_type": "stream",
     "text": [
      "Sampling\n"
     ]
    },
    {
     "data": {
      "application/vnd.jupyter.widget-view+json": {
       "model_id": "",
       "version_major": 2,
       "version_minor": 0
      },
      "text/plain": [
       "Bootstrapping rounds:   0%|          | 0/10000 [00:00<?, ?it/s]"
      ]
     },
     "metadata": {},
     "output_type": "display_data"
    },
    {
     "name": "stdout",
     "output_type": "stream",
     "text": [
      "Making results DF and curves\n",
      "../output/230327_fixing_exprscore_filt/bootstrapping/NEPDB_mean_rocs_onehot_Inverted-Shannon_icore_mut_EL_rank_mut_aliphatic_index-boman-hydrophobicity-isoelectric_point-VHSE1-VHSE3-VHSE7-VHSE8-icore_dissimilarity_score-ratio_rank-EL_rank_wt_aligned-Total_Gene_TPM.pkl saved.\n",
      "Training\n"
     ]
    },
    {
     "data": {
      "application/vnd.jupyter.widget-view+json": {
       "model_id": "",
       "version_major": 2,
       "version_minor": 0
      },
      "text/plain": [
       "Outer fold:   0%|          | 0/10 [00:00<?, ?it/s]"
      ]
     },
     "metadata": {},
     "output_type": "display_data"
    },
    {
     "data": {
      "application/vnd.jupyter.widget-view+json": {
       "model_id": "",
       "version_major": 2,
       "version_minor": 0
      },
      "text/plain": [
       "Inner Folds:   0%|          | 0/9 [00:00<?, ?it/s]"
      ]
     },
     "metadata": {},
     "output_type": "display_data"
    },
    {
     "data": {
      "application/vnd.jupyter.widget-view+json": {
       "model_id": "",
       "version_major": 2,
       "version_minor": 0
      },
      "text/plain": [
       "Inner Folds:   0%|          | 0/9 [00:00<?, ?it/s]"
      ]
     },
     "metadata": {},
     "output_type": "display_data"
    },
    {
     "data": {
      "application/vnd.jupyter.widget-view+json": {
       "model_id": "",
       "version_major": 2,
       "version_minor": 0
      },
      "text/plain": [
       "Inner Folds:   0%|          | 0/9 [00:00<?, ?it/s]"
      ]
     },
     "metadata": {},
     "output_type": "display_data"
    },
    {
     "data": {
      "application/vnd.jupyter.widget-view+json": {
       "model_id": "",
       "version_major": 2,
       "version_minor": 0
      },
      "text/plain": [
       "Inner Folds:   0%|          | 0/9 [00:00<?, ?it/s]"
      ]
     },
     "metadata": {},
     "output_type": "display_data"
    },
    {
     "data": {
      "application/vnd.jupyter.widget-view+json": {
       "model_id": "",
       "version_major": 2,
       "version_minor": 0
      },
      "text/plain": [
       "Inner Folds:   0%|          | 0/9 [00:00<?, ?it/s]"
      ]
     },
     "metadata": {},
     "output_type": "display_data"
    },
    {
     "data": {
      "application/vnd.jupyter.widget-view+json": {
       "model_id": "",
       "version_major": 2,
       "version_minor": 0
      },
      "text/plain": [
       "Inner Folds:   0%|          | 0/9 [00:00<?, ?it/s]"
      ]
     },
     "metadata": {},
     "output_type": "display_data"
    },
    {
     "data": {
      "application/vnd.jupyter.widget-view+json": {
       "model_id": "",
       "version_major": 2,
       "version_minor": 0
      },
      "text/plain": [
       "Inner Folds:   0%|          | 0/9 [00:00<?, ?it/s]"
      ]
     },
     "metadata": {},
     "output_type": "display_data"
    },
    {
     "data": {
      "application/vnd.jupyter.widget-view+json": {
       "model_id": "",
       "version_major": 2,
       "version_minor": 0
      },
      "text/plain": [
       "Inner Folds:   0%|          | 0/9 [00:00<?, ?it/s]"
      ]
     },
     "metadata": {},
     "output_type": "display_data"
    },
    {
     "data": {
      "application/vnd.jupyter.widget-view+json": {
       "model_id": "",
       "version_major": 2,
       "version_minor": 0
      },
      "text/plain": [
       "Inner Folds:   0%|          | 0/9 [00:00<?, ?it/s]"
      ]
     },
     "metadata": {},
     "output_type": "display_data"
    },
    {
     "data": {
      "application/vnd.jupyter.widget-view+json": {
       "model_id": "",
       "version_major": 2,
       "version_minor": 0
      },
      "text/plain": [
       "Inner Folds:   0%|          | 0/9 [00:00<?, ?it/s]"
      ]
     },
     "metadata": {},
     "output_type": "display_data"
    },
    {
     "data": {
      "application/vnd.jupyter.widget-view+json": {
       "model_id": "",
       "version_major": 2,
       "version_minor": 0
      },
      "text/plain": [
       "Eval Folds:   0%|          | 0/10 [00:00<?, ?it/s]"
      ]
     },
     "metadata": {},
     "output_type": "display_data"
    },
    {
     "name": "stdout",
     "output_type": "stream",
     "text": [
      "Sampling\n"
     ]
    },
    {
     "data": {
      "application/vnd.jupyter.widget-view+json": {
       "model_id": "",
       "version_major": 2,
       "version_minor": 0
      },
      "text/plain": [
       "Bootstrapping rounds:   0%|          | 0/10000 [00:00<?, ?it/s]"
      ]
     },
     "metadata": {},
     "output_type": "display_data"
    },
    {
     "name": "stdout",
     "output_type": "stream",
     "text": [
      "Making results DF and curves\n",
      "../output/230327_fixing_exprscore_filt/bootstrapping/CEDAR_mean_rocs_onehot_None_icore_mut_EL_rank_mut_aliphatic_index-boman-hydrophobicity-isoelectric_point-VHSE1-VHSE3-VHSE7-VHSE8-icore_dissimilarity_score-ratio_rank-EL_rank_wt_aligned-Total_Gene_TPM.pkl saved.\n"
     ]
    },
    {
     "data": {
      "application/vnd.jupyter.widget-view+json": {
       "model_id": "",
       "version_major": 2,
       "version_minor": 0
      },
      "text/plain": [
       "Eval Folds:   0%|          | 0/10 [00:00<?, ?it/s]"
      ]
     },
     "metadata": {},
     "output_type": "display_data"
    },
    {
     "name": "stdout",
     "output_type": "stream",
     "text": [
      "Sampling\n"
     ]
    },
    {
     "data": {
      "application/vnd.jupyter.widget-view+json": {
       "model_id": "",
       "version_major": 2,
       "version_minor": 0
      },
      "text/plain": [
       "Bootstrapping rounds:   0%|          | 0/10000 [00:00<?, ?it/s]"
      ]
     },
     "metadata": {},
     "output_type": "display_data"
    },
    {
     "name": "stdout",
     "output_type": "stream",
     "text": [
      "Making results DF and curves\n",
      "../output/230327_fixing_exprscore_filt/bootstrapping/PRIME_mean_rocs_onehot_None_icore_mut_EL_rank_mut_aliphatic_index-boman-hydrophobicity-isoelectric_point-VHSE1-VHSE3-VHSE7-VHSE8-icore_dissimilarity_score-ratio_rank-EL_rank_wt_aligned-Total_Gene_TPM.pkl saved.\n"
     ]
    },
    {
     "data": {
      "application/vnd.jupyter.widget-view+json": {
       "model_id": "",
       "version_major": 2,
       "version_minor": 0
      },
      "text/plain": [
       "Eval Folds:   0%|          | 0/10 [00:00<?, ?it/s]"
      ]
     },
     "metadata": {},
     "output_type": "display_data"
    },
    {
     "name": "stdout",
     "output_type": "stream",
     "text": [
      "Sampling\n"
     ]
    },
    {
     "data": {
      "application/vnd.jupyter.widget-view+json": {
       "model_id": "",
       "version_major": 2,
       "version_minor": 0
      },
      "text/plain": [
       "Bootstrapping rounds:   0%|          | 0/10000 [00:00<?, ?it/s]"
      ]
     },
     "metadata": {},
     "output_type": "display_data"
    },
    {
     "name": "stdout",
     "output_type": "stream",
     "text": [
      "Making results DF and curves\n",
      "../output/230327_fixing_exprscore_filt/bootstrapping/NEPDB_mean_rocs_onehot_None_icore_mut_EL_rank_mut_aliphatic_index-boman-hydrophobicity-isoelectric_point-VHSE1-VHSE3-VHSE7-VHSE8-icore_dissimilarity_score-ratio_rank-EL_rank_wt_aligned-Total_Gene_TPM.pkl saved.\n",
      "Training\n"
     ]
    },
    {
     "data": {
      "application/vnd.jupyter.widget-view+json": {
       "model_id": "",
       "version_major": 2,
       "version_minor": 0
      },
      "text/plain": [
       "Outer fold:   0%|          | 0/10 [00:00<?, ?it/s]"
      ]
     },
     "metadata": {},
     "output_type": "display_data"
    },
    {
     "data": {
      "application/vnd.jupyter.widget-view+json": {
       "model_id": "",
       "version_major": 2,
       "version_minor": 0
      },
      "text/plain": [
       "Inner Folds:   0%|          | 0/9 [00:00<?, ?it/s]"
      ]
     },
     "metadata": {},
     "output_type": "display_data"
    },
    {
     "data": {
      "application/vnd.jupyter.widget-view+json": {
       "model_id": "",
       "version_major": 2,
       "version_minor": 0
      },
      "text/plain": [
       "Inner Folds:   0%|          | 0/9 [00:00<?, ?it/s]"
      ]
     },
     "metadata": {},
     "output_type": "display_data"
    },
    {
     "data": {
      "application/vnd.jupyter.widget-view+json": {
       "model_id": "",
       "version_major": 2,
       "version_minor": 0
      },
      "text/plain": [
       "Inner Folds:   0%|          | 0/9 [00:00<?, ?it/s]"
      ]
     },
     "metadata": {},
     "output_type": "display_data"
    },
    {
     "data": {
      "application/vnd.jupyter.widget-view+json": {
       "model_id": "",
       "version_major": 2,
       "version_minor": 0
      },
      "text/plain": [
       "Inner Folds:   0%|          | 0/9 [00:00<?, ?it/s]"
      ]
     },
     "metadata": {},
     "output_type": "display_data"
    },
    {
     "data": {
      "application/vnd.jupyter.widget-view+json": {
       "model_id": "",
       "version_major": 2,
       "version_minor": 0
      },
      "text/plain": [
       "Inner Folds:   0%|          | 0/9 [00:00<?, ?it/s]"
      ]
     },
     "metadata": {},
     "output_type": "display_data"
    },
    {
     "data": {
      "application/vnd.jupyter.widget-view+json": {
       "model_id": "",
       "version_major": 2,
       "version_minor": 0
      },
      "text/plain": [
       "Inner Folds:   0%|          | 0/9 [00:00<?, ?it/s]"
      ]
     },
     "metadata": {},
     "output_type": "display_data"
    },
    {
     "data": {
      "application/vnd.jupyter.widget-view+json": {
       "model_id": "",
       "version_major": 2,
       "version_minor": 0
      },
      "text/plain": [
       "Inner Folds:   0%|          | 0/9 [00:00<?, ?it/s]"
      ]
     },
     "metadata": {},
     "output_type": "display_data"
    },
    {
     "data": {
      "application/vnd.jupyter.widget-view+json": {
       "model_id": "",
       "version_major": 2,
       "version_minor": 0
      },
      "text/plain": [
       "Inner Folds:   0%|          | 0/9 [00:00<?, ?it/s]"
      ]
     },
     "metadata": {},
     "output_type": "display_data"
    },
    {
     "data": {
      "application/vnd.jupyter.widget-view+json": {
       "model_id": "",
       "version_major": 2,
       "version_minor": 0
      },
      "text/plain": [
       "Inner Folds:   0%|          | 0/9 [00:00<?, ?it/s]"
      ]
     },
     "metadata": {},
     "output_type": "display_data"
    },
    {
     "data": {
      "application/vnd.jupyter.widget-view+json": {
       "model_id": "",
       "version_major": 2,
       "version_minor": 0
      },
      "text/plain": [
       "Inner Folds:   0%|          | 0/9 [00:00<?, ?it/s]"
      ]
     },
     "metadata": {},
     "output_type": "display_data"
    },
    {
     "data": {
      "application/vnd.jupyter.widget-view+json": {
       "model_id": "",
       "version_major": 2,
       "version_minor": 0
      },
      "text/plain": [
       "Eval Folds:   0%|          | 0/10 [00:00<?, ?it/s]"
      ]
     },
     "metadata": {},
     "output_type": "display_data"
    },
    {
     "name": "stdout",
     "output_type": "stream",
     "text": [
      "Sampling\n"
     ]
    },
    {
     "data": {
      "application/vnd.jupyter.widget-view+json": {
       "model_id": "",
       "version_major": 2,
       "version_minor": 0
      },
      "text/plain": [
       "Bootstrapping rounds:   0%|          | 0/10000 [00:00<?, ?it/s]"
      ]
     },
     "metadata": {},
     "output_type": "display_data"
    },
    {
     "name": "stdout",
     "output_type": "stream",
     "text": [
      "Making results DF and curves\n",
      "../output/230327_fixing_exprscore_filt/bootstrapping/CEDAR_mean_rocs_onehot_Mask_icore_mut_EL_rank_mut_aliphatic_index-boman-hydrophobicity-isoelectric_point-VHSE1-VHSE3-VHSE7-VHSE8-icore_dissimilarity_score-ratio_rank-EL_rank_wt_aligned-Total_Gene_TPM.pkl saved.\n"
     ]
    },
    {
     "data": {
      "application/vnd.jupyter.widget-view+json": {
       "model_id": "",
       "version_major": 2,
       "version_minor": 0
      },
      "text/plain": [
       "Eval Folds:   0%|          | 0/10 [00:00<?, ?it/s]"
      ]
     },
     "metadata": {},
     "output_type": "display_data"
    },
    {
     "name": "stdout",
     "output_type": "stream",
     "text": [
      "Sampling\n"
     ]
    },
    {
     "data": {
      "application/vnd.jupyter.widget-view+json": {
       "model_id": "",
       "version_major": 2,
       "version_minor": 0
      },
      "text/plain": [
       "Bootstrapping rounds:   0%|          | 0/10000 [00:00<?, ?it/s]"
      ]
     },
     "metadata": {},
     "output_type": "display_data"
    },
    {
     "name": "stdout",
     "output_type": "stream",
     "text": [
      "Making results DF and curves\n",
      "../output/230327_fixing_exprscore_filt/bootstrapping/PRIME_mean_rocs_onehot_Mask_icore_mut_EL_rank_mut_aliphatic_index-boman-hydrophobicity-isoelectric_point-VHSE1-VHSE3-VHSE7-VHSE8-icore_dissimilarity_score-ratio_rank-EL_rank_wt_aligned-Total_Gene_TPM.pkl saved.\n"
     ]
    },
    {
     "data": {
      "application/vnd.jupyter.widget-view+json": {
       "model_id": "",
       "version_major": 2,
       "version_minor": 0
      },
      "text/plain": [
       "Eval Folds:   0%|          | 0/10 [00:00<?, ?it/s]"
      ]
     },
     "metadata": {},
     "output_type": "display_data"
    },
    {
     "name": "stdout",
     "output_type": "stream",
     "text": [
      "Sampling\n"
     ]
    },
    {
     "data": {
      "application/vnd.jupyter.widget-view+json": {
       "model_id": "",
       "version_major": 2,
       "version_minor": 0
      },
      "text/plain": [
       "Bootstrapping rounds:   0%|          | 0/10000 [00:00<?, ?it/s]"
      ]
     },
     "metadata": {},
     "output_type": "display_data"
    },
    {
     "name": "stdout",
     "output_type": "stream",
     "text": [
      "Making results DF and curves\n",
      "../output/230327_fixing_exprscore_filt/bootstrapping/NEPDB_mean_rocs_onehot_Mask_icore_mut_EL_rank_mut_aliphatic_index-boman-hydrophobicity-isoelectric_point-VHSE1-VHSE3-VHSE7-VHSE8-icore_dissimilarity_score-ratio_rank-EL_rank_wt_aligned-Total_Gene_TPM.pkl saved.\n"
     ]
    }
   ],
   "source": [
    "from src.utils import mkdirs, pkl_dump\n",
    "from sklearn.ensemble import RandomForestClassifier\n",
    "from src.sklearn_train_eval import nested_kcv_train_sklearn, evaluate_trained_models_sklearn\n",
    "from src.metrics import get_nested_feature_importance\n",
    "\n",
    "outdir = '../output/230327_fixing_exprscore_filt/'\n",
    "mkdirs(outdir)\n",
    "mkdirs(outdir+'raw/')\n",
    "mkdirs(outdir+'bootstrapping/')\n",
    "\n",
    "cedar_dataset = cedar_aligned_expr\n",
    "prime_dataset = prime_aligned_expr\n",
    "nepdb_dataset = nepdb_aligned_expr\n",
    "\n",
    "train_dataset = cedar_dataset\n",
    "\n",
    "mega_df = pd.DataFrame()\n",
    "print('Starting loops')\n",
    "\n",
    "for mut_cols in tqdm(mcs, position=0, leave=True, desc='cols'):\n",
    "    key = '-'.join(mut_cols)\n",
    "    if key == '':\n",
    "        key = 'only_rank'\n",
    "\n",
    "    key.replace('aliphatic_index-boman-hydrophobicity-isoelectric_point-VHSE1-VHSE3-VHSE7-VHSE8',\n",
    "                'aa_props')\n",
    "    key.replace(' ', '-')\n",
    "    encoding_kwargs['mut_col'] = mut_cols\n",
    "    # megaloops for encoding-weighting\n",
    "    for encoding, blosum_matrix, blsm_name in tqdm(zip(['onehot'],\n",
    "                                                       [None],\n",
    "                                                       ['onehot']),\n",
    "                                                   desc='encoding', leave=False, position=1):\n",
    "        encoding_kwargs['encoding'] = encoding\n",
    "        encoding_kwargs['blosum_matrix'] = blosum_matrix\n",
    "\n",
    "        for invert, ic_name, ics_dict, mask in [(True, 'Shannon', ics_shannon, False),\n",
    "                                          (False, 'None', None, False),\n",
    "                                          (False, 'Mask', ics_shannon, True)]:\n",
    "            encoding_kwargs['invert'] = invert\n",
    "            encoding_kwargs['mask'] = mask\n",
    "            if invert:\n",
    "                if ic_name == 'None':\n",
    "                    continue\n",
    "                else:\n",
    "                    ic_name = 'Inverted ' + ic_name\n",
    "\n",
    "\n",
    "            filename = f'onehot_{\"-\".join(ic_name.split(\" \"))}_icore_mut_EL_rank_mut_{key}'\n",
    "            # Using the same model and hyperparameters\n",
    "            model = RandomForestClassifier(n_jobs=1, min_samples_leaf=7, n_estimators=300,\n",
    "                                           max_depth=8, ccp_alpha=9.945e-6)\n",
    "            # Training model and getting feature importances\n",
    "            print('Training')\n",
    "            trained_models, train_metrics, _ = nested_kcv_train_sklearn(train_dataset, model,\n",
    "                                                                        ics_dict=ics_dict,\n",
    "                                                                        encoding_kwargs=encoding_kwargs,\n",
    "                                                                        n_jobs=8)\n",
    "            fi = get_nested_feature_importance(trained_models)\n",
    "            fn = AA_KEYS + ['rank'] + mut_cols\n",
    "            # Saving Feature importances as dataframe\n",
    "            df_fi = pd.DataFrame(fi, index=fn).T\n",
    "            df_fi.to_csv(\n",
    "                f'{outdir}raw/featimps_{filename}.csv',\n",
    "                index=False)\n",
    "\n",
    "            for evalset, evalname in zip([cedar_dataset, prime_dataset, nepdb_dataset],\n",
    "                                         ['CEDAR', 'PRIME', 'NEPDB']):\n",
    "                # FULLY FILTERED + Mean_pred\n",
    "                if not evalset.equals(train_dataset):\n",
    "                    evalset = evalset.query('Peptide not in @train_dataset.Peptide.values')\n",
    "                _, preds = evaluate_trained_models_sklearn(evalset.drop_duplicates(subset=['Peptide','HLA','agg_label']),\n",
    "                                                           trained_models, ics_dict,\n",
    "                                                           train_dataset,\n",
    "                                                           encoding_kwargs, concatenated=False,\n",
    "                                                           only_concat=True, n_jobs=20)\n",
    "                # p_col = 'pred' if 'pred' in preds.columns else 'mean_pred'\n",
    "                preds.to_csv(f'{outdir}raw/{evalname}_preds_{filename}.csv', index=False, columns = ['Peptide', 'icore_mut', 'EL_rank_mut', 'EL_rank_wt_aligned', 'ratio_rank', 'foreignness_score', 'agg_label', 'HLA'])\n",
    "\n",
    "                bootstrapped_df = final_bootstrap_wrapper(preds, filename, ic_name,\n",
    "                                                          key, evalname, n_rounds=10000, n_jobs = 8)\n",
    "            del trained_models, bootstrapped_df"
   ]
  },
  {
   "cell_type": "code",
   "execution_count": 78,
   "id": "2bee63d6-6212-46a2-9e72-cfb79d8b51d5",
   "metadata": {},
   "outputs": [
    {
     "data": {
      "text/plain": [
       "[['aliphatic_index',\n",
       "  'boman',\n",
       "  'hydrophobicity',\n",
       "  'isoelectric_point',\n",
       "  'VHSE1',\n",
       "  'VHSE3',\n",
       "  'VHSE7',\n",
       "  'VHSE8',\n",
       "  'icore_dissimilarity_score',\n",
       "  'ratio_rank',\n",
       "  'EL_rank_wt_aligned',\n",
       "  'Total_Gene_TPM']]"
      ]
     },
     "execution_count": 78,
     "metadata": {},
     "output_type": "execute_result"
    }
   ],
   "source": [
    "mcs[-1::]"
   ]
  },
  {
   "cell_type": "code",
   "execution_count": 80,
   "id": "f1a7e42d-af6f-4ba1-913d-1f1a4e864d74",
   "metadata": {
    "tags": []
   },
   "outputs": [
    {
     "name": "stdout",
     "output_type": "stream",
     "text": [
      "Starting loops\n"
     ]
    },
    {
     "data": {
      "application/vnd.jupyter.widget-view+json": {
       "model_id": "2133a341f28e43ea86ae6adb1d0beeae",
       "version_major": 2,
       "version_minor": 0
      },
      "text/plain": [
       "cols:   0%|          | 0/1 [00:00<?, ?it/s]"
      ]
     },
     "metadata": {},
     "output_type": "display_data"
    },
    {
     "data": {
      "application/vnd.jupyter.widget-view+json": {
       "model_id": "67964b816d7f4ca4831aa1c8b10d571b",
       "version_major": 2,
       "version_minor": 0
      },
      "text/plain": [
       "encoding: 0it [00:00, ?it/s]"
      ]
     },
     "metadata": {},
     "output_type": "display_data"
    },
    {
     "name": "stdout",
     "output_type": "stream",
     "text": [
      "Training\n"
     ]
    },
    {
     "data": {
      "application/vnd.jupyter.widget-view+json": {
       "model_id": "",
       "version_major": 2,
       "version_minor": 0
      },
      "text/plain": [
       "Outer fold:   0%|          | 0/10 [00:00<?, ?it/s]"
      ]
     },
     "metadata": {},
     "output_type": "display_data"
    },
    {
     "data": {
      "application/vnd.jupyter.widget-view+json": {
       "model_id": "",
       "version_major": 2,
       "version_minor": 0
      },
      "text/plain": [
       "Inner Folds:   0%|          | 0/9 [00:00<?, ?it/s]"
      ]
     },
     "metadata": {},
     "output_type": "display_data"
    },
    {
     "data": {
      "application/vnd.jupyter.widget-view+json": {
       "model_id": "",
       "version_major": 2,
       "version_minor": 0
      },
      "text/plain": [
       "Inner Folds:   0%|          | 0/9 [00:00<?, ?it/s]"
      ]
     },
     "metadata": {},
     "output_type": "display_data"
    },
    {
     "data": {
      "application/vnd.jupyter.widget-view+json": {
       "model_id": "",
       "version_major": 2,
       "version_minor": 0
      },
      "text/plain": [
       "Inner Folds:   0%|          | 0/9 [00:00<?, ?it/s]"
      ]
     },
     "metadata": {},
     "output_type": "display_data"
    },
    {
     "data": {
      "application/vnd.jupyter.widget-view+json": {
       "model_id": "",
       "version_major": 2,
       "version_minor": 0
      },
      "text/plain": [
       "Inner Folds:   0%|          | 0/9 [00:00<?, ?it/s]"
      ]
     },
     "metadata": {},
     "output_type": "display_data"
    },
    {
     "data": {
      "application/vnd.jupyter.widget-view+json": {
       "model_id": "",
       "version_major": 2,
       "version_minor": 0
      },
      "text/plain": [
       "Inner Folds:   0%|          | 0/9 [00:00<?, ?it/s]"
      ]
     },
     "metadata": {},
     "output_type": "display_data"
    },
    {
     "data": {
      "application/vnd.jupyter.widget-view+json": {
       "model_id": "",
       "version_major": 2,
       "version_minor": 0
      },
      "text/plain": [
       "Inner Folds:   0%|          | 0/9 [00:00<?, ?it/s]"
      ]
     },
     "metadata": {},
     "output_type": "display_data"
    },
    {
     "data": {
      "application/vnd.jupyter.widget-view+json": {
       "model_id": "",
       "version_major": 2,
       "version_minor": 0
      },
      "text/plain": [
       "Inner Folds:   0%|          | 0/9 [00:00<?, ?it/s]"
      ]
     },
     "metadata": {},
     "output_type": "display_data"
    },
    {
     "data": {
      "application/vnd.jupyter.widget-view+json": {
       "model_id": "",
       "version_major": 2,
       "version_minor": 0
      },
      "text/plain": [
       "Inner Folds:   0%|          | 0/9 [00:00<?, ?it/s]"
      ]
     },
     "metadata": {},
     "output_type": "display_data"
    },
    {
     "data": {
      "application/vnd.jupyter.widget-view+json": {
       "model_id": "",
       "version_major": 2,
       "version_minor": 0
      },
      "text/plain": [
       "Inner Folds:   0%|          | 0/9 [00:00<?, ?it/s]"
      ]
     },
     "metadata": {},
     "output_type": "display_data"
    },
    {
     "data": {
      "application/vnd.jupyter.widget-view+json": {
       "model_id": "",
       "version_major": 2,
       "version_minor": 0
      },
      "text/plain": [
       "Inner Folds:   0%|          | 0/9 [00:00<?, ?it/s]"
      ]
     },
     "metadata": {},
     "output_type": "display_data"
    },
    {
     "data": {
      "application/vnd.jupyter.widget-view+json": {
       "model_id": "",
       "version_major": 2,
       "version_minor": 0
      },
      "text/plain": [
       "Eval Folds:   0%|          | 0/10 [00:00<?, ?it/s]"
      ]
     },
     "metadata": {},
     "output_type": "display_data"
    },
    {
     "name": "stdout",
     "output_type": "stream",
     "text": [
      "Sampling\n"
     ]
    },
    {
     "data": {
      "application/vnd.jupyter.widget-view+json": {
       "model_id": "",
       "version_major": 2,
       "version_minor": 0
      },
      "text/plain": [
       "Bootstrapping rounds:   0%|          | 0/10000 [00:00<?, ?it/s]"
      ]
     },
     "metadata": {},
     "output_type": "display_data"
    },
    {
     "name": "stdout",
     "output_type": "stream",
     "text": [
      "Making results DF and curves\n",
      "../output/230327_fixing_exprscore_filt/bootstrapping/CEDAR_mean_rocs_onehot_Inverted-Shannon_icore_mut_EL_rank_mut_aliphatic_index-boman-hydrophobicity-isoelectric_point-VHSE1-VHSE3-VHSE7-VHSE8-icore_dissimilarity_score-ratio_rank-EL_rank_wt_aligned-Total_Gene_TPM.pkl saved.\n"
     ]
    },
    {
     "data": {
      "application/vnd.jupyter.widget-view+json": {
       "model_id": "",
       "version_major": 2,
       "version_minor": 0
      },
      "text/plain": [
       "Eval Folds:   0%|          | 0/10 [00:00<?, ?it/s]"
      ]
     },
     "metadata": {},
     "output_type": "display_data"
    },
    {
     "name": "stdout",
     "output_type": "stream",
     "text": [
      "Sampling\n"
     ]
    },
    {
     "data": {
      "application/vnd.jupyter.widget-view+json": {
       "model_id": "",
       "version_major": 2,
       "version_minor": 0
      },
      "text/plain": [
       "Bootstrapping rounds:   0%|          | 0/10000 [00:00<?, ?it/s]"
      ]
     },
     "metadata": {},
     "output_type": "display_data"
    },
    {
     "name": "stdout",
     "output_type": "stream",
     "text": [
      "Making results DF and curves\n",
      "../output/230327_fixing_exprscore_filt/bootstrapping/PRIME_mean_rocs_onehot_Inverted-Shannon_icore_mut_EL_rank_mut_aliphatic_index-boman-hydrophobicity-isoelectric_point-VHSE1-VHSE3-VHSE7-VHSE8-icore_dissimilarity_score-ratio_rank-EL_rank_wt_aligned-Total_Gene_TPM.pkl saved.\n"
     ]
    },
    {
     "data": {
      "application/vnd.jupyter.widget-view+json": {
       "model_id": "",
       "version_major": 2,
       "version_minor": 0
      },
      "text/plain": [
       "Eval Folds:   0%|          | 0/10 [00:00<?, ?it/s]"
      ]
     },
     "metadata": {},
     "output_type": "display_data"
    },
    {
     "name": "stdout",
     "output_type": "stream",
     "text": [
      "Sampling\n"
     ]
    },
    {
     "data": {
      "application/vnd.jupyter.widget-view+json": {
       "model_id": "",
       "version_major": 2,
       "version_minor": 0
      },
      "text/plain": [
       "Bootstrapping rounds:   0%|          | 0/10000 [00:00<?, ?it/s]"
      ]
     },
     "metadata": {},
     "output_type": "display_data"
    },
    {
     "name": "stdout",
     "output_type": "stream",
     "text": [
      "Making results DF and curves\n",
      "../output/230327_fixing_exprscore_filt/bootstrapping/NEPDB_mean_rocs_onehot_Inverted-Shannon_icore_mut_EL_rank_mut_aliphatic_index-boman-hydrophobicity-isoelectric_point-VHSE1-VHSE3-VHSE7-VHSE8-icore_dissimilarity_score-ratio_rank-EL_rank_wt_aligned-Total_Gene_TPM.pkl saved.\n",
      "Training\n"
     ]
    },
    {
     "data": {
      "application/vnd.jupyter.widget-view+json": {
       "model_id": "",
       "version_major": 2,
       "version_minor": 0
      },
      "text/plain": [
       "Outer fold:   0%|          | 0/10 [00:00<?, ?it/s]"
      ]
     },
     "metadata": {},
     "output_type": "display_data"
    },
    {
     "data": {
      "application/vnd.jupyter.widget-view+json": {
       "model_id": "",
       "version_major": 2,
       "version_minor": 0
      },
      "text/plain": [
       "Inner Folds:   0%|          | 0/9 [00:00<?, ?it/s]"
      ]
     },
     "metadata": {},
     "output_type": "display_data"
    },
    {
     "data": {
      "application/vnd.jupyter.widget-view+json": {
       "model_id": "",
       "version_major": 2,
       "version_minor": 0
      },
      "text/plain": [
       "Inner Folds:   0%|          | 0/9 [00:00<?, ?it/s]"
      ]
     },
     "metadata": {},
     "output_type": "display_data"
    },
    {
     "data": {
      "application/vnd.jupyter.widget-view+json": {
       "model_id": "",
       "version_major": 2,
       "version_minor": 0
      },
      "text/plain": [
       "Inner Folds:   0%|          | 0/9 [00:00<?, ?it/s]"
      ]
     },
     "metadata": {},
     "output_type": "display_data"
    },
    {
     "data": {
      "application/vnd.jupyter.widget-view+json": {
       "model_id": "",
       "version_major": 2,
       "version_minor": 0
      },
      "text/plain": [
       "Inner Folds:   0%|          | 0/9 [00:00<?, ?it/s]"
      ]
     },
     "metadata": {},
     "output_type": "display_data"
    },
    {
     "data": {
      "application/vnd.jupyter.widget-view+json": {
       "model_id": "",
       "version_major": 2,
       "version_minor": 0
      },
      "text/plain": [
       "Inner Folds:   0%|          | 0/9 [00:00<?, ?it/s]"
      ]
     },
     "metadata": {},
     "output_type": "display_data"
    },
    {
     "data": {
      "application/vnd.jupyter.widget-view+json": {
       "model_id": "",
       "version_major": 2,
       "version_minor": 0
      },
      "text/plain": [
       "Inner Folds:   0%|          | 0/9 [00:00<?, ?it/s]"
      ]
     },
     "metadata": {},
     "output_type": "display_data"
    },
    {
     "data": {
      "application/vnd.jupyter.widget-view+json": {
       "model_id": "",
       "version_major": 2,
       "version_minor": 0
      },
      "text/plain": [
       "Inner Folds:   0%|          | 0/9 [00:00<?, ?it/s]"
      ]
     },
     "metadata": {},
     "output_type": "display_data"
    },
    {
     "data": {
      "application/vnd.jupyter.widget-view+json": {
       "model_id": "",
       "version_major": 2,
       "version_minor": 0
      },
      "text/plain": [
       "Inner Folds:   0%|          | 0/9 [00:00<?, ?it/s]"
      ]
     },
     "metadata": {},
     "output_type": "display_data"
    },
    {
     "data": {
      "application/vnd.jupyter.widget-view+json": {
       "model_id": "",
       "version_major": 2,
       "version_minor": 0
      },
      "text/plain": [
       "Inner Folds:   0%|          | 0/9 [00:00<?, ?it/s]"
      ]
     },
     "metadata": {},
     "output_type": "display_data"
    },
    {
     "data": {
      "application/vnd.jupyter.widget-view+json": {
       "model_id": "",
       "version_major": 2,
       "version_minor": 0
      },
      "text/plain": [
       "Inner Folds:   0%|          | 0/9 [00:00<?, ?it/s]"
      ]
     },
     "metadata": {},
     "output_type": "display_data"
    },
    {
     "data": {
      "application/vnd.jupyter.widget-view+json": {
       "model_id": "",
       "version_major": 2,
       "version_minor": 0
      },
      "text/plain": [
       "Eval Folds:   0%|          | 0/10 [00:00<?, ?it/s]"
      ]
     },
     "metadata": {},
     "output_type": "display_data"
    },
    {
     "name": "stdout",
     "output_type": "stream",
     "text": [
      "Sampling\n"
     ]
    },
    {
     "data": {
      "application/vnd.jupyter.widget-view+json": {
       "model_id": "",
       "version_major": 2,
       "version_minor": 0
      },
      "text/plain": [
       "Bootstrapping rounds:   0%|          | 0/10000 [00:00<?, ?it/s]"
      ]
     },
     "metadata": {},
     "output_type": "display_data"
    },
    {
     "name": "stdout",
     "output_type": "stream",
     "text": [
      "Making results DF and curves\n",
      "../output/230327_fixing_exprscore_filt/bootstrapping/CEDAR_mean_rocs_onehot_None_icore_mut_EL_rank_mut_aliphatic_index-boman-hydrophobicity-isoelectric_point-VHSE1-VHSE3-VHSE7-VHSE8-icore_dissimilarity_score-ratio_rank-EL_rank_wt_aligned-Total_Gene_TPM.pkl saved.\n"
     ]
    },
    {
     "data": {
      "application/vnd.jupyter.widget-view+json": {
       "model_id": "",
       "version_major": 2,
       "version_minor": 0
      },
      "text/plain": [
       "Eval Folds:   0%|          | 0/10 [00:00<?, ?it/s]"
      ]
     },
     "metadata": {},
     "output_type": "display_data"
    },
    {
     "name": "stdout",
     "output_type": "stream",
     "text": [
      "Sampling\n"
     ]
    },
    {
     "data": {
      "application/vnd.jupyter.widget-view+json": {
       "model_id": "",
       "version_major": 2,
       "version_minor": 0
      },
      "text/plain": [
       "Bootstrapping rounds:   0%|          | 0/10000 [00:00<?, ?it/s]"
      ]
     },
     "metadata": {},
     "output_type": "display_data"
    },
    {
     "name": "stdout",
     "output_type": "stream",
     "text": [
      "Making results DF and curves\n",
      "../output/230327_fixing_exprscore_filt/bootstrapping/PRIME_mean_rocs_onehot_None_icore_mut_EL_rank_mut_aliphatic_index-boman-hydrophobicity-isoelectric_point-VHSE1-VHSE3-VHSE7-VHSE8-icore_dissimilarity_score-ratio_rank-EL_rank_wt_aligned-Total_Gene_TPM.pkl saved.\n"
     ]
    },
    {
     "data": {
      "application/vnd.jupyter.widget-view+json": {
       "model_id": "",
       "version_major": 2,
       "version_minor": 0
      },
      "text/plain": [
       "Eval Folds:   0%|          | 0/10 [00:00<?, ?it/s]"
      ]
     },
     "metadata": {},
     "output_type": "display_data"
    },
    {
     "name": "stdout",
     "output_type": "stream",
     "text": [
      "Sampling\n"
     ]
    },
    {
     "data": {
      "application/vnd.jupyter.widget-view+json": {
       "model_id": "",
       "version_major": 2,
       "version_minor": 0
      },
      "text/plain": [
       "Bootstrapping rounds:   0%|          | 0/10000 [00:00<?, ?it/s]"
      ]
     },
     "metadata": {},
     "output_type": "display_data"
    },
    {
     "name": "stdout",
     "output_type": "stream",
     "text": [
      "Making results DF and curves\n",
      "../output/230327_fixing_exprscore_filt/bootstrapping/NEPDB_mean_rocs_onehot_None_icore_mut_EL_rank_mut_aliphatic_index-boman-hydrophobicity-isoelectric_point-VHSE1-VHSE3-VHSE7-VHSE8-icore_dissimilarity_score-ratio_rank-EL_rank_wt_aligned-Total_Gene_TPM.pkl saved.\n",
      "Training\n"
     ]
    },
    {
     "data": {
      "application/vnd.jupyter.widget-view+json": {
       "model_id": "08de527b2e334098aa3a496b0c0e3b6d",
       "version_major": 2,
       "version_minor": 0
      },
      "text/plain": [
       "Outer fold:   0%|          | 0/10 [00:00<?, ?it/s]"
      ]
     },
     "metadata": {},
     "output_type": "display_data"
    },
    {
     "data": {
      "application/vnd.jupyter.widget-view+json": {
       "model_id": "c6a66e2c64274ed19d68c69b369ae17b",
       "version_major": 2,
       "version_minor": 0
      },
      "text/plain": [
       "Inner Folds:   0%|          | 0/9 [00:00<?, ?it/s]"
      ]
     },
     "metadata": {},
     "output_type": "display_data"
    },
    {
     "data": {
      "application/vnd.jupyter.widget-view+json": {
       "model_id": "94a8fbdd070a463fadf9a92fe6d13c62",
       "version_major": 2,
       "version_minor": 0
      },
      "text/plain": [
       "Inner Folds:   0%|          | 0/9 [00:00<?, ?it/s]"
      ]
     },
     "metadata": {},
     "output_type": "display_data"
    },
    {
     "ename": "KeyboardInterrupt",
     "evalue": "",
     "output_type": "error",
     "traceback": [
      "\u001b[0;31m---------------------------------------------------------------------------\u001b[0m",
      "\u001b[0;31mKeyboardInterrupt\u001b[0m                         Traceback (most recent call last)",
      "Input \u001b[0;32mIn [80]\u001b[0m, in \u001b[0;36m<cell line: 20>\u001b[0;34m()\u001b[0m\n\u001b[1;32m     53\u001b[0m \u001b[38;5;66;03m# Training model and getting feature importances\u001b[39;00m\n\u001b[1;32m     54\u001b[0m \u001b[38;5;28mprint\u001b[39m(\u001b[38;5;124m'\u001b[39m\u001b[38;5;124mTraining\u001b[39m\u001b[38;5;124m'\u001b[39m)\n\u001b[0;32m---> 55\u001b[0m trained_models, train_metrics, _ \u001b[38;5;241m=\u001b[39m \u001b[43mnested_kcv_train_sklearn\u001b[49m\u001b[43m(\u001b[49m\u001b[43mtrain_dataset\u001b[49m\u001b[43m,\u001b[49m\u001b[43m \u001b[49m\u001b[43mmodel\u001b[49m\u001b[43m,\u001b[49m\n\u001b[1;32m     56\u001b[0m \u001b[43m                                                            \u001b[49m\u001b[43mics_dict\u001b[49m\u001b[38;5;241;43m=\u001b[39;49m\u001b[43mics_dict\u001b[49m\u001b[43m,\u001b[49m\n\u001b[1;32m     57\u001b[0m \u001b[43m                                                            \u001b[49m\u001b[43mencoding_kwargs\u001b[49m\u001b[38;5;241;43m=\u001b[39;49m\u001b[43mencoding_kwargs\u001b[49m\u001b[43m,\u001b[49m\n\u001b[1;32m     58\u001b[0m \u001b[43m                                                            \u001b[49m\u001b[43mn_jobs\u001b[49m\u001b[38;5;241;43m=\u001b[39;49m\u001b[38;5;241;43m8\u001b[39;49m\u001b[43m)\u001b[49m\n\u001b[1;32m     59\u001b[0m fi \u001b[38;5;241m=\u001b[39m get_nested_feature_importance(trained_models)\n\u001b[1;32m     60\u001b[0m fn \u001b[38;5;241m=\u001b[39m AA_KEYS \u001b[38;5;241m+\u001b[39m [\u001b[38;5;124m'\u001b[39m\u001b[38;5;124mrank\u001b[39m\u001b[38;5;124m'\u001b[39m] \u001b[38;5;241m+\u001b[39m mut_cols\n",
      "File \u001b[0;32m~/Documents/code/cedar/src/sklearn_train_eval.py:201\u001b[0m, in \u001b[0;36mnested_kcv_train_sklearn\u001b[0;34m(dataframe, base_model, ics_dict, encoding_kwargs, n_jobs)\u001b[0m\n\u001b[1;32m    197\u001b[0m \u001b[38;5;66;03m# Create the sub-dict and put the model into the models dict\u001b[39;00m\n\u001b[1;32m    198\u001b[0m train_wrapper_ \u001b[38;5;241m=\u001b[39m partial(parallel_inner_train_wrapper, train_dataframe\u001b[38;5;241m=\u001b[39mdataframe, x_test\u001b[38;5;241m=\u001b[39mx_test,\n\u001b[1;32m    199\u001b[0m                          base_model\u001b[38;5;241m=\u001b[39mbase_model, ics_dict\u001b[38;5;241m=\u001b[39mics_dict, encoding_kwargs\u001b[38;5;241m=\u001b[39mencoding_kwargs,\n\u001b[1;32m    200\u001b[0m                          standardize\u001b[38;5;241m=\u001b[39mstd, fold_out\u001b[38;5;241m=\u001b[39mfold_out)\n\u001b[0;32m--> 201\u001b[0m output \u001b[38;5;241m=\u001b[39m \u001b[43mParallel\u001b[49m\u001b[43m(\u001b[49m\u001b[43mn_jobs\u001b[49m\u001b[38;5;241;43m=\u001b[39;49m\u001b[43mn_jobs\u001b[49m\u001b[43m)\u001b[49m\u001b[43m(\u001b[49m\n\u001b[1;32m    202\u001b[0m \u001b[43m    \u001b[49m\u001b[43mdelayed\u001b[49m\u001b[43m(\u001b[49m\u001b[43mtrain_wrapper_\u001b[49m\u001b[43m)\u001b[49m\u001b[43m(\u001b[49m\u001b[43mfold_in\u001b[49m\u001b[38;5;241;43m=\u001b[39;49m\u001b[43mfold_in\u001b[49m\u001b[43m)\u001b[49m\u001b[43m \u001b[49m\u001b[38;5;28;43;01mfor\u001b[39;49;00m\u001b[43m \u001b[49m\u001b[43mfold_in\u001b[49m\u001b[43m \u001b[49m\u001b[38;5;129;43;01min\u001b[39;49;00m\u001b[43m \u001b[49m\u001b[43mtqdm\u001b[49m\u001b[43m(\u001b[49m\u001b[43minner_folds\u001b[49m\u001b[43m,\u001b[49m\n\u001b[1;32m    203\u001b[0m \u001b[43m                                                                 \u001b[49m\u001b[43mdesc\u001b[49m\u001b[38;5;241;43m=\u001b[39;49m\u001b[38;5;124;43m'\u001b[39;49m\u001b[38;5;124;43mInner Folds\u001b[39;49m\u001b[38;5;124;43m'\u001b[39;49m\u001b[43m,\u001b[49m\n\u001b[1;32m    204\u001b[0m \u001b[43m                                                                 \u001b[49m\u001b[43mleave\u001b[49m\u001b[38;5;241;43m=\u001b[39;49m\u001b[38;5;28;43;01mFalse\u001b[39;49;00m\u001b[43m,\u001b[49m\u001b[43m \u001b[49m\u001b[43mposition\u001b[49m\u001b[38;5;241;43m=\u001b[39;49m\u001b[38;5;241;43m1\u001b[39;49m\u001b[43m)\u001b[49m\u001b[43m)\u001b[49m\n\u001b[1;32m    205\u001b[0m models_dict[fold_out] \u001b[38;5;241m=\u001b[39m [x[\u001b[38;5;241m0\u001b[39m] \u001b[38;5;28;01mfor\u001b[39;00m x \u001b[38;5;129;01min\u001b[39;00m output]\n\u001b[1;32m    206\u001b[0m train_tmp \u001b[38;5;241m=\u001b[39m [x[\u001b[38;5;241m1\u001b[39m] \u001b[38;5;28;01mfor\u001b[39;00m x \u001b[38;5;129;01min\u001b[39;00m output]\n",
      "File \u001b[0;32m~/opt/anaconda3/envs/phd/lib/python3.10/site-packages/joblib/parallel.py:1056\u001b[0m, in \u001b[0;36mParallel.__call__\u001b[0;34m(self, iterable)\u001b[0m\n\u001b[1;32m   1053\u001b[0m     \u001b[38;5;28mself\u001b[39m\u001b[38;5;241m.\u001b[39m_iterating \u001b[38;5;241m=\u001b[39m \u001b[38;5;28;01mFalse\u001b[39;00m\n\u001b[1;32m   1055\u001b[0m \u001b[38;5;28;01mwith\u001b[39;00m \u001b[38;5;28mself\u001b[39m\u001b[38;5;241m.\u001b[39m_backend\u001b[38;5;241m.\u001b[39mretrieval_context():\n\u001b[0;32m-> 1056\u001b[0m     \u001b[38;5;28;43mself\u001b[39;49m\u001b[38;5;241;43m.\u001b[39;49m\u001b[43mretrieve\u001b[49m\u001b[43m(\u001b[49m\u001b[43m)\u001b[49m\n\u001b[1;32m   1057\u001b[0m \u001b[38;5;66;03m# Make sure that we get a last message telling us we are done\u001b[39;00m\n\u001b[1;32m   1058\u001b[0m elapsed_time \u001b[38;5;241m=\u001b[39m time\u001b[38;5;241m.\u001b[39mtime() \u001b[38;5;241m-\u001b[39m \u001b[38;5;28mself\u001b[39m\u001b[38;5;241m.\u001b[39m_start_time\n",
      "File \u001b[0;32m~/opt/anaconda3/envs/phd/lib/python3.10/site-packages/joblib/parallel.py:935\u001b[0m, in \u001b[0;36mParallel.retrieve\u001b[0;34m(self)\u001b[0m\n\u001b[1;32m    933\u001b[0m \u001b[38;5;28;01mtry\u001b[39;00m:\n\u001b[1;32m    934\u001b[0m     \u001b[38;5;28;01mif\u001b[39;00m \u001b[38;5;28mgetattr\u001b[39m(\u001b[38;5;28mself\u001b[39m\u001b[38;5;241m.\u001b[39m_backend, \u001b[38;5;124m'\u001b[39m\u001b[38;5;124msupports_timeout\u001b[39m\u001b[38;5;124m'\u001b[39m, \u001b[38;5;28;01mFalse\u001b[39;00m):\n\u001b[0;32m--> 935\u001b[0m         \u001b[38;5;28mself\u001b[39m\u001b[38;5;241m.\u001b[39m_output\u001b[38;5;241m.\u001b[39mextend(\u001b[43mjob\u001b[49m\u001b[38;5;241;43m.\u001b[39;49m\u001b[43mget\u001b[49m\u001b[43m(\u001b[49m\u001b[43mtimeout\u001b[49m\u001b[38;5;241;43m=\u001b[39;49m\u001b[38;5;28;43mself\u001b[39;49m\u001b[38;5;241;43m.\u001b[39;49m\u001b[43mtimeout\u001b[49m\u001b[43m)\u001b[49m)\n\u001b[1;32m    936\u001b[0m     \u001b[38;5;28;01melse\u001b[39;00m:\n\u001b[1;32m    937\u001b[0m         \u001b[38;5;28mself\u001b[39m\u001b[38;5;241m.\u001b[39m_output\u001b[38;5;241m.\u001b[39mextend(job\u001b[38;5;241m.\u001b[39mget())\n",
      "File \u001b[0;32m~/opt/anaconda3/envs/phd/lib/python3.10/site-packages/joblib/_parallel_backends.py:542\u001b[0m, in \u001b[0;36mLokyBackend.wrap_future_result\u001b[0;34m(future, timeout)\u001b[0m\n\u001b[1;32m    539\u001b[0m \u001b[38;5;124;03m\"\"\"Wrapper for Future.result to implement the same behaviour as\u001b[39;00m\n\u001b[1;32m    540\u001b[0m \u001b[38;5;124;03mAsyncResults.get from multiprocessing.\"\"\"\u001b[39;00m\n\u001b[1;32m    541\u001b[0m \u001b[38;5;28;01mtry\u001b[39;00m:\n\u001b[0;32m--> 542\u001b[0m     \u001b[38;5;28;01mreturn\u001b[39;00m \u001b[43mfuture\u001b[49m\u001b[38;5;241;43m.\u001b[39;49m\u001b[43mresult\u001b[49m\u001b[43m(\u001b[49m\u001b[43mtimeout\u001b[49m\u001b[38;5;241;43m=\u001b[39;49m\u001b[43mtimeout\u001b[49m\u001b[43m)\u001b[49m\n\u001b[1;32m    543\u001b[0m \u001b[38;5;28;01mexcept\u001b[39;00m CfTimeoutError \u001b[38;5;28;01mas\u001b[39;00m e:\n\u001b[1;32m    544\u001b[0m     \u001b[38;5;28;01mraise\u001b[39;00m \u001b[38;5;167;01mTimeoutError\u001b[39;00m \u001b[38;5;28;01mfrom\u001b[39;00m \u001b[38;5;21;01me\u001b[39;00m\n",
      "File \u001b[0;32m~/opt/anaconda3/envs/phd/lib/python3.10/concurrent/futures/_base.py:453\u001b[0m, in \u001b[0;36mFuture.result\u001b[0;34m(self, timeout)\u001b[0m\n\u001b[1;32m    450\u001b[0m \u001b[38;5;28;01melif\u001b[39;00m \u001b[38;5;28mself\u001b[39m\u001b[38;5;241m.\u001b[39m_state \u001b[38;5;241m==\u001b[39m FINISHED:\n\u001b[1;32m    451\u001b[0m     \u001b[38;5;28;01mreturn\u001b[39;00m \u001b[38;5;28mself\u001b[39m\u001b[38;5;241m.\u001b[39m__get_result()\n\u001b[0;32m--> 453\u001b[0m \u001b[38;5;28;43mself\u001b[39;49m\u001b[38;5;241;43m.\u001b[39;49m\u001b[43m_condition\u001b[49m\u001b[38;5;241;43m.\u001b[39;49m\u001b[43mwait\u001b[49m\u001b[43m(\u001b[49m\u001b[43mtimeout\u001b[49m\u001b[43m)\u001b[49m\n\u001b[1;32m    455\u001b[0m \u001b[38;5;28;01mif\u001b[39;00m \u001b[38;5;28mself\u001b[39m\u001b[38;5;241m.\u001b[39m_state \u001b[38;5;129;01min\u001b[39;00m [CANCELLED, CANCELLED_AND_NOTIFIED]:\n\u001b[1;32m    456\u001b[0m     \u001b[38;5;28;01mraise\u001b[39;00m CancelledError()\n",
      "File \u001b[0;32m~/opt/anaconda3/envs/phd/lib/python3.10/threading.py:320\u001b[0m, in \u001b[0;36mCondition.wait\u001b[0;34m(self, timeout)\u001b[0m\n\u001b[1;32m    318\u001b[0m \u001b[38;5;28;01mtry\u001b[39;00m:    \u001b[38;5;66;03m# restore state no matter what (e.g., KeyboardInterrupt)\u001b[39;00m\n\u001b[1;32m    319\u001b[0m     \u001b[38;5;28;01mif\u001b[39;00m timeout \u001b[38;5;129;01mis\u001b[39;00m \u001b[38;5;28;01mNone\u001b[39;00m:\n\u001b[0;32m--> 320\u001b[0m         \u001b[43mwaiter\u001b[49m\u001b[38;5;241;43m.\u001b[39;49m\u001b[43macquire\u001b[49m\u001b[43m(\u001b[49m\u001b[43m)\u001b[49m\n\u001b[1;32m    321\u001b[0m         gotit \u001b[38;5;241m=\u001b[39m \u001b[38;5;28;01mTrue\u001b[39;00m\n\u001b[1;32m    322\u001b[0m     \u001b[38;5;28;01melse\u001b[39;00m:\n",
      "\u001b[0;31mKeyboardInterrupt\u001b[0m: "
     ]
    }
   ],
   "source": [
    "from src.utils import mkdirs, pkl_dump\n",
    "from sklearn.ensemble import RandomForestClassifier\n",
    "from src.sklearn_train_eval import nested_kcv_train_sklearn, evaluate_trained_models_sklearn\n",
    "from src.metrics import get_nested_feature_importance\n",
    "\n",
    "outdir = '../output/230327_fixing_exprscore_filt/'\n",
    "mkdirs(outdir)\n",
    "mkdirs(outdir+'raw/')\n",
    "mkdirs(outdir+'bootstrapping/')\n",
    "\n",
    "cedar_dataset = cedar_aligned_expr\n",
    "prime_dataset = prime_aligned_expr\n",
    "nepdb_dataset = nepdb_aligned_expr\n",
    "\n",
    "train_dataset = cedar_dataset\n",
    "\n",
    "mega_df = pd.DataFrame()\n",
    "print('Starting loops')\n",
    "\n",
    "for mut_cols in tqdm(mcs[-1::], position=0, leave=True, desc='cols'):\n",
    "    key = '-'.join(mut_cols)\n",
    "    if key == '':\n",
    "        key = 'only_rank'\n",
    "\n",
    "    key.replace('aliphatic_index-boman-hydrophobicity-isoelectric_point-VHSE1-VHSE3-VHSE7-VHSE8',\n",
    "                'aa_props')\n",
    "    key.replace(' ', '-')\n",
    "    encoding_kwargs['mut_col'] = mut_cols\n",
    "    # megaloops for encoding-weighting\n",
    "    for encoding, blosum_matrix, blsm_name in tqdm(zip(['onehot'],\n",
    "                                                       [None],\n",
    "                                                       ['onehot']),\n",
    "                                                   desc='encoding', leave=False, position=1):\n",
    "        encoding_kwargs['encoding'] = encoding\n",
    "        encoding_kwargs['blosum_matrix'] = blosum_matrix\n",
    "\n",
    "        for invert, ic_name, ics_dict, mask in [(True, 'Shannon', ics_shannon, False),\n",
    "                                          (False, 'None', None, False),\n",
    "                                          (False, 'Mask', ics_shannon, True)]:\n",
    "            encoding_kwargs['invert'] = invert\n",
    "            encoding_kwargs['mask'] = mask\n",
    "            if invert:\n",
    "                if ic_name == 'None':\n",
    "                    continue\n",
    "                else:\n",
    "                    ic_name = 'Inverted ' + ic_name\n",
    "\n",
    "\n",
    "            filename = f'onehot_{\"-\".join(ic_name.split(\" \"))}_icore_mut_EL_rank_mut_{key}'\n",
    "            # Using the same model and hyperparameters\n",
    "            model = RandomForestClassifier(n_jobs=1, min_samples_leaf=7, n_estimators=300,\n",
    "                                           max_depth=8, ccp_alpha=9.945e-6)\n",
    "            # Training model and getting feature importances\n",
    "            print('Training')\n",
    "            trained_models, train_metrics, _ = nested_kcv_train_sklearn(train_dataset, model,\n",
    "                                                                        ics_dict=ics_dict,\n",
    "                                                                        encoding_kwargs=encoding_kwargs,\n",
    "                                                                        n_jobs=8)\n",
    "            fi = get_nested_feature_importance(trained_models)\n",
    "            fn = AA_KEYS + ['rank'] + mut_cols\n",
    "            # Saving Feature importances as dataframe\n",
    "            df_fi = pd.DataFrame(fi, index=fn).T\n",
    "            df_fi.to_csv(\n",
    "                f'{outdir}raw/featimps_{filename}.csv',\n",
    "                index=False)\n",
    "\n",
    "            for evalset, evalname in zip([cedar_dataset, prime_dataset, nepdb_dataset],\n",
    "                                         ['CEDAR', 'PRIME', 'NEPDB']):\n",
    "                # FULLY FILTERED + Mean_pred\n",
    "                if not evalset.equals(train_dataset):\n",
    "                    evalset = evalset.query('Peptide not in @train_dataset.Peptide.values')\n",
    "                _, preds = evaluate_trained_models_sklearn(evalset.drop_duplicates(subset=['Peptide','HLA','agg_label']),\n",
    "                                                           trained_models, ics_dict,\n",
    "                                                           train_dataset,\n",
    "                                                           encoding_kwargs, concatenated=False,\n",
    "                                                           only_concat=True, n_jobs=20)\n",
    "                p_col = 'pred' if 'pred' in preds.columns else 'mean_pred'\n",
    "                preds.to_csv(f'{outdir}raw/{evalname}_preds_{filename}.csv', index=False, columns = [p_col, 'Peptide', 'icore_mut', 'EL_rank_mut', 'EL_rank_wt_aligned', 'ratio_rank', 'foreignness_score', 'agg_label', 'HLA'])\n",
    "\n",
    "                bootstrapped_df = final_bootstrap_wrapper(preds, filename, ic_name,\n",
    "                                                          key, evalname, n_rounds=10000, n_jobs = 8)\n",
    "            del trained_models, bootstrapped_df"
   ]
  },
  {
   "cell_type": "code",
   "execution_count": null,
   "id": "ec8b061e-de38-4583-99e4-3bace8f8330e",
   "metadata": {},
   "outputs": [],
   "source": []
  }
 ],
 "metadata": {
  "kernelspec": {
   "display_name": "Python [conda env:phd] *",
   "language": "python",
   "name": "conda-env-phd-py"
  },
  "language_info": {
   "codemirror_mode": {
    "name": "ipython",
    "version": 3
   },
   "file_extension": ".py",
   "mimetype": "text/x-python",
   "name": "python",
   "nbconvert_exporter": "python",
   "pygments_lexer": "ipython3",
   "version": "3.10.8"
  }
 },
 "nbformat": 4,
 "nbformat_minor": 5
}

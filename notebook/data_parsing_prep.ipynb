{
 "cells": [
  {
   "cell_type": "code",
   "execution_count": 1,
   "id": "c73b1043-85a1-460c-b23c-f3f178fb218e",
   "metadata": {},
   "outputs": [],
   "source": [
    "%load_ext autoreload\n",
    "%autoreload 2\n",
    "import os, sys\n",
    "module_path = os.path.abspath(os.path.join('..'))\n",
    "if module_path not in sys.path:\n",
    "    sys.path.append(module_path)\n",
    "import pandas as pd\n",
    "import numpy as np\n",
    "from src.utils import flatten_level_columns as flc\n",
    "from src.utils import read_netmhcpan_results, get_filtered_df, filter_rank\n",
    "from src.sequence_handling import AA_KEYS\n",
    "import matplotlib.pyplot as plt\n",
    "import matplotlib as mpl\n",
    "import seaborn as sns\n",
    "sns.set_style('darkgrid')\n",
    "pal = sns.color_palette('hsv', n_colors=13)\n",
    "pal = [pal[6], pal[9], pal[-1]]\n",
    "sns.set_palette(pal)\n",
    "mpl.rcParams['figure.dpi'] = 180\n",
    "import warnings\n",
    "warnings.filterwarnings(\"ignore\")\n",
    "\n",
    "pd.set_option(\"display.max_columns\",999)\n",
    "pd.set_option(\"display.max_rows\",100)"
   ]
  },
  {
   "cell_type": "markdown",
   "id": "da009fb5-710a-4a3f-9ca9-4ece1d3dad43",
   "metadata": {
    "tags": []
   },
   "source": [
    "# old stuff"
   ]
  },
  {
   "cell_type": "markdown",
   "id": "c3f38659-3059-429f-a0f3-46cdf82e55a6",
   "metadata": {
    "tags": []
   },
   "source": [
    "## cedar filtering fcts"
   ]
  },
  {
   "cell_type": "code",
   "execution_count": 53,
   "id": "ed4032f8-6521-464b-b7fd-a7dcd39841b0",
   "metadata": {
    "tags": []
   },
   "outputs": [],
   "source": [
    "def count_class(df):\n",
    "    tmp = df.groupby('agg_label').count()\n",
    "    display(tmp)\n",
    "    return tmp\n",
    "\n",
    "def get_top_HLA(df, n=10):\n",
    "    hla_col = 'HLA' if 'HLA' in df.columns else 'mhc_allele name'\n",
    "    pep_col = 'Peptide' if 'Peptide' in df.columns else 'epitope_description'\n",
    "    tmp = ','.join([x.replace(':','').replace('*','').replace('HLA-','')\\\n",
    "              for x in df.groupby(hla_col)[[pep_col]].agg('count').sort_values(pep_col, ascending=False).head(n).index])\n",
    "    print(tmp)\n",
    "    return tmp\n",
    "\n",
    "def query_ELIS(df):\n",
    "    return df.query('`assay_method/technique` in [\"ELISPOT\", \"ELISA\"]').sort_values('epitope_description')\n",
    "\n",
    "def keep_full_HLA(df):\n",
    "    return df.query('`mhc_allele name`.str.contains(\":\")', engine = 'python')\n",
    "\n",
    "def get_dupe_unique_df(df):\n",
    "    \"\"\"\n",
    "    From the source df, get the unique (keeping first) AND the duplicates df, and the common indices\n",
    "    \"\"\"\n",
    "    dup_df = df.loc[df.duplicated(subset='epitope_description', keep=False)].sort_values('epitope_description')\n",
    "    unique_df = df.drop_duplicates(subset='epitope_description', keep ='first')\n",
    "    common_indices = dup_df.index.join(unique_df.index, how = 'inner')\n",
    "    return unique_df, dup_df, common_indices\n",
    "\n",
    "def get_agg_label(dup_df):\n",
    "    dup_df['label'] = dup_df['assay_qualitative measure'].apply(lambda x: 1 if 'Pos' in x else 0)\n",
    "    agg_label = dup_df.groupby('epitope_description').agg({'label':\"max\"})\n",
    "    gb = dup_df.groupby(['epitope_description', 'label']).agg({'label':\"count\"}).rename(columns={'label':'count'})\n",
    "    return agg_label\n",
    "\n",
    "def get_agg(dup_df):\n",
    "    dup_df['label'] = dup_df['assay_qualitative measure'].apply(lambda x: 1 if 'Pos' in x else 0)\n",
    "    \n",
    "    gb = dup_df.groupby(['epitope_description', 'label']).agg({'label':\"count\"}).rename(columns={'label':'count'})#.reset_index()\n",
    "    gb['percentage_pos'] = gb/gb.groupby(['epitope_description']).agg({'count':\"sum\"})\n",
    "    agg = gb.reset_index().groupby(['epitope_description']).agg({'label':'max', 'percentage_pos':\"max\"}).rename(columns={'label':'agg_label'})\n",
    "    agg.loc[agg['agg_label']==0, 'percentage_pos']=0\n",
    "    agg['total'] = gb.reset_index().groupby('epitope_description').agg({'count':\"sum\"})\n",
    "    return agg\n",
    "\n",
    "def assign_agg_metrics(unique_df, agg_df, common_indices):\n",
    "    unique_df['agg_label'] = unique_df['assay_qualitative measure'].apply(lambda x: 1 if 'Pos' in x else 0)\n",
    "    unique_df['total_count'] = 1\n",
    "    unique_df['percentage_pos'] = unique_df['agg_label']\n",
    "    unique_df.loc[common_indices, 'agg_label'] = agg['agg_label'].values\n",
    "    unique_df.loc[common_indices, 'total_count'] = agg['total'].values\n",
    "    unique_df.loc[common_indices, 'percentage_pos'] = agg['percentage_pos'].values\n",
    "    return unique_df\n",
    "\n",
    "def get_top_hla(df, n=10):\n",
    "    return df.groupby('HLA')['Peptide'].count().sort_values(ascending=False).head(n)\n"
   ]
  },
  {
   "cell_type": "markdown",
   "id": "40913e08-acaa-43e3-93bf-fe26524dca12",
   "metadata": {
    "jp-MarkdownHeadingCollapsed": true,
    "tags": []
   },
   "source": [
    "## init HP"
   ]
  },
  {
   "cell_type": "code",
   "execution_count": 2,
   "id": "7f1b4213-7844-48ed-a03f-97a4ee504478",
   "metadata": {
    "collapsed": true,
    "jupyter": {
     "outputs_hidden": true
    },
    "tags": []
   },
   "outputs": [
    {
     "ename": "KeyboardInterrupt",
     "evalue": "",
     "output_type": "error",
     "traceback": [
      "\u001b[1;31m---------------------------------------------------------------------------\u001b[0m",
      "\u001b[1;31mKeyboardInterrupt\u001b[0m                         Traceback (most recent call last)",
      "Input \u001b[1;32mIn [2]\u001b[0m, in \u001b[0;36m<cell line: 5>\u001b[1;34m()\u001b[0m\n\u001b[0;32m      3\u001b[0m scored_10mers \u001b[38;5;241m=\u001b[39m pd\u001b[38;5;241m.\u001b[39mconcat([pd\u001b[38;5;241m.\u001b[39mread_csv(\u001b[38;5;124mf\u001b[39m\u001b[38;5;124m'\u001b[39m\u001b[38;5;124m../output/10mers_humanproteome_chunk_\u001b[39m\u001b[38;5;132;01m{\u001b[39;00mx\u001b[38;5;132;01m}\u001b[39;00m\u001b[38;5;124mscored.txt\u001b[39m\u001b[38;5;124m'\u001b[39m) \u001b[38;5;28;01mfor\u001b[39;00m x \u001b[38;5;129;01min\u001b[39;00m [\u001b[38;5;241m0\u001b[39m, \u001b[38;5;241m1\u001b[39m, \u001b[38;5;241m2\u001b[39m, \u001b[38;5;241m3\u001b[39m]])\n\u001b[0;32m      4\u001b[0m scored_11mers \u001b[38;5;241m=\u001b[39m pd\u001b[38;5;241m.\u001b[39mconcat([pd\u001b[38;5;241m.\u001b[39mread_csv(\u001b[38;5;124mf\u001b[39m\u001b[38;5;124m'\u001b[39m\u001b[38;5;124m../output/11mers_humanproteome_chunk_\u001b[39m\u001b[38;5;132;01m{\u001b[39;00mx\u001b[38;5;132;01m}\u001b[39;00m\u001b[38;5;124mscored.txt\u001b[39m\u001b[38;5;124m'\u001b[39m) \u001b[38;5;28;01mfor\u001b[39;00m x \u001b[38;5;129;01min\u001b[39;00m [\u001b[38;5;241m0\u001b[39m, \u001b[38;5;241m1\u001b[39m, \u001b[38;5;241m2\u001b[39m, \u001b[38;5;241m3\u001b[39m]])\n\u001b[1;32m----> 5\u001b[0m scored_12mers \u001b[38;5;241m=\u001b[39m pd\u001b[38;5;241m.\u001b[39mconcat([pd\u001b[38;5;241m.\u001b[39mread_csv(\u001b[38;5;124mf\u001b[39m\u001b[38;5;124m'\u001b[39m\u001b[38;5;124m../output/12mers_humanproteome_chunk_\u001b[39m\u001b[38;5;132;01m{\u001b[39;00mx\u001b[38;5;132;01m}\u001b[39;00m\u001b[38;5;124mscored.txt\u001b[39m\u001b[38;5;124m'\u001b[39m) \u001b[38;5;28;01mfor\u001b[39;00m x \u001b[38;5;129;01min\u001b[39;00m [\u001b[38;5;241m0\u001b[39m, \u001b[38;5;241m1\u001b[39m, \u001b[38;5;241m2\u001b[39m, \u001b[38;5;241m3\u001b[39m]])\n\u001b[0;32m      6\u001b[0m scored \u001b[38;5;241m=\u001b[39m {\u001b[38;5;241m9\u001b[39m: scored_9mers,\n\u001b[0;32m      7\u001b[0m           \u001b[38;5;241m8\u001b[39m: scored_8mers,\n\u001b[0;32m      8\u001b[0m           \u001b[38;5;241m10\u001b[39m: scored_10mers,\n\u001b[0;32m      9\u001b[0m           \u001b[38;5;241m11\u001b[39m: scored_11mers,\n\u001b[0;32m     10\u001b[0m           \u001b[38;5;241m12\u001b[39m: scored_12mers}\n",
      "Input \u001b[1;32mIn [2]\u001b[0m, in \u001b[0;36m<listcomp>\u001b[1;34m(.0)\u001b[0m\n\u001b[0;32m      3\u001b[0m scored_10mers \u001b[38;5;241m=\u001b[39m pd\u001b[38;5;241m.\u001b[39mconcat([pd\u001b[38;5;241m.\u001b[39mread_csv(\u001b[38;5;124mf\u001b[39m\u001b[38;5;124m'\u001b[39m\u001b[38;5;124m../output/10mers_humanproteome_chunk_\u001b[39m\u001b[38;5;132;01m{\u001b[39;00mx\u001b[38;5;132;01m}\u001b[39;00m\u001b[38;5;124mscored.txt\u001b[39m\u001b[38;5;124m'\u001b[39m) \u001b[38;5;28;01mfor\u001b[39;00m x \u001b[38;5;129;01min\u001b[39;00m [\u001b[38;5;241m0\u001b[39m, \u001b[38;5;241m1\u001b[39m, \u001b[38;5;241m2\u001b[39m, \u001b[38;5;241m3\u001b[39m]])\n\u001b[0;32m      4\u001b[0m scored_11mers \u001b[38;5;241m=\u001b[39m pd\u001b[38;5;241m.\u001b[39mconcat([pd\u001b[38;5;241m.\u001b[39mread_csv(\u001b[38;5;124mf\u001b[39m\u001b[38;5;124m'\u001b[39m\u001b[38;5;124m../output/11mers_humanproteome_chunk_\u001b[39m\u001b[38;5;132;01m{\u001b[39;00mx\u001b[38;5;132;01m}\u001b[39;00m\u001b[38;5;124mscored.txt\u001b[39m\u001b[38;5;124m'\u001b[39m) \u001b[38;5;28;01mfor\u001b[39;00m x \u001b[38;5;129;01min\u001b[39;00m [\u001b[38;5;241m0\u001b[39m, \u001b[38;5;241m1\u001b[39m, \u001b[38;5;241m2\u001b[39m, \u001b[38;5;241m3\u001b[39m]])\n\u001b[1;32m----> 5\u001b[0m scored_12mers \u001b[38;5;241m=\u001b[39m pd\u001b[38;5;241m.\u001b[39mconcat([\u001b[43mpd\u001b[49m\u001b[38;5;241;43m.\u001b[39;49m\u001b[43mread_csv\u001b[49m\u001b[43m(\u001b[49m\u001b[38;5;124;43mf\u001b[39;49m\u001b[38;5;124;43m'\u001b[39;49m\u001b[38;5;124;43m../output/12mers_humanproteome_chunk_\u001b[39;49m\u001b[38;5;132;43;01m{\u001b[39;49;00m\u001b[43mx\u001b[49m\u001b[38;5;132;43;01m}\u001b[39;49;00m\u001b[38;5;124;43mscored.txt\u001b[39;49m\u001b[38;5;124;43m'\u001b[39;49m\u001b[43m)\u001b[49m \u001b[38;5;28;01mfor\u001b[39;00m x \u001b[38;5;129;01min\u001b[39;00m [\u001b[38;5;241m0\u001b[39m, \u001b[38;5;241m1\u001b[39m, \u001b[38;5;241m2\u001b[39m, \u001b[38;5;241m3\u001b[39m]])\n\u001b[0;32m      6\u001b[0m scored \u001b[38;5;241m=\u001b[39m {\u001b[38;5;241m9\u001b[39m: scored_9mers,\n\u001b[0;32m      7\u001b[0m           \u001b[38;5;241m8\u001b[39m: scored_8mers,\n\u001b[0;32m      8\u001b[0m           \u001b[38;5;241m10\u001b[39m: scored_10mers,\n\u001b[0;32m      9\u001b[0m           \u001b[38;5;241m11\u001b[39m: scored_11mers,\n\u001b[0;32m     10\u001b[0m           \u001b[38;5;241m12\u001b[39m: scored_12mers}\n",
      "File \u001b[1;32m~\\anaconda3\\envs\\phd\\lib\\site-packages\\pandas\\util\\_decorators.py:311\u001b[0m, in \u001b[0;36mdeprecate_nonkeyword_arguments.<locals>.decorate.<locals>.wrapper\u001b[1;34m(*args, **kwargs)\u001b[0m\n\u001b[0;32m    305\u001b[0m \u001b[38;5;28;01mif\u001b[39;00m \u001b[38;5;28mlen\u001b[39m(args) \u001b[38;5;241m>\u001b[39m num_allow_args:\n\u001b[0;32m    306\u001b[0m     warnings\u001b[38;5;241m.\u001b[39mwarn(\n\u001b[0;32m    307\u001b[0m         msg\u001b[38;5;241m.\u001b[39mformat(arguments\u001b[38;5;241m=\u001b[39marguments),\n\u001b[0;32m    308\u001b[0m         \u001b[38;5;167;01mFutureWarning\u001b[39;00m,\n\u001b[0;32m    309\u001b[0m         stacklevel\u001b[38;5;241m=\u001b[39mstacklevel,\n\u001b[0;32m    310\u001b[0m     )\n\u001b[1;32m--> 311\u001b[0m \u001b[38;5;28;01mreturn\u001b[39;00m func(\u001b[38;5;241m*\u001b[39margs, \u001b[38;5;241m*\u001b[39m\u001b[38;5;241m*\u001b[39mkwargs)\n",
      "File \u001b[1;32m~\\anaconda3\\envs\\phd\\lib\\site-packages\\pandas\\io\\parsers\\readers.py:680\u001b[0m, in \u001b[0;36mread_csv\u001b[1;34m(filepath_or_buffer, sep, delimiter, header, names, index_col, usecols, squeeze, prefix, mangle_dupe_cols, dtype, engine, converters, true_values, false_values, skipinitialspace, skiprows, skipfooter, nrows, na_values, keep_default_na, na_filter, verbose, skip_blank_lines, parse_dates, infer_datetime_format, keep_date_col, date_parser, dayfirst, cache_dates, iterator, chunksize, compression, thousands, decimal, lineterminator, quotechar, quoting, doublequote, escapechar, comment, encoding, encoding_errors, dialect, error_bad_lines, warn_bad_lines, on_bad_lines, delim_whitespace, low_memory, memory_map, float_precision, storage_options)\u001b[0m\n\u001b[0;32m    665\u001b[0m kwds_defaults \u001b[38;5;241m=\u001b[39m _refine_defaults_read(\n\u001b[0;32m    666\u001b[0m     dialect,\n\u001b[0;32m    667\u001b[0m     delimiter,\n\u001b[1;32m   (...)\u001b[0m\n\u001b[0;32m    676\u001b[0m     defaults\u001b[38;5;241m=\u001b[39m{\u001b[38;5;124m\"\u001b[39m\u001b[38;5;124mdelimiter\u001b[39m\u001b[38;5;124m\"\u001b[39m: \u001b[38;5;124m\"\u001b[39m\u001b[38;5;124m,\u001b[39m\u001b[38;5;124m\"\u001b[39m},\n\u001b[0;32m    677\u001b[0m )\n\u001b[0;32m    678\u001b[0m kwds\u001b[38;5;241m.\u001b[39mupdate(kwds_defaults)\n\u001b[1;32m--> 680\u001b[0m \u001b[38;5;28;01mreturn\u001b[39;00m \u001b[43m_read\u001b[49m\u001b[43m(\u001b[49m\u001b[43mfilepath_or_buffer\u001b[49m\u001b[43m,\u001b[49m\u001b[43m \u001b[49m\u001b[43mkwds\u001b[49m\u001b[43m)\u001b[49m\n",
      "File \u001b[1;32m~\\anaconda3\\envs\\phd\\lib\\site-packages\\pandas\\io\\parsers\\readers.py:581\u001b[0m, in \u001b[0;36m_read\u001b[1;34m(filepath_or_buffer, kwds)\u001b[0m\n\u001b[0;32m    578\u001b[0m     \u001b[38;5;28;01mreturn\u001b[39;00m parser\n\u001b[0;32m    580\u001b[0m \u001b[38;5;28;01mwith\u001b[39;00m parser:\n\u001b[1;32m--> 581\u001b[0m     \u001b[38;5;28;01mreturn\u001b[39;00m \u001b[43mparser\u001b[49m\u001b[38;5;241;43m.\u001b[39;49m\u001b[43mread\u001b[49m\u001b[43m(\u001b[49m\u001b[43mnrows\u001b[49m\u001b[43m)\u001b[49m\n",
      "File \u001b[1;32m~\\anaconda3\\envs\\phd\\lib\\site-packages\\pandas\\io\\parsers\\readers.py:1269\u001b[0m, in \u001b[0;36mTextFileReader.read\u001b[1;34m(self, nrows)\u001b[0m\n\u001b[0;32m   1266\u001b[0m     \u001b[38;5;28;01melse\u001b[39;00m:\n\u001b[0;32m   1267\u001b[0m         new_rows \u001b[38;5;241m=\u001b[39m \u001b[38;5;28mlen\u001b[39m(index)\n\u001b[1;32m-> 1269\u001b[0m     df \u001b[38;5;241m=\u001b[39m \u001b[43mDataFrame\u001b[49m\u001b[43m(\u001b[49m\u001b[43mcol_dict\u001b[49m\u001b[43m,\u001b[49m\u001b[43m \u001b[49m\u001b[43mcolumns\u001b[49m\u001b[38;5;241;43m=\u001b[39;49m\u001b[43mcolumns\u001b[49m\u001b[43m,\u001b[49m\u001b[43m \u001b[49m\u001b[43mindex\u001b[49m\u001b[38;5;241;43m=\u001b[39;49m\u001b[43mindex\u001b[49m\u001b[43m)\u001b[49m\n\u001b[0;32m   1271\u001b[0m     \u001b[38;5;28mself\u001b[39m\u001b[38;5;241m.\u001b[39m_currow \u001b[38;5;241m+\u001b[39m\u001b[38;5;241m=\u001b[39m new_rows\n\u001b[0;32m   1273\u001b[0m \u001b[38;5;28;01mif\u001b[39;00m \u001b[38;5;28mself\u001b[39m\u001b[38;5;241m.\u001b[39msqueeze \u001b[38;5;129;01mand\u001b[39;00m \u001b[38;5;28mlen\u001b[39m(df\u001b[38;5;241m.\u001b[39mcolumns) \u001b[38;5;241m==\u001b[39m \u001b[38;5;241m1\u001b[39m:\n",
      "File \u001b[1;32m~\\anaconda3\\envs\\phd\\lib\\site-packages\\pandas\\core\\frame.py:636\u001b[0m, in \u001b[0;36mDataFrame.__init__\u001b[1;34m(self, data, index, columns, dtype, copy)\u001b[0m\n\u001b[0;32m    630\u001b[0m     mgr \u001b[38;5;241m=\u001b[39m \u001b[38;5;28mself\u001b[39m\u001b[38;5;241m.\u001b[39m_init_mgr(\n\u001b[0;32m    631\u001b[0m         data, axes\u001b[38;5;241m=\u001b[39m{\u001b[38;5;124m\"\u001b[39m\u001b[38;5;124mindex\u001b[39m\u001b[38;5;124m\"\u001b[39m: index, \u001b[38;5;124m\"\u001b[39m\u001b[38;5;124mcolumns\u001b[39m\u001b[38;5;124m\"\u001b[39m: columns}, dtype\u001b[38;5;241m=\u001b[39mdtype, copy\u001b[38;5;241m=\u001b[39mcopy\n\u001b[0;32m    632\u001b[0m     )\n\u001b[0;32m    634\u001b[0m \u001b[38;5;28;01melif\u001b[39;00m \u001b[38;5;28misinstance\u001b[39m(data, \u001b[38;5;28mdict\u001b[39m):\n\u001b[0;32m    635\u001b[0m     \u001b[38;5;66;03m# GH#38939 de facto copy defaults to False only in non-dict cases\u001b[39;00m\n\u001b[1;32m--> 636\u001b[0m     mgr \u001b[38;5;241m=\u001b[39m \u001b[43mdict_to_mgr\u001b[49m\u001b[43m(\u001b[49m\u001b[43mdata\u001b[49m\u001b[43m,\u001b[49m\u001b[43m \u001b[49m\u001b[43mindex\u001b[49m\u001b[43m,\u001b[49m\u001b[43m \u001b[49m\u001b[43mcolumns\u001b[49m\u001b[43m,\u001b[49m\u001b[43m \u001b[49m\u001b[43mdtype\u001b[49m\u001b[38;5;241;43m=\u001b[39;49m\u001b[43mdtype\u001b[49m\u001b[43m,\u001b[49m\u001b[43m \u001b[49m\u001b[43mcopy\u001b[49m\u001b[38;5;241;43m=\u001b[39;49m\u001b[43mcopy\u001b[49m\u001b[43m,\u001b[49m\u001b[43m \u001b[49m\u001b[43mtyp\u001b[49m\u001b[38;5;241;43m=\u001b[39;49m\u001b[43mmanager\u001b[49m\u001b[43m)\u001b[49m\n\u001b[0;32m    637\u001b[0m \u001b[38;5;28;01melif\u001b[39;00m \u001b[38;5;28misinstance\u001b[39m(data, ma\u001b[38;5;241m.\u001b[39mMaskedArray):\n\u001b[0;32m    638\u001b[0m     \u001b[38;5;28;01mimport\u001b[39;00m \u001b[38;5;21;01mnumpy\u001b[39;00m\u001b[38;5;21;01m.\u001b[39;00m\u001b[38;5;21;01mma\u001b[39;00m\u001b[38;5;21;01m.\u001b[39;00m\u001b[38;5;21;01mmrecords\u001b[39;00m \u001b[38;5;28;01mas\u001b[39;00m \u001b[38;5;21;01mmrecords\u001b[39;00m\n",
      "File \u001b[1;32m~\\anaconda3\\envs\\phd\\lib\\site-packages\\pandas\\core\\internals\\construction.py:502\u001b[0m, in \u001b[0;36mdict_to_mgr\u001b[1;34m(data, index, columns, dtype, typ, copy)\u001b[0m\n\u001b[0;32m    494\u001b[0m     arrays \u001b[38;5;241m=\u001b[39m [\n\u001b[0;32m    495\u001b[0m         x\n\u001b[0;32m    496\u001b[0m         \u001b[38;5;28;01mif\u001b[39;00m \u001b[38;5;129;01mnot\u001b[39;00m \u001b[38;5;28mhasattr\u001b[39m(x, \u001b[38;5;124m\"\u001b[39m\u001b[38;5;124mdtype\u001b[39m\u001b[38;5;124m\"\u001b[39m) \u001b[38;5;129;01mor\u001b[39;00m \u001b[38;5;129;01mnot\u001b[39;00m \u001b[38;5;28misinstance\u001b[39m(x\u001b[38;5;241m.\u001b[39mdtype, ExtensionDtype)\n\u001b[0;32m    497\u001b[0m         \u001b[38;5;28;01melse\u001b[39;00m x\u001b[38;5;241m.\u001b[39mcopy()\n\u001b[0;32m    498\u001b[0m         \u001b[38;5;28;01mfor\u001b[39;00m x \u001b[38;5;129;01min\u001b[39;00m arrays\n\u001b[0;32m    499\u001b[0m     ]\n\u001b[0;32m    500\u001b[0m     \u001b[38;5;66;03m# TODO: can we get rid of the dt64tz special case above?\u001b[39;00m\n\u001b[1;32m--> 502\u001b[0m \u001b[38;5;28;01mreturn\u001b[39;00m \u001b[43marrays_to_mgr\u001b[49m\u001b[43m(\u001b[49m\u001b[43marrays\u001b[49m\u001b[43m,\u001b[49m\u001b[43m \u001b[49m\u001b[43mcolumns\u001b[49m\u001b[43m,\u001b[49m\u001b[43m \u001b[49m\u001b[43mindex\u001b[49m\u001b[43m,\u001b[49m\u001b[43m \u001b[49m\u001b[43mdtype\u001b[49m\u001b[38;5;241;43m=\u001b[39;49m\u001b[43mdtype\u001b[49m\u001b[43m,\u001b[49m\u001b[43m \u001b[49m\u001b[43mtyp\u001b[49m\u001b[38;5;241;43m=\u001b[39;49m\u001b[43mtyp\u001b[49m\u001b[43m,\u001b[49m\u001b[43m \u001b[49m\u001b[43mconsolidate\u001b[49m\u001b[38;5;241;43m=\u001b[39;49m\u001b[43mcopy\u001b[49m\u001b[43m)\u001b[49m\n",
      "File \u001b[1;32m~\\anaconda3\\envs\\phd\\lib\\site-packages\\pandas\\core\\internals\\construction.py:156\u001b[0m, in \u001b[0;36marrays_to_mgr\u001b[1;34m(arrays, columns, index, dtype, verify_integrity, typ, consolidate)\u001b[0m\n\u001b[0;32m    153\u001b[0m axes \u001b[38;5;241m=\u001b[39m [columns, index]\n\u001b[0;32m    155\u001b[0m \u001b[38;5;28;01mif\u001b[39;00m typ \u001b[38;5;241m==\u001b[39m \u001b[38;5;124m\"\u001b[39m\u001b[38;5;124mblock\u001b[39m\u001b[38;5;124m\"\u001b[39m:\n\u001b[1;32m--> 156\u001b[0m     \u001b[38;5;28;01mreturn\u001b[39;00m \u001b[43mcreate_block_manager_from_column_arrays\u001b[49m\u001b[43m(\u001b[49m\n\u001b[0;32m    157\u001b[0m \u001b[43m        \u001b[49m\u001b[43marrays\u001b[49m\u001b[43m,\u001b[49m\u001b[43m \u001b[49m\u001b[43maxes\u001b[49m\u001b[43m,\u001b[49m\u001b[43m \u001b[49m\u001b[43mconsolidate\u001b[49m\u001b[38;5;241;43m=\u001b[39;49m\u001b[43mconsolidate\u001b[49m\n\u001b[0;32m    158\u001b[0m \u001b[43m    \u001b[49m\u001b[43m)\u001b[49m\n\u001b[0;32m    159\u001b[0m \u001b[38;5;28;01melif\u001b[39;00m typ \u001b[38;5;241m==\u001b[39m \u001b[38;5;124m\"\u001b[39m\u001b[38;5;124marray\u001b[39m\u001b[38;5;124m\"\u001b[39m:\n\u001b[0;32m    160\u001b[0m     \u001b[38;5;28;01mreturn\u001b[39;00m ArrayManager(arrays, [index, columns])\n",
      "File \u001b[1;32m~\\anaconda3\\envs\\phd\\lib\\site-packages\\pandas\\core\\internals\\managers.py:1954\u001b[0m, in \u001b[0;36mcreate_block_manager_from_column_arrays\u001b[1;34m(arrays, axes, consolidate)\u001b[0m\n\u001b[0;32m   1937\u001b[0m \u001b[38;5;28;01mdef\u001b[39;00m \u001b[38;5;21mcreate_block_manager_from_column_arrays\u001b[39m(\n\u001b[0;32m   1938\u001b[0m     arrays: \u001b[38;5;28mlist\u001b[39m[ArrayLike],\n\u001b[0;32m   1939\u001b[0m     axes: \u001b[38;5;28mlist\u001b[39m[Index],\n\u001b[1;32m   (...)\u001b[0m\n\u001b[0;32m   1950\u001b[0m     \u001b[38;5;66;03m# These last three are sufficient to allow us to safely pass\u001b[39;00m\n\u001b[0;32m   1951\u001b[0m     \u001b[38;5;66;03m#  verify_integrity=False below.\u001b[39;00m\n\u001b[0;32m   1953\u001b[0m     \u001b[38;5;28;01mtry\u001b[39;00m:\n\u001b[1;32m-> 1954\u001b[0m         blocks \u001b[38;5;241m=\u001b[39m \u001b[43m_form_blocks\u001b[49m\u001b[43m(\u001b[49m\u001b[43marrays\u001b[49m\u001b[43m,\u001b[49m\u001b[43m \u001b[49m\u001b[43mconsolidate\u001b[49m\u001b[43m)\u001b[49m\n\u001b[0;32m   1955\u001b[0m         mgr \u001b[38;5;241m=\u001b[39m BlockManager(blocks, axes, verify_integrity\u001b[38;5;241m=\u001b[39m\u001b[38;5;28;01mFalse\u001b[39;00m)\n\u001b[0;32m   1956\u001b[0m     \u001b[38;5;28;01mexcept\u001b[39;00m \u001b[38;5;167;01mValueError\u001b[39;00m \u001b[38;5;28;01mas\u001b[39;00m e:\n",
      "File \u001b[1;32m~\\anaconda3\\envs\\phd\\lib\\site-packages\\pandas\\core\\internals\\managers.py:2028\u001b[0m, in \u001b[0;36m_form_blocks\u001b[1;34m(arrays, consolidate)\u001b[0m\n\u001b[0;32m   2025\u001b[0m \u001b[38;5;28;01mif\u001b[39;00m \u001b[38;5;28missubclass\u001b[39m(dtype\u001b[38;5;241m.\u001b[39mtype, (\u001b[38;5;28mstr\u001b[39m, \u001b[38;5;28mbytes\u001b[39m)):\n\u001b[0;32m   2026\u001b[0m     dtype \u001b[38;5;241m=\u001b[39m np\u001b[38;5;241m.\u001b[39mdtype(\u001b[38;5;28mobject\u001b[39m)\n\u001b[1;32m-> 2028\u001b[0m values, placement \u001b[38;5;241m=\u001b[39m \u001b[43m_stack_arrays\u001b[49m\u001b[43m(\u001b[49m\u001b[38;5;28;43mlist\u001b[39;49m\u001b[43m(\u001b[49m\u001b[43mtup_block\u001b[49m\u001b[43m)\u001b[49m\u001b[43m,\u001b[49m\u001b[43m \u001b[49m\u001b[43mdtype\u001b[49m\u001b[43m)\u001b[49m\n\u001b[0;32m   2029\u001b[0m \u001b[38;5;28;01mif\u001b[39;00m is_dtlike:\n\u001b[0;32m   2030\u001b[0m     values \u001b[38;5;241m=\u001b[39m ensure_wrapped_if_datetimelike(values)\n",
      "File \u001b[1;32m~\\anaconda3\\envs\\phd\\lib\\site-packages\\pandas\\core\\internals\\managers.py:2069\u001b[0m, in \u001b[0;36m_stack_arrays\u001b[1;34m(tuples, dtype)\u001b[0m\n\u001b[0;32m   2067\u001b[0m stacked \u001b[38;5;241m=\u001b[39m np\u001b[38;5;241m.\u001b[39mempty(shape, dtype\u001b[38;5;241m=\u001b[39mdtype)\n\u001b[0;32m   2068\u001b[0m \u001b[38;5;28;01mfor\u001b[39;00m i, arr \u001b[38;5;129;01min\u001b[39;00m \u001b[38;5;28menumerate\u001b[39m(arrays):\n\u001b[1;32m-> 2069\u001b[0m     stacked[i] \u001b[38;5;241m=\u001b[39m arr\n\u001b[0;32m   2071\u001b[0m \u001b[38;5;28;01mreturn\u001b[39;00m stacked, placement\n",
      "\u001b[1;31mKeyboardInterrupt\u001b[0m: "
     ]
    }
   ],
   "source": [
    "scored_9mers = pd.concat([pd.read_csv(f'../output/9mers_humanproteome_chunk_{x}scored.txt') for x in [0, 1, 2, 3]])\n",
    "scored_8mers = pd.concat([pd.read_csv(f'../output/8mers_humanproteome_chunk_{x}scored.txt') for x in [0, 1, 2, 3]])\n",
    "scored_10mers = pd.concat([pd.read_csv(f'../output/10mers_humanproteome_chunk_{x}scored.txt') for x in [0, 1, 2, 3]])\n",
    "scored_11mers = pd.concat([pd.read_csv(f'../output/11mers_humanproteome_chunk_{x}scored.txt') for x in [0, 1, 2, 3]])\n",
    "scored_12mers = pd.concat([pd.read_csv(f'../output/12mers_humanproteome_chunk_{x}scored.txt') for x in [0, 1, 2, 3]])\n",
    "scored = {9: scored_9mers,\n",
    "          8: scored_8mers,\n",
    "          10: scored_10mers,\n",
    "          11: scored_11mers,\n",
    "          12: scored_12mers}"
   ]
  },
  {
   "cell_type": "markdown",
   "id": "406ac16a-6e85-40dd-b73a-b6fca19383d3",
   "metadata": {
    "jp-MarkdownHeadingCollapsed": true,
    "tags": []
   },
   "source": [
    "# Old cedar dump"
   ]
  },
  {
   "cell_type": "markdown",
   "id": "cb9cca63-42d2-46fd-b2c6-92999eba894b",
   "metadata": {
    "jp-MarkdownHeadingCollapsed": true,
    "tags": []
   },
   "source": [
    "## some hp stuff"
   ]
  },
  {
   "cell_type": "markdown",
   "id": "3756b163-3a36-4c1a-92b9-ec46f51e691a",
   "metadata": {},
   "source": [
    "Removing entries with X and saving to pep/df file for hobohm1\n",
    "lst=[]\n",
    "for k,v in scored.items():\n",
    "    lst.append(v.loc[~(v['Peptide'].str.contains(\"X\"))])"
   ]
  },
  {
   "cell_type": "markdown",
   "id": "76ddd381-71ba-4225-b314-ca35fa0463c5",
   "metadata": {},
   "source": [
    "hp_no_x = pd.concat(lst)"
   ]
  },
  {
   "cell_type": "markdown",
   "id": "941cc554-c123-4015-ab3f-c2731d674ea9",
   "metadata": {
    "tags": []
   },
   "source": [
    "hp_no_x.to_csv('../../../human_proteome_df.csv')\n",
    "hp_no_x['Peptide'].to_csv('../../../human_proteome_df.pep', index=False, header=False)"
   ]
  },
  {
   "cell_type": "markdown",
   "id": "d4625b09-aabe-4a45-9650-49ec111bb08f",
   "metadata": {
    "tags": []
   },
   "source": [
    "scored_9mers.query('HLA==\"HLA-A02:01\" and EL_Rank<=0.1')['Peptide'].to_csv('A0201_rank01.txt', index=False, header=False)"
   ]
  },
  {
   "cell_type": "markdown",
   "id": "128c3c9a-6eef-40da-8742-0fa5e87ea5d9",
   "metadata": {
    "jp-MarkdownHeadingCollapsed": true,
    "tags": []
   },
   "source": [
    "## some len N checks and HLA checks"
   ]
  },
  {
   "cell_type": "code",
   "execution_count": 4,
   "id": "468c3e00-9bf3-4346-9acb-7f11a5808598",
   "metadata": {
    "tags": []
   },
   "outputs": [
    {
     "name": "stdout",
     "output_type": "stream",
     "text": [
      "HLA-B35:01, N = 90530\n",
      "HLA-B15:01, N = 100068\n",
      "HLA-B07:02, N = 96024\n",
      "HLA-A02:06, N = 106130\n",
      "HLA-A02:01, N = 104519\n",
      "HLA-A24:02, N = 90257\n",
      "HLA-A03:01, N = 58403\n",
      "HLA-B08:01, N = 120521\n",
      "HLA-A01:01, N = 50742\n",
      "HLA-B27:05, N = 102168\n",
      "HLA-A11:01, N = 94623\n",
      "HLA-B40:01, N = 77875\n"
     ]
    }
   ],
   "source": [
    "for x in scored_9mers.HLA.unique():\n",
    "    print(f'{x}, N = {len(scored_9mers.query(\"HLA == @x and EL_Rank < 0.5\"))}')"
   ]
  },
  {
   "cell_type": "code",
   "execution_count": 42,
   "id": "dc5ef877-846a-4af1-9d07-415ba8321ade",
   "metadata": {},
   "outputs": [
    {
     "name": "stdout",
     "output_type": "stream",
     "text": [
      "9 7850499\n",
      "8 5735573\n",
      "10 7340466\n",
      "11 6975655\n",
      "12 5069501\n"
     ]
    }
   ],
   "source": [
    "for k in scored.keys():\n",
    "    print(k, len(scored[k]))"
   ]
  },
  {
   "cell_type": "code",
   "execution_count": 4,
   "id": "6c319737-c3d9-4602-9656-a06907c6b5e4",
   "metadata": {
    "tags": []
   },
   "outputs": [
    {
     "data": {
      "text/html": [
       "<div>\n",
       "<style scoped>\n",
       "    .dataframe tbody tr th:only-of-type {\n",
       "        vertical-align: middle;\n",
       "    }\n",
       "\n",
       "    .dataframe tbody tr th {\n",
       "        vertical-align: top;\n",
       "    }\n",
       "\n",
       "    .dataframe thead th {\n",
       "        text-align: right;\n",
       "    }\n",
       "</style>\n",
       "<table border=\"1\" class=\"dataframe\">\n",
       "  <thead>\n",
       "    <tr style=\"text-align: right;\">\n",
       "      <th></th>\n",
       "      <th>Peptide</th>\n",
       "      <th>HLA</th>\n",
       "      <th>agg_label</th>\n",
       "      <th>total_count</th>\n",
       "      <th>percentage_pos</th>\n",
       "      <th>len</th>\n",
       "    </tr>\n",
       "  </thead>\n",
       "  <tbody>\n",
       "    <tr>\n",
       "      <th>0</th>\n",
       "      <td>AAGIGILTV</td>\n",
       "      <td>HLA-A*02:01</td>\n",
       "      <td>1</td>\n",
       "      <td>14</td>\n",
       "      <td>0.928571</td>\n",
       "      <td>9</td>\n",
       "    </tr>\n",
       "    <tr>\n",
       "      <th>1</th>\n",
       "      <td>AAIAASRSV</td>\n",
       "      <td>HLA-C*12:03</td>\n",
       "      <td>0</td>\n",
       "      <td>1</td>\n",
       "      <td>0.000000</td>\n",
       "      <td>9</td>\n",
       "    </tr>\n",
       "    <tr>\n",
       "      <th>2</th>\n",
       "      <td>AAKAALEDF</td>\n",
       "      <td>HLA-C*16:01</td>\n",
       "      <td>0</td>\n",
       "      <td>1</td>\n",
       "      <td>0.000000</td>\n",
       "      <td>9</td>\n",
       "    </tr>\n",
       "    <tr>\n",
       "      <th>3</th>\n",
       "      <td>AAPAHSHAG</td>\n",
       "      <td>HLA-A*02:06</td>\n",
       "      <td>0</td>\n",
       "      <td>1</td>\n",
       "      <td>0.000000</td>\n",
       "      <td>9</td>\n",
       "    </tr>\n",
       "    <tr>\n",
       "      <th>4</th>\n",
       "      <td>AAPAHSHAV</td>\n",
       "      <td>HLA-A*02:06</td>\n",
       "      <td>0</td>\n",
       "      <td>1</td>\n",
       "      <td>0.000000</td>\n",
       "      <td>9</td>\n",
       "    </tr>\n",
       "    <tr>\n",
       "      <th>...</th>\n",
       "      <td>...</td>\n",
       "      <td>...</td>\n",
       "      <td>...</td>\n",
       "      <td>...</td>\n",
       "      <td>...</td>\n",
       "      <td>...</td>\n",
       "    </tr>\n",
       "    <tr>\n",
       "      <th>1682</th>\n",
       "      <td>YYILDKKEHFK</td>\n",
       "      <td>HLA-A*33:01</td>\n",
       "      <td>0</td>\n",
       "      <td>2</td>\n",
       "      <td>0.000000</td>\n",
       "      <td>11</td>\n",
       "    </tr>\n",
       "    <tr>\n",
       "      <th>1683</th>\n",
       "      <td>YYPPSQIAQL</td>\n",
       "      <td>HLA-A*24:02</td>\n",
       "      <td>1</td>\n",
       "      <td>1</td>\n",
       "      <td>1.000000</td>\n",
       "      <td>10</td>\n",
       "    </tr>\n",
       "    <tr>\n",
       "      <th>1684</th>\n",
       "      <td>YYSKNLNSF</td>\n",
       "      <td>HLA-A*24:02</td>\n",
       "      <td>1</td>\n",
       "      <td>1</td>\n",
       "      <td>1.000000</td>\n",
       "      <td>9</td>\n",
       "    </tr>\n",
       "    <tr>\n",
       "      <th>1685</th>\n",
       "      <td>YYSKNLNSFF</td>\n",
       "      <td>HLA-A*24:02</td>\n",
       "      <td>1</td>\n",
       "      <td>2</td>\n",
       "      <td>1.000000</td>\n",
       "      <td>10</td>\n",
       "    </tr>\n",
       "    <tr>\n",
       "      <th>1686</th>\n",
       "      <td>YYSPQAQTL</td>\n",
       "      <td>HLA-A*24:02</td>\n",
       "      <td>0</td>\n",
       "      <td>1</td>\n",
       "      <td>0.000000</td>\n",
       "      <td>9</td>\n",
       "    </tr>\n",
       "  </tbody>\n",
       "</table>\n",
       "<p>1687 rows × 6 columns</p>\n",
       "</div>"
      ],
      "text/plain": [
       "          Peptide          HLA  agg_label  total_count  percentage_pos  len\n",
       "0       AAGIGILTV  HLA-A*02:01          1           14        0.928571    9\n",
       "1       AAIAASRSV  HLA-C*12:03          0            1        0.000000    9\n",
       "2       AAKAALEDF  HLA-C*16:01          0            1        0.000000    9\n",
       "3       AAPAHSHAG  HLA-A*02:06          0            1        0.000000    9\n",
       "4       AAPAHSHAV  HLA-A*02:06          0            1        0.000000    9\n",
       "...           ...          ...        ...          ...             ...  ...\n",
       "1682  YYILDKKEHFK  HLA-A*33:01          0            2        0.000000   11\n",
       "1683   YYPPSQIAQL  HLA-A*24:02          1            1        1.000000   10\n",
       "1684    YYSKNLNSF  HLA-A*24:02          1            1        1.000000    9\n",
       "1685   YYSKNLNSFF  HLA-A*24:02          1            2        1.000000   10\n",
       "1686    YYSPQAQTL  HLA-A*24:02          0            1        0.000000    9\n",
       "\n",
       "[1687 rows x 6 columns]"
      ]
     },
     "execution_count": 4,
     "metadata": {},
     "output_type": "execute_result"
    }
   ],
   "source": [
    "COLUMNS=['Peptide', 'HLA', 'agg_label', 'total_count', 'percentage_pos']\n",
    "cedar = pd.read_csv('../data/cedar_filtered.csv', usecols = COLUMNS)#.drop(columns=['Unnamed: 0'])\n",
    "cedar['len'] = cedar.Peptide.apply(len)\n",
    "cedar"
   ]
  },
  {
   "cell_type": "markdown",
   "id": "cffb0f6f-d76d-4875-9037-bc686fac2c72",
   "metadata": {
    "tags": []
   },
   "source": [
    "## adding HP to cedar"
   ]
  },
  {
   "cell_type": "code",
   "execution_count": 27,
   "id": "7c7da2a6-e895-4a12-b404-c8d827701cf3",
   "metadata": {
    "collapsed": true,
    "jupyter": {
     "outputs_hidden": true
    },
    "tags": []
   },
   "outputs": [
    {
     "data": {
      "text/plain": [
       "['HLA-A02:01',\n",
       " 'HLA-A24:02',\n",
       " 'HLA-A03:01',\n",
       " 'HLA-B27:05',\n",
       " 'HLA-A11:01',\n",
       " 'HLA-B08:01',\n",
       " 'HLA-A01:01',\n",
       " 'HLA-A02:06',\n",
       " 'HLA-B07:02',\n",
       " 'HLA-B35:01',\n",
       " 'HLA-B40:01']"
      ]
     },
     "execution_count": 27,
     "metadata": {},
     "output_type": "execute_result"
    }
   ],
   "source": [
    "cedar_hlas = [x for x in cedar.groupby('HLA')['Peptide'].count().sort_values(ascending=False).head(12).index]\n",
    "hp_hlas = list(scored_9mers.HLA.unique())\n",
    "common_hlas = [x.replace('*','') for x in cedar_hlas if x.replace('*','') in hp_hlas]\n",
    "common_hlas"
   ]
  },
  {
   "cell_type": "code",
   "execution_count": 54,
   "id": "efe4c4ad-84a1-4476-bad9-94647018baaa",
   "metadata": {
    "collapsed": true,
    "jupyter": {
     "outputs_hidden": true
    },
    "tags": []
   },
   "outputs": [
    {
     "name": "stdout",
     "output_type": "stream",
     "text": [
      "len: 8, \n",
      "\t['HLA-A02:01', 'HLA-A02:06', 'HLA-A11:01', 'HLA-B08:01', 'HLA-B15:01']\n",
      "\t['HLA-B18:01', 'HLA-B51:01', 'HLA-C14:03', 'HLA-C05:01', 'HLA-A30:01']\n",
      "len: 9, \n",
      "\t['HLA-A02:01', 'HLA-A24:02', 'HLA-B27:05', 'HLA-A03:01', 'HLA-B08:01', 'HLA-B07:02', 'HLA-A11:01', 'HLA-A02:06', 'HLA-A01:01', 'HLA-B35:01']\n",
      "\t[]\n",
      "len: 10, \n",
      "\t['HLA-A02:01', 'HLA-A03:01', 'HLA-A24:02', 'HLA-B27:05', 'HLA-A11:01', 'HLA-A01:01', 'HLA-B08:01', 'HLA-B07:02', 'HLA-B35:01']\n",
      "\t['HLA-A30:01']\n",
      "len: 11, \n",
      "\t['HLA-A02:01', 'HLA-A11:01', 'HLA-A03:01']\n",
      "\t['HLA-C12:03', 'HLA-A68:01', 'HLA-B44:03', 'HLA-C14:03', 'HLA-A68:02', 'HLA-A33:01', 'HLA-A31:01']\n",
      "len: 12, \n",
      "\t['HLA-A03:01', 'HLA-B07:02']\n",
      "\t[]\n"
     ]
    }
   ],
   "source": [
    "hp_hlas = list(scored_9mers.HLA.unique())\n",
    "for l in range(8,13):\n",
    "    cedar_hlas = get_top_hla(cedar.query('len==@l'),10).index\n",
    "    common_hlas = [x.replace('*','') for x in cedar_hlas if x.replace('*','') in hp_hlas]\n",
    "    distinct_hlas = [x.replace('*','') for x in cedar_hlas if x.replace('*','') not in hp_hlas]\n",
    "    print(f'len: {l}, \\n\\t{common_hlas}\\n\\t{distinct_hlas}')"
   ]
  },
  {
   "cell_type": "code",
   "execution_count": 11,
   "id": "f66822ee-d068-4bce-9c77-3f56f7198a6e",
   "metadata": {
    "collapsed": true,
    "jupyter": {
     "outputs_hidden": true
    },
    "tags": []
   },
   "outputs": [
    {
     "name": "stdout",
     "output_type": "stream",
     "text": [
      "len, pos, neg, n 8 15 46 29\n",
      "len, pos, neg, n 9 436 661 1519\n",
      "len, pos, neg, n 10 144 286 434\n",
      "len, pos, neg, n 11 27 70 65\n",
      "len, pos, neg, n 12 1 1 4\n"
     ]
    },
    {
     "data": {
      "text/html": [
       "<div>\n",
       "<style scoped>\n",
       "    .dataframe tbody tr th:only-of-type {\n",
       "        vertical-align: middle;\n",
       "    }\n",
       "\n",
       "    .dataframe tbody tr th {\n",
       "        vertical-align: top;\n",
       "    }\n",
       "\n",
       "    .dataframe thead th {\n",
       "        text-align: right;\n",
       "    }\n",
       "</style>\n",
       "<table border=\"1\" class=\"dataframe\">\n",
       "  <thead>\n",
       "    <tr style=\"text-align: right;\">\n",
       "      <th></th>\n",
       "      <th>Peptide</th>\n",
       "      <th>start_pos</th>\n",
       "      <th>uniprot_id</th>\n",
       "      <th>id_position</th>\n",
       "      <th>HLA</th>\n",
       "      <th>Ave</th>\n",
       "      <th>BA-score</th>\n",
       "      <th>BA_Rank</th>\n",
       "      <th>EL-score</th>\n",
       "      <th>EL_Rank</th>\n",
       "      <th>ID</th>\n",
       "      <th>NB</th>\n",
       "      <th>Pos</th>\n",
       "      <th>core</th>\n",
       "      <th>icore</th>\n",
       "    </tr>\n",
       "  </thead>\n",
       "  <tbody>\n",
       "    <tr>\n",
       "      <th>1257954</th>\n",
       "      <td>VYTATVPE</td>\n",
       "      <td>162</td>\n",
       "      <td>P55285</td>\n",
       "      <td>P55285_162</td>\n",
       "      <td>HLA-A24:02</td>\n",
       "      <td>0.0005</td>\n",
       "      <td>0.0430</td>\n",
       "      <td>24.7321</td>\n",
       "      <td>0.0005</td>\n",
       "      <td>14.3000</td>\n",
       "      <td>PEPLIST</td>\n",
       "      <td>0</td>\n",
       "      <td>0</td>\n",
       "      <td>VYTATVPE-</td>\n",
       "      <td>VYTATVPE</td>\n",
       "    </tr>\n",
       "    <tr>\n",
       "      <th>55688</th>\n",
       "      <td>GVLEHILS</td>\n",
       "      <td>188</td>\n",
       "      <td>Q14691</td>\n",
       "      <td>Q14691_188</td>\n",
       "      <td>HLA-A02:06</td>\n",
       "      <td>0.0023</td>\n",
       "      <td>0.0865</td>\n",
       "      <td>36.8892</td>\n",
       "      <td>0.0023</td>\n",
       "      <td>18.1409</td>\n",
       "      <td>PEPLIST</td>\n",
       "      <td>0</td>\n",
       "      <td>0</td>\n",
       "      <td>GVLEHILS-</td>\n",
       "      <td>GVLEHILS</td>\n",
       "    </tr>\n",
       "    <tr>\n",
       "      <th>90374</th>\n",
       "      <td>KDDVEVVM</td>\n",
       "      <td>2717</td>\n",
       "      <td>Q8IVF4</td>\n",
       "      <td>Q8IVF4_2717</td>\n",
       "      <td>HLA-B40:01</td>\n",
       "      <td>0.0108</td>\n",
       "      <td>0.0630</td>\n",
       "      <td>13.0479</td>\n",
       "      <td>0.0108</td>\n",
       "      <td>3.4001</td>\n",
       "      <td>PEPLIST</td>\n",
       "      <td>0</td>\n",
       "      <td>0</td>\n",
       "      <td>KDD-VEVVM</td>\n",
       "      <td>KDDVEVVM</td>\n",
       "    </tr>\n",
       "    <tr>\n",
       "      <th>952348</th>\n",
       "      <td>YVVLHASR</td>\n",
       "      <td>178</td>\n",
       "      <td>Q9UKU6</td>\n",
       "      <td>Q9UKU6_178</td>\n",
       "      <td>HLA-A11:01</td>\n",
       "      <td>0.0018</td>\n",
       "      <td>0.1066</td>\n",
       "      <td>12.0585</td>\n",
       "      <td>0.0018</td>\n",
       "      <td>9.3815</td>\n",
       "      <td>PEPLIST</td>\n",
       "      <td>0</td>\n",
       "      <td>0</td>\n",
       "      <td>YVV-LHASR</td>\n",
       "      <td>YVVLHASR</td>\n",
       "    </tr>\n",
       "    <tr>\n",
       "      <th>401468</th>\n",
       "      <td>ISRTPVLM</td>\n",
       "      <td>144</td>\n",
       "      <td>Q9H3K2</td>\n",
       "      <td>Q9H3K2_144</td>\n",
       "      <td>HLA-B07:02</td>\n",
       "      <td>0.0062</td>\n",
       "      <td>0.1069</td>\n",
       "      <td>10.3799</td>\n",
       "      <td>0.0062</td>\n",
       "      <td>6.4225</td>\n",
       "      <td>PEPLIST</td>\n",
       "      <td>0</td>\n",
       "      <td>0</td>\n",
       "      <td>ISRTP-VLM</td>\n",
       "      <td>ISRTPVLM</td>\n",
       "    </tr>\n",
       "    <tr>\n",
       "      <th>...</th>\n",
       "      <td>...</td>\n",
       "      <td>...</td>\n",
       "      <td>...</td>\n",
       "      <td>...</td>\n",
       "      <td>...</td>\n",
       "      <td>...</td>\n",
       "      <td>...</td>\n",
       "      <td>...</td>\n",
       "      <td>...</td>\n",
       "      <td>...</td>\n",
       "      <td>...</td>\n",
       "      <td>...</td>\n",
       "      <td>...</td>\n",
       "      <td>...</td>\n",
       "      <td>...</td>\n",
       "    </tr>\n",
       "    <tr>\n",
       "      <th>1273964</th>\n",
       "      <td>AHLYNNEEQVG</td>\n",
       "      <td>51</td>\n",
       "      <td>Q04828</td>\n",
       "      <td>P14410_647,O43451_671,Q2M2H8_1523</td>\n",
       "      <td>HLA-A02:01</td>\n",
       "      <td>0.0131</td>\n",
       "      <td>0.1540</td>\n",
       "      <td>14.1657</td>\n",
       "      <td>0.0131</td>\n",
       "      <td>5.9223</td>\n",
       "      <td>PEPLIST</td>\n",
       "      <td>0</td>\n",
       "      <td>0</td>\n",
       "      <td>ALYNNEEQV</td>\n",
       "      <td>AHLYNNEEQV</td>\n",
       "    </tr>\n",
       "    <tr>\n",
       "      <th>353978</th>\n",
       "      <td>RFKGRRHLHYLK</td>\n",
       "      <td>288</td>\n",
       "      <td>Q6V1P9</td>\n",
       "      <td>Q6V1P9_288</td>\n",
       "      <td>HLA-B27:05</td>\n",
       "      <td>0.0789</td>\n",
       "      <td>0.5985</td>\n",
       "      <td>0.2481</td>\n",
       "      <td>0.0789</td>\n",
       "      <td>2.0927</td>\n",
       "      <td>PEPLIST</td>\n",
       "      <td>0</td>\n",
       "      <td>0</td>\n",
       "      <td>RRRHLHYLK</td>\n",
       "      <td>RFKGRRHLHYLK</td>\n",
       "    </tr>\n",
       "    <tr>\n",
       "      <th>819265</th>\n",
       "      <td>SFNGSWRVQGIL</td>\n",
       "      <td>249</td>\n",
       "      <td>Q5SGD2</td>\n",
       "      <td>Q5SGD2_249</td>\n",
       "      <td>HLA-A24:02</td>\n",
       "      <td>0.0009</td>\n",
       "      <td>0.1250</td>\n",
       "      <td>6.4794</td>\n",
       "      <td>0.0009</td>\n",
       "      <td>11.2500</td>\n",
       "      <td>PEPLIST</td>\n",
       "      <td>0</td>\n",
       "      <td>0</td>\n",
       "      <td>SFNGSWRVL</td>\n",
       "      <td>SFNGSWRVQGIL</td>\n",
       "    </tr>\n",
       "    <tr>\n",
       "      <th>386683</th>\n",
       "      <td>RKLPVPQGPNPV</td>\n",
       "      <td>665</td>\n",
       "      <td>O94829</td>\n",
       "      <td>O94829_665</td>\n",
       "      <td>HLA-B27:05</td>\n",
       "      <td>0.0025</td>\n",
       "      <td>0.1390</td>\n",
       "      <td>9.4017</td>\n",
       "      <td>0.0025</td>\n",
       "      <td>9.5018</td>\n",
       "      <td>PEPLIST</td>\n",
       "      <td>0</td>\n",
       "      <td>0</td>\n",
       "      <td>RKLPVPQGV</td>\n",
       "      <td>RKLPVPQGPNPV</td>\n",
       "    </tr>\n",
       "    <tr>\n",
       "      <th>249603</th>\n",
       "      <td>YQSILPDMVKIA</td>\n",
       "      <td>589</td>\n",
       "      <td>Q86W56</td>\n",
       "      <td>Q86W56_589</td>\n",
       "      <td>HLA-A02:01</td>\n",
       "      <td>0.0045</td>\n",
       "      <td>0.1926</td>\n",
       "      <td>10.8375</td>\n",
       "      <td>0.0045</td>\n",
       "      <td>9.6174</td>\n",
       "      <td>PEPLIST</td>\n",
       "      <td>0</td>\n",
       "      <td>0</td>\n",
       "      <td>YLPDMVKIA</td>\n",
       "      <td>YQSILPDMVKIA</td>\n",
       "    </tr>\n",
       "  </tbody>\n",
       "</table>\n",
       "<p>2051 rows × 15 columns</p>\n",
       "</div>"
      ],
      "text/plain": [
       "              Peptide  start_pos uniprot_id  \\\n",
       "1257954      VYTATVPE        162     P55285   \n",
       "55688        GVLEHILS        188     Q14691   \n",
       "90374        KDDVEVVM       2717     Q8IVF4   \n",
       "952348       YVVLHASR        178     Q9UKU6   \n",
       "401468       ISRTPVLM        144     Q9H3K2   \n",
       "...               ...        ...        ...   \n",
       "1273964   AHLYNNEEQVG         51     Q04828   \n",
       "353978   RFKGRRHLHYLK        288     Q6V1P9   \n",
       "819265   SFNGSWRVQGIL        249     Q5SGD2   \n",
       "386683   RKLPVPQGPNPV        665     O94829   \n",
       "249603   YQSILPDMVKIA        589     Q86W56   \n",
       "\n",
       "                               id_position         HLA     Ave  BA-score  \\\n",
       "1257954                         P55285_162  HLA-A24:02  0.0005    0.0430   \n",
       "55688                           Q14691_188  HLA-A02:06  0.0023    0.0865   \n",
       "90374                          Q8IVF4_2717  HLA-B40:01  0.0108    0.0630   \n",
       "952348                          Q9UKU6_178  HLA-A11:01  0.0018    0.1066   \n",
       "401468                          Q9H3K2_144  HLA-B07:02  0.0062    0.1069   \n",
       "...                                    ...         ...     ...       ...   \n",
       "1273964  P14410_647,O43451_671,Q2M2H8_1523  HLA-A02:01  0.0131    0.1540   \n",
       "353978                          Q6V1P9_288  HLA-B27:05  0.0789    0.5985   \n",
       "819265                          Q5SGD2_249  HLA-A24:02  0.0009    0.1250   \n",
       "386683                          O94829_665  HLA-B27:05  0.0025    0.1390   \n",
       "249603                          Q86W56_589  HLA-A02:01  0.0045    0.1926   \n",
       "\n",
       "         BA_Rank  EL-score  EL_Rank       ID  NB  Pos       core         icore  \n",
       "1257954  24.7321    0.0005  14.3000  PEPLIST   0    0  VYTATVPE-      VYTATVPE  \n",
       "55688    36.8892    0.0023  18.1409  PEPLIST   0    0  GVLEHILS-      GVLEHILS  \n",
       "90374    13.0479    0.0108   3.4001  PEPLIST   0    0  KDD-VEVVM      KDDVEVVM  \n",
       "952348   12.0585    0.0018   9.3815  PEPLIST   0    0  YVV-LHASR      YVVLHASR  \n",
       "401468   10.3799    0.0062   6.4225  PEPLIST   0    0  ISRTP-VLM      ISRTPVLM  \n",
       "...          ...       ...      ...      ...  ..  ...        ...           ...  \n",
       "1273964  14.1657    0.0131   5.9223  PEPLIST   0    0  ALYNNEEQV    AHLYNNEEQV  \n",
       "353978    0.2481    0.0789   2.0927  PEPLIST   0    0  RRRHLHYLK  RFKGRRHLHYLK  \n",
       "819265    6.4794    0.0009  11.2500  PEPLIST   0    0  SFNGSWRVL  SFNGSWRVQGIL  \n",
       "386683    9.4017    0.0025   9.5018  PEPLIST   0    0  RKLPVPQGV  RKLPVPQGPNPV  \n",
       "249603   10.8375    0.0045   9.6174  PEPLIST   0    0  YLPDMVKIA  YQSILPDMVKIA  \n",
       "\n",
       "[2051 rows x 15 columns]"
      ]
     },
     "execution_count": 11,
     "metadata": {},
     "output_type": "execute_result"
    }
   ],
   "source": [
    "groupby = cedar.query(\"agg_label==1\").groupby('len')['Peptide'].count()\n",
    "samples = []\n",
    "for l, count in zip(groupby.index, groupby.values):\n",
    "    query = cedar.query('len==@l')\n",
    "    neg = cedar.groupby(['agg_label','len'])['Peptide'].count().loc[(0,l)]\n",
    "    pos = cedar.groupby(['agg_label','len'])['Peptide'].count().loc[(1,l)]\n",
    "    n = 5*pos-neg\n",
    "    print('len, pos, neg, n', l, pos, neg, n)\n",
    "    samples.append(scored[l].sample(n, random_state=13))\n",
    "samples = pd.concat(samples)\n",
    "samples"
   ]
  },
  {
   "cell_type": "code",
   "execution_count": 84,
   "id": "adfce62f-a295-4a97-94e0-9bd6cc76879f",
   "metadata": {
    "tags": []
   },
   "outputs": [],
   "source": [
    "samples['agg_label'] = 0\n",
    "samples['total_count'] = 1\n",
    "samples['percentage_pos'] = 0\n",
    "samples['len'] = samples['Peptide'].apply(len)\n",
    "cedar['dataset']='cedar'\n",
    "samples['dataset']='hp'\n",
    "\n",
    "samples.to_csv('../data/hp_neg_samples.csv')\n",
    "concat = pd.concat([cedar, samples[cedar.columns]])\n",
    "concat['HLA']=concat['HLA'].apply(lambda x: x.replace('*',''))\n",
    "concat.to_csv('../data/cedar_posneg_hp.csv', index=False)\n",
    "\n",
    "concat[['Peptide', 'agg_label']].to_csv('../data/cedar_posneg_hp.pep', sep='\\t',\n",
    "                                               index=False,header=False)"
   ]
  },
  {
   "cell_type": "markdown",
   "id": "379df2c1-9325-4390-9766-12436d5f292b",
   "metadata": {
    "jp-MarkdownHeadingCollapsed": true,
    "tags": []
   },
   "source": [
    "## sub sampling cedar neg"
   ]
  },
  {
   "cell_type": "code",
   "execution_count": 8,
   "id": "46b4919b-7a04-4b2f-b385-d076dcb3efa0",
   "metadata": {},
   "outputs": [
    {
     "data": {
      "text/plain": [
       "(154, 910)"
      ]
     },
     "execution_count": 8,
     "metadata": {},
     "output_type": "execute_result"
    }
   ],
   "source": [
    "len(cedar.query('agg_label==0 and total_count>1')), len(cedar.query('agg_label==0 and total_count<=1'))"
   ]
  },
  {
   "cell_type": "code",
   "execution_count": 28,
   "id": "bfca1bea-4340-4b05-b5dc-554c31e4215b",
   "metadata": {},
   "outputs": [
    {
     "data": {
      "text/html": [
       "<div>\n",
       "<style scoped>\n",
       "    .dataframe tbody tr th:only-of-type {\n",
       "        vertical-align: middle;\n",
       "    }\n",
       "\n",
       "    .dataframe tbody tr th {\n",
       "        vertical-align: top;\n",
       "    }\n",
       "\n",
       "    .dataframe thead th {\n",
       "        text-align: right;\n",
       "    }\n",
       "</style>\n",
       "<table border=\"1\" class=\"dataframe\">\n",
       "  <thead>\n",
       "    <tr style=\"text-align: right;\">\n",
       "      <th></th>\n",
       "      <th>Peptide</th>\n",
       "      <th>ratio</th>\n",
       "    </tr>\n",
       "    <tr>\n",
       "      <th>len</th>\n",
       "      <th></th>\n",
       "      <th></th>\n",
       "    </tr>\n",
       "  </thead>\n",
       "  <tbody>\n",
       "    <tr>\n",
       "      <th>8</th>\n",
       "      <td>15</td>\n",
       "      <td>0.024077</td>\n",
       "    </tr>\n",
       "    <tr>\n",
       "      <th>9</th>\n",
       "      <td>436</td>\n",
       "      <td>0.699839</td>\n",
       "    </tr>\n",
       "    <tr>\n",
       "      <th>10</th>\n",
       "      <td>144</td>\n",
       "      <td>0.231140</td>\n",
       "    </tr>\n",
       "    <tr>\n",
       "      <th>11</th>\n",
       "      <td>27</td>\n",
       "      <td>0.043339</td>\n",
       "    </tr>\n",
       "    <tr>\n",
       "      <th>12</th>\n",
       "      <td>1</td>\n",
       "      <td>0.001605</td>\n",
       "    </tr>\n",
       "  </tbody>\n",
       "</table>\n",
       "</div>"
      ],
      "text/plain": [
       "     Peptide     ratio\n",
       "len                   \n",
       "8         15  0.024077\n",
       "9        436  0.699839\n",
       "10       144  0.231140\n",
       "11        27  0.043339\n",
       "12         1  0.001605"
      ]
     },
     "execution_count": 28,
     "metadata": {},
     "output_type": "execute_result"
    }
   ],
   "source": [
    "count=cedar.query('agg_label==1').groupby('len').count()[['Peptide']]\n",
    "count['ratio'] = count['Peptide'].apply(lambda x: x/len(cedar.query('agg_label==1')))\n",
    "count"
   ]
  },
  {
   "cell_type": "code",
   "execution_count": 33,
   "id": "94d26cc4-cdaa-416b-87cb-904b0f5a1d54",
   "metadata": {
    "collapsed": true,
    "jupyter": {
     "outputs_hidden": true
    },
    "tags": []
   },
   "outputs": [
    {
     "name": "stdout",
     "output_type": "stream",
     "text": [
      "\n",
      "\t 0 \n",
      "      Peptide     ratio\n",
      "len                   \n",
      "8          8  0.051948\n",
      "9         86  0.558442\n",
      "10        50  0.324675\n",
      "11         9  0.058442\n",
      "12         1  0.006494\n",
      "\n",
      "\t 1 \n",
      "      Peptide     ratio\n",
      "len                   \n",
      "8         11  0.071429\n",
      "9         97  0.629870\n",
      "10        39  0.253247\n",
      "11         7  0.045455\n",
      "\n",
      "\t 2 \n",
      "      Peptide     ratio\n",
      "len                   \n",
      "8          6  0.038961\n",
      "9         91  0.590909\n",
      "10        48  0.311688\n",
      "11         9  0.058442\n",
      "\n",
      "\t 3 \n",
      "      Peptide     ratio\n",
      "len                   \n",
      "8          6  0.038961\n",
      "9        104  0.675325\n",
      "10        33  0.214286\n",
      "11        10  0.064935\n",
      "12         1  0.006494\n",
      "\n",
      "\t 4 \n",
      "      Peptide     ratio\n",
      "len                   \n",
      "8          6  0.038961\n",
      "9         93  0.603896\n",
      "10        42  0.272727\n",
      "11        13  0.084416\n",
      "\n",
      "\t 5 \n",
      "      Peptide     ratio\n",
      "len                   \n",
      "8          7  0.045455\n",
      "9         97  0.629870\n",
      "10        42  0.272727\n",
      "11         8  0.051948\n",
      "\n",
      "\t 6 \n",
      "      Peptide     ratio\n",
      "len                   \n",
      "8          9  0.058442\n",
      "9         90  0.584416\n",
      "10        45  0.292208\n",
      "11        10  0.064935\n",
      "\n",
      "\t 7 \n",
      "      Peptide     ratio\n",
      "len                   \n",
      "8          6  0.038961\n",
      "9         90  0.584416\n",
      "10        44  0.285714\n",
      "11        14  0.090909\n",
      "\n",
      "\t 8 \n",
      "      Peptide     ratio\n",
      "len                   \n",
      "8          5  0.032468\n",
      "9        105  0.681818\n",
      "10        34  0.220779\n",
      "11        10  0.064935\n",
      "\n",
      "\t 9 \n",
      "      Peptide     ratio\n",
      "len                   \n",
      "8          9  0.058442\n",
      "9         90  0.584416\n",
      "10        46  0.298701\n",
      "11         8  0.051948\n",
      "12         1  0.006494\n"
     ]
    }
   ],
   "source": [
    "for seed in range(10):\n",
    "    gb =cedar.query('agg_label==0 and total_count<=1').sample(154, random_state=seed).groupby('len').count()[['Peptide']]\n",
    "    gb['ratio'] = gb['Peptide'].apply(lambda x: x/154)\n",
    "    print('\\n\\t',seed, '\\n',gb)"
   ]
  },
  {
   "cell_type": "code",
   "execution_count": 39,
   "id": "44b23cc0-64c9-4c44-87c4-df16a486c3e4",
   "metadata": {
    "tags": []
   },
   "outputs": [],
   "source": [
    "cedar_subsampled = pd.concat([cedar.query('agg_label==1'), cedar.query('agg_label==0 and total_count <= 1').sample(154, random_state=8)])\n",
    "cedar_subsampled.to_csv('../data/cedar_subsampled_negs.csv', index=False)\n",
    "cedar_subsampled[['Peptide', 'agg_label']].to_csv('../data/cedar_subsampled_negs.pep', sep='\\t', index=False, header=False)"
   ]
  },
  {
   "cell_type": "code",
   "execution_count": 38,
   "id": "c708dc51-4682-4010-8d49-4d3652e66f4a",
   "metadata": {
    "collapsed": true,
    "jupyter": {
     "outputs_hidden": true
    },
    "tags": []
   },
   "outputs": [
    {
     "data": {
      "text/html": [
       "<div>\n",
       "<style scoped>\n",
       "    .dataframe tbody tr th:only-of-type {\n",
       "        vertical-align: middle;\n",
       "    }\n",
       "\n",
       "    .dataframe tbody tr th {\n",
       "        vertical-align: top;\n",
       "    }\n",
       "\n",
       "    .dataframe thead th {\n",
       "        text-align: right;\n",
       "    }\n",
       "</style>\n",
       "<table border=\"1\" class=\"dataframe\">\n",
       "  <thead>\n",
       "    <tr style=\"text-align: right;\">\n",
       "      <th></th>\n",
       "      <th>epitope_epitope id</th>\n",
       "      <th>epitope_description</th>\n",
       "      <th>epitope_starting position</th>\n",
       "      <th>epitope_ending position</th>\n",
       "      <th>epitope_antigen name</th>\n",
       "      <th>epitope_parent protein</th>\n",
       "      <th>related object_epitope relationship</th>\n",
       "      <th>related object_description</th>\n",
       "      <th>related object_parent protein</th>\n",
       "      <th>mhc_allele name</th>\n",
       "      <th>mhc_allele evidence code</th>\n",
       "      <th>assay_method/technique</th>\n",
       "      <th>agg_label</th>\n",
       "      <th>total_count</th>\n",
       "      <th>percentage_pos</th>\n",
       "      <th>len</th>\n",
       "    </tr>\n",
       "  </thead>\n",
       "  <tbody>\n",
       "    <tr>\n",
       "      <th>0</th>\n",
       "      <td>1852488</td>\n",
       "      <td>AEVDQDGVVM</td>\n",
       "      <td>NaN</td>\n",
       "      <td>NaN</td>\n",
       "      <td>NaN</td>\n",
       "      <td>NaN</td>\n",
       "      <td>neo-epitope</td>\n",
       "      <td>AEVDEDGVVM</td>\n",
       "      <td>Neurogenic locus notch homolog protein 4</td>\n",
       "      <td>HLA-B*44:03</td>\n",
       "      <td>Cited reference</td>\n",
       "      <td>ELISA</td>\n",
       "      <td>0</td>\n",
       "      <td>2</td>\n",
       "      <td>0.000000</td>\n",
       "      <td>10</td>\n",
       "    </tr>\n",
       "    <tr>\n",
       "      <th>1</th>\n",
       "      <td>1852507</td>\n",
       "      <td>AILLGAEEK</td>\n",
       "      <td>NaN</td>\n",
       "      <td>NaN</td>\n",
       "      <td>NaN</td>\n",
       "      <td>NaN</td>\n",
       "      <td>neo-epitope</td>\n",
       "      <td>AKLLGAEEK</td>\n",
       "      <td>Epidermal growth factor receptor</td>\n",
       "      <td>HLA-A*11:01</td>\n",
       "      <td>Cited reference</td>\n",
       "      <td>ELISA</td>\n",
       "      <td>0</td>\n",
       "      <td>2</td>\n",
       "      <td>0.000000</td>\n",
       "      <td>9</td>\n",
       "    </tr>\n",
       "    <tr>\n",
       "      <th>2</th>\n",
       "      <td>1852513</td>\n",
       "      <td>AITSPKANK</td>\n",
       "      <td>NaN</td>\n",
       "      <td>NaN</td>\n",
       "      <td>NaN</td>\n",
       "      <td>NaN</td>\n",
       "      <td>neo-epitope</td>\n",
       "      <td>AIKELREATSPKANK</td>\n",
       "      <td>Epidermal growth factor receptor</td>\n",
       "      <td>HLA-A*11:02</td>\n",
       "      <td>Cited reference</td>\n",
       "      <td>ELISA</td>\n",
       "      <td>0</td>\n",
       "      <td>2</td>\n",
       "      <td>0.000000</td>\n",
       "      <td>9</td>\n",
       "    </tr>\n",
       "    <tr>\n",
       "      <th>3</th>\n",
       "      <td>1852603</td>\n",
       "      <td>AQPAVQSAF</td>\n",
       "      <td>NaN</td>\n",
       "      <td>NaN</td>\n",
       "      <td>NaN</td>\n",
       "      <td>NaN</td>\n",
       "      <td>neo-epitope</td>\n",
       "      <td>AQAAVQSAF</td>\n",
       "      <td>Cyclin-dependent kinase 13</td>\n",
       "      <td>HLA-A*02:06</td>\n",
       "      <td>Cited reference</td>\n",
       "      <td>ELISA</td>\n",
       "      <td>0</td>\n",
       "      <td>2</td>\n",
       "      <td>0.000000</td>\n",
       "      <td>9</td>\n",
       "    </tr>\n",
       "    <tr>\n",
       "      <th>4</th>\n",
       "      <td>1852610</td>\n",
       "      <td>ARLPVGAYEV</td>\n",
       "      <td>NaN</td>\n",
       "      <td>NaN</td>\n",
       "      <td>NaN</td>\n",
       "      <td>NaN</td>\n",
       "      <td>neo-epitope</td>\n",
       "      <td>ALLPVGAYEV</td>\n",
       "      <td>Aquaporin-12B</td>\n",
       "      <td>HLA-A*02:01</td>\n",
       "      <td>Cited reference</td>\n",
       "      <td>ELISA</td>\n",
       "      <td>0</td>\n",
       "      <td>2</td>\n",
       "      <td>0.000000</td>\n",
       "      <td>10</td>\n",
       "    </tr>\n",
       "    <tr>\n",
       "      <th>...</th>\n",
       "      <td>...</td>\n",
       "      <td>...</td>\n",
       "      <td>...</td>\n",
       "      <td>...</td>\n",
       "      <td>...</td>\n",
       "      <td>...</td>\n",
       "      <td>...</td>\n",
       "      <td>...</td>\n",
       "      <td>...</td>\n",
       "      <td>...</td>\n",
       "      <td>...</td>\n",
       "      <td>...</td>\n",
       "      <td>...</td>\n",
       "      <td>...</td>\n",
       "      <td>...</td>\n",
       "      <td>...</td>\n",
       "    </tr>\n",
       "    <tr>\n",
       "      <th>772</th>\n",
       "      <td>859644</td>\n",
       "      <td>YVDFREYEYY</td>\n",
       "      <td>NaN</td>\n",
       "      <td>NaN</td>\n",
       "      <td>NaN</td>\n",
       "      <td>NaN</td>\n",
       "      <td>neo-epitope</td>\n",
       "      <td>YVDFREYEY</td>\n",
       "      <td>Receptor-type tyrosine-protein kinase FLT3</td>\n",
       "      <td>HLA-A*01:01</td>\n",
       "      <td>T cell assay -Mismatched MHC molecules</td>\n",
       "      <td>ELISPOT</td>\n",
       "      <td>1</td>\n",
       "      <td>4</td>\n",
       "      <td>0.750000</td>\n",
       "      <td>10</td>\n",
       "    </tr>\n",
       "    <tr>\n",
       "      <th>773</th>\n",
       "      <td>1851946</td>\n",
       "      <td>YVVPGSPCL</td>\n",
       "      <td>NaN</td>\n",
       "      <td>NaN</td>\n",
       "      <td>NaN</td>\n",
       "      <td>NaN</td>\n",
       "      <td>neo-epitope</td>\n",
       "      <td>SVVPGSPCL</td>\n",
       "      <td>Tensin-1</td>\n",
       "      <td>HLA-C*03:03</td>\n",
       "      <td>MHC binding assay</td>\n",
       "      <td>ELISPOT</td>\n",
       "      <td>1</td>\n",
       "      <td>3</td>\n",
       "      <td>0.666667</td>\n",
       "      <td>9</td>\n",
       "    </tr>\n",
       "    <tr>\n",
       "      <th>774</th>\n",
       "      <td>474330</td>\n",
       "      <td>YYPPSQIAQL</td>\n",
       "      <td>NaN</td>\n",
       "      <td>NaN</td>\n",
       "      <td>NaN</td>\n",
       "      <td>NaN</td>\n",
       "      <td>neo-epitope</td>\n",
       "      <td>YYPPSQIAQL</td>\n",
       "      <td>Polyadenylate-binding protein 1</td>\n",
       "      <td>HLA-A*24:02</td>\n",
       "      <td>MHC binding prediction</td>\n",
       "      <td>ELISPOT</td>\n",
       "      <td>1</td>\n",
       "      <td>1</td>\n",
       "      <td>1.000000</td>\n",
       "      <td>10</td>\n",
       "    </tr>\n",
       "    <tr>\n",
       "      <th>775</th>\n",
       "      <td>607022</td>\n",
       "      <td>YYSKNLNSF</td>\n",
       "      <td>NaN</td>\n",
       "      <td>NaN</td>\n",
       "      <td>NaN</td>\n",
       "      <td>NaN</td>\n",
       "      <td>neo-epitope</td>\n",
       "      <td>YYSKNLNSS</td>\n",
       "      <td>Protein MMS22-like</td>\n",
       "      <td>HLA-A*24:02</td>\n",
       "      <td>MHC binding prediction</td>\n",
       "      <td>ELISPOT</td>\n",
       "      <td>1</td>\n",
       "      <td>1</td>\n",
       "      <td>1.000000</td>\n",
       "      <td>9</td>\n",
       "    </tr>\n",
       "    <tr>\n",
       "      <th>776</th>\n",
       "      <td>607023</td>\n",
       "      <td>YYSKNLNSFF</td>\n",
       "      <td>NaN</td>\n",
       "      <td>NaN</td>\n",
       "      <td>NaN</td>\n",
       "      <td>NaN</td>\n",
       "      <td>neo-epitope</td>\n",
       "      <td>YYSKNLNSSF</td>\n",
       "      <td>Protein MMS22-like</td>\n",
       "      <td>HLA-A*24:02</td>\n",
       "      <td>T cell assay -Biological process measured</td>\n",
       "      <td>ELISPOT</td>\n",
       "      <td>1</td>\n",
       "      <td>2</td>\n",
       "      <td>1.000000</td>\n",
       "      <td>10</td>\n",
       "    </tr>\n",
       "  </tbody>\n",
       "</table>\n",
       "<p>777 rows × 16 columns</p>\n",
       "</div>"
      ],
      "text/plain": [
       "     epitope_epitope id epitope_description  epitope_starting position  \\\n",
       "0               1852488          AEVDQDGVVM                        NaN   \n",
       "1               1852507           AILLGAEEK                        NaN   \n",
       "2               1852513           AITSPKANK                        NaN   \n",
       "3               1852603           AQPAVQSAF                        NaN   \n",
       "4               1852610          ARLPVGAYEV                        NaN   \n",
       "..                  ...                 ...                        ...   \n",
       "772              859644          YVDFREYEYY                        NaN   \n",
       "773             1851946           YVVPGSPCL                        NaN   \n",
       "774              474330          YYPPSQIAQL                        NaN   \n",
       "775              607022           YYSKNLNSF                        NaN   \n",
       "776              607023          YYSKNLNSFF                        NaN   \n",
       "\n",
       "     epitope_ending position epitope_antigen name epitope_parent protein  \\\n",
       "0                        NaN                  NaN                    NaN   \n",
       "1                        NaN                  NaN                    NaN   \n",
       "2                        NaN                  NaN                    NaN   \n",
       "3                        NaN                  NaN                    NaN   \n",
       "4                        NaN                  NaN                    NaN   \n",
       "..                       ...                  ...                    ...   \n",
       "772                      NaN                  NaN                    NaN   \n",
       "773                      NaN                  NaN                    NaN   \n",
       "774                      NaN                  NaN                    NaN   \n",
       "775                      NaN                  NaN                    NaN   \n",
       "776                      NaN                  NaN                    NaN   \n",
       "\n",
       "    related object_epitope relationship related object_description  \\\n",
       "0                           neo-epitope                 AEVDEDGVVM   \n",
       "1                           neo-epitope                  AKLLGAEEK   \n",
       "2                           neo-epitope            AIKELREATSPKANK   \n",
       "3                           neo-epitope                  AQAAVQSAF   \n",
       "4                           neo-epitope                 ALLPVGAYEV   \n",
       "..                                  ...                        ...   \n",
       "772                         neo-epitope                  YVDFREYEY   \n",
       "773                         neo-epitope                  SVVPGSPCL   \n",
       "774                         neo-epitope                 YYPPSQIAQL   \n",
       "775                         neo-epitope                  YYSKNLNSS   \n",
       "776                         neo-epitope                 YYSKNLNSSF   \n",
       "\n",
       "                  related object_parent protein mhc_allele name  \\\n",
       "0      Neurogenic locus notch homolog protein 4     HLA-B*44:03   \n",
       "1              Epidermal growth factor receptor     HLA-A*11:01   \n",
       "2              Epidermal growth factor receptor     HLA-A*11:02   \n",
       "3                    Cyclin-dependent kinase 13     HLA-A*02:06   \n",
       "4                                 Aquaporin-12B     HLA-A*02:01   \n",
       "..                                          ...             ...   \n",
       "772  Receptor-type tyrosine-protein kinase FLT3     HLA-A*01:01   \n",
       "773                                    Tensin-1     HLA-C*03:03   \n",
       "774             Polyadenylate-binding protein 1     HLA-A*24:02   \n",
       "775                          Protein MMS22-like     HLA-A*24:02   \n",
       "776                          Protein MMS22-like     HLA-A*24:02   \n",
       "\n",
       "                      mhc_allele evidence code assay_method/technique  \\\n",
       "0                              Cited reference                  ELISA   \n",
       "1                              Cited reference                  ELISA   \n",
       "2                              Cited reference                  ELISA   \n",
       "3                              Cited reference                  ELISA   \n",
       "4                              Cited reference                  ELISA   \n",
       "..                                         ...                    ...   \n",
       "772     T cell assay -Mismatched MHC molecules                ELISPOT   \n",
       "773                          MHC binding assay                ELISPOT   \n",
       "774                     MHC binding prediction                ELISPOT   \n",
       "775                     MHC binding prediction                ELISPOT   \n",
       "776  T cell assay -Biological process measured                ELISPOT   \n",
       "\n",
       "     agg_label  total_count  percentage_pos  len  \n",
       "0            0            2        0.000000   10  \n",
       "1            0            2        0.000000    9  \n",
       "2            0            2        0.000000    9  \n",
       "3            0            2        0.000000    9  \n",
       "4            0            2        0.000000   10  \n",
       "..         ...          ...             ...  ...  \n",
       "772          1            4        0.750000   10  \n",
       "773          1            3        0.666667    9  \n",
       "774          1            1        1.000000   10  \n",
       "775          1            1        1.000000    9  \n",
       "776          1            2        1.000000   10  \n",
       "\n",
       "[777 rows x 16 columns]"
      ]
     },
     "execution_count": 38,
     "metadata": {},
     "output_type": "execute_result"
    }
   ],
   "source": [
    "refined"
   ]
  },
  {
   "cell_type": "markdown",
   "id": "48958a89-a729-4bc8-9132-292518c9c7fb",
   "metadata": {
    "tags": []
   },
   "source": [
    "# new export 01-07-22"
   ]
  },
  {
   "cell_type": "code",
   "execution_count": 2,
   "id": "8fdde50b-35da-489b-906f-924cf6a82ed6",
   "metadata": {},
   "outputs": [],
   "source": [
    "def find_rank_HLA(row, df_xls, dummy = None):\n",
    "    hla = row['HLA']\n",
    "    pep = row['Peptide']\n",
    "    colpp = ('base', 'Peptide')\n",
    "    colhl = (f'{hla}', 'EL_Rank')\n",
    "    tmp=df_xls.iloc[row.name]\n",
    "    assert tmp[colpp]==pep, f'{tmp[colpp]},{pep}'\n",
    "    return tmp[colhl]"
   ]
  },
  {
   "cell_type": "markdown",
   "id": "6b4413fd-8ecc-4acd-a3ae-ab4459d89277",
   "metadata": {
    "tags": []
   },
   "source": [
    "## initial checks & rescoring the peps with NetMHCpan"
   ]
  },
  {
   "cell_type": "code",
   "execution_count": 45,
   "id": "6e9129e5-38a7-4c08-b0c6-890e1486258a",
   "metadata": {
    "tags": []
   },
   "outputs": [
    {
     "name": "stdout",
     "output_type": "stream",
     "text": [
      "Before: 3928, After: 3480\n"
     ]
    },
    {
     "data": {
      "text/html": [
       "<div>\n",
       "<style scoped>\n",
       "    .dataframe tbody tr th:only-of-type {\n",
       "        vertical-align: middle;\n",
       "    }\n",
       "\n",
       "    .dataframe tbody tr th {\n",
       "        vertical-align: top;\n",
       "    }\n",
       "\n",
       "    .dataframe thead th {\n",
       "        text-align: right;\n",
       "    }\n",
       "</style>\n",
       "<table border=\"1\" class=\"dataframe\">\n",
       "  <thead>\n",
       "    <tr style=\"text-align: right;\">\n",
       "      <th></th>\n",
       "      <th>Peptide</th>\n",
       "      <th>HLA</th>\n",
       "      <th>PMIDs</th>\n",
       "      <th>responses</th>\n",
       "      <th>label</th>\n",
       "      <th>total_count</th>\n",
       "      <th>percentage_pos</th>\n",
       "      <th>agg_label</th>\n",
       "      <th>len</th>\n",
       "    </tr>\n",
       "  </thead>\n",
       "  <tbody>\n",
       "    <tr>\n",
       "      <th>0</th>\n",
       "      <td>AAAAAAQQIQV</td>\n",
       "      <td>HLA-B07:02</td>\n",
       "      <td>27198675</td>\n",
       "      <td>Negative</td>\n",
       "      <td>Negative</td>\n",
       "      <td>1</td>\n",
       "      <td>0.0</td>\n",
       "      <td>0</td>\n",
       "      <td>11</td>\n",
       "    </tr>\n",
       "    <tr>\n",
       "      <th>1</th>\n",
       "      <td>AAAAQQIQV</td>\n",
       "      <td>HLA-A02:01</td>\n",
       "      <td>27198675</td>\n",
       "      <td>Negative</td>\n",
       "      <td>Negative</td>\n",
       "      <td>1</td>\n",
       "      <td>0.0</td>\n",
       "      <td>0</td>\n",
       "      <td>9</td>\n",
       "    </tr>\n",
       "    <tr>\n",
       "      <th>2</th>\n",
       "      <td>AAAAQQIQV</td>\n",
       "      <td>HLA-B07:02</td>\n",
       "      <td>27198675</td>\n",
       "      <td>Negative</td>\n",
       "      <td>Negative</td>\n",
       "      <td>1</td>\n",
       "      <td>0.0</td>\n",
       "      <td>0</td>\n",
       "      <td>9</td>\n",
       "    </tr>\n",
       "    <tr>\n",
       "      <th>3</th>\n",
       "      <td>AAFIWIISM</td>\n",
       "      <td>HLA-B35:01</td>\n",
       "      <td>27198675</td>\n",
       "      <td>Negative</td>\n",
       "      <td>Negative</td>\n",
       "      <td>1</td>\n",
       "      <td>0.0</td>\n",
       "      <td>0</td>\n",
       "      <td>9</td>\n",
       "    </tr>\n",
       "    <tr>\n",
       "      <th>4</th>\n",
       "      <td>AAHFTVLLY</td>\n",
       "      <td>HLA-A11:01</td>\n",
       "      <td>31511069</td>\n",
       "      <td>Negative</td>\n",
       "      <td>Negative</td>\n",
       "      <td>1</td>\n",
       "      <td>0.0</td>\n",
       "      <td>0</td>\n",
       "      <td>9</td>\n",
       "    </tr>\n",
       "  </tbody>\n",
       "</table>\n",
       "</div>"
      ],
      "text/plain": [
       "       Peptide         HLA     PMIDs responses     label  total_count  \\\n",
       "0  AAAAAAQQIQV  HLA-B07:02  27198675  Negative  Negative            1   \n",
       "1    AAAAQQIQV  HLA-A02:01  27198675  Negative  Negative            1   \n",
       "2    AAAAQQIQV  HLA-B07:02  27198675  Negative  Negative            1   \n",
       "3    AAFIWIISM  HLA-B35:01  27198675  Negative  Negative            1   \n",
       "4    AAHFTVLLY  HLA-A11:01  31511069  Negative  Negative            1   \n",
       "\n",
       "   percentage_pos  agg_label  len  \n",
       "0             0.0          0   11  \n",
       "1             0.0          0    9  \n",
       "2             0.0          0    9  \n",
       "3             0.0          0    9  \n",
       "4             0.0          0    9  "
      ]
     },
     "metadata": {},
     "output_type": "display_data"
    }
   ],
   "source": [
    "neo_full = pd.read_excel('../data/raw_exports/neo_JUN2022_full_res.xlsx', sheet_name = 'full')\n",
    "neo_short = pd.read_excel('../data/raw_exports/neo_JUN2022_full_res.xlsx', sheet_name = 'short')\n",
    "neoepi = pd.read_excel('../data/raw_exports/neo_JUN2022_full_res.xlsx', sheet_name = 'epitopes')\n",
    "init_len = len(neoepi)\n",
    "# some re-checking etc.\n",
    "neoepi.rename(columns={'Epitope_Description':'Peptide', 'MHC_Allele Name':'HLA'}, inplace=True)\n",
    "neoepi['total_count'] = neoepi['responses'].apply(lambda x: len(x.split(',')))\n",
    "neoepi['percentage_pos'] = (neoepi['responses'].apply(lambda x: sum([1 for x in x.split(',') if 'Positive' in x]))/neoepi['total_count'])\n",
    "neoepi['agg_label']=neoepi['label'].apply(lambda x: 1 if x=='Positive' else 0)\n",
    "neoepi['len'] = neoepi['Peptide'].apply(len)\n",
    "# Keeping only lengths in [8,12]\n",
    "neoepi = neoepi.query('len>=8 and len<=12')\n",
    "# dropping bs characters\n",
    "neoepi.drop(index=neoepi.loc[neoepi['Peptide'].apply(lambda x: any([z for z in x if z not in AA_KEYS]))].index, inplace=True)\n",
    "# Dropping MHC-II peptides\n",
    "neoepi = neoepi.query('not HLA.str.contains(\"D\")', engine='python')\n",
    "# Dropping HLAs which only have negative peptides; Having only positive peptides for a given allele is fine because we can add human proteome as negs with predicted binding\n",
    "hlas_to_keep = [x for x in neoepi.query('label==\"Positive\"').HLA.unique() if 'D' not in x]\n",
    "neoepi = neoepi.query('HLA in @hlas_to_keep')\n",
    "print(f'Before: {init_len}, After: {len(neoepi)}')\n",
    "neoepi.HLA = neoepi.HLA.apply(lambda x: x.replace('*',''))\n",
    "neoepi.to_csv('../data/cedar_neoepi_220701.csv', index=False)\n",
    "display(neoepi.head())"
   ]
  },
  {
   "cell_type": "code",
   "execution_count": 76,
   "id": "36bfd730-9410-4e3f-9e64-b663d36f767e",
   "metadata": {
    "collapsed": true,
    "jupyter": {
     "outputs_hidden": true
    },
    "tags": []
   },
   "outputs": [
    {
     "data": {
      "text/plain": [
       "'HLA-B40:02 HLA-B44:03 HLA-B44:08 HLA-B44:02 HLA-A02:01 HLA-A11:01 HLA-A03:01 HLA-A11:02 HLA-B07:02 HLA-A02:06 HLA-B15:01 HLA-C12:03 HLA-C07:02 HLA-A02:05 HLA-A24:02 HLA-A30:01 HLA-A68:02 HLA-C14:03 HLA-B51:01 HLA-A25:01 HLA-B18:01 HLA-B40:01 HLA-C06:02 HLA-B08:01 HLA-A26:01 HLA-B27:05 HLA-A31:01 HLA-B35:01 HLA-A29:02 HLA-C05:01 HLA-A02:24 HLA-C03:04 HLA-A02:03 HLA-B56:01 HLA-B39:01 HLA-C03:03 HLA-C08:02 HLA-A02:11 HLA-C15:02 HLA-B37:01 HLA-B38:01 HLA-A68:01 HLA-C12:02 HLA-A33:01 HLA-A01:01 HLA-C01:02 HLA-B13:02 HLA-C07:01 HLA-A30:02 HLA-B52:01 HLA-A02:10 HLA-B39:06 HLA-B35:03 HLA-A69:01 HLA-B41:02 HLA-B57:01 HLA-A03:02 HLA-A02:02 HLA-C14:02 HLA-B54:01 HLA-B37:04 HLA-B49:01 HLA-C04:01'"
      ]
     },
     "execution_count": 76,
     "metadata": {},
     "output_type": "execute_result"
    }
   ],
   "source": [
    "' '.join([x.replace('*','') for x in hlas_to_keep])"
   ]
  },
  {
   "cell_type": "code",
   "execution_count": 183,
   "id": "156e2500-8161-4e4d-9213-50a0b0c32410",
   "metadata": {
    "tags": []
   },
   "outputs": [],
   "source": [
    "# Exporting results for NetMHCpan, then rereading the xls results\n",
    "neoepi['Peptide'].to_csv('../data/cedar_neoepitope_220701.pep', index=False, header=False)\n",
    "# rereading and getting the best predicted HLA\n",
    "neoepi_xls = read_netmhcpan_results('../data/cedar_neoepitope_220701.pep.xls')\n",
    "best_xls = get_filtered_df(filter_rank(neoepi_xls, 'EL_Rank'), neoepi_xls)\n",
    "# Renaming for merging\n",
    "best_xls.rename(columns={'HLA':'pred_HLA',\n",
    "                         'EL_rank':'pred_EL_rank',\n",
    "                         'EL_score':'pred_EL_score'}, inplace=True)\n"
   ]
  },
  {
   "cell_type": "code",
   "execution_count": 256,
   "id": "9e6c1fbd-97fc-4432-88da-b5b6244b3435",
   "metadata": {
    "tags": []
   },
   "outputs": [],
   "source": [
    "# finding EL rank for True HLA as well\n",
    "neoepi.reset_index(inplace=True, drop=True)\n",
    "neoepi['trueHLA_EL_rank']=neoepi.apply(find_rank_HLA, args=(neoepi_xls, _), axis=1)\n",
    "neoepi_scored=neoepi.merge(best_xls.drop(columns=['Peptide']), left_index=True,right_index=True)\n",
    "neoepi_scored.to_csv('../data/cedar_neoepitope_220701_scored.csv', index=False)"
   ]
  },
  {
   "cell_type": "markdown",
   "id": "4286261c-0c26-453e-8258-09d682f74706",
   "metadata": {
    "jp-MarkdownHeadingCollapsed": true,
    "tags": []
   },
   "source": [
    "## checking peps in old vs new dataset"
   ]
  },
  {
   "cell_type": "code",
   "execution_count": 17,
   "id": "9af45583-a289-4d3f-ba60-b14f925c7ec1",
   "metadata": {
    "tags": []
   },
   "outputs": [],
   "source": [
    "old_peps = cedar_old.Peptide.values\n",
    "# flc == flatten level columns\n",
    "old_raw = flc(pd.read_csv('../data/raw_exports/epitope_export_mhc1_TCR-MHC_220510.csv', header = [0,1]))\n",
    "old_raw.query('epitope_description in @old_peps').to_csv('../data/raw_exports/220510_CEDAR_epitope_exports_mhc1_TCR.csv')"
   ]
  },
  {
   "cell_type": "code",
   "execution_count": 5,
   "id": "a655affe-c14d-4c5b-895c-82c9432a094b",
   "metadata": {},
   "outputs": [
    {
     "data": {
      "text/plain": [
       "(0, 0)"
      ]
     },
     "execution_count": 5,
     "metadata": {},
     "output_type": "execute_result"
    }
   ],
   "source": [
    "neoepi_scored = pd.read_csv('../data/cedar_neoepitope_220701_scored.csv')\n",
    "cedar_old = pd.read_csv('../data/cedar_netmhc_scored.csv')\n",
    "old_peps = cedar_old.Peptide.values\n",
    "new_peps = neoepi_scored.Peptide.values\n",
    "not_in_new = [x for x in old_peps if x not in new_peps]\n",
    "cat = pd.concat([cedar_old.query('Peptide not in @new_peps')[['Peptide', 'HLA', 'total_count', 'len', 'agg_label','percentage_pos']],\n",
    "                 neoepi_scored[['Peptide', 'HLA', 'total_count', 'len', 'agg_label','percentage_pos']]])\n",
    "neo_full = pd.read_excel('../data/raw_exports/neo_JUN2022_full_res.xlsx', sheet_name = 'full')\n",
    "neo_epi = pd.read_excel('../data/raw_exports/neo_JUN2022_full_res.xlsx', sheet_name = 'epitopes')\n",
    "\n",
    "cat['Peptide'].to_csv('../data/cedar_all.pep', index=False,header=False)\n",
    "len(neo_full.query('Epitope_Description==\"AAGIGILTV\"')), len(neo_epi.query('Epitope_Description==\"AAGIGILTV\"'))"
   ]
  },
  {
   "cell_type": "code",
   "execution_count": 69,
   "id": "2505c98e-d2a1-40d5-a54a-7a4579c8ae9e",
   "metadata": {
    "collapsed": true,
    "jupyter": {
     "outputs_hidden": true
    },
    "tags": []
   },
   "outputs": [
    {
     "data": {
      "text/html": [
       "<div>\n",
       "<style scoped>\n",
       "    .dataframe tbody tr th:only-of-type {\n",
       "        vertical-align: middle;\n",
       "    }\n",
       "\n",
       "    .dataframe tbody tr th {\n",
       "        vertical-align: top;\n",
       "    }\n",
       "\n",
       "    .dataframe thead th {\n",
       "        text-align: right;\n",
       "    }\n",
       "</style>\n",
       "<table border=\"1\" class=\"dataframe\">\n",
       "  <thead>\n",
       "    <tr style=\"text-align: right;\">\n",
       "      <th></th>\n",
       "      <th>Peptide</th>\n",
       "      <th>HLA</th>\n",
       "      <th>total_count</th>\n",
       "      <th>len</th>\n",
       "      <th>percentage_pos</th>\n",
       "    </tr>\n",
       "    <tr>\n",
       "      <th>agg_label</th>\n",
       "      <th></th>\n",
       "      <th></th>\n",
       "      <th></th>\n",
       "      <th></th>\n",
       "      <th></th>\n",
       "    </tr>\n",
       "  </thead>\n",
       "  <tbody>\n",
       "    <tr>\n",
       "      <th>0</th>\n",
       "      <td>3187</td>\n",
       "      <td>3187</td>\n",
       "      <td>3187</td>\n",
       "      <td>3187</td>\n",
       "      <td>3187</td>\n",
       "    </tr>\n",
       "    <tr>\n",
       "      <th>1</th>\n",
       "      <td>969</td>\n",
       "      <td>969</td>\n",
       "      <td>969</td>\n",
       "      <td>969</td>\n",
       "      <td>969</td>\n",
       "    </tr>\n",
       "  </tbody>\n",
       "</table>\n",
       "</div>"
      ],
      "text/plain": [
       "           Peptide   HLA  total_count   len  percentage_pos\n",
       "agg_label                                                  \n",
       "0             3187  3187         3187  3187            3187\n",
       "1              969   969          969   969             969"
      ]
     },
     "metadata": {},
     "output_type": "display_data"
    },
    {
     "name": "stdout",
     "output_type": "stream",
     "text": [
      "954\n"
     ]
    }
   ],
   "source": [
    "display(cat.groupby('agg_label').count())\n",
    "cat['Peptide'].to_csv('../data/cedar_all.pep', index=False,header=False)\n",
    "print(len(cat.query('agg_label==1').Peptide.unique()))"
   ]
  },
  {
   "cell_type": "code",
   "execution_count": 112,
   "id": "fe0af00c-65cb-419f-bdde-42412277c2c6",
   "metadata": {
    "tags": []
   },
   "outputs": [],
   "source": [
    "# re-reading and cat the old/new and resetting index to match the one in XLS\n",
    "cedar_old = pd.read_csv('../data/cedar_netmhc_scored.csv')\n",
    "old_peps = cedar_old.Peptide.values\n",
    "new_peps = neoepi_scored.Peptide.values\n",
    "not_in_new = [x for x in old_peps if x not in new_peps]\n",
    "cat = pd.concat([cedar_old.query('Peptide not in @new_peps')[['Peptide', 'HLA', 'total_count', 'len', 'agg_label','percentage_pos']],\n",
    "                 neoepi_scored[['Peptide', 'HLA', 'total_count', 'len', 'agg_label','percentage_pos']]])\n",
    "cat.reset_index(inplace=True, drop = True)"
   ]
  },
  {
   "cell_type": "code",
   "execution_count": 117,
   "id": "c85c6fce-6f97-4d55-b2b0-3efc52236102",
   "metadata": {
    "tags": []
   },
   "outputs": [],
   "source": [
    "cat['Peptide'].to_csv('../../../nnalign/data/cedar_concat.pep', index=False, header=False)\n",
    "# Exporting results for NetMHCpan, then rereading the xls results\n",
    "# rereading and getting the best predicted HLA\n",
    "cat_xls = read_netmhcpan_results('../data/cedar_concat.pep.xls')\n",
    "best_xls = get_filtered_df(filter_rank(cat_xls, 'EL_Rank'), cat_xls)\n",
    "# Renaming for merging\n",
    "best_xls.rename(columns={'HLA':'pred_HLA',\n",
    "                         'EL_rank':'pred_EL_rank',\n",
    "                         'EL_score':'pred_EL_score'}, inplace=True)\n",
    "# finding EL rank for True HLA as well\n",
    "hlas = cat.query('agg_label==1')['HLA'].unique()\n",
    "cat = cat.query('HLA in @hlas')\n",
    "cat['trueHLA_EL_rank']=cat.apply(find_rank_HLA, args=(cat_xls.loc[cat.index], _), axis=1)"
   ]
  },
  {
   "cell_type": "code",
   "execution_count": null,
   "id": "555f6fcc-7575-4a66-a13f-e765dbdc2f04",
   "metadata": {},
   "outputs": [],
   "source": [
    "cat.to_csv('../data/cedar_concat_scored.csv', index=False)"
   ]
  },
  {
   "cell_type": "markdown",
   "id": "e2fcdd01-9f43-47c6-bb41-81e72c42d621",
   "metadata": {
    "tags": []
   },
   "source": [
    "## quick HLA and ranks checks"
   ]
  },
  {
   "cell_type": "code",
   "execution_count": 2,
   "id": "663cc9bf-6d64-4313-9045-64e31a53a8af",
   "metadata": {},
   "outputs": [],
   "source": [
    "neoepi_scored=pd.read_csv('../data/cedar_neoepitope_220701_scored.csv')"
   ]
  },
  {
   "cell_type": "code",
   "execution_count": 211,
   "id": "e8b98a5b-12c0-4a5d-8eda-cfab2920ce9e",
   "metadata": {
    "collapsed": true,
    "jupyter": {
     "outputs_hidden": true
    },
    "tags": []
   },
   "outputs": [
    {
     "name": "stdout",
     "output_type": "stream",
     "text": [
      "CEDAR:\n",
      "Amount of correctly predicted HLAs (full reso):24.826%\n",
      "Amount of correctly predicted HLAs (supertype):48.636%\n",
      "Amount of total peptides:\t3738\n",
      "Amount of correct HLA (fullres):928\n",
      "Amount of correct supertypes:\t1818\n",
      "Amount of wrong (fullres):\t2810\n"
     ]
    },
    {
     "data": {
      "text/html": [
       "<th style=\"text-align:center\"><td style=\"vertical-align:top\"><h2></h2><table style=\"display:inline\" border=\"1\" class=\"dataframe\">\n",
       "  <thead>\n",
       "    <tr style=\"text-align: right;\">\n",
       "      <th></th>\n",
       "      <th>Peptide</th>\n",
       "      <th>HLA</th>\n",
       "      <th>pred_HLA</th>\n",
       "      <th>pred_EL_rank</th>\n",
       "    </tr>\n",
       "  </thead>\n",
       "  <tbody>\n",
       "    <tr>\n",
       "      <th>2542</th>\n",
       "      <td>RPRCLCTAV</td>\n",
       "      <td>HLA-B07:02</td>\n",
       "      <td>HLA-B07:02</td>\n",
       "      <td>0.1937</td>\n",
       "    </tr>\n",
       "    <tr>\n",
       "      <th>2052</th>\n",
       "      <td>MLSSNVINF</td>\n",
       "      <td>HLA-B15:01</td>\n",
       "      <td>HLA-B15:01</td>\n",
       "      <td>0.3065</td>\n",
       "    </tr>\n",
       "    <tr>\n",
       "      <th>1900</th>\n",
       "      <td>LRFSIIEEF</td>\n",
       "      <td>HLA-B27:05</td>\n",
       "      <td>HLA-B27:05</td>\n",
       "      <td>0.0153</td>\n",
       "    </tr>\n",
       "    <tr>\n",
       "      <th>1606</th>\n",
       "      <td>KTYETTLEK</td>\n",
       "      <td>HLA-A11:01</td>\n",
       "      <td>HLA-A11:01</td>\n",
       "      <td>0.0018</td>\n",
       "    </tr>\n",
       "    <tr>\n",
       "      <th>1736</th>\n",
       "      <td>LLFAPEYGPK</td>\n",
       "      <td>HLA-A03:01</td>\n",
       "      <td>HLA-A03:01</td>\n",
       "      <td>0.7274</td>\n",
       "    </tr>\n",
       "    <tr>\n",
       "      <th>1832</th>\n",
       "      <td>LMRDHMPPV</td>\n",
       "      <td>HLA-A02:03</td>\n",
       "      <td>HLA-A02:03</td>\n",
       "      <td>0.0817</td>\n",
       "    </tr>\n",
       "  </tbody>\n",
       "</table style=\"display:inline\"></td></th><th style=\"text-align:center\"><td style=\"vertical-align:top\"><h2></h2><table style=\"display:inline\" border=\"1\" class=\"dataframe\">\n",
       "  <thead>\n",
       "    <tr style=\"text-align: right;\">\n",
       "      <th></th>\n",
       "      <th>Peptide</th>\n",
       "      <th>HLA</th>\n",
       "      <th>pred_HLA</th>\n",
       "      <th>pred_EL_rank</th>\n",
       "      <th>trueHLA_EL_rank</th>\n",
       "    </tr>\n",
       "  </thead>\n",
       "  <tbody>\n",
       "    <tr>\n",
       "      <th>2420</th>\n",
       "      <td>RIAQCFLRV</td>\n",
       "      <td>HLA-A02:01</td>\n",
       "      <td>HLA-B13:02</td>\n",
       "      <td>0.7737</td>\n",
       "      <td>1.2625</td>\n",
       "    </tr>\n",
       "    <tr>\n",
       "      <th>889</th>\n",
       "      <td>GLMSNTPTPR</td>\n",
       "      <td>HLA-A11:01</td>\n",
       "      <td>HLA-A03:02</td>\n",
       "      <td>0.815</td>\n",
       "      <td>2.2515</td>\n",
       "    </tr>\n",
       "    <tr>\n",
       "      <th>821</th>\n",
       "      <td>FWLFWGLTYI</td>\n",
       "      <td>HLA-A02:01</td>\n",
       "      <td>HLA-A02:03</td>\n",
       "      <td>0.4925</td>\n",
       "      <td>0.6774</td>\n",
       "    </tr>\n",
       "    <tr>\n",
       "      <th>857</th>\n",
       "      <td>GIPENSFNV</td>\n",
       "      <td>HLA-A02:01</td>\n",
       "      <td>HLA-A02:10</td>\n",
       "      <td>0.1622</td>\n",
       "      <td>0.3659</td>\n",
       "    </tr>\n",
       "    <tr>\n",
       "      <th>1905</th>\n",
       "      <td>LRNSGGEVF</td>\n",
       "      <td>HLA-B27:05</td>\n",
       "      <td>HLA-C07:01</td>\n",
       "      <td>0.1299</td>\n",
       "      <td>0.4387</td>\n",
       "    </tr>\n",
       "    <tr>\n",
       "      <th>721</th>\n",
       "      <td>FPLTASKVL</td>\n",
       "      <td>HLA-B35:01</td>\n",
       "      <td>HLA-B35:03</td>\n",
       "      <td>0.0067</td>\n",
       "      <td>0.0732</td>\n",
       "    </tr>\n",
       "  </tbody>\n",
       "</table style=\"display:inline\"></td></th>"
      ]
     },
     "metadata": {},
     "output_type": "display_data"
    }
   ],
   "source": [
    "from src.utils import display_side\n",
    "correct = neoepi_scored.loc[neoepi_scored['HLA']==neoepi_scored['pred_HLA']][['Peptide', 'HLA', 'pred_HLA', 'pred_EL_rank']]\n",
    "correct_supertype = neoepi_scored.loc[neoepi_scored.apply(lambda x: x['HLA'][:7]==x['pred_HLA'][:7], axis=1)]\n",
    "wrong = neoepi_scored.loc[neoepi_scored['HLA']!=neoepi_scored['pred_HLA']][['Peptide', 'HLA', 'pred_HLA', 'pred_EL_rank', 'trueHLA_EL_rank']]\n",
    "print(f\"CEDAR:\\nAmount of correctly predicted HLAs (full reso):{len(correct)/len(neoepi_scored):.3%}\")\n",
    "print(f\"Amount of correctly predicted HLAs (supertype):{len(correct_supertype)/len(neoepi_scored):.3%}\")\n",
    "\n",
    "\n",
    "print(f\"Amount of total peptides:\\t{len(neoepi_scored)}\\n\"\\\n",
    "      f\"Amount of correct HLA (fullres):{len(correct)}\\n\"\\\n",
    "      f\"Amount of correct supertypes:\\t{len(correct_supertype)}\\n\"\\\n",
    "      f\"Amount of wrong (fullres):\\t{len(wrong)}\")\n",
    "display_side(correct.sample(6, random_state=13), wrong.sample(6, random_state=13))"
   ]
  },
  {
   "cell_type": "code",
   "execution_count": 381,
   "id": "2d0791f6-6c71-4d03-ad34-68a0fa2154bd",
   "metadata": {},
   "outputs": [],
   "source": [
    "df = pd.read_csv('../data/cedar_neoepitope_220701_scored.csv')\n",
    "len(df), len(df.query('trueHLA_EL_rank>20'))\n",
    "ratios = {x:y for x,y in zip([8,9,10,11,12],df.groupby('len').count()['Peptide'].values/len(df))}"
   ]
  },
  {
   "cell_type": "code",
   "execution_count": 394,
   "id": "55e0236f-ff6e-42fd-a0ac-bfec78dd816e",
   "metadata": {
    "collapsed": true,
    "jupyter": {
     "outputs_hidden": true
    },
    "tags": []
   },
   "outputs": [
    {
     "data": {
      "text/plain": [
       "(-2.0, 18.0)"
      ]
     },
     "execution_count": 394,
     "metadata": {},
     "output_type": "execute_result"
    },
    {
     "data": {
      "image/png": "[encoded data removed]",
      "text/plain": [
       "<Figure size 1080x720 with 1 Axes>"
      ]
     },
     "metadata": {},
     "output_type": "display_data"
    }
   ],
   "source": [
    "sns.set_palette('icefire', n_colors=2)\n",
    "f,a=plt.subplots(figsize=(6,4))\n",
    "df.groupby('agg_label')['trueHLA_EL_rank'].hist(bins=200,ax=a, legend=True)\n",
    "a.set_xlim([-2, 18])"
   ]
  },
  {
   "cell_type": "code",
   "execution_count": 400,
   "id": "989a2f71-355d-4635-81c4-ad211597763b",
   "metadata": {},
   "outputs": [],
   "source": [
    "from scipy.stats import mannwhitneyu, levene, wilcoxon"
   ]
  },
  {
   "cell_type": "code",
   "execution_count": 398,
   "id": "0b2da287-0ce5-4943-953d-b6de09863785",
   "metadata": {},
   "outputs": [],
   "source": [
    "ranks_negs = df.query('agg_label==0')['trueHLA_EL_rank'].values\n",
    "ranks_pos = df.query('agg_label==1')['trueHLA_EL_rank'].values"
   ]
  },
  {
   "cell_type": "code",
   "execution_count": 401,
   "id": "4b8cb147-b0b9-4cef-97fd-8c0aefc1acb7",
   "metadata": {
    "tags": []
   },
   "outputs": [
    {
     "ename": "ValueError",
     "evalue": "The samples x and y must have the same length.",
     "output_type": "error",
     "traceback": [
      "\u001b[1;31m---------------------------------------------------------------------------\u001b[0m",
      "\u001b[1;31mValueError\u001b[0m                                Traceback (most recent call last)",
      "Input \u001b[1;32mIn [401]\u001b[0m, in \u001b[0;36m<cell line: 3>\u001b[1;34m()\u001b[0m\n\u001b[0;32m      1\u001b[0m levene(ranks_negs, ranks_pos)\n\u001b[0;32m      2\u001b[0m mannwhitneyu(ranks_negs,ranks_pos) \n\u001b[1;32m----> 3\u001b[0m \u001b[43mwilcoxon\u001b[49m\u001b[43m(\u001b[49m\u001b[43mranks_negs\u001b[49m\u001b[43m,\u001b[49m\u001b[43mranks_pos\u001b[49m\u001b[43m)\u001b[49m\n",
      "File \u001b[1;32m~\\anaconda3\\envs\\phd\\lib\\site-packages\\scipy\\stats\\morestats.py:3129\u001b[0m, in \u001b[0;36mwilcoxon\u001b[1;34m(x, y, zero_method, correction, alternative, mode)\u001b[0m\n\u001b[0;32m   3127\u001b[0m         \u001b[38;5;28;01mraise\u001b[39;00m \u001b[38;5;167;01mValueError\u001b[39;00m(\u001b[38;5;124m'\u001b[39m\u001b[38;5;124mSamples x and y must be one-dimensional.\u001b[39m\u001b[38;5;124m'\u001b[39m)\n\u001b[0;32m   3128\u001b[0m     \u001b[38;5;28;01mif\u001b[39;00m \u001b[38;5;28mlen\u001b[39m(x) \u001b[38;5;241m!=\u001b[39m \u001b[38;5;28mlen\u001b[39m(y):\n\u001b[1;32m-> 3129\u001b[0m         \u001b[38;5;28;01mraise\u001b[39;00m \u001b[38;5;167;01mValueError\u001b[39;00m(\u001b[38;5;124m'\u001b[39m\u001b[38;5;124mThe samples x and y must have the same length.\u001b[39m\u001b[38;5;124m'\u001b[39m)\n\u001b[0;32m   3130\u001b[0m     d \u001b[38;5;241m=\u001b[39m x \u001b[38;5;241m-\u001b[39m y\n\u001b[0;32m   3132\u001b[0m \u001b[38;5;28;01mif\u001b[39;00m mode \u001b[38;5;241m==\u001b[39m \u001b[38;5;124m\"\u001b[39m\u001b[38;5;124mauto\u001b[39m\u001b[38;5;124m\"\u001b[39m:\n",
      "\u001b[1;31mValueError\u001b[0m: The samples x and y must have the same length."
     ]
    }
   ],
   "source": [
    "levene(ranks_negs, ranks_pos)\n",
    "mannwhitneyu(ranks_negs,ranks_pos) \n",
    "wilcoxon(ranks_negs,ranks_pos) "
   ]
  },
  {
   "cell_type": "code",
   "execution_count": 241,
   "id": "b484b229-8e6d-4beb-a1a9-26d2c47b5d20",
   "metadata": {
    "collapsed": true,
    "jupyter": {
     "outputs_hidden": true
    },
    "tags": []
   },
   "outputs": [
    {
     "data": {
      "text/plain": [
       "<matplotlib.legend.Legend at 0x2568aae9700>"
      ]
     },
     "execution_count": 241,
     "metadata": {},
     "output_type": "execute_result"
    },
    {
     "data": {
      "image/png": "[encoded data removed]",
      "text/plain": [
       "<Figure size 1080x630 with 1 Axes>"
      ]
     },
     "metadata": {},
     "output_type": "display_data"
    }
   ],
   "source": [
    "f,a = plt.subplots(1,1, figsize=(6,3.5))\n",
    "correct['pred_EL_rank'].plot(kind='kde',ax=a, label='correct HLA EL rank', alpha=0.5)\n",
    "wrong['trueHLA_EL_rank'].plot(kind='kde',ax=a, label = 'True HLA EL rank for wrong pred')\n",
    "wrong['pred_EL_rank'].plot(kind='kde', ax=a, label = 'predicted HLA EL rank for wrong pred', alpha=0.5)\n",
    "a.set_xlim([-2,20])\n",
    "a.set_title('EL rank distribution for correctly and wrongly predicted HLAs')\n",
    "a.legend()"
   ]
  },
  {
   "cell_type": "markdown",
   "id": "619be24a-5d0e-4493-862d-828ee42e272a",
   "metadata": {
    "tags": []
   },
   "source": [
    "## old"
   ]
  },
  {
   "cell_type": "raw",
   "id": "98380e17-2039-4bfd-84a2-b9199008f7ca",
   "metadata": {
    "jupyter": {
     "outputs_hidden": true
    },
    "tags": []
   },
   "source": [
    "negs_hp = pd.read_csv('../data/human_proteome_negs_n5_hobohm1_rs13')\n",
    "negs_hp[['agg_label','percentage_pos','total_count', 'len','dataset']] = 0, 0, 1, negs_hp['Peptide'].apply(len), 'hp'\n",
    "cat_columns = ['Peptide', 'HLA', 'len', 'agg_label', 'percentage_pos', 'total_count', 'dataset']\n",
    "neoepi['dataset'] = 'cedar'\n",
    "neoepi_hp = pd.concat([neoepi.drop(index=neoepi.loc[neoepi.HLA.str.contains(\"D\")].index).query('agg_label==1'), negs_hp])[cat_columns]\n",
    "neoepi_hp.sample(7)"
   ]
  },
  {
   "cell_type": "raw",
   "id": "c8bd62d2-ea53-4d44-9256-d6c0de3d9819",
   "metadata": {
    "tags": []
   },
   "source": [
    "neoepi_hp.to_csv('../data/cedar_neoepi_hpneg.csv', index=False)\n",
    "neoepi_hp[['Peptide', 'agg_label']].to_csv('../../../nnalign/data/cedar_neoepi_hpneg.pep', index=False, header=False, sep='\\t')"
   ]
  },
  {
   "cell_type": "code",
   "execution_count": null,
   "id": "32ad3e1c-80d9-48a3-ba8a-c94d0bf51ae8",
   "metadata": {},
   "outputs": [],
   "source": []
  },
  {
   "cell_type": "markdown",
   "id": "9e764c5d-b2d9-4b35-aa5e-130e937e2d6e",
   "metadata": {
    "tags": []
   },
   "source": [
    "## saving datasets to pep for nnalign"
   ]
  },
  {
   "cell_type": "code",
   "execution_count": 3,
   "id": "f2489771-d3e0-422a-b778-25e703dc81cf",
   "metadata": {},
   "outputs": [],
   "source": [
    "cat = pd.read_csv('../data/cedar_concat_scored.csv')"
   ]
  },
  {
   "cell_type": "code",
   "execution_count": 257,
   "id": "e3fd7e98-b801-4d80-ae93-3a3eb8ff2325",
   "metadata": {},
   "outputs": [],
   "source": [
    "neoepi_scored[['Peptide', 'agg_label']].to_csv('../../../nnalign/data/cedar_neoepitope_220701_scored.pep', \n",
    "                                               sep='\\t',index=False, header=False)"
   ]
  },
  {
   "cell_type": "code",
   "execution_count": 18,
   "id": "8694e40f-6945-4bc7-8183-6806fb5f25a7",
   "metadata": {},
   "outputs": [],
   "source": [
    "neoepi_refined = pd.concat([neoepi_scored.query('agg_label==1'), neoepi_scored.query('agg_label==0 and total_count>1')])\n",
    "neoepi_refined[['Peptide', 'agg_label']].to_csv('../../../nnalign/data/cedar_neoepitope_220701_scored_refined.pep',\n",
    "                                                sep = '\\t', index=False, header=False)"
   ]
  },
  {
   "cell_type": "code",
   "execution_count": 132,
   "id": "f52d94d8-4ee0-49b0-afa6-f6e97202d636",
   "metadata": {},
   "outputs": [],
   "source": [
    "cat[['Peptide', 'agg_label']].to_csv('../../../nnalign/data/cedar_concat_scored.pep', \n",
    "                                     sep = '\\t', index=False, header=False)"
   ]
  },
  {
   "cell_type": "markdown",
   "id": "c40af96b-dd8d-473c-8708-93954d1438ca",
   "metadata": {},
   "source": [
    "## Adding HP"
   ]
  }
 ],
 "metadata": {
  "kernelspec": {
   "display_name": "Python [conda env:phd] *",
   "language": "python",
   "name": "conda-env-phd-py"
  },
  "language_info": {
   "codemirror_mode": {
    "name": "ipython",
    "version": 3
   },
   "file_extension": ".py",
   "mimetype": "text/x-python",
   "name": "python",
   "nbconvert_exporter": "python",
   "pygments_lexer": "ipython3",
   "version": "3.9.12"
  }
 },
 "nbformat": 4,
 "nbformat_minor": 5
}
